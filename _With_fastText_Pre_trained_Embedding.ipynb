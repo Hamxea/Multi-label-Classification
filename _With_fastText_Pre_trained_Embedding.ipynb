{
  "nbformat": 4,
  "nbformat_minor": 0,
  "metadata": {
    "colab": {
      "name": "_With_fastText_Pre_trained_Embedding.ipynb",
      "version": "0.3.2",
      "provenance": [],
      "collapsed_sections": [],
      "toc_visible": true,
      "include_colab_link": true
    },
    "language_info": {
      "codemirror_mode": {
        "name": "ipython",
        "version": 3
      },
      "file_extension": ".py",
      "mimetype": "text/x-python",
      "name": "python",
      "nbconvert_exporter": "python",
      "pygments_lexer": "ipython3",
      "version": "3.7.3"
    },
    "kernelspec": {
      "display_name": "Python 3",
      "language": "python",
      "name": "python3"
    },
    "accelerator": "TPU"
  },
  "cells": [
    {
      "cell_type": "markdown",
      "metadata": {
        "id": "view-in-github",
        "colab_type": "text"
      },
      "source": [
        "<a href=\"https://colab.research.google.com/github/Hamxea/Multi-label-Classification/blob/master/_With_fastText_Pre_trained_Embedding.ipynb\" target=\"_parent\"><img src=\"https://colab.research.google.com/assets/colab-badge.svg\" alt=\"Open In Colab\"/></a>"
      ]
    },
    {
      "cell_type": "markdown",
      "metadata": {
        "colab_type": "text",
        "id": "JnB0s1tPejbl"
      },
      "source": [
        "# Multi-Label Text Classification of Text Document or News\n"
      ]
    },
    {
      "cell_type": "markdown",
      "metadata": {
        "colab_type": "text",
        "id": "fKccKTR_ejbm"
      },
      "source": [
        " ### DATASET\n",
        "\n",
        "Toxic Comment Classification dataset. a multi-label text classfication data consisting of many wikipedia comments which have been labeled by humans according to their relative toxicity comments labels such as \"toxic\", \"severe_toxic\", \"obscene\", \"threat\", \"insult\", and  \"identity_hate\". The dataset has approximately ~160k observation in total, ~125k with zero labels (toxicity) of any type, and approximately ~35k classified in one or more toxicity categories.\n",
        "\n",
        "\n",
        "\n",
        "\n",
        "*   Dataset Link: https://www.kaggle.com/c/jigsaw-toxic-comment-classification-challenge\n",
        "\n",
        "\n"
      ]
    },
    {
      "cell_type": "markdown",
      "metadata": {
        "colab_type": "text",
        "id": "h4oWa1Aqejbn"
      },
      "source": [
        "\n",
        "#### DATA CHARACTERISTICS (TRAIN DATASET)\n",
        "* Number of data points\t159571\n",
        "* Number data points of type toxic\t15294\n",
        "* Number data points of type severe_tocic\t1595\n",
        "* Number data points of type obscene\t8449\n",
        "* Number data points of type threat\t478\n",
        "* Number data points of type insult\t7877\n",
        "* Number data points of type identity_hate\t1405\n",
        "* Observations in one or more class\t35098\n",
        "* Unclassified observation\t124473\n"
      ]
    },
    {
      "cell_type": "markdown",
      "metadata": {
        "colab_type": "text",
        "id": "NoB57aB6ejbo"
      },
      "source": [
        "### Import necessary libraries for the experiment"
      ]
    },
    {
      "cell_type": "code",
      "metadata": {
        "colab_type": "code",
        "id": "BXuDj-0Vejbp",
        "outputId": "e087d079-8710-4fc0-f792-26be6f6228be",
        "colab": {
          "base_uri": "https://localhost:8080/",
          "height": 230
        }
      },
      "source": [
        "# importing libraries\n",
        "import tensorflow as tf\n",
        "from keras import initializers, regularizers, constraints, optimizers, layers, callbacks\n",
        "from keras.callbacks import EarlyStopping,ModelCheckpoint\n",
        "from keras.preprocessing.text import Tokenizer\n",
        "from keras.preprocessing.sequence import pad_sequences\n",
        "from keras.preprocessing import text, sequence\n",
        "from keras import initializers, regularizers, constraints, optimizers, layers\n",
        "from keras.models import Model, Input, Sequential\n",
        "from keras.layers import Dense, Input, LSTM, SimpleRNN, Embedding, Dropout, SpatialDropout1D, Activation, Conv1D,GRU\n",
        "from keras.layers import Conv1D, Bidirectional, GlobalMaxPool1D, MaxPooling1D, BatchNormalization, Add, Flatten\n",
        "from keras.layers import GlobalMaxPooling1D, GlobalAveragePooling1D, concatenate, SpatialDropout1D\n",
        "from keras.optimizers import Adam\n",
        "from keras.utils.vis_utils import plot_model\n",
        "from sklearn.model_selection  import train_test_split\n",
        "#from sklearn.cross_validation import train_test_split\n",
        "\n",
        "\n",
        "# For custom metrics\n",
        "import keras.backend as K\n",
        "from keras.utils.vis_utils import plot_model\n",
        "from keras.callbacks import EarlyStopping \n",
        "\n",
        "\n",
        "import pandas as pd\n",
        "import numpy as np\n",
        " \n",
        "import matplotlib.pyplot as plt\n",
        "\n",
        "plt.style.use('seaborn')\n",
        "\n",
        "import seaborn as sns\n",
        "from IPython.display import Image\n",
        "\n",
        "from tqdm import tqdm\n",
        "from nltk.corpus import stopwords\n",
        "from nltk.tokenize import RegexpTokenizer \n",
        "import os, re, csv, math, codecs\n",
        "from nltk.tokenize import word_tokenize\n",
        "import string\n",
        "import gensim\n",
        "import os\n",
        "import re\n",
        "\n",
        "sns.set_style(\"whitegrid\")\n",
        "np.random.seed(0)\n",
        "\n",
        "import plotly.plotly as py\n",
        "import plotly.graph_objs as go\n",
        "import plotly\n",
        "plotly.tools.set_credentials_file(username='hamzasharoon', api_key='9le0c8M5GUNRAKyJoIt2')\n",
        "\n",
        "\n",
        "# Install dependencies\n",
        "!apt install graphviz\n",
        "!pip install pydot pydot-ng\n",
        "!echo \"Double check with Python 3\"\n",
        "!python -c \"import pydot\""
      ],
      "execution_count": 0,
      "outputs": [
        {
          "output_type": "stream",
          "text": [
            "Using TensorFlow backend.\n",
            "'apt' is not recognized as an internal or external command,\n",
            "operable program or batch file.\n"
          ],
          "name": "stderr"
        },
        {
          "output_type": "stream",
          "text": [
            "Requirement already satisfied: pydot in d:\\program files\\anaconda\\lib\\site-packages (1.4.1)\n",
            "Requirement already satisfied: pydot-ng in d:\\program files\\anaconda\\lib\\site-packages (2.0.0)\n",
            "Requirement already satisfied: pyparsing>=2.1.4 in d:\\program files\\anaconda\\lib\\site-packages (from pydot) (2.3.1)\n",
            "\"Double check with Python 3\"\n"
          ],
          "name": "stdout"
        }
      ]
    },
    {
      "cell_type": "code",
      "metadata": {
        "colab_type": "code",
        "id": "ClGBLAyTyw5C",
        "colab": {}
      },
      "source": [
        "#from google.colab import files\n",
        "#uploaded = files.upload()\n",
        "\n",
        "#from google.colab import drive\n",
        "#!kaggle competitions download -c Toxic Comment Classification Challenge -p /content/gdrive/My\\ Drive/kaggle/Colab Notebooks/Dataset"
      ],
      "execution_count": 0,
      "outputs": []
    },
    {
      "cell_type": "markdown",
      "metadata": {
        "colab_type": "text",
        "id": "Wbd_vQHxejbu"
      },
      "source": [
        "### Loading the necessary data files and data Preparation"
      ]
    },
    {
      "cell_type": "code",
      "metadata": {
        "colab_type": "code",
        "id": "6mdP52kqu-Kt",
        "outputId": "694a16dd-9247-4811-81f2-4dda194174fd",
        "colab": {
          "base_uri": "https://localhost:8080/",
          "height": 347
        }
      },
      "source": [
        "#Train data\n",
        "train = pd.read_csv('D:/çankaya/2ndYEAR/Thesis/Experiments/Data_Toxic Comment Classification/train.csv')\n",
        "train.head(10)"
      ],
      "execution_count": 0,
      "outputs": [
        {
          "output_type": "execute_result",
          "data": {
            "text/html": [
              "<div>\n",
              "<style scoped>\n",
              "    .dataframe tbody tr th:only-of-type {\n",
              "        vertical-align: middle;\n",
              "    }\n",
              "\n",
              "    .dataframe tbody tr th {\n",
              "        vertical-align: top;\n",
              "    }\n",
              "\n",
              "    .dataframe thead th {\n",
              "        text-align: right;\n",
              "    }\n",
              "</style>\n",
              "<table border=\"1\" class=\"dataframe\">\n",
              "  <thead>\n",
              "    <tr style=\"text-align: right;\">\n",
              "      <th></th>\n",
              "      <th>id</th>\n",
              "      <th>comment_text</th>\n",
              "      <th>toxic</th>\n",
              "      <th>severe_toxic</th>\n",
              "      <th>obscene</th>\n",
              "      <th>threat</th>\n",
              "      <th>insult</th>\n",
              "      <th>identity_hate</th>\n",
              "    </tr>\n",
              "  </thead>\n",
              "  <tbody>\n",
              "    <tr>\n",
              "      <th>0</th>\n",
              "      <td>0000997932d777bf</td>\n",
              "      <td>Explanation\\nWhy the edits made under my usern...</td>\n",
              "      <td>0</td>\n",
              "      <td>0</td>\n",
              "      <td>0</td>\n",
              "      <td>0</td>\n",
              "      <td>0</td>\n",
              "      <td>0</td>\n",
              "    </tr>\n",
              "    <tr>\n",
              "      <th>1</th>\n",
              "      <td>000103f0d9cfb60f</td>\n",
              "      <td>D'aww! He matches this background colour I'm s...</td>\n",
              "      <td>0</td>\n",
              "      <td>0</td>\n",
              "      <td>0</td>\n",
              "      <td>0</td>\n",
              "      <td>0</td>\n",
              "      <td>0</td>\n",
              "    </tr>\n",
              "    <tr>\n",
              "      <th>2</th>\n",
              "      <td>000113f07ec002fd</td>\n",
              "      <td>Hey man, I'm really not trying to edit war. It...</td>\n",
              "      <td>0</td>\n",
              "      <td>0</td>\n",
              "      <td>0</td>\n",
              "      <td>0</td>\n",
              "      <td>0</td>\n",
              "      <td>0</td>\n",
              "    </tr>\n",
              "    <tr>\n",
              "      <th>3</th>\n",
              "      <td>0001b41b1c6bb37e</td>\n",
              "      <td>\"\\nMore\\nI can't make any real suggestions on ...</td>\n",
              "      <td>0</td>\n",
              "      <td>0</td>\n",
              "      <td>0</td>\n",
              "      <td>0</td>\n",
              "      <td>0</td>\n",
              "      <td>0</td>\n",
              "    </tr>\n",
              "    <tr>\n",
              "      <th>4</th>\n",
              "      <td>0001d958c54c6e35</td>\n",
              "      <td>You, sir, are my hero. Any chance you remember...</td>\n",
              "      <td>0</td>\n",
              "      <td>0</td>\n",
              "      <td>0</td>\n",
              "      <td>0</td>\n",
              "      <td>0</td>\n",
              "      <td>0</td>\n",
              "    </tr>\n",
              "    <tr>\n",
              "      <th>5</th>\n",
              "      <td>00025465d4725e87</td>\n",
              "      <td>\"\\n\\nCongratulations from me as well, use the ...</td>\n",
              "      <td>0</td>\n",
              "      <td>0</td>\n",
              "      <td>0</td>\n",
              "      <td>0</td>\n",
              "      <td>0</td>\n",
              "      <td>0</td>\n",
              "    </tr>\n",
              "    <tr>\n",
              "      <th>6</th>\n",
              "      <td>0002bcb3da6cb337</td>\n",
              "      <td>COCKSUCKER BEFORE YOU PISS AROUND ON MY WORK</td>\n",
              "      <td>1</td>\n",
              "      <td>1</td>\n",
              "      <td>1</td>\n",
              "      <td>0</td>\n",
              "      <td>1</td>\n",
              "      <td>0</td>\n",
              "    </tr>\n",
              "    <tr>\n",
              "      <th>7</th>\n",
              "      <td>00031b1e95af7921</td>\n",
              "      <td>Your vandalism to the Matt Shirvington article...</td>\n",
              "      <td>0</td>\n",
              "      <td>0</td>\n",
              "      <td>0</td>\n",
              "      <td>0</td>\n",
              "      <td>0</td>\n",
              "      <td>0</td>\n",
              "    </tr>\n",
              "    <tr>\n",
              "      <th>8</th>\n",
              "      <td>00037261f536c51d</td>\n",
              "      <td>Sorry if the word 'nonsense' was offensive to ...</td>\n",
              "      <td>0</td>\n",
              "      <td>0</td>\n",
              "      <td>0</td>\n",
              "      <td>0</td>\n",
              "      <td>0</td>\n",
              "      <td>0</td>\n",
              "    </tr>\n",
              "    <tr>\n",
              "      <th>9</th>\n",
              "      <td>00040093b2687caa</td>\n",
              "      <td>alignment on this subject and which are contra...</td>\n",
              "      <td>0</td>\n",
              "      <td>0</td>\n",
              "      <td>0</td>\n",
              "      <td>0</td>\n",
              "      <td>0</td>\n",
              "      <td>0</td>\n",
              "    </tr>\n",
              "  </tbody>\n",
              "</table>\n",
              "</div>"
            ],
            "text/plain": [
              "                 id                                       comment_text  toxic  \\\n",
              "0  0000997932d777bf  Explanation\\nWhy the edits made under my usern...      0   \n",
              "1  000103f0d9cfb60f  D'aww! He matches this background colour I'm s...      0   \n",
              "2  000113f07ec002fd  Hey man, I'm really not trying to edit war. It...      0   \n",
              "3  0001b41b1c6bb37e  \"\\nMore\\nI can't make any real suggestions on ...      0   \n",
              "4  0001d958c54c6e35  You, sir, are my hero. Any chance you remember...      0   \n",
              "5  00025465d4725e87  \"\\n\\nCongratulations from me as well, use the ...      0   \n",
              "6  0002bcb3da6cb337       COCKSUCKER BEFORE YOU PISS AROUND ON MY WORK      1   \n",
              "7  00031b1e95af7921  Your vandalism to the Matt Shirvington article...      0   \n",
              "8  00037261f536c51d  Sorry if the word 'nonsense' was offensive to ...      0   \n",
              "9  00040093b2687caa  alignment on this subject and which are contra...      0   \n",
              "\n",
              "   severe_toxic  obscene  threat  insult  identity_hate  \n",
              "0             0        0       0       0              0  \n",
              "1             0        0       0       0              0  \n",
              "2             0        0       0       0              0  \n",
              "3             0        0       0       0              0  \n",
              "4             0        0       0       0              0  \n",
              "5             0        0       0       0              0  \n",
              "6             1        1       0       1              0  \n",
              "7             0        0       0       0              0  \n",
              "8             0        0       0       0              0  \n",
              "9             0        0       0       0              0  "
            ]
          },
          "metadata": {
            "tags": []
          },
          "execution_count": 3
        }
      ]
    },
    {
      "cell_type": "code",
      "metadata": {
        "id": "RVsuytZbDS8o",
        "colab_type": "code",
        "colab": {},
        "outputId": "e858282a-9903-4cee-8380-3a29b39bb013"
      },
      "source": [
        "train.describe()"
      ],
      "execution_count": 0,
      "outputs": [
        {
          "output_type": "execute_result",
          "data": {
            "text/html": [
              "<div>\n",
              "<style scoped>\n",
              "    .dataframe tbody tr th:only-of-type {\n",
              "        vertical-align: middle;\n",
              "    }\n",
              "\n",
              "    .dataframe tbody tr th {\n",
              "        vertical-align: top;\n",
              "    }\n",
              "\n",
              "    .dataframe thead th {\n",
              "        text-align: right;\n",
              "    }\n",
              "</style>\n",
              "<table border=\"1\" class=\"dataframe\">\n",
              "  <thead>\n",
              "    <tr style=\"text-align: right;\">\n",
              "      <th></th>\n",
              "      <th>toxic</th>\n",
              "      <th>severe_toxic</th>\n",
              "      <th>obscene</th>\n",
              "      <th>threat</th>\n",
              "      <th>insult</th>\n",
              "      <th>identity_hate</th>\n",
              "    </tr>\n",
              "  </thead>\n",
              "  <tbody>\n",
              "    <tr>\n",
              "      <th>count</th>\n",
              "      <td>159571.000000</td>\n",
              "      <td>159571.000000</td>\n",
              "      <td>159571.000000</td>\n",
              "      <td>159571.000000</td>\n",
              "      <td>159571.000000</td>\n",
              "      <td>159571.000000</td>\n",
              "    </tr>\n",
              "    <tr>\n",
              "      <th>mean</th>\n",
              "      <td>0.095844</td>\n",
              "      <td>0.009996</td>\n",
              "      <td>0.052948</td>\n",
              "      <td>0.002996</td>\n",
              "      <td>0.049364</td>\n",
              "      <td>0.008805</td>\n",
              "    </tr>\n",
              "    <tr>\n",
              "      <th>std</th>\n",
              "      <td>0.294379</td>\n",
              "      <td>0.099477</td>\n",
              "      <td>0.223931</td>\n",
              "      <td>0.054650</td>\n",
              "      <td>0.216627</td>\n",
              "      <td>0.093420</td>\n",
              "    </tr>\n",
              "    <tr>\n",
              "      <th>min</th>\n",
              "      <td>0.000000</td>\n",
              "      <td>0.000000</td>\n",
              "      <td>0.000000</td>\n",
              "      <td>0.000000</td>\n",
              "      <td>0.000000</td>\n",
              "      <td>0.000000</td>\n",
              "    </tr>\n",
              "    <tr>\n",
              "      <th>25%</th>\n",
              "      <td>0.000000</td>\n",
              "      <td>0.000000</td>\n",
              "      <td>0.000000</td>\n",
              "      <td>0.000000</td>\n",
              "      <td>0.000000</td>\n",
              "      <td>0.000000</td>\n",
              "    </tr>\n",
              "    <tr>\n",
              "      <th>50%</th>\n",
              "      <td>0.000000</td>\n",
              "      <td>0.000000</td>\n",
              "      <td>0.000000</td>\n",
              "      <td>0.000000</td>\n",
              "      <td>0.000000</td>\n",
              "      <td>0.000000</td>\n",
              "    </tr>\n",
              "    <tr>\n",
              "      <th>75%</th>\n",
              "      <td>0.000000</td>\n",
              "      <td>0.000000</td>\n",
              "      <td>0.000000</td>\n",
              "      <td>0.000000</td>\n",
              "      <td>0.000000</td>\n",
              "      <td>0.000000</td>\n",
              "    </tr>\n",
              "    <tr>\n",
              "      <th>max</th>\n",
              "      <td>1.000000</td>\n",
              "      <td>1.000000</td>\n",
              "      <td>1.000000</td>\n",
              "      <td>1.000000</td>\n",
              "      <td>1.000000</td>\n",
              "      <td>1.000000</td>\n",
              "    </tr>\n",
              "  </tbody>\n",
              "</table>\n",
              "</div>"
            ],
            "text/plain": [
              "               toxic   severe_toxic        obscene         threat  \\\n",
              "count  159571.000000  159571.000000  159571.000000  159571.000000   \n",
              "mean        0.095844       0.009996       0.052948       0.002996   \n",
              "std         0.294379       0.099477       0.223931       0.054650   \n",
              "min         0.000000       0.000000       0.000000       0.000000   \n",
              "25%         0.000000       0.000000       0.000000       0.000000   \n",
              "50%         0.000000       0.000000       0.000000       0.000000   \n",
              "75%         0.000000       0.000000       0.000000       0.000000   \n",
              "max         1.000000       1.000000       1.000000       1.000000   \n",
              "\n",
              "              insult  identity_hate  \n",
              "count  159571.000000  159571.000000  \n",
              "mean        0.049364       0.008805  \n",
              "std         0.216627       0.093420  \n",
              "min         0.000000       0.000000  \n",
              "25%         0.000000       0.000000  \n",
              "50%         0.000000       0.000000  \n",
              "75%         0.000000       0.000000  \n",
              "max         1.000000       1.000000  "
            ]
          },
          "metadata": {
            "tags": []
          },
          "execution_count": 4
        }
      ]
    },
    {
      "cell_type": "code",
      "metadata": {
        "id": "wlPiYRcJDS8s",
        "colab_type": "code",
        "colab": {},
        "outputId": "dc337208-0163-45c1-b4df-f72cd819dcb1"
      },
      "source": [
        "train = train.loc[(train['toxic'] == 1) | (train['severe_toxic'] == 1) | (train['obscene'] ==1) | (train['threat'] == 1) | (train['insult'] == 1) | (train['identity_hate'] ==1)]\n",
        "\n",
        "train.head(10)"
      ],
      "execution_count": 0,
      "outputs": [
        {
          "output_type": "execute_result",
          "data": {
            "text/html": [
              "<div>\n",
              "<style scoped>\n",
              "    .dataframe tbody tr th:only-of-type {\n",
              "        vertical-align: middle;\n",
              "    }\n",
              "\n",
              "    .dataframe tbody tr th {\n",
              "        vertical-align: top;\n",
              "    }\n",
              "\n",
              "    .dataframe thead th {\n",
              "        text-align: right;\n",
              "    }\n",
              "</style>\n",
              "<table border=\"1\" class=\"dataframe\">\n",
              "  <thead>\n",
              "    <tr style=\"text-align: right;\">\n",
              "      <th></th>\n",
              "      <th>id</th>\n",
              "      <th>comment_text</th>\n",
              "      <th>toxic</th>\n",
              "      <th>severe_toxic</th>\n",
              "      <th>obscene</th>\n",
              "      <th>threat</th>\n",
              "      <th>insult</th>\n",
              "      <th>identity_hate</th>\n",
              "    </tr>\n",
              "  </thead>\n",
              "  <tbody>\n",
              "    <tr>\n",
              "      <th>6</th>\n",
              "      <td>0002bcb3da6cb337</td>\n",
              "      <td>COCKSUCKER BEFORE YOU PISS AROUND ON MY WORK</td>\n",
              "      <td>1</td>\n",
              "      <td>1</td>\n",
              "      <td>1</td>\n",
              "      <td>0</td>\n",
              "      <td>1</td>\n",
              "      <td>0</td>\n",
              "    </tr>\n",
              "    <tr>\n",
              "      <th>12</th>\n",
              "      <td>0005c987bdfc9d4b</td>\n",
              "      <td>Hey... what is it..\\n@ | talk .\\nWhat is it......</td>\n",
              "      <td>1</td>\n",
              "      <td>0</td>\n",
              "      <td>0</td>\n",
              "      <td>0</td>\n",
              "      <td>0</td>\n",
              "      <td>0</td>\n",
              "    </tr>\n",
              "    <tr>\n",
              "      <th>16</th>\n",
              "      <td>0007e25b2121310b</td>\n",
              "      <td>Bye! \\n\\nDon't look, come or think of comming ...</td>\n",
              "      <td>1</td>\n",
              "      <td>0</td>\n",
              "      <td>0</td>\n",
              "      <td>0</td>\n",
              "      <td>0</td>\n",
              "      <td>0</td>\n",
              "    </tr>\n",
              "    <tr>\n",
              "      <th>42</th>\n",
              "      <td>001810bf8c45bf5f</td>\n",
              "      <td>You are gay or antisemmitian? \\n\\nArchangel WH...</td>\n",
              "      <td>1</td>\n",
              "      <td>0</td>\n",
              "      <td>1</td>\n",
              "      <td>0</td>\n",
              "      <td>1</td>\n",
              "      <td>1</td>\n",
              "    </tr>\n",
              "    <tr>\n",
              "      <th>43</th>\n",
              "      <td>00190820581d90ce</td>\n",
              "      <td>FUCK YOUR FILTHY MOTHER IN THE ASS, DRY!</td>\n",
              "      <td>1</td>\n",
              "      <td>0</td>\n",
              "      <td>1</td>\n",
              "      <td>0</td>\n",
              "      <td>1</td>\n",
              "      <td>0</td>\n",
              "    </tr>\n",
              "    <tr>\n",
              "      <th>44</th>\n",
              "      <td>001956c382006abd</td>\n",
              "      <td>I'm Sorry \\n\\nI'm sorry I screwed around with ...</td>\n",
              "      <td>1</td>\n",
              "      <td>0</td>\n",
              "      <td>0</td>\n",
              "      <td>0</td>\n",
              "      <td>0</td>\n",
              "      <td>0</td>\n",
              "    </tr>\n",
              "    <tr>\n",
              "      <th>51</th>\n",
              "      <td>001dc38a83d420cf</td>\n",
              "      <td>GET FUCKED UP. GET FUCKEEED UP.  GOT A DRINK T...</td>\n",
              "      <td>1</td>\n",
              "      <td>0</td>\n",
              "      <td>1</td>\n",
              "      <td>0</td>\n",
              "      <td>0</td>\n",
              "      <td>0</td>\n",
              "    </tr>\n",
              "    <tr>\n",
              "      <th>55</th>\n",
              "      <td>0020e7119b96eeeb</td>\n",
              "      <td>Stupid peace of shit stop deleting my stuff as...</td>\n",
              "      <td>1</td>\n",
              "      <td>1</td>\n",
              "      <td>1</td>\n",
              "      <td>0</td>\n",
              "      <td>1</td>\n",
              "      <td>0</td>\n",
              "    </tr>\n",
              "    <tr>\n",
              "      <th>56</th>\n",
              "      <td>0020fd96ed3b8c8b</td>\n",
              "      <td>=Tony Sidaway is obviously a fistfuckee. He lo...</td>\n",
              "      <td>1</td>\n",
              "      <td>0</td>\n",
              "      <td>1</td>\n",
              "      <td>0</td>\n",
              "      <td>1</td>\n",
              "      <td>0</td>\n",
              "    </tr>\n",
              "    <tr>\n",
              "      <th>58</th>\n",
              "      <td>0021fe88bc4da3e6</td>\n",
              "      <td>My Band Page's deletion. You thought I was gon...</td>\n",
              "      <td>1</td>\n",
              "      <td>0</td>\n",
              "      <td>1</td>\n",
              "      <td>0</td>\n",
              "      <td>0</td>\n",
              "      <td>0</td>\n",
              "    </tr>\n",
              "  </tbody>\n",
              "</table>\n",
              "</div>"
            ],
            "text/plain": [
              "                  id                                       comment_text  \\\n",
              "6   0002bcb3da6cb337       COCKSUCKER BEFORE YOU PISS AROUND ON MY WORK   \n",
              "12  0005c987bdfc9d4b  Hey... what is it..\\n@ | talk .\\nWhat is it......   \n",
              "16  0007e25b2121310b  Bye! \\n\\nDon't look, come or think of comming ...   \n",
              "42  001810bf8c45bf5f  You are gay or antisemmitian? \\n\\nArchangel WH...   \n",
              "43  00190820581d90ce           FUCK YOUR FILTHY MOTHER IN THE ASS, DRY!   \n",
              "44  001956c382006abd  I'm Sorry \\n\\nI'm sorry I screwed around with ...   \n",
              "51  001dc38a83d420cf  GET FUCKED UP. GET FUCKEEED UP.  GOT A DRINK T...   \n",
              "55  0020e7119b96eeeb  Stupid peace of shit stop deleting my stuff as...   \n",
              "56  0020fd96ed3b8c8b  =Tony Sidaway is obviously a fistfuckee. He lo...   \n",
              "58  0021fe88bc4da3e6  My Band Page's deletion. You thought I was gon...   \n",
              "\n",
              "    toxic  severe_toxic  obscene  threat  insult  identity_hate  \n",
              "6       1             1        1       0       1              0  \n",
              "12      1             0        0       0       0              0  \n",
              "16      1             0        0       0       0              0  \n",
              "42      1             0        1       0       1              1  \n",
              "43      1             0        1       0       1              0  \n",
              "44      1             0        0       0       0              0  \n",
              "51      1             0        1       0       0              0  \n",
              "55      1             1        1       0       1              0  \n",
              "56      1             0        1       0       1              0  \n",
              "58      1             0        1       0       0              0  "
            ]
          },
          "metadata": {
            "tags": []
          },
          "execution_count": 5
        }
      ]
    },
    {
      "cell_type": "code",
      "metadata": {
        "id": "xAZHAPPrDS8w",
        "colab_type": "code",
        "colab": {},
        "outputId": "d8884a5f-db56-4e19-f8f6-858ba44a7dea"
      },
      "source": [
        "train.describe()"
      ],
      "execution_count": 0,
      "outputs": [
        {
          "output_type": "execute_result",
          "data": {
            "text/html": [
              "<div>\n",
              "<style scoped>\n",
              "    .dataframe tbody tr th:only-of-type {\n",
              "        vertical-align: middle;\n",
              "    }\n",
              "\n",
              "    .dataframe tbody tr th {\n",
              "        vertical-align: top;\n",
              "    }\n",
              "\n",
              "    .dataframe thead th {\n",
              "        text-align: right;\n",
              "    }\n",
              "</style>\n",
              "<table border=\"1\" class=\"dataframe\">\n",
              "  <thead>\n",
              "    <tr style=\"text-align: right;\">\n",
              "      <th></th>\n",
              "      <th>toxic</th>\n",
              "      <th>severe_toxic</th>\n",
              "      <th>obscene</th>\n",
              "      <th>threat</th>\n",
              "      <th>insult</th>\n",
              "      <th>identity_hate</th>\n",
              "    </tr>\n",
              "  </thead>\n",
              "  <tbody>\n",
              "    <tr>\n",
              "      <th>count</th>\n",
              "      <td>16225.000000</td>\n",
              "      <td>16225.000000</td>\n",
              "      <td>16225.000000</td>\n",
              "      <td>16225.000000</td>\n",
              "      <td>16225.000000</td>\n",
              "      <td>16225.000000</td>\n",
              "    </tr>\n",
              "    <tr>\n",
              "      <th>mean</th>\n",
              "      <td>0.942619</td>\n",
              "      <td>0.098305</td>\n",
              "      <td>0.520740</td>\n",
              "      <td>0.029461</td>\n",
              "      <td>0.485485</td>\n",
              "      <td>0.086595</td>\n",
              "    </tr>\n",
              "    <tr>\n",
              "      <th>std</th>\n",
              "      <td>0.232576</td>\n",
              "      <td>0.297736</td>\n",
              "      <td>0.499585</td>\n",
              "      <td>0.169099</td>\n",
              "      <td>0.499805</td>\n",
              "      <td>0.281249</td>\n",
              "    </tr>\n",
              "    <tr>\n",
              "      <th>min</th>\n",
              "      <td>0.000000</td>\n",
              "      <td>0.000000</td>\n",
              "      <td>0.000000</td>\n",
              "      <td>0.000000</td>\n",
              "      <td>0.000000</td>\n",
              "      <td>0.000000</td>\n",
              "    </tr>\n",
              "    <tr>\n",
              "      <th>25%</th>\n",
              "      <td>1.000000</td>\n",
              "      <td>0.000000</td>\n",
              "      <td>0.000000</td>\n",
              "      <td>0.000000</td>\n",
              "      <td>0.000000</td>\n",
              "      <td>0.000000</td>\n",
              "    </tr>\n",
              "    <tr>\n",
              "      <th>50%</th>\n",
              "      <td>1.000000</td>\n",
              "      <td>0.000000</td>\n",
              "      <td>1.000000</td>\n",
              "      <td>0.000000</td>\n",
              "      <td>0.000000</td>\n",
              "      <td>0.000000</td>\n",
              "    </tr>\n",
              "    <tr>\n",
              "      <th>75%</th>\n",
              "      <td>1.000000</td>\n",
              "      <td>0.000000</td>\n",
              "      <td>1.000000</td>\n",
              "      <td>0.000000</td>\n",
              "      <td>1.000000</td>\n",
              "      <td>0.000000</td>\n",
              "    </tr>\n",
              "    <tr>\n",
              "      <th>max</th>\n",
              "      <td>1.000000</td>\n",
              "      <td>1.000000</td>\n",
              "      <td>1.000000</td>\n",
              "      <td>1.000000</td>\n",
              "      <td>1.000000</td>\n",
              "      <td>1.000000</td>\n",
              "    </tr>\n",
              "  </tbody>\n",
              "</table>\n",
              "</div>"
            ],
            "text/plain": [
              "              toxic  severe_toxic       obscene        threat        insult  \\\n",
              "count  16225.000000  16225.000000  16225.000000  16225.000000  16225.000000   \n",
              "mean       0.942619      0.098305      0.520740      0.029461      0.485485   \n",
              "std        0.232576      0.297736      0.499585      0.169099      0.499805   \n",
              "min        0.000000      0.000000      0.000000      0.000000      0.000000   \n",
              "25%        1.000000      0.000000      0.000000      0.000000      0.000000   \n",
              "50%        1.000000      0.000000      1.000000      0.000000      0.000000   \n",
              "75%        1.000000      0.000000      1.000000      0.000000      1.000000   \n",
              "max        1.000000      1.000000      1.000000      1.000000      1.000000   \n",
              "\n",
              "       identity_hate  \n",
              "count   16225.000000  \n",
              "mean        0.086595  \n",
              "std         0.281249  \n",
              "min         0.000000  \n",
              "25%         0.000000  \n",
              "50%         0.000000  \n",
              "75%         0.000000  \n",
              "max         1.000000  "
            ]
          },
          "metadata": {
            "tags": []
          },
          "execution_count": 6
        }
      ]
    },
    {
      "cell_type": "markdown",
      "metadata": {
        "colab_type": "text",
        "id": "yemWuxUUwGbQ"
      },
      "source": [
        "### Clean the Train data, specifically remove punctuations"
      ]
    },
    {
      "cell_type": "code",
      "metadata": {
        "colab_type": "code",
        "id": "bXBAuHzkegFw",
        "outputId": "a46c1179-38ea-4654-eda1-5d1d8b619f5a",
        "colab": {
          "base_uri": "https://localhost:8080/",
          "height": 347
        }
      },
      "source": [
        "totalContentCleaned = []\n",
        "punctDict = {}\n",
        "for punct in string.punctuation:\n",
        "    punctDict[punct] = None\n",
        "transString = str.maketrans(punctDict)\n",
        "# since we intent to remove any punctuation with ''\n",
        "for sen in train['comment_text']:\n",
        "    \n",
        "    #cleanedString = re.sub('[^a-zA-Z]+', '', sen)\n",
        "    \n",
        "    p = sen.translate(transString)\n",
        "    totalContentCleaned.append(p)\n",
        "    \n",
        "\n",
        "train['comment_text'] = totalContentCleaned\n",
        "# we can save the file to csv if we want in local machine\n",
        "#df.to_csv(os.path.join(os.path.abspath('data'), 'train_cleaned.csv'), index = False)\n",
        "\n",
        "\n",
        "\n",
        "train.head(10)"
      ],
      "execution_count": 0,
      "outputs": [
        {
          "output_type": "execute_result",
          "data": {
            "text/html": [
              "<div>\n",
              "<style scoped>\n",
              "    .dataframe tbody tr th:only-of-type {\n",
              "        vertical-align: middle;\n",
              "    }\n",
              "\n",
              "    .dataframe tbody tr th {\n",
              "        vertical-align: top;\n",
              "    }\n",
              "\n",
              "    .dataframe thead th {\n",
              "        text-align: right;\n",
              "    }\n",
              "</style>\n",
              "<table border=\"1\" class=\"dataframe\">\n",
              "  <thead>\n",
              "    <tr style=\"text-align: right;\">\n",
              "      <th></th>\n",
              "      <th>id</th>\n",
              "      <th>comment_text</th>\n",
              "      <th>toxic</th>\n",
              "      <th>severe_toxic</th>\n",
              "      <th>obscene</th>\n",
              "      <th>threat</th>\n",
              "      <th>insult</th>\n",
              "      <th>identity_hate</th>\n",
              "    </tr>\n",
              "  </thead>\n",
              "  <tbody>\n",
              "    <tr>\n",
              "      <th>6</th>\n",
              "      <td>0002bcb3da6cb337</td>\n",
              "      <td>COCKSUCKER BEFORE YOU PISS AROUND ON MY WORK</td>\n",
              "      <td>1</td>\n",
              "      <td>1</td>\n",
              "      <td>1</td>\n",
              "      <td>0</td>\n",
              "      <td>1</td>\n",
              "      <td>0</td>\n",
              "    </tr>\n",
              "    <tr>\n",
              "      <th>12</th>\n",
              "      <td>0005c987bdfc9d4b</td>\n",
              "      <td>Hey what is it\\n  talk \\nWhat is it an exclusi...</td>\n",
              "      <td>1</td>\n",
              "      <td>0</td>\n",
              "      <td>0</td>\n",
              "      <td>0</td>\n",
              "      <td>0</td>\n",
              "      <td>0</td>\n",
              "    </tr>\n",
              "    <tr>\n",
              "      <th>16</th>\n",
              "      <td>0007e25b2121310b</td>\n",
              "      <td>Bye \\n\\nDont look come or think of comming bac...</td>\n",
              "      <td>1</td>\n",
              "      <td>0</td>\n",
              "      <td>0</td>\n",
              "      <td>0</td>\n",
              "      <td>0</td>\n",
              "      <td>0</td>\n",
              "    </tr>\n",
              "    <tr>\n",
              "      <th>42</th>\n",
              "      <td>001810bf8c45bf5f</td>\n",
              "      <td>You are gay or antisemmitian \\n\\nArchangel WHi...</td>\n",
              "      <td>1</td>\n",
              "      <td>0</td>\n",
              "      <td>1</td>\n",
              "      <td>0</td>\n",
              "      <td>1</td>\n",
              "      <td>1</td>\n",
              "    </tr>\n",
              "    <tr>\n",
              "      <th>43</th>\n",
              "      <td>00190820581d90ce</td>\n",
              "      <td>FUCK YOUR FILTHY MOTHER IN THE ASS DRY</td>\n",
              "      <td>1</td>\n",
              "      <td>0</td>\n",
              "      <td>1</td>\n",
              "      <td>0</td>\n",
              "      <td>1</td>\n",
              "      <td>0</td>\n",
              "    </tr>\n",
              "    <tr>\n",
              "      <th>44</th>\n",
              "      <td>001956c382006abd</td>\n",
              "      <td>Im Sorry \\n\\nIm sorry I screwed around with so...</td>\n",
              "      <td>1</td>\n",
              "      <td>0</td>\n",
              "      <td>0</td>\n",
              "      <td>0</td>\n",
              "      <td>0</td>\n",
              "      <td>0</td>\n",
              "    </tr>\n",
              "    <tr>\n",
              "      <th>51</th>\n",
              "      <td>001dc38a83d420cf</td>\n",
              "      <td>GET FUCKED UP GET FUCKEEED UP  GOT A DRINK THA...</td>\n",
              "      <td>1</td>\n",
              "      <td>0</td>\n",
              "      <td>1</td>\n",
              "      <td>0</td>\n",
              "      <td>0</td>\n",
              "      <td>0</td>\n",
              "    </tr>\n",
              "    <tr>\n",
              "      <th>55</th>\n",
              "      <td>0020e7119b96eeeb</td>\n",
              "      <td>Stupid peace of shit stop deleting my stuff as...</td>\n",
              "      <td>1</td>\n",
              "      <td>1</td>\n",
              "      <td>1</td>\n",
              "      <td>0</td>\n",
              "      <td>1</td>\n",
              "      <td>0</td>\n",
              "    </tr>\n",
              "    <tr>\n",
              "      <th>56</th>\n",
              "      <td>0020fd96ed3b8c8b</td>\n",
              "      <td>Tony Sidaway is obviously a fistfuckee He love...</td>\n",
              "      <td>1</td>\n",
              "      <td>0</td>\n",
              "      <td>1</td>\n",
              "      <td>0</td>\n",
              "      <td>1</td>\n",
              "      <td>0</td>\n",
              "    </tr>\n",
              "    <tr>\n",
              "      <th>58</th>\n",
              "      <td>0021fe88bc4da3e6</td>\n",
              "      <td>My Band Pages deletion You thought I was gone ...</td>\n",
              "      <td>1</td>\n",
              "      <td>0</td>\n",
              "      <td>1</td>\n",
              "      <td>0</td>\n",
              "      <td>0</td>\n",
              "      <td>0</td>\n",
              "    </tr>\n",
              "  </tbody>\n",
              "</table>\n",
              "</div>"
            ],
            "text/plain": [
              "                  id                                       comment_text  \\\n",
              "6   0002bcb3da6cb337       COCKSUCKER BEFORE YOU PISS AROUND ON MY WORK   \n",
              "12  0005c987bdfc9d4b  Hey what is it\\n  talk \\nWhat is it an exclusi...   \n",
              "16  0007e25b2121310b  Bye \\n\\nDont look come or think of comming bac...   \n",
              "42  001810bf8c45bf5f  You are gay or antisemmitian \\n\\nArchangel WHi...   \n",
              "43  00190820581d90ce             FUCK YOUR FILTHY MOTHER IN THE ASS DRY   \n",
              "44  001956c382006abd  Im Sorry \\n\\nIm sorry I screwed around with so...   \n",
              "51  001dc38a83d420cf  GET FUCKED UP GET FUCKEEED UP  GOT A DRINK THA...   \n",
              "55  0020e7119b96eeeb  Stupid peace of shit stop deleting my stuff as...   \n",
              "56  0020fd96ed3b8c8b  Tony Sidaway is obviously a fistfuckee He love...   \n",
              "58  0021fe88bc4da3e6  My Band Pages deletion You thought I was gone ...   \n",
              "\n",
              "    toxic  severe_toxic  obscene  threat  insult  identity_hate  \n",
              "6       1             1        1       0       1              0  \n",
              "12      1             0        0       0       0              0  \n",
              "16      1             0        0       0       0              0  \n",
              "42      1             0        1       0       1              1  \n",
              "43      1             0        1       0       1              0  \n",
              "44      1             0        0       0       0              0  \n",
              "51      1             0        1       0       0              0  \n",
              "55      1             1        1       0       1              0  \n",
              "56      1             0        1       0       1              0  \n",
              "58      1             0        1       0       0              0  "
            ]
          },
          "metadata": {
            "tags": []
          },
          "execution_count": 7
        }
      ]
    },
    {
      "cell_type": "code",
      "metadata": {
        "colab_type": "code",
        "id": "bThKgInKejb0",
        "outputId": "e3193f35-ea54-4abb-d0ec-45a3cb39c58b",
        "colab": {
          "base_uri": "https://localhost:8080/",
          "height": 347
        }
      },
      "source": [
        "#Test data\n",
        "df_test = pd.read_csv('D:/çankaya/2ndYEAR/Thesis/Experiments/Data_Toxic Comment Classification/test.csv')\n",
        "df_test.head(10)"
      ],
      "execution_count": 0,
      "outputs": [
        {
          "output_type": "execute_result",
          "data": {
            "text/html": [
              "<div>\n",
              "<style scoped>\n",
              "    .dataframe tbody tr th:only-of-type {\n",
              "        vertical-align: middle;\n",
              "    }\n",
              "\n",
              "    .dataframe tbody tr th {\n",
              "        vertical-align: top;\n",
              "    }\n",
              "\n",
              "    .dataframe thead th {\n",
              "        text-align: right;\n",
              "    }\n",
              "</style>\n",
              "<table border=\"1\" class=\"dataframe\">\n",
              "  <thead>\n",
              "    <tr style=\"text-align: right;\">\n",
              "      <th></th>\n",
              "      <th>id</th>\n",
              "      <th>comment_text</th>\n",
              "    </tr>\n",
              "  </thead>\n",
              "  <tbody>\n",
              "    <tr>\n",
              "      <th>0</th>\n",
              "      <td>00001cee341fdb12</td>\n",
              "      <td>Yo bitch Ja Rule is more succesful then you'll...</td>\n",
              "    </tr>\n",
              "    <tr>\n",
              "      <th>1</th>\n",
              "      <td>0000247867823ef7</td>\n",
              "      <td>== From RfC == \\n\\n The title is fine as it is...</td>\n",
              "    </tr>\n",
              "    <tr>\n",
              "      <th>2</th>\n",
              "      <td>00013b17ad220c46</td>\n",
              "      <td>\" \\n\\n == Sources == \\n\\n * Zawe Ashton on Lap...</td>\n",
              "    </tr>\n",
              "    <tr>\n",
              "      <th>3</th>\n",
              "      <td>00017563c3f7919a</td>\n",
              "      <td>:If you have a look back at the source, the in...</td>\n",
              "    </tr>\n",
              "    <tr>\n",
              "      <th>4</th>\n",
              "      <td>00017695ad8997eb</td>\n",
              "      <td>I don't anonymously edit articles at all.</td>\n",
              "    </tr>\n",
              "    <tr>\n",
              "      <th>5</th>\n",
              "      <td>0001ea8717f6de06</td>\n",
              "      <td>Thank you for understanding. I think very high...</td>\n",
              "    </tr>\n",
              "    <tr>\n",
              "      <th>6</th>\n",
              "      <td>00024115d4cbde0f</td>\n",
              "      <td>Please do not add nonsense to Wikipedia. Such ...</td>\n",
              "    </tr>\n",
              "    <tr>\n",
              "      <th>7</th>\n",
              "      <td>000247e83dcc1211</td>\n",
              "      <td>:Dear god this site is horrible.</td>\n",
              "    </tr>\n",
              "    <tr>\n",
              "      <th>8</th>\n",
              "      <td>00025358d4737918</td>\n",
              "      <td>\" \\n Only a fool can believe in such numbers. ...</td>\n",
              "    </tr>\n",
              "    <tr>\n",
              "      <th>9</th>\n",
              "      <td>00026d1092fe71cc</td>\n",
              "      <td>== Double Redirects == \\n\\n When fixing double...</td>\n",
              "    </tr>\n",
              "  </tbody>\n",
              "</table>\n",
              "</div>"
            ],
            "text/plain": [
              "                 id                                       comment_text\n",
              "0  00001cee341fdb12  Yo bitch Ja Rule is more succesful then you'll...\n",
              "1  0000247867823ef7  == From RfC == \\n\\n The title is fine as it is...\n",
              "2  00013b17ad220c46  \" \\n\\n == Sources == \\n\\n * Zawe Ashton on Lap...\n",
              "3  00017563c3f7919a  :If you have a look back at the source, the in...\n",
              "4  00017695ad8997eb          I don't anonymously edit articles at all.\n",
              "5  0001ea8717f6de06  Thank you for understanding. I think very high...\n",
              "6  00024115d4cbde0f  Please do not add nonsense to Wikipedia. Such ...\n",
              "7  000247e83dcc1211                   :Dear god this site is horrible.\n",
              "8  00025358d4737918  \" \\n Only a fool can believe in such numbers. ...\n",
              "9  00026d1092fe71cc  == Double Redirects == \\n\\n When fixing double..."
            ]
          },
          "metadata": {
            "tags": []
          },
          "execution_count": 8
        }
      ]
    },
    {
      "cell_type": "markdown",
      "metadata": {
        "colab_type": "text",
        "id": "gkNgoN8pwPtA"
      },
      "source": [
        "### Clean the Test data, specifically remove punctuations"
      ]
    },
    {
      "cell_type": "code",
      "metadata": {
        "colab_type": "code",
        "id": "qAtY_WxPe03X",
        "outputId": "2ac90cd5-000a-43c9-fb42-9451a7a65377",
        "colab": {
          "base_uri": "https://localhost:8080/",
          "height": 347
        }
      },
      "source": [
        "totalContentCleaned = []\n",
        "punctDict = {}\n",
        "for punct in string.punctuation:\n",
        "    punctDict[punct] = None\n",
        "transString = str.maketrans(punctDict)\n",
        "# since we intent to remove any punctuation with ''\n",
        "for sen in df_test['comment_text']:\n",
        "    \n",
        "    #cleanedString = re.sub('[^a-zA-Z]+', '', sen)\n",
        "    \n",
        "    p = sen.translate(transString)\n",
        "    totalContentCleaned.append(p)\n",
        "    \n",
        "\n",
        "df_test['comment_text'] = totalContentCleaned\n",
        "# we can save the file to csv if we want in local machine\n",
        "#df.to_csv(os.path.join(os.path.abspath('data'), 'train_cleaned.csv'), index = False)\n",
        "\n",
        "\n",
        "\n",
        "df_test.head(10)"
      ],
      "execution_count": 0,
      "outputs": [
        {
          "output_type": "execute_result",
          "data": {
            "text/html": [
              "<div>\n",
              "<style scoped>\n",
              "    .dataframe tbody tr th:only-of-type {\n",
              "        vertical-align: middle;\n",
              "    }\n",
              "\n",
              "    .dataframe tbody tr th {\n",
              "        vertical-align: top;\n",
              "    }\n",
              "\n",
              "    .dataframe thead th {\n",
              "        text-align: right;\n",
              "    }\n",
              "</style>\n",
              "<table border=\"1\" class=\"dataframe\">\n",
              "  <thead>\n",
              "    <tr style=\"text-align: right;\">\n",
              "      <th></th>\n",
              "      <th>id</th>\n",
              "      <th>comment_text</th>\n",
              "    </tr>\n",
              "  </thead>\n",
              "  <tbody>\n",
              "    <tr>\n",
              "      <th>0</th>\n",
              "      <td>00001cee341fdb12</td>\n",
              "      <td>Yo bitch Ja Rule is more succesful then youll ...</td>\n",
              "    </tr>\n",
              "    <tr>\n",
              "      <th>1</th>\n",
              "      <td>0000247867823ef7</td>\n",
              "      <td>From RfC  \\n\\n The title is fine as it is IMO</td>\n",
              "    </tr>\n",
              "    <tr>\n",
              "      <th>2</th>\n",
              "      <td>00013b17ad220c46</td>\n",
              "      <td>\\n\\n  Sources  \\n\\n  Zawe Ashton on Lapland —...</td>\n",
              "    </tr>\n",
              "    <tr>\n",
              "      <th>3</th>\n",
              "      <td>00017563c3f7919a</td>\n",
              "      <td>If you have a look back at the source the info...</td>\n",
              "    </tr>\n",
              "    <tr>\n",
              "      <th>4</th>\n",
              "      <td>00017695ad8997eb</td>\n",
              "      <td>I dont anonymously edit articles at all</td>\n",
              "    </tr>\n",
              "    <tr>\n",
              "      <th>5</th>\n",
              "      <td>0001ea8717f6de06</td>\n",
              "      <td>Thank you for understanding I think very highl...</td>\n",
              "    </tr>\n",
              "    <tr>\n",
              "      <th>6</th>\n",
              "      <td>00024115d4cbde0f</td>\n",
              "      <td>Please do not add nonsense to Wikipedia Such e...</td>\n",
              "    </tr>\n",
              "    <tr>\n",
              "      <th>7</th>\n",
              "      <td>000247e83dcc1211</td>\n",
              "      <td>Dear god this site is horrible</td>\n",
              "    </tr>\n",
              "    <tr>\n",
              "      <th>8</th>\n",
              "      <td>00025358d4737918</td>\n",
              "      <td>\\n Only a fool can believe in such numbers \\n...</td>\n",
              "    </tr>\n",
              "    <tr>\n",
              "      <th>9</th>\n",
              "      <td>00026d1092fe71cc</td>\n",
              "      <td>Double Redirects  \\n\\n When fixing double red...</td>\n",
              "    </tr>\n",
              "  </tbody>\n",
              "</table>\n",
              "</div>"
            ],
            "text/plain": [
              "                 id                                       comment_text\n",
              "0  00001cee341fdb12  Yo bitch Ja Rule is more succesful then youll ...\n",
              "1  0000247867823ef7      From RfC  \\n\\n The title is fine as it is IMO\n",
              "2  00013b17ad220c46   \\n\\n  Sources  \\n\\n  Zawe Ashton on Lapland —...\n",
              "3  00017563c3f7919a  If you have a look back at the source the info...\n",
              "4  00017695ad8997eb            I dont anonymously edit articles at all\n",
              "5  0001ea8717f6de06  Thank you for understanding I think very highl...\n",
              "6  00024115d4cbde0f  Please do not add nonsense to Wikipedia Such e...\n",
              "7  000247e83dcc1211                     Dear god this site is horrible\n",
              "8  00025358d4737918   \\n Only a fool can believe in such numbers \\n...\n",
              "9  00026d1092fe71cc   Double Redirects  \\n\\n When fixing double red..."
            ]
          },
          "metadata": {
            "tags": []
          },
          "execution_count": 9
        }
      ]
    },
    {
      "cell_type": "code",
      "metadata": {
        "colab_type": "code",
        "id": "PAj6D9IZejb5",
        "outputId": "162dfa7e-2325-465d-9693-aebc2c359d47",
        "colab": {
          "base_uri": "https://localhost:8080/",
          "height": 347
        }
      },
      "source": [
        "df_test_labels = pd.read_csv('D:/çankaya/2ndYEAR/Thesis/Experiments/Data_Toxic Comment Classification/test_labels.csv')\n",
        "\n",
        "df_test_labels.head(10)"
      ],
      "execution_count": 0,
      "outputs": [
        {
          "output_type": "execute_result",
          "data": {
            "text/html": [
              "<div>\n",
              "<style scoped>\n",
              "    .dataframe tbody tr th:only-of-type {\n",
              "        vertical-align: middle;\n",
              "    }\n",
              "\n",
              "    .dataframe tbody tr th {\n",
              "        vertical-align: top;\n",
              "    }\n",
              "\n",
              "    .dataframe thead th {\n",
              "        text-align: right;\n",
              "    }\n",
              "</style>\n",
              "<table border=\"1\" class=\"dataframe\">\n",
              "  <thead>\n",
              "    <tr style=\"text-align: right;\">\n",
              "      <th></th>\n",
              "      <th>id</th>\n",
              "      <th>toxic</th>\n",
              "      <th>severe_toxic</th>\n",
              "      <th>obscene</th>\n",
              "      <th>threat</th>\n",
              "      <th>insult</th>\n",
              "      <th>identity_hate</th>\n",
              "    </tr>\n",
              "  </thead>\n",
              "  <tbody>\n",
              "    <tr>\n",
              "      <th>0</th>\n",
              "      <td>00001cee341fdb12</td>\n",
              "      <td>-1</td>\n",
              "      <td>-1</td>\n",
              "      <td>-1</td>\n",
              "      <td>-1</td>\n",
              "      <td>-1</td>\n",
              "      <td>-1</td>\n",
              "    </tr>\n",
              "    <tr>\n",
              "      <th>1</th>\n",
              "      <td>0000247867823ef7</td>\n",
              "      <td>-1</td>\n",
              "      <td>-1</td>\n",
              "      <td>-1</td>\n",
              "      <td>-1</td>\n",
              "      <td>-1</td>\n",
              "      <td>-1</td>\n",
              "    </tr>\n",
              "    <tr>\n",
              "      <th>2</th>\n",
              "      <td>00013b17ad220c46</td>\n",
              "      <td>-1</td>\n",
              "      <td>-1</td>\n",
              "      <td>-1</td>\n",
              "      <td>-1</td>\n",
              "      <td>-1</td>\n",
              "      <td>-1</td>\n",
              "    </tr>\n",
              "    <tr>\n",
              "      <th>3</th>\n",
              "      <td>00017563c3f7919a</td>\n",
              "      <td>-1</td>\n",
              "      <td>-1</td>\n",
              "      <td>-1</td>\n",
              "      <td>-1</td>\n",
              "      <td>-1</td>\n",
              "      <td>-1</td>\n",
              "    </tr>\n",
              "    <tr>\n",
              "      <th>4</th>\n",
              "      <td>00017695ad8997eb</td>\n",
              "      <td>-1</td>\n",
              "      <td>-1</td>\n",
              "      <td>-1</td>\n",
              "      <td>-1</td>\n",
              "      <td>-1</td>\n",
              "      <td>-1</td>\n",
              "    </tr>\n",
              "    <tr>\n",
              "      <th>5</th>\n",
              "      <td>0001ea8717f6de06</td>\n",
              "      <td>0</td>\n",
              "      <td>0</td>\n",
              "      <td>0</td>\n",
              "      <td>0</td>\n",
              "      <td>0</td>\n",
              "      <td>0</td>\n",
              "    </tr>\n",
              "    <tr>\n",
              "      <th>6</th>\n",
              "      <td>00024115d4cbde0f</td>\n",
              "      <td>-1</td>\n",
              "      <td>-1</td>\n",
              "      <td>-1</td>\n",
              "      <td>-1</td>\n",
              "      <td>-1</td>\n",
              "      <td>-1</td>\n",
              "    </tr>\n",
              "    <tr>\n",
              "      <th>7</th>\n",
              "      <td>000247e83dcc1211</td>\n",
              "      <td>0</td>\n",
              "      <td>0</td>\n",
              "      <td>0</td>\n",
              "      <td>0</td>\n",
              "      <td>0</td>\n",
              "      <td>0</td>\n",
              "    </tr>\n",
              "    <tr>\n",
              "      <th>8</th>\n",
              "      <td>00025358d4737918</td>\n",
              "      <td>-1</td>\n",
              "      <td>-1</td>\n",
              "      <td>-1</td>\n",
              "      <td>-1</td>\n",
              "      <td>-1</td>\n",
              "      <td>-1</td>\n",
              "    </tr>\n",
              "    <tr>\n",
              "      <th>9</th>\n",
              "      <td>00026d1092fe71cc</td>\n",
              "      <td>-1</td>\n",
              "      <td>-1</td>\n",
              "      <td>-1</td>\n",
              "      <td>-1</td>\n",
              "      <td>-1</td>\n",
              "      <td>-1</td>\n",
              "    </tr>\n",
              "  </tbody>\n",
              "</table>\n",
              "</div>"
            ],
            "text/plain": [
              "                 id  toxic  severe_toxic  obscene  threat  insult  \\\n",
              "0  00001cee341fdb12     -1            -1       -1      -1      -1   \n",
              "1  0000247867823ef7     -1            -1       -1      -1      -1   \n",
              "2  00013b17ad220c46     -1            -1       -1      -1      -1   \n",
              "3  00017563c3f7919a     -1            -1       -1      -1      -1   \n",
              "4  00017695ad8997eb     -1            -1       -1      -1      -1   \n",
              "5  0001ea8717f6de06      0             0        0       0       0   \n",
              "6  00024115d4cbde0f     -1            -1       -1      -1      -1   \n",
              "7  000247e83dcc1211      0             0        0       0       0   \n",
              "8  00025358d4737918     -1            -1       -1      -1      -1   \n",
              "9  00026d1092fe71cc     -1            -1       -1      -1      -1   \n",
              "\n",
              "   identity_hate  \n",
              "0             -1  \n",
              "1             -1  \n",
              "2             -1  \n",
              "3             -1  \n",
              "4             -1  \n",
              "5              0  \n",
              "6             -1  \n",
              "7              0  \n",
              "8             -1  \n",
              "9             -1  "
            ]
          },
          "metadata": {
            "tags": []
          },
          "execution_count": 10
        }
      ]
    },
    {
      "cell_type": "code",
      "metadata": {
        "colab_type": "code",
        "id": "wB71FX4Lejb_",
        "outputId": "c702e6bb-2fd4-45fe-a2c5-7a21deb85937",
        "colab": {
          "base_uri": "https://localhost:8080/",
          "height": 347
        }
      },
      "source": [
        "test_labels = df_test_labels[(df_test_labels[['toxic','severe_toxic', 'obscene', 'threat', \n",
        "                                        'insult', 'identity_hate']] != -1).all(axis=1)]\n",
        "test_labels.head(10)"
      ],
      "execution_count": 0,
      "outputs": [
        {
          "output_type": "execute_result",
          "data": {
            "text/html": [
              "<div>\n",
              "<style scoped>\n",
              "    .dataframe tbody tr th:only-of-type {\n",
              "        vertical-align: middle;\n",
              "    }\n",
              "\n",
              "    .dataframe tbody tr th {\n",
              "        vertical-align: top;\n",
              "    }\n",
              "\n",
              "    .dataframe thead th {\n",
              "        text-align: right;\n",
              "    }\n",
              "</style>\n",
              "<table border=\"1\" class=\"dataframe\">\n",
              "  <thead>\n",
              "    <tr style=\"text-align: right;\">\n",
              "      <th></th>\n",
              "      <th>id</th>\n",
              "      <th>toxic</th>\n",
              "      <th>severe_toxic</th>\n",
              "      <th>obscene</th>\n",
              "      <th>threat</th>\n",
              "      <th>insult</th>\n",
              "      <th>identity_hate</th>\n",
              "    </tr>\n",
              "  </thead>\n",
              "  <tbody>\n",
              "    <tr>\n",
              "      <th>5</th>\n",
              "      <td>0001ea8717f6de06</td>\n",
              "      <td>0</td>\n",
              "      <td>0</td>\n",
              "      <td>0</td>\n",
              "      <td>0</td>\n",
              "      <td>0</td>\n",
              "      <td>0</td>\n",
              "    </tr>\n",
              "    <tr>\n",
              "      <th>7</th>\n",
              "      <td>000247e83dcc1211</td>\n",
              "      <td>0</td>\n",
              "      <td>0</td>\n",
              "      <td>0</td>\n",
              "      <td>0</td>\n",
              "      <td>0</td>\n",
              "      <td>0</td>\n",
              "    </tr>\n",
              "    <tr>\n",
              "      <th>11</th>\n",
              "      <td>0002f87b16116a7f</td>\n",
              "      <td>0</td>\n",
              "      <td>0</td>\n",
              "      <td>0</td>\n",
              "      <td>0</td>\n",
              "      <td>0</td>\n",
              "      <td>0</td>\n",
              "    </tr>\n",
              "    <tr>\n",
              "      <th>13</th>\n",
              "      <td>0003e1cccfd5a40a</td>\n",
              "      <td>0</td>\n",
              "      <td>0</td>\n",
              "      <td>0</td>\n",
              "      <td>0</td>\n",
              "      <td>0</td>\n",
              "      <td>0</td>\n",
              "    </tr>\n",
              "    <tr>\n",
              "      <th>14</th>\n",
              "      <td>00059ace3e3e9a53</td>\n",
              "      <td>0</td>\n",
              "      <td>0</td>\n",
              "      <td>0</td>\n",
              "      <td>0</td>\n",
              "      <td>0</td>\n",
              "      <td>0</td>\n",
              "    </tr>\n",
              "    <tr>\n",
              "      <th>16</th>\n",
              "      <td>000663aff0fffc80</td>\n",
              "      <td>0</td>\n",
              "      <td>0</td>\n",
              "      <td>0</td>\n",
              "      <td>0</td>\n",
              "      <td>0</td>\n",
              "      <td>0</td>\n",
              "    </tr>\n",
              "    <tr>\n",
              "      <th>17</th>\n",
              "      <td>000689dd34e20979</td>\n",
              "      <td>0</td>\n",
              "      <td>0</td>\n",
              "      <td>0</td>\n",
              "      <td>0</td>\n",
              "      <td>0</td>\n",
              "      <td>0</td>\n",
              "    </tr>\n",
              "    <tr>\n",
              "      <th>19</th>\n",
              "      <td>000844b52dee5f3f</td>\n",
              "      <td>0</td>\n",
              "      <td>0</td>\n",
              "      <td>0</td>\n",
              "      <td>0</td>\n",
              "      <td>0</td>\n",
              "      <td>0</td>\n",
              "    </tr>\n",
              "    <tr>\n",
              "      <th>21</th>\n",
              "      <td>00091c35fa9d0465</td>\n",
              "      <td>1</td>\n",
              "      <td>0</td>\n",
              "      <td>0</td>\n",
              "      <td>0</td>\n",
              "      <td>0</td>\n",
              "      <td>0</td>\n",
              "    </tr>\n",
              "    <tr>\n",
              "      <th>22</th>\n",
              "      <td>000968ce11f5ee34</td>\n",
              "      <td>0</td>\n",
              "      <td>0</td>\n",
              "      <td>0</td>\n",
              "      <td>0</td>\n",
              "      <td>0</td>\n",
              "      <td>0</td>\n",
              "    </tr>\n",
              "  </tbody>\n",
              "</table>\n",
              "</div>"
            ],
            "text/plain": [
              "                  id  toxic  severe_toxic  obscene  threat  insult  \\\n",
              "5   0001ea8717f6de06      0             0        0       0       0   \n",
              "7   000247e83dcc1211      0             0        0       0       0   \n",
              "11  0002f87b16116a7f      0             0        0       0       0   \n",
              "13  0003e1cccfd5a40a      0             0        0       0       0   \n",
              "14  00059ace3e3e9a53      0             0        0       0       0   \n",
              "16  000663aff0fffc80      0             0        0       0       0   \n",
              "17  000689dd34e20979      0             0        0       0       0   \n",
              "19  000844b52dee5f3f      0             0        0       0       0   \n",
              "21  00091c35fa9d0465      1             0        0       0       0   \n",
              "22  000968ce11f5ee34      0             0        0       0       0   \n",
              "\n",
              "    identity_hate  \n",
              "5               0  \n",
              "7               0  \n",
              "11              0  \n",
              "13              0  \n",
              "14              0  \n",
              "16              0  \n",
              "17              0  \n",
              "19              0  \n",
              "21              0  \n",
              "22              0  "
            ]
          },
          "metadata": {
            "tags": []
          },
          "execution_count": 11
        }
      ]
    },
    {
      "cell_type": "markdown",
      "metadata": {
        "colab_type": "text",
        "id": "Z4WMHSsEejcF"
      },
      "source": [
        "### Merge the df_test and test_labels into 1 dataframe (test)"
      ]
    },
    {
      "cell_type": "code",
      "metadata": {
        "colab_type": "code",
        "id": "IN1JvMJxejcH",
        "outputId": "2380cde0-1261-427f-f392-747b0016d1ac",
        "colab": {
          "base_uri": "https://localhost:8080/",
          "height": 347
        }
      },
      "source": [
        "#Merge the df_test and test_labels into 1 dataframe (test)\n",
        "test = pd.merge(test_labels, df_test, on='id', how='inner')\n",
        "test.head(10)"
      ],
      "execution_count": 0,
      "outputs": [
        {
          "output_type": "execute_result",
          "data": {
            "text/html": [
              "<div>\n",
              "<style scoped>\n",
              "    .dataframe tbody tr th:only-of-type {\n",
              "        vertical-align: middle;\n",
              "    }\n",
              "\n",
              "    .dataframe tbody tr th {\n",
              "        vertical-align: top;\n",
              "    }\n",
              "\n",
              "    .dataframe thead th {\n",
              "        text-align: right;\n",
              "    }\n",
              "</style>\n",
              "<table border=\"1\" class=\"dataframe\">\n",
              "  <thead>\n",
              "    <tr style=\"text-align: right;\">\n",
              "      <th></th>\n",
              "      <th>id</th>\n",
              "      <th>toxic</th>\n",
              "      <th>severe_toxic</th>\n",
              "      <th>obscene</th>\n",
              "      <th>threat</th>\n",
              "      <th>insult</th>\n",
              "      <th>identity_hate</th>\n",
              "      <th>comment_text</th>\n",
              "    </tr>\n",
              "  </thead>\n",
              "  <tbody>\n",
              "    <tr>\n",
              "      <th>0</th>\n",
              "      <td>0001ea8717f6de06</td>\n",
              "      <td>0</td>\n",
              "      <td>0</td>\n",
              "      <td>0</td>\n",
              "      <td>0</td>\n",
              "      <td>0</td>\n",
              "      <td>0</td>\n",
              "      <td>Thank you for understanding I think very highl...</td>\n",
              "    </tr>\n",
              "    <tr>\n",
              "      <th>1</th>\n",
              "      <td>000247e83dcc1211</td>\n",
              "      <td>0</td>\n",
              "      <td>0</td>\n",
              "      <td>0</td>\n",
              "      <td>0</td>\n",
              "      <td>0</td>\n",
              "      <td>0</td>\n",
              "      <td>Dear god this site is horrible</td>\n",
              "    </tr>\n",
              "    <tr>\n",
              "      <th>2</th>\n",
              "      <td>0002f87b16116a7f</td>\n",
              "      <td>0</td>\n",
              "      <td>0</td>\n",
              "      <td>0</td>\n",
              "      <td>0</td>\n",
              "      <td>0</td>\n",
              "      <td>0</td>\n",
              "      <td>Somebody will invariably try to add Religion ...</td>\n",
              "    </tr>\n",
              "    <tr>\n",
              "      <th>3</th>\n",
              "      <td>0003e1cccfd5a40a</td>\n",
              "      <td>0</td>\n",
              "      <td>0</td>\n",
              "      <td>0</td>\n",
              "      <td>0</td>\n",
              "      <td>0</td>\n",
              "      <td>0</td>\n",
              "      <td>\\n\\n It says it right there that it IS a type...</td>\n",
              "    </tr>\n",
              "    <tr>\n",
              "      <th>4</th>\n",
              "      <td>00059ace3e3e9a53</td>\n",
              "      <td>0</td>\n",
              "      <td>0</td>\n",
              "      <td>0</td>\n",
              "      <td>0</td>\n",
              "      <td>0</td>\n",
              "      <td>0</td>\n",
              "      <td>\\n\\n  Before adding a new product to the list...</td>\n",
              "    </tr>\n",
              "    <tr>\n",
              "      <th>5</th>\n",
              "      <td>000663aff0fffc80</td>\n",
              "      <td>0</td>\n",
              "      <td>0</td>\n",
              "      <td>0</td>\n",
              "      <td>0</td>\n",
              "      <td>0</td>\n",
              "      <td>0</td>\n",
              "      <td>this other one from 1897</td>\n",
              "    </tr>\n",
              "    <tr>\n",
              "      <th>6</th>\n",
              "      <td>000689dd34e20979</td>\n",
              "      <td>0</td>\n",
              "      <td>0</td>\n",
              "      <td>0</td>\n",
              "      <td>0</td>\n",
              "      <td>0</td>\n",
              "      <td>0</td>\n",
              "      <td>Reason for banning throwing  \\n\\n This articl...</td>\n",
              "    </tr>\n",
              "    <tr>\n",
              "      <th>7</th>\n",
              "      <td>000844b52dee5f3f</td>\n",
              "      <td>0</td>\n",
              "      <td>0</td>\n",
              "      <td>0</td>\n",
              "      <td>0</td>\n",
              "      <td>0</td>\n",
              "      <td>0</td>\n",
              "      <td>blocked from editing Wikipedia</td>\n",
              "    </tr>\n",
              "    <tr>\n",
              "      <th>8</th>\n",
              "      <td>00091c35fa9d0465</td>\n",
              "      <td>1</td>\n",
              "      <td>0</td>\n",
              "      <td>0</td>\n",
              "      <td>0</td>\n",
              "      <td>0</td>\n",
              "      <td>0</td>\n",
              "      <td>Arabs are committing genocide in Iraq but no ...</td>\n",
              "    </tr>\n",
              "    <tr>\n",
              "      <th>9</th>\n",
              "      <td>000968ce11f5ee34</td>\n",
              "      <td>0</td>\n",
              "      <td>0</td>\n",
              "      <td>0</td>\n",
              "      <td>0</td>\n",
              "      <td>0</td>\n",
              "      <td>0</td>\n",
              "      <td>Please stop If you continue to vandalize Wikip...</td>\n",
              "    </tr>\n",
              "  </tbody>\n",
              "</table>\n",
              "</div>"
            ],
            "text/plain": [
              "                 id  toxic  severe_toxic  obscene  threat  insult  \\\n",
              "0  0001ea8717f6de06      0             0        0       0       0   \n",
              "1  000247e83dcc1211      0             0        0       0       0   \n",
              "2  0002f87b16116a7f      0             0        0       0       0   \n",
              "3  0003e1cccfd5a40a      0             0        0       0       0   \n",
              "4  00059ace3e3e9a53      0             0        0       0       0   \n",
              "5  000663aff0fffc80      0             0        0       0       0   \n",
              "6  000689dd34e20979      0             0        0       0       0   \n",
              "7  000844b52dee5f3f      0             0        0       0       0   \n",
              "8  00091c35fa9d0465      1             0        0       0       0   \n",
              "9  000968ce11f5ee34      0             0        0       0       0   \n",
              "\n",
              "   identity_hate                                       comment_text  \n",
              "0              0  Thank you for understanding I think very highl...  \n",
              "1              0                     Dear god this site is horrible  \n",
              "2              0   Somebody will invariably try to add Religion ...  \n",
              "3              0   \\n\\n It says it right there that it IS a type...  \n",
              "4              0   \\n\\n  Before adding a new product to the list...  \n",
              "5              0                           this other one from 1897  \n",
              "6              0   Reason for banning throwing  \\n\\n This articl...  \n",
              "7              0                  blocked from editing Wikipedia     \n",
              "8              0   Arabs are committing genocide in Iraq but no ...  \n",
              "9              0  Please stop If you continue to vandalize Wikip...  "
            ]
          },
          "metadata": {
            "tags": []
          },
          "execution_count": 12
        }
      ]
    },
    {
      "cell_type": "code",
      "metadata": {
        "id": "UaEaFMJlDS-x",
        "colab_type": "code",
        "colab": {},
        "outputId": "f76cc82e-216c-49ca-8584-b543e5477d2e"
      },
      "source": [
        "test = test.loc[(test['toxic'] == 1) | (test['severe_toxic'] == 1) | (test['obscene'] ==1) | (test['threat'] == 1) | (test['insult'] == 1) | (test['identity_hate'] ==1)]\n",
        "\n",
        "test.head(10)"
      ],
      "execution_count": 0,
      "outputs": [
        {
          "output_type": "execute_result",
          "data": {
            "text/html": [
              "<div>\n",
              "<style scoped>\n",
              "    .dataframe tbody tr th:only-of-type {\n",
              "        vertical-align: middle;\n",
              "    }\n",
              "\n",
              "    .dataframe tbody tr th {\n",
              "        vertical-align: top;\n",
              "    }\n",
              "\n",
              "    .dataframe thead th {\n",
              "        text-align: right;\n",
              "    }\n",
              "</style>\n",
              "<table border=\"1\" class=\"dataframe\">\n",
              "  <thead>\n",
              "    <tr style=\"text-align: right;\">\n",
              "      <th></th>\n",
              "      <th>id</th>\n",
              "      <th>toxic</th>\n",
              "      <th>severe_toxic</th>\n",
              "      <th>obscene</th>\n",
              "      <th>threat</th>\n",
              "      <th>insult</th>\n",
              "      <th>identity_hate</th>\n",
              "      <th>comment_text</th>\n",
              "    </tr>\n",
              "  </thead>\n",
              "  <tbody>\n",
              "    <tr>\n",
              "      <th>8</th>\n",
              "      <td>00091c35fa9d0465</td>\n",
              "      <td>1</td>\n",
              "      <td>0</td>\n",
              "      <td>0</td>\n",
              "      <td>0</td>\n",
              "      <td>0</td>\n",
              "      <td>0</td>\n",
              "      <td>Arabs are committing genocide in Iraq but no ...</td>\n",
              "    </tr>\n",
              "    <tr>\n",
              "      <th>24</th>\n",
              "      <td>0013fed3aeae76b7</td>\n",
              "      <td>1</td>\n",
              "      <td>0</td>\n",
              "      <td>1</td>\n",
              "      <td>0</td>\n",
              "      <td>1</td>\n",
              "      <td>1</td>\n",
              "      <td>DJ Robinson is gay as hell he sucks his dick s...</td>\n",
              "    </tr>\n",
              "    <tr>\n",
              "      <th>29</th>\n",
              "      <td>0017d4d47894af05</td>\n",
              "      <td>1</td>\n",
              "      <td>0</td>\n",
              "      <td>1</td>\n",
              "      <td>0</td>\n",
              "      <td>1</td>\n",
              "      <td>0</td>\n",
              "      <td>Fuck off you antisemitic cunt</td>\n",
              "    </tr>\n",
              "    <tr>\n",
              "      <th>38</th>\n",
              "      <td>001d739c97bc2ae4</td>\n",
              "      <td>1</td>\n",
              "      <td>0</td>\n",
              "      <td>0</td>\n",
              "      <td>0</td>\n",
              "      <td>0</td>\n",
              "      <td>0</td>\n",
              "      <td>How dare you vandalize that page about the HMS...</td>\n",
              "    </tr>\n",
              "    <tr>\n",
              "      <th>40</th>\n",
              "      <td>001eff4007dbb65b</td>\n",
              "      <td>1</td>\n",
              "      <td>0</td>\n",
              "      <td>1</td>\n",
              "      <td>0</td>\n",
              "      <td>1</td>\n",
              "      <td>0</td>\n",
              "      <td>No he is an arrogant self serving immature idi...</td>\n",
              "    </tr>\n",
              "    <tr>\n",
              "      <th>89</th>\n",
              "      <td>005f47397e07e12f</td>\n",
              "      <td>1</td>\n",
              "      <td>0</td>\n",
              "      <td>0</td>\n",
              "      <td>0</td>\n",
              "      <td>0</td>\n",
              "      <td>0</td>\n",
              "      <td>Eek but shes cute in an earthy kind of way Can...</td>\n",
              "    </tr>\n",
              "    <tr>\n",
              "      <th>106</th>\n",
              "      <td>0071940212267fea</td>\n",
              "      <td>1</td>\n",
              "      <td>0</td>\n",
              "      <td>1</td>\n",
              "      <td>0</td>\n",
              "      <td>0</td>\n",
              "      <td>0</td>\n",
              "      <td>Well it sucks to have a university to be nickn...</td>\n",
              "    </tr>\n",
              "    <tr>\n",
              "      <th>107</th>\n",
              "      <td>0072b9c3697ab8cc</td>\n",
              "      <td>1</td>\n",
              "      <td>0</td>\n",
              "      <td>1</td>\n",
              "      <td>0</td>\n",
              "      <td>1</td>\n",
              "      <td>0</td>\n",
              "      <td>Argh  \\n\\n Some random idiot deleted the whol...</td>\n",
              "    </tr>\n",
              "    <tr>\n",
              "      <th>124</th>\n",
              "      <td>0081b14d79f54b31</td>\n",
              "      <td>1</td>\n",
              "      <td>0</td>\n",
              "      <td>1</td>\n",
              "      <td>1</td>\n",
              "      <td>0</td>\n",
              "      <td>0</td>\n",
              "      <td>we hate america and we are going to bomb the s...</td>\n",
              "    </tr>\n",
              "    <tr>\n",
              "      <th>125</th>\n",
              "      <td>00842d1024b19972</td>\n",
              "      <td>1</td>\n",
              "      <td>0</td>\n",
              "      <td>1</td>\n",
              "      <td>0</td>\n",
              "      <td>1</td>\n",
              "      <td>0</td>\n",
              "      <td>Bold textYOU SUCK  \\n\\n  \\n\\n U SUCK HANNAH M...</td>\n",
              "    </tr>\n",
              "  </tbody>\n",
              "</table>\n",
              "</div>"
            ],
            "text/plain": [
              "                   id  toxic  severe_toxic  obscene  threat  insult  \\\n",
              "8    00091c35fa9d0465      1             0        0       0       0   \n",
              "24   0013fed3aeae76b7      1             0        1       0       1   \n",
              "29   0017d4d47894af05      1             0        1       0       1   \n",
              "38   001d739c97bc2ae4      1             0        0       0       0   \n",
              "40   001eff4007dbb65b      1             0        1       0       1   \n",
              "89   005f47397e07e12f      1             0        0       0       0   \n",
              "106  0071940212267fea      1             0        1       0       0   \n",
              "107  0072b9c3697ab8cc      1             0        1       0       1   \n",
              "124  0081b14d79f54b31      1             0        1       1       0   \n",
              "125  00842d1024b19972      1             0        1       0       1   \n",
              "\n",
              "     identity_hate                                       comment_text  \n",
              "8                0   Arabs are committing genocide in Iraq but no ...  \n",
              "24               1  DJ Robinson is gay as hell he sucks his dick s...  \n",
              "29               0                    Fuck off you antisemitic cunt    \n",
              "38               0  How dare you vandalize that page about the HMS...  \n",
              "40               0  No he is an arrogant self serving immature idi...  \n",
              "89               0  Eek but shes cute in an earthy kind of way Can...  \n",
              "106              0  Well it sucks to have a university to be nickn...  \n",
              "107              0   Argh  \\n\\n Some random idiot deleted the whol...  \n",
              "124              0  we hate america and we are going to bomb the s...  \n",
              "125              0   Bold textYOU SUCK  \\n\\n  \\n\\n U SUCK HANNAH M...  "
            ]
          },
          "metadata": {
            "tags": []
          },
          "execution_count": 13
        }
      ]
    },
    {
      "cell_type": "markdown",
      "metadata": {
        "colab_type": "text",
        "id": "yMHnqLRhejcO"
      },
      "source": [
        "### Number of records in the train and test data"
      ]
    },
    {
      "cell_type": "code",
      "metadata": {
        "colab_type": "code",
        "id": "N0shTlrPejcQ",
        "outputId": "ea81b716-81c5-4744-ecc5-d4a34d013ec4",
        "colab": {
          "base_uri": "https://localhost:8080/",
          "height": 52
        }
      },
      "source": [
        "print(\"Train data shape\", train.shape)\n",
        "print(\"Test data shape\", test.shape)"
      ],
      "execution_count": 0,
      "outputs": [
        {
          "output_type": "stream",
          "text": [
            "Train data shape (16225, 8)\n",
            "Test data shape (6234, 8)\n"
          ],
          "name": "stdout"
        }
      ]
    },
    {
      "cell_type": "code",
      "metadata": {
        "colab_type": "code",
        "id": "dl8sCOPEejcX",
        "outputId": "612e8287-0440-4443-b710-6260314db150",
        "colab": {
          "base_uri": "https://localhost:8080/",
          "height": 87
        }
      },
      "source": [
        "# check that there are no missing values in either training set\n",
        "print('The dataset has', train.isna().sum().sum(), 'missing values in train data.')\n",
        "print('The dataset has', test.isna().sum().sum(), 'missing values in test data.')\n",
        "\n",
        "# check if there are any duplicates\n",
        "print('The dataset has', train.duplicated().sum(), 'duplicates in train data.')\n",
        "print('The dataset has', test.duplicated().sum(), 'duplicates in test data.')"
      ],
      "execution_count": 0,
      "outputs": [
        {
          "output_type": "stream",
          "text": [
            "The dataset has 0 missing values in train data.\n",
            "The dataset has 0 missing values in test data.\n",
            "The dataset has 0 duplicates in train data.\n",
            "The dataset has 0 duplicates in test data.\n"
          ],
          "name": "stdout"
        }
      ]
    },
    {
      "cell_type": "markdown",
      "metadata": {
        "colab_type": "text",
        "id": "OcndCtd4ejcj"
      },
      "source": [
        "### CORRELATION BETWEEN DATA LABELS"
      ]
    },
    {
      "cell_type": "code",
      "metadata": {
        "colab_type": "code",
        "id": "xYT_uhvEejcl",
        "outputId": "c960c96f-a140-44ac-9f51-f774a73b061b",
        "colab": {
          "base_uri": "https://localhost:8080/",
          "height": 417
        }
      },
      "source": [
        "fig, ax = plt.subplots(figsize=(10, 6))\n",
        "fig.suptitle('Correlation Matrix')\n",
        "sns.heatmap(train.corr(), annot=True, cmap=\"Greens\", linewidths=.5, ax=ax);"
      ],
      "execution_count": 0,
      "outputs": [
        {
          "output_type": "display_data",
          "data": {
            "image/png": "[encoded data removed]",
            "text/plain": [
              "<Figure size 720x432 with 2 Axes>"
            ]
          },
          "metadata": {
            "tags": [],
            "needs_background": "light"
          }
        }
      ]
    },
    {
      "cell_type": "markdown",
      "metadata": {
        "colab_type": "text",
        "id": "4MQuxIYfejcq"
      },
      "source": [
        "The correlation figure below shows that Toxic\" comments are clearly correlated with both \"obscene\" and \"insult\" comments. Interestingly, \"toxic\" and \"severe_toxic\" are only weakly correlated. While we can also observe that, \"Obscene\" comments and \"insult\" comments are also highly correlated, which makes perfect sense."
      ]
    },
    {
      "cell_type": "markdown",
      "metadata": {
        "colab_type": "text",
        "id": "FHcTJeqwejcr"
      },
      "source": [
        "### DATA PREPROCESSING\n",
        "Deep Neural Networks input layers make use of input variables to feed the network for training the model. But in this task (experiment), we're dealing with words text. How do we represent these words in order to feed our model?\n",
        "\n",
        "In our experiment, we used densed representation of those text (comments) and their semanticity together. The advantage of using this approach is the best way for fitting neural networks onto a text data (as in our case), as well as less memory usage compared to other sparse representation approaches.\n",
        "\n",
        "\n",
        "#### Word Embedding\n",
        "Two ways to feed embeddings to neural networks:\n",
        "   * Using your own word embeddings by training\n",
        "   * Using pre-trained embedding (e.g Word2vec, lad2vec, Glove etc)\n",
        "   \n"
      ]
    },
    {
      "cell_type": "code",
      "metadata": {
        "colab_type": "code",
        "id": "LL_5zSxjejcs",
        "colab": {}
      },
      "source": [
        "#Convert text to vectors using keras preprocessing library tools\n",
        "\n",
        "X_train = train[\"comment_text\"].values\n",
        "X_test  = test[\"comment_text\"].values\n",
        "\n",
        "y_train = train[[\"toxic\", \"severe_toxic\", \"obscene\", \"threat\", \"insult\", \"identity_hate\"]].values\n",
        "y_test  = test[[\"toxic\", \"severe_toxic\", \"obscene\", \"threat\", \"insult\", \"identity_hate\"]].values"
      ],
      "execution_count": 0,
      "outputs": []
    },
    {
      "cell_type": "markdown",
      "metadata": {
        "colab_type": "text",
        "id": "uwqi-osSejcv"
      },
      "source": [
        "\n",
        "\n",
        "\n",
        "\n",
        "\n",
        "For the first embedding, we used keras preprocessing (Text Preprocessing) libraries. This class allows to vectorize a text corpus, by turning each text into either a sequence of integers (each integer being the index of a token in a dictionary) or into a vector where the coefficient for each token could be binary, based on word count, based on tf-idf"
      ]
    },
    {
      "cell_type": "code",
      "metadata": {
        "colab_type": "code",
        "id": "H0rNWt-8ejcz",
        "colab": {}
      },
      "source": [
        "num_words = 20000 #Max. workds to use per toxic comment\n",
        "max_features = 200000 #Max. number of unique words in embeddinbg vector\n",
        "max_len = 200 #Max. number of words per toxic comment to be use\n",
        "embedding_dims = 128 #embedding vector output dimension \n",
        "num_epochs = 15 # (before 5)number of epochs (number of times that the model is exposed to the training dataset)\n",
        "val_split = 0.1\n",
        "batch_size2 = 256 #(before 32)The **batch size** is the number of training examples in one forward/backward pass.\n",
        "                  # In general, larger batch sizes result in faster progress in training, but don't always converge as quickly. \n",
        "                  #Smaller batch sizes train slower, but can converge faster. And the higher the batch size, the more memory space you’ll need."
      ],
      "execution_count": 0,
      "outputs": []
    },
    {
      "cell_type": "code",
      "metadata": {
        "colab_type": "code",
        "id": "cTMhD2dpejcw",
        "outputId": "2c672d00-90b6-4c18-d748-41b40579787b",
        "colab": {
          "base_uri": "https://localhost:8080/",
          "height": 52
        }
      },
      "source": [
        "#toxic comments Tokenization\n",
        "tokenizer = tokenizer = Tokenizer(num_words)\n",
        "tokenizer.fit_on_texts(list(X_train))\n",
        "\n",
        "#Convert tokenized toxic commnent to sequnces\n",
        "X_train = tokenizer.texts_to_sequences(X_train)\n",
        "X_test = tokenizer.texts_to_sequences(X_test)\n",
        " \n",
        "# padding the sequences\n",
        "X_train = sequence.pad_sequences(X_train, max_len)\n",
        "X_test  = sequence.pad_sequences(X_test,  max_len)\n",
        "\n",
        "print('X_train shape:', X_train.shape)\n",
        "print('X_test shape: ', X_test.shape)"
      ],
      "execution_count": 0,
      "outputs": [
        {
          "output_type": "stream",
          "text": [
            "X_train shape: (16225, 200)\n",
            "X_test shape:  (6234, 200)\n"
          ],
          "name": "stdout"
        }
      ]
    },
    {
      "cell_type": "markdown",
      "metadata": {
        "colab_type": "text",
        "id": "vGxTYdg-WthP"
      },
      "source": [
        "##We use cross validation to split arrays or matrices of train data into random train and validation subsets"
      ]
    },
    {
      "cell_type": "code",
      "metadata": {
        "colab_type": "code",
        "id": "-9HAHH8FWrgE",
        "colab": {},
        "outputId": "fc4ae72a-aa53-4fa5-ff9a-8d21e4fccfc5"
      },
      "source": [
        "X_tra, X_val, y_tra, y_val = train_test_split(X_train, y_train, train_size =0.9, random_state=233)"
      ],
      "execution_count": 0,
      "outputs": [
        {
          "output_type": "stream",
          "text": [
            "D:\\Program Files\\Anaconda\\lib\\site-packages\\sklearn\\model_selection\\_split.py:2179: FutureWarning:\n",
            "\n",
            "From version 0.21, test_size will always complement train_size unless both are specified.\n",
            "\n"
          ],
          "name": "stderr"
        }
      ]
    },
    {
      "cell_type": "markdown",
      "metadata": {
        "colab_type": "text",
        "id": "ELlEnN6GejdS"
      },
      "source": [
        "## METHODS (CNN, RNN, LSTM, all using pre-trained (fastTest) embedding)"
      ]
    },
    {
      "cell_type": "markdown",
      "metadata": {
        "colab_type": "text",
        "id": "0evQXvGIx-Zg"
      },
      "source": [
        "#### We used early callback functionality that allows you to specify the performance measure to monitor, the trigger, and once triggered. It will stop the training process."
      ]
    },
    {
      "cell_type": "code",
      "metadata": {
        "colab_type": "code",
        "id": "OAe9eO3YyOO-",
        "colab": {}
      },
      "source": [
        "early = EarlyStopping(monitor=\"val_loss\", mode=\"min\", patience=4)"
      ],
      "execution_count": 0,
      "outputs": []
    },
    {
      "cell_type": "markdown",
      "metadata": {
        "colab_type": "text",
        "id": "tQlxRa2xeymU"
      },
      "source": [
        "#### Using Precision, Recall, F1-Measure, AUC, mean etc evaluaiton metrics to evaluate our model"
      ]
    },
    {
      "cell_type": "code",
      "metadata": {
        "colab_type": "code",
        "id": "8g3jDUzie2RN",
        "colab": {}
      },
      "source": [
        "#Import necessary libraries\n",
        "4# demonstration of calculating metrics for a neural network model using sklearn\n",
        "from sklearn.datasets import make_circles\n",
        "from sklearn.metrics import accuracy_score\n",
        "from sklearn.metrics import precision_score\n",
        "from   import recall_score\n",
        "from sklearn.metrics import f1_score\n",
        "from sklearn.metrics import cohen_kappa_score\n",
        "from sklearn.metrics import roc_auc_score\n",
        "from sklearn.metrics import confusion_matrix\n",
        "\n",
        "\n",
        "def precision(y_true, y_pred):\n",
        "    '''Calculates the precision, a metric for multi-label classification of\n",
        "    how many selected items are relevant.\n",
        "    '''\n",
        "    true_positives = K.sum(K.round(K.clip(y_true * y_pred, 0, 1)))\n",
        "    predicted_positives = K.sum(K.round(K.clip(y_pred, 0, 1)))\n",
        "    precision = true_positives / (predicted_positives + K.epsilon())\n",
        "    return precision\n",
        "\n",
        "\n",
        "def recall(y_true, y_pred):\n",
        "    '''Calculates the recall, a metric for multi-label classification of\n",
        "    how many relevant items are selected.\n",
        "    '''\n",
        "    true_positives = K.sum(K.round(K.clip(y_true * y_pred, 0, 1)))\n",
        "    possible_positives = K.sum(K.round(K.clip(y_true, 0, 1)))\n",
        "    recall = true_positives / (possible_positives + K.epsilon())\n",
        "    return recall\n",
        "\n",
        "  #Customized the evaluation to analyse the model in terms of accuracy and mean value accuracy\n",
        "def mean_pred(y_true, y_pred):\n",
        "    return K.mean(y_pred)\n",
        "\n",
        "def fbeta_score(y_true, y_pred, beta=1):\n",
        "    '''Calculates the F score, the weighted harmonic mean of precision and recall.\n",
        "    This is useful for multi-label classification, where input samples can be\n",
        "    classified as sets of labels. By only using accuracy (precision) a model\n",
        "    would achieve a perfect score by simply assigning every class to every\n",
        "    input. In order to avoid this, a metric should penalize incorrect class\n",
        "    assignments as well (recall). The F-beta score (ranged from 0.0 to 1.0)\n",
        "    computes this, as a weighted mean of the proportion of correct class\n",
        "    assignments vs. the proportion of incorrect class assignments.\n",
        "    With beta = 1, this is equivalent to a F-measure. With beta < 1, assigning\n",
        "    correct classes becomes more important, and with beta > 1 the metric is\n",
        "    instead weighted towards penalizing incorrect class assignments.\n",
        "    '''\n",
        "    if beta < 0:\n",
        "        raise ValueError('The lowest choosable beta is zero (only precision).')\n",
        "        \n",
        "    # If there are no true positives, fix the F score at 0 like sklearn.\n",
        "    if K.sum(K.round(K.clip(y_true, 0, 1))) == 0:\n",
        "        return 0\n",
        "\n",
        "    p = precision(y_true, y_pred)\n",
        "    r = recall(y_true, y_pred)\n",
        "    bb = beta ** 2\n",
        "    fbeta_score = (1 + bb) * (p * r) / (bb * p + r + K.epsilon())\n",
        "    return fbeta_score\n",
        "\n",
        "def auroc(y_true, y_pred):\n",
        "    auc = tf.metrics.auc(y_true, y_pred)[1]\n",
        "    K.get_session().run(tf.local_variables_initializer())\n",
        "    return auc\n",
        "\n",
        "\n",
        "def fmeasure(y_true, y_pred):\n",
        "    '''Calculates the f-measure, the harmonic mean of precision and recall.\n",
        "    '''\n",
        "    return fbeta_score(y_true, y_pred, beta=1)\n",
        "\n",
        "\n",
        "fscore = f1score = fmeasure"
      ],
      "execution_count": 0,
      "outputs": []
    },
    {
      "cell_type": "markdown",
      "metadata": {
        "colab_type": "text",
        "id": "6lWFdG2uejgL"
      },
      "source": [
        "## USING (fastText)  AS  A PRE-TRAINED EMBEDDING"
      ]
    },
    {
      "cell_type": "markdown",
      "metadata": {
        "colab_type": "text",
        "id": "iSKIyBVbejgh"
      },
      "source": [
        "#### Prepare the pre-trained embedding layer"
      ]
    },
    {
      "cell_type": "markdown",
      "metadata": {
        "colab_type": "text",
        "id": "o2NVoopbejgj"
      },
      "source": [
        "#### Load the FastText Word Embeddng Corpus"
      ]
    },
    {
      "cell_type": "code",
      "metadata": {
        "colab_type": "code",
        "id": "okYLw1HSejgk",
        "outputId": "77975a98-1ebf-4658-fb34-8b638d3fe3e7",
        "colab": {
          "base_uri": "https://localhost:8080/",
          "height": 70
        }
      },
      "source": [
        "#load embeddings\n",
        "print('loading word embeddings...')\n",
        "fastText_embeddings_index = {}\n",
        "f = codecs.open('D:/çankaya/2ndYEAR/Thesis/Experiments/Data_Toxic Comment Classification/wiki.simple.vec', encoding='utf-8')\n",
        "for line in tqdm(f):\n",
        "    values = line.rstrip().rsplit(' ')\n",
        "    word = values[0]\n",
        "    coefs = np.asarray(values[1:], dtype='float32')\n",
        "    fastText_embeddings_index[word] = coefs\n",
        "f.close()\n",
        "print('found %s word vectors' % len(fastText_embeddings_index))"
      ],
      "execution_count": 0,
      "outputs": [
        {
          "output_type": "stream",
          "text": [
            "loading word embeddings...\n"
          ],
          "name": "stdout"
        },
        {
          "output_type": "stream",
          "text": [
            "111052it [00:14, 7671.65it/s]\n"
          ],
          "name": "stderr"
        },
        {
          "output_type": "stream",
          "text": [
            "found 111052 word vectors\n"
          ],
          "name": "stdout"
        }
      ]
    },
    {
      "cell_type": "markdown",
      "metadata": {
        "colab_type": "text",
        "id": "xXLbaTfYnPzc"
      },
      "source": [
        "#### Convert the word embedding into tokenized vector"
      ]
    },
    {
      "cell_type": "code",
      "metadata": {
        "colab_type": "code",
        "id": "yQRatMATnP9p",
        "outputId": "0e958597-8c04-4a84-89bd-5268453d9f43",
        "colab": {
          "base_uri": "https://localhost:8080/",
          "height": 141
        }
      },
      "source": [
        "import nltk\n",
        "nltk.download('punkt')\n",
        "nltk.download('stopwords')\n",
        "\n",
        "\n",
        "toxicComments_lines = list()\n",
        "lines = train['comment_text'].values.tolist()\n",
        "\n",
        "for line in lines:\n",
        "    tokens = word_tokenize(line)\n",
        "    \n",
        "    #convert to lower case\n",
        "    tokens = [w.lower() for w in tokens]\n",
        "    \n",
        "    #remove punctuation from each word\n",
        "    table =  str.maketrans('', '', string.punctuation)\n",
        "    stripped = [w.translate(table) for w in tokens]\n",
        "    \n",
        "    #remove remaining tpkens gthat are not alphabetic\n",
        "    words = [word for word in stripped if word.isalpha()]\n",
        "    \n",
        "    #filter out stop words\n",
        "    stop_words = set(stopwords.words('english'))\n",
        "    words = [w for w in words if not w in stop_words]\n",
        "    toxicComments_lines.append(words)\n",
        "\n",
        "\n",
        "len(toxicComments_lines)\n",
        "\n",
        "\n",
        "\n",
        "#vectorize the text samples into a 2D integer tensor\n",
        "tokenizer_obj = Tokenizer()\n",
        "tokenizer_obj.fit_on_texts(toxicComments_lines)\n",
        "sequences = tokenizer_obj.texts_to_sequences(toxicComments_lines)\n",
        "\n",
        "#pad sequences\n",
        "word_index = tokenizer_obj.word_index\n",
        "print('Found %s uniquue tokens.' % len(word_index))\n",
        "\n",
        "toxicComments_pad = pad_sequences(sequences, maxlen=max_len)\n",
        "comments_tag = train[[\"toxic\", \"severe_toxic\", \"obscene\", \"threat\", \"insult\", \"identity_hate\"]].values\n",
        "print('Shape of toxic comments tensor', toxicComments_pad.shape)\n",
        "print('Shape of comment tensor', comments_tag.shape)"
      ],
      "execution_count": 0,
      "outputs": [
        {
          "output_type": "stream",
          "text": [
            "[nltk_data] Downloading package punkt to\n",
            "[nltk_data]     C:\\Users\\hamza.mohammed\\AppData\\Roaming\\nltk_data...\n",
            "[nltk_data]   Package punkt is already up-to-date!\n",
            "[nltk_data] Downloading package stopwords to\n",
            "[nltk_data]     C:\\Users\\hamza.mohammed\\AppData\\Roaming\\nltk_data...\n",
            "[nltk_data]   Package stopwords is already up-to-date!\n"
          ],
          "name": "stderr"
        },
        {
          "output_type": "stream",
          "text": [
            "Found 36870 uniquue tokens.\n",
            "Shape of toxic comments tensor (16225, 200)\n",
            "Shape of comment tensor (16225, 6)\n"
          ],
          "name": "stdout"
        }
      ]
    },
    {
      "cell_type": "markdown",
      "metadata": {
        "colab_type": "text",
        "id": "OTAsNvo8ejgn"
      },
      "source": [
        "#### Prepare the embedding matrix vectors in order to feed/pass the neural network"
      ]
    },
    {
      "cell_type": "code",
      "metadata": {
        "colab_type": "code",
        "id": "GrtLyPSOejgo",
        "outputId": "f6644c4e-13b6-4bd9-8b81-33f63b6c5382",
        "colab": {
          "base_uri": "https://localhost:8080/",
          "height": 52
        }
      },
      "source": [
        "#embedding matrix\n",
        "print('preparing embedding matrix...')\n",
        "max_nb_words = 100000\n",
        "fastText_embed_dim = 300 \n",
        "\n",
        "words_not_found = []\n",
        "nb_words = min(max_nb_words, len(word_index))\n",
        "fastText_embedding_matrix = np.zeros((nb_words, fastText_embed_dim))\n",
        "for word, i in word_index.items():\n",
        "    if i >= nb_words:\n",
        "        continue\n",
        "    fastText_embedding_vector = fastText_embeddings_index.get(word)\n",
        "    if (fastText_embedding_vector is not None) and len(fastText_embedding_vector) > 0:\n",
        "        # words not found in embedding index will be all-zeros.\n",
        "        fastText_embedding_matrix[i] = fastText_embedding_vector\n",
        "    else:\n",
        "        words_not_found.append(word)\n",
        "print('number of null word embeddings: %d' % np.sum(np.sum(fastText_embedding_matrix, axis=1) == 0))"
      ],
      "execution_count": 0,
      "outputs": [
        {
          "output_type": "stream",
          "text": [
            "preparing embedding matrix...\n",
            "number of null word embeddings: 17081\n"
          ],
          "name": "stdout"
        }
      ]
    },
    {
      "cell_type": "code",
      "metadata": {
        "colab_type": "code",
        "id": "qdOhIMwcQfY-",
        "outputId": "8d919f47-d5f0-471f-9865-42f619cec2c5",
        "colab": {
          "base_uri": "https://localhost:8080/",
          "height": 34
        }
      },
      "source": [
        "print(nb_words)"
      ],
      "execution_count": 0,
      "outputs": [
        {
          "output_type": "stream",
          "text": [
            "36870\n"
          ],
          "name": "stdout"
        }
      ]
    },
    {
      "cell_type": "markdown",
      "metadata": {
        "colab_type": "text",
        "id": "9N5twJkalIbI"
      },
      "source": [
        "## 1) Convolutional Neural Network (CNN) with FastText"
      ]
    },
    {
      "cell_type": "code",
      "metadata": {
        "colab_type": "code",
        "id": "ZmB4r7FblRqG",
        "outputId": "f7667a6a-9fa5-4316-f0fd-a57dbab15030",
        "colab": {
          "base_uri": "https://localhost:8080/",
          "height": 143
        }
      },
      "source": [
        "CNN_FastText_model = Sequential([\n",
        "    Embedding(input_dim=fastText_embedding_matrix.shape[0], input_length=max_len, output_dim=fastText_embedding_matrix.shape[1],weights=[fastText_embedding_matrix], trainable=False),\n",
        "    SpatialDropout1D(0.5),\n",
        "    # ... 100 filters with a kernel size of 4 so that each convolution will consider a window of 4 word embeddings\n",
        "    Conv1D(filters=100, kernel_size=4, padding='same', activation='relu'),\n",
        "    #**batch normalization layer** normalizes the activations of the previous layer at each batch, \n",
        "    #i.e. applies a transformation that maintains the mean activation close to 0 and the activation standard deviation close to 1. \n",
        "    #It will be added after the activation function between a convolutional and a max-pooling layer.\n",
        "    BatchNormalization(),\n",
        "    GlobalMaxPool1D(),\n",
        "    Dropout(0.5),\n",
        "    Dense(50, activation = 'relu'),\n",
        "    Dense(6, activation = 'sigmoid')\n",
        "])"
      ],
      "execution_count": 0,
      "outputs": [
        {
          "output_type": "stream",
          "text": [
            "WARNING:tensorflow:From D:\\Program Files\\Anaconda\\lib\\site-packages\\tensorflow\\python\\framework\\op_def_library.py:263: colocate_with (from tensorflow.python.framework.ops) is deprecated and will be removed in a future version.\n",
            "Instructions for updating:\n",
            "Colocations handled automatically by placer.\n",
            "WARNING:tensorflow:From D:\\Program Files\\Anaconda\\lib\\site-packages\\keras\\backend\\tensorflow_backend.py:3445: calling dropout (from tensorflow.python.ops.nn_ops) with keep_prob is deprecated and will be removed in a future version.\n",
            "Instructions for updating:\n",
            "Please use `rate` instead of `keep_prob`. Rate should be set to `rate = 1 - keep_prob`.\n"
          ],
          "name": "stdout"
        }
      ]
    },
    {
      "cell_type": "code",
      "metadata": {
        "colab_type": "code",
        "id": "zuKSOTHmlUl-",
        "colab": {}
      },
      "source": [
        "#Customized the evaluation to analyse the model in terms of accuracy and mean value accuracy\n",
        "def mean_pred(y_true, y_pred):\n",
        "    return K.mean(y_pred)"
      ],
      "execution_count": 0,
      "outputs": []
    },
    {
      "cell_type": "code",
      "metadata": {
        "colab_type": "code",
        "id": "PopT5igalWC6",
        "outputId": "07379f1a-586c-4077-c276-0def7e476d09",
        "colab": {
          "base_uri": "https://localhost:8080/",
          "height": 123
        }
      },
      "source": [
        "CNN_FastText_model.compile(loss='binary_crossentropy', optimizer=Adam(0.01), metrics=['accuracy', mean_pred, fmeasure, precision, auroc, recall])"
      ],
      "execution_count": 0,
      "outputs": [
        {
          "output_type": "stream",
          "text": [
            "WARNING:tensorflow:From D:\\Program Files\\Anaconda\\lib\\site-packages\\tensorflow\\python\\ops\\metrics_impl.py:526: to_float (from tensorflow.python.ops.math_ops) is deprecated and will be removed in a future version.\n",
            "Instructions for updating:\n",
            "Use tf.cast instead.\n",
            "WARNING:tensorflow:From D:\\Program Files\\Anaconda\\lib\\site-packages\\tensorflow\\python\\ops\\metrics_impl.py:788: div (from tensorflow.python.ops.math_ops) is deprecated and will be removed in a future version.\n",
            "Instructions for updating:\n",
            "Deprecated in favor of operator or tf.math.divide.\n"
          ],
          "name": "stdout"
        }
      ]
    },
    {
      "cell_type": "markdown",
      "metadata": {
        "colab_type": "text",
        "id": "SdvXG6pY4--O"
      },
      "source": [
        "#### Visualize the Orchestrated CNN-FastText Model Architecture"
      ]
    },
    {
      "cell_type": "code",
      "metadata": {
        "colab_type": "code",
        "id": "hO836PbUlagW",
        "outputId": "1f6f5401-0b82-466b-8ba1-3bc9d2d79934",
        "colab": {
          "base_uri": "https://localhost:8080/",
          "height": 425
        }
      },
      "source": [
        "CNN_FastText_model.summary()"
      ],
      "execution_count": 0,
      "outputs": [
        {
          "output_type": "stream",
          "text": [
            "_________________________________________________________________\n",
            "Layer (type)                 Output Shape              Param #   \n",
            "=================================================================\n",
            "embedding_1 (Embedding)      (None, 200, 300)          11061000  \n",
            "_________________________________________________________________\n",
            "spatial_dropout1d_1 (Spatial (None, 200, 300)          0         \n",
            "_________________________________________________________________\n",
            "conv1d_1 (Conv1D)            (None, 200, 100)          120100    \n",
            "_________________________________________________________________\n",
            "batch_normalization_1 (Batch (None, 200, 100)          400       \n",
            "_________________________________________________________________\n",
            "global_max_pooling1d_1 (Glob (None, 100)               0         \n",
            "_________________________________________________________________\n",
            "dropout_1 (Dropout)          (None, 100)               0         \n",
            "_________________________________________________________________\n",
            "dense_1 (Dense)              (None, 50)                5050      \n",
            "_________________________________________________________________\n",
            "dense_2 (Dense)              (None, 6)                 306       \n",
            "=================================================================\n",
            "Total params: 11,186,856\n",
            "Trainable params: 125,656\n",
            "Non-trainable params: 11,061,200\n",
            "_________________________________________________________________\n"
          ],
          "name": "stdout"
        }
      ]
    },
    {
      "cell_type": "code",
      "metadata": {
        "colab_type": "code",
        "id": "EokmYDzYw_Qs",
        "colab": {}
      },
      "source": [
        "#plot the CNN_FastText_model architecture\n",
        "\n",
        "#plot_model(CNN_FastText_model, to_file='CNN_FastText_model_plot.png', show_shapes=True, show_layer_names=True)\n",
        "#Image(retina=True, filename='CNN_FastText_model_plot.png')"
      ],
      "execution_count": 0,
      "outputs": []
    },
    {
      "cell_type": "code",
      "metadata": {
        "colab_type": "code",
        "id": "9AWfMlUSldXp",
        "outputId": "f5db1cad-8c16-4f05-fc6f-4576fb02a8b5",
        "colab": {
          "base_uri": "https://localhost:8080/",
          "height": 641
        }
      },
      "source": [
        "CNN_FastText_model_fit = CNN_FastText_model.fit(X_tra, y_tra, batch_size=batch_size2, epochs=num_epochs, validation_data=(X_val, y_val), callbacks=[early])"
      ],
      "execution_count": 0,
      "outputs": [
        {
          "output_type": "stream",
          "text": [
            "WARNING:tensorflow:From D:\\Program Files\\Anaconda\\lib\\site-packages\\tensorflow\\python\\ops\\math_ops.py:3066: to_int32 (from tensorflow.python.ops.math_ops) is deprecated and will be removed in a future version.\n",
            "Instructions for updating:\n",
            "Use tf.cast instead.\n",
            "Train on 14602 samples, validate on 1623 samples\n",
            "Epoch 1/15\n",
            "14602/14602 [==============================] - 31s 2ms/step - loss: 0.6246 - acc: 0.7892 - mean_pred: 0.3638 - fmeasure: 0.6957 - precision: 0.7323 - auroc: 0.8002 - recall: 0.6663 - val_loss: 0.3648 - val_acc: 0.8380 - val_mean_pred: 0.3347 - val_fmeasure: 0.7256 - val_precision: 0.9185 - val_auroc: 0.8486 - val_recall: 0.5999\n",
            "Epoch 2/15\n",
            "14602/14602 [==============================] - 30s 2ms/step - loss: 0.3948 - acc: 0.8099 - mean_pred: 0.3619 - fmeasure: 0.7139 - precision: 0.7872 - auroc: 0.8599 - recall: 0.6615 - val_loss: 0.3592 - val_acc: 0.8386 - val_mean_pred: 0.3587 - val_fmeasure: 0.7305 - val_precision: 0.9048 - val_auroc: 0.8672 - val_recall: 0.6128\n",
            "Epoch 3/15\n",
            "14602/14602 [==============================] - 29s 2ms/step - loss: 0.3841 - acc: 0.8188 - mean_pred: 0.3620 - fmeasure: 0.7252 - precision: 0.8035 - auroc: 0.8717 - recall: 0.6640 - val_loss: 0.3558 - val_acc: 0.8385 - val_mean_pred: 0.3408 - val_fmeasure: 0.7282 - val_precision: 0.9125 - val_auroc: 0.8756 - val_recall: 0.6062\n",
            "Epoch 4/15\n",
            "14602/14602 [==============================] - 29s 2ms/step - loss: 0.3748 - acc: 0.8276 - mean_pred: 0.3620 - fmeasure: 0.7374 - precision: 0.8230 - auroc: 0.8789 - recall: 0.6732 - val_loss: 0.3581 - val_acc: 0.8397 - val_mean_pred: 0.3342 - val_fmeasure: 0.7271 - val_precision: 0.9276 - val_auroc: 0.8814 - val_recall: 0.5982\n",
            "Epoch 5/15\n",
            "14602/14602 [==============================] - 29s 2ms/step - loss: 0.3679 - acc: 0.8335 - mean_pred: 0.3604 - fmeasure: 0.7427 - precision: 0.8413 - auroc: 0.8836 - recall: 0.6679 - val_loss: 0.3492 - val_acc: 0.8442 - val_mean_pred: 0.3583 - val_fmeasure: 0.7450 - val_precision: 0.8964 - val_auroc: 0.8857 - val_recall: 0.6377\n",
            "Epoch 6/15\n",
            "14602/14602 [==============================] - 29s 2ms/step - loss: 0.3607 - acc: 0.8370 - mean_pred: 0.3597 - fmeasure: 0.7485 - precision: 0.8466 - auroc: 0.8875 - recall: 0.6736 - val_loss: 0.3475 - val_acc: 0.8442 - val_mean_pred: 0.3776 - val_fmeasure: 0.7602 - val_precision: 0.8441 - val_auroc: 0.8892 - val_recall: 0.6916\n",
            "Epoch 7/15\n",
            "14602/14602 [==============================] - 30s 2ms/step - loss: 0.3562 - acc: 0.8421 - mean_pred: 0.3634 - fmeasure: 0.7572 - precision: 0.8517 - auroc: 0.8906 - recall: 0.6835 - val_loss: 0.3433 - val_acc: 0.8425 - val_mean_pred: 0.3767 - val_fmeasure: 0.7710 - val_precision: 0.8009 - val_auroc: 0.8921 - val_recall: 0.7436\n",
            "Epoch 8/15\n",
            "14602/14602 [==============================] - 29s 2ms/step - loss: 0.3561 - acc: 0.8417 - mean_pred: 0.3627 - fmeasure: 0.7606 - precision: 0.8404 - auroc: 0.8933 - recall: 0.6991 - val_loss: 0.3394 - val_acc: 0.8500 - val_mean_pred: 0.3598 - val_fmeasure: 0.7595 - val_precision: 0.8872 - val_auroc: 0.8943 - val_recall: 0.6642\n",
            "Epoch 9/15\n",
            "14602/14602 [==============================] - 29s 2ms/step - loss: 0.3509 - acc: 0.8459 - mean_pred: 0.3606 - fmeasure: 0.7649 - precision: 0.8518 - auroc: 0.8954 - recall: 0.6952 - val_loss: 0.3413 - val_acc: 0.8504 - val_mean_pred: 0.3414 - val_fmeasure: 0.7557 - val_precision: 0.9054 - val_auroc: 0.8964 - val_recall: 0.6486\n",
            "Epoch 10/15\n",
            "14602/14602 [==============================] - 30s 2ms/step - loss: 0.3493 - acc: 0.8465 - mean_pred: 0.3602 - fmeasure: 0.7649 - precision: 0.8564 - auroc: 0.8973 - recall: 0.6922 - val_loss: 0.3347 - val_acc: 0.8534 - val_mean_pred: 0.3593 - val_fmeasure: 0.7668 - val_precision: 0.8866 - val_auroc: 0.8981 - val_recall: 0.6757\n",
            "Epoch 11/15\n",
            "14602/14602 [==============================] - 30s 2ms/step - loss: 0.3463 - acc: 0.8489 - mean_pred: 0.3609 - fmeasure: 0.7713 - precision: 0.8508 - auroc: 0.8989 - recall: 0.7070 - val_loss: 0.3375 - val_acc: 0.8521 - val_mean_pred: 0.3527 - val_fmeasure: 0.7675 - val_precision: 0.8745 - val_auroc: 0.8996 - val_recall: 0.6840\n",
            "Epoch 12/15\n",
            "14602/14602 [==============================] - 29s 2ms/step - loss: 0.3467 - acc: 0.8485 - mean_pred: 0.3604 - fmeasure: 0.7707 - precision: 0.8510 - auroc: 0.9003 - recall: 0.7054 - val_loss: 0.3339 - val_acc: 0.8562 - val_mean_pred: 0.3596 - val_fmeasure: 0.7741 - val_precision: 0.8819 - val_auroc: 0.9009 - val_recall: 0.6899\n",
            "Epoch 13/15\n",
            "14602/14602 [==============================] - 30s 2ms/step - loss: 0.3435 - acc: 0.8513 - mean_pred: 0.3596 - fmeasure: 0.7750 - precision: 0.8548 - auroc: 0.9016 - recall: 0.7102 - val_loss: 0.3291 - val_acc: 0.8577 - val_mean_pred: 0.3582 - val_fmeasure: 0.7773 - val_precision: 0.8808 - val_auroc: 0.9022 - val_recall: 0.6957\n",
            "Epoch 14/15\n",
            "14602/14602 [==============================] - 30s 2ms/step - loss: 0.3410 - acc: 0.8500 - mean_pred: 0.3621 - fmeasure: 0.7740 - precision: 0.8493 - auroc: 0.9028 - recall: 0.7120 - val_loss: 0.3309 - val_acc: 0.8573 - val_mean_pred: 0.3515 - val_fmeasure: 0.7751 - val_precision: 0.8863 - val_auroc: 0.9033 - val_recall: 0.6887\n",
            "Epoch 15/15\n",
            "14602/14602 [==============================] - 30s 2ms/step - loss: 0.3400 - acc: 0.8520 - mean_pred: 0.3617 - fmeasure: 0.7779 - precision: 0.8490 - auroc: 0.9038 - recall: 0.7188 - val_loss: 0.3292 - val_acc: 0.8612 - val_mean_pred: 0.3583 - val_fmeasure: 0.7838 - val_precision: 0.8825 - val_auroc: 0.9043 - val_recall: 0.7051\n"
          ],
          "name": "stdout"
        }
      ]
    },
    {
      "cell_type": "markdown",
      "metadata": {
        "colab_type": "text",
        "id": "PIp84-0R5Gdr"
      },
      "source": [
        "#### Evaluate the CNN+fastText Model accuracy of our trained model"
      ]
    },
    {
      "cell_type": "code",
      "metadata": {
        "colab_type": "code",
        "id": "8MP6iO-3lgBe",
        "outputId": "d72d1c3f-cc4a-4898-ea0b-1b9bd9fdb175",
        "colab": {
          "base_uri": "https://localhost:8080/",
          "height": 70
        }
      },
      "source": [
        "CNN_FastText_train_score = CNN_FastText_model.evaluate(X_train, y_train, batch_size=batch_size2, verbose=1)\n",
        "print('Train Loss:', CNN_FastText_train_score[0])\n",
        "print('Train Accuracy:', CNN_FastText_train_score[1])"
      ],
      "execution_count": 0,
      "outputs": [
        {
          "output_type": "stream",
          "text": [
            ""
          ],
          "name": "stdout"
        },
        {
          "output_type": "stream",
          "text": [
            "16225/16225 [==============================] - 14s 892us/step\n",
            "Train Loss: 0.32308379427493994\n",
            "Train Accuracy: 0.8656291980919743\n"
          ],
          "name": "stdout"
        }
      ]
    },
    {
      "cell_type": "markdown",
      "metadata": {
        "colab_type": "text",
        "id": "4BFe8BG55XLe"
      },
      "source": [
        "#### Evaluate the CNN+FastText accuracy base our test samples"
      ]
    },
    {
      "cell_type": "code",
      "metadata": {
        "colab_type": "code",
        "id": "wF-E-YfXlifj",
        "outputId": "4feae3e8-2bff-4b84-9791-f93d590d8a53",
        "colab": {
          "base_uri": "https://localhost:8080/",
          "height": 70
        }
      },
      "source": [
        "CNN_FastText_test_score = CNN_FastText_model.evaluate(X_test, y_test, batch_size=batch_size2, verbose=1)\n",
        "print('Test Loss:', CNN_FastText_train_score[0])\n",
        "print('Test Accuracy:', CNN_FastText_train_score[1])"
      ],
      "execution_count": 0,
      "outputs": [
        {
          "output_type": "stream",
          "text": [
            ""
          ],
          "name": "stdout"
        },
        {
          "output_type": "stream",
          "text": [
            "6234/6234 [==============================] - 5s 876us/step\n",
            "Test Loss: 0.32308379427493994\n",
            "Test Accuracy: 0.8656291980919743\n"
          ],
          "name": "stdout"
        }
      ]
    },
    {
      "cell_type": "code",
      "metadata": {
        "colab_type": "code",
        "id": "hosf_OzalksO",
        "outputId": "2921115b-7771-4aca-9d8f-44c62d15856e",
        "colab": {
          "base_uri": "https://localhost:8080/",
          "height": 52
        }
      },
      "source": [
        "#Predicting......\n",
        "print('Predicting....')\n",
        "y_pred = CNN_FastText_model.predict(X_test,batch_size=batch_size2,verbose=1)"
      ],
      "execution_count": 0,
      "outputs": [
        {
          "output_type": "stream",
          "text": [
            "Predicting....\n",
            "6234/6234 [==============================] - 5s 868us/step\n"
          ],
          "name": "stdout"
        }
      ]
    },
    {
      "cell_type": "markdown",
      "metadata": {
        "colab_type": "text",
        "id": "-iw7SM-W5gxr"
      },
      "source": [
        "#### Plot Training & Validation Accuracy with the Loss values of the CNN-FastText Model"
      ]
    },
    {
      "cell_type": "code",
      "metadata": {
        "colab_type": "code",
        "id": "nNQYtI4LloSs",
        "outputId": "23be0716-0d7e-4a65-e06f-a1ca601d8d1d",
        "colab": {
          "base_uri": "https://localhost:8080/",
          "height": 376
        }
      },
      "source": [
        "# Plot training & validation accuracy values\n",
        "plt.plot(CNN_FastText_model_fit.history['acc'])\n",
        "plt.plot(CNN_FastText_model_fit.history['val_acc'])\n",
        "plt.title('CNN-FastText Model accuracy')\n",
        "plt.ylabel('Accuracy')\n",
        "plt.xlabel('Epoch')\n",
        "plt.legend(['Training Accuracy', 'Validation Accuracy'], loc='upper left')\n",
        "plt.show()"
      ],
      "execution_count": 0,
      "outputs": [
        {
          "output_type": "display_data",
          "data": {
            "image/png": "[encoded data removed]",
            "text/plain": [
              "<Figure size 432x288 with 1 Axes>"
            ]
          },
          "metadata": {
            "tags": [],
            "needs_background": "light"
          }
        }
      ]
    },
    {
      "cell_type": "code",
      "metadata": {
        "colab_type": "code",
        "id": "u4TIrrZNlp2Z",
        "outputId": "1445c32b-2c33-4a0c-8698-1b56121c8fa1",
        "colab": {
          "base_uri": "https://localhost:8080/",
          "height": 376
        }
      },
      "source": [
        "# Plot training & validation loss values\n",
        "plt.plot(CNN_FastText_model_fit.history['loss'])\n",
        "plt.plot(CNN_FastText_model_fit.history['val_loss'])\n",
        "plt.title('CNN-FastText Model loss')\n",
        "plt.ylabel('Loss')\n",
        "plt.xlabel('Epoch')\n",
        "plt.legend(['Training Loss', 'Validation Loss'], loc='lower right')\n",
        "plt.show()"
      ],
      "execution_count": 0,
      "outputs": [
        {
          "output_type": "display_data",
          "data": {
            "image/png": "[encoded data removed]",
            "text/plain": [
              "<Figure size 432x288 with 1 Axes>"
            ]
          },
          "metadata": {
            "tags": [],
            "needs_background": "light"
          }
        }
      ]
    },
    {
      "cell_type": "markdown",
      "metadata": {
        "colab_type": "text",
        "id": "q9LGffb2l7JW"
      },
      "source": [
        "## 2) Recurrent Neural Network (RNN) with FastText"
      ]
    },
    {
      "cell_type": "code",
      "metadata": {
        "colab_type": "code",
        "id": "WeuwCt6Jl93r",
        "colab": {}
      },
      "source": [
        "RNN_FastText_model = Sequential([\n",
        "    Embedding(input_dim =fastText_embedding_matrix.shape[0], input_length=max_len, output_dim=fastText_embedding_matrix.shape[1],weights=[fastText_embedding_matrix], trainable=False),\n",
        "    SpatialDropout1D(0.5),\n",
        "    #Fully-connected RNN where the output is to be fed back to input.\n",
        "    SimpleRNN(25, return_sequences=True),\n",
        "    #**batch normalization layer** normalizes the activations of the previous layer at each batch, \n",
        "    #i.e. applies a transformation that maintains the mean activation close to 0 and the activation standard deviation close to 1. \n",
        "    BatchNormalization(),\n",
        "    Dropout(0.5),\n",
        "    GlobalMaxPool1D(),\n",
        "    Dense(50, activation = 'relu'),\n",
        "    Dense(6, activation = 'sigmoid')\n",
        "])"
      ],
      "execution_count": 0,
      "outputs": []
    },
    {
      "cell_type": "code",
      "metadata": {
        "colab_type": "code",
        "id": "tamCBt2emBZq",
        "colab": {}
      },
      "source": [
        "#Customized the evaluation to analyse the model in terms of accuracy and mean value accuracy\n",
        "def mean_pred(y_true, y_pred):\n",
        "    return K.mean(y_pred)"
      ],
      "execution_count": 0,
      "outputs": []
    },
    {
      "cell_type": "code",
      "metadata": {
        "colab_type": "code",
        "id": "j9SFCjfNmEyi",
        "colab": {}
      },
      "source": [
        "RNN_FastText_model.compile(loss='binary_crossentropy', optimizer=Adam(0.01), metrics=['accuracy', mean_pred, fmeasure, precision, auroc, recall])"
      ],
      "execution_count": 0,
      "outputs": []
    },
    {
      "cell_type": "markdown",
      "metadata": {
        "colab_type": "text",
        "id": "RrZEKX2M5sJf"
      },
      "source": [
        "#### Visualize the Orchestrated RNN-fastText Model Architecture"
      ]
    },
    {
      "cell_type": "code",
      "metadata": {
        "colab_type": "code",
        "id": "tmrQckJBmHp5",
        "outputId": "219b6d04-d2a7-42d6-9325-6b50977b1efc",
        "colab": {
          "base_uri": "https://localhost:8080/",
          "height": 425
        }
      },
      "source": [
        "RNN_FastText_model.summary()"
      ],
      "execution_count": 0,
      "outputs": [
        {
          "output_type": "stream",
          "text": [
            "_________________________________________________________________\n",
            "Layer (type)                 Output Shape              Param #   \n",
            "=================================================================\n",
            "embedding_2 (Embedding)      (None, 200, 300)          11061000  \n",
            "_________________________________________________________________\n",
            "spatial_dropout1d_2 (Spatial (None, 200, 300)          0         \n",
            "_________________________________________________________________\n",
            "simple_rnn_1 (SimpleRNN)     (None, 200, 25)           8150      \n",
            "_________________________________________________________________\n",
            "batch_normalization_2 (Batch (None, 200, 25)           100       \n",
            "_________________________________________________________________\n",
            "dropout_2 (Dropout)          (None, 200, 25)           0         \n",
            "_________________________________________________________________\n",
            "global_max_pooling1d_2 (Glob (None, 25)                0         \n",
            "_________________________________________________________________\n",
            "dense_3 (Dense)              (None, 50)                1300      \n",
            "_________________________________________________________________\n",
            "dense_4 (Dense)              (None, 6)                 306       \n",
            "=================================================================\n",
            "Total params: 11,070,856\n",
            "Trainable params: 9,806\n",
            "Non-trainable params: 11,061,050\n",
            "_________________________________________________________________\n"
          ],
          "name": "stdout"
        }
      ]
    },
    {
      "cell_type": "code",
      "metadata": {
        "colab_type": "code",
        "id": "vsKSacORxYkA",
        "colab": {}
      },
      "source": [
        "#plot the RNN_FastText_model architecture\n",
        "\n",
        "#plot_model(RNN_FastText_model, to_file='RNN_FastText_model_plot.png', show_shapes=True, show_layer_names=True)\n",
        "#Image(retina=True, filename='RNN_FastText_model_plot.png')"
      ],
      "execution_count": 0,
      "outputs": []
    },
    {
      "cell_type": "code",
      "metadata": {
        "colab_type": "code",
        "id": "ctx9GqvmmpHy",
        "outputId": "d01d1f22-f587-48b2-d9ed-c1e588426bae",
        "colab": {
          "base_uri": "https://localhost:8080/",
          "height": 516
        }
      },
      "source": [
        "RNN_FastText_model_fit = RNN_FastText_model.fit(X_tra, y_tra, batch_size=batch_size2, epochs=num_epochs, validation_data=(X_val, y_val), callbacks=[early])"
      ],
      "execution_count": 0,
      "outputs": [
        {
          "output_type": "stream",
          "text": [
            "Train on 14602 samples, validate on 1623 samples\n",
            "Epoch 1/15\n",
            "14602/14602 [==============================] - 13s 864us/step - loss: 0.4799 - acc: 0.7785 - mean_pred: 0.3649 - fmeasure: 0.6833 - precision: 0.7349 - auroc: 0.8052 - recall: 0.6694 - val_loss: 0.4189 - val_acc: 0.7853 - val_mean_pred: 0.4036 - val_fmeasure: 0.6933 - val_precision: 0.7080 - val_auroc: 0.8536 - val_recall: 0.6798\n",
            "Epoch 2/15\n",
            "14602/14602 [==============================] - 11s 736us/step - loss: 0.3954 - acc: 0.7937 - mean_pred: 0.3598 - fmeasure: 0.7024 - precision: 0.7376 - auroc: 0.8601 - recall: 0.6834 - val_loss: 0.4359 - val_acc: 0.7963 - val_mean_pred: 0.4031 - val_fmeasure: 0.7187 - val_precision: 0.7092 - val_auroc: 0.8647 - val_recall: 0.7291\n",
            "Epoch 3/15\n",
            "14602/14602 [==============================] - 11s 773us/step - loss: 0.3926 - acc: 0.7981 - mean_pred: 0.3620 - fmeasure: 0.7095 - precision: 0.7458 - auroc: 0.8675 - recall: 0.6954 - val_loss: 0.4231 - val_acc: 0.8003 - val_mean_pred: 0.3969 - val_fmeasure: 0.7386 - val_precision: 0.6935 - val_auroc: 0.8697 - val_recall: 0.7908\n",
            "Epoch 4/15\n",
            "14602/14602 [==============================] - 11s 744us/step - loss: 0.3903 - acc: 0.8030 - mean_pred: 0.3604 - fmeasure: 0.7155 - precision: 0.7539 - auroc: 0.8715 - recall: 0.6964 - val_loss: 0.4203 - val_acc: 0.8080 - val_mean_pred: 0.3913 - val_fmeasure: 0.7207 - val_precision: 0.7501 - val_auroc: 0.8732 - val_recall: 0.6941\n",
            "Epoch 5/15\n",
            "14602/14602 [==============================] - 11s 749us/step - loss: 0.3886 - acc: 0.8053 - mean_pred: 0.3602 - fmeasure: 0.7193 - precision: 0.7523 - auroc: 0.8747 - recall: 0.6952 - val_loss: 0.4257 - val_acc: 0.8097 - val_mean_pred: 0.4073 - val_fmeasure: 0.7520 - val_precision: 0.7035 - val_auroc: 0.8756 - val_recall: 0.8087\n"
          ],
          "name": "stdout"
        }
      ]
    },
    {
      "cell_type": "markdown",
      "metadata": {
        "colab_type": "text",
        "id": "YNxYlxFu50eB"
      },
      "source": [
        "#### Evaluate the RNN+fastText Model accuracy of our trained model"
      ]
    },
    {
      "cell_type": "code",
      "metadata": {
        "colab_type": "code",
        "id": "wh1TsqbcmM29",
        "outputId": "925ccc20-06dd-4b84-bd4a-4495494142b3",
        "colab": {
          "base_uri": "https://localhost:8080/",
          "height": 70
        }
      },
      "source": [
        "RNN_FastText_train_score = RNN_FastText_model.evaluate(X_tra, y_tra, batch_size=batch_size2, verbose=1)\n",
        "print('Train Loss:', RNN_FastText_train_score[0])\n",
        "print('Train Accuracy:', RNN_FastText_train_score[1])"
      ],
      "execution_count": 0,
      "outputs": [
        {
          "output_type": "stream",
          "text": [
            ""
          ],
          "name": "stdout"
        },
        {
          "output_type": "stream",
          "text": [
            "14602/14602 [==============================] - 6s 415us/step\n",
            "Train Loss: 0.4309959732911437\n",
            "Train Accuracy: 0.8045244845947556\n"
          ],
          "name": "stdout"
        }
      ]
    },
    {
      "cell_type": "markdown",
      "metadata": {
        "colab_type": "text",
        "id": "cgb9w2zi5-os"
      },
      "source": [
        "#### Evaluate the RNN+FastText accuracy base our test samples"
      ]
    },
    {
      "cell_type": "code",
      "metadata": {
        "colab_type": "code",
        "id": "3W0b4Zb_mPeC",
        "outputId": "483da729-6ac5-4fd9-c4d6-c510bb564552",
        "colab": {
          "base_uri": "https://localhost:8080/",
          "height": 70
        }
      },
      "source": [
        "RNN_FastText_test_score = RNN_FastText_model.evaluate(X_test, y_test, batch_size=batch_size2, verbose=1)\n",
        "print('Test Loss:', RNN_FastText_test_score[0])\n",
        "print('Test Accuracy:', RNN_FastText_test_score[1])"
      ],
      "execution_count": 0,
      "outputs": [
        {
          "output_type": "stream",
          "text": [
            ""
          ],
          "name": "stdout"
        },
        {
          "output_type": "stream",
          "text": [
            "6234/6234 [==============================] - 3s 431us/step\n",
            "Test Loss: 0.4225380143409438\n",
            "Test Accuracy: 0.8155812142099522\n"
          ],
          "name": "stdout"
        }
      ]
    },
    {
      "cell_type": "code",
      "metadata": {
        "colab_type": "code",
        "id": "CiyCdGSVmSXL",
        "outputId": "54c42e03-d515-4ab2-faec-0f3e8ef101a5",
        "colab": {
          "base_uri": "https://localhost:8080/",
          "height": 52
        }
      },
      "source": [
        "#Predicting......\n",
        "print('Predicting....')\n",
        "y_pred = RNN_FastText_model.predict(X_test,batch_size=batch_size2,verbose=1)"
      ],
      "execution_count": 0,
      "outputs": [
        {
          "output_type": "stream",
          "text": [
            "Predicting....\n",
            "6234/6234 [==============================] - 3s 418us/step\n"
          ],
          "name": "stdout"
        }
      ]
    },
    {
      "cell_type": "markdown",
      "metadata": {
        "colab_type": "text",
        "id": "ITS1jjpo6H8L"
      },
      "source": [
        "#### Plot Training & Validation Accuracy with the Loss values of the RNN-fastText Model"
      ]
    },
    {
      "cell_type": "code",
      "metadata": {
        "colab_type": "code",
        "id": "2o5qqWHvmVIE",
        "outputId": "83285e31-177d-4994-8bcb-f73855db23ae",
        "colab": {
          "base_uri": "https://localhost:8080/",
          "height": 376
        }
      },
      "source": [
        "# Plot training & validation accuracy values\n",
        "plt.plot(RNN_FastText_model_fit.history['acc'])\n",
        "plt.plot(RNN_FastText_model_fit.history['val_acc'])\n",
        "plt.title('CNN-FastText Model accuracy')\n",
        "plt.ylabel('Accuracy')\n",
        "plt.xlabel('Epoch')\n",
        "plt.legend(['Training Accuracy', 'Validation Accuracy'], loc='upper left')\n",
        "plt.show()"
      ],
      "execution_count": 0,
      "outputs": [
        {
          "output_type": "display_data",
          "data": {
            "image/png": "[encoded data removed]",
            "text/plain": [
              "<Figure size 432x288 with 1 Axes>"
            ]
          },
          "metadata": {
            "tags": [],
            "needs_background": "light"
          }
        }
      ]
    },
    {
      "cell_type": "code",
      "metadata": {
        "colab_type": "code",
        "id": "OWdqH-PqmWZJ",
        "outputId": "71055111-62d2-4fcf-d117-cdf946c86591",
        "colab": {
          "base_uri": "https://localhost:8080/",
          "height": 376
        }
      },
      "source": [
        "# Plot training & validation loss values\n",
        "plt.plot(RNN_FastText_model_fit.history['loss'])\n",
        "plt.plot(RNN_FastText_model_fit.history['val_loss'])\n",
        "plt.title('CNN-FastText Model loss')\n",
        "plt.ylabel('Loss')\n",
        "plt.xlabel('Epoch')\n",
        "plt.legend(['Training Loss', 'Validation Loss'], loc='lower right')\n",
        "plt.show()"
      ],
      "execution_count": 0,
      "outputs": [
        {
          "output_type": "display_data",
          "data": {
            "image/png": "[encoded data removed]",
            "text/plain": [
              "<Figure size 432x288 with 1 Axes>"
            ]
          },
          "metadata": {
            "tags": [],
            "needs_background": "light"
          }
        }
      ]
    },
    {
      "cell_type": "code",
      "metadata": {
        "id": "58JJzg1ADTBv",
        "colab_type": "code",
        "colab": {},
        "outputId": "1f195bed-cae9-476e-f33b-81bc0f3056ab"
      },
      "source": [
        "# predict probabilities for test set\n",
        "yhat_probs = RNN_FastText_model.predict(X_test, verbose=1)\n",
        "print(yhat_probs)\n",
        "# predict crisp classes for test set\n",
        "yhat_classes = RNN_FastText_model.predict_classes(X_test, verbose=1)\n",
        "print(yhat_classes)"
      ],
      "execution_count": 0,
      "outputs": [
        {
          "output_type": "stream",
          "text": [
            ""
          ],
          "name": "stdout"
        },
        {
          "output_type": "stream",
          "text": [
            "6234/6234 [==============================] - 6s 1ms/step\n",
            "[[0.85107136 0.246954   0.54405147 0.16793635 0.553635   0.20082527]\n",
            " [0.8498229  0.25077754 0.5478154  0.16187084 0.56371325 0.19933781]\n",
            " [0.85818315 0.2647704  0.5621076  0.15608877 0.5815856  0.1971297 ]\n",
            " ...\n",
            " [0.8450302  0.23700115 0.5376002  0.17065093 0.5397093  0.20088068]\n",
            " [0.65039754 0.33571368 0.41530335 0.26512724 0.42163906 0.2648549 ]\n",
            " [0.8246664  0.21099904 0.5208483  0.16280852 0.51561606 0.19867061]]\n",
            "6234/6234 [==============================] - 6s 1ms/step\n",
            "[0 0 0 ... 0 0 0]\n"
          ],
          "name": "stdout"
        }
      ]
    },
    {
      "cell_type": "code",
      "metadata": {
        "id": "VsxfIGS5DTBy",
        "colab_type": "code",
        "colab": {},
        "outputId": "f9be42ee-71d8-4be5-f1ef-870e1e29fbfe"
      },
      "source": [
        "# accuracy: (tp + tn) / (p + n)\n",
        "accuracy = accuracy_score(X_test, yhat_classes)\n",
        "print('Accuracy: %f' % accuracy)\n",
        "# precision tp / (tp + fp)\n",
        "precision = precision_score(X_test, yhat_classes)\n",
        "print('Precision: %f' % precision)\n",
        "# recall: tp / (tp + fn)\n",
        "recall = recall_score(X_test, yhat_classes)\n",
        "print('Recall: %f' % recall)\n",
        "# f1: 2 tp / (2 tp + fp + fn)\n",
        "f1 = f1_score(X_test, yhat_classes)\n",
        "print('F1 score: %f' % f1)"
      ],
      "execution_count": 0,
      "outputs": [
        {
          "output_type": "error",
          "ename": "ValueError",
          "evalue": "Classification metrics can't handle a mix of multiclass-multioutput and binary targets",
          "traceback": [
            "\u001b[1;31m---------------------------------------------------------------------------\u001b[0m",
            "\u001b[1;31mValueError\u001b[0m                                Traceback (most recent call last)",
            "\u001b[1;32m<ipython-input-78-fb5e4fecc98d>\u001b[0m in \u001b[0;36m<module>\u001b[1;34m\u001b[0m\n\u001b[0;32m      1\u001b[0m \u001b[1;31m# accuracy: (tp + tn) / (p + n)\u001b[0m\u001b[1;33m\u001b[0m\u001b[1;33m\u001b[0m\u001b[1;33m\u001b[0m\u001b[0m\n\u001b[1;32m----> 2\u001b[1;33m \u001b[0maccuracy\u001b[0m \u001b[1;33m=\u001b[0m \u001b[0maccuracy_score\u001b[0m\u001b[1;33m(\u001b[0m\u001b[0mX_test\u001b[0m\u001b[1;33m,\u001b[0m \u001b[0myhat_classes\u001b[0m\u001b[1;33m)\u001b[0m\u001b[1;33m\u001b[0m\u001b[1;33m\u001b[0m\u001b[0m\n\u001b[0m\u001b[0;32m      3\u001b[0m \u001b[0mprint\u001b[0m\u001b[1;33m(\u001b[0m\u001b[1;34m'Accuracy: %f'\u001b[0m \u001b[1;33m%\u001b[0m \u001b[0maccuracy\u001b[0m\u001b[1;33m)\u001b[0m\u001b[1;33m\u001b[0m\u001b[1;33m\u001b[0m\u001b[0m\n\u001b[0;32m      4\u001b[0m \u001b[1;31m# precision tp / (tp + fp)\u001b[0m\u001b[1;33m\u001b[0m\u001b[1;33m\u001b[0m\u001b[1;33m\u001b[0m\u001b[0m\n\u001b[0;32m      5\u001b[0m \u001b[0mprecision\u001b[0m \u001b[1;33m=\u001b[0m \u001b[0mprecision_score\u001b[0m\u001b[1;33m(\u001b[0m\u001b[0mX_test\u001b[0m\u001b[1;33m,\u001b[0m \u001b[0myhat_classes\u001b[0m\u001b[1;33m)\u001b[0m\u001b[1;33m\u001b[0m\u001b[1;33m\u001b[0m\u001b[0m\n",
            "\u001b[1;32mD:\\Program Files\\Anaconda\\lib\\site-packages\\sklearn\\metrics\\classification.py\u001b[0m in \u001b[0;36maccuracy_score\u001b[1;34m(y_true, y_pred, normalize, sample_weight)\u001b[0m\n\u001b[0;32m    174\u001b[0m \u001b[1;33m\u001b[0m\u001b[0m\n\u001b[0;32m    175\u001b[0m     \u001b[1;31m# Compute accuracy for each possible representation\u001b[0m\u001b[1;33m\u001b[0m\u001b[1;33m\u001b[0m\u001b[1;33m\u001b[0m\u001b[0m\n\u001b[1;32m--> 176\u001b[1;33m     \u001b[0my_type\u001b[0m\u001b[1;33m,\u001b[0m \u001b[0my_true\u001b[0m\u001b[1;33m,\u001b[0m \u001b[0my_pred\u001b[0m \u001b[1;33m=\u001b[0m \u001b[0m_check_targets\u001b[0m\u001b[1;33m(\u001b[0m\u001b[0my_true\u001b[0m\u001b[1;33m,\u001b[0m \u001b[0my_pred\u001b[0m\u001b[1;33m)\u001b[0m\u001b[1;33m\u001b[0m\u001b[1;33m\u001b[0m\u001b[0m\n\u001b[0m\u001b[0;32m    177\u001b[0m     \u001b[0mcheck_consistent_length\u001b[0m\u001b[1;33m(\u001b[0m\u001b[0my_true\u001b[0m\u001b[1;33m,\u001b[0m \u001b[0my_pred\u001b[0m\u001b[1;33m,\u001b[0m \u001b[0msample_weight\u001b[0m\u001b[1;33m)\u001b[0m\u001b[1;33m\u001b[0m\u001b[1;33m\u001b[0m\u001b[0m\n\u001b[0;32m    178\u001b[0m     \u001b[1;32mif\u001b[0m \u001b[0my_type\u001b[0m\u001b[1;33m.\u001b[0m\u001b[0mstartswith\u001b[0m\u001b[1;33m(\u001b[0m\u001b[1;34m'multilabel'\u001b[0m\u001b[1;33m)\u001b[0m\u001b[1;33m:\u001b[0m\u001b[1;33m\u001b[0m\u001b[1;33m\u001b[0m\u001b[0m\n",
            "\u001b[1;32mD:\\Program Files\\Anaconda\\lib\\site-packages\\sklearn\\metrics\\classification.py\u001b[0m in \u001b[0;36m_check_targets\u001b[1;34m(y_true, y_pred)\u001b[0m\n\u001b[0;32m     79\u001b[0m     \u001b[1;32mif\u001b[0m \u001b[0mlen\u001b[0m\u001b[1;33m(\u001b[0m\u001b[0my_type\u001b[0m\u001b[1;33m)\u001b[0m \u001b[1;33m>\u001b[0m \u001b[1;36m1\u001b[0m\u001b[1;33m:\u001b[0m\u001b[1;33m\u001b[0m\u001b[1;33m\u001b[0m\u001b[0m\n\u001b[0;32m     80\u001b[0m         raise ValueError(\"Classification metrics can't handle a mix of {0} \"\n\u001b[1;32m---> 81\u001b[1;33m                          \"and {1} targets\".format(type_true, type_pred))\n\u001b[0m\u001b[0;32m     82\u001b[0m \u001b[1;33m\u001b[0m\u001b[0m\n\u001b[0;32m     83\u001b[0m     \u001b[1;31m# We can't have more than one value on y_type => The set is no more needed\u001b[0m\u001b[1;33m\u001b[0m\u001b[1;33m\u001b[0m\u001b[1;33m\u001b[0m\u001b[0m\n",
            "\u001b[1;31mValueError\u001b[0m: Classification metrics can't handle a mix of multiclass-multioutput and binary targets"
          ]
        }
      ]
    },
    {
      "cell_type": "markdown",
      "metadata": {
        "colab_type": "text",
        "id": "TwhPf8cEQ8ub"
      },
      "source": [
        "## 3) LSTM with fastText"
      ]
    },
    {
      "cell_type": "code",
      "metadata": {
        "colab_type": "code",
        "id": "cBhUz43qRAd-",
        "colab": {}
      },
      "source": [
        "LSTM_FastText_model = Sequential([\n",
        "    Embedding(input_dim =fastText_embedding_matrix.shape[0], input_length=max_len, output_dim=fastText_embedding_matrix.shape[1],weights=[fastText_embedding_matrix], trainable=False),\n",
        "    SpatialDropout1D(0.5),\n",
        "    #Bidirectional layer will enable our model to predict a missing word in a sequence, \n",
        "    #So, using this feature will enable the model to look at the context on both the left and the right.\n",
        "    LSTM(25, return_sequences=True),\n",
        "    #**batch normalization layer** normalizes the activations of the previous layer at each batch, \n",
        "    #i.e. applies a transformation that maintains the mean activation close to 0 and the activation standard deviation close to 1. \n",
        "    BatchNormalization(),\n",
        "    Dropout(0.5),\n",
        "    GlobalMaxPool1D(),\n",
        "    Dense(50, activation = 'relu'),\n",
        "    Dense(6, activation = 'sigmoid')\n",
        "])\n",
        "\n",
        "LSTM_FastText_model.compile(loss='binary_crossentropy', optimizer=Adam(0.01), metrics=['accuracy', mean_pred, fmeasure, precision, auroc, recall])"
      ],
      "execution_count": 0,
      "outputs": []
    },
    {
      "cell_type": "markdown",
      "metadata": {
        "colab_type": "text",
        "id": "rxBsAAvSRJ4E"
      },
      "source": [
        "### Visualize the Orchestrated LSTM-fastText Model Architecture"
      ]
    },
    {
      "cell_type": "code",
      "metadata": {
        "colab_type": "code",
        "id": "KSPpdc_ORVxa",
        "outputId": "3b1d83a5-100b-4f75-cfca-e3ea511cf399",
        "colab": {
          "base_uri": "https://localhost:8080/",
          "height": 897
        }
      },
      "source": [
        "LSTM_FastText_model.summary()\n",
        "#plot the CNN_GLove model architecture\n",
        "\n",
        "#plot_model(LSTM_FastText_model, to_file='LSTM_FastText_model_plot.png', show_shapes=True, show_layer_names=True)\n",
        "#Image(retina=True, filename='LSTM_FastText_model_plot.png')"
      ],
      "execution_count": 0,
      "outputs": [
        {
          "output_type": "stream",
          "text": [
            "_________________________________________________________________\n",
            "Layer (type)                 Output Shape              Param #   \n",
            "=================================================================\n",
            "embedding_3 (Embedding)      (None, 200, 300)          11061000  \n",
            "_________________________________________________________________\n",
            "spatial_dropout1d_3 (Spatial (None, 200, 300)          0         \n",
            "_________________________________________________________________\n",
            "lstm_1 (LSTM)                (None, 200, 25)           32600     \n",
            "_________________________________________________________________\n",
            "batch_normalization_3 (Batch (None, 200, 25)           100       \n",
            "_________________________________________________________________\n",
            "dropout_3 (Dropout)          (None, 200, 25)           0         \n",
            "_________________________________________________________________\n",
            "global_max_pooling1d_3 (Glob (None, 25)                0         \n",
            "_________________________________________________________________\n",
            "dense_5 (Dense)              (None, 50)                1300      \n",
            "_________________________________________________________________\n",
            "dense_6 (Dense)              (None, 6)                 306       \n",
            "=================================================================\n",
            "Total params: 11,095,306\n",
            "Trainable params: 34,256\n",
            "Non-trainable params: 11,061,050\n",
            "_________________________________________________________________\n"
          ],
          "name": "stdout"
        }
      ]
    },
    {
      "cell_type": "code",
      "metadata": {
        "colab_type": "code",
        "id": "keT2uPLzUwm1",
        "outputId": "5e3b296d-06dc-40e7-d2cf-376940cc63a8",
        "colab": {
          "base_uri": "https://localhost:8080/",
          "height": 410
        }
      },
      "source": [
        "LSTM_FastText_model_fit = LSTM_FastText_model.fit(X_tra, y_tra, batch_size=batch_size2, epochs=num_epochs, validation_data=(X_val, y_val), callbacks=[early])"
      ],
      "execution_count": 0,
      "outputs": [
        {
          "output_type": "stream",
          "text": [
            "Train on 14602 samples, validate on 1623 samples\n",
            "Epoch 1/15\n",
            "14602/14602 [==============================] - 24s 2ms/step - loss: 0.4414 - acc: 0.8010 - mean_pred: 0.3602 - fmeasure: 0.7100 - precision: 0.7600 - auroc: 0.8357 - recall: 0.6894 - val_loss: 0.4248 - val_acc: 0.8305 - val_mean_pred: 0.3935 - val_fmeasure: 0.7372 - val_precision: 0.8256 - val_auroc: 0.8724 - val_recall: 0.6661\n",
            "Epoch 2/15\n",
            "14602/14602 [==============================] - 23s 2ms/step - loss: 0.3583 - acc: 0.8378 - mean_pred: 0.3619 - fmeasure: 0.7581 - precision: 0.8230 - auroc: 0.8824 - recall: 0.7055 - val_loss: 0.3978 - val_acc: 0.8491 - val_mean_pred: 0.3785 - val_fmeasure: 0.7549 - val_precision: 0.8988 - val_auroc: 0.8898 - val_recall: 0.6510\n",
            "Epoch 3/15\n",
            "14602/14602 [==============================] - 23s 2ms/step - loss: 0.3485 - acc: 0.8451 - mean_pred: 0.3591 - fmeasure: 0.7669 - precision: 0.8403 - auroc: 0.8939 - recall: 0.7069 - val_loss: 0.4089 - val_acc: 0.8534 - val_mean_pred: 0.4094 - val_fmeasure: 0.7753 - val_precision: 0.8556 - val_auroc: 0.8971 - val_recall: 0.7091\n",
            "Epoch 4/15\n",
            "14602/14602 [==============================] - 24s 2ms/step - loss: 0.3455 - acc: 0.8485 - mean_pred: 0.3626 - fmeasure: 0.7723 - precision: 0.8460 - auroc: 0.8992 - recall: 0.7139 - val_loss: 0.3961 - val_acc: 0.8576 - val_mean_pred: 0.4089 - val_fmeasure: 0.7750 - val_precision: 0.8881 - val_auroc: 0.9011 - val_recall: 0.6879\n",
            "Epoch 5/15\n",
            "14602/14602 [==============================] - 24s 2ms/step - loss: 0.3366 - acc: 0.8533 - mean_pred: 0.3610 - fmeasure: 0.7766 - precision: 0.8620 - auroc: 0.9027 - recall: 0.7080 - val_loss: 0.3850 - val_acc: 0.8608 - val_mean_pred: 0.4062 - val_fmeasure: 0.7794 - val_precision: 0.8966 - val_auroc: 0.9043 - val_recall: 0.6896\n",
            "Epoch 6/15\n",
            "14602/14602 [==============================] - 24s 2ms/step - loss: 0.3338 - acc: 0.8558 - mean_pred: 0.3624 - fmeasure: 0.7818 - precision: 0.8612 - auroc: 0.9056 - recall: 0.7167 - val_loss: 0.3711 - val_acc: 0.8628 - val_mean_pred: 0.3980 - val_fmeasure: 0.7843 - val_precision: 0.8932 - val_auroc: 0.9068 - val_recall: 0.6994\n",
            "Epoch 7/15\n",
            "14602/14602 [==============================] - 23s 2ms/step - loss: 0.3328 - acc: 0.8551 - mean_pred: 0.3600 - fmeasure: 0.7813 - precision: 0.8591 - auroc: 0.9078 - recall: 0.7191 - val_loss: 0.3902 - val_acc: 0.8583 - val_mean_pred: 0.4350 - val_fmeasure: 0.7947 - val_precision: 0.8232 - val_auroc: 0.9086 - val_recall: 0.7683\n",
            "Epoch 8/15\n",
            "14602/14602 [==============================] - 23s 2ms/step - loss: 0.3276 - acc: 0.8593 - mean_pred: 0.3610 - fmeasure: 0.7885 - precision: 0.8634 - auroc: 0.9094 - recall: 0.7268 - val_loss: 0.3686 - val_acc: 0.8617 - val_mean_pred: 0.4238 - val_fmeasure: 0.8015 - val_precision: 0.8212 - val_auroc: 0.9103 - val_recall: 0.7830\n",
            "Epoch 9/15\n",
            "14602/14602 [==============================] - 23s 2ms/step - loss: 0.3275 - acc: 0.8585 - mean_pred: 0.3619 - fmeasure: 0.7876 - precision: 0.8598 - auroc: 0.9109 - recall: 0.7286 - val_loss: 0.3488 - val_acc: 0.8598 - val_mean_pred: 0.3674 - val_fmeasure: 0.7745 - val_precision: 0.9098 - val_auroc: 0.9117 - val_recall: 0.6745\n",
            "Epoch 10/15\n",
            "14602/14602 [==============================] - 23s 2ms/step - loss: 0.3246 - acc: 0.8590 - mean_pred: 0.3610 - fmeasure: 0.7882 - precision: 0.8621 - auroc: 0.9124 - recall: 0.7282 - val_loss: 0.3545 - val_acc: 0.8626 - val_mean_pred: 0.4122 - val_fmeasure: 0.7964 - val_precision: 0.8458 - val_auroc: 0.9130 - val_recall: 0.7527\n",
            "Epoch 11/15\n",
            "14602/14602 [==============================] - 23s 2ms/step - loss: 0.3243 - acc: 0.8605 - mean_pred: 0.3622 - fmeasure: 0.7902 - precision: 0.8639 - auroc: 0.9135 - recall: 0.7292 - val_loss: 0.3545 - val_acc: 0.8664 - val_mean_pred: 0.3992 - val_fmeasure: 0.7998 - val_precision: 0.8603 - val_auroc: 0.9140 - val_recall: 0.7475\n",
            "Epoch 12/15\n",
            "14602/14602 [==============================] - 23s 2ms/step - loss: 0.3184 - acc: 0.8642 - mean_pred: 0.3616 - fmeasure: 0.7964 - precision: 0.8677 - auroc: 0.9146 - recall: 0.7370 - val_loss: 0.3394 - val_acc: 0.8668 - val_mean_pred: 0.3600 - val_fmeasure: 0.7875 - val_precision: 0.9147 - val_auroc: 0.9152 - val_recall: 0.6916\n",
            "Epoch 13/15\n",
            "14602/14602 [==============================] - 23s 2ms/step - loss: 0.3214 - acc: 0.8604 - mean_pred: 0.3597 - fmeasure: 0.7901 - precision: 0.8650 - auroc: 0.9156 - recall: 0.7298 - val_loss: 0.3476 - val_acc: 0.8676 - val_mean_pred: 0.3957 - val_fmeasure: 0.8003 - val_precision: 0.8670 - val_auroc: 0.9161 - val_recall: 0.7434\n",
            "Epoch 14/15\n",
            "14602/14602 [==============================] - 23s 2ms/step - loss: 0.3199 - acc: 0.8619 - mean_pred: 0.3621 - fmeasure: 0.7940 - precision: 0.8601 - auroc: 0.9165 - recall: 0.7389 - val_loss: 0.3337 - val_acc: 0.8643 - val_mean_pred: 0.3854 - val_fmeasure: 0.7962 - val_precision: 0.8587 - val_auroc: 0.9169 - val_recall: 0.7423\n",
            "Epoch 15/15\n",
            "14602/14602 [==============================] - 23s 2ms/step - loss: 0.3182 - acc: 0.8626 - mean_pred: 0.3596 - fmeasure: 0.7943 - precision: 0.8647 - auroc: 0.9172 - recall: 0.7365 - val_loss: 0.3315 - val_acc: 0.8644 - val_mean_pred: 0.3894 - val_fmeasure: 0.7960 - val_precision: 0.8596 - val_auroc: 0.9176 - val_recall: 0.7413\n"
          ],
          "name": "stdout"
        }
      ]
    },
    {
      "cell_type": "markdown",
      "metadata": {
        "colab_type": "text",
        "id": "m4H9hU-tRWjP"
      },
      "source": [
        "### Evaluate the LSTM+fastText train and test score"
      ]
    },
    {
      "cell_type": "code",
      "metadata": {
        "colab_type": "code",
        "id": "C1AnaLocT-kb",
        "outputId": "3f491f65-0364-4727-fb83-b17adbc2b61b",
        "colab": {
          "base_uri": "https://localhost:8080/",
          "height": 123
        }
      },
      "source": [
        "#train\n",
        "LSTM_FastText_train_score = LSTM_FastText_model.evaluate(X_tra, y_tra, batch_size=batch_size2, verbose=1)\n",
        "print('Train Loss:', LSTM_FastText_train_score[0])\n",
        "print('Train Accuracy:', LSTM_FastText_train_score[1])\n",
        "\n",
        "#test\n",
        "LSTM_FastText_test_score = LSTM_FastText_model.evaluate(X_test, y_test, batch_size=batch_size2, verbose=1)\n",
        "print('Test Loss:', LSTM_FastText_test_score[0])\n",
        "print('Test Accuracy:', LSTM_FastText_test_score[1])"
      ],
      "execution_count": 0,
      "outputs": [
        {
          "output_type": "stream",
          "text": [
            ""
          ],
          "name": "stdout"
        },
        {
          "output_type": "stream",
          "text": [
            "14602/14602 [==============================] - 9s 588us/step\n",
            "Train Loss: 0.3246144096241669\n",
            "Train Accuracy: 0.8738300971275583\n",
            "6234/6234 [==============================] - 4s 606us/step\n",
            "Test Loss: 0.32987715144703544\n",
            "Test Accuracy: 0.8568870024035518\n"
          ],
          "name": "stdout"
        }
      ]
    },
    {
      "cell_type": "markdown",
      "metadata": {
        "colab_type": "text",
        "id": "I_Pv8LbDUb9o"
      },
      "source": [
        "### Plot Training & Validation Accuracy with the Loss values of the LSTM-fastText Model\n",
        "\n"
      ]
    },
    {
      "cell_type": "code",
      "metadata": {
        "colab_type": "code",
        "id": "BRG6YLjrUgF3",
        "outputId": "e3014d21-ecf1-45db-965e-3a37ff7607ce",
        "colab": {
          "base_uri": "https://localhost:8080/",
          "height": 736
        }
      },
      "source": [
        "### Plot Training & Validation Accuracy with the Loss values of the LSTM-Glove Model# Plot training & validation accuracy values\n",
        "plt.plot(LSTM_FastText_model_fit.history['acc'])\n",
        "plt.plot(LSTM_FastText_model_fit.history['val_acc'])\n",
        "plt.title('LSTM-FastText Model accuracy')\n",
        "plt.ylabel('Accuracy')\n",
        "plt.xlabel('Epoch')\n",
        "plt.legend(['Training Accuracy', 'Validation Accuracy'], loc='upper left')\n",
        "plt.show()\n",
        "\n",
        "# Plot training & validation loss values\n",
        "plt.plot(LSTM_FastText_model_fit.history['loss'])\n",
        "plt.plot(LSTM_FastText_model_fit.history['val_loss'])\n",
        "plt.title('LSTM-FastText Model loss')\n",
        "plt.ylabel('Loss')\n",
        "plt.xlabel('Epoch')\n",
        "plt.legend(['Training Loss', 'Validation Loss'], loc='lower right')\n",
        "plt.show()"
      ],
      "execution_count": 0,
      "outputs": [
        {
          "output_type": "display_data",
          "data": {
            "image/png": "[encoded data removed]",
            "text/plain": [
              "<Figure size 432x288 with 1 Axes>"
            ]
          },
          "metadata": {
            "tags": [],
            "needs_background": "light"
          }
        },
        {
          "output_type": "display_data",
          "data": {
            "image/png": "[encoded data removed]",
            "text/plain": [
              "<Figure size 432x288 with 1 Axes>"
            ]
          },
          "metadata": {
            "tags": [],
            "needs_background": "light"
          }
        }
      ]
    },
    {
      "cell_type": "markdown",
      "metadata": {
        "colab_type": "text",
        "id": "jtlndXcsU3iQ"
      },
      "source": [
        "## 4) Bidirecitional LSTM with fastText"
      ]
    },
    {
      "cell_type": "code",
      "metadata": {
        "colab_type": "code",
        "id": "7_S1Y6obU60I",
        "colab": {}
      },
      "source": [
        "Bil_LSTM_FastText_model = Sequential([\n",
        "    Embedding(input_dim =fastText_embedding_matrix.shape[0], input_length=max_len, output_dim=fastText_embedding_matrix.shape[1],weights=[fastText_embedding_matrix], trainable=False),\n",
        "    SpatialDropout1D(0.5),\n",
        "    #Bidirectional layer will enable our model to predict a missing word in a sequence, \n",
        "    #So, using this feature will enable the model to look at the context on both the left and the right.\n",
        "    Bidirectional(LSTM(25, return_sequences=True)),\n",
        "    #**batch normalization layer** normalizes the activations of the previous layer at each batch, \n",
        "    #i.e. applies a transformation that maintains the mean activation close to 0 and the activation standard deviation close to 1. \n",
        "    BatchNormalization(),\n",
        "    Dropout(0.5),\n",
        "    GlobalMaxPool1D(),\n",
        "    Dense(50, activation = 'relu'),\n",
        "    Dense(6, activation = 'sigmoid')\n",
        "])\n",
        "\n",
        "\n",
        "Bil_LSTM_FastText_model.compile(loss='binary_crossentropy', optimizer=Adam(0.01), metrics=['accuracy', mean_pred, fmeasure, precision, auroc, recall])"
      ],
      "execution_count": 0,
      "outputs": []
    },
    {
      "cell_type": "markdown",
      "metadata": {
        "colab_type": "text",
        "id": "6SU9rs9UVUAG"
      },
      "source": [
        "### Visualize the Orchestrated Bidirectional LSTM-FastText Model Architecture"
      ]
    },
    {
      "cell_type": "code",
      "metadata": {
        "colab_type": "code",
        "id": "pmFWcfHZVnG6",
        "outputId": "f8e43a3a-8018-48cd-d724-9b0253aa8a0f",
        "colab": {
          "base_uri": "https://localhost:8080/",
          "height": 897
        }
      },
      "source": [
        "Bil_LSTM_FastText_model.summary()\n",
        "#plot the CNN_GLove model architecture\n",
        "\n",
        "#plot_model(Bil_LSTM_FastText_model, to_file='Bil_LSTM_FastText_model_plot.png', show_shapes=True, show_layer_names=True)\n",
        "#Image(retina=True, filename='Bil_LSTM_FastText_model_plot.png')"
      ],
      "execution_count": 0,
      "outputs": [
        {
          "output_type": "stream",
          "text": [
            "_________________________________________________________________\n",
            "Layer (type)                 Output Shape              Param #   \n",
            "=================================================================\n",
            "embedding_4 (Embedding)      (None, 200, 300)          11061000  \n",
            "_________________________________________________________________\n",
            "spatial_dropout1d_4 (Spatial (None, 200, 300)          0         \n",
            "_________________________________________________________________\n",
            "bidirectional_1 (Bidirection (None, 200, 50)           65200     \n",
            "_________________________________________________________________\n",
            "batch_normalization_4 (Batch (None, 200, 50)           200       \n",
            "_________________________________________________________________\n",
            "dropout_4 (Dropout)          (None, 200, 50)           0         \n",
            "_________________________________________________________________\n",
            "global_max_pooling1d_4 (Glob (None, 50)                0         \n",
            "_________________________________________________________________\n",
            "dense_7 (Dense)              (None, 50)                2550      \n",
            "_________________________________________________________________\n",
            "dense_8 (Dense)              (None, 6)                 306       \n",
            "=================================================================\n",
            "Total params: 11,129,256\n",
            "Trainable params: 68,156\n",
            "Non-trainable params: 11,061,100\n",
            "_________________________________________________________________\n"
          ],
          "name": "stdout"
        }
      ]
    },
    {
      "cell_type": "code",
      "metadata": {
        "colab_type": "code",
        "id": "f812aikmV_2x",
        "outputId": "5e4a5c1c-54e1-4201-d559-7f8f6e8d4f2f",
        "colab": {
          "base_uri": "https://localhost:8080/",
          "height": 70
        }
      },
      "source": [
        "Bil_LSTM_FastText_model_fit = Bil_LSTM_FastText_model.fit(X_tra, y_tra, batch_size=batch_size2, epochs=num_epochs, validation_data=(X_val, y_val), callbacks=[early])"
      ],
      "execution_count": 0,
      "outputs": [
        {
          "output_type": "stream",
          "text": [
            "Train on 14602 samples, validate on 1623 samples\n",
            "Epoch 1/15\n",
            "14602/14602 [==============================] - 54s 4ms/step - loss: 0.4855 - acc: 0.8077 - mean_pred: 0.3582 - fmeasure: 0.7199 - precision: 0.7708 - auroc: 0.8389 - recall: 0.6876 - val_loss: 0.4165 - val_acc: 0.8461 - val_mean_pred: 0.4096 - val_fmeasure: 0.7695 - val_precision: 0.8265 - val_auroc: 0.8744 - val_recall: 0.7200\n",
            "Epoch 2/15\n",
            "14602/14602 [==============================] - 53s 4ms/step - loss: 0.3589 - acc: 0.8356 - mean_pred: 0.3645 - fmeasure: 0.7556 - precision: 0.8195 - auroc: 0.8836 - recall: 0.7075 - val_loss: 0.3890 - val_acc: 0.8490 - val_mean_pred: 0.3777 - val_fmeasure: 0.7539 - val_precision: 0.9027 - val_auroc: 0.8900 - val_recall: 0.6474\n",
            "Epoch 3/15\n",
            "14602/14602 [==============================] - 53s 4ms/step - loss: 0.3482 - acc: 0.8434 - mean_pred: 0.3618 - fmeasure: 0.7671 - precision: 0.8332 - auroc: 0.8940 - recall: 0.7175 - val_loss: 0.3698 - val_acc: 0.8545 - val_mean_pred: 0.3717 - val_fmeasure: 0.7702 - val_precision: 0.8829 - val_auroc: 0.8975 - val_recall: 0.6832\n",
            "Epoch 4/15\n",
            "14602/14602 [==============================] - 53s 4ms/step - loss: 0.3330 - acc: 0.8556 - mean_pred: 0.3616 - fmeasure: 0.7850 - precision: 0.8495 - auroc: 0.9006 - recall: 0.7309 - val_loss: 0.3634 - val_acc: 0.8530 - val_mean_pred: 0.3463 - val_fmeasure: 0.7600 - val_precision: 0.9115 - val_auroc: 0.9033 - val_recall: 0.6520\n",
            "Epoch 5/15\n",
            "14602/14602 [==============================] - 52s 4ms/step - loss: 0.3271 - acc: 0.8584 - mean_pred: 0.3604 - fmeasure: 0.7887 - precision: 0.8559 - auroc: 0.9054 - recall: 0.7339 - val_loss: 0.3541 - val_acc: 0.8586 - val_mean_pred: 0.3576 - val_fmeasure: 0.7785 - val_precision: 0.8833 - val_auroc: 0.9074 - val_recall: 0.6962\n",
            "Epoch 6/15\n",
            "14602/14602 [==============================] - 54s 4ms/step - loss: 0.3233 - acc: 0.8607 - mean_pred: 0.3618 - fmeasure: 0.7923 - precision: 0.8580 - auroc: 0.9089 - recall: 0.7373 - val_loss: 0.3563 - val_acc: 0.8621 - val_mean_pred: 0.3745 - val_fmeasure: 0.7853 - val_precision: 0.8843 - val_auroc: 0.9104 - val_recall: 0.7066\n",
            "Epoch 7/15\n",
            "14602/14602 [==============================] - 54s 4ms/step - loss: 0.3199 - acc: 0.8629 - mean_pred: 0.3616 - fmeasure: 0.7963 - precision: 0.8589 - auroc: 0.9117 - recall: 0.7437 - val_loss: 0.3344 - val_acc: 0.8669 - val_mean_pred: 0.3674 - val_fmeasure: 0.7928 - val_precision: 0.8928 - val_auroc: 0.9129 - val_recall: 0.7131\n",
            "Epoch 8/15\n",
            "14602/14602 [==============================] - 51s 3ms/step - loss: 0.3152 - acc: 0.8637 - mean_pred: 0.3608 - fmeasure: 0.7981 - precision: 0.8579 - auroc: 0.9140 - recall: 0.7474 - val_loss: 0.3498 - val_acc: 0.8666 - val_mean_pred: 0.3741 - val_fmeasure: 0.7932 - val_precision: 0.8885 - val_auroc: 0.9150 - val_recall: 0.7166\n",
            "Epoch 9/15\n",
            "14602/14602 [==============================] - 52s 4ms/step - loss: 0.3114 - acc: 0.8661 - mean_pred: 0.3624 - fmeasure: 0.8026 - precision: 0.8581 - auroc: 0.9160 - recall: 0.7555 - val_loss: 0.3442 - val_acc: 0.8688 - val_mean_pred: 0.3702 - val_fmeasure: 0.7952 - val_precision: 0.8977 - val_auroc: 0.9169 - val_recall: 0.7141\n",
            "Epoch 10/15\n",
            "14602/14602 [==============================] - 53s 4ms/step - loss: 0.3094 - acc: 0.8671 - mean_pred: 0.3625 - fmeasure: 0.8035 - precision: 0.8624 - auroc: 0.9176 - recall: 0.7541 - val_loss: 0.3450 - val_acc: 0.8732 - val_mean_pred: 0.3989 - val_fmeasure: 0.8086 - val_precision: 0.8766 - val_auroc: 0.9184 - val_recall: 0.7507\n",
            "Epoch 11/15\n",
            "14602/14602 [==============================] - 52s 4ms/step - loss: 0.3094 - acc: 0.8667 - mean_pred: 0.3613 - fmeasure: 0.8029 - precision: 0.8615 - auroc: 0.9191 - recall: 0.7532 - val_loss: 0.3449 - val_acc: 0.8699 - val_mean_pred: 0.3720 - val_fmeasure: 0.8007 - val_precision: 0.8839 - val_auroc: 0.9197 - val_recall: 0.7321\n"
          ],
          "name": "stdout"
        }
      ]
    },
    {
      "cell_type": "markdown",
      "metadata": {
        "colab_type": "text",
        "id": "sdg_Q-XaWDhp"
      },
      "source": [
        "### Evaluate the Bidirectional LSTM+FastText train and test score"
      ]
    },
    {
      "cell_type": "code",
      "metadata": {
        "colab_type": "code",
        "id": "0Xah0HB5WH41",
        "colab": {},
        "outputId": "6304256d-ec56-47e0-ac71-b3aaa6367f5f"
      },
      "source": [
        "#train\n",
        "Bil_LSTM_FastText_train_score = Bil_LSTM_FastText_model.evaluate(X_tra, y_tra, batch_size=batch_size2, verbose=1)\n",
        "print('Train Loss:', Bil_LSTM_FastText_train_score[0])\n",
        "print('Train Accuracy:', Bil_LSTM_FastText_train_score[1])\n",
        "\n",
        "#test\n",
        "Bil_LSTM_FastText_test_score = Bil_LSTM_FastText_model.evaluate(X_test, y_test, batch_size=batch_size2, verbose=1)\n",
        "print('Test Loss:', Bil_LSTM_FastText_test_score[0])\n",
        "print('Test Accuracy:', Bil_LSTM_FastText_test_score[1])"
      ],
      "execution_count": 0,
      "outputs": [
        {
          "output_type": "stream",
          "text": [
            ""
          ],
          "name": "stdout"
        },
        {
          "output_type": "stream",
          "text": [
            "14602/14602 [==============================] - 17s 1ms/step\n",
            "Train Loss: 0.33571893352708526\n",
            "Train Accuracy: 0.8748116926075155\n",
            "6234/6234 [==============================] - 7s 1ms/step\n",
            "Test Loss: 0.3498752756993817\n",
            "Test Accuracy: 0.8562988232526023\n"
          ],
          "name": "stdout"
        }
      ]
    },
    {
      "cell_type": "markdown",
      "metadata": {
        "colab_type": "text",
        "id": "E5WmDgJXWWzj"
      },
      "source": [
        "### Plot Training & Validation Accuracy with the Loss values of the Bidirectional LSTM-fastText Model\n"
      ]
    },
    {
      "cell_type": "code",
      "metadata": {
        "colab_type": "code",
        "id": "rM5jshaPWbUB",
        "colab": {},
        "outputId": "f4976d23-c5ed-4a43-b9de-700bfd60c4c7"
      },
      "source": [
        "\n",
        "# Plot training & validation accuracy values\n",
        "plt.plot(Bil_LSTM_FastText_model_fit.history['acc'])\n",
        "plt.plot(Bil_LSTM_FastText_model_fit.history['val_acc'])\n",
        "plt.title('Bidirecitonal LSTM-fastText Model accuracy')\n",
        "plt.ylabel('Accuracy')\n",
        "plt.xlabel('Epoch')\n",
        "plt.legend(['Training Accuracy', 'Validation Accuracy'], loc='upper left')\n",
        "plt.show()\n",
        "\n",
        "# Plot training & validation loss values\n",
        "plt.plot(Bil_LSTM_FastText_model_fit.history['loss'])\n",
        "plt.plot(Bil_LSTM_FastText_model_fit.history['val_loss'])\n",
        "plt.title('Bidirecitonal LSTM-fastText Model loss')\n",
        "plt.ylabel('Loss')\n",
        "plt.xlabel('Epoch')\n",
        "plt.legend(['Training Loss', 'Validation Loss'], loc='lower right')\n",
        "plt.show()"
      ],
      "execution_count": 0,
      "outputs": [
        {
          "output_type": "display_data",
          "data": {
            "image/png": "[encoded data removed]",
            "text/plain": [
              "<Figure size 432x288 with 1 Axes>"
            ]
          },
          "metadata": {
            "tags": [],
            "needs_background": "light"
          }
        },
        {
          "output_type": "display_data",
          "data": {
            "image/png": "[encoded data removed]",
            "text/plain": [
              "<Figure size 432x288 with 1 Axes>"
            ]
          },
          "metadata": {
            "tags": [],
            "needs_background": "light"
          }
        }
      ]
    },
    {
      "cell_type": "markdown",
      "metadata": {
        "colab_type": "text",
        "id": "Bg7IhYxSWx5I"
      },
      "source": [
        "## 5) Gated Recurrent (GRU) with fastText"
      ]
    },
    {
      "cell_type": "code",
      "metadata": {
        "colab_type": "code",
        "id": "AcAdPzjQW1Lb",
        "colab": {}
      },
      "source": [
        "sequence_input = Input(shape=(max_len, ))\n",
        "model = Embedding(input_dim =fastText_embedding_matrix.shape[0], input_length=max_len, output_dim=fastText_embedding_matrix.shape[1],weights=[fastText_embedding_matrix], trainable=False)(sequence_input)\n",
        "model = SpatialDropout1D(0.2)(model)\n",
        "model = GRU(128, return_sequences=True,dropout=0.1,recurrent_dropout=0.1)(model)\n",
        "model = Conv1D(64, kernel_size = 3, padding = \"valid\", kernel_initializer = \"glorot_uniform\")(model)\n",
        "avg_pool = GlobalAveragePooling1D()(model)\n",
        "max_pool = GlobalMaxPooling1D()(model)\n",
        "model = concatenate([avg_pool, max_pool]) \n",
        "preds = Dense(6, activation=\"sigmoid\")(model)\n",
        "GRU_FastText_model = Model(sequence_input, preds)\n",
        "GRU_FastText_model.compile(loss='binary_crossentropy',optimizer=Adam(lr=1e-3),metrics=['accuracy', mean_pred, fmeasure, precision, auroc, recall])"
      ],
      "execution_count": 0,
      "outputs": []
    },
    {
      "cell_type": "markdown",
      "metadata": {
        "colab_type": "text",
        "id": "K8OhrCPUW-xo"
      },
      "source": [
        "### Visualize the Orchestrated GRU+fastText MODEL Architecture"
      ]
    },
    {
      "cell_type": "code",
      "metadata": {
        "colab_type": "code",
        "id": "UYNzN1sfXCRi",
        "colab": {},
        "outputId": "0087ae2f-34e2-42dc-9838-ddd24c543596"
      },
      "source": [
        "GRU_FastText_model.summary()\n",
        "\n",
        "#plot the GRU model architecture\n",
        "\n",
        "#plot_model(GRU_FastText_model, to_file='GRU_FastText_model_plot.png', show_shapes=True, show_layer_names=True)\n",
        "#Image(retina=True, filename='GRU_FastText_model_plot.png')"
      ],
      "execution_count": 0,
      "outputs": [
        {
          "output_type": "stream",
          "text": [
            "__________________________________________________________________________________________________\n",
            "Layer (type)                    Output Shape         Param #     Connected to                     \n",
            "==================================================================================================\n",
            "input_1 (InputLayer)            (None, 200)          0                                            \n",
            "__________________________________________________________________________________________________\n",
            "embedding_5 (Embedding)         (None, 200, 300)     11061000    input_1[0][0]                    \n",
            "__________________________________________________________________________________________________\n",
            "spatial_dropout1d_5 (SpatialDro (None, 200, 300)     0           embedding_5[0][0]                \n",
            "__________________________________________________________________________________________________\n",
            "gru_1 (GRU)                     (None, 200, 128)     164736      spatial_dropout1d_5[0][0]        \n",
            "__________________________________________________________________________________________________\n",
            "conv1d_2 (Conv1D)               (None, 198, 64)      24640       gru_1[0][0]                      \n",
            "__________________________________________________________________________________________________\n",
            "global_average_pooling1d_1 (Glo (None, 64)           0           conv1d_2[0][0]                   \n",
            "__________________________________________________________________________________________________\n",
            "global_max_pooling1d_5 (GlobalM (None, 64)           0           conv1d_2[0][0]                   \n",
            "__________________________________________________________________________________________________\n",
            "concatenate_1 (Concatenate)     (None, 128)          0           global_average_pooling1d_1[0][0] \n",
            "                                                                 global_max_pooling1d_5[0][0]     \n",
            "__________________________________________________________________________________________________\n",
            "dense_9 (Dense)                 (None, 6)            774         concatenate_1[0][0]              \n",
            "==================================================================================================\n",
            "Total params: 11,251,150\n",
            "Trainable params: 190,150\n",
            "Non-trainable params: 11,061,000\n",
            "__________________________________________________________________________________________________\n"
          ],
          "name": "stdout"
        }
      ]
    },
    {
      "cell_type": "code",
      "metadata": {
        "colab_type": "code",
        "id": "h65F18Q-XZfm",
        "colab": {},
        "outputId": "f3c554dc-4c68-4e7b-e69d-61b530d5eb23"
      },
      "source": [
        "GRU_FastText_model_fit = GRU_FastText_model.fit(X_tra, y_tra, batch_size=batch_size2, epochs=num_epochs, validation_data=(X_val, y_val), callbacks=[early])"
      ],
      "execution_count": 0,
      "outputs": [
        {
          "output_type": "stream",
          "text": [
            "Train on 14602 samples, validate on 1623 samples\n",
            "Epoch 1/15\n",
            "14602/14602 [==============================] - 88s 6ms/step - loss: 0.4100 - acc: 0.8006 - mean_pred: 0.3712 - fmeasure: 0.7164 - precision: 0.7516 - auroc: 0.8501 - recall: 0.6991 - val_loss: 0.3621 - val_acc: 0.8350 - val_mean_pred: 0.3348 - val_fmeasure: 0.7319 - val_precision: 0.8718 - val_auroc: 0.8806 - val_recall: 0.6309\n",
            "Epoch 2/15\n",
            "14602/14602 [==============================] - 99s 7ms/step - loss: 0.3541 - acc: 0.8419 - mean_pred: 0.3611 - fmeasure: 0.7640 - precision: 0.8295 - auroc: 0.8896 - recall: 0.7112 - val_loss: 0.3380 - val_acc: 0.8471 - val_mean_pred: 0.3766 - val_fmeasure: 0.7729 - val_precision: 0.8226 - val_auroc: 0.8964 - val_recall: 0.7292\n",
            "Epoch 3/15\n",
            "14602/14602 [==============================] - 105s 7ms/step - loss: 0.3362 - acc: 0.8531 - mean_pred: 0.3617 - fmeasure: 0.7798 - precision: 0.8500 - auroc: 0.9009 - recall: 0.7219 - val_loss: 0.3290 - val_acc: 0.8534 - val_mean_pred: 0.3633 - val_fmeasure: 0.7832 - val_precision: 0.8295 - val_auroc: 0.9047 - val_recall: 0.7421\n",
            "Epoch 4/15\n",
            "14602/14602 [==============================] - 112s 8ms/step - loss: 0.3268 - acc: 0.8581 - mean_pred: 0.3605 - fmeasure: 0.7887 - precision: 0.8528 - auroc: 0.9075 - recall: 0.7349 - val_loss: 0.3202 - val_acc: 0.8579 - val_mean_pred: 0.3698 - val_fmeasure: 0.7887 - val_precision: 0.8413 - val_auroc: 0.9101 - val_recall: 0.7425\n",
            "Epoch 5/15\n",
            "14602/14602 [==============================] - 116s 8ms/step - loss: 0.3168 - acc: 0.8651 - mean_pred: 0.3616 - fmeasure: 0.7996 - precision: 0.8615 - auroc: 0.9123 - recall: 0.7470 - val_loss: 0.3152 - val_acc: 0.8602 - val_mean_pred: 0.3661 - val_fmeasure: 0.7922 - val_precision: 0.8452 - val_auroc: 0.9143 - val_recall: 0.7456\n",
            "Epoch 6/15\n",
            "14602/14602 [==============================] - 125s 9ms/step - loss: 0.3101 - acc: 0.8678 - mean_pred: 0.3614 - fmeasure: 0.8047 - precision: 0.8621 - auroc: 0.9160 - recall: 0.7552 - val_loss: 0.3091 - val_acc: 0.8682 - val_mean_pred: 0.3372 - val_fmeasure: 0.7974 - val_precision: 0.8843 - val_auroc: 0.9176 - val_recall: 0.7263\n",
            "Epoch 7/15\n",
            "14602/14602 [==============================] - 131s 9ms/step - loss: 0.3014 - acc: 0.8729 - mean_pred: 0.3599 - fmeasure: 0.8125 - precision: 0.8685 - auroc: 0.9191 - recall: 0.7639 - val_loss: 0.3038 - val_acc: 0.8701 - val_mean_pred: 0.3625 - val_fmeasure: 0.8067 - val_precision: 0.8606 - val_auroc: 0.9205 - val_recall: 0.7593\n",
            "Epoch 8/15\n",
            "14602/14602 [==============================] - 133s 9ms/step - loss: 0.2974 - acc: 0.8752 - mean_pred: 0.3617 - fmeasure: 0.8167 - precision: 0.8694 - auroc: 0.9218 - recall: 0.7708 - val_loss: 0.3018 - val_acc: 0.8709 - val_mean_pred: 0.3458 - val_fmeasure: 0.8077 - val_precision: 0.8630 - val_auroc: 0.9230 - val_recall: 0.7594\n",
            "Epoch 9/15\n",
            "14602/14602 [==============================] - 134s 9ms/step - loss: 0.2913 - acc: 0.8779 - mean_pred: 0.3606 - fmeasure: 0.8211 - precision: 0.8714 - auroc: 0.9241 - recall: 0.7773 - val_loss: 0.3049 - val_acc: 0.8708 - val_mean_pred: 0.3377 - val_fmeasure: 0.8025 - val_precision: 0.8838 - val_auroc: 0.9251 - val_recall: 0.7352\n",
            "Epoch 10/15\n",
            "14602/14602 [==============================] - 136s 9ms/step - loss: 0.2861 - acc: 0.8805 - mean_pred: 0.3604 - fmeasure: 0.8251 - precision: 0.8742 - auroc: 0.9261 - recall: 0.7820 - val_loss: 0.2983 - val_acc: 0.8745 - val_mean_pred: 0.3499 - val_fmeasure: 0.8136 - val_precision: 0.8669 - val_auroc: 0.9271 - val_recall: 0.7667\n",
            "Epoch 11/15\n",
            "14602/14602 [==============================] - 136s 9ms/step - loss: 0.2816 - acc: 0.8827 - mean_pred: 0.3612 - fmeasure: 0.8289 - precision: 0.8740 - auroc: 0.9280 - recall: 0.7892 - val_loss: 0.3002 - val_acc: 0.8752 - val_mean_pred: 0.3571 - val_fmeasure: 0.8170 - val_precision: 0.8586 - val_auroc: 0.9288 - val_recall: 0.7794\n",
            "Epoch 12/15\n",
            "14602/14602 [==============================] - 137s 9ms/step - loss: 0.2785 - acc: 0.8836 - mean_pred: 0.3607 - fmeasure: 0.8308 - precision: 0.8741 - auroc: 0.9296 - recall: 0.7921 - val_loss: 0.3003 - val_acc: 0.8732 - val_mean_pred: 0.3650 - val_fmeasure: 0.8162 - val_precision: 0.8461 - val_auroc: 0.9304 - val_recall: 0.7886\n",
            "Epoch 13/15\n",
            "14602/14602 [==============================] - 137s 9ms/step - loss: 0.2755 - acc: 0.8845 - mean_pred: 0.3615 - fmeasure: 0.8323 - precision: 0.8741 - auroc: 0.9311 - recall: 0.7955 - val_loss: 0.3016 - val_acc: 0.8733 - val_mean_pred: 0.3693 - val_fmeasure: 0.8170 - val_precision: 0.8434 - val_auroc: 0.9318 - val_recall: 0.7925\n",
            "Epoch 14/15\n",
            "14602/14602 [==============================] - 137s 9ms/step - loss: 0.2711 - acc: 0.8879 - mean_pred: 0.3613 - fmeasure: 0.8373 - precision: 0.8784 - auroc: 0.9324 - recall: 0.8006 - val_loss: 0.2977 - val_acc: 0.8759 - val_mean_pred: 0.3501 - val_fmeasure: 0.8146 - val_precision: 0.8740 - val_auroc: 0.9331 - val_recall: 0.7630\n",
            "Epoch 15/15\n",
            "14602/14602 [==============================] - 138s 9ms/step - loss: 0.2670 - acc: 0.8887 - mean_pred: 0.3616 - fmeasure: 0.8389 - precision: 0.8779 - auroc: 0.9337 - recall: 0.8043 - val_loss: 0.2964 - val_acc: 0.8763 - val_mean_pred: 0.3415 - val_fmeasure: 0.8147 - val_precision: 0.8760 - val_auroc: 0.9343 - val_recall: 0.7617\n"
          ],
          "name": "stdout"
        }
      ]
    },
    {
      "cell_type": "markdown",
      "metadata": {
        "colab_type": "text",
        "id": "cxewQLfsXYAR"
      },
      "source": [
        "### Evaluate the GRU+FastText Model train and test score"
      ]
    },
    {
      "cell_type": "code",
      "metadata": {
        "colab_type": "code",
        "id": "fuZI8K2lXkoe",
        "colab": {},
        "outputId": "9e007ebe-8a7d-4853-aaaa-62896e8ad705"
      },
      "source": [
        "#Train\n",
        "GRU_FastText_train_score = GRU_FastText_model.evaluate(X_tra, y_tra, batch_size=batch_size2, verbose=1)\n",
        "print('Train Loss:', GRU_FastText_train_score[0])\n",
        "print('Train Accuracy:', GRU_FastText_train_score[1])\n",
        "\n",
        "#Test\n",
        "GRU_FastText_test_score = GRU_FastText_model.evaluate(X_test, y_test, batch_size=batch_size2, verbose=1)\n",
        "print('Test Loss:', GRU_FastText_test_score[0])\n",
        "print('Test Accuracy:', GRU_FastText_test_score[1])"
      ],
      "execution_count": 0,
      "outputs": [
        {
          "output_type": "stream",
          "text": [
            ""
          ],
          "name": "stdout"
        },
        {
          "output_type": "stream",
          "text": [
            "14602/14602 [==============================] - 37s 3ms/step\n",
            "Train Loss: 0.25040472013021947\n",
            "Train Accuracy: 0.8965781277588762\n",
            "6234/6234 [==============================] - 15s 2ms/step\n",
            "Test Loss: 0.2975831514497502\n",
            "Test Accuracy: 0.8706555773632856\n"
          ],
          "name": "stdout"
        }
      ]
    },
    {
      "cell_type": "markdown",
      "metadata": {
        "colab_type": "text",
        "id": "1MTH7L3hX1ou"
      },
      "source": [
        "### Plot Training & Validation Accuracy with the Loss values of the GRU+ FastText Model"
      ]
    },
    {
      "cell_type": "code",
      "metadata": {
        "colab_type": "code",
        "id": "AWGMZkRVX6y9",
        "colab": {},
        "outputId": "8cb6d897-c03a-4eb4-f603-08f5c767f955"
      },
      "source": [
        "# Plot training & validation accuracy values\n",
        "plt.plot(GRU_FastText_model_fit.history['acc'])\n",
        "plt.plot(GRU_FastText_model_fit.history['val_acc'])\n",
        "plt.title('Gated Recurrent Unit (GRU) with FastText Model accuracy')\n",
        "plt.ylabel('Accuracy')\n",
        "plt.xlabel('Epoch')\n",
        "plt.legend(['Training Accuracy', 'Validation Accuracy'], loc='upper left')\n",
        "plt.show()\n",
        "\n",
        "# Plot training & validation loss values\n",
        "plt.plot(GRU_FastText_model_fit.history['loss'])\n",
        "plt.plot(GRU_FastText_model_fit.history['val_loss'])\n",
        "plt.title('Bidirectional Gated Recurrent Unit (GRU) with FastText Model loss')\n",
        "plt.ylabel('Loss')\n",
        "plt.xlabel('Epoch')\n",
        "plt.legend(['Training Loss', 'Validation Loss'], loc='lower right')\n",
        "plt.show()"
      ],
      "execution_count": 0,
      "outputs": [
        {
          "output_type": "display_data",
          "data": {
            "image/png": "[encoded data removed]",
            "text/plain": [
              "<Figure size 432x288 with 1 Axes>"
            ]
          },
          "metadata": {
            "tags": [],
            "needs_background": "light"
          }
        },
        {
          "output_type": "display_data",
          "data": {
            "image/png": "[encoded data removed]",
            "text/plain": [
              "<Figure size 432x288 with 1 Axes>"
            ]
          },
          "metadata": {
            "tags": [],
            "needs_background": "light"
          }
        }
      ]
    },
    {
      "cell_type": "markdown",
      "metadata": {
        "colab_type": "text",
        "id": "5x1e85VIYEW3"
      },
      "source": [
        "## 6) Bidirectional Gated Recurrent (GRU) + FastText"
      ]
    },
    {
      "cell_type": "code",
      "metadata": {
        "colab_type": "code",
        "id": "HkoAPVYsYIDF",
        "colab": {}
      },
      "source": [
        "sequence_input = Input(shape=(max_len, ))\n",
        "model = Embedding(input_dim =fastText_embedding_matrix.shape[0], input_length=max_len, output_dim=fastText_embedding_matrix.shape[1],weights=[fastText_embedding_matrix], trainable=False)(sequence_input)\n",
        "model = SpatialDropout1D(0.2)(model)\n",
        "model = Bidirectional(GRU(128, return_sequences=True,dropout=0.1,recurrent_dropout=0.1))(model)\n",
        "model = Conv1D(64, kernel_size = 3, padding = \"valid\", kernel_initializer = \"glorot_uniform\")(model)\n",
        "avg_pool = GlobalAveragePooling1D()(model)\n",
        "max_pool = GlobalMaxPooling1D()(model)\n",
        "model = concatenate([avg_pool, max_pool]) \n",
        "preds = Dense(6, activation=\"sigmoid\")(model)\n",
        "Bil_GRU_FastText_model = Model(sequence_input, preds)\n",
        "Bil_GRU_FastText_model.compile(loss='binary_crossentropy',optimizer=Adam(lr=1e-3),metrics=['accuracy', mean_pred, fmeasure, precision, auroc, recall])"
      ],
      "execution_count": 0,
      "outputs": []
    },
    {
      "cell_type": "markdown",
      "metadata": {
        "colab_type": "text",
        "id": "A2I-jmsyYQyP"
      },
      "source": [
        "### Visualize the Orchestrated Bidirectional GRU+FastText Model Architecture"
      ]
    },
    {
      "cell_type": "code",
      "metadata": {
        "colab_type": "code",
        "id": "VxyK2aydYVfF",
        "colab": {},
        "outputId": "fa48bf9e-2ec9-4f9a-8bc6-19b8022ce4da"
      },
      "source": [
        "Bil_GRU_FastText_model.summary()\n",
        "\n",
        "#plot the GRU model architecture\n",
        "\n",
        "#plot_model(Bil_GRU_FastText_model, to_file='Bil_GRU_FastText_model_plot.png', show_shapes=True, show_layer_names=True)\n",
        "#Image(retina=True, filename='Bil_GRU_FastText_model_plot.png') "
      ],
      "execution_count": 0,
      "outputs": [
        {
          "output_type": "stream",
          "text": [
            "__________________________________________________________________________________________________\n",
            "Layer (type)                    Output Shape         Param #     Connected to                     \n",
            "==================================================================================================\n",
            "input_2 (InputLayer)            (None, 200)          0                                            \n",
            "__________________________________________________________________________________________________\n",
            "embedding_6 (Embedding)         (None, 200, 300)     11061000    input_2[0][0]                    \n",
            "__________________________________________________________________________________________________\n",
            "spatial_dropout1d_6 (SpatialDro (None, 200, 300)     0           embedding_6[0][0]                \n",
            "__________________________________________________________________________________________________\n",
            "bidirectional_2 (Bidirectional) (None, 200, 256)     329472      spatial_dropout1d_6[0][0]        \n",
            "__________________________________________________________________________________________________\n",
            "conv1d_3 (Conv1D)               (None, 198, 64)      49216       bidirectional_2[0][0]            \n",
            "__________________________________________________________________________________________________\n",
            "global_average_pooling1d_2 (Glo (None, 64)           0           conv1d_3[0][0]                   \n",
            "__________________________________________________________________________________________________\n",
            "global_max_pooling1d_6 (GlobalM (None, 64)           0           conv1d_3[0][0]                   \n",
            "__________________________________________________________________________________________________\n",
            "concatenate_2 (Concatenate)     (None, 128)          0           global_average_pooling1d_2[0][0] \n",
            "                                                                 global_max_pooling1d_6[0][0]     \n",
            "__________________________________________________________________________________________________\n",
            "dense_10 (Dense)                (None, 6)            774         concatenate_2[0][0]              \n",
            "==================================================================================================\n",
            "Total params: 11,440,462\n",
            "Trainable params: 379,462\n",
            "Non-trainable params: 11,061,000\n",
            "__________________________________________________________________________________________________\n"
          ],
          "name": "stdout"
        }
      ]
    },
    {
      "cell_type": "code",
      "metadata": {
        "colab_type": "code",
        "id": "NeCrMjT4YlUU",
        "colab": {},
        "outputId": "e68e9db6-80c9-47ce-a18d-f57d89ec84ff"
      },
      "source": [
        "Bil_GRU_FastText_model_fit = Bil_GRU_FastText_model.fit(X_tra, y_tra, batch_size=batch_size2, epochs=num_epochs, validation_data=(X_val, y_val), callbacks=[early])"
      ],
      "execution_count": 0,
      "outputs": [
        {
          "output_type": "stream",
          "text": [
            "Train on 14602 samples, validate on 1623 samples\n",
            "Epoch 1/15\n",
            "14602/14602 [==============================] - 394s 27ms/step - loss: 0.4072 - acc: 0.8095 - mean_pred: 0.3708 - fmeasure: 0.7261 - precision: 0.7722 - auroc: 0.8422 - recall: 0.6997 - val_loss: 0.3484 - val_acc: 0.8373 - val_mean_pred: 0.3675 - val_fmeasure: 0.7633 - val_precision: 0.7939 - val_auroc: 0.8845 - val_recall: 0.7352\n",
            "Epoch 2/15\n",
            "14602/14602 [==============================] - 440s 30ms/step - loss: 0.3412 - acc: 0.8506 - mean_pred: 0.3619 - fmeasure: 0.7773 - precision: 0.8413 - auroc: 0.8949 - recall: 0.7235 - val_loss: 0.3318 - val_acc: 0.8494 - val_mean_pred: 0.3885 - val_fmeasure: 0.7889 - val_precision: 0.7895 - val_auroc: 0.9018 - val_recall: 0.7887\n",
            "Epoch 3/15\n",
            "14602/14602 [==============================] - 476s 33ms/step - loss: 0.3247 - acc: 0.8606 - mean_pred: 0.3625 - fmeasure: 0.7928 - precision: 0.8561 - auroc: 0.9063 - recall: 0.7404 - val_loss: 0.3221 - val_acc: 0.8554 - val_mean_pred: 0.3780 - val_fmeasure: 0.7936 - val_precision: 0.8094 - val_auroc: 0.9103 - val_recall: 0.7786\n",
            "Epoch 4/15\n",
            "14602/14602 [==============================] - 511s 35ms/step - loss: 0.3123 - acc: 0.8676 - mean_pred: 0.3622 - fmeasure: 0.8050 - precision: 0.8607 - auroc: 0.9132 - recall: 0.7579 - val_loss: 0.3151 - val_acc: 0.8615 - val_mean_pred: 0.3845 - val_fmeasure: 0.8052 - val_precision: 0.8089 - val_auroc: 0.9160 - val_recall: 0.8017\n",
            "Epoch 5/15\n",
            "14602/14602 [==============================] - 548s 38ms/step - loss: 0.3036 - acc: 0.8718 - mean_pred: 0.3632 - fmeasure: 0.8119 - precision: 0.8632 - auroc: 0.9183 - recall: 0.7682 - val_loss: 0.3055 - val_acc: 0.8710 - val_mean_pred: 0.3358 - val_fmeasure: 0.8011 - val_precision: 0.8917 - val_auroc: 0.9202 - val_recall: 0.7274\n",
            "Epoch 6/15\n",
            "14602/14602 [==============================] - 562s 38ms/step - loss: 0.2959 - acc: 0.8757 - mean_pred: 0.3602 - fmeasure: 0.8174 - precision: 0.8701 - auroc: 0.9220 - recall: 0.7718 - val_loss: 0.2986 - val_acc: 0.8722 - val_mean_pred: 0.3638 - val_fmeasure: 0.8124 - val_precision: 0.8536 - val_auroc: 0.9236 - val_recall: 0.7750\n",
            "Epoch 7/15\n",
            "14602/14602 [==============================] - 574s 39ms/step - loss: 0.2901 - acc: 0.8781 - mean_pred: 0.3625 - fmeasure: 0.8220 - precision: 0.8704 - auroc: 0.9250 - recall: 0.7800 - val_loss: 0.3010 - val_acc: 0.8735 - val_mean_pred: 0.3663 - val_fmeasure: 0.8161 - val_precision: 0.8486 - val_auroc: 0.9264 - val_recall: 0.7863\n",
            "Epoch 8/15\n",
            "14602/14602 [==============================] - 581s 40ms/step - loss: 0.2847 - acc: 0.8810 - mean_pred: 0.3620 - fmeasure: 0.8268 - precision: 0.8718 - auroc: 0.9276 - recall: 0.7870 - val_loss: 0.3027 - val_acc: 0.8749 - val_mean_pred: 0.3274 - val_fmeasure: 0.8072 - val_precision: 0.8977 - val_auroc: 0.9287 - val_recall: 0.7337\n",
            "Epoch 9/15\n",
            "14602/14602 [==============================] - 580s 40ms/step - loss: 0.2783 - acc: 0.8845 - mean_pred: 0.3604 - fmeasure: 0.8315 - precision: 0.8777 - auroc: 0.9298 - recall: 0.7906 - val_loss: 0.2957 - val_acc: 0.8767 - val_mean_pred: 0.3529 - val_fmeasure: 0.8163 - val_precision: 0.8714 - val_auroc: 0.9308 - val_recall: 0.7681\n",
            "Epoch 10/15\n",
            "14602/14602 [==============================] - 580s 40ms/step - loss: 0.2729 - acc: 0.8867 - mean_pred: 0.3609 - fmeasure: 0.8353 - precision: 0.8778 - auroc: 0.9318 - recall: 0.7973 - val_loss: 0.2986 - val_acc: 0.8742 - val_mean_pred: 0.3826 - val_fmeasure: 0.8205 - val_precision: 0.8364 - val_auroc: 0.9327 - val_recall: 0.8054\n",
            "Epoch 11/15\n",
            "14602/14602 [==============================] - 577s 39ms/step - loss: 0.2702 - acc: 0.8869 - mean_pred: 0.3633 - fmeasure: 0.8363 - precision: 0.8757 - auroc: 0.9335 - recall: 0.8015 - val_loss: 0.2960 - val_acc: 0.8771 - val_mean_pred: 0.3474 - val_fmeasure: 0.8169 - val_precision: 0.8724 - val_auroc: 0.9343 - val_recall: 0.7684\n",
            "Epoch 12/15\n",
            "14602/14602 [==============================] - 579s 40ms/step - loss: 0.2635 - acc: 0.8904 - mean_pred: 0.3609 - fmeasure: 0.8416 - precision: 0.8792 - auroc: 0.9351 - recall: 0.8074 - val_loss: 0.2976 - val_acc: 0.8787 - val_mean_pred: 0.3599 - val_fmeasure: 0.8252 - val_precision: 0.8503 - val_auroc: 0.9358 - val_recall: 0.8018\n",
            "Epoch 13/15\n",
            "14602/14602 [==============================] - 580s 40ms/step - loss: 0.2599 - acc: 0.8925 - mean_pred: 0.3616 - fmeasure: 0.8453 - precision: 0.8791 - auroc: 0.9366 - recall: 0.8145 - val_loss: 0.3065 - val_acc: 0.8764 - val_mean_pred: 0.3265 - val_fmeasure: 0.8122 - val_precision: 0.8871 - val_auroc: 0.9372 - val_recall: 0.7494\n"
          ],
          "name": "stdout"
        }
      ]
    },
    {
      "cell_type": "markdown",
      "metadata": {
        "colab_type": "text",
        "id": "A5aLQtftYi_F"
      },
      "source": [
        "### Evaluate the GRU+FastText Model train and test score"
      ]
    },
    {
      "cell_type": "code",
      "metadata": {
        "colab_type": "code",
        "id": "k5KVuOP2Yjjn",
        "colab": {},
        "outputId": "ae438b1c-e2da-41bc-fc38-765345017c35"
      },
      "source": [
        "#Train\n",
        "Bil_GRU_FastText_train_score = Bil_GRU_FastText_model.evaluate(X_tra, y_tra, batch_size=batch_size2, verbose=1)\n",
        "print('Train Loss:', Bil_GRU_FastText_train_score[0])\n",
        "print('Train Accuracy:', Bil_GRU_FastText_train_score[1])\n",
        "\n",
        "#Test\n",
        "Bil_GRU_FastText_test_score = Bil_GRU_FastText_model.evaluate(X_test, y_test, batch_size=batch_size2, verbose=1)\n",
        "print('Test Loss:', Bil_GRU_FastText_test_score[0])\n",
        "print('Test Accuracy:', Bil_GRU_FastText_test_score[1])"
      ],
      "execution_count": 0,
      "outputs": [
        {
          "output_type": "stream",
          "text": [
            ""
          ],
          "name": "stdout"
        },
        {
          "output_type": "stream",
          "text": [
            "14602/14602 [==============================] - 119s 8ms/step\n",
            "Train Loss: 0.24391482504912065\n",
            "Train Accuracy: 0.896578129848835\n",
            "6234/6234 [==============================] - 52s 8ms/step\n",
            "Test Loss: 0.30558605927628585\n",
            "Test Accuracy: 0.8677147141358085\n"
          ],
          "name": "stdout"
        }
      ]
    },
    {
      "cell_type": "markdown",
      "metadata": {
        "colab_type": "text",
        "id": "hvIL5jtnZKaT"
      },
      "source": [
        "### Plot Training & Validation Accuracy with the Loss values of the Bil GRU + FastText Model"
      ]
    },
    {
      "cell_type": "code",
      "metadata": {
        "colab_type": "code",
        "id": "vmacE0G3ZF1v",
        "colab": {},
        "outputId": "0b66dfe2-8298-4646-c0e8-c31ba0216a8a"
      },
      "source": [
        "# Plot training & validation accuracy values\n",
        "plt.plot(Bil_GRU_FastText_model_fit.history['acc'])\n",
        "plt.plot(Bil_GRU_FastText_model_fit.history['val_acc'])\n",
        "plt.title(' Bidirectional Gated Recurrent Unit (GRU) with fastText Model accuracy')\n",
        "plt.ylabel('Accuracy')\n",
        "plt.xlabel('Epoch')\n",
        "plt.legend(['Training Accuracy', 'Validation Accuracy'], loc='upper left')\n",
        "plt.show()\n",
        "\n",
        "# Plot training & validation loss values\n",
        "plt.plot(Bil_GRU_FastText_model_fit.history['loss'])\n",
        "plt.plot(Bil_GRU_FastText_model_fit.history['val_loss'])\n",
        "plt.title('Bidirectional Gated Recurrent Unit (GRU) with fastText Model loss')\n",
        "plt.ylabel('Loss')\n",
        "plt.xlabel('Epoch')\n",
        "plt.legend(['Training Loss', 'Validation Loss'], loc='lower right')\n",
        "plt.show()"
      ],
      "execution_count": 0,
      "outputs": [
        {
          "output_type": "display_data",
          "data": {
            "image/png": "[encoded data removed]",
            "text/plain": [
              "<Figure size 432x288 with 1 Axes>"
            ]
          },
          "metadata": {
            "tags": [],
            "needs_background": "light"
          }
        },
        {
          "output_type": "display_data",
          "data": {
            "image/png": "[encoded data removed]",
            "text/plain": [
              "<Figure size 432x288 with 1 Axes>"
            ]
          },
          "metadata": {
            "tags": [],
            "needs_background": "light"
          }
        }
      ]
    },
    {
      "cell_type": "markdown",
      "metadata": {
        "colab_type": "text",
        "id": "db28Tpnvejiq"
      },
      "source": [
        "# Evaluation of Experiment With fastText Pre-trained Embedding"
      ]
    },
    {
      "cell_type": "markdown",
      "metadata": {
        "colab_type": "text",
        "id": "oh7FUzQnZ7BJ"
      },
      "source": [
        "#### Computing the highest of the evaluation matrics (per model) "
      ]
    },
    {
      "cell_type": "code",
      "metadata": {
        "colab_type": "code",
        "id": "zK_Xn0hNAKJo",
        "colab": {},
        "outputId": "433cc541-e7a0-429d-f214-6a4daf2768ab"
      },
      "source": [
        "trace = go.Table(\n",
        "    header=dict(values=['Model', 'Loss', 'Accuracy', 'mean_pred', 'F-Measure', 'Precision', 'AUC', 'Recall'],\n",
        "                line = dict(color='#7D7F80'),\n",
        "                fill = dict(color='#a1c3d1'),\n",
        "                align = ['left'] * 5),\n",
        "    cells=dict(values=[['CNN with fastText', 'RNNs with fastText', 'LSTM with fastText', ' Bidirectional LSTM with fastText', 'GRU with fastText', 'Bidirectional GRU with fastText'],\n",
        "                       [\n",
        "                        #Loss Evaluation\n",
        "                        round(np.max(CNN_FastText_model_fit.history['loss']), 3), round(np.max(RNN_FastText_model_fit.history['loss']), 3), \n",
        "                        round(np.max(LSTM_FastText_model_fit.history['loss']), 3), round(np.max(Bil_LSTM_FastText_model_fit.history['loss']), 3), round(np.max(GRU_FastText_model_fit.history['loss']), 3),\n",
        "                        round(np.max(Bil_GRU_FastText_model_fit.history['loss']), 3)],\n",
        "                        \n",
        "                        #Accuracy Evaluation\n",
        "                        [round(np.max(CNN_FastText_model_fit.history['acc']), 3), round(np.max(RNN_FastText_model_fit.history['acc']), 3), \n",
        "                        round(np.max(LSTM_FastText_model_fit.history['acc']), 3), round(np.max(Bil_LSTM_FastText_model_fit.history['acc']), 3), round(np.max(GRU_FastText_model_fit.history['acc']), 3),\n",
        "                        round(np.max(Bil_GRU_FastText_model_fit.history['acc']), 3)],\n",
        "               \n",
        "                        #mean_pred Evaluation\n",
        "                        [round(np.max(CNN_FastText_model_fit.history['mean_pred']), 3), round(np.max(RNN_FastText_model_fit.history['mean_pred']), 3), \n",
        "                        round(np.max(LSTM_FastText_model_fit.history['mean_pred']), 3), round(np.max(Bil_LSTM_FastText_model_fit.history['mean_pred']), 3), round(np.max(GRU_FastText_model_fit.history['mean_pred']), 3),\n",
        "                        round(np.max(Bil_GRU_FastText_model_fit.history['mean_pred']), 3)],\n",
        "\t\t\t\t\t\t\n",
        "                        #F1-Measure Evaluation fmeasure\n",
        "                        [round(np.max(CNN_FastText_model_fit.history['fmeasure']), 3), round(np.max(RNN_FastText_model_fit.history['fmeasure']), 3), \n",
        "                        round(np.max(LSTM_FastText_model_fit.history['fmeasure']), 3), round(np.max(Bil_LSTM_FastText_model_fit.history['fmeasure']), 3), round(np.max(GRU_FastText_model_fit.history['fmeasure']), 3),\n",
        "                        round(np.max(Bil_GRU_FastText_model_fit.history['fmeasure']), 3)],\n",
        "\t\t\t\t\t\t             \n",
        "                        #Precision Evaluation precision\n",
        "                        [round(np.max(CNN_FastText_model_fit.history['precision']), 3), round(np.max(RNN_FastText_model_fit.history['precision']), 3), \n",
        "                        round(np.max(LSTM_FastText_model_fit.history['precision']), 3), round(np.max(Bil_LSTM_FastText_model_fit.history['precision']), 3), round(np.max(GRU_FastText_model_fit.history['precision']), 3),\n",
        "                        round(np.max(Bil_GRU_FastText_model_fit.history['precision']), 3)],\n",
        "\t\t\t\t\t\t\n",
        "                        #ROC AUC Evaluation auroc\n",
        "                        [round(np.max(CNN_FastText_model_fit.history['auroc']), 3), round(np.max(RNN_FastText_model_fit.history['auroc']), 3), \n",
        "                        round(np.max(LSTM_FastText_model_fit.history['auroc']), 3), round(np.max(Bil_LSTM_FastText_model_fit.history['auroc']), 3), round(np.max(GRU_FastText_model_fit.history['auroc']), 3),\n",
        "                        round(np.max(Bil_GRU_FastText_model_fit.history['auroc']), 3)],\n",
        "                       \n",
        "                        #Recall Evaluation\n",
        "                        [round(np.max(CNN_FastText_model_fit.history['recall']), 3), round(np.max(RNN_FastText_model_fit.history['recall']), 3), \n",
        "                        round(np.max(LSTM_FastText_model_fit.history['recall']), 3), round(np.max(Bil_LSTM_FastText_model_fit.history['recall']), 3), round(np.max(GRU_FastText_model_fit.history['recall']), 3),\n",
        "                        round(np.max(Bil_GRU_FastText_model_fit.history['recall']), 3)]],\n",
        "    line = dict(color='#7D7F80'),\n",
        "    fill = dict(color='#EDFAFF'),\n",
        "    align = ['left'] * 5))\n",
        "\n",
        "layout = dict(width=800, height=400)\n",
        "data = [trace]\n",
        "fig = dict(data=data, layout=layout)\n",
        "py.iplot(data, filename = 'fastText_trained_embedding_with the max of the evaluation matrics (per model) _table')"
      ],
      "execution_count": 0,
      "outputs": [
        {
          "output_type": "stream",
          "text": [
            "D:\\Program Files\\Anaconda\\lib\\site-packages\\IPython\\core\\display.py:689: UserWarning:\n",
            "\n",
            "Consider using IPython.display.IFrame instead\n",
            "\n"
          ],
          "name": "stderr"
        },
        {
          "output_type": "execute_result",
          "data": {
            "text/html": [
              "<iframe id=\"igraph\" scrolling=\"no\" style=\"border:none;\" seamless=\"seamless\" src=\"https://plot.ly/~hamzasharoon/11.embed\" height=\"525px\" width=\"100%\"></iframe>"
            ],
            "text/plain": [
              "<chart_studio.tools.PlotlyDisplay object>"
            ]
          },
          "metadata": {
            "tags": []
          },
          "execution_count": 69
        }
      ]
    },
    {
      "cell_type": "markdown",
      "metadata": {
        "colab_type": "text",
        "id": "T6TsVU-zZ-wi"
      },
      "source": [
        "#### Computing the mean average of the evaluation matrics (per model) "
      ]
    },
    {
      "cell_type": "code",
      "metadata": {
        "colab_type": "code",
        "id": "6zYBwkh2ZzLC",
        "colab": {},
        "outputId": "f2ac4437-964f-40cb-80fc-94346a0ac0c8"
      },
      "source": [
        "trace = go.Table(\n",
        "    header=dict(values=['Model', 'Loss', 'Accuracy', 'mean_pred', 'F-Measure', 'Precision', 'AUC', 'Recall'],\n",
        "                line = dict(color='#7D7F80'),\n",
        "                fill = dict(color='#a1c3d1'),\n",
        "                align = ['left'] * 5),\n",
        "    cells=dict(values=[['CNN with fastText', 'RNNs with fastText', 'LSTM with fastText', ' Bidirectional LSTM with fastText', 'GRU with fastText', 'Bidirectional GRU with fastText'],\n",
        "                       [\n",
        "                        #Loss Evaluation\n",
        "                        round(np.mean(CNN_FastText_model_fit.history['loss']), 3), round(np.mean(RNN_FastText_model_fit.history['loss']), 3), \n",
        "                        round(np.mean(LSTM_FastText_model_fit.history['loss']), 3), round(np.mean(Bil_LSTM_FastText_model_fit.history['loss']), 3), round(np.mean(GRU_FastText_model_fit.history['loss']), 3),\n",
        "                        round(np.mean(Bil_GRU_FastText_model_fit.history['loss']), 3)],\n",
        "                        \n",
        "                        #Accuracy Evaluation\n",
        "                        [round(np.mean(CNN_FastText_model_fit.history['acc']), 3), round(np.mean(RNN_FastText_model_fit.history['acc']), 3), \n",
        "                        round(np.mean(LSTM_FastText_model_fit.history['acc']), 3), round(np.mean(Bil_LSTM_FastText_model_fit.history['acc']), 3), round(np.mean(GRU_FastText_model_fit.history['acc']), 3),\n",
        "                        round(np.mean(Bil_GRU_FastText_model_fit.history['acc']), 3)],\n",
        "               \n",
        "                        #mean_pred Evaluation\n",
        "                        [round(np.mean(CNN_FastText_model_fit.history['mean_pred']), 3), round(np.mean(RNN_FastText_model_fit.history['mean_pred']), 3), \n",
        "                        round(np.mean(LSTM_FastText_model_fit.history['mean_pred']), 3), round(np.mean(Bil_LSTM_FastText_model_fit.history['mean_pred']), 3), round(np.mean(GRU_FastText_model_fit.history['mean_pred']), 3),\n",
        "                        round(np.mean(Bil_GRU_FastText_model_fit.history['mean_pred']), 3)],\n",
        "\t\t\t\t\t\t\n",
        "                        #F1-Measure Evaluation fmeasure\n",
        "                        [round(np.mean(CNN_FastText_model_fit.history['fmeasure']), 3), round(np.mean(RNN_FastText_model_fit.history['fmeasure']), 3), \n",
        "                        round(np.mean(LSTM_FastText_model_fit.history['fmeasure']), 3), round(np.mean(Bil_LSTM_FastText_model_fit.history['fmeasure']), 3), round(np.mean(GRU_FastText_model_fit.history['fmeasure']), 3),\n",
        "                        round(np.mean(Bil_GRU_FastText_model_fit.history['fmeasure']), 3)],\n",
        "\t\t\t\t\t\t             \n",
        "                        #Precision Evaluation precision\n",
        "                        [round(np.mean(CNN_FastText_model_fit.history['precision']), 3), round(np.mean(RNN_FastText_model_fit.history['precision']), 3), \n",
        "                        round(np.mean(LSTM_FastText_model_fit.history['precision']), 3), round(np.mean(Bil_LSTM_FastText_model_fit.history['precision']), 3), round(np.mean(GRU_FastText_model_fit.history['precision']), 3),\n",
        "                        round(np.mean(Bil_GRU_FastText_model_fit.history['precision']), 3)],\n",
        "\t\t\t\t\t\t\n",
        "                        #ROC AUC Evaluation auroc\n",
        "                        [round(np.mean(CNN_FastText_model_fit.history['auroc']), 3), round(np.mean(RNN_FastText_model_fit.history['auroc']), 3), \n",
        "                        round(np.mean(LSTM_FastText_model_fit.history['auroc']), 3), round(np.mean(Bil_LSTM_FastText_model_fit.history['auroc']), 3), round(np.mean(GRU_FastText_model_fit.history['auroc']), 3),\n",
        "                        round(np.mean(Bil_GRU_FastText_model_fit.history['auroc']), 3)],\n",
        "                       \n",
        "                        #Recall Evaluation\n",
        "                        [round(np.mean(CNN_FastText_model_fit.history['recall']), 3), round(np.mean(RNN_FastText_model_fit.history['recall']), 3), \n",
        "                        round(np.mean(LSTM_FastText_model_fit.history['recall']), 3), round(np.mean(Bil_LSTM_FastText_model_fit.history['recall']), 3), round(np.mean(GRU_FastText_model_fit.history['recall']), 3),\n",
        "                        round(np.mean(Bil_GRU_FastText_model_fit.history['recall']), 3)]\n",
        "                       ],\n",
        "               line = dict(color='#7D7F80'),\n",
        "               fill = dict(color='#EDFAFF'),\n",
        "               align = ['left'] * 5))\n",
        "\n",
        "layout = dict(width=800, height=400)\n",
        "data = [trace]\n",
        "fig = dict(data=data, layout=layout)\n",
        "py.iplot(data, filename = 'fastText_trained_embedding_with the Mean value of the evaluation matrics (per model) _table')"
      ],
      "execution_count": 0,
      "outputs": [
        {
          "output_type": "stream",
          "text": [
            "D:\\Program Files\\Anaconda\\lib\\site-packages\\IPython\\core\\display.py:689: UserWarning:\n",
            "\n",
            "Consider using IPython.display.IFrame instead\n",
            "\n"
          ],
          "name": "stderr"
        },
        {
          "output_type": "execute_result",
          "data": {
            "text/html": [
              "<iframe id=\"igraph\" scrolling=\"no\" style=\"border:none;\" seamless=\"seamless\" src=\"https://plot.ly/~hamzasharoon/9.embed\" height=\"525px\" width=\"100%\"></iframe>"
            ],
            "text/plain": [
              "<chart_studio.tools.PlotlyDisplay object>"
            ]
          },
          "metadata": {
            "tags": []
          },
          "execution_count": 70
        }
      ]
    },
    {
      "cell_type": "markdown",
      "metadata": {
        "colab_type": "text",
        "id": "2VzWx7OAbc9k"
      },
      "source": [
        "### Score Confusion Table"
      ]
    },
    {
      "cell_type": "code",
      "metadata": {
        "colab_type": "code",
        "id": "SrC8BJWCbe4_",
        "colab": {},
        "outputId": "b50d995e-73a9-4990-89dc-47d7996a40a1"
      },
      "source": [
        "# concat all training, validation and testing accuracy scores\n",
        "\n",
        "CNN_FastText_Accuracy = ['Convolutional Neural Network (CNN) with fastText', \n",
        "                np.max(CNN_FastText_model_fit.history['acc']), \n",
        "                np.max(CNN_FastText_model_fit.history['val_acc']), \n",
        "                CNN_FastText_test_score[1]]\n",
        "\n",
        "RNN_FastText_Accuracy = ['Recurrent Neural Networks (RNNs) with fastText', \n",
        "                np.max(RNN_FastText_model_fit.history['acc']), \n",
        "                np.max(RNN_FastText_model_fit.history['val_acc']), \n",
        "                RNN_FastText_test_score[1]]\n",
        "\n",
        "LSTM_FastText_Accuracy = ['LSTM with fastText', \n",
        "                  np.max(LSTM_FastText_model_fit.history['acc']), \n",
        "                  np.max(LSTM_FastText_model_fit.history['val_acc']), \n",
        "                  LSTM_FastText_test_score[1]]\n",
        "\n",
        "Bidirectional_LSTM_FastText_Accuracy = ['Bidirectional LSTM with fastText', \n",
        "                    np.max(Bil_LSTM_FastText_model_fit.history['acc']), \n",
        "                    np.max(Bil_LSTM_FastText_model_fit.history['val_acc']), \n",
        "                    Bil_LSTM_FastText_test_score[1]]\n",
        "\n",
        "GRU_FastText_Accuracy = ['GRU with fastText', \n",
        "                    np.max(GRU_FastText_model_fit.history['acc']), \n",
        "                    np.max(GRU_FastText_model_fit.history['val_acc']), \n",
        "                    GRU_FastText_test_score[1]]\n",
        "\n",
        "Bidirectional_GRU_FastText_Accuracy = ['Bidirectional GRU with fastText', \n",
        "                    np.max(Bil_GRU_FastText_model_fit.history['acc']), \n",
        "                    np.max(Bil_GRU_FastText_model_fit.history['val_acc']), \n",
        "                    Bil_GRU_FastText_test_score[1]]\n",
        "\n",
        "\n",
        "# create dataframe\n",
        "experimentalResult = pd.DataFrame([CNN_FastText_Accuracy])\n",
        "# append all other scores\n",
        "experimentalResult = experimentalResult.append([CNN_FastText_Accuracy, RNN_FastText_Accuracy, LSTM_FastText_Accuracy, Bidirectional_LSTM_FastText_Accuracy, \n",
        "                                                GRU_FastText_Accuracy, Bidirectional_GRU_FastText_Accuracy])\n",
        "\n",
        "\n",
        "# beautify the new dataframe\n",
        "experimentalResult.columns = ['Model', 'Training Accuracy', 'Validation Accuracy', 'Testing Accuracy']\n",
        "experimentalResult.set_index(['Model'], inplace=True)\n",
        "experimentalResult\n",
        "print(experimentalResult)"
      ],
      "execution_count": 0,
      "outputs": [
        {
          "output_type": "stream",
          "text": [
            "                                                  Training Accuracy  \\\n",
            "Model                                                                 \n",
            "Convolutional Neural Network (CNN) with fastText           0.851972   \n",
            "Convolutional Neural Network (CNN) with fastText           0.851972   \n",
            "Recurrent Neural Networks (RNNs) with fastText             0.805335   \n",
            "LSTM with fastText                                         0.864151   \n",
            "Bidirectional LSTM with fastText                           0.867073   \n",
            "GRU with fastText                                          0.888702   \n",
            "Bidirectional GRU with fastText                            0.892481   \n",
            "\n",
            "                                                  Validation Accuracy  \\\n",
            "Model                                                                   \n",
            "Convolutional Neural Network (CNN) with fastText             0.861162   \n",
            "Convolutional Neural Network (CNN) with fastText             0.861162   \n",
            "Recurrent Neural Networks (RNNs) with fastText               0.809715   \n",
            "LSTM with fastText                                           0.867632   \n",
            "Bidirectional LSTM with fastText                             0.873177   \n",
            "GRU with fastText                                            0.876258   \n",
            "Bidirectional GRU with fastText                              0.878723   \n",
            "\n",
            "                                                  Testing Accuracy  \n",
            "Model                                                               \n",
            "Convolutional Neural Network (CNN) with fastText          0.847262  \n",
            "Convolutional Neural Network (CNN) with fastText          0.847262  \n",
            "Recurrent Neural Networks (RNNs) with fastText            0.815581  \n",
            "LSTM with fastText                                        0.856887  \n",
            "Bidirectional LSTM with fastText                          0.856299  \n",
            "GRU with fastText                                         0.870656  \n",
            "Bidirectional GRU with fastText                           0.867715  \n"
          ],
          "name": "stdout"
        }
      ]
    }
  ]
}