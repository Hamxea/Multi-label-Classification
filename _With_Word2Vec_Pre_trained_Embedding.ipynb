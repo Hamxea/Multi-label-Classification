{
  "nbformat": 4,
  "nbformat_minor": 0,
  "metadata": {
    "colab": {
      "name": "_With_Word2Vec_Pre_trained_Embedding.ipynb",
      "version": "0.3.2",
      "provenance": [],
      "collapsed_sections": [],
      "toc_visible": true,
      "include_colab_link": true
    },
    "language_info": {
      "codemirror_mode": {
        "name": "ipython",
        "version": 3
      },
      "file_extension": ".py",
      "mimetype": "text/x-python",
      "name": "python",
      "nbconvert_exporter": "python",
      "pygments_lexer": "ipython3",
      "version": "3.7.3"
    },
    "kernelspec": {
      "display_name": "Python 3",
      "language": "python",
      "name": "python3"
    },
    "accelerator": "TPU"
  },
  "cells": [
    {
      "cell_type": "markdown",
      "metadata": {
        "id": "view-in-github",
        "colab_type": "text"
      },
      "source": [
        "<a href=\"https://colab.research.google.com/github/Hamxea/Multi-label-Classification/blob/master/_With_Word2Vec_Pre_trained_Embedding.ipynb\" target=\"_parent\"><img src=\"https://colab.research.google.com/assets/colab-badge.svg\" alt=\"Open In Colab\"/></a>"
      ]
    },
    {
      "cell_type": "markdown",
      "metadata": {
        "colab_type": "text",
        "id": "JnB0s1tPejbl"
      },
      "source": [
        "# Multi-Label Text Classification of Text Document or News\n"
      ]
    },
    {
      "cell_type": "markdown",
      "metadata": {
        "colab_type": "text",
        "id": "fKccKTR_ejbm"
      },
      "source": [
        " ### DATASET\n",
        "\n",
        "Toxic Comment Classification dataset. a multi-label text classfication data consisting of many wikipedia comments which have been labeled by humans according to their relative toxicity comments labels such as \"toxic\", \"severe_toxic\", \"obscene\", \"threat\", \"insult\", and  \"identity_hate\". The dataset has approximately ~160k observation in total, ~125k with zero labels (toxicity) of any type, and approximately ~35k classified in one or more toxicity categories.\n",
        "\n",
        "\n",
        "\n",
        "\n",
        "*   Dataset Link: https://www.kaggle.com/c/jigsaw-toxic-comment-classification-challenge\n",
        "\n",
        "\n"
      ]
    },
    {
      "cell_type": "markdown",
      "metadata": {
        "colab_type": "text",
        "id": "h4oWa1Aqejbn"
      },
      "source": [
        "\n",
        "#### DATA CHARACTERISTICS (TRAIN DATASET)\n",
        "* Number of data points\t159571\n",
        "* Number data points of type toxic\t15294\n",
        "* Number data points of type severe_tocic\t1595\n",
        "* Number data points of type obscene\t8449\n",
        "* Number data points of type threat\t478\n",
        "* Number data points of type insult\t7877\n",
        "* Number data points of type identity_hate\t1405\n",
        "* Observations in one or more class\t35098\n",
        "* Unclassified observation\t124473\n"
      ]
    },
    {
      "cell_type": "markdown",
      "metadata": {
        "colab_type": "text",
        "id": "NoB57aB6ejbo"
      },
      "source": [
        "### Import necessary libraries for the experiment"
      ]
    },
    {
      "cell_type": "code",
      "metadata": {
        "colab_type": "code",
        "id": "BXuDj-0Vejbp",
        "outputId": "b90fe51d-a085-43e6-86fd-09957f336830",
        "colab": {
          "base_uri": "https://localhost:8080/",
          "height": 247
        }
      },
      "source": [
        "# importing libraries\n",
        "import tensorflow as tf\n",
        "from keras import initializers, regularizers, constraints, optimizers, layers, callbacks\n",
        "from keras.callbacks import EarlyStopping,ModelCheckpoint\n",
        "from keras.preprocessing.text import Tokenizer\n",
        "from keras.preprocessing.sequence import pad_sequences\n",
        "from keras.preprocessing import text, sequence\n",
        "from keras import initializers, regularizers, constraints, optimizers, layers\n",
        "from keras.models import Model, Input, Sequential\n",
        "from keras.layers import Dense, Input, LSTM, SimpleRNN, Embedding, Dropout, SpatialDropout1D, Activation, Conv1D,GRU\n",
        "from keras.layers import Conv1D, Bidirectional, GlobalMaxPool1D, MaxPooling1D, BatchNormalization, Add, Flatten\n",
        "from keras.layers import GlobalMaxPooling1D, GlobalAveragePooling1D, concatenate, SpatialDropout1D\n",
        "from keras.optimizers import Adam\n",
        "from keras.utils.vis_utils import plot_model\n",
        "from sklearn.model_selection  import train_test_split\n",
        "#from sklearn.cross_validation import train_test_split\n",
        "\n",
        "# For custom metrics\n",
        "import keras.backend as K\n",
        "from keras.utils.vis_utils import plot_model\n",
        "from keras.callbacks import EarlyStopping \n",
        "\n",
        "\n",
        "import pandas as pd\n",
        "import numpy as np\n",
        " \n",
        "import matplotlib.pyplot as plt\n",
        "\n",
        "plt.style.use('seaborn')\n",
        "\n",
        "import seaborn as sns\n",
        "from IPython.display import Image\n",
        "\n",
        "from tqdm import tqdm\n",
        "from nltk.corpus import stopwords\n",
        "from nltk.tokenize import RegexpTokenizer \n",
        "import os, re, csv, math, codecs\n",
        "from nltk.tokenize import word_tokenize\n",
        "import string\n",
        "import gensim\n",
        "import os\n",
        "import re\n",
        "\n",
        "sns.set_style(\"whitegrid\")\n",
        "np.random.seed(0)\n",
        "\n",
        "import plotly.plotly as py\n",
        "import plotly.graph_objs as go\n",
        "import plotly\n",
        "plotly.tools.set_credentials_file(username='hamzasharoon', api_key='9le0c8M5GUNRAKyJoIt2')\n",
        "\n",
        "\n",
        "# Install dependencies\n",
        "!apt install graphviz\n",
        "!pip install pydot pydot-ng\n",
        "!echo \"Double check with Python 3\"\n",
        "!python -c \"import pydot\""
      ],
      "execution_count": 0,
      "outputs": [
        {
          "output_type": "stream",
          "text": [
            "Using TensorFlow backend.\n",
            "'apt' is not recognized as an internal or external command,\n",
            "operable program or batch file.\n"
          ],
          "name": "stderr"
        },
        {
          "output_type": "stream",
          "text": [
            "Requirement already satisfied: pydot in d:\\program files\\anaconda\\lib\\site-packages (1.4.1)\n",
            "Requirement already satisfied: pydot-ng in d:\\program files\\anaconda\\lib\\site-packages (2.0.0)\n",
            "Requirement already satisfied: pyparsing>=2.1.4 in d:\\program files\\anaconda\\lib\\site-packages (from pydot) (2.3.1)\n",
            "\"Double check with Python 3\"\n"
          ],
          "name": "stdout"
        }
      ]
    },
    {
      "cell_type": "code",
      "metadata": {
        "colab_type": "code",
        "id": "ClGBLAyTyw5C",
        "colab": {}
      },
      "source": [
        "#from google.colab import files\n",
        "#uploaded = files.upload()\n",
        "\n",
        "#from google.colab import drive\n",
        "#!kaggle competitions download -c Toxic Comment Classification Challenge -p /content/gdrive/My\\ Drive/kaggle/Colab Notebooks/Dataset"
      ],
      "execution_count": 0,
      "outputs": []
    },
    {
      "cell_type": "markdown",
      "metadata": {
        "colab_type": "text",
        "id": "Wbd_vQHxejbu"
      },
      "source": [
        "### Loading the necessary data files and data Preparation"
      ]
    },
    {
      "cell_type": "code",
      "metadata": {
        "colab_type": "code",
        "id": "6mdP52kqu-Kt",
        "outputId": "7c523df2-e827-4fe3-e0dc-0a50b922b9f3",
        "colab": {
          "base_uri": "https://localhost:8080/",
          "height": 347
        }
      },
      "source": [
        "#Train data\n",
        "train = pd.read_csv('D:/çankaya/2ndYEAR/Thesis/Experiments/Data_Toxic Comment Classification/train.csv')\n",
        "train.head(10)"
      ],
      "execution_count": 0,
      "outputs": [
        {
          "output_type": "execute_result",
          "data": {
            "text/html": [
              "<div>\n",
              "<style scoped>\n",
              "    .dataframe tbody tr th:only-of-type {\n",
              "        vertical-align: middle;\n",
              "    }\n",
              "\n",
              "    .dataframe tbody tr th {\n",
              "        vertical-align: top;\n",
              "    }\n",
              "\n",
              "    .dataframe thead th {\n",
              "        text-align: right;\n",
              "    }\n",
              "</style>\n",
              "<table border=\"1\" class=\"dataframe\">\n",
              "  <thead>\n",
              "    <tr style=\"text-align: right;\">\n",
              "      <th></th>\n",
              "      <th>id</th>\n",
              "      <th>comment_text</th>\n",
              "      <th>toxic</th>\n",
              "      <th>severe_toxic</th>\n",
              "      <th>obscene</th>\n",
              "      <th>threat</th>\n",
              "      <th>insult</th>\n",
              "      <th>identity_hate</th>\n",
              "    </tr>\n",
              "  </thead>\n",
              "  <tbody>\n",
              "    <tr>\n",
              "      <th>0</th>\n",
              "      <td>0000997932d777bf</td>\n",
              "      <td>Explanation\\nWhy the edits made under my usern...</td>\n",
              "      <td>0</td>\n",
              "      <td>0</td>\n",
              "      <td>0</td>\n",
              "      <td>0</td>\n",
              "      <td>0</td>\n",
              "      <td>0</td>\n",
              "    </tr>\n",
              "    <tr>\n",
              "      <th>1</th>\n",
              "      <td>000103f0d9cfb60f</td>\n",
              "      <td>D'aww! He matches this background colour I'm s...</td>\n",
              "      <td>0</td>\n",
              "      <td>0</td>\n",
              "      <td>0</td>\n",
              "      <td>0</td>\n",
              "      <td>0</td>\n",
              "      <td>0</td>\n",
              "    </tr>\n",
              "    <tr>\n",
              "      <th>2</th>\n",
              "      <td>000113f07ec002fd</td>\n",
              "      <td>Hey man, I'm really not trying to edit war. It...</td>\n",
              "      <td>0</td>\n",
              "      <td>0</td>\n",
              "      <td>0</td>\n",
              "      <td>0</td>\n",
              "      <td>0</td>\n",
              "      <td>0</td>\n",
              "    </tr>\n",
              "    <tr>\n",
              "      <th>3</th>\n",
              "      <td>0001b41b1c6bb37e</td>\n",
              "      <td>\"\\nMore\\nI can't make any real suggestions on ...</td>\n",
              "      <td>0</td>\n",
              "      <td>0</td>\n",
              "      <td>0</td>\n",
              "      <td>0</td>\n",
              "      <td>0</td>\n",
              "      <td>0</td>\n",
              "    </tr>\n",
              "    <tr>\n",
              "      <th>4</th>\n",
              "      <td>0001d958c54c6e35</td>\n",
              "      <td>You, sir, are my hero. Any chance you remember...</td>\n",
              "      <td>0</td>\n",
              "      <td>0</td>\n",
              "      <td>0</td>\n",
              "      <td>0</td>\n",
              "      <td>0</td>\n",
              "      <td>0</td>\n",
              "    </tr>\n",
              "    <tr>\n",
              "      <th>5</th>\n",
              "      <td>00025465d4725e87</td>\n",
              "      <td>\"\\n\\nCongratulations from me as well, use the ...</td>\n",
              "      <td>0</td>\n",
              "      <td>0</td>\n",
              "      <td>0</td>\n",
              "      <td>0</td>\n",
              "      <td>0</td>\n",
              "      <td>0</td>\n",
              "    </tr>\n",
              "    <tr>\n",
              "      <th>6</th>\n",
              "      <td>0002bcb3da6cb337</td>\n",
              "      <td>COCKSUCKER BEFORE YOU PISS AROUND ON MY WORK</td>\n",
              "      <td>1</td>\n",
              "      <td>1</td>\n",
              "      <td>1</td>\n",
              "      <td>0</td>\n",
              "      <td>1</td>\n",
              "      <td>0</td>\n",
              "    </tr>\n",
              "    <tr>\n",
              "      <th>7</th>\n",
              "      <td>00031b1e95af7921</td>\n",
              "      <td>Your vandalism to the Matt Shirvington article...</td>\n",
              "      <td>0</td>\n",
              "      <td>0</td>\n",
              "      <td>0</td>\n",
              "      <td>0</td>\n",
              "      <td>0</td>\n",
              "      <td>0</td>\n",
              "    </tr>\n",
              "    <tr>\n",
              "      <th>8</th>\n",
              "      <td>00037261f536c51d</td>\n",
              "      <td>Sorry if the word 'nonsense' was offensive to ...</td>\n",
              "      <td>0</td>\n",
              "      <td>0</td>\n",
              "      <td>0</td>\n",
              "      <td>0</td>\n",
              "      <td>0</td>\n",
              "      <td>0</td>\n",
              "    </tr>\n",
              "    <tr>\n",
              "      <th>9</th>\n",
              "      <td>00040093b2687caa</td>\n",
              "      <td>alignment on this subject and which are contra...</td>\n",
              "      <td>0</td>\n",
              "      <td>0</td>\n",
              "      <td>0</td>\n",
              "      <td>0</td>\n",
              "      <td>0</td>\n",
              "      <td>0</td>\n",
              "    </tr>\n",
              "  </tbody>\n",
              "</table>\n",
              "</div>"
            ],
            "text/plain": [
              "                 id                                       comment_text  toxic  \\\n",
              "0  0000997932d777bf  Explanation\\nWhy the edits made under my usern...      0   \n",
              "1  000103f0d9cfb60f  D'aww! He matches this background colour I'm s...      0   \n",
              "2  000113f07ec002fd  Hey man, I'm really not trying to edit war. It...      0   \n",
              "3  0001b41b1c6bb37e  \"\\nMore\\nI can't make any real suggestions on ...      0   \n",
              "4  0001d958c54c6e35  You, sir, are my hero. Any chance you remember...      0   \n",
              "5  00025465d4725e87  \"\\n\\nCongratulations from me as well, use the ...      0   \n",
              "6  0002bcb3da6cb337       COCKSUCKER BEFORE YOU PISS AROUND ON MY WORK      1   \n",
              "7  00031b1e95af7921  Your vandalism to the Matt Shirvington article...      0   \n",
              "8  00037261f536c51d  Sorry if the word 'nonsense' was offensive to ...      0   \n",
              "9  00040093b2687caa  alignment on this subject and which are contra...      0   \n",
              "\n",
              "   severe_toxic  obscene  threat  insult  identity_hate  \n",
              "0             0        0       0       0              0  \n",
              "1             0        0       0       0              0  \n",
              "2             0        0       0       0              0  \n",
              "3             0        0       0       0              0  \n",
              "4             0        0       0       0              0  \n",
              "5             0        0       0       0              0  \n",
              "6             1        1       0       1              0  \n",
              "7             0        0       0       0              0  \n",
              "8             0        0       0       0              0  \n",
              "9             0        0       0       0              0  "
            ]
          },
          "metadata": {
            "tags": []
          },
          "execution_count": 3
        }
      ]
    },
    {
      "cell_type": "code",
      "metadata": {
        "id": "9PM7Mp-QB6pl",
        "colab_type": "code",
        "colab": {},
        "outputId": "9bc05fda-6c0d-4204-9acd-b204870954de"
      },
      "source": [
        "train = train.loc[(train['toxic'] == 1) | (train['severe_toxic'] == 1) | (train['obscene'] ==1) | (train['threat'] == 1) | (train['insult'] == 1) | (train['identity_hate'] ==1)]\n",
        "\n",
        "train.head(10)"
      ],
      "execution_count": 0,
      "outputs": [
        {
          "output_type": "execute_result",
          "data": {
            "text/html": [
              "<div>\n",
              "<style scoped>\n",
              "    .dataframe tbody tr th:only-of-type {\n",
              "        vertical-align: middle;\n",
              "    }\n",
              "\n",
              "    .dataframe tbody tr th {\n",
              "        vertical-align: top;\n",
              "    }\n",
              "\n",
              "    .dataframe thead th {\n",
              "        text-align: right;\n",
              "    }\n",
              "</style>\n",
              "<table border=\"1\" class=\"dataframe\">\n",
              "  <thead>\n",
              "    <tr style=\"text-align: right;\">\n",
              "      <th></th>\n",
              "      <th>id</th>\n",
              "      <th>comment_text</th>\n",
              "      <th>toxic</th>\n",
              "      <th>severe_toxic</th>\n",
              "      <th>obscene</th>\n",
              "      <th>threat</th>\n",
              "      <th>insult</th>\n",
              "      <th>identity_hate</th>\n",
              "    </tr>\n",
              "  </thead>\n",
              "  <tbody>\n",
              "    <tr>\n",
              "      <th>6</th>\n",
              "      <td>0002bcb3da6cb337</td>\n",
              "      <td>COCKSUCKER BEFORE YOU PISS AROUND ON MY WORK</td>\n",
              "      <td>1</td>\n",
              "      <td>1</td>\n",
              "      <td>1</td>\n",
              "      <td>0</td>\n",
              "      <td>1</td>\n",
              "      <td>0</td>\n",
              "    </tr>\n",
              "    <tr>\n",
              "      <th>12</th>\n",
              "      <td>0005c987bdfc9d4b</td>\n",
              "      <td>Hey... what is it..\\n@ | talk .\\nWhat is it......</td>\n",
              "      <td>1</td>\n",
              "      <td>0</td>\n",
              "      <td>0</td>\n",
              "      <td>0</td>\n",
              "      <td>0</td>\n",
              "      <td>0</td>\n",
              "    </tr>\n",
              "    <tr>\n",
              "      <th>16</th>\n",
              "      <td>0007e25b2121310b</td>\n",
              "      <td>Bye! \\n\\nDon't look, come or think of comming ...</td>\n",
              "      <td>1</td>\n",
              "      <td>0</td>\n",
              "      <td>0</td>\n",
              "      <td>0</td>\n",
              "      <td>0</td>\n",
              "      <td>0</td>\n",
              "    </tr>\n",
              "    <tr>\n",
              "      <th>42</th>\n",
              "      <td>001810bf8c45bf5f</td>\n",
              "      <td>You are gay or antisemmitian? \\n\\nArchangel WH...</td>\n",
              "      <td>1</td>\n",
              "      <td>0</td>\n",
              "      <td>1</td>\n",
              "      <td>0</td>\n",
              "      <td>1</td>\n",
              "      <td>1</td>\n",
              "    </tr>\n",
              "    <tr>\n",
              "      <th>43</th>\n",
              "      <td>00190820581d90ce</td>\n",
              "      <td>FUCK YOUR FILTHY MOTHER IN THE ASS, DRY!</td>\n",
              "      <td>1</td>\n",
              "      <td>0</td>\n",
              "      <td>1</td>\n",
              "      <td>0</td>\n",
              "      <td>1</td>\n",
              "      <td>0</td>\n",
              "    </tr>\n",
              "    <tr>\n",
              "      <th>44</th>\n",
              "      <td>001956c382006abd</td>\n",
              "      <td>I'm Sorry \\n\\nI'm sorry I screwed around with ...</td>\n",
              "      <td>1</td>\n",
              "      <td>0</td>\n",
              "      <td>0</td>\n",
              "      <td>0</td>\n",
              "      <td>0</td>\n",
              "      <td>0</td>\n",
              "    </tr>\n",
              "    <tr>\n",
              "      <th>51</th>\n",
              "      <td>001dc38a83d420cf</td>\n",
              "      <td>GET FUCKED UP. GET FUCKEEED UP.  GOT A DRINK T...</td>\n",
              "      <td>1</td>\n",
              "      <td>0</td>\n",
              "      <td>1</td>\n",
              "      <td>0</td>\n",
              "      <td>0</td>\n",
              "      <td>0</td>\n",
              "    </tr>\n",
              "    <tr>\n",
              "      <th>55</th>\n",
              "      <td>0020e7119b96eeeb</td>\n",
              "      <td>Stupid peace of shit stop deleting my stuff as...</td>\n",
              "      <td>1</td>\n",
              "      <td>1</td>\n",
              "      <td>1</td>\n",
              "      <td>0</td>\n",
              "      <td>1</td>\n",
              "      <td>0</td>\n",
              "    </tr>\n",
              "    <tr>\n",
              "      <th>56</th>\n",
              "      <td>0020fd96ed3b8c8b</td>\n",
              "      <td>=Tony Sidaway is obviously a fistfuckee. He lo...</td>\n",
              "      <td>1</td>\n",
              "      <td>0</td>\n",
              "      <td>1</td>\n",
              "      <td>0</td>\n",
              "      <td>1</td>\n",
              "      <td>0</td>\n",
              "    </tr>\n",
              "    <tr>\n",
              "      <th>58</th>\n",
              "      <td>0021fe88bc4da3e6</td>\n",
              "      <td>My Band Page's deletion. You thought I was gon...</td>\n",
              "      <td>1</td>\n",
              "      <td>0</td>\n",
              "      <td>1</td>\n",
              "      <td>0</td>\n",
              "      <td>0</td>\n",
              "      <td>0</td>\n",
              "    </tr>\n",
              "  </tbody>\n",
              "</table>\n",
              "</div>"
            ],
            "text/plain": [
              "                  id                                       comment_text  \\\n",
              "6   0002bcb3da6cb337       COCKSUCKER BEFORE YOU PISS AROUND ON MY WORK   \n",
              "12  0005c987bdfc9d4b  Hey... what is it..\\n@ | talk .\\nWhat is it......   \n",
              "16  0007e25b2121310b  Bye! \\n\\nDon't look, come or think of comming ...   \n",
              "42  001810bf8c45bf5f  You are gay or antisemmitian? \\n\\nArchangel WH...   \n",
              "43  00190820581d90ce           FUCK YOUR FILTHY MOTHER IN THE ASS, DRY!   \n",
              "44  001956c382006abd  I'm Sorry \\n\\nI'm sorry I screwed around with ...   \n",
              "51  001dc38a83d420cf  GET FUCKED UP. GET FUCKEEED UP.  GOT A DRINK T...   \n",
              "55  0020e7119b96eeeb  Stupid peace of shit stop deleting my stuff as...   \n",
              "56  0020fd96ed3b8c8b  =Tony Sidaway is obviously a fistfuckee. He lo...   \n",
              "58  0021fe88bc4da3e6  My Band Page's deletion. You thought I was gon...   \n",
              "\n",
              "    toxic  severe_toxic  obscene  threat  insult  identity_hate  \n",
              "6       1             1        1       0       1              0  \n",
              "12      1             0        0       0       0              0  \n",
              "16      1             0        0       0       0              0  \n",
              "42      1             0        1       0       1              1  \n",
              "43      1             0        1       0       1              0  \n",
              "44      1             0        0       0       0              0  \n",
              "51      1             0        1       0       0              0  \n",
              "55      1             1        1       0       1              0  \n",
              "56      1             0        1       0       1              0  \n",
              "58      1             0        1       0       0              0  "
            ]
          },
          "metadata": {
            "tags": []
          },
          "execution_count": 4
        }
      ]
    },
    {
      "cell_type": "markdown",
      "metadata": {
        "colab_type": "text",
        "id": "yemWuxUUwGbQ"
      },
      "source": [
        "### Clean the Train data, specifically remove punctuations"
      ]
    },
    {
      "cell_type": "code",
      "metadata": {
        "colab_type": "code",
        "id": "bXBAuHzkegFw",
        "outputId": "9f3666bb-4186-483e-f2c9-1a7bd50ce3a2",
        "colab": {
          "base_uri": "https://localhost:8080/",
          "height": 347
        }
      },
      "source": [
        "totalContentCleaned = []\n",
        "punctDict = {}\n",
        "for punct in string.punctuation:\n",
        "    punctDict[punct] = None\n",
        "transString = str.maketrans(punctDict)\n",
        "# since we intent to remove any punctuation with ''\n",
        "for sen in train['comment_text']:\n",
        "    \n",
        "    #cleanedString = re.sub('[^a-zA-Z]+', '', sen)\n",
        "    \n",
        "    p = sen.translate(transString)\n",
        "    totalContentCleaned.append(p)\n",
        "    \n",
        "\n",
        "train['comment_text'] = totalContentCleaned\n",
        "# we can save the file to csv if we want in local machine\n",
        "#df.to_csv(os.path.join(os.path.abspath('data'), 'train_cleaned.csv'), index = False)\n",
        "\n",
        "\n",
        "\n",
        "train.head(10)"
      ],
      "execution_count": 0,
      "outputs": [
        {
          "output_type": "execute_result",
          "data": {
            "text/html": [
              "<div>\n",
              "<style scoped>\n",
              "    .dataframe tbody tr th:only-of-type {\n",
              "        vertical-align: middle;\n",
              "    }\n",
              "\n",
              "    .dataframe tbody tr th {\n",
              "        vertical-align: top;\n",
              "    }\n",
              "\n",
              "    .dataframe thead th {\n",
              "        text-align: right;\n",
              "    }\n",
              "</style>\n",
              "<table border=\"1\" class=\"dataframe\">\n",
              "  <thead>\n",
              "    <tr style=\"text-align: right;\">\n",
              "      <th></th>\n",
              "      <th>id</th>\n",
              "      <th>comment_text</th>\n",
              "      <th>toxic</th>\n",
              "      <th>severe_toxic</th>\n",
              "      <th>obscene</th>\n",
              "      <th>threat</th>\n",
              "      <th>insult</th>\n",
              "      <th>identity_hate</th>\n",
              "    </tr>\n",
              "  </thead>\n",
              "  <tbody>\n",
              "    <tr>\n",
              "      <th>6</th>\n",
              "      <td>0002bcb3da6cb337</td>\n",
              "      <td>COCKSUCKER BEFORE YOU PISS AROUND ON MY WORK</td>\n",
              "      <td>1</td>\n",
              "      <td>1</td>\n",
              "      <td>1</td>\n",
              "      <td>0</td>\n",
              "      <td>1</td>\n",
              "      <td>0</td>\n",
              "    </tr>\n",
              "    <tr>\n",
              "      <th>12</th>\n",
              "      <td>0005c987bdfc9d4b</td>\n",
              "      <td>Hey what is it\\n  talk \\nWhat is it an exclusi...</td>\n",
              "      <td>1</td>\n",
              "      <td>0</td>\n",
              "      <td>0</td>\n",
              "      <td>0</td>\n",
              "      <td>0</td>\n",
              "      <td>0</td>\n",
              "    </tr>\n",
              "    <tr>\n",
              "      <th>16</th>\n",
              "      <td>0007e25b2121310b</td>\n",
              "      <td>Bye \\n\\nDont look come or think of comming bac...</td>\n",
              "      <td>1</td>\n",
              "      <td>0</td>\n",
              "      <td>0</td>\n",
              "      <td>0</td>\n",
              "      <td>0</td>\n",
              "      <td>0</td>\n",
              "    </tr>\n",
              "    <tr>\n",
              "      <th>42</th>\n",
              "      <td>001810bf8c45bf5f</td>\n",
              "      <td>You are gay or antisemmitian \\n\\nArchangel WHi...</td>\n",
              "      <td>1</td>\n",
              "      <td>0</td>\n",
              "      <td>1</td>\n",
              "      <td>0</td>\n",
              "      <td>1</td>\n",
              "      <td>1</td>\n",
              "    </tr>\n",
              "    <tr>\n",
              "      <th>43</th>\n",
              "      <td>00190820581d90ce</td>\n",
              "      <td>FUCK YOUR FILTHY MOTHER IN THE ASS DRY</td>\n",
              "      <td>1</td>\n",
              "      <td>0</td>\n",
              "      <td>1</td>\n",
              "      <td>0</td>\n",
              "      <td>1</td>\n",
              "      <td>0</td>\n",
              "    </tr>\n",
              "    <tr>\n",
              "      <th>44</th>\n",
              "      <td>001956c382006abd</td>\n",
              "      <td>Im Sorry \\n\\nIm sorry I screwed around with so...</td>\n",
              "      <td>1</td>\n",
              "      <td>0</td>\n",
              "      <td>0</td>\n",
              "      <td>0</td>\n",
              "      <td>0</td>\n",
              "      <td>0</td>\n",
              "    </tr>\n",
              "    <tr>\n",
              "      <th>51</th>\n",
              "      <td>001dc38a83d420cf</td>\n",
              "      <td>GET FUCKED UP GET FUCKEEED UP  GOT A DRINK THA...</td>\n",
              "      <td>1</td>\n",
              "      <td>0</td>\n",
              "      <td>1</td>\n",
              "      <td>0</td>\n",
              "      <td>0</td>\n",
              "      <td>0</td>\n",
              "    </tr>\n",
              "    <tr>\n",
              "      <th>55</th>\n",
              "      <td>0020e7119b96eeeb</td>\n",
              "      <td>Stupid peace of shit stop deleting my stuff as...</td>\n",
              "      <td>1</td>\n",
              "      <td>1</td>\n",
              "      <td>1</td>\n",
              "      <td>0</td>\n",
              "      <td>1</td>\n",
              "      <td>0</td>\n",
              "    </tr>\n",
              "    <tr>\n",
              "      <th>56</th>\n",
              "      <td>0020fd96ed3b8c8b</td>\n",
              "      <td>Tony Sidaway is obviously a fistfuckee He love...</td>\n",
              "      <td>1</td>\n",
              "      <td>0</td>\n",
              "      <td>1</td>\n",
              "      <td>0</td>\n",
              "      <td>1</td>\n",
              "      <td>0</td>\n",
              "    </tr>\n",
              "    <tr>\n",
              "      <th>58</th>\n",
              "      <td>0021fe88bc4da3e6</td>\n",
              "      <td>My Band Pages deletion You thought I was gone ...</td>\n",
              "      <td>1</td>\n",
              "      <td>0</td>\n",
              "      <td>1</td>\n",
              "      <td>0</td>\n",
              "      <td>0</td>\n",
              "      <td>0</td>\n",
              "    </tr>\n",
              "  </tbody>\n",
              "</table>\n",
              "</div>"
            ],
            "text/plain": [
              "                  id                                       comment_text  \\\n",
              "6   0002bcb3da6cb337       COCKSUCKER BEFORE YOU PISS AROUND ON MY WORK   \n",
              "12  0005c987bdfc9d4b  Hey what is it\\n  talk \\nWhat is it an exclusi...   \n",
              "16  0007e25b2121310b  Bye \\n\\nDont look come or think of comming bac...   \n",
              "42  001810bf8c45bf5f  You are gay or antisemmitian \\n\\nArchangel WHi...   \n",
              "43  00190820581d90ce             FUCK YOUR FILTHY MOTHER IN THE ASS DRY   \n",
              "44  001956c382006abd  Im Sorry \\n\\nIm sorry I screwed around with so...   \n",
              "51  001dc38a83d420cf  GET FUCKED UP GET FUCKEEED UP  GOT A DRINK THA...   \n",
              "55  0020e7119b96eeeb  Stupid peace of shit stop deleting my stuff as...   \n",
              "56  0020fd96ed3b8c8b  Tony Sidaway is obviously a fistfuckee He love...   \n",
              "58  0021fe88bc4da3e6  My Band Pages deletion You thought I was gone ...   \n",
              "\n",
              "    toxic  severe_toxic  obscene  threat  insult  identity_hate  \n",
              "6       1             1        1       0       1              0  \n",
              "12      1             0        0       0       0              0  \n",
              "16      1             0        0       0       0              0  \n",
              "42      1             0        1       0       1              1  \n",
              "43      1             0        1       0       1              0  \n",
              "44      1             0        0       0       0              0  \n",
              "51      1             0        1       0       0              0  \n",
              "55      1             1        1       0       1              0  \n",
              "56      1             0        1       0       1              0  \n",
              "58      1             0        1       0       0              0  "
            ]
          },
          "metadata": {
            "tags": []
          },
          "execution_count": 5
        }
      ]
    },
    {
      "cell_type": "code",
      "metadata": {
        "colab_type": "code",
        "id": "bThKgInKejb0",
        "outputId": "440bf1eb-1d9c-4743-a2d4-bdf0876fedc2",
        "colab": {
          "base_uri": "https://localhost:8080/",
          "height": 347
        }
      },
      "source": [
        "#Test data\n",
        "df_test = pd.read_csv('D:/çankaya/2ndYEAR/Thesis/Experiments/Data_Toxic Comment Classification/test.csv')\n",
        "df_test.head(10)"
      ],
      "execution_count": 0,
      "outputs": [
        {
          "output_type": "execute_result",
          "data": {
            "text/html": [
              "<div>\n",
              "<style scoped>\n",
              "    .dataframe tbody tr th:only-of-type {\n",
              "        vertical-align: middle;\n",
              "    }\n",
              "\n",
              "    .dataframe tbody tr th {\n",
              "        vertical-align: top;\n",
              "    }\n",
              "\n",
              "    .dataframe thead th {\n",
              "        text-align: right;\n",
              "    }\n",
              "</style>\n",
              "<table border=\"1\" class=\"dataframe\">\n",
              "  <thead>\n",
              "    <tr style=\"text-align: right;\">\n",
              "      <th></th>\n",
              "      <th>id</th>\n",
              "      <th>comment_text</th>\n",
              "    </tr>\n",
              "  </thead>\n",
              "  <tbody>\n",
              "    <tr>\n",
              "      <th>0</th>\n",
              "      <td>00001cee341fdb12</td>\n",
              "      <td>Yo bitch Ja Rule is more succesful then you'll...</td>\n",
              "    </tr>\n",
              "    <tr>\n",
              "      <th>1</th>\n",
              "      <td>0000247867823ef7</td>\n",
              "      <td>== From RfC == \\n\\n The title is fine as it is...</td>\n",
              "    </tr>\n",
              "    <tr>\n",
              "      <th>2</th>\n",
              "      <td>00013b17ad220c46</td>\n",
              "      <td>\" \\n\\n == Sources == \\n\\n * Zawe Ashton on Lap...</td>\n",
              "    </tr>\n",
              "    <tr>\n",
              "      <th>3</th>\n",
              "      <td>00017563c3f7919a</td>\n",
              "      <td>:If you have a look back at the source, the in...</td>\n",
              "    </tr>\n",
              "    <tr>\n",
              "      <th>4</th>\n",
              "      <td>00017695ad8997eb</td>\n",
              "      <td>I don't anonymously edit articles at all.</td>\n",
              "    </tr>\n",
              "    <tr>\n",
              "      <th>5</th>\n",
              "      <td>0001ea8717f6de06</td>\n",
              "      <td>Thank you for understanding. I think very high...</td>\n",
              "    </tr>\n",
              "    <tr>\n",
              "      <th>6</th>\n",
              "      <td>00024115d4cbde0f</td>\n",
              "      <td>Please do not add nonsense to Wikipedia. Such ...</td>\n",
              "    </tr>\n",
              "    <tr>\n",
              "      <th>7</th>\n",
              "      <td>000247e83dcc1211</td>\n",
              "      <td>:Dear god this site is horrible.</td>\n",
              "    </tr>\n",
              "    <tr>\n",
              "      <th>8</th>\n",
              "      <td>00025358d4737918</td>\n",
              "      <td>\" \\n Only a fool can believe in such numbers. ...</td>\n",
              "    </tr>\n",
              "    <tr>\n",
              "      <th>9</th>\n",
              "      <td>00026d1092fe71cc</td>\n",
              "      <td>== Double Redirects == \\n\\n When fixing double...</td>\n",
              "    </tr>\n",
              "  </tbody>\n",
              "</table>\n",
              "</div>"
            ],
            "text/plain": [
              "                 id                                       comment_text\n",
              "0  00001cee341fdb12  Yo bitch Ja Rule is more succesful then you'll...\n",
              "1  0000247867823ef7  == From RfC == \\n\\n The title is fine as it is...\n",
              "2  00013b17ad220c46  \" \\n\\n == Sources == \\n\\n * Zawe Ashton on Lap...\n",
              "3  00017563c3f7919a  :If you have a look back at the source, the in...\n",
              "4  00017695ad8997eb          I don't anonymously edit articles at all.\n",
              "5  0001ea8717f6de06  Thank you for understanding. I think very high...\n",
              "6  00024115d4cbde0f  Please do not add nonsense to Wikipedia. Such ...\n",
              "7  000247e83dcc1211                   :Dear god this site is horrible.\n",
              "8  00025358d4737918  \" \\n Only a fool can believe in such numbers. ...\n",
              "9  00026d1092fe71cc  == Double Redirects == \\n\\n When fixing double..."
            ]
          },
          "metadata": {
            "tags": []
          },
          "execution_count": 6
        }
      ]
    },
    {
      "cell_type": "markdown",
      "metadata": {
        "colab_type": "text",
        "id": "gkNgoN8pwPtA"
      },
      "source": [
        "### Clean the Test data, specifically remove punctuations"
      ]
    },
    {
      "cell_type": "code",
      "metadata": {
        "colab_type": "code",
        "id": "qAtY_WxPe03X",
        "outputId": "de2636cd-b6bf-4f63-9ce3-70d9e31e0e85",
        "colab": {
          "base_uri": "https://localhost:8080/",
          "height": 347
        }
      },
      "source": [
        "totalContentCleaned = []\n",
        "punctDict = {}\n",
        "for punct in string.punctuation:\n",
        "    punctDict[punct] = None\n",
        "transString = str.maketrans(punctDict)\n",
        "# since we intent to remove any punctuation with ''\n",
        "for sen in df_test['comment_text']:\n",
        "    \n",
        "    #cleanedString = re.sub('[^a-zA-Z]+', '', sen)\n",
        "    \n",
        "    p = sen.translate(transString)\n",
        "    totalContentCleaned.append(p)\n",
        "    \n",
        "\n",
        "df_test['comment_text'] = totalContentCleaned\n",
        "# we can save the file to csv if we want in local machine\n",
        "#df.to_csv(os.path.join(os.path.abspath('data'), 'train_cleaned.csv'), index = False)\n",
        "\n",
        "\n",
        "\n",
        "df_test.head(10)"
      ],
      "execution_count": 0,
      "outputs": [
        {
          "output_type": "execute_result",
          "data": {
            "text/html": [
              "<div>\n",
              "<style scoped>\n",
              "    .dataframe tbody tr th:only-of-type {\n",
              "        vertical-align: middle;\n",
              "    }\n",
              "\n",
              "    .dataframe tbody tr th {\n",
              "        vertical-align: top;\n",
              "    }\n",
              "\n",
              "    .dataframe thead th {\n",
              "        text-align: right;\n",
              "    }\n",
              "</style>\n",
              "<table border=\"1\" class=\"dataframe\">\n",
              "  <thead>\n",
              "    <tr style=\"text-align: right;\">\n",
              "      <th></th>\n",
              "      <th>id</th>\n",
              "      <th>comment_text</th>\n",
              "    </tr>\n",
              "  </thead>\n",
              "  <tbody>\n",
              "    <tr>\n",
              "      <th>0</th>\n",
              "      <td>00001cee341fdb12</td>\n",
              "      <td>Yo bitch Ja Rule is more succesful then youll ...</td>\n",
              "    </tr>\n",
              "    <tr>\n",
              "      <th>1</th>\n",
              "      <td>0000247867823ef7</td>\n",
              "      <td>From RfC  \\n\\n The title is fine as it is IMO</td>\n",
              "    </tr>\n",
              "    <tr>\n",
              "      <th>2</th>\n",
              "      <td>00013b17ad220c46</td>\n",
              "      <td>\\n\\n  Sources  \\n\\n  Zawe Ashton on Lapland —...</td>\n",
              "    </tr>\n",
              "    <tr>\n",
              "      <th>3</th>\n",
              "      <td>00017563c3f7919a</td>\n",
              "      <td>If you have a look back at the source the info...</td>\n",
              "    </tr>\n",
              "    <tr>\n",
              "      <th>4</th>\n",
              "      <td>00017695ad8997eb</td>\n",
              "      <td>I dont anonymously edit articles at all</td>\n",
              "    </tr>\n",
              "    <tr>\n",
              "      <th>5</th>\n",
              "      <td>0001ea8717f6de06</td>\n",
              "      <td>Thank you for understanding I think very highl...</td>\n",
              "    </tr>\n",
              "    <tr>\n",
              "      <th>6</th>\n",
              "      <td>00024115d4cbde0f</td>\n",
              "      <td>Please do not add nonsense to Wikipedia Such e...</td>\n",
              "    </tr>\n",
              "    <tr>\n",
              "      <th>7</th>\n",
              "      <td>000247e83dcc1211</td>\n",
              "      <td>Dear god this site is horrible</td>\n",
              "    </tr>\n",
              "    <tr>\n",
              "      <th>8</th>\n",
              "      <td>00025358d4737918</td>\n",
              "      <td>\\n Only a fool can believe in such numbers \\n...</td>\n",
              "    </tr>\n",
              "    <tr>\n",
              "      <th>9</th>\n",
              "      <td>00026d1092fe71cc</td>\n",
              "      <td>Double Redirects  \\n\\n When fixing double red...</td>\n",
              "    </tr>\n",
              "  </tbody>\n",
              "</table>\n",
              "</div>"
            ],
            "text/plain": [
              "                 id                                       comment_text\n",
              "0  00001cee341fdb12  Yo bitch Ja Rule is more succesful then youll ...\n",
              "1  0000247867823ef7      From RfC  \\n\\n The title is fine as it is IMO\n",
              "2  00013b17ad220c46   \\n\\n  Sources  \\n\\n  Zawe Ashton on Lapland —...\n",
              "3  00017563c3f7919a  If you have a look back at the source the info...\n",
              "4  00017695ad8997eb            I dont anonymously edit articles at all\n",
              "5  0001ea8717f6de06  Thank you for understanding I think very highl...\n",
              "6  00024115d4cbde0f  Please do not add nonsense to Wikipedia Such e...\n",
              "7  000247e83dcc1211                     Dear god this site is horrible\n",
              "8  00025358d4737918   \\n Only a fool can believe in such numbers \\n...\n",
              "9  00026d1092fe71cc   Double Redirects  \\n\\n When fixing double red..."
            ]
          },
          "metadata": {
            "tags": []
          },
          "execution_count": 7
        }
      ]
    },
    {
      "cell_type": "code",
      "metadata": {
        "colab_type": "code",
        "id": "PAj6D9IZejb5",
        "outputId": "299e42b0-7657-4c88-a00a-9b9e125cccf7",
        "colab": {
          "base_uri": "https://localhost:8080/",
          "height": 347
        }
      },
      "source": [
        "df_test_labels = pd.read_csv('D:/çankaya/2ndYEAR/Thesis/Experiments/Data_Toxic Comment Classification/test_labels.csv')\n",
        "\n",
        "df_test_labels.head(10)"
      ],
      "execution_count": 0,
      "outputs": [
        {
          "output_type": "execute_result",
          "data": {
            "text/html": [
              "<div>\n",
              "<style scoped>\n",
              "    .dataframe tbody tr th:only-of-type {\n",
              "        vertical-align: middle;\n",
              "    }\n",
              "\n",
              "    .dataframe tbody tr th {\n",
              "        vertical-align: top;\n",
              "    }\n",
              "\n",
              "    .dataframe thead th {\n",
              "        text-align: right;\n",
              "    }\n",
              "</style>\n",
              "<table border=\"1\" class=\"dataframe\">\n",
              "  <thead>\n",
              "    <tr style=\"text-align: right;\">\n",
              "      <th></th>\n",
              "      <th>id</th>\n",
              "      <th>toxic</th>\n",
              "      <th>severe_toxic</th>\n",
              "      <th>obscene</th>\n",
              "      <th>threat</th>\n",
              "      <th>insult</th>\n",
              "      <th>identity_hate</th>\n",
              "    </tr>\n",
              "  </thead>\n",
              "  <tbody>\n",
              "    <tr>\n",
              "      <th>0</th>\n",
              "      <td>00001cee341fdb12</td>\n",
              "      <td>-1</td>\n",
              "      <td>-1</td>\n",
              "      <td>-1</td>\n",
              "      <td>-1</td>\n",
              "      <td>-1</td>\n",
              "      <td>-1</td>\n",
              "    </tr>\n",
              "    <tr>\n",
              "      <th>1</th>\n",
              "      <td>0000247867823ef7</td>\n",
              "      <td>-1</td>\n",
              "      <td>-1</td>\n",
              "      <td>-1</td>\n",
              "      <td>-1</td>\n",
              "      <td>-1</td>\n",
              "      <td>-1</td>\n",
              "    </tr>\n",
              "    <tr>\n",
              "      <th>2</th>\n",
              "      <td>00013b17ad220c46</td>\n",
              "      <td>-1</td>\n",
              "      <td>-1</td>\n",
              "      <td>-1</td>\n",
              "      <td>-1</td>\n",
              "      <td>-1</td>\n",
              "      <td>-1</td>\n",
              "    </tr>\n",
              "    <tr>\n",
              "      <th>3</th>\n",
              "      <td>00017563c3f7919a</td>\n",
              "      <td>-1</td>\n",
              "      <td>-1</td>\n",
              "      <td>-1</td>\n",
              "      <td>-1</td>\n",
              "      <td>-1</td>\n",
              "      <td>-1</td>\n",
              "    </tr>\n",
              "    <tr>\n",
              "      <th>4</th>\n",
              "      <td>00017695ad8997eb</td>\n",
              "      <td>-1</td>\n",
              "      <td>-1</td>\n",
              "      <td>-1</td>\n",
              "      <td>-1</td>\n",
              "      <td>-1</td>\n",
              "      <td>-1</td>\n",
              "    </tr>\n",
              "    <tr>\n",
              "      <th>5</th>\n",
              "      <td>0001ea8717f6de06</td>\n",
              "      <td>0</td>\n",
              "      <td>0</td>\n",
              "      <td>0</td>\n",
              "      <td>0</td>\n",
              "      <td>0</td>\n",
              "      <td>0</td>\n",
              "    </tr>\n",
              "    <tr>\n",
              "      <th>6</th>\n",
              "      <td>00024115d4cbde0f</td>\n",
              "      <td>-1</td>\n",
              "      <td>-1</td>\n",
              "      <td>-1</td>\n",
              "      <td>-1</td>\n",
              "      <td>-1</td>\n",
              "      <td>-1</td>\n",
              "    </tr>\n",
              "    <tr>\n",
              "      <th>7</th>\n",
              "      <td>000247e83dcc1211</td>\n",
              "      <td>0</td>\n",
              "      <td>0</td>\n",
              "      <td>0</td>\n",
              "      <td>0</td>\n",
              "      <td>0</td>\n",
              "      <td>0</td>\n",
              "    </tr>\n",
              "    <tr>\n",
              "      <th>8</th>\n",
              "      <td>00025358d4737918</td>\n",
              "      <td>-1</td>\n",
              "      <td>-1</td>\n",
              "      <td>-1</td>\n",
              "      <td>-1</td>\n",
              "      <td>-1</td>\n",
              "      <td>-1</td>\n",
              "    </tr>\n",
              "    <tr>\n",
              "      <th>9</th>\n",
              "      <td>00026d1092fe71cc</td>\n",
              "      <td>-1</td>\n",
              "      <td>-1</td>\n",
              "      <td>-1</td>\n",
              "      <td>-1</td>\n",
              "      <td>-1</td>\n",
              "      <td>-1</td>\n",
              "    </tr>\n",
              "  </tbody>\n",
              "</table>\n",
              "</div>"
            ],
            "text/plain": [
              "                 id  toxic  severe_toxic  obscene  threat  insult  \\\n",
              "0  00001cee341fdb12     -1            -1       -1      -1      -1   \n",
              "1  0000247867823ef7     -1            -1       -1      -1      -1   \n",
              "2  00013b17ad220c46     -1            -1       -1      -1      -1   \n",
              "3  00017563c3f7919a     -1            -1       -1      -1      -1   \n",
              "4  00017695ad8997eb     -1            -1       -1      -1      -1   \n",
              "5  0001ea8717f6de06      0             0        0       0       0   \n",
              "6  00024115d4cbde0f     -1            -1       -1      -1      -1   \n",
              "7  000247e83dcc1211      0             0        0       0       0   \n",
              "8  00025358d4737918     -1            -1       -1      -1      -1   \n",
              "9  00026d1092fe71cc     -1            -1       -1      -1      -1   \n",
              "\n",
              "   identity_hate  \n",
              "0             -1  \n",
              "1             -1  \n",
              "2             -1  \n",
              "3             -1  \n",
              "4             -1  \n",
              "5              0  \n",
              "6             -1  \n",
              "7              0  \n",
              "8             -1  \n",
              "9             -1  "
            ]
          },
          "metadata": {
            "tags": []
          },
          "execution_count": 8
        }
      ]
    },
    {
      "cell_type": "code",
      "metadata": {
        "colab_type": "code",
        "id": "wB71FX4Lejb_",
        "outputId": "84834a0d-cf61-411e-806d-e197ba6921a1",
        "colab": {
          "base_uri": "https://localhost:8080/",
          "height": 347
        }
      },
      "source": [
        "test_labels = df_test_labels[(df_test_labels[['toxic','severe_toxic', 'obscene', 'threat', \n",
        "                                        'insult', 'identity_hate']] != -1).all(axis=1)]\n",
        "test_labels.head(10)"
      ],
      "execution_count": 0,
      "outputs": [
        {
          "output_type": "execute_result",
          "data": {
            "text/html": [
              "<div>\n",
              "<style scoped>\n",
              "    .dataframe tbody tr th:only-of-type {\n",
              "        vertical-align: middle;\n",
              "    }\n",
              "\n",
              "    .dataframe tbody tr th {\n",
              "        vertical-align: top;\n",
              "    }\n",
              "\n",
              "    .dataframe thead th {\n",
              "        text-align: right;\n",
              "    }\n",
              "</style>\n",
              "<table border=\"1\" class=\"dataframe\">\n",
              "  <thead>\n",
              "    <tr style=\"text-align: right;\">\n",
              "      <th></th>\n",
              "      <th>id</th>\n",
              "      <th>toxic</th>\n",
              "      <th>severe_toxic</th>\n",
              "      <th>obscene</th>\n",
              "      <th>threat</th>\n",
              "      <th>insult</th>\n",
              "      <th>identity_hate</th>\n",
              "    </tr>\n",
              "  </thead>\n",
              "  <tbody>\n",
              "    <tr>\n",
              "      <th>5</th>\n",
              "      <td>0001ea8717f6de06</td>\n",
              "      <td>0</td>\n",
              "      <td>0</td>\n",
              "      <td>0</td>\n",
              "      <td>0</td>\n",
              "      <td>0</td>\n",
              "      <td>0</td>\n",
              "    </tr>\n",
              "    <tr>\n",
              "      <th>7</th>\n",
              "      <td>000247e83dcc1211</td>\n",
              "      <td>0</td>\n",
              "      <td>0</td>\n",
              "      <td>0</td>\n",
              "      <td>0</td>\n",
              "      <td>0</td>\n",
              "      <td>0</td>\n",
              "    </tr>\n",
              "    <tr>\n",
              "      <th>11</th>\n",
              "      <td>0002f87b16116a7f</td>\n",
              "      <td>0</td>\n",
              "      <td>0</td>\n",
              "      <td>0</td>\n",
              "      <td>0</td>\n",
              "      <td>0</td>\n",
              "      <td>0</td>\n",
              "    </tr>\n",
              "    <tr>\n",
              "      <th>13</th>\n",
              "      <td>0003e1cccfd5a40a</td>\n",
              "      <td>0</td>\n",
              "      <td>0</td>\n",
              "      <td>0</td>\n",
              "      <td>0</td>\n",
              "      <td>0</td>\n",
              "      <td>0</td>\n",
              "    </tr>\n",
              "    <tr>\n",
              "      <th>14</th>\n",
              "      <td>00059ace3e3e9a53</td>\n",
              "      <td>0</td>\n",
              "      <td>0</td>\n",
              "      <td>0</td>\n",
              "      <td>0</td>\n",
              "      <td>0</td>\n",
              "      <td>0</td>\n",
              "    </tr>\n",
              "    <tr>\n",
              "      <th>16</th>\n",
              "      <td>000663aff0fffc80</td>\n",
              "      <td>0</td>\n",
              "      <td>0</td>\n",
              "      <td>0</td>\n",
              "      <td>0</td>\n",
              "      <td>0</td>\n",
              "      <td>0</td>\n",
              "    </tr>\n",
              "    <tr>\n",
              "      <th>17</th>\n",
              "      <td>000689dd34e20979</td>\n",
              "      <td>0</td>\n",
              "      <td>0</td>\n",
              "      <td>0</td>\n",
              "      <td>0</td>\n",
              "      <td>0</td>\n",
              "      <td>0</td>\n",
              "    </tr>\n",
              "    <tr>\n",
              "      <th>19</th>\n",
              "      <td>000844b52dee5f3f</td>\n",
              "      <td>0</td>\n",
              "      <td>0</td>\n",
              "      <td>0</td>\n",
              "      <td>0</td>\n",
              "      <td>0</td>\n",
              "      <td>0</td>\n",
              "    </tr>\n",
              "    <tr>\n",
              "      <th>21</th>\n",
              "      <td>00091c35fa9d0465</td>\n",
              "      <td>1</td>\n",
              "      <td>0</td>\n",
              "      <td>0</td>\n",
              "      <td>0</td>\n",
              "      <td>0</td>\n",
              "      <td>0</td>\n",
              "    </tr>\n",
              "    <tr>\n",
              "      <th>22</th>\n",
              "      <td>000968ce11f5ee34</td>\n",
              "      <td>0</td>\n",
              "      <td>0</td>\n",
              "      <td>0</td>\n",
              "      <td>0</td>\n",
              "      <td>0</td>\n",
              "      <td>0</td>\n",
              "    </tr>\n",
              "  </tbody>\n",
              "</table>\n",
              "</div>"
            ],
            "text/plain": [
              "                  id  toxic  severe_toxic  obscene  threat  insult  \\\n",
              "5   0001ea8717f6de06      0             0        0       0       0   \n",
              "7   000247e83dcc1211      0             0        0       0       0   \n",
              "11  0002f87b16116a7f      0             0        0       0       0   \n",
              "13  0003e1cccfd5a40a      0             0        0       0       0   \n",
              "14  00059ace3e3e9a53      0             0        0       0       0   \n",
              "16  000663aff0fffc80      0             0        0       0       0   \n",
              "17  000689dd34e20979      0             0        0       0       0   \n",
              "19  000844b52dee5f3f      0             0        0       0       0   \n",
              "21  00091c35fa9d0465      1             0        0       0       0   \n",
              "22  000968ce11f5ee34      0             0        0       0       0   \n",
              "\n",
              "    identity_hate  \n",
              "5               0  \n",
              "7               0  \n",
              "11              0  \n",
              "13              0  \n",
              "14              0  \n",
              "16              0  \n",
              "17              0  \n",
              "19              0  \n",
              "21              0  \n",
              "22              0  "
            ]
          },
          "metadata": {
            "tags": []
          },
          "execution_count": 9
        }
      ]
    },
    {
      "cell_type": "markdown",
      "metadata": {
        "colab_type": "text",
        "id": "Z4WMHSsEejcF"
      },
      "source": [
        "### Merge the df_test and test_labels into 1 dataframe (test)"
      ]
    },
    {
      "cell_type": "code",
      "metadata": {
        "colab_type": "code",
        "id": "IN1JvMJxejcH",
        "outputId": "0ef69a69-bbeb-4881-eade-3a5ea0a39dc3",
        "colab": {
          "base_uri": "https://localhost:8080/",
          "height": 347
        }
      },
      "source": [
        "#Merge the df_test and test_labels into 1 dataframe (test)\n",
        "test = pd.merge(test_labels, df_test, on='id', how='inner')\n",
        "test.head(10)"
      ],
      "execution_count": 0,
      "outputs": [
        {
          "output_type": "execute_result",
          "data": {
            "text/html": [
              "<div>\n",
              "<style scoped>\n",
              "    .dataframe tbody tr th:only-of-type {\n",
              "        vertical-align: middle;\n",
              "    }\n",
              "\n",
              "    .dataframe tbody tr th {\n",
              "        vertical-align: top;\n",
              "    }\n",
              "\n",
              "    .dataframe thead th {\n",
              "        text-align: right;\n",
              "    }\n",
              "</style>\n",
              "<table border=\"1\" class=\"dataframe\">\n",
              "  <thead>\n",
              "    <tr style=\"text-align: right;\">\n",
              "      <th></th>\n",
              "      <th>id</th>\n",
              "      <th>toxic</th>\n",
              "      <th>severe_toxic</th>\n",
              "      <th>obscene</th>\n",
              "      <th>threat</th>\n",
              "      <th>insult</th>\n",
              "      <th>identity_hate</th>\n",
              "      <th>comment_text</th>\n",
              "    </tr>\n",
              "  </thead>\n",
              "  <tbody>\n",
              "    <tr>\n",
              "      <th>0</th>\n",
              "      <td>0001ea8717f6de06</td>\n",
              "      <td>0</td>\n",
              "      <td>0</td>\n",
              "      <td>0</td>\n",
              "      <td>0</td>\n",
              "      <td>0</td>\n",
              "      <td>0</td>\n",
              "      <td>Thank you for understanding I think very highl...</td>\n",
              "    </tr>\n",
              "    <tr>\n",
              "      <th>1</th>\n",
              "      <td>000247e83dcc1211</td>\n",
              "      <td>0</td>\n",
              "      <td>0</td>\n",
              "      <td>0</td>\n",
              "      <td>0</td>\n",
              "      <td>0</td>\n",
              "      <td>0</td>\n",
              "      <td>Dear god this site is horrible</td>\n",
              "    </tr>\n",
              "    <tr>\n",
              "      <th>2</th>\n",
              "      <td>0002f87b16116a7f</td>\n",
              "      <td>0</td>\n",
              "      <td>0</td>\n",
              "      <td>0</td>\n",
              "      <td>0</td>\n",
              "      <td>0</td>\n",
              "      <td>0</td>\n",
              "      <td>Somebody will invariably try to add Religion ...</td>\n",
              "    </tr>\n",
              "    <tr>\n",
              "      <th>3</th>\n",
              "      <td>0003e1cccfd5a40a</td>\n",
              "      <td>0</td>\n",
              "      <td>0</td>\n",
              "      <td>0</td>\n",
              "      <td>0</td>\n",
              "      <td>0</td>\n",
              "      <td>0</td>\n",
              "      <td>\\n\\n It says it right there that it IS a type...</td>\n",
              "    </tr>\n",
              "    <tr>\n",
              "      <th>4</th>\n",
              "      <td>00059ace3e3e9a53</td>\n",
              "      <td>0</td>\n",
              "      <td>0</td>\n",
              "      <td>0</td>\n",
              "      <td>0</td>\n",
              "      <td>0</td>\n",
              "      <td>0</td>\n",
              "      <td>\\n\\n  Before adding a new product to the list...</td>\n",
              "    </tr>\n",
              "    <tr>\n",
              "      <th>5</th>\n",
              "      <td>000663aff0fffc80</td>\n",
              "      <td>0</td>\n",
              "      <td>0</td>\n",
              "      <td>0</td>\n",
              "      <td>0</td>\n",
              "      <td>0</td>\n",
              "      <td>0</td>\n",
              "      <td>this other one from 1897</td>\n",
              "    </tr>\n",
              "    <tr>\n",
              "      <th>6</th>\n",
              "      <td>000689dd34e20979</td>\n",
              "      <td>0</td>\n",
              "      <td>0</td>\n",
              "      <td>0</td>\n",
              "      <td>0</td>\n",
              "      <td>0</td>\n",
              "      <td>0</td>\n",
              "      <td>Reason for banning throwing  \\n\\n This articl...</td>\n",
              "    </tr>\n",
              "    <tr>\n",
              "      <th>7</th>\n",
              "      <td>000844b52dee5f3f</td>\n",
              "      <td>0</td>\n",
              "      <td>0</td>\n",
              "      <td>0</td>\n",
              "      <td>0</td>\n",
              "      <td>0</td>\n",
              "      <td>0</td>\n",
              "      <td>blocked from editing Wikipedia</td>\n",
              "    </tr>\n",
              "    <tr>\n",
              "      <th>8</th>\n",
              "      <td>00091c35fa9d0465</td>\n",
              "      <td>1</td>\n",
              "      <td>0</td>\n",
              "      <td>0</td>\n",
              "      <td>0</td>\n",
              "      <td>0</td>\n",
              "      <td>0</td>\n",
              "      <td>Arabs are committing genocide in Iraq but no ...</td>\n",
              "    </tr>\n",
              "    <tr>\n",
              "      <th>9</th>\n",
              "      <td>000968ce11f5ee34</td>\n",
              "      <td>0</td>\n",
              "      <td>0</td>\n",
              "      <td>0</td>\n",
              "      <td>0</td>\n",
              "      <td>0</td>\n",
              "      <td>0</td>\n",
              "      <td>Please stop If you continue to vandalize Wikip...</td>\n",
              "    </tr>\n",
              "  </tbody>\n",
              "</table>\n",
              "</div>"
            ],
            "text/plain": [
              "                 id  toxic  severe_toxic  obscene  threat  insult  \\\n",
              "0  0001ea8717f6de06      0             0        0       0       0   \n",
              "1  000247e83dcc1211      0             0        0       0       0   \n",
              "2  0002f87b16116a7f      0             0        0       0       0   \n",
              "3  0003e1cccfd5a40a      0             0        0       0       0   \n",
              "4  00059ace3e3e9a53      0             0        0       0       0   \n",
              "5  000663aff0fffc80      0             0        0       0       0   \n",
              "6  000689dd34e20979      0             0        0       0       0   \n",
              "7  000844b52dee5f3f      0             0        0       0       0   \n",
              "8  00091c35fa9d0465      1             0        0       0       0   \n",
              "9  000968ce11f5ee34      0             0        0       0       0   \n",
              "\n",
              "   identity_hate                                       comment_text  \n",
              "0              0  Thank you for understanding I think very highl...  \n",
              "1              0                     Dear god this site is horrible  \n",
              "2              0   Somebody will invariably try to add Religion ...  \n",
              "3              0   \\n\\n It says it right there that it IS a type...  \n",
              "4              0   \\n\\n  Before adding a new product to the list...  \n",
              "5              0                           this other one from 1897  \n",
              "6              0   Reason for banning throwing  \\n\\n This articl...  \n",
              "7              0                  blocked from editing Wikipedia     \n",
              "8              0   Arabs are committing genocide in Iraq but no ...  \n",
              "9              0  Please stop If you continue to vandalize Wikip...  "
            ]
          },
          "metadata": {
            "tags": []
          },
          "execution_count": 10
        }
      ]
    },
    {
      "cell_type": "code",
      "metadata": {
        "id": "_01XFfwmB6qC",
        "colab_type": "code",
        "colab": {},
        "outputId": "0bab2d7a-1443-459a-aa47-adb0fe2912e5"
      },
      "source": [
        "test = test.loc[(test['toxic'] == 1) | (test['severe_toxic'] == 1) | (test['obscene'] ==1) | (test['threat'] == 1) | (test['insult'] == 1) | (test['identity_hate'] ==1)]\n",
        "\n",
        "test.head(10)"
      ],
      "execution_count": 0,
      "outputs": [
        {
          "output_type": "execute_result",
          "data": {
            "text/html": [
              "<div>\n",
              "<style scoped>\n",
              "    .dataframe tbody tr th:only-of-type {\n",
              "        vertical-align: middle;\n",
              "    }\n",
              "\n",
              "    .dataframe tbody tr th {\n",
              "        vertical-align: top;\n",
              "    }\n",
              "\n",
              "    .dataframe thead th {\n",
              "        text-align: right;\n",
              "    }\n",
              "</style>\n",
              "<table border=\"1\" class=\"dataframe\">\n",
              "  <thead>\n",
              "    <tr style=\"text-align: right;\">\n",
              "      <th></th>\n",
              "      <th>id</th>\n",
              "      <th>toxic</th>\n",
              "      <th>severe_toxic</th>\n",
              "      <th>obscene</th>\n",
              "      <th>threat</th>\n",
              "      <th>insult</th>\n",
              "      <th>identity_hate</th>\n",
              "      <th>comment_text</th>\n",
              "    </tr>\n",
              "  </thead>\n",
              "  <tbody>\n",
              "    <tr>\n",
              "      <th>8</th>\n",
              "      <td>00091c35fa9d0465</td>\n",
              "      <td>1</td>\n",
              "      <td>0</td>\n",
              "      <td>0</td>\n",
              "      <td>0</td>\n",
              "      <td>0</td>\n",
              "      <td>0</td>\n",
              "      <td>Arabs are committing genocide in Iraq but no ...</td>\n",
              "    </tr>\n",
              "    <tr>\n",
              "      <th>24</th>\n",
              "      <td>0013fed3aeae76b7</td>\n",
              "      <td>1</td>\n",
              "      <td>0</td>\n",
              "      <td>1</td>\n",
              "      <td>0</td>\n",
              "      <td>1</td>\n",
              "      <td>1</td>\n",
              "      <td>DJ Robinson is gay as hell he sucks his dick s...</td>\n",
              "    </tr>\n",
              "    <tr>\n",
              "      <th>29</th>\n",
              "      <td>0017d4d47894af05</td>\n",
              "      <td>1</td>\n",
              "      <td>0</td>\n",
              "      <td>1</td>\n",
              "      <td>0</td>\n",
              "      <td>1</td>\n",
              "      <td>0</td>\n",
              "      <td>Fuck off you antisemitic cunt</td>\n",
              "    </tr>\n",
              "    <tr>\n",
              "      <th>38</th>\n",
              "      <td>001d739c97bc2ae4</td>\n",
              "      <td>1</td>\n",
              "      <td>0</td>\n",
              "      <td>0</td>\n",
              "      <td>0</td>\n",
              "      <td>0</td>\n",
              "      <td>0</td>\n",
              "      <td>How dare you vandalize that page about the HMS...</td>\n",
              "    </tr>\n",
              "    <tr>\n",
              "      <th>40</th>\n",
              "      <td>001eff4007dbb65b</td>\n",
              "      <td>1</td>\n",
              "      <td>0</td>\n",
              "      <td>1</td>\n",
              "      <td>0</td>\n",
              "      <td>1</td>\n",
              "      <td>0</td>\n",
              "      <td>No he is an arrogant self serving immature idi...</td>\n",
              "    </tr>\n",
              "    <tr>\n",
              "      <th>89</th>\n",
              "      <td>005f47397e07e12f</td>\n",
              "      <td>1</td>\n",
              "      <td>0</td>\n",
              "      <td>0</td>\n",
              "      <td>0</td>\n",
              "      <td>0</td>\n",
              "      <td>0</td>\n",
              "      <td>Eek but shes cute in an earthy kind of way Can...</td>\n",
              "    </tr>\n",
              "    <tr>\n",
              "      <th>106</th>\n",
              "      <td>0071940212267fea</td>\n",
              "      <td>1</td>\n",
              "      <td>0</td>\n",
              "      <td>1</td>\n",
              "      <td>0</td>\n",
              "      <td>0</td>\n",
              "      <td>0</td>\n",
              "      <td>Well it sucks to have a university to be nickn...</td>\n",
              "    </tr>\n",
              "    <tr>\n",
              "      <th>107</th>\n",
              "      <td>0072b9c3697ab8cc</td>\n",
              "      <td>1</td>\n",
              "      <td>0</td>\n",
              "      <td>1</td>\n",
              "      <td>0</td>\n",
              "      <td>1</td>\n",
              "      <td>0</td>\n",
              "      <td>Argh  \\n\\n Some random idiot deleted the whol...</td>\n",
              "    </tr>\n",
              "    <tr>\n",
              "      <th>124</th>\n",
              "      <td>0081b14d79f54b31</td>\n",
              "      <td>1</td>\n",
              "      <td>0</td>\n",
              "      <td>1</td>\n",
              "      <td>1</td>\n",
              "      <td>0</td>\n",
              "      <td>0</td>\n",
              "      <td>we hate america and we are going to bomb the s...</td>\n",
              "    </tr>\n",
              "    <tr>\n",
              "      <th>125</th>\n",
              "      <td>00842d1024b19972</td>\n",
              "      <td>1</td>\n",
              "      <td>0</td>\n",
              "      <td>1</td>\n",
              "      <td>0</td>\n",
              "      <td>1</td>\n",
              "      <td>0</td>\n",
              "      <td>Bold textYOU SUCK  \\n\\n  \\n\\n U SUCK HANNAH M...</td>\n",
              "    </tr>\n",
              "  </tbody>\n",
              "</table>\n",
              "</div>"
            ],
            "text/plain": [
              "                   id  toxic  severe_toxic  obscene  threat  insult  \\\n",
              "8    00091c35fa9d0465      1             0        0       0       0   \n",
              "24   0013fed3aeae76b7      1             0        1       0       1   \n",
              "29   0017d4d47894af05      1             0        1       0       1   \n",
              "38   001d739c97bc2ae4      1             0        0       0       0   \n",
              "40   001eff4007dbb65b      1             0        1       0       1   \n",
              "89   005f47397e07e12f      1             0        0       0       0   \n",
              "106  0071940212267fea      1             0        1       0       0   \n",
              "107  0072b9c3697ab8cc      1             0        1       0       1   \n",
              "124  0081b14d79f54b31      1             0        1       1       0   \n",
              "125  00842d1024b19972      1             0        1       0       1   \n",
              "\n",
              "     identity_hate                                       comment_text  \n",
              "8                0   Arabs are committing genocide in Iraq but no ...  \n",
              "24               1  DJ Robinson is gay as hell he sucks his dick s...  \n",
              "29               0                    Fuck off you antisemitic cunt    \n",
              "38               0  How dare you vandalize that page about the HMS...  \n",
              "40               0  No he is an arrogant self serving immature idi...  \n",
              "89               0  Eek but shes cute in an earthy kind of way Can...  \n",
              "106              0  Well it sucks to have a university to be nickn...  \n",
              "107              0   Argh  \\n\\n Some random idiot deleted the whol...  \n",
              "124              0  we hate america and we are going to bomb the s...  \n",
              "125              0   Bold textYOU SUCK  \\n\\n  \\n\\n U SUCK HANNAH M...  "
            ]
          },
          "metadata": {
            "tags": []
          },
          "execution_count": 11
        }
      ]
    },
    {
      "cell_type": "markdown",
      "metadata": {
        "colab_type": "text",
        "id": "yMHnqLRhejcO"
      },
      "source": [
        "### Number of records in the train and test data"
      ]
    },
    {
      "cell_type": "code",
      "metadata": {
        "colab_type": "code",
        "id": "N0shTlrPejcQ",
        "outputId": "b410aced-ec90-4a2d-bb84-4887440283df",
        "colab": {
          "base_uri": "https://localhost:8080/",
          "height": 52
        }
      },
      "source": [
        "print(\"Train data shape\", train.shape)\n",
        "print(\"Test data shape\", test.shape)"
      ],
      "execution_count": 0,
      "outputs": [
        {
          "output_type": "stream",
          "text": [
            "Train data shape (16225, 8)\n",
            "Test data shape (6234, 8)\n"
          ],
          "name": "stdout"
        }
      ]
    },
    {
      "cell_type": "code",
      "metadata": {
        "colab_type": "code",
        "id": "dl8sCOPEejcX",
        "outputId": "3cba4541-e863-41fb-96b9-0c61a58a8047",
        "colab": {
          "base_uri": "https://localhost:8080/",
          "height": 87
        }
      },
      "source": [
        "# check that there are no missing values in either training set\n",
        "print('The dataset has', train.isna().sum().sum(), 'missing values in train data.')\n",
        "print('The dataset has', test.isna().sum().sum(), 'missing values in test data.')\n",
        "\n",
        "# check if there are any duplicates\n",
        "print('The dataset has', train.duplicated().sum(), 'duplicates in train data.')\n",
        "print('The dataset has', test.duplicated().sum(), 'duplicates in test data.')"
      ],
      "execution_count": 0,
      "outputs": [
        {
          "output_type": "stream",
          "text": [
            "The dataset has 0 missing values in train data.\n",
            "The dataset has 0 missing values in test data.\n",
            "The dataset has 0 duplicates in train data.\n",
            "The dataset has 0 duplicates in test data.\n"
          ],
          "name": "stdout"
        }
      ]
    },
    {
      "cell_type": "markdown",
      "metadata": {
        "colab_type": "text",
        "id": "OcndCtd4ejcj"
      },
      "source": [
        "### CORRELATION BETWEEN DATA LABELS"
      ]
    },
    {
      "cell_type": "code",
      "metadata": {
        "colab_type": "code",
        "id": "xYT_uhvEejcl",
        "outputId": "67b17d6e-645a-4f2f-bf1b-99cc3a974d0b",
        "colab": {
          "base_uri": "https://localhost:8080/",
          "height": 417
        }
      },
      "source": [
        "fig, ax = plt.subplots(figsize=(10, 6))\n",
        "fig.suptitle('Correlation Matrix')\n",
        "sns.heatmap(train.corr(), annot=True, cmap=\"Greens\", linewidths=.5, ax=ax);"
      ],
      "execution_count": 0,
      "outputs": [
        {
          "output_type": "display_data",
          "data": {
            "image/png": "[encoded data removed]",
            "text/plain": [
              "<Figure size 720x432 with 2 Axes>"
            ]
          },
          "metadata": {
            "tags": [],
            "needs_background": "light"
          }
        }
      ]
    },
    {
      "cell_type": "markdown",
      "metadata": {
        "colab_type": "text",
        "id": "4MQuxIYfejcq"
      },
      "source": [
        "The correlation figure below shows that Toxic\" comments are clearly correlated with both \"obscene\" and \"insult\" comments. Interestingly, \"toxic\" and \"severe_toxic\" are only weakly correlated. While we can also observe that, \"Obscene\" comments and \"insult\" comments are also highly correlated, which makes perfect sense."
      ]
    },
    {
      "cell_type": "markdown",
      "metadata": {
        "colab_type": "text",
        "id": "FHcTJeqwejcr"
      },
      "source": [
        "### DATA PREPROCESSING\n",
        "Deep Neural Networks input layers make use of input variables to feed the network for training the model. But in this task (experiment), we're dealing with words text. How do we represent these words in order to feed our model?\n",
        "\n",
        "In our experiment, we used densed representation of those text (comments) and their semanticity together. The advantage of using this approach is the best way for fitting neural networks onto a text data (as in our case), as well as less memory usage compared to other sparse representation approaches.\n",
        "\n",
        "\n",
        "#### Word Embedding\n",
        "Two ways to feed embeddings to neural networks:\n",
        "   * Using your own word embeddings by training\n",
        "   * Using pre-trained embedding (e.g Word2vec, lad2vec, Glove etc)\n",
        "   \n"
      ]
    },
    {
      "cell_type": "code",
      "metadata": {
        "colab_type": "code",
        "id": "LL_5zSxjejcs",
        "colab": {}
      },
      "source": [
        "#Convert text to vectors using keras preprocessing library tools\n",
        "\n",
        "X_train = train[\"comment_text\"].values\n",
        "X_test  = test[\"comment_text\"].values\n",
        "\n",
        "y_train = train[[\"toxic\", \"severe_toxic\", \"obscene\", \"threat\", \"insult\", \"identity_hate\"]].values\n",
        "y_test  = test[[\"toxic\", \"severe_toxic\", \"obscene\", \"threat\", \"insult\", \"identity_hate\"]].values"
      ],
      "execution_count": 0,
      "outputs": []
    },
    {
      "cell_type": "markdown",
      "metadata": {
        "colab_type": "text",
        "id": "uwqi-osSejcv"
      },
      "source": [
        "\n",
        "\n",
        "\n",
        "\n",
        "\n",
        "For the first embedding, we used keras preprocessing (Text Preprocessing) libraries. This class allows to vectorize a text corpus, by turning each text into either a sequence of integers (each integer being the index of a token in a dictionary) or into a vector where the coefficient for each token could be binary, based on word count, based on tf-idf"
      ]
    },
    {
      "cell_type": "code",
      "metadata": {
        "colab_type": "code",
        "id": "H0rNWt-8ejcz",
        "colab": {}
      },
      "source": [
        "num_words = 20000 #Max. workds to use per toxic comment\n",
        "max_features = 200000 #Max. number of unique words in embeddinbg vector\n",
        "max_len = 200 #Max. number of words per toxic comment to be use\n",
        "embedding_dims = 128 #embedding vector output dimension \n",
        "num_epochs = 15 # (before 5)number of epochs (number of times that the model is exposed to the training dataset)\n",
        "val_split = 0.1\n",
        "batch_size2 = 256 #(before 32)The **batch size** is the number of training examples in one forward/backward pass.\n",
        "                  # In general, larger batch sizes result in faster progress in training, but don't always converge as quickly. \n",
        "                  #Smaller batch sizes train slower, but can converge faster. And the higher the batch size, the more memory space you’ll need."
      ],
      "execution_count": 0,
      "outputs": []
    },
    {
      "cell_type": "code",
      "metadata": {
        "colab_type": "code",
        "id": "cTMhD2dpejcw",
        "outputId": "70bd051e-3386-4bb6-b40c-73a73bc2aea7",
        "colab": {
          "base_uri": "https://localhost:8080/",
          "height": 52
        }
      },
      "source": [
        "#toxic comments Tokenization\n",
        "tokenizer = tokenizer = Tokenizer(num_words)\n",
        "tokenizer.fit_on_texts(list(X_train))\n",
        "\n",
        "#Convert tokenized toxic commnent to sequnces\n",
        "X_train = tokenizer.texts_to_sequences(X_train)\n",
        "X_test = tokenizer.texts_to_sequences(X_test)\n",
        " \n",
        "# padding the sequences\n",
        "X_train = sequence.pad_sequences(X_train, max_len)\n",
        "X_test  = sequence.pad_sequences(X_test,  max_len)\n",
        "\n",
        "print('X_train shape:', X_train.shape)\n",
        "print('X_test shape: ', X_test.shape)"
      ],
      "execution_count": 0,
      "outputs": [
        {
          "output_type": "stream",
          "text": [
            "X_train shape: (16225, 200)\n",
            "X_test shape:  (6234, 200)\n"
          ],
          "name": "stdout"
        }
      ]
    },
    {
      "cell_type": "markdown",
      "metadata": {
        "colab_type": "text",
        "id": "vGxTYdg-WthP"
      },
      "source": [
        "##We use cross validation to split arrays or matrices of train data into random train and validation subsets"
      ]
    },
    {
      "cell_type": "code",
      "metadata": {
        "colab_type": "code",
        "id": "-9HAHH8FWrgE",
        "outputId": "dbb683e7-0cc7-4c95-9f64-8031e6dc6db5",
        "colab": {
          "base_uri": "https://localhost:8080/",
          "height": 87
        }
      },
      "source": [
        "X_tra, X_val, y_tra, y_val = train_test_split(X_train, y_train, train_size =0.9, random_state=233)"
      ],
      "execution_count": 0,
      "outputs": [
        {
          "output_type": "stream",
          "text": [
            "D:\\Program Files\\Anaconda\\lib\\site-packages\\sklearn\\model_selection\\_split.py:2179: FutureWarning:\n",
            "\n",
            "From version 0.21, test_size will always complement train_size unless both are specified.\n",
            "\n"
          ],
          "name": "stderr"
        }
      ]
    },
    {
      "cell_type": "code",
      "metadata": {
        "colab_type": "code",
        "id": "OAe9eO3YyOO-",
        "colab": {}
      },
      "source": [
        "early = EarlyStopping(monitor=\"val_loss\", mode=\"min\", patience=4)"
      ],
      "execution_count": 0,
      "outputs": []
    },
    {
      "cell_type": "markdown",
      "metadata": {
        "colab_type": "text",
        "id": "tQlxRa2xeymU"
      },
      "source": [
        "#### Using Precision, Recall, F1-Measure, AUC, mean etc evaluaiton metrics to evaluate our model"
      ]
    },
    {
      "cell_type": "code",
      "metadata": {
        "colab_type": "code",
        "id": "8g3jDUzie2RN",
        "colab": {}
      },
      "source": [
        "#Import necessary libraries\n",
        "4# demonstration of calculating metrics for a neural network model using sklearn\n",
        "from sklearn.datasets import make_circles\n",
        "from sklearn.metrics import accuracy_score\n",
        "from sklearn.metrics import precision_score\n",
        "from sklearn.metrics import recall_score\n",
        "from sklearn.metrics import f1_score\n",
        "from sklearn.metrics import cohen_kappa_score\n",
        "from sklearn.metrics import roc_auc_score\n",
        "from sklearn.metrics import confusion_matrix\n",
        "\n",
        "\n",
        "def precision(y_true, y_pred):\n",
        "    '''Calculates the precision, a metric for multi-label classification of\n",
        "    how many selected items are relevant.\n",
        "    '''\n",
        "    true_positives = K.sum(K.round(K.clip(y_true * y_pred, 0, 1)))\n",
        "    predicted_positives = K.sum(K.round(K.clip(y_pred, 0, 1)))\n",
        "    precision = true_positives / (predicted_positives + K.epsilon())\n",
        "    return precision\n",
        "\n",
        "\n",
        "def recall(y_true, y_pred):\n",
        "    '''Calculates the recall, a metric for multi-label classification of\n",
        "    how many relevant items are selected.\n",
        "    '''\n",
        "    true_positives = K.sum(K.round(K.clip(y_true * y_pred, 0, 1)))\n",
        "    possible_positives = K.sum(K.round(K.clip(y_true, 0, 1)))\n",
        "    recall = true_positives / (possible_positives + K.epsilon())\n",
        "    return recall\n",
        "\n",
        "  #Customized the evaluation to analyse the model in terms of accuracy and mean value accuracy\n",
        "def mean_pred(y_true, y_pred):\n",
        "    return K.mean(y_pred)\n",
        "\n",
        "def fbeta_score(y_true, y_pred, beta=1):\n",
        "    '''Calculates the F score, the weighted harmonic mean of precision and recall.\n",
        "    This is useful for multi-label classification, where input samples can be\n",
        "    classified as sets of labels. By only using accuracy (precision) a model\n",
        "    would achieve a perfect score by simply assigning every class to every\n",
        "    input. In order to avoid this, a metric should penalize incorrect class\n",
        "    assignments as well (recall). The F-beta score (ranged from 0.0 to 1.0)\n",
        "    computes this, as a weighted mean of the proportion of correct class\n",
        "    assignments vs. the proportion of incorrect class assignments.\n",
        "    With beta = 1, this is equivalent to a F-measure. With beta < 1, assigning\n",
        "    correct classes becomes more important, and with beta > 1 the metric is\n",
        "    instead weighted towards penalizing incorrect class assignments.\n",
        "    '''\n",
        "    if beta < 0:\n",
        "        raise ValueError('The lowest choosable beta is zero (only precision).')\n",
        "        \n",
        "    # If there are no true positives, fix the F score at 0 like sklearn.\n",
        "    if K.sum(K.round(K.clip(y_true, 0, 1))) == 0:\n",
        "        return 0\n",
        "\n",
        "    p = precision(y_true, y_pred)\n",
        "    r = recall(y_true, y_pred)\n",
        "    bb = beta ** 2\n",
        "    fbeta_score = (1 + bb) * (p * r) / (bb * p + r + K.epsilon())\n",
        "    return fbeta_score\n",
        "\n",
        "def auroc(y_true, y_pred):\n",
        "    auc = tf.metrics.auc(y_true, y_pred)[1]\n",
        "    K.get_session().run(tf.local_variables_initializer())\n",
        "    return auc\n",
        "\n",
        "\n",
        "def fmeasure(y_true, y_pred):\n",
        "    '''Calculates the f-measure, the harmonic mean of precision and recall.\n",
        "    '''\n",
        "    return fbeta_score(y_true, y_pred, beta=1)\n",
        "\n",
        "\n",
        "fscore = f1score = fmeasure"
      ],
      "execution_count": 0,
      "outputs": []
    },
    {
      "cell_type": "markdown",
      "metadata": {
        "colab_type": "text",
        "id": "8tUlj_-X1Cz1"
      },
      "source": [
        "# B) \"Word2Vec\" as a pre-Trained Embedding"
      ]
    },
    {
      "cell_type": "markdown",
      "metadata": {
        "colab_type": "text",
        "id": "thDluqVPiOpm"
      },
      "source": [
        "Firstly, we separately learnt word embeddings and then pass to the embedding layer. This approach allows to use  pre-trained (Word2Vec) word embedding and also saves the time in training the classification model.\n",
        "\n",
        "In this part of experiment, we used Geness implementaion of Word2Vec."
      ]
    },
    {
      "cell_type": "markdown",
      "metadata": {
        "colab_type": "text",
        "id": "D9NglSpbiZao"
      },
      "source": [
        "### Create the word tokens in order to prepare the Text corpus for leanring the embedding"
      ]
    },
    {
      "cell_type": "code",
      "metadata": {
        "colab_type": "code",
        "id": "N-5q2yi0MrdQ",
        "outputId": "19dbef3a-056e-48a7-9cde-116b83e5af24",
        "colab": {
          "base_uri": "https://localhost:8080/",
          "height": 105
        }
      },
      "source": [
        "import nltk\n",
        "nltk.download('punkt')\n",
        "nltk.download('stopwords')"
      ],
      "execution_count": 0,
      "outputs": [
        {
          "output_type": "stream",
          "text": [
            "[nltk_data] Downloading package punkt to\n",
            "[nltk_data]     C:\\Users\\hamza.mohammed\\AppData\\Roaming\\nltk_data...\n",
            "[nltk_data]   Package punkt is already up-to-date!\n",
            "[nltk_data] Downloading package stopwords to\n",
            "[nltk_data]     C:\\Users\\hamza.mohammed\\AppData\\Roaming\\nltk_data...\n",
            "[nltk_data]   Package stopwords is already up-to-date!\n"
          ],
          "name": "stderr"
        },
        {
          "output_type": "execute_result",
          "data": {
            "text/plain": [
              "True"
            ]
          },
          "metadata": {
            "tags": []
          },
          "execution_count": 21
        }
      ]
    },
    {
      "cell_type": "code",
      "metadata": {
        "colab_type": "code",
        "id": "q22sYHKGiddC",
        "outputId": "6993e15d-8034-494e-f039-c8da66987b4c",
        "colab": {
          "base_uri": "https://localhost:8080/",
          "height": 34
        }
      },
      "source": [
        "toxicComments_lines = list()\n",
        "lines = train['comment_text'].values.tolist()\n",
        "\n",
        "for line in lines:\n",
        "    tokens = word_tokenize(line)\n",
        "    \n",
        "    #convert to lower case\n",
        "    tokens = [w.lower() for w in tokens]\n",
        "    \n",
        "    #remove punctuation from each word\n",
        "    table =  str.maketrans('', '', string.punctuation)\n",
        "    stripped = [w.translate(table) for w in tokens]\n",
        "    \n",
        "    #remove remaining tpkens gthat are not alphabetic\n",
        "    words = [word for word in stripped if word.isalpha()]\n",
        "    \n",
        "    #filter out stop words\n",
        "    stop_words = set(stopwords.words('english'))\n",
        "    words = [w for w in words if not w in stop_words]\n",
        "    toxicComments_lines.append(words)\n",
        "\n",
        "\n",
        "len(toxicComments_lines)"
      ],
      "execution_count": 0,
      "outputs": [
        {
          "output_type": "execute_result",
          "data": {
            "text/plain": [
              "16225"
            ]
          },
          "metadata": {
            "tags": []
          },
          "execution_count": 22
        }
      ]
    },
    {
      "cell_type": "markdown",
      "metadata": {
        "colab_type": "text",
        "id": "unnnArHDihiL"
      },
      "source": [
        "### Train the Word2Vec"
      ]
    },
    {
      "cell_type": "code",
      "metadata": {
        "colab_type": "code",
        "id": "usSFc7OmiobO",
        "outputId": "8049eea8-5f90-40e4-c25c-48fef31f2202",
        "colab": {
          "base_uri": "https://localhost:8080/",
          "height": 34
        }
      },
      "source": [
        "#train word2vec mode\n",
        "embedding_dims = 128 #embedding vector output dimension \n",
        "max_len = 200 #Max. number of words per toxic comment to be use\n",
        "word2VecModel = gensim.models.Word2Vec(sentences=toxicComments_lines, size= embedding_dims, window=5, workers=4, min_count=1)\n",
        "#vocab size\n",
        "wors = list(word2VecModel.wv.vocab)\n",
        "print('Vocabulary size: %d' % len(words))"
      ],
      "execution_count": 0,
      "outputs": [
        {
          "output_type": "stream",
          "text": [
            "Vocabulary size: 25\n"
          ],
          "name": "stdout"
        }
      ]
    },
    {
      "cell_type": "markdown",
      "metadata": {
        "colab_type": "text",
        "id": "SnIWOASsitYa"
      },
      "source": [
        "#### Test Word2Vec Model of the toxic comment corpus. We tried some word embeddings from the model learnt from the wikipedia toxic comment tran dataset"
      ]
    },
    {
      "cell_type": "markdown",
      "metadata": {
        "colab_type": "text",
        "id": "WHgNZtRFi-Y2"
      },
      "source": [
        "#### Save the Word2Vec Corpus locally"
      ]
    },
    {
      "cell_type": "code",
      "metadata": {
        "colab_type": "code",
        "id": "v0c4qsY6i__S",
        "colab": {}
      },
      "source": [
        "#save model\n",
        "filename = 'toxic_embedding_word2vec.txt'\n",
        "word2VecModel.wv.save_word2vec_format(filename, binary=False)"
      ],
      "execution_count": 0,
      "outputs": []
    },
    {
      "cell_type": "markdown",
      "metadata": {
        "colab_type": "text",
        "id": "P4obkfWHjM6Y"
      },
      "source": [
        "### Use the Pre-Trained Embedding (Word2Vec) in our models (CNN, and RNN)"
      ]
    },
    {
      "cell_type": "code",
      "metadata": {
        "colab_type": "code",
        "id": "aAtdEnVRjOgx",
        "colab": {}
      },
      "source": [
        "word2Vec_embeddings_index = {}\n",
        "word2vec_file = open(os.path.join('', 'toxic_embedding_word2vec.txt'), encoding = \"utf-8\")\n",
        "\n",
        "for line in word2vec_file:\n",
        "    values = line.split()\n",
        "    word = values[0]\n",
        "    coefficient = np.asarray(values[1:])\n",
        "    word2Vec_embeddings_index[word] = coefficient\n",
        "word2vec_file.close()"
      ],
      "execution_count": 0,
      "outputs": []
    },
    {
      "cell_type": "markdown",
      "metadata": {
        "colab_type": "text",
        "id": "bI0rRFgZjT95"
      },
      "source": [
        "#### Convert the word embedding into tokenized vector"
      ]
    },
    {
      "cell_type": "code",
      "metadata": {
        "colab_type": "code",
        "id": "vI-e9hy-jViP",
        "outputId": "2d1c33ef-4ab5-4351-c0eb-c3b606139f3c",
        "colab": {
          "base_uri": "https://localhost:8080/",
          "height": 70
        }
      },
      "source": [
        "#vectorize the text samples into a 2D integer tensor\n",
        "tokenizer_obj = Tokenizer()\n",
        "tokenizer_obj.fit_on_texts(toxicComments_lines)\n",
        "sequences = tokenizer_obj.texts_to_sequences(toxicComments_lines)\n",
        "\n",
        "#pad sequences\n",
        "word_index = tokenizer_obj.word_index\n",
        "print('Found %s uniquue tokens.' % len(word_index))\n",
        "\n",
        "toxicComments_pad = pad_sequences(sequences, maxlen=max_len)\n",
        "comments_tag = train[[\"toxic\", \"severe_toxic\", \"obscene\", \"threat\", \"insult\", \"identity_hate\"]].values\n",
        "print('Shape of toxic comments tensor', toxicComments_pad.shape)\n",
        "print('Shape of comment tensor', comments_tag.shape)"
      ],
      "execution_count": 0,
      "outputs": [
        {
          "output_type": "stream",
          "text": [
            "Found 36870 uniquue tokens.\n",
            "Shape of toxic comments tensor (16225, 200)\n",
            "Shape of comment tensor (16225, 6)\n"
          ],
          "name": "stdout"
        }
      ]
    },
    {
      "cell_type": "markdown",
      "metadata": {
        "colab_type": "text",
        "id": "4JuiKGE2jdqF"
      },
      "source": [
        "#### We mapped the embeddings from the loaded word2vec model so that each word to the tokenizer_obj.word_index vocabulary and create a matrix with of word vectors."
      ]
    },
    {
      "cell_type": "code",
      "metadata": {
        "colab_type": "code",
        "id": "Q8e9mWPQjfn4",
        "colab": {},
        "outputId": "3489f6f5-92de-42fa-dc85-191034821490"
      },
      "source": [
        "num_words = len(word_index)+1\n",
        "word2Vec_embedding_matrix = np.zeros((num_words, embedding_dims))\n",
        "\n",
        "for word, i  in word_index.items():\n",
        "    if i > num_words:\n",
        "        continue\n",
        "    word2Vec_embedding_vector = word2Vec_embeddings_index.get(word)\n",
        "    if word2Vec_embedding_vector is not None:\n",
        "        #words not found in embedding index will be all-zeros.\n",
        "        word2Vec_embedding_matrix[i] = word2Vec_embedding_vector\n",
        "\n",
        "print(num_words)\n",
        "print(word2Vec_embedding_matrix.shape[0])\n",
        "print(word2Vec_embedding_matrix.shape[1])"
      ],
      "execution_count": 0,
      "outputs": [
        {
          "output_type": "stream",
          "text": [
            "36871\n",
            "36871\n",
            "128\n"
          ],
          "name": "stdout"
        }
      ]
    },
    {
      "cell_type": "markdown",
      "metadata": {
        "colab_type": "text",
        "id": "O5g3oMqWjk4P"
      },
      "source": [
        "## 1) Convolutional Neural Network (CNN) with Word2Vec"
      ]
    },
    {
      "cell_type": "code",
      "metadata": {
        "colab_type": "code",
        "id": "-4vRilk0jsGS",
        "colab": {},
        "outputId": "95990098-6f3a-41cc-fb32-e2927e5f5446"
      },
      "source": [
        "CNN_Word2Vec_model = Sequential([\n",
        "    Embedding(input_dim =word2Vec_embedding_matrix.shape[0], input_length=max_len, output_dim=word2Vec_embedding_matrix.shape[1],weights=[word2Vec_embedding_matrix], trainable=False),\n",
        "    SpatialDropout1D(0.5),\n",
        "    # ... 100 filters with a kernel size of 4 so that each convolution will consider a window of 4 word embeddings\n",
        "    Conv1D(filters=100, kernel_size=4, padding='same', activation='relu'),\n",
        "    #**batch normalization layer** normalizes the activations of the previous layer at each batch, \n",
        "    #i.e. applies a transformation that maintains the mean activation close to 0 and the activation standard deviation close to 1. \n",
        "    #It will be added after the activation function between a convolutional and a max-pooling layer.\n",
        "    BatchNormalization(),\n",
        "    GlobalMaxPool1D(),\n",
        "    Dropout(0.5),\n",
        "    Dense(50, activation = 'relu'),\n",
        "    Dense(6, activation = 'sigmoid')\n",
        "])"
      ],
      "execution_count": 0,
      "outputs": [
        {
          "output_type": "stream",
          "text": [
            "WARNING:tensorflow:From D:\\Program Files\\Anaconda\\lib\\site-packages\\tensorflow\\python\\framework\\op_def_library.py:263: colocate_with (from tensorflow.python.framework.ops) is deprecated and will be removed in a future version.\n",
            "Instructions for updating:\n",
            "Colocations handled automatically by placer.\n",
            "WARNING:tensorflow:From D:\\Program Files\\Anaconda\\lib\\site-packages\\keras\\backend\\tensorflow_backend.py:3445: calling dropout (from tensorflow.python.ops.nn_ops) with keep_prob is deprecated and will be removed in a future version.\n",
            "Instructions for updating:\n",
            "Please use `rate` instead of `keep_prob`. Rate should be set to `rate = 1 - keep_prob`.\n"
          ],
          "name": "stdout"
        }
      ]
    },
    {
      "cell_type": "code",
      "metadata": {
        "colab_type": "code",
        "id": "ufAM3SM4jw9D",
        "colab": {},
        "outputId": "bd0a4f74-a76f-46b0-ce6b-9281222da9ec"
      },
      "source": [
        "#Customized the evaluation to analyse the model in terms of accuracy and mean value accuracy\n",
        "def mean_pred(y_true, y_pred):\n",
        "    return K.mean(y_pred)\n",
        "\n",
        "CNN_Word2Vec_model.compile(loss='binary_crossentropy', optimizer=Adam(0.01), metrics=['accuracy', mean_pred, fmeasure, precision, auroc, recall])"
      ],
      "execution_count": 0,
      "outputs": [
        {
          "output_type": "stream",
          "text": [
            "WARNING:tensorflow:From D:\\Program Files\\Anaconda\\lib\\site-packages\\tensorflow\\python\\ops\\metrics_impl.py:526: to_float (from tensorflow.python.ops.math_ops) is deprecated and will be removed in a future version.\n",
            "Instructions for updating:\n",
            "Use tf.cast instead.\n",
            "WARNING:tensorflow:From D:\\Program Files\\Anaconda\\lib\\site-packages\\tensorflow\\python\\ops\\metrics_impl.py:788: div (from tensorflow.python.ops.math_ops) is deprecated and will be removed in a future version.\n",
            "Instructions for updating:\n",
            "Deprecated in favor of operator or tf.math.divide.\n"
          ],
          "name": "stdout"
        }
      ]
    },
    {
      "cell_type": "markdown",
      "metadata": {
        "colab_type": "text",
        "id": "ji8FaidL2SU5"
      },
      "source": [
        "\n",
        "#### Visualize the Orchestrated CNN-Glove Model Architecture"
      ]
    },
    {
      "cell_type": "code",
      "metadata": {
        "colab_type": "code",
        "id": "enZRJY0HjzGs",
        "colab": {},
        "outputId": "2faa8b69-9c0f-4eb4-ae0e-81d8027cce99"
      },
      "source": [
        "CNN_Word2Vec_model.summary()"
      ],
      "execution_count": 0,
      "outputs": [
        {
          "output_type": "stream",
          "text": [
            "_________________________________________________________________\n",
            "Layer (type)                 Output Shape              Param #   \n",
            "=================================================================\n",
            "embedding_1 (Embedding)      (None, 200, 128)          4719488   \n",
            "_________________________________________________________________\n",
            "spatial_dropout1d_1 (Spatial (None, 200, 128)          0         \n",
            "_________________________________________________________________\n",
            "conv1d_1 (Conv1D)            (None, 200, 100)          51300     \n",
            "_________________________________________________________________\n",
            "batch_normalization_1 (Batch (None, 200, 100)          400       \n",
            "_________________________________________________________________\n",
            "global_max_pooling1d_1 (Glob (None, 100)               0         \n",
            "_________________________________________________________________\n",
            "dropout_1 (Dropout)          (None, 100)               0         \n",
            "_________________________________________________________________\n",
            "dense_1 (Dense)              (None, 50)                5050      \n",
            "_________________________________________________________________\n",
            "dense_2 (Dense)              (None, 6)                 306       \n",
            "=================================================================\n",
            "Total params: 4,776,544\n",
            "Trainable params: 56,856\n",
            "Non-trainable params: 4,719,688\n",
            "_________________________________________________________________\n"
          ],
          "name": "stdout"
        }
      ]
    },
    {
      "cell_type": "code",
      "metadata": {
        "colab_type": "code",
        "id": "6QMA1u6lwOC_",
        "colab": {}
      },
      "source": [
        "#plot the CNN_Word2Vec_model architecture\n",
        "\n",
        "#plot_model(CNN_Word2Vec_model, to_file='CNN_Word2Vec_model_plot.png', show_shapes=True, show_layer_names=True)\n",
        "#Image(retina=True, filename='CNN_Word2Vec_model_plot.png')"
      ],
      "execution_count": 0,
      "outputs": []
    },
    {
      "cell_type": "code",
      "metadata": {
        "colab_type": "code",
        "id": "wPPdjq3Wj1hF",
        "colab": {},
        "outputId": "f7387f72-0075-435b-d5f0-d5299b26ba06"
      },
      "source": [
        "CNN_Word2Vec_model_fit = CNN_Word2Vec_model.fit(X_tra, y_tra, batch_size=batch_size2, epochs=num_epochs, validation_data=(X_val, y_val))"
      ],
      "execution_count": 0,
      "outputs": [
        {
          "output_type": "stream",
          "text": [
            "WARNING:tensorflow:From D:\\Program Files\\Anaconda\\lib\\site-packages\\tensorflow\\python\\ops\\math_ops.py:3066: to_int32 (from tensorflow.python.ops.math_ops) is deprecated and will be removed in a future version.\n",
            "Instructions for updating:\n",
            "Use tf.cast instead.\n",
            "Train on 14602 samples, validate on 1623 samples\n",
            "Epoch 1/15\n",
            "14602/14602 [==============================] - 36s 2ms/step - loss: 0.6028 - acc: 0.7781 - mean_pred: 0.3650 - fmeasure: 0.6840 - precision: 0.7090 - auroc: 0.7932 - recall: 0.6648 - val_loss: 0.3880 - val_acc: 0.7916 - val_mean_pred: 0.3706 - val_fmeasure: 0.7557 - val_precision: 0.6499 - val_auroc: 0.8387 - val_recall: 0.9032\n",
            "Epoch 2/15\n",
            "14602/14602 [==============================] - 33s 2ms/step - loss: 0.4074 - acc: 0.7930 - mean_pred: 0.3629 - fmeasure: 0.7008 - precision: 0.7352 - auroc: 0.8494 - recall: 0.6788 - val_loss: 0.3889 - val_acc: 0.7949 - val_mean_pred: 0.3491 - val_fmeasure: 0.7032 - val_precision: 0.7278 - val_auroc: 0.8563 - val_recall: 0.6806\n",
            "Epoch 3/15\n",
            "14602/14602 [==============================] - 33s 2ms/step - loss: 0.4014 - acc: 0.7958 - mean_pred: 0.3640 - fmeasure: 0.6926 - precision: 0.7621 - auroc: 0.8602 - recall: 0.6424 - val_loss: 0.3854 - val_acc: 0.7997 - val_mean_pred: 0.3422 - val_fmeasure: 0.6261 - val_precision: 0.9406 - val_auroc: 0.8633 - val_recall: 0.4694\n",
            "Epoch 4/15\n",
            "14602/14602 [==============================] - 32s 2ms/step - loss: 0.3942 - acc: 0.8052 - mean_pred: 0.3618 - fmeasure: 0.6961 - precision: 0.8012 - auroc: 0.8661 - recall: 0.6228 - val_loss: 0.3860 - val_acc: 0.8065 - val_mean_pred: 0.3443 - val_fmeasure: 0.6451 - val_precision: 0.9366 - val_auroc: 0.8685 - val_recall: 0.4923\n",
            "Epoch 5/15\n",
            "14602/14602 [==============================] - 33s 2ms/step - loss: 0.3890 - acc: 0.8085 - mean_pred: 0.3616 - fmeasure: 0.7000 - precision: 0.8085 - auroc: 0.8703 - recall: 0.6217 - val_loss: 0.3744 - val_acc: 0.8243 - val_mean_pred: 0.3502 - val_fmeasure: 0.6990 - val_precision: 0.9009 - val_auroc: 0.8722 - val_recall: 0.5713\n",
            "Epoch 6/15\n",
            "14602/14602 [==============================] - 33s 2ms/step - loss: 0.3870 - acc: 0.8099 - mean_pred: 0.3603 - fmeasure: 0.7009 - precision: 0.8135 - auroc: 0.8737 - recall: 0.6196 - val_loss: 0.3709 - val_acc: 0.8303 - val_mean_pred: 0.3580 - val_fmeasure: 0.7228 - val_precision: 0.8670 - val_auroc: 0.8751 - val_recall: 0.6202\n",
            "Epoch 7/15\n",
            "14602/14602 [==============================] - 33s 2ms/step - loss: 0.3835 - acc: 0.8151 - mean_pred: 0.3631 - fmeasure: 0.7147 - precision: 0.8070 - auroc: 0.8764 - recall: 0.6431 - val_loss: 0.3674 - val_acc: 0.8331 - val_mean_pred: 0.3673 - val_fmeasure: 0.7601 - val_precision: 0.7814 - val_auroc: 0.8777 - val_recall: 0.7401\n",
            "Epoch 8/15\n",
            "14602/14602 [==============================] - 32s 2ms/step - loss: 0.3814 - acc: 0.8173 - mean_pred: 0.3628 - fmeasure: 0.7181 - precision: 0.8121 - auroc: 0.8788 - recall: 0.6471 - val_loss: 0.3616 - val_acc: 0.8353 - val_mean_pred: 0.3724 - val_fmeasure: 0.7615 - val_precision: 0.7891 - val_auroc: 0.8798 - val_recall: 0.7362\n",
            "Epoch 9/15\n",
            "14602/14602 [==============================] - 34s 2ms/step - loss: 0.3763 - acc: 0.8217 - mean_pred: 0.3612 - fmeasure: 0.7280 - precision: 0.8105 - auroc: 0.8808 - recall: 0.6620 - val_loss: 0.3581 - val_acc: 0.8364 - val_mean_pred: 0.3629 - val_fmeasure: 0.7544 - val_precision: 0.8140 - val_auroc: 0.8818 - val_recall: 0.7034\n",
            "Epoch 10/15\n",
            "14602/14602 [==============================] - 33s 2ms/step - loss: 0.3752 - acc: 0.8229 - mean_pred: 0.3600 - fmeasure: 0.7279 - precision: 0.8182 - auroc: 0.8827 - recall: 0.6580 - val_loss: 0.3566 - val_acc: 0.8389 - val_mean_pred: 0.3729 - val_fmeasure: 0.7597 - val_precision: 0.8138 - val_auroc: 0.8835 - val_recall: 0.7127\n",
            "Epoch 11/15\n",
            "14602/14602 [==============================] - 33s 2ms/step - loss: 0.3751 - acc: 0.8218 - mean_pred: 0.3614 - fmeasure: 0.7282 - precision: 0.8104 - auroc: 0.8842 - recall: 0.6640 - val_loss: 0.3579 - val_acc: 0.8336 - val_mean_pred: 0.3776 - val_fmeasure: 0.7640 - val_precision: 0.7745 - val_auroc: 0.8849 - val_recall: 0.7542\n",
            "Epoch 12/15\n",
            "14602/14602 [==============================] - 33s 2ms/step - loss: 0.3757 - acc: 0.8216 - mean_pred: 0.3614 - fmeasure: 0.7305 - precision: 0.8045 - auroc: 0.8855 - recall: 0.6716 - val_loss: 0.3570 - val_acc: 0.8380 - val_mean_pred: 0.3688 - val_fmeasure: 0.7546 - val_precision: 0.8221 - val_auroc: 0.8860 - val_recall: 0.6975\n",
            "Epoch 13/15\n",
            "14602/14602 [==============================] - 32s 2ms/step - loss: 0.3736 - acc: 0.8247 - mean_pred: 0.3608 - fmeasure: 0.7336 - precision: 0.8146 - auroc: 0.8866 - recall: 0.6708 - val_loss: 0.3522 - val_acc: 0.8376 - val_mean_pred: 0.3504 - val_fmeasure: 0.7369 - val_precision: 0.8744 - val_auroc: 0.8871 - val_recall: 0.6370\n",
            "Epoch 14/15\n",
            "14602/14602 [==============================] - 32s 2ms/step - loss: 0.3701 - acc: 0.8259 - mean_pred: 0.3614 - fmeasure: 0.7349 - precision: 0.8163 - auroc: 0.8877 - recall: 0.6699 - val_loss: 0.3517 - val_acc: 0.8415 - val_mean_pred: 0.3487 - val_fmeasure: 0.7419 - val_precision: 0.8871 - val_auroc: 0.8882 - val_recall: 0.6377\n",
            "Epoch 15/15\n",
            "14602/14602 [==============================] - 33s 2ms/step - loss: 0.3697 - acc: 0.8287 - mean_pred: 0.3608 - fmeasure: 0.7395 - precision: 0.8207 - auroc: 0.8887 - recall: 0.6751 - val_loss: 0.3525 - val_acc: 0.8401 - val_mean_pred: 0.3767 - val_fmeasure: 0.7584 - val_precision: 0.8240 - val_auroc: 0.8891 - val_recall: 0.7026\n"
          ],
          "name": "stdout"
        }
      ]
    },
    {
      "cell_type": "markdown",
      "metadata": {
        "colab_type": "text",
        "id": "prmcneNW3Fms"
      },
      "source": [
        "#### Evaluate the CNN+Word2Vec Model accuracy of our trained model"
      ]
    },
    {
      "cell_type": "code",
      "metadata": {
        "colab_type": "code",
        "id": "k8vAeqffj4R8",
        "colab": {},
        "outputId": "cf844e57-1184-4b39-ba92-63d272208105"
      },
      "source": [
        "CNN_Word2Vec_train_score = CNN_Word2Vec_model.evaluate(X_train, y_train, batch_size=batch_size2, verbose=1)\n",
        "print('Train Loss:', CNN_Word2Vec_train_score[0])\n",
        "print('Train Accuracy:', CNN_Word2Vec_train_score[1])"
      ],
      "execution_count": 0,
      "outputs": [
        {
          "output_type": "stream",
          "text": [
            ""
          ],
          "name": "stdout"
        },
        {
          "output_type": "stream",
          "text": [
            "16225/16225 [==============================] - 14s 893us/step\n",
            "Train Loss: 0.35787757933599007\n",
            "Train Accuracy: 0.839558308653545\n"
          ],
          "name": "stdout"
        }
      ]
    },
    {
      "cell_type": "markdown",
      "metadata": {
        "colab_type": "text",
        "id": "iNAxfDw929u1"
      },
      "source": [
        "#### Evaluate the CNN+Word2Vec accuracy base our test samples"
      ]
    },
    {
      "cell_type": "code",
      "metadata": {
        "colab_type": "code",
        "id": "Q733bGk7j6wf",
        "colab": {},
        "outputId": "2623eacc-6853-4c55-cea9-24f035d951c1"
      },
      "source": [
        "CNN_Word2Vec_test_score = CNN_Word2Vec_model.evaluate(X_test, y_test, batch_size=batch_size2, verbose=1)\n",
        "print('Test Loss:', CNN_Word2Vec_test_score[0])\n",
        "print('Test Accuracy:', CNN_Word2Vec_test_score[1])"
      ],
      "execution_count": 0,
      "outputs": [
        {
          "output_type": "stream",
          "text": [
            ""
          ],
          "name": "stdout"
        },
        {
          "output_type": "stream",
          "text": [
            "6234/6234 [==============================] - 5s 867us/step\n",
            "Test Loss: 0.3567891915448017\n",
            "Test Accuracy: 0.8270773242443159\n"
          ],
          "name": "stdout"
        }
      ]
    },
    {
      "cell_type": "code",
      "metadata": {
        "colab_type": "code",
        "id": "A_S65elrj9nt",
        "colab": {},
        "outputId": "03314cf1-ef1e-483e-f5df-7a3144517b7a"
      },
      "source": [
        "#Predicting......\n",
        "print('Predicting....')\n",
        "y_pred = CNN_Word2Vec_model.predict(X_test,batch_size=batch_size2,verbose=1)"
      ],
      "execution_count": 0,
      "outputs": [
        {
          "output_type": "stream",
          "text": [
            "Predicting....\n",
            "6234/6234 [==============================] - 6s 928us/step\n"
          ],
          "name": "stdout"
        }
      ]
    },
    {
      "cell_type": "markdown",
      "metadata": {
        "colab_type": "text",
        "id": "lK6Dcg2H3TZD"
      },
      "source": [
        "#### Plot Training & Validation Accuracy with the Loss values of the CNN-Word2Vec Model"
      ]
    },
    {
      "cell_type": "code",
      "metadata": {
        "colab_type": "code",
        "id": "7ZwqACJEkBal",
        "colab": {},
        "outputId": "2f5ce7f4-2546-4640-f11a-7fada77b732f"
      },
      "source": [
        "# Plot training & validation accuracy values\n",
        "plt.plot(CNN_Word2Vec_model_fit.history['acc'])\n",
        "plt.plot(CNN_Word2Vec_model_fit.history['val_acc'])\n",
        "plt.title('CNN-Word2Vec Model accuracy')\n",
        "plt.ylabel('Accuracy')\n",
        "plt.xlabel('Epoch')\n",
        "plt.legend(['Training Accuracy', 'Validation Accuracy'], loc='upper left')\n",
        "plt.show()\n"
      ],
      "execution_count": 0,
      "outputs": [
        {
          "output_type": "display_data",
          "data": {
            "image/png": "[encoded data removed]",
            "text/plain": [
              "<Figure size 432x288 with 1 Axes>"
            ]
          },
          "metadata": {
            "tags": [],
            "needs_background": "light"
          }
        }
      ]
    },
    {
      "cell_type": "code",
      "metadata": {
        "colab_type": "code",
        "id": "0K4SBNuHkHbE",
        "colab": {},
        "outputId": "100a0239-33be-4b56-d727-5dbb73494ec8"
      },
      "source": [
        "# Plot training & validation loss values\n",
        "plt.plot(CNN_Word2Vec_model_fit.history['loss'])\n",
        "plt.plot(CNN_Word2Vec_model_fit.history['val_loss'])\n",
        "plt.title('CNN-Word2Vec Model loss')\n",
        "plt.ylabel('Loss')\n",
        "plt.xlabel('Epoch')\n",
        "plt.legend(['Training Loss', 'Validation Loss'], loc='lower right')\n",
        "plt.show()"
      ],
      "execution_count": 0,
      "outputs": [
        {
          "output_type": "display_data",
          "data": {
            "image/png": "[encoded data removed]",
            "text/plain": [
              "<Figure size 432x288 with 1 Axes>"
            ]
          },
          "metadata": {
            "tags": [],
            "needs_background": "light"
          }
        }
      ]
    },
    {
      "cell_type": "markdown",
      "metadata": {
        "colab_type": "text",
        "id": "JVrSxJL4kMGO"
      },
      "source": [
        "## 2) Recurrent Neural Network (RNN) with Word2Vec"
      ]
    },
    {
      "cell_type": "code",
      "metadata": {
        "colab_type": "code",
        "id": "ZT3M69FVkRKr",
        "colab": {}
      },
      "source": [
        "RNN_Word2Vec_model = Sequential([\n",
        "    Embedding(input_dim =word2Vec_embedding_matrix.shape[0], input_length=max_len, output_dim=word2Vec_embedding_matrix.shape[1],weights=[word2Vec_embedding_matrix], trainable=False),\n",
        "    SpatialDropout1D(0.5),\n",
        "    #Fully-connected RNN where the output is to be fed back to input.\n",
        "    SimpleRNN(25, return_sequences=True),\n",
        "    #**batch normalization layer** normalizes the activations of the previous layer at each batch, \n",
        "    #i.e. applies a transformation that maintains the mean activation close to 0 and the activation standard deviation close to 1. \n",
        "    BatchNormalization(),\n",
        "    Dropout(0.5),\n",
        "    GlobalMaxPool1D(),\n",
        "    Dense(50, activation = 'relu'),\n",
        "    Dense(6, activation = 'sigmoid')\n",
        "])"
      ],
      "execution_count": 0,
      "outputs": []
    },
    {
      "cell_type": "code",
      "metadata": {
        "colab_type": "code",
        "id": "eVEfBpTikW83",
        "colab": {}
      },
      "source": [
        "#Customized the evaluation to analyse the model in terms of accuracy and mean value accuracy\n",
        "def mean_pred(y_true, y_pred):\n",
        "    return K.mean(y_pred)\n",
        "\n",
        "RNN_Word2Vec_model.compile(loss='binary_crossentropy', optimizer=Adam(0.01), metrics=['accuracy', mean_pred, fmeasure, precision, auroc, ])"
      ],
      "execution_count": 0,
      "outputs": []
    },
    {
      "cell_type": "markdown",
      "metadata": {
        "colab_type": "text",
        "id": "wFrJ4D-F3qv3"
      },
      "source": [
        "####Visualize the Orchestrated RNN-Word2Vec Model Architecture"
      ]
    },
    {
      "cell_type": "code",
      "metadata": {
        "colab_type": "code",
        "id": "flnM-ghykYEw",
        "colab": {},
        "outputId": "1b7e1b16-1040-4e35-d847-63ad194fd611"
      },
      "source": [
        "RNN_Word2Vec_model.summary()"
      ],
      "execution_count": 0,
      "outputs": [
        {
          "output_type": "stream",
          "text": [
            "_________________________________________________________________\n",
            "Layer (type)                 Output Shape              Param #   \n",
            "=================================================================\n",
            "embedding_2 (Embedding)      (None, 200, 128)          4719488   \n",
            "_________________________________________________________________\n",
            "spatial_dropout1d_2 (Spatial (None, 200, 128)          0         \n",
            "_________________________________________________________________\n",
            "simple_rnn_1 (SimpleRNN)     (None, 200, 25)           3850      \n",
            "_________________________________________________________________\n",
            "batch_normalization_2 (Batch (None, 200, 25)           100       \n",
            "_________________________________________________________________\n",
            "dropout_2 (Dropout)          (None, 200, 25)           0         \n",
            "_________________________________________________________________\n",
            "global_max_pooling1d_2 (Glob (None, 25)                0         \n",
            "_________________________________________________________________\n",
            "dense_3 (Dense)              (None, 50)                1300      \n",
            "_________________________________________________________________\n",
            "dense_4 (Dense)              (None, 6)                 306       \n",
            "=================================================================\n",
            "Total params: 4,725,044\n",
            "Trainable params: 5,506\n",
            "Non-trainable params: 4,719,538\n",
            "_________________________________________________________________\n"
          ],
          "name": "stdout"
        }
      ]
    },
    {
      "cell_type": "code",
      "metadata": {
        "colab_type": "code",
        "id": "Qi9EK0MVwW5a",
        "colab": {}
      },
      "source": [
        "#plot the RNN_Word2Vec_model architecture\n",
        "\n",
        "#plot_model(RNN_Word2Vec_model, to_file='RNN_Word2Vec_model_plot.png', show_shapes=True, show_layer_names=True)\n",
        "#Image(retina=True, filename='RNN_Word2Vec_model_plot.png')"
      ],
      "execution_count": 0,
      "outputs": []
    },
    {
      "cell_type": "code",
      "metadata": {
        "colab_type": "code",
        "id": "2GALxf3TkaiD",
        "colab": {},
        "outputId": "83e46a9e-31a3-496e-bc46-efac55075eed"
      },
      "source": [
        "RNN_Word2Vec_model_fit = RNN_Word2Vec_model.fit(X_tra, y_tra, batch_size=batch_size2, epochs=num_epochs, validation_data=(X_val, y_val))"
      ],
      "execution_count": 0,
      "outputs": [
        {
          "output_type": "stream",
          "text": [
            "Train on 14602 samples, validate on 1623 samples\n",
            "Epoch 1/15\n",
            "14602/14602 [==============================] - 18s 1ms/step - loss: 0.4753 - acc: 0.7824 - mean_pred: 0.3637 - fmeasure: 0.6929 - precision: 0.7246 - auroc: 0.8120 - val_loss: 0.4237 - val_acc: 0.8028 - val_mean_pred: 0.4099 - val_fmeasure: 0.7361 - val_precision: 0.7050 - val_auroc: 0.8580\n",
            "Epoch 2/15\n",
            "14602/14602 [==============================] - 13s 860us/step - loss: 0.3917 - acc: 0.8005 - mean_pred: 0.3613 - fmeasure: 0.7075 - precision: 0.7530 - auroc: 0.8647 - val_loss: 0.4343 - val_acc: 0.7973 - val_mean_pred: 0.4106 - val_fmeasure: 0.7577 - val_precision: 0.6610 - val_auroc: 0.8689\n",
            "Epoch 3/15\n",
            "14602/14602 [==============================] - 12s 815us/step - loss: 0.3920 - acc: 0.7986 - mean_pred: 0.3624 - fmeasure: 0.7094 - precision: 0.7507 - auroc: 0.8713 - val_loss: 0.4280 - val_acc: 0.7995 - val_mean_pred: 0.3992 - val_fmeasure: 0.7195 - val_precision: 0.7190 - val_auroc: 0.8730\n",
            "Epoch 4/15\n",
            "14602/14602 [==============================] - 12s 839us/step - loss: 0.3914 - acc: 0.8027 - mean_pred: 0.3606 - fmeasure: 0.7071 - precision: 0.7694 - auroc: 0.8742 - val_loss: 0.4214 - val_acc: 0.7977 - val_mean_pred: 0.3912 - val_fmeasure: 0.7114 - val_precision: 0.7251 - val_auroc: 0.8753\n",
            "Epoch 5/15\n",
            "14602/14602 [==============================] - 12s 839us/step - loss: 0.3896 - acc: 0.8036 - mean_pred: 0.3599 - fmeasure: 0.7111 - precision: 0.7618 - auroc: 0.8764 - val_loss: 0.4314 - val_acc: 0.7942 - val_mean_pred: 0.4125 - val_fmeasure: 0.7576 - val_precision: 0.6538 - val_auroc: 0.8770\n",
            "Epoch 6/15\n",
            "14602/14602 [==============================] - 13s 881us/step - loss: 0.3905 - acc: 0.8020 - mean_pred: 0.3620 - fmeasure: 0.7087 - precision: 0.7629 - auroc: 0.8775 - val_loss: 0.4239 - val_acc: 0.8009 - val_mean_pred: 0.4073 - val_fmeasure: 0.7275 - val_precision: 0.7116 - val_auroc: 0.8779\n",
            "Epoch 7/15\n",
            "14602/14602 [==============================] - 13s 857us/step - loss: 0.3908 - acc: 0.8011 - mean_pred: 0.3608 - fmeasure: 0.7072 - precision: 0.7628 - auroc: 0.8783 - val_loss: 0.4281 - val_acc: 0.8022 - val_mean_pred: 0.4052 - val_fmeasure: 0.7369 - val_precision: 0.7019 - val_auroc: 0.8785\n",
            "Epoch 8/15\n",
            "14602/14602 [==============================] - 13s 918us/step - loss: 0.3884 - acc: 0.8047 - mean_pred: 0.3605 - fmeasure: 0.7156 - precision: 0.7558 - auroc: 0.8789 - val_loss: 0.4233 - val_acc: 0.8114 - val_mean_pred: 0.3977 - val_fmeasure: 0.6923 - val_precision: 0.8295 - val_auroc: 0.8793\n",
            "Epoch 9/15\n",
            "14602/14602 [==============================] - 13s 862us/step - loss: 0.3893 - acc: 0.8023 - mean_pred: 0.3608 - fmeasure: 0.7089 - precision: 0.7613 - auroc: 0.8796 - val_loss: 0.4296 - val_acc: 0.8090 - val_mean_pred: 0.3963 - val_fmeasure: 0.6794 - val_precision: 0.8484 - val_auroc: 0.8797\n",
            "Epoch 10/15\n",
            "14602/14602 [==============================] - 14s 947us/step - loss: 0.3882 - acc: 0.8056 - mean_pred: 0.3623 - fmeasure: 0.7146 - precision: 0.7624 - auroc: 0.8801 - val_loss: 0.4109 - val_acc: 0.8030 - val_mean_pred: 0.3585 - val_fmeasure: 0.6497 - val_precision: 0.8910 - val_auroc: 0.8803\n",
            "Epoch 11/15\n",
            "14602/14602 [==============================] - 12s 816us/step - loss: 0.3900 - acc: 0.8038 - mean_pred: 0.3597 - fmeasure: 0.7113 - precision: 0.7645 - auroc: 0.8804 - val_loss: 0.4236 - val_acc: 0.8068 - val_mean_pred: 0.3864 - val_fmeasure: 0.6655 - val_precision: 0.8731 - val_auroc: 0.8806\n",
            "Epoch 12/15\n",
            "14602/14602 [==============================] - 8s 566us/step - loss: 0.3876 - acc: 0.8053 - mean_pred: 0.3608 - fmeasure: 0.7125 - precision: 0.7655 - auroc: 0.8808 - val_loss: 0.4203 - val_acc: 0.8106 - val_mean_pred: 0.3996 - val_fmeasure: 0.7123 - val_precision: 0.7784 - val_auroc: 0.8810\n",
            "Epoch 13/15\n",
            "14602/14602 [==============================] - 9s 646us/step - loss: 0.3881 - acc: 0.8052 - mean_pred: 0.3626 - fmeasure: 0.7131 - precision: 0.7659 - auroc: 0.8811 - val_loss: 0.4137 - val_acc: 0.8088 - val_mean_pred: 0.3985 - val_fmeasure: 0.7233 - val_precision: 0.7486 - val_auroc: 0.8813\n",
            "Epoch 14/15\n",
            "14602/14602 [==============================] - 12s 800us/step - loss: 0.3881 - acc: 0.8049 - mean_pred: 0.3623 - fmeasure: 0.7189 - precision: 0.7513 - auroc: 0.8814 - val_loss: 0.4242 - val_acc: 0.8023 - val_mean_pred: 0.3825 - val_fmeasure: 0.6512 - val_precision: 0.8810 - val_auroc: 0.8816\n",
            "Epoch 15/15\n",
            "14602/14602 [==============================] - 12s 803us/step - loss: 0.3876 - acc: 0.8058 - mean_pred: 0.3608 - fmeasure: 0.7177 - precision: 0.7584 - auroc: 0.8817 - val_loss: 0.4178 - val_acc: 0.8115 - val_mean_pred: 0.3928 - val_fmeasure: 0.7101 - val_precision: 0.7885 - val_auroc: 0.8818\n"
          ],
          "name": "stdout"
        }
      ]
    },
    {
      "cell_type": "markdown",
      "metadata": {
        "colab_type": "text",
        "id": "IO01dJfA38Oe"
      },
      "source": [
        "#### Evaluate the RNN+Word2Vec Model accuracy of our trained model"
      ]
    },
    {
      "cell_type": "code",
      "metadata": {
        "colab_type": "code",
        "id": "uh28E29zkdiN",
        "colab": {},
        "outputId": "c51bfcc5-c92d-4bb0-f320-14e0bdaaa604"
      },
      "source": [
        "RNN_Word2Vec_train_score = RNN_Word2Vec_model.evaluate(X_tra, y_tra, batch_size=batch_size2, verbose=1)\n",
        "print('Train Loss:', RNN_Word2Vec_train_score[0])\n",
        "print('Train Accuracy:', RNN_Word2Vec_train_score[1])"
      ],
      "execution_count": 0,
      "outputs": [
        {
          "output_type": "stream",
          "text": [
            ""
          ],
          "name": "stdout"
        },
        {
          "output_type": "stream",
          "text": [
            "14602/14602 [==============================] - 5s 334us/step\n",
            "Train Loss: 0.42316340566612143\n",
            "Train Accuracy: 0.8124457979721494\n"
          ],
          "name": "stdout"
        }
      ]
    },
    {
      "cell_type": "markdown",
      "metadata": {
        "colab_type": "text",
        "id": "8K91j4vQ4PgV"
      },
      "source": [
        "#### Evaluate the RNN+Word2Vec accuracy base our test samples"
      ]
    },
    {
      "cell_type": "code",
      "metadata": {
        "colab_type": "code",
        "id": "GLgq6Bsnko_S",
        "colab": {},
        "outputId": "f792eca6-5679-4b3e-a309-49dcd2d54fe4"
      },
      "source": [
        "RNN_Word2Vec_test_score = RNN_Word2Vec_model.evaluate(X_test, y_test, batch_size=batch_size2, verbose=1)\n",
        "print('Test Loss:', RNN_Word2Vec_test_score[0])\n",
        "print('Test Accuracy:', RNN_Word2Vec_test_score[1])"
      ],
      "execution_count": 0,
      "outputs": [
        {
          "output_type": "stream",
          "text": [
            ""
          ],
          "name": "stdout"
        },
        {
          "output_type": "stream",
          "text": [
            "6234/6234 [==============================] - 2s 327us/step\n",
            "Test Loss: 0.41606024790162033\n",
            "Test Accuracy: 0.8080419295676289\n"
          ],
          "name": "stdout"
        }
      ]
    },
    {
      "cell_type": "code",
      "metadata": {
        "colab_type": "code",
        "id": "buWNvKc3krrk",
        "colab": {},
        "outputId": "ceb46285-74ce-4518-a489-50caff242490"
      },
      "source": [
        "#Predicting......\n",
        "print('Predicting....')\n",
        "y_pred = RNN_Word2Vec_model.predict(X_test,batch_size=batch_size2,verbose=1)"
      ],
      "execution_count": 0,
      "outputs": [
        {
          "output_type": "stream",
          "text": [
            "Predicting....\n",
            "6234/6234 [==============================] - 3s 406us/step\n"
          ],
          "name": "stdout"
        }
      ]
    },
    {
      "cell_type": "markdown",
      "metadata": {
        "colab_type": "text",
        "id": "TtT_9kHK4sGI"
      },
      "source": [
        "#### Plot Training & Validation Accuracy with the Loss values of the RNN-Word2Vec Model"
      ]
    },
    {
      "cell_type": "code",
      "metadata": {
        "colab_type": "code",
        "id": "gUE8UHRMks0K",
        "colab": {},
        "outputId": "1d15f3fe-f33f-468f-e108-41e67c675b15"
      },
      "source": [
        "# Plot training & validation accuracy values\n",
        "plt.plot(RNN_Word2Vec_model_fit.history['acc'])\n",
        "plt.plot(RNN_Word2Vec_model_fit.history['val_acc'])\n",
        "plt.title('RNN-Word2Vec Model accuracy')\n",
        "plt.ylabel('Accuracy')\n",
        "plt.xlabel('Epoch')\n",
        "plt.legend(['Training Accuracy', 'Validation Accuracy'], loc='upper left')\n",
        "plt.show()"
      ],
      "execution_count": 0,
      "outputs": [
        {
          "output_type": "display_data",
          "data": {
            "image/png": "[encoded data removed]",
            "text/plain": [
              "<Figure size 432x288 with 1 Axes>"
            ]
          },
          "metadata": {
            "tags": [],
            "needs_background": "light"
          }
        }
      ]
    },
    {
      "cell_type": "code",
      "metadata": {
        "colab_type": "code",
        "id": "dWKszgsNkytT",
        "colab": {},
        "outputId": "07770f3d-f5fd-46b8-a0ab-5e379f9a10c7"
      },
      "source": [
        "# Plot training & validation loss values\n",
        "plt.plot(RNN_Word2Vec_model_fit.history['loss'])\n",
        "plt.plot(RNN_Word2Vec_model_fit.history['val_loss'])\n",
        "plt.title('RNN-Word2Vec Model loss')\n",
        "plt.ylabel('Loss')\n",
        "plt.xlabel('Epoch')\n",
        "plt.legend(['Training Loss', 'Validation Loss'], loc='lower right')\n",
        "plt.show()"
      ],
      "execution_count": 0,
      "outputs": [
        {
          "output_type": "display_data",
          "data": {
            "image/png": "[encoded data removed]",
            "text/plain": [
              "<Figure size 432x288 with 1 Axes>"
            ]
          },
          "metadata": {
            "tags": [],
            "needs_background": "light"
          }
        }
      ]
    },
    {
      "cell_type": "markdown",
      "metadata": {
        "colab_type": "text",
        "id": "rDsStmTN5VUh"
      },
      "source": [
        "## 3) LSTM with Word2Vec"
      ]
    },
    {
      "cell_type": "code",
      "metadata": {
        "colab_type": "code",
        "id": "icnPw7-f5dTW",
        "colab": {}
      },
      "source": [
        "LSTM_Word2Vec_model = Sequential([\n",
        "    Embedding(input_dim =word2Vec_embedding_matrix.shape[0], input_length=max_len, output_dim=word2Vec_embedding_matrix.shape[1],weights=[word2Vec_embedding_matrix], trainable=False),\n",
        "    SpatialDropout1D(0.5),\n",
        "    #Bidirectional layer will enable our model to predict a missing word in a sequence, \n",
        "    #So, using this feature will enable the model to look at the context on both the left and the right.\n",
        "    LSTM(25, return_sequences=True),\n",
        "    #**batch normalization layer** normalizes the activations of the previous layer at each batch, \n",
        "    #i.e. applies a transformation that maintains the mean activation close to 0 and the activation standard deviation close to 1. \n",
        "    BatchNormalization(),\n",
        "    Dropout(0.5),\n",
        "    GlobalMaxPool1D(),\n",
        "    Dense(50, activation = 'relu'),\n",
        "    Dense(6, activation = 'sigmoid')\n",
        "])\n",
        "\n",
        "LSTM_Word2Vec_model.compile(loss='binary_crossentropy', optimizer=Adam(0.01), metrics=['accuracy', mean_pred, fmeasure, precision, auroc, recall])"
      ],
      "execution_count": 0,
      "outputs": []
    },
    {
      "cell_type": "markdown",
      "metadata": {
        "colab_type": "text",
        "id": "O6S9EHRj6NDD"
      },
      "source": [
        "### Visualize the Orchestrated LSTM-Word2Vec Model Architecture"
      ]
    },
    {
      "cell_type": "code",
      "metadata": {
        "colab_type": "code",
        "id": "A7A8SPrK6RIr",
        "colab": {},
        "outputId": "04d7132e-4f6d-4f7b-ee16-7d320654db11"
      },
      "source": [
        "LSTM_Word2Vec_model.summary()\n",
        "#plot the CNN_GLove model architecture\n",
        "\n",
        "#plot_model(LSTM_Word2Vec_model, to_file='LSTM_Word2Vec_model_plot.png', show_shapes=True, show_layer_names=True)\n",
        "#Image(retina=True, filename='LSTM_Word2Vec_model_plot.png')"
      ],
      "execution_count": 0,
      "outputs": [
        {
          "output_type": "stream",
          "text": [
            "_________________________________________________________________\n",
            "Layer (type)                 Output Shape              Param #   \n",
            "=================================================================\n",
            "embedding_3 (Embedding)      (None, 200, 128)          4719488   \n",
            "_________________________________________________________________\n",
            "spatial_dropout1d_3 (Spatial (None, 200, 128)          0         \n",
            "_________________________________________________________________\n",
            "lstm_1 (LSTM)                (None, 200, 25)           15400     \n",
            "_________________________________________________________________\n",
            "batch_normalization_3 (Batch (None, 200, 25)           100       \n",
            "_________________________________________________________________\n",
            "dropout_3 (Dropout)          (None, 200, 25)           0         \n",
            "_________________________________________________________________\n",
            "global_max_pooling1d_3 (Glob (None, 25)                0         \n",
            "_________________________________________________________________\n",
            "dense_5 (Dense)              (None, 50)                1300      \n",
            "_________________________________________________________________\n",
            "dense_6 (Dense)              (None, 6)                 306       \n",
            "=================================================================\n",
            "Total params: 4,736,594\n",
            "Trainable params: 17,056\n",
            "Non-trainable params: 4,719,538\n",
            "_________________________________________________________________\n"
          ],
          "name": "stdout"
        }
      ]
    },
    {
      "cell_type": "code",
      "metadata": {
        "colab_type": "code",
        "id": "pqo1KJPo6ZTU",
        "colab": {},
        "outputId": "50e4c883-de43-4d25-96cb-6a1df34b3919"
      },
      "source": [
        "LSTM_Word2Vec_model_fit = LSTM_Word2Vec_model.fit(X_tra, y_tra, batch_size=batch_size2, epochs=num_epochs, validation_data=(X_val, y_val))"
      ],
      "execution_count": 0,
      "outputs": [
        {
          "output_type": "stream",
          "text": [
            "Train on 14602 samples, validate on 1623 samples\n",
            "Epoch 1/15\n",
            "14602/14602 [==============================] - 30s 2ms/step - loss: 0.4256 - acc: 0.7942 - mean_pred: 0.3619 - fmeasure: 0.6937 - precision: 0.7514 - auroc: 0.8421 - recall: 0.6558 - val_loss: 0.4199 - val_acc: 0.8077 - val_mean_pred: 0.4105 - val_fmeasure: 0.7303 - val_precision: 0.7321 - val_auroc: 0.8701 - val_recall: 0.7296\n",
            "Epoch 2/15\n",
            "14602/14602 [==============================] - 22s 2ms/step - loss: 0.3893 - acc: 0.8054 - mean_pred: 0.3608 - fmeasure: 0.7145 - precision: 0.7608 - auroc: 0.8742 - recall: 0.6780 - val_loss: 0.4203 - val_acc: 0.8162 - val_mean_pred: 0.3978 - val_fmeasure: 0.7178 - val_precision: 0.7956 - val_auroc: 0.8775 - val_recall: 0.6547\n",
            "Epoch 3/15\n",
            "14602/14602 [==============================] - 22s 2ms/step - loss: 0.3855 - acc: 0.8092 - mean_pred: 0.3599 - fmeasure: 0.7174 - precision: 0.7739 - auroc: 0.8796 - recall: 0.6767 - val_loss: 0.4354 - val_acc: 0.8147 - val_mean_pred: 0.4163 - val_fmeasure: 0.7456 - val_precision: 0.7319 - val_auroc: 0.8809 - val_recall: 0.7609\n",
            "Epoch 4/15\n",
            "14602/14602 [==============================] - 22s 2ms/step - loss: 0.3791 - acc: 0.8158 - mean_pred: 0.3629 - fmeasure: 0.7244 - precision: 0.7909 - auroc: 0.8823 - recall: 0.6743 - val_loss: 0.4261 - val_acc: 0.8222 - val_mean_pred: 0.4090 - val_fmeasure: 0.7466 - val_precision: 0.7603 - val_auroc: 0.8838 - val_recall: 0.7339\n",
            "Epoch 5/15\n",
            "14602/14602 [==============================] - 22s 1ms/step - loss: 0.3747 - acc: 0.8174 - mean_pred: 0.3616 - fmeasure: 0.7230 - precision: 0.8098 - auroc: 0.8849 - recall: 0.6698 - val_loss: 0.4229 - val_acc: 0.8247 - val_mean_pred: 0.4231 - val_fmeasure: 0.7549 - val_precision: 0.7544 - val_auroc: 0.8860 - val_recall: 0.7561\n",
            "Epoch 6/15\n",
            "14602/14602 [==============================] - 22s 2ms/step - loss: 0.3720 - acc: 0.8215 - mean_pred: 0.3631 - fmeasure: 0.7300 - precision: 0.8085 - auroc: 0.8869 - recall: 0.6741 - val_loss: 0.4183 - val_acc: 0.8289 - val_mean_pred: 0.4171 - val_fmeasure: 0.7614 - val_precision: 0.7587 - val_auroc: 0.8878 - val_recall: 0.7647\n",
            "Epoch 7/15\n",
            "14602/14602 [==============================] - 21s 1ms/step - loss: 0.3687 - acc: 0.8240 - mean_pred: 0.3622 - fmeasure: 0.7316 - precision: 0.8175 - auroc: 0.8887 - recall: 0.6680 - val_loss: 0.4151 - val_acc: 0.8398 - val_mean_pred: 0.4121 - val_fmeasure: 0.7405 - val_precision: 0.8784 - val_auroc: 0.8894 - val_recall: 0.6401\n",
            "Epoch 8/15\n",
            "14602/14602 [==============================] - 21s 1ms/step - loss: 0.3668 - acc: 0.8258 - mean_pred: 0.3626 - fmeasure: 0.7320 - precision: 0.8264 - auroc: 0.8901 - recall: 0.6634 - val_loss: 0.3885 - val_acc: 0.8303 - val_mean_pred: 0.3730 - val_fmeasure: 0.7105 - val_precision: 0.9092 - val_auroc: 0.8908 - val_recall: 0.5833\n",
            "Epoch 9/15\n",
            "14602/14602 [==============================] - 22s 1ms/step - loss: 0.3661 - acc: 0.8257 - mean_pred: 0.3603 - fmeasure: 0.7307 - precision: 0.8281 - auroc: 0.8914 - recall: 0.6571 - val_loss: 0.3960 - val_acc: 0.8391 - val_mean_pred: 0.4034 - val_fmeasure: 0.7571 - val_precision: 0.8217 - val_auroc: 0.8919 - val_recall: 0.7022\n",
            "Epoch 10/15\n",
            "14602/14602 [==============================] - 21s 1ms/step - loss: 0.3649 - acc: 0.8272 - mean_pred: 0.3635 - fmeasure: 0.7364 - precision: 0.8249 - auroc: 0.8923 - recall: 0.6742 - val_loss: 0.3938 - val_acc: 0.8431 - val_mean_pred: 0.3977 - val_fmeasure: 0.7479 - val_precision: 0.8776 - val_auroc: 0.8928 - val_recall: 0.6517\n",
            "Epoch 11/15\n",
            "14602/14602 [==============================] - 21s 1ms/step - loss: 0.3628 - acc: 0.8297 - mean_pred: 0.3613 - fmeasure: 0.7381 - precision: 0.8306 - auroc: 0.8933 - recall: 0.6675 - val_loss: 0.4005 - val_acc: 0.8440 - val_mean_pred: 0.4034 - val_fmeasure: 0.7542 - val_precision: 0.8630 - val_auroc: 0.8938 - val_recall: 0.6699\n",
            "Epoch 12/15\n",
            "14602/14602 [==============================] - 22s 2ms/step - loss: 0.3621 - acc: 0.8309 - mean_pred: 0.3602 - fmeasure: 0.7388 - precision: 0.8363 - auroc: 0.8942 - recall: 0.6653 - val_loss: 0.3785 - val_acc: 0.8419 - val_mean_pred: 0.4077 - val_fmeasure: 0.7675 - val_precision: 0.8085 - val_auroc: 0.8946 - val_recall: 0.7306\n",
            "Epoch 13/15\n",
            "14602/14602 [==============================] - 21s 1ms/step - loss: 0.3619 - acc: 0.8320 - mean_pred: 0.3597 - fmeasure: 0.7408 - precision: 0.8371 - auroc: 0.8949 - recall: 0.6672 - val_loss: 0.3799 - val_acc: 0.8443 - val_mean_pred: 0.4056 - val_fmeasure: 0.7683 - val_precision: 0.8213 - val_auroc: 0.8953 - val_recall: 0.7219\n",
            "Epoch 14/15\n",
            "14602/14602 [==============================] - 21s 1ms/step - loss: 0.3598 - acc: 0.8325 - mean_pred: 0.3615 - fmeasure: 0.7432 - precision: 0.8329 - auroc: 0.8957 - recall: 0.6728 - val_loss: 0.3884 - val_acc: 0.8344 - val_mean_pred: 0.4194 - val_fmeasure: 0.7768 - val_precision: 0.7489 - val_auroc: 0.8960 - val_recall: 0.8074\n",
            "Epoch 15/15\n",
            "14602/14602 [==============================] - 22s 1ms/step - loss: 0.3611 - acc: 0.8318 - mean_pred: 0.3650 - fmeasure: 0.7436 - precision: 0.8332 - auroc: 0.8962 - recall: 0.6788 - val_loss: 0.3832 - val_acc: 0.8460 - val_mean_pred: 0.3863 - val_fmeasure: 0.7524 - val_precision: 0.8836 - val_auroc: 0.8965 - val_recall: 0.6552\n"
          ],
          "name": "stdout"
        }
      ]
    },
    {
      "cell_type": "markdown",
      "metadata": {
        "colab_type": "text",
        "id": "MXKJt-RB5xNu"
      },
      "source": [
        "### Evaluate the LSTM+Word2Vec train and test score"
      ]
    },
    {
      "cell_type": "code",
      "metadata": {
        "colab_type": "code",
        "id": "IZ5vfY8e518g",
        "colab": {},
        "outputId": "027bb6ca-baa2-4e68-d0ca-943888b74d1d"
      },
      "source": [
        "#train\n",
        "LSTM_Word2Vec_train_score = LSTM_Word2Vec_model.evaluate(X_train, y_train, batch_size=batch_size2, verbose=1)\n",
        "print('Train Loss:', LSTM_Word2Vec_train_score[0])\n",
        "print('Train Accuracy:', LSTM_Word2Vec_train_score[1])\n",
        "\n",
        "#test\n",
        "LSTM_Word2Vec_test_score = LSTM_Word2Vec_model.evaluate(X_test, y_test, batch_size=batch_size2, verbose=1)\n",
        "print('Test Loss:', LSTM_Word2Vec_test_score[0])\n",
        "print('Test Accuracy:', LSTM_Word2Vec_test_score[1])"
      ],
      "execution_count": 0,
      "outputs": [
        {
          "output_type": "stream",
          "text": [
            ""
          ],
          "name": "stdout"
        },
        {
          "output_type": "stream",
          "text": [
            "16225/16225 [==============================] - 7s 405us/step\n",
            "Train Loss: 0.3863396938923511\n",
            "Train Accuracy: 0.8462660639421966\n",
            "6234/6234 [==============================] - 3s 426us/step\n",
            "Test Loss: 0.3902591585654038\n",
            "Test Accuracy: 0.8264624084040336\n"
          ],
          "name": "stdout"
        }
      ]
    },
    {
      "cell_type": "markdown",
      "metadata": {
        "colab_type": "text",
        "id": "AqPS6z_K6Djl"
      },
      "source": [
        "### Plot Training & Validation Accuracy with the Loss values of the LSTM-Word2Vec Model"
      ]
    },
    {
      "cell_type": "code",
      "metadata": {
        "colab_type": "code",
        "id": "NaBV1VcE6Hvu",
        "colab": {},
        "outputId": "d301ef4b-ca8d-48b7-d6fe-99419ceba68a"
      },
      "source": [
        "### Plot Training & Validation Accuracy with the Loss values of the LSTM-Glove Model# Plot training & validation accuracy values\n",
        "plt.plot(LSTM_Word2Vec_model_fit.history['acc'])\n",
        "plt.plot(LSTM_Word2Vec_model_fit.history['val_acc'])\n",
        "plt.title('LSTM-Word2Vec Model accuracy')\n",
        "plt.ylabel('Accuracy')\n",
        "plt.xlabel('Epoch')\n",
        "plt.legend(['Training Accuracy', 'Validation Accuracy'], loc='upper left')\n",
        "plt.show()\n",
        "\n",
        "# Plot training & validation loss values\n",
        "plt.plot(LSTM_Word2Vec_model_fit.history['loss'])\n",
        "plt.plot(LSTM_Word2Vec_model_fit.history['val_loss'])\n",
        "plt.title('LSTM-Word2Vec Model loss')\n",
        "plt.ylabel('Loss')\n",
        "plt.xlabel('Epoch')\n",
        "plt.legend(['Training Loss', 'Validation Loss'], loc='lower right')\n",
        "plt.show()"
      ],
      "execution_count": 0,
      "outputs": [
        {
          "output_type": "display_data",
          "data": {
            "image/png": "[encoded data removed]",
            "text/plain": [
              "<Figure size 432x288 with 1 Axes>"
            ]
          },
          "metadata": {
            "tags": [],
            "needs_background": "light"
          }
        },
        {
          "output_type": "display_data",
          "data": {
            "image/png": "[encoded data removed]",
            "text/plain": [
              "<Figure size 432x288 with 1 Axes>"
            ]
          },
          "metadata": {
            "tags": [],
            "needs_background": "light"
          }
        }
      ]
    },
    {
      "cell_type": "markdown",
      "metadata": {
        "colab_type": "text",
        "id": "CAoPxPyC6k0Z"
      },
      "source": [
        "## 4) Bidirecitional LSTM with Word2Vec"
      ]
    },
    {
      "cell_type": "code",
      "metadata": {
        "colab_type": "code",
        "id": "l8vGHPma6oL3",
        "colab": {}
      },
      "source": [
        "Bil_LSTM_Word2Vec_model = Sequential([\n",
        "    Embedding(input_dim =word2Vec_embedding_matrix.shape[0], input_length=max_len, output_dim=word2Vec_embedding_matrix.shape[1],weights=[word2Vec_embedding_matrix], trainable=False),\n",
        "    SpatialDropout1D(0.5),\n",
        "    #Bidirectional layer will enable our model to predict a missing word in a sequence, \n",
        "    #So, using this feature will enable the model to look at the context on both the left and the right.\n",
        "    Bidirectional(LSTM(25, return_sequences=True)),\n",
        "    #**batch normalization layer** normalizes the activations of the previous layer at each batch, \n",
        "    #i.e. applies a transformation that maintains the mean activation close to 0 and the activation standard deviation close to 1. \n",
        "    BatchNormalization(),\n",
        "    Dropout(0.5),\n",
        "    GlobalMaxPool1D(),\n",
        "    Dense(50, activation = 'relu'),\n",
        "    Dense(6, activation = 'sigmoid')\n",
        "])\n",
        "\n",
        "\n",
        "Bil_LSTM_Word2Vec_model.compile(loss='binary_crossentropy', optimizer=Adam(0.01), metrics=['accuracy', mean_pred, fmeasure, precision, auroc, recall])"
      ],
      "execution_count": 0,
      "outputs": []
    },
    {
      "cell_type": "markdown",
      "metadata": {
        "colab_type": "text",
        "id": "pOYKBcnB6wSk"
      },
      "source": [
        "### Visualize the Orchestrated Bidirectional LSTM-Word2Vec Model Architecture"
      ]
    },
    {
      "cell_type": "code",
      "metadata": {
        "colab_type": "code",
        "id": "hpBMXnAa6zcr",
        "colab": {},
        "outputId": "3bdf3576-c60b-4d0f-92fb-2660f4673264"
      },
      "source": [
        "Bil_LSTM_Word2Vec_model.summary()\n",
        "#plot the CNN_GLove model architecture\n",
        "\n",
        "#plot_model(Bil_LSTM_Word2Vec_model, to_file='Bil_LSTM_Word2Vec_model_plot.png', show_shapes=True, show_layer_names=True)\n",
        "#Image(retina=True, filename='Bil_LSTM_Word2Vec_model_plot.png')"
      ],
      "execution_count": 0,
      "outputs": [
        {
          "output_type": "stream",
          "text": [
            "_________________________________________________________________\n",
            "Layer (type)                 Output Shape              Param #   \n",
            "=================================================================\n",
            "embedding_4 (Embedding)      (None, 200, 128)          4719488   \n",
            "_________________________________________________________________\n",
            "spatial_dropout1d_4 (Spatial (None, 200, 128)          0         \n",
            "_________________________________________________________________\n",
            "bidirectional_1 (Bidirection (None, 200, 50)           30800     \n",
            "_________________________________________________________________\n",
            "batch_normalization_4 (Batch (None, 200, 50)           200       \n",
            "_________________________________________________________________\n",
            "dropout_4 (Dropout)          (None, 200, 50)           0         \n",
            "_________________________________________________________________\n",
            "global_max_pooling1d_4 (Glob (None, 50)                0         \n",
            "_________________________________________________________________\n",
            "dense_7 (Dense)              (None, 50)                2550      \n",
            "_________________________________________________________________\n",
            "dense_8 (Dense)              (None, 6)                 306       \n",
            "=================================================================\n",
            "Total params: 4,753,344\n",
            "Trainable params: 33,756\n",
            "Non-trainable params: 4,719,588\n",
            "_________________________________________________________________\n"
          ],
          "name": "stdout"
        }
      ]
    },
    {
      "cell_type": "code",
      "metadata": {
        "colab_type": "code",
        "id": "g13Nld-m6_d1",
        "colab": {},
        "outputId": "d15f2990-a824-4132-917d-818991e886f4"
      },
      "source": [
        "Bil_LSTM_Word2Vec_model_fit = Bil_LSTM_Word2Vec_model.fit(X_tra, y_tra, batch_size=batch_size2, epochs=num_epochs, validation_data=(X_val, y_val))"
      ],
      "execution_count": 0,
      "outputs": [
        {
          "output_type": "stream",
          "text": [
            "Train on 14602 samples, validate on 1623 samples\n",
            "Epoch 1/15\n",
            "14602/14602 [==============================] - 54s 4ms/step - loss: 0.4569 - acc: 0.7910 - mean_pred: 0.3642 - fmeasure: 0.7016 - precision: 0.7393 - auroc: 0.8294 - recall: 0.6837 - val_loss: 0.4189 - val_acc: 0.8112 - val_mean_pred: 0.4053 - val_fmeasure: 0.7506 - val_precision: 0.7105 - val_auroc: 0.8650 - val_recall: 0.7963\n",
            "Epoch 2/15\n",
            "14602/14602 [==============================] - 47s 3ms/step - loss: 0.3832 - acc: 0.8142 - mean_pred: 0.3615 - fmeasure: 0.7261 - precision: 0.7800 - auroc: 0.8724 - recall: 0.6854 - val_loss: 0.4190 - val_acc: 0.8079 - val_mean_pred: 0.4340 - val_fmeasure: 0.7638 - val_precision: 0.6808 - val_auroc: 0.8777 - val_recall: 0.8704\n",
            "Epoch 3/15\n",
            "14602/14602 [==============================] - 47s 3ms/step - loss: 0.3777 - acc: 0.8188 - mean_pred: 0.3633 - fmeasure: 0.7318 - precision: 0.7903 - auroc: 0.8806 - recall: 0.6895 - val_loss: 0.4293 - val_acc: 0.8283 - val_mean_pred: 0.4261 - val_fmeasure: 0.7418 - val_precision: 0.8015 - val_auroc: 0.8831 - val_recall: 0.6907\n",
            "Epoch 4/15\n",
            "14602/14602 [==============================] - 46s 3ms/step - loss: 0.3749 - acc: 0.8204 - mean_pred: 0.3621 - fmeasure: 0.7344 - precision: 0.7907 - auroc: 0.8847 - recall: 0.6908 - val_loss: 0.4259 - val_acc: 0.8305 - val_mean_pred: 0.4218 - val_fmeasure: 0.7450 - val_precision: 0.8053 - val_auroc: 0.8863 - val_recall: 0.6934\n",
            "Epoch 5/15\n",
            "14602/14602 [==============================] - 45s 3ms/step - loss: 0.3701 - acc: 0.8255 - mean_pred: 0.3629 - fmeasure: 0.7409 - precision: 0.7990 - auroc: 0.8878 - recall: 0.6932 - val_loss: 0.4164 - val_acc: 0.8369 - val_mean_pred: 0.4060 - val_fmeasure: 0.7254 - val_precision: 0.9098 - val_auroc: 0.8888 - val_recall: 0.6033\n",
            "Epoch 6/15\n",
            "14602/14602 [==============================] - 46s 3ms/step - loss: 0.3674 - acc: 0.8277 - mean_pred: 0.3600 - fmeasure: 0.7407 - precision: 0.8129 - auroc: 0.8896 - recall: 0.6850 - val_loss: 0.3980 - val_acc: 0.8418 - val_mean_pred: 0.4085 - val_fmeasure: 0.7538 - val_precision: 0.8480 - val_auroc: 0.8907 - val_recall: 0.6786\n",
            "Epoch 7/15\n",
            "14602/14602 [==============================] - 45s 3ms/step - loss: 0.3648 - acc: 0.8284 - mean_pred: 0.3615 - fmeasure: 0.7411 - precision: 0.8168 - auroc: 0.8916 - recall: 0.6823 - val_loss: 0.4021 - val_acc: 0.8394 - val_mean_pred: 0.4131 - val_fmeasure: 0.7617 - val_precision: 0.8096 - val_auroc: 0.8923 - val_recall: 0.7194\n",
            "Epoch 8/15\n",
            "14602/14602 [==============================] - 44s 3ms/step - loss: 0.3627 - acc: 0.8321 - mean_pred: 0.3603 - fmeasure: 0.7471 - precision: 0.8205 - auroc: 0.8931 - recall: 0.6891 - val_loss: 0.3990 - val_acc: 0.8475 - val_mean_pred: 0.4101 - val_fmeasure: 0.7578 - val_precision: 0.8753 - val_auroc: 0.8937 - val_recall: 0.6682\n",
            "Epoch 9/15\n",
            "14602/14602 [==============================] - 45s 3ms/step - loss: 0.3620 - acc: 0.8329 - mean_pred: 0.3610 - fmeasure: 0.7457 - precision: 0.8288 - auroc: 0.8943 - recall: 0.6819 - val_loss: 0.3809 - val_acc: 0.8502 - val_mean_pred: 0.4115 - val_fmeasure: 0.7736 - val_precision: 0.8392 - val_auroc: 0.8949 - val_recall: 0.7177\n",
            "Epoch 10/15\n",
            "14602/14602 [==============================] - 45s 3ms/step - loss: 0.3608 - acc: 0.8321 - mean_pred: 0.3602 - fmeasure: 0.7456 - precision: 0.8252 - auroc: 0.8955 - recall: 0.6836 - val_loss: 0.3968 - val_acc: 0.8458 - val_mean_pred: 0.4110 - val_fmeasure: 0.7652 - val_precision: 0.8378 - val_auroc: 0.8959 - val_recall: 0.7044\n",
            "Epoch 11/15\n",
            "14602/14602 [==============================] - 45s 3ms/step - loss: 0.3604 - acc: 0.8338 - mean_pred: 0.3615 - fmeasure: 0.7454 - precision: 0.8352 - auroc: 0.8962 - recall: 0.6758 - val_loss: 0.3869 - val_acc: 0.8308 - val_mean_pred: 0.4377 - val_fmeasure: 0.7734 - val_precision: 0.7412 - val_auroc: 0.8967 - val_recall: 0.8092\n",
            "Epoch 12/15\n",
            "14602/14602 [==============================] - 45s 3ms/step - loss: 0.3582 - acc: 0.8345 - mean_pred: 0.3622 - fmeasure: 0.7487 - precision: 0.8294 - auroc: 0.8971 - recall: 0.6852 - val_loss: 0.3874 - val_acc: 0.8502 - val_mean_pred: 0.4039 - val_fmeasure: 0.7640 - val_precision: 0.8720 - val_auroc: 0.8974 - val_recall: 0.6799\n",
            "Epoch 13/15\n",
            "14602/14602 [==============================] - 45s 3ms/step - loss: 0.3572 - acc: 0.8363 - mean_pred: 0.3602 - fmeasure: 0.7512 - precision: 0.8333 - auroc: 0.8979 - recall: 0.6868 - val_loss: 0.4014 - val_acc: 0.8288 - val_mean_pred: 0.4471 - val_fmeasure: 0.7704 - val_precision: 0.7394 - val_auroc: 0.8981 - val_recall: 0.8050\n",
            "Epoch 14/15\n",
            "14602/14602 [==============================] - 44s 3ms/step - loss: 0.3591 - acc: 0.8333 - mean_pred: 0.3633 - fmeasure: 0.7497 - precision: 0.8219 - auroc: 0.8983 - recall: 0.6939 - val_loss: 0.3742 - val_acc: 0.8496 - val_mean_pred: 0.4145 - val_fmeasure: 0.7721 - val_precision: 0.8402 - val_auroc: 0.8986 - val_recall: 0.7144\n",
            "Epoch 15/15\n",
            "14602/14602 [==============================] - 44s 3ms/step - loss: 0.3558 - acc: 0.8376 - mean_pred: 0.3605 - fmeasure: 0.7527 - precision: 0.8368 - auroc: 0.8990 - recall: 0.6863 - val_loss: 0.3807 - val_acc: 0.8485 - val_mean_pred: 0.4148 - val_fmeasure: 0.7737 - val_precision: 0.8291 - val_auroc: 0.8993 - val_recall: 0.7255\n"
          ],
          "name": "stdout"
        }
      ]
    },
    {
      "cell_type": "markdown",
      "metadata": {
        "colab_type": "text",
        "id": "fYu67EZr7j2l"
      },
      "source": [
        ""
      ]
    },
    {
      "cell_type": "code",
      "metadata": {
        "colab_type": "code",
        "id": "gCP_XdnG7j-6",
        "colab": {},
        "outputId": "0bb25166-d0b1-489e-b6d5-9f42d673fa26"
      },
      "source": [
        "#train\n",
        "Bil_LSTM_Word2Vec_train_score = Bil_LSTM_Word2Vec_model.evaluate(X_train, y_train, batch_size=batch_size2, verbose=1)\n",
        "print('Train Loss:', LSTM_Word2Vec_train_score[0])\n",
        "print('Train Accuracy:', LSTM_Word2Vec_train_score[1])\n",
        "\n",
        "#test\n",
        "Bil_LSTM_Word2Vec_test_score = Bil_LSTM_Word2Vec_model.evaluate(X_test, y_test, batch_size=batch_size2, verbose=1)\n",
        "print('Test Loss:', LSTM_Word2Vec_test_score[0])\n",
        "print('Test Accuracy:', LSTM_Word2Vec_test_score[1])"
      ],
      "execution_count": 0,
      "outputs": [
        {
          "output_type": "stream",
          "text": [
            ""
          ],
          "name": "stdout"
        },
        {
          "output_type": "stream",
          "text": [
            "16225/16225 [==============================] - 14s 841us/step\n",
            "Train Loss: 0.3863396938923511\n",
            "Train Accuracy: 0.8462660639421966\n",
            "6234/6234 [==============================] - 5s 814us/step\n",
            "Test Loss: 0.3902591585654038\n",
            "Test Accuracy: 0.8264624084040336\n"
          ],
          "name": "stdout"
        }
      ]
    },
    {
      "cell_type": "markdown",
      "metadata": {
        "colab_type": "text",
        "id": "eI16XUai7FNZ"
      },
      "source": [
        "### Plot Training & Validation Accuracy with the Loss values of the Bidirectional LSTM-Word2Vec Model\n"
      ]
    },
    {
      "cell_type": "code",
      "metadata": {
        "colab_type": "code",
        "id": "XR1AxeOZ7JlT",
        "colab": {},
        "outputId": "fa34d5e8-8ccf-4226-8300-b42333aa8fb8"
      },
      "source": [
        "\n",
        "# Plot training & validation accuracy values\n",
        "plt.plot(Bil_LSTM_Word2Vec_model_fit.history['acc'])\n",
        "plt.plot(Bil_LSTM_Word2Vec_model_fit.history['val_acc'])\n",
        "plt.title('Bidirecitonal LSTM-Word2Vec Model accuracy')\n",
        "plt.ylabel('Accuracy')\n",
        "plt.xlabel('Epoch')\n",
        "plt.legend(['Training Accuracy', 'Validation Accuracy'], loc='upper left')\n",
        "plt.show()\n",
        "\n",
        "# Plot training & validation loss values\n",
        "plt.plot(Bil_LSTM_Word2Vec_model_fit.history['loss'])\n",
        "plt.plot(Bil_LSTM_Word2Vec_model_fit.history['val_loss'])\n",
        "plt.title('Bidirecitonal LSTM-Word2Vec Model loss')\n",
        "plt.ylabel('Loss')\n",
        "plt.xlabel('Epoch')\n",
        "plt.legend(['Training Loss', 'Validation Loss'], loc='lower right')\n",
        "plt.show()"
      ],
      "execution_count": 0,
      "outputs": [
        {
          "output_type": "display_data",
          "data": {
            "image/png": "[encoded data removed]",
            "text/plain": [
              "<Figure size 432x288 with 1 Axes>"
            ]
          },
          "metadata": {
            "tags": [],
            "needs_background": "light"
          }
        },
        {
          "output_type": "display_data",
          "data": {
            "image/png": "[encoded data removed]",
            "text/plain": [
              "<Figure size 432x288 with 1 Axes>"
            ]
          },
          "metadata": {
            "tags": [],
            "needs_background": "light"
          }
        }
      ]
    },
    {
      "cell_type": "markdown",
      "metadata": {
        "colab_type": "text",
        "id": "BSXqTvWy8OgK"
      },
      "source": [
        "## 5) Gated Recurrent (GRU) with Word2Vec"
      ]
    },
    {
      "cell_type": "code",
      "metadata": {
        "colab_type": "code",
        "id": "h_4GSFY88SEZ",
        "colab": {}
      },
      "source": [
        "sequence_input = Input(shape=(max_len, ))\n",
        "model = Embedding(input_dim =word2Vec_embedding_matrix.shape[0], input_length=max_len, output_dim=word2Vec_embedding_matrix.shape[1],weights=[word2Vec_embedding_matrix], trainable=False)(sequence_input)\n",
        "model = SpatialDropout1D(0.2)(model)\n",
        "model = GRU(128, return_sequences=True,dropout=0.1,recurrent_dropout=0.1)(model)\n",
        "model = Conv1D(64, kernel_size = 3, padding = \"valid\", kernel_initializer = \"glorot_uniform\")(model)\n",
        "avg_pool = GlobalAveragePooling1D()(model)\n",
        "max_pool = GlobalMaxPooling1D()(model)\n",
        "model = concatenate([avg_pool, max_pool]) \n",
        "preds = Dense(6, activation=\"sigmoid\")(model)\n",
        "GRU_Word2Vec_model = Model(sequence_input, preds)\n",
        "GRU_Word2Vec_model.compile(loss='binary_crossentropy',optimizer=Adam(lr=1e-3),metrics=['accuracy', mean_pred, fmeasure, precision, auroc, recall])\n"
      ],
      "execution_count": 0,
      "outputs": []
    },
    {
      "cell_type": "markdown",
      "metadata": {
        "colab_type": "text",
        "id": "-03OfHyc8bk9"
      },
      "source": [
        "### Visualize the Orchestrated GRU+Word2Vec Model Architecture"
      ]
    },
    {
      "cell_type": "code",
      "metadata": {
        "colab_type": "code",
        "id": "eJ5XgJTk8gn1",
        "colab": {},
        "outputId": "bfa25999-e059-477f-b94d-beec1007eca2"
      },
      "source": [
        "GRU_Word2Vec_model.summary()\n",
        "\n",
        "#plot the GRU model architecture\n",
        "\n",
        "#plot_model(GRU_Word2Vec_model, to_file='GRU_Word2Vec_model_plot.png', show_shapes=True, show_layer_names=True)\n",
        "#Image(retina=True, filename='GRU_Word2Vec_model_plot.png')"
      ],
      "execution_count": 0,
      "outputs": [
        {
          "output_type": "stream",
          "text": [
            "__________________________________________________________________________________________________\n",
            "Layer (type)                    Output Shape         Param #     Connected to                     \n",
            "==================================================================================================\n",
            "input_1 (InputLayer)            (None, 200)          0                                            \n",
            "__________________________________________________________________________________________________\n",
            "embedding_5 (Embedding)         (None, 200, 128)     4719488     input_1[0][0]                    \n",
            "__________________________________________________________________________________________________\n",
            "spatial_dropout1d_5 (SpatialDro (None, 200, 128)     0           embedding_5[0][0]                \n",
            "__________________________________________________________________________________________________\n",
            "gru_1 (GRU)                     (None, 200, 128)     98688       spatial_dropout1d_5[0][0]        \n",
            "__________________________________________________________________________________________________\n",
            "conv1d_2 (Conv1D)               (None, 198, 64)      24640       gru_1[0][0]                      \n",
            "__________________________________________________________________________________________________\n",
            "global_average_pooling1d_1 (Glo (None, 64)           0           conv1d_2[0][0]                   \n",
            "__________________________________________________________________________________________________\n",
            "global_max_pooling1d_5 (GlobalM (None, 64)           0           conv1d_2[0][0]                   \n",
            "__________________________________________________________________________________________________\n",
            "concatenate_1 (Concatenate)     (None, 128)          0           global_average_pooling1d_1[0][0] \n",
            "                                                                 global_max_pooling1d_5[0][0]     \n",
            "__________________________________________________________________________________________________\n",
            "dense_9 (Dense)                 (None, 6)            774         concatenate_1[0][0]              \n",
            "==================================================================================================\n",
            "Total params: 4,843,590\n",
            "Trainable params: 124,102\n",
            "Non-trainable params: 4,719,488\n",
            "__________________________________________________________________________________________________\n"
          ],
          "name": "stdout"
        }
      ]
    },
    {
      "cell_type": "code",
      "metadata": {
        "colab_type": "code",
        "id": "VkPgJqDb8rw1",
        "colab": {},
        "outputId": "c9d3d5a9-6f02-4e0b-b5dc-a574100caa64"
      },
      "source": [
        "GRU_Word2Vec_model_fit = GRU_Word2Vec_model.fit(X_tra, y_tra, batch_size=batch_size2, epochs=num_epochs, validation_data=(X_val, y_val))"
      ],
      "execution_count": 0,
      "outputs": [
        {
          "output_type": "stream",
          "text": [
            "Train on 14602 samples, validate on 1623 samples\n",
            "Epoch 1/15\n",
            "14602/14602 [==============================] - 113s 8ms/step - loss: 0.4143 - acc: 0.7942 - mean_pred: 0.3694 - fmeasure: 0.7089 - precision: 0.7344 - auroc: 0.8380 - recall: 0.7000 - val_loss: 0.3710 - val_acc: 0.8210 - val_mean_pred: 0.3632 - val_fmeasure: 0.7420 - val_precision: 0.7655 - val_auroc: 0.8747 - val_recall: 0.7206\n",
            "Epoch 2/15\n",
            "14602/14602 [==============================] - 130s 9ms/step - loss: 0.3768 - acc: 0.8220 - mean_pred: 0.3618 - fmeasure: 0.7394 - precision: 0.7865 - auroc: 0.8818 - recall: 0.7021 - val_loss: 0.3567 - val_acc: 0.8330 - val_mean_pred: 0.3638 - val_fmeasure: 0.7532 - val_precision: 0.7981 - val_auroc: 0.8869 - val_recall: 0.7137\n",
            "Epoch 3/15\n",
            "14602/14602 [==============================] - 142s 10ms/step - loss: 0.3646 - acc: 0.8313 - mean_pred: 0.3625 - fmeasure: 0.7491 - precision: 0.8107 - auroc: 0.8903 - recall: 0.6997 - val_loss: 0.3515 - val_acc: 0.8368 - val_mean_pred: 0.3459 - val_fmeasure: 0.7403 - val_precision: 0.8577 - val_auroc: 0.8931 - val_recall: 0.6515\n",
            "Epoch 4/15\n",
            "14602/14602 [==============================] - 169s 12ms/step - loss: 0.3606 - acc: 0.8331 - mean_pred: 0.3618 - fmeasure: 0.7518 - precision: 0.8158 - auroc: 0.8951 - recall: 0.7029 - val_loss: 0.3431 - val_acc: 0.8421 - val_mean_pred: 0.3596 - val_fmeasure: 0.7589 - val_precision: 0.8345 - val_auroc: 0.8967 - val_recall: 0.6961\n",
            "Epoch 5/15\n",
            "14602/14602 [==============================] - 183s 13ms/step - loss: 0.3514 - acc: 0.8422 - mean_pred: 0.3624 - fmeasure: 0.7636 - precision: 0.8315 - auroc: 0.8984 - recall: 0.7077 - val_loss: 0.3435 - val_acc: 0.8437 - val_mean_pred: 0.3296 - val_fmeasure: 0.7475 - val_precision: 0.8832 - val_auroc: 0.8999 - val_recall: 0.6481\n",
            "Epoch 6/15\n",
            "14602/14602 [==============================] - 177s 12ms/step - loss: 0.3457 - acc: 0.8459 - mean_pred: 0.3597 - fmeasure: 0.7689 - precision: 0.8395 - auroc: 0.9014 - recall: 0.7124 - val_loss: 0.3348 - val_acc: 0.8493 - val_mean_pred: 0.3597 - val_fmeasure: 0.7687 - val_precision: 0.8499 - val_auroc: 0.9026 - val_recall: 0.7020\n",
            "Epoch 7/15\n",
            "14602/14602 [==============================] - 160s 11ms/step - loss: 0.3404 - acc: 0.8498 - mean_pred: 0.3623 - fmeasure: 0.7761 - precision: 0.8414 - auroc: 0.9039 - recall: 0.7222 - val_loss: 0.3336 - val_acc: 0.8512 - val_mean_pred: 0.3604 - val_fmeasure: 0.7741 - val_precision: 0.8460 - val_auroc: 0.9049 - val_recall: 0.7137\n",
            "Epoch 8/15\n",
            "14602/14602 [==============================] - 157s 11ms/step - loss: 0.3362 - acc: 0.8528 - mean_pred: 0.3606 - fmeasure: 0.7802 - precision: 0.8469 - auroc: 0.9060 - recall: 0.7249 - val_loss: 0.3358 - val_acc: 0.8521 - val_mean_pred: 0.3369 - val_fmeasure: 0.7685 - val_precision: 0.8724 - val_auroc: 0.9069 - val_recall: 0.6869\n",
            "Epoch 9/15\n",
            "14602/14602 [==============================] - 160s 11ms/step - loss: 0.3319 - acc: 0.8553 - mean_pred: 0.3598 - fmeasure: 0.7835 - precision: 0.8521 - auroc: 0.9079 - recall: 0.7269 - val_loss: 0.3290 - val_acc: 0.8530 - val_mean_pred: 0.3661 - val_fmeasure: 0.7808 - val_precision: 0.8357 - val_auroc: 0.9087 - val_recall: 0.7330\n",
            "Epoch 10/15\n",
            "14602/14602 [==============================] - 158s 11ms/step - loss: 0.3289 - acc: 0.8564 - mean_pred: 0.3612 - fmeasure: 0.7858 - precision: 0.8512 - auroc: 0.9096 - recall: 0.7307 - val_loss: 0.3300 - val_acc: 0.8512 - val_mean_pred: 0.3776 - val_fmeasure: 0.7840 - val_precision: 0.8145 - val_auroc: 0.9103 - val_recall: 0.7560\n",
            "Epoch 11/15\n",
            "14602/14602 [==============================] - 160s 11ms/step - loss: 0.3257 - acc: 0.8582 - mean_pred: 0.3614 - fmeasure: 0.7890 - precision: 0.8529 - auroc: 0.9110 - recall: 0.7350 - val_loss: 0.3285 - val_acc: 0.8566 - val_mean_pred: 0.3401 - val_fmeasure: 0.7749 - val_precision: 0.8820 - val_auroc: 0.9117 - val_recall: 0.6913\n",
            "Epoch 12/15\n",
            "14602/14602 [==============================] - 162s 11ms/step - loss: 0.3235 - acc: 0.8591 - mean_pred: 0.3605 - fmeasure: 0.7895 - precision: 0.8567 - auroc: 0.9123 - recall: 0.7335 - val_loss: 0.3277 - val_acc: 0.8564 - val_mean_pred: 0.3416 - val_fmeasure: 0.7782 - val_precision: 0.8686 - val_auroc: 0.9129 - val_recall: 0.7050\n",
            "Epoch 13/15\n",
            "14602/14602 [==============================] - 158s 11ms/step - loss: 0.3207 - acc: 0.8608 - mean_pred: 0.3614 - fmeasure: 0.7926 - precision: 0.8578 - auroc: 0.9136 - recall: 0.7380 - val_loss: 0.3262 - val_acc: 0.8579 - val_mean_pred: 0.3413 - val_fmeasure: 0.7781 - val_precision: 0.8793 - val_auroc: 0.9141 - val_recall: 0.6981\n",
            "Epoch 14/15\n",
            "14602/14602 [==============================] - 156s 11ms/step - loss: 0.3180 - acc: 0.8622 - mean_pred: 0.3612 - fmeasure: 0.7953 - precision: 0.8582 - auroc: 0.9147 - recall: 0.7421 - val_loss: 0.3324 - val_acc: 0.8577 - val_mean_pred: 0.3185 - val_fmeasure: 0.7740 - val_precision: 0.8941 - val_auroc: 0.9152 - val_recall: 0.6827\n",
            "Epoch 15/15\n",
            "14602/14602 [==============================] - 154s 11ms/step - loss: 0.3158 - acc: 0.8629 - mean_pred: 0.3592 - fmeasure: 0.7954 - precision: 0.8623 - auroc: 0.9157 - recall: 0.7395 - val_loss: 0.3254 - val_acc: 0.8610 - val_mean_pred: 0.3374 - val_fmeasure: 0.7867 - val_precision: 0.8704 - val_auroc: 0.9162 - val_recall: 0.7180\n"
          ],
          "name": "stdout"
        }
      ]
    },
    {
      "cell_type": "markdown",
      "metadata": {
        "colab_type": "text",
        "id": "vJ9O6m_aCX1d"
      },
      "source": [
        "### Evaluate the GRU+Word2Vec Model train and test score"
      ]
    },
    {
      "cell_type": "code",
      "metadata": {
        "colab_type": "code",
        "id": "uRtKCX_GCcBD",
        "colab": {},
        "outputId": "82e14378-5369-45d6-d37f-7449159adb6b"
      },
      "source": [
        "#Train\n",
        "GRU_Word2Vec_train_score = GRU_Word2Vec_model.evaluate(X_tra, y_tra, batch_size=batch_size2, verbose=1)\n",
        "print('Train Loss:', GRU_Word2Vec_train_score[0])\n",
        "print('Train Accuracy:', GRU_Word2Vec_train_score[1])\n",
        "\n",
        "#Test\n",
        "GRU_Word2Vec_test_score = GRU_Word2Vec_model.evaluate(X_test, y_test, batch_size=batch_size2, verbose=1)\n",
        "print('Test Loss:', GRU_Word2Vec_test_score[0])\n",
        "print('Test Accuracy:', GRU_Word2Vec_test_score[1])"
      ],
      "execution_count": 0,
      "outputs": [
        {
          "output_type": "stream",
          "text": [
            ""
          ],
          "name": "stdout"
        },
        {
          "output_type": "stream",
          "text": [
            "14602/14602 [==============================] - 41s 3ms/step\n",
            "Train Loss: 0.3071090315747075\n",
            "Train Accuracy: 0.8679861519666848\n",
            "6234/6234 [==============================] - 18s 3ms/step\n",
            "Test Loss: 0.3367581985338705\n",
            "Test Accuracy: 0.8440541280818972\n"
          ],
          "name": "stdout"
        }
      ]
    },
    {
      "cell_type": "markdown",
      "metadata": {
        "colab_type": "text",
        "id": "cuGXJb7s8yRo"
      },
      "source": [
        "### Plot Training & Validation Accuracy with the Loss values of the GRU+ Word2Vec Model"
      ]
    },
    {
      "cell_type": "code",
      "metadata": {
        "colab_type": "code",
        "id": "fOZKDDsmDIS7",
        "colab": {},
        "outputId": "d8ee3bcb-9cc7-4f65-ab06-5e0d56dcafaa"
      },
      "source": [
        "# Plot training & validation accuracy values\n",
        "plt.plot(GRU_Word2Vec_model_fit.history['acc'])\n",
        "plt.plot(GRU_Word2Vec_model_fit.history['val_acc'])\n",
        "plt.title('Gated Recurrent Unit (GRU) with Word2Vec Model accuracy')\n",
        "plt.ylabel('Accuracy')\n",
        "plt.xlabel('Epoch')\n",
        "plt.legend(['Training Accuracy', 'Validation Accuracy'], loc='upper left')\n",
        "plt.show()\n",
        "\n",
        "# Plot training & validation loss values\n",
        "plt.plot(GRU_Word2Vec_model_fit.history['loss'])\n",
        "plt.plot(GRU_Word2Vec_model_fit.history['val_loss'])\n",
        "plt.title('Bidirectional Gated Recurrent Unit (GRU) with Word2Vec Model loss')\n",
        "plt.ylabel('Loss')\n",
        "plt.xlabel('Epoch')\n",
        "plt.legend(['Training Loss', 'Validation Loss'], loc='lower right')\n",
        "plt.show()"
      ],
      "execution_count": 0,
      "outputs": [
        {
          "output_type": "display_data",
          "data": {
            "image/png": "[encoded data removed]",
            "text/plain": [
              "<Figure size 432x288 with 1 Axes>"
            ]
          },
          "metadata": {
            "tags": [],
            "needs_background": "light"
          }
        },
        {
          "output_type": "display_data",
          "data": {
            "image/png": "[encoded data removed]",
            "text/plain": [
              "<Figure size 432x288 with 1 Axes>"
            ]
          },
          "metadata": {
            "tags": [],
            "needs_background": "light"
          }
        }
      ]
    },
    {
      "cell_type": "markdown",
      "metadata": {
        "colab_type": "text",
        "id": "IZ9nxeOADSvV"
      },
      "source": [
        "## 6) Bidirectional Gated Recurrent (GRU) + Word2Vec"
      ]
    },
    {
      "cell_type": "code",
      "metadata": {
        "colab_type": "code",
        "id": "pvRcwl9CDWaq",
        "colab": {}
      },
      "source": [
        "sequence_input = Input(shape=(max_len, ))\n",
        "model = Embedding(input_dim =word2Vec_embedding_matrix.shape[0], input_length=max_len, output_dim=word2Vec_embedding_matrix.shape[1],weights=[word2Vec_embedding_matrix], trainable=False)(sequence_input)\n",
        "model = SpatialDropout1D(0.2)(model)\n",
        "model = Bidirectional(GRU(128, return_sequences=True,dropout=0.1,recurrent_dropout=0.1))(model)\n",
        "model = Conv1D(64, kernel_size = 3, padding = \"valid\", kernel_initializer = \"glorot_uniform\")(model)\n",
        "avg_pool = GlobalAveragePooling1D()(model)\n",
        "max_pool = GlobalMaxPooling1D()(model)\n",
        "model = concatenate([avg_pool, max_pool]) \n",
        "preds = Dense(6, activation=\"sigmoid\")(model)\n",
        "Bil_GRU_Word2Vec_model = Model(sequence_input, preds)\n",
        "Bil_GRU_Word2Vec_model.compile(loss='binary_crossentropy',optimizer=Adam(lr=1e-3),metrics=['accuracy', mean_pred, fmeasure, precision, auroc, recall])"
      ],
      "execution_count": 0,
      "outputs": []
    },
    {
      "cell_type": "markdown",
      "metadata": {
        "colab_type": "text",
        "id": "bf8J5uY0DdMw"
      },
      "source": [
        "### Visualize the Orchestrated Bidirectional GRU+Word2Vec Model Architecture\n",
        "\n",
        "\n"
      ]
    },
    {
      "cell_type": "code",
      "metadata": {
        "colab_type": "code",
        "id": "dCKyC29LDhC6",
        "colab": {},
        "outputId": "9bb6516a-ac46-4d13-d9a4-3f0a55b22d78"
      },
      "source": [
        "Bil_GRU_Word2Vec_model.summary()\n",
        "\n",
        "#plot the GRU model architecture\n",
        "\n",
        "#plot_model(Bil_GRU_Word2Vec_model, to_file='Bil_GRU_Word2vec_model_plot.png', show_shapes=True, show_layer_names=True)\n",
        "#Image(retina=True, filename='Bil_GRU_Word2Vec_model_plot.png') "
      ],
      "execution_count": 0,
      "outputs": [
        {
          "output_type": "stream",
          "text": [
            "__________________________________________________________________________________________________\n",
            "Layer (type)                    Output Shape         Param #     Connected to                     \n",
            "==================================================================================================\n",
            "input_2 (InputLayer)            (None, 200)          0                                            \n",
            "__________________________________________________________________________________________________\n",
            "embedding_6 (Embedding)         (None, 200, 128)     4719488     input_2[0][0]                    \n",
            "__________________________________________________________________________________________________\n",
            "spatial_dropout1d_6 (SpatialDro (None, 200, 128)     0           embedding_6[0][0]                \n",
            "__________________________________________________________________________________________________\n",
            "bidirectional_2 (Bidirectional) (None, 200, 256)     197376      spatial_dropout1d_6[0][0]        \n",
            "__________________________________________________________________________________________________\n",
            "conv1d_3 (Conv1D)               (None, 198, 64)      49216       bidirectional_2[0][0]            \n",
            "__________________________________________________________________________________________________\n",
            "global_average_pooling1d_2 (Glo (None, 64)           0           conv1d_3[0][0]                   \n",
            "__________________________________________________________________________________________________\n",
            "global_max_pooling1d_6 (GlobalM (None, 64)           0           conv1d_3[0][0]                   \n",
            "__________________________________________________________________________________________________\n",
            "concatenate_2 (Concatenate)     (None, 128)          0           global_average_pooling1d_2[0][0] \n",
            "                                                                 global_max_pooling1d_6[0][0]     \n",
            "__________________________________________________________________________________________________\n",
            "dense_10 (Dense)                (None, 6)            774         concatenate_2[0][0]              \n",
            "==================================================================================================\n",
            "Total params: 4,966,854\n",
            "Trainable params: 247,366\n",
            "Non-trainable params: 4,719,488\n",
            "__________________________________________________________________________________________________\n"
          ],
          "name": "stdout"
        }
      ]
    },
    {
      "cell_type": "code",
      "metadata": {
        "colab_type": "code",
        "id": "w7knCoAID24C",
        "colab": {},
        "outputId": "137a0ff5-6e41-41ae-ec81-6fa7370ed227"
      },
      "source": [
        "Bil_GRU_Word2Vec_model_fit = Bil_GRU_Word2Vec_model.fit(X_tra, y_tra, batch_size=batch_size2, epochs=num_epochs, validation_data=(X_val, y_val))"
      ],
      "execution_count": 0,
      "outputs": [
        {
          "output_type": "stream",
          "text": [
            "Train on 14602 samples, validate on 1623 samples\n",
            "Epoch 1/15\n",
            "14602/14602 [==============================] - 444s 30ms/step - loss: 0.4011 - acc: 0.8026 - mean_pred: 0.3653 - fmeasure: 0.7159 - precision: 0.7501 - auroc: 0.8546 - recall: 0.6960 - val_loss: 0.3588 - val_acc: 0.8312 - val_mean_pred: 0.3616 - val_fmeasure: 0.7599 - val_precision: 0.7725 - val_auroc: 0.8828 - val_recall: 0.7485\n",
            "Epoch 2/15\n",
            "14602/14602 [==============================] - 538s 37ms/step - loss: 0.3663 - acc: 0.8288 - mean_pred: 0.3612 - fmeasure: 0.7424 - precision: 0.8140 - auroc: 0.8886 - recall: 0.6856 - val_loss: 0.3478 - val_acc: 0.8403 - val_mean_pred: 0.3485 - val_fmeasure: 0.7471 - val_precision: 0.8600 - val_auroc: 0.8936 - val_recall: 0.6607\n",
            "Epoch 3/15\n",
            "14602/14602 [==============================] - 603s 41ms/step - loss: 0.3554 - acc: 0.8393 - mean_pred: 0.3608 - fmeasure: 0.7581 - precision: 0.8307 - auroc: 0.8965 - recall: 0.7006 - val_loss: 0.3406 - val_acc: 0.8479 - val_mean_pred: 0.3465 - val_fmeasure: 0.7656 - val_precision: 0.8514 - val_auroc: 0.8994 - val_recall: 0.6958\n",
            "Epoch 4/15\n",
            "14602/14602 [==============================] - 654s 45ms/step - loss: 0.3462 - acc: 0.8459 - mean_pred: 0.3612 - fmeasure: 0.7703 - precision: 0.8350 - auroc: 0.9018 - recall: 0.7178 - val_loss: 0.3319 - val_acc: 0.8543 - val_mean_pred: 0.3503 - val_fmeasure: 0.7747 - val_precision: 0.8649 - val_auroc: 0.9036 - val_recall: 0.7018\n",
            "Epoch 5/15\n",
            "14602/14602 [==============================] - 681s 47ms/step - loss: 0.3404 - acc: 0.8497 - mean_pred: 0.3599 - fmeasure: 0.7754 - precision: 0.8436 - auroc: 0.9052 - recall: 0.7199 - val_loss: 0.3337 - val_acc: 0.8537 - val_mean_pred: 0.3808 - val_fmeasure: 0.7848 - val_precision: 0.8264 - val_auroc: 0.9067 - val_recall: 0.7476\n",
            "Epoch 6/15\n",
            "14602/14602 [==============================] - 679s 47ms/step - loss: 0.3331 - acc: 0.8542 - mean_pred: 0.3608 - fmeasure: 0.7820 - precision: 0.8487 - auroc: 0.9081 - recall: 0.7261 - val_loss: 0.3270 - val_acc: 0.8571 - val_mean_pred: 0.3552 - val_fmeasure: 0.7826 - val_precision: 0.8566 - val_auroc: 0.9093 - val_recall: 0.7208\n",
            "Epoch 7/15\n",
            "14602/14602 [==============================] - 683s 47ms/step - loss: 0.3292 - acc: 0.8555 - mean_pred: 0.3612 - fmeasure: 0.7844 - precision: 0.8500 - auroc: 0.9105 - recall: 0.7294 - val_loss: 0.3267 - val_acc: 0.8581 - val_mean_pred: 0.3451 - val_fmeasure: 0.7804 - val_precision: 0.8725 - val_auroc: 0.9114 - val_recall: 0.7062\n",
            "Epoch 8/15\n",
            "14602/14602 [==============================] - 685s 47ms/step - loss: 0.3256 - acc: 0.8576 - mean_pred: 0.3608 - fmeasure: 0.7881 - precision: 0.8515 - auroc: 0.9124 - recall: 0.7346 - val_loss: 0.3253 - val_acc: 0.8590 - val_mean_pred: 0.3543 - val_fmeasure: 0.7851 - val_precision: 0.8613 - val_auroc: 0.9133 - val_recall: 0.7216\n",
            "Epoch 9/15\n",
            "14602/14602 [==============================] - 634s 43ms/step - loss: 0.3200 - acc: 0.8612 - mean_pred: 0.3605 - fmeasure: 0.7936 - precision: 0.8564 - auroc: 0.9142 - recall: 0.7403 - val_loss: 0.3285 - val_acc: 0.8585 - val_mean_pred: 0.3639 - val_fmeasure: 0.7846 - val_precision: 0.8597 - val_auroc: 0.9150 - val_recall: 0.7222\n",
            "Epoch 10/15\n",
            "14602/14602 [==============================] - 559s 38ms/step - loss: 0.3190 - acc: 0.8618 - mean_pred: 0.3611 - fmeasure: 0.7944 - precision: 0.8586 - auroc: 0.9156 - recall: 0.7400 - val_loss: 0.3240 - val_acc: 0.8570 - val_mean_pred: 0.3811 - val_fmeasure: 0.7952 - val_precision: 0.8133 - val_auroc: 0.9163 - val_recall: 0.7783\n",
            "Epoch 11/15\n",
            "14602/14602 [==============================] - 566s 39ms/step - loss: 0.3168 - acc: 0.8625 - mean_pred: 0.3615 - fmeasure: 0.7960 - precision: 0.8578 - auroc: 0.9169 - recall: 0.7444 - val_loss: 0.3197 - val_acc: 0.8601 - val_mean_pred: 0.3550 - val_fmeasure: 0.7903 - val_precision: 0.8510 - val_auroc: 0.9176 - val_recall: 0.7383\n",
            "Epoch 12/15\n",
            "14602/14602 [==============================] - 560s 38ms/step - loss: 0.3094 - acc: 0.8657 - mean_pred: 0.3615 - fmeasure: 0.8012 - precision: 0.8596 - auroc: 0.9183 - recall: 0.7508 - val_loss: 0.3195 - val_acc: 0.8640 - val_mean_pred: 0.3430 - val_fmeasure: 0.7919 - val_precision: 0.8736 - val_auroc: 0.9189 - val_recall: 0.7245\n",
            "Epoch 13/15\n",
            "14602/14602 [==============================] - 555s 38ms/step - loss: 0.3099 - acc: 0.8659 - mean_pred: 0.3605 - fmeasure: 0.8020 - precision: 0.8613 - auroc: 0.9195 - recall: 0.7528 - val_loss: 0.3234 - val_acc: 0.8627 - val_mean_pred: 0.3280 - val_fmeasure: 0.7829 - val_precision: 0.8994 - val_auroc: 0.9200 - val_recall: 0.6934\n",
            "Epoch 14/15\n",
            "14602/14602 [==============================] - 551s 38ms/step - loss: 0.3053 - acc: 0.8683 - mean_pred: 0.3607 - fmeasure: 0.8051 - precision: 0.8644 - auroc: 0.9205 - recall: 0.7549 - val_loss: 0.3172 - val_acc: 0.8642 - val_mean_pred: 0.3401 - val_fmeasure: 0.7923 - val_precision: 0.8729 - val_auroc: 0.9211 - val_recall: 0.7258\n",
            "Epoch 15/15\n",
            "14602/14602 [==============================] - 566s 39ms/step - loss: 0.3031 - acc: 0.8696 - mean_pred: 0.3618 - fmeasure: 0.8073 - precision: 0.8647 - auroc: 0.9216 - recall: 0.7577 - val_loss: 0.3249 - val_acc: 0.8632 - val_mean_pred: 0.3224 - val_fmeasure: 0.7849 - val_precision: 0.8955 - val_auroc: 0.9221 - val_recall: 0.6989\n"
          ],
          "name": "stdout"
        }
      ]
    },
    {
      "cell_type": "markdown",
      "metadata": {
        "colab_type": "text",
        "id": "3j0Uf_3CD9pI"
      },
      "source": [
        "### Evaluate the GRU+Word2Vec Model train and test score"
      ]
    },
    {
      "cell_type": "code",
      "metadata": {
        "colab_type": "code",
        "id": "Q9vJoSUgEBte",
        "colab": {},
        "outputId": "f4f49caf-aef1-4764-8b1a-2342f48298fb"
      },
      "source": [
        "#Train\n",
        "Bil_GRU_Word2Vec_train_score = Bil_GRU_Word2Vec_model.evaluate(X_train, y_train, batch_size=batch_size2, verbose=1)\n",
        "print('Train Loss:', Bil_GRU_Word2Vec_train_score[0])\n",
        "print('Train Accuracy:', Bil_GRU_Word2Vec_train_score[1])\n",
        "\n",
        "#Test\n",
        "Bil_GRU_Word2Vec_test_score = Bil_GRU_Word2Vec_model.evaluate(X_test, y_test, batch_size=batch_size2, verbose=1)\n",
        "print('Test Loss:', Bil_GRU_Word2Vec_test_score[0])\n",
        "print('Test Accuracy:', Bil_GRU_Word2Vec_test_score[1])"
      ],
      "execution_count": 0,
      "outputs": [
        {
          "output_type": "stream",
          "text": [
            ""
          ],
          "name": "stdout"
        },
        {
          "output_type": "stream",
          "text": [
            "16225/16225 [==============================] - 117s 7ms/step\n",
            "Train Loss: 0.2983849177816065\n",
            "Train Accuracy: 0.8718438890314616\n",
            "6234/6234 [==============================] - 46s 7ms/step\n",
            "Test Loss: 0.33580215566426774\n",
            "Test Accuracy: 0.8472623451611994\n"
          ],
          "name": "stdout"
        }
      ]
    },
    {
      "cell_type": "markdown",
      "metadata": {
        "colab_type": "text",
        "id": "kA0bwd7BEoTh"
      },
      "source": [
        "### Plot Training & Validation Accuracy with the Loss values of the Bil GRU + Word2Vec Model"
      ]
    },
    {
      "cell_type": "code",
      "metadata": {
        "colab_type": "code",
        "id": "TUQxDlcAEr7f",
        "colab": {},
        "outputId": "583dd779-52ae-4e93-b02e-bb72cca3e938"
      },
      "source": [
        "# Plot training & validation accuracy values\n",
        "plt.plot(Bil_GRU_Word2Vec_model_fit.history['acc'])\n",
        "plt.plot(Bil_GRU_Word2Vec_model_fit.history['val_acc'])\n",
        "plt.title(' Bidirectional Gated Recurrent Unit (GRU) with Word2Vec Model accuracy')\n",
        "plt.ylabel('Accuracy')\n",
        "plt.xlabel('Epoch')\n",
        "plt.legend(['Training Accuracy', 'Validation Accuracy'], loc='upper left')\n",
        "plt.show()\n",
        "\n",
        "# Plot training & validation loss values\n",
        "plt.plot(Bil_GRU_Word2Vec_model_fit.history['loss'])\n",
        "plt.plot(Bil_GRU_Word2Vec_model_fit.history['val_loss'])\n",
        "plt.title('Bidirectional Gated Recurrent Unit (GRU) with Word2Vec Model loss')\n",
        "plt.ylabel('Loss')\n",
        "plt.xlabel('Epoch')\n",
        "plt.legend(['Training Loss', 'Validation Loss'], loc='lower right')\n",
        "plt.show()"
      ],
      "execution_count": 0,
      "outputs": [
        {
          "output_type": "display_data",
          "data": {
            "image/png": "[encoded data removed]",
            "text/plain": [
              "<Figure size 432x288 with 1 Axes>"
            ]
          },
          "metadata": {
            "tags": [],
            "needs_background": "light"
          }
        },
        {
          "output_type": "display_data",
          "data": {
            "image/png": "[encoded data removed]",
            "text/plain": [
              "<Figure size 432x288 with 1 Axes>"
            ]
          },
          "metadata": {
            "tags": [],
            "needs_background": "light"
          }
        }
      ]
    },
    {
      "cell_type": "markdown",
      "metadata": {
        "colab_type": "text",
        "id": "db28Tpnvejiq"
      },
      "source": [
        "# Evaluation of Experiment With Word2Vec Pre-trained Embedding"
      ]
    },
    {
      "cell_type": "markdown",
      "metadata": {
        "colab_type": "text",
        "id": "oh7FUzQnZ7BJ"
      },
      "source": [
        "#### Computing the highest of the evaluation matrics (per model) "
      ]
    },
    {
      "cell_type": "code",
      "metadata": {
        "colab_type": "code",
        "id": "zK_Xn0hNAKJo",
        "colab": {},
        "outputId": "062d5d06-1836-4512-d67f-292aa8159ff0"
      },
      "source": [
        "trace = go.Table(\n",
        "    header=dict(values=['Model', 'Loss', 'Accuracy', 'mean_pred', 'F-Measure', 'Precision', 'AUC'],\n",
        "                line = dict(color='#7D7F80'),\n",
        "                fill = dict(color='#a1c3d1'),\n",
        "                align = ['left'] * 5),\n",
        "    cells=dict(values=[['CNN with word2Vec', 'RNNs with word2Vec', 'LSTM with word2Vec', ' Bidirectional LSTM with word2Vec', 'GRU with word2Vec', 'Bidirectional GRU with word2Vec'],\n",
        "                       [\n",
        "                        #Loss Evaluation\n",
        "                        round(np.max(CNN_Word2Vec_model_fit.history['loss']), 3), round(np.max(RNN_Word2Vec_model_fit.history['loss']), 3), \n",
        "                        round(np.max(LSTM_Word2Vec_model_fit.history['loss']), 3), round(np.max(Bil_LSTM_Word2Vec_model_fit.history['loss']), 3), round(np.max(GRU_Word2Vec_model_fit.history['loss']), 3),\n",
        "                        round(np.max(Bil_GRU_Word2Vec_model_fit.history['loss']), 3)],\n",
        "                        \n",
        "                        #Accuracy Evaluation\n",
        "                        [round(np.max(CNN_Word2Vec_model_fit.history['acc']), 3), round(np.max(RNN_Word2Vec_model_fit.history['acc']), 3), \n",
        "                        round(np.max(LSTM_Word2Vec_model_fit.history['acc']), 3), round(np.max(Bil_LSTM_Word2Vec_model_fit.history['acc']), 3), round(np.max(GRU_Word2Vec_model_fit.history['acc']), 3),\n",
        "                        round(np.max(Bil_GRU_Word2Vec_model_fit.history['acc']), 3)],\n",
        "               \n",
        "                        #mean_pred Evaluation\n",
        "                        [round(np.max(CNN_Word2Vec_model_fit.history['mean_pred']), 3), round(np.max(RNN_Word2Vec_model_fit.history['mean_pred']), 3), \n",
        "                        round(np.max(LSTM_Word2Vec_model_fit.history['mean_pred']), 3), round(np.max(Bil_LSTM_Word2Vec_model_fit.history['mean_pred']), 3), round(np.max(GRU_Word2Vec_model_fit.history['mean_pred']), 3),\n",
        "                        round(np.max(Bil_GRU_Word2Vec_model_fit.history['mean_pred']), 3)],\n",
        "\t\t\t\t\t\t\n",
        "                        #F1-Measure Evaluation fmeasure\n",
        "                        [round(np.max(CNN_Word2Vec_model_fit.history['fmeasure']), 3), round(np.max(RNN_Word2Vec_model_fit.history['fmeasure']), 3), \n",
        "                        round(np.max(LSTM_Word2Vec_model_fit.history['fmeasure']), 3), round(np.max(Bil_LSTM_Word2Vec_model_fit.history['fmeasure']), 3), round(np.max(GRU_Word2Vec_model_fit.history['fmeasure']), 3),\n",
        "                        round(np.max(Bil_GRU_Word2Vec_model_fit.history['fmeasure']), 3)],\n",
        "\t\t\t\t\t\t             \n",
        "                        #Precision Evaluation precision\n",
        "                        [round(np.max(CNN_Word2Vec_model_fit.history['precision']), 3), round(np.max(RNN_Word2Vec_model_fit.history['precision']), 3), \n",
        "                        round(np.max(LSTM_Word2Vec_model_fit.history['precision']), 3), round(np.max(Bil_LSTM_Word2Vec_model_fit.history['precision']), 3), round(np.max(GRU_Word2Vec_model_fit.history['precision']), 3),\n",
        "                        round(np.max(Bil_GRU_Word2Vec_model_fit.history['precision']), 3)],\n",
        "\t\t\t\t\t\t\n",
        "                        #ROC AUC Evaluation auroc\n",
        "                        [round(np.max(CNN_Word2Vec_model_fit.history['auroc']), 3), round(np.max(RNN_Word2Vec_model_fit.history['auroc']), 3), \n",
        "                        round(np.max(LSTM_Word2Vec_model_fit.history['auroc']), 3), round(np.max(Bil_LSTM_Word2Vec_model_fit.history['auroc']), 3), round(np.max(GRU_Word2Vec_model_fit.history['auroc']), 3),\n",
        "                        round(np.max(Bil_GRU_Word2Vec_model_fit.history['auroc']), 3)],\n",
        "                       \n",
        "                       \n",
        "                       ],\n",
        "               line = dict(color='#7D7F80'),\n",
        "               fill = dict(color='#EDFAFF'),\n",
        "               align = ['left'] * 5))\n",
        "\n",
        "layout = dict(width=800, height=400)\n",
        "data = [trace]\n",
        "fig = dict(data=data, layout=layout)\n",
        "py.iplot(data, filename = 'Word2Vec_pre-trained_embedding_with the max of the evaluation matrics (per model) _table')"
      ],
      "execution_count": 0,
      "outputs": [
        {
          "output_type": "stream",
          "text": [
            "D:\\Program Files\\Anaconda\\lib\\site-packages\\IPython\\core\\display.py:689: UserWarning:\n",
            "\n",
            "Consider using IPython.display.IFrame instead\n",
            "\n"
          ],
          "name": "stderr"
        },
        {
          "output_type": "execute_result",
          "data": {
            "text/html": [
              "<iframe id=\"igraph\" scrolling=\"no\" style=\"border:none;\" seamless=\"seamless\" src=\"https://plot.ly/~hamzasharoon/15.embed\" height=\"525px\" width=\"100%\"></iframe>"
            ],
            "text/plain": [
              "<chart_studio.tools.PlotlyDisplay object>"
            ]
          },
          "metadata": {
            "tags": []
          },
          "execution_count": 71
        }
      ]
    },
    {
      "cell_type": "markdown",
      "metadata": {
        "colab_type": "text",
        "id": "T6TsVU-zZ-wi"
      },
      "source": [
        "#### Computing the mean average of the evaluation matrics (per model) "
      ]
    },
    {
      "cell_type": "code",
      "metadata": {
        "colab_type": "code",
        "id": "9eNLjhkoaEsX",
        "colab": {},
        "outputId": "c4134729-98fe-48a9-c9f2-0b7580c2c1a0"
      },
      "source": [
        "trace = go.Table(\n",
        "    header=dict(values=['Model', 'Loss', 'Accuracy', 'mean_pred', 'F-Measure', 'Precision', 'AUC'],\n",
        "                line = dict(color='#7D7F80'),\n",
        "                fill = dict(color='#a1c3d1'),\n",
        "                align = ['left'] * 5),\n",
        "    cells=dict(values=[['CNN with Word2Vec', 'RNNs with Word2Vec', 'LSTM with Word2Vec', ' Bidirectional LSTM with Word2Vec', 'GRU with Word2Vec', 'Bidirectional GRU with Word2Vec'],\n",
        "                       [\n",
        "                        #Loss Evaluation\n",
        "                        round(np.mean(CNN_Word2Vec_model_fit.history['loss']), 3), round(np.mean(RNN_Word2Vec_model_fit.history['loss']), 3), \n",
        "                        round(np.mean(LSTM_Word2Vec_model_fit.history['loss']), 3), round(np.mean(Bil_LSTM_Word2Vec_model_fit.history['loss']), 3), round(np.mean(GRU_Word2Vec_model_fit.history['loss']), 3),\n",
        "                        round(np.mean(Bil_GRU_Word2Vec_model_fit.history['loss']), 3)],\n",
        "                        \n",
        "                        #Accuracy Evaluation\n",
        "                        [round(np.mean(CNN_Word2Vec_model_fit.history['acc']), 3), round(np.mean(RNN_Word2Vec_model_fit.history['acc']), 3), \n",
        "                        round(np.mean(LSTM_Word2Vec_model_fit.history['loss']), 3), round(np.mean(Bil_LSTM_Word2Vec_model_fit.history['loss']), 3), round(np.mean(GRU_Word2Vec_model_fit.history['loss']), 3),\n",
        "                        round(np.mean(Bil_GRU_Word2Vec_model_fit.history['acc']), 3)],\n",
        "               \n",
        "                        #mean_pred Evaluation\n",
        "                        [round(np.mean(CNN_Word2Vec_model_fit.history['mean_pred']), 3), round(np.mean(RNN_Word2Vec_model_fit.history['mean_pred']), 3), \n",
        "                        round(np.mean(LSTM_Word2Vec_model_fit.history['mean_pred']), 3), round(np.mean(Bil_LSTM_Word2Vec_model_fit.history['mean_pred']), 3), round(np.mean(GRU_Word2Vec_model_fit.history['mean_pred']), 3),\n",
        "                        round(np.mean(Bil_GRU_Word2Vec_model_fit.history['mean_pred']), 3)],\n",
        "\t\t\t\t\t\t\n",
        "                        #F1-Measure Evaluation fmeasure\n",
        "                        [round(np.mean(CNN_Word2Vec_model_fit.history['fmeasure']), 3), round(np.mean(RNN_Word2Vec_model_fit.history['fmeasure']), 3), \n",
        "                        round(np.mean(LSTM_Word2Vec_model_fit.history['fmeasure']), 3), round(np.mean(Bil_LSTM_Word2Vec_model_fit.history['fmeasure']), 3), round(np.mean(GRU_Word2Vec_model_fit.history['fmeasure']), 3),\n",
        "                        round(np.mean(Bil_GRU_Word2Vec_model_fit.history['fmeasure']), 3)],\n",
        "\t\t\t\t\t\t             \n",
        "                        #Precision Evaluation precision\n",
        "                        [round(np.mean(CNN_Word2Vec_model_fit.history['precision']), 3), round(np.mean(RNN_Word2Vec_model_fit.history['precision']), 3), \n",
        "                        round(np.mean(LSTM_Word2Vec_model_fit.history['precision']), 3), round(np.mean(Bil_LSTM_Word2Vec_model_fit.history['precision']), 3), round(np.mean(GRU_Word2Vec_model_fit.history['precision']), 3),\n",
        "                        round(np.mean(Bil_GRU_Word2Vec_model_fit.history['precision']), 3)],\n",
        "\t\t\t\t\t\t\n",
        "                        #ROC AUC Evaluation auroc\n",
        "                        [round(np.mean(CNN_Word2Vec_model_fit.history['auroc']), 3), round(np.mean(RNN_Word2Vec_model_fit.history['auroc']), 3), \n",
        "                        round(np.mean(LSTM_Word2Vec_model_fit.history['auroc']), 3), round(np.mean(Bil_LSTM_Word2Vec_model_fit.history['auroc']), 3), round(np.mean(GRU_Word2Vec_model_fit.history['auroc']), 3),\n",
        "                        round(np.mean(Bil_GRU_Word2Vec_model_fit.history['auroc']), 3)]\n",
        "                                              ],\n",
        "               line = dict(color='#7D7F80'),\n",
        "               fill = dict(color='#EDFAFF'),\n",
        "               align = ['left'] * 5))\n",
        "\n",
        "layout = dict(width=800, height=400)\n",
        "data = [trace]\n",
        "fig = dict(data=data, layout=layout)\n",
        "py.iplot(data, filename = 'Word2Vec_trained_embedding_with the max of the evaluation matrics (per model) _table')"
      ],
      "execution_count": 0,
      "outputs": [
        {
          "output_type": "stream",
          "text": [
            "D:\\Program Files\\Anaconda\\lib\\site-packages\\IPython\\core\\display.py:689: UserWarning:\n",
            "\n",
            "Consider using IPython.display.IFrame instead\n",
            "\n"
          ],
          "name": "stderr"
        },
        {
          "output_type": "execute_result",
          "data": {
            "text/html": [
              "<iframe id=\"igraph\" scrolling=\"no\" style=\"border:none;\" seamless=\"seamless\" src=\"https://plot.ly/~hamzasharoon/17.embed\" height=\"525px\" width=\"100%\"></iframe>"
            ],
            "text/plain": [
              "<chart_studio.tools.PlotlyDisplay object>"
            ]
          },
          "metadata": {
            "tags": []
          },
          "execution_count": 72
        }
      ]
    },
    {
      "cell_type": "code",
      "metadata": {
        "colab_type": "code",
        "id": "3bnSuPk7bHug",
        "colab": {}
      },
      "source": [
        "#Image('multi-label_with the mean average of the evaluation matrics (per model) _table.png')"
      ],
      "execution_count": 0,
      "outputs": []
    },
    {
      "cell_type": "code",
      "metadata": {
        "colab_type": "code",
        "id": "v8fXF_dmejiq",
        "colab": {},
        "outputId": "3e828fe4-c8ce-4748-a937-b372a21df37e"
      },
      "source": [
        "# concat all training, validation and testing accuracy scores\n",
        "\n",
        "CNN_Word2Vec_Accuracy = ['Convolutional Neural Network (CNN) with Word2Vec', \n",
        "                np.max(CNN_Word2Vec_model_fit.history['acc']), \n",
        "                np.max(CNN_Word2Vec_model_fit.history['val_acc']), \n",
        "                CNN_Word2Vec_test_score[1]]\n",
        "\n",
        "RNN_Word2Vec_Accuracy = ['Recurrent Neural Networks (RNNs) with Word2Vec', \n",
        "                np.max(RNN_Word2Vec_model_fit.history['acc']), \n",
        "                np.max(RNN_Word2Vec_model_fit.history['val_acc']), \n",
        "                RNN_Word2Vec_test_score[1]]\n",
        "\n",
        "LSTM_Word2Vec_Accuracy = ['LSTM with Word2Vec', \n",
        "                  np.max(LSTM_Word2Vec_model_fit.history['acc']), \n",
        "                  np.max(LSTM_Word2Vec_model_fit.history['val_acc']), \n",
        "                  LSTM_Word2Vec_test_score[1]]\n",
        "\n",
        "Bidirectional_LSTM_Word2Vec_Accuracy = ['Bidirectional LSTM with Word2Vec', \n",
        "                    np.max(Bil_LSTM_Word2Vec_model_fit.history['acc']), \n",
        "                    np.max(Bil_LSTM_Word2Vec_model_fit.history['val_acc']), \n",
        "                    Bil_LSTM_Word2Vec_test_score[1]]\n",
        "\n",
        "GRU_Word2Vec_Accuracy = ['GRU Word2Vec', \n",
        "                    np.max(GRU_Word2Vec_model_fit.history['acc']), \n",
        "                    np.max(GRU_Word2Vec_model_fit.history['val_acc']), \n",
        "                    GRU_Word2Vec_test_score[1]]\n",
        "\n",
        "Bidirectional_GRU_Word2Vec_Accuracy = ['Bidirectional GRU with Word2Vec', \n",
        "                    np.max(Bil_GRU_Word2Vec_model_fit.history['acc']), \n",
        "                    np.max(Bil_GRU_Word2Vec_model_fit.history['val_acc']), \n",
        "                    Bil_GRU_Word2Vec_test_score[1]]\n",
        "\n",
        "\n",
        "# create dataframe\n",
        "experimentalResult = pd.DataFrame([CNN_Word2Vec_Accuracy])\n",
        "# append all other scores\n",
        "experimentalResult = experimentalResult.append([CNN_Word2Vec_Accuracy, RNN_Word2Vec_Accuracy, LSTM_Word2Vec_Accuracy, Bidirectional_LSTM_Word2Vec_Accuracy, \n",
        "                                                GRU_Word2Vec_Accuracy, Bidirectional_GRU_Word2Vec_Accuracy])\n",
        "\n",
        "\n",
        "# beautify the new dataframe\n",
        "experimentalResult.columns = ['Model', 'Training Accuracy', 'Validation Accuracy', 'Testing Accuracy']\n",
        "experimentalResult.set_index(['Model'], inplace=True)\n",
        "experimentalResult\n",
        "print(experimentalResult)"
      ],
      "execution_count": 0,
      "outputs": [
        {
          "output_type": "stream",
          "text": [
            "                                                  Training Accuracy  \\\n",
            "Model                                                                 \n",
            "Convolutional Neural Network (CNN) with Word2Vec           0.828676   \n",
            "Convolutional Neural Network (CNN) with Word2Vec           0.828676   \n",
            "Recurrent Neural Networks (RNNs) with Word2Vec             0.805791   \n",
            "LSTM with Word2Vec                                         0.832477   \n",
            "Bidirectional LSTM with Word2Vec                           0.837648   \n",
            "GRU Word2Vec                                               0.862930   \n",
            "Bidirectional GRU with Word2Vec                            0.869584   \n",
            "\n",
            "                                                  Validation Accuracy  \\\n",
            "Model                                                                   \n",
            "Convolutional Neural Network (CNN) with Word2Vec             0.841549   \n",
            "Convolutional Neural Network (CNN) with Word2Vec             0.841549   \n",
            "Recurrent Neural Networks (RNNs) with Word2Vec               0.811460   \n",
            "LSTM with Word2Vec                                           0.845964   \n",
            "Bidirectional LSTM with Word2Vec                             0.850175   \n",
            "GRU Word2Vec                                                 0.860957   \n",
            "Bidirectional GRU with Word2Vec                              0.864243   \n",
            "\n",
            "                                                  Testing Accuracy  \n",
            "Model                                                               \n",
            "Convolutional Neural Network (CNN) with Word2Vec          0.827077  \n",
            "Convolutional Neural Network (CNN) with Word2Vec          0.827077  \n",
            "Recurrent Neural Networks (RNNs) with Word2Vec            0.808042  \n",
            "LSTM with Word2Vec                                        0.826462  \n",
            "Bidirectional LSTM with Word2Vec                          0.835526  \n",
            "GRU Word2Vec                                              0.844054  \n",
            "Bidirectional GRU with Word2Vec                           0.847262  \n"
          ],
          "name": "stdout"
        }
      ]
    }
  ]
}