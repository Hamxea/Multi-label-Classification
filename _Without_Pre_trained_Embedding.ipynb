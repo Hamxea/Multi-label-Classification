{
  "nbformat": 4,
  "nbformat_minor": 0,
  "metadata": {
    "colab": {
      "name": "_Without_Pre_trained_Embedding.ipynb",
      "version": "0.3.2",
      "provenance": [],
      "collapsed_sections": [],
      "toc_visible": true,
      "include_colab_link": true
    },
    "language_info": {
      "codemirror_mode": {
        "name": "ipython",
        "version": 3
      },
      "file_extension": ".py",
      "mimetype": "text/x-python",
      "name": "python",
      "nbconvert_exporter": "python",
      "pygments_lexer": "ipython3",
      "version": "3.7.3"
    },
    "kernelspec": {
      "display_name": "Python 3",
      "language": "python",
      "name": "python3"
    },
    "accelerator": "TPU"
  },
  "cells": [
    {
      "cell_type": "markdown",
      "metadata": {
        "id": "view-in-github",
        "colab_type": "text"
      },
      "source": [
        "<a href=\"https://colab.research.google.com/github/Hamxea/Multi-label-Classification/blob/master/_Without_Pre_trained_Embedding.ipynb\" target=\"_parent\"><img src=\"https://colab.research.google.com/assets/colab-badge.svg\" alt=\"Open In Colab\"/></a>"
      ]
    },
    {
      "cell_type": "markdown",
      "metadata": {
        "colab_type": "text",
        "id": "JnB0s1tPejbl"
      },
      "source": [
        "# Multi-Label Text Classification of Text Document or News\n"
      ]
    },
    {
      "cell_type": "markdown",
      "metadata": {
        "colab_type": "text",
        "id": "fKccKTR_ejbm"
      },
      "source": [
        " ### DATASET\n",
        "\n",
        "Toxic Comment Classification dataset. a multi-label text classfication data consisting of many wikipedia comments which have been labeled by humans according to their relative toxicity comments labels such as \"toxic\", \"severe_toxic\", \"obscene\", \"threat\", \"insult\", and  \"identity_hate\". The dataset has approximately ~160k observation in total, ~125k with zero labels (toxicity) of any type, and approximately ~35k classified in one or more toxicity categories.\n",
        "\n",
        "\n",
        "\n",
        "\n",
        "*   Dataset Link: https://www.kaggle.com/c/jigsaw-toxic-comment-classification-challenge\n",
        "\n",
        "\n"
      ]
    },
    {
      "cell_type": "markdown",
      "metadata": {
        "colab_type": "text",
        "id": "h4oWa1Aqejbn"
      },
      "source": [
        "\n",
        "#### DATA CHARACTERISTICS (TRAIN DATASET)\n",
        "* Number of data points\t159571\n",
        "* Number data points of type toxic\t15294\n",
        "* Number data points of type severe_tocic\t1595\n",
        "* Number data points of type obscene\t8449\n",
        "* Number data points of type threat\t478\n",
        "* Number data points of type insult\t7877\n",
        "* Number data points of type identity_hate\t1405\n",
        "* Observations in one or more class\t35098\n",
        "* Unclassified observation\t124473\n"
      ]
    },
    {
      "cell_type": "markdown",
      "metadata": {
        "colab_type": "text",
        "id": "NoB57aB6ejbo"
      },
      "source": [
        "### Import necessary libraries for the experiment"
      ]
    },
    {
      "cell_type": "code",
      "metadata": {
        "colab_type": "code",
        "id": "BXuDj-0Vejbp",
        "outputId": "bbecd2e2-2fea-4829-ede7-5e48f0d61399",
        "colab": {
          "base_uri": "https://localhost:8080/",
          "height": 238
        }
      },
      "source": [
        "# importing libraries\n",
        "import tensorflow as tf\n",
        "from keras import initializers, regularizers, constraints, optimizers, layers, callbacks\n",
        "from keras.callbacks import EarlyStopping,ModelCheckpoint\n",
        "from keras.preprocessing.text import Tokenizer\n",
        "from keras.preprocessing.sequence import pad_sequences\n",
        "from keras.preprocessing import text, sequence\n",
        "from keras import initializers, regularizers, constraints, optimizers, layers\n",
        "from keras.models import Model, Input, Sequential\n",
        "from keras.layers import Dense, Input, LSTM, SimpleRNN, Embedding, Dropout, SpatialDropout1D, Activation, Conv1D,GRU\n",
        "from keras.layers import Conv1D, Bidirectional, GlobalMaxPool1D, MaxPooling1D, BatchNormalization, Add, Flatten\n",
        "from keras.layers import GlobalMaxPooling1D, GlobalAveragePooling1D, concatenate, SpatialDropout1D\n",
        "from keras.optimizers import Adam\n",
        "from keras.utils.vis_utils import plot_model\n",
        "from sklearn.model_selection  import train_test_split\n",
        "#from sklearn.cross_validation import train_test_split\n",
        "\n",
        "\n",
        "# For custom metrics\n",
        "import keras.backend as K\n",
        "from keras.utils.vis_utils import plot_model\n",
        "from keras.callbacks import EarlyStopping \n",
        "\n",
        "\n",
        "import pandas as pd\n",
        "import numpy as np\n",
        " \n",
        "import matplotlib.pyplot as plt\n",
        "\n",
        "plt.style.use('seaborn')\n",
        "\n",
        "import seaborn as sns\n",
        "from IPython.display import Image\n",
        "\n",
        "from tqdm import tqdm\n",
        "from nltk.corpus import stopwords\n",
        "from nltk.tokenize import RegexpTokenizer \n",
        "import os, re, csv, math, codecs\n",
        "from nltk.tokenize import word_tokenize\n",
        "import string\n",
        "import gensim\n",
        "import os\n",
        "import re\n",
        "\n",
        "sns.set_style(\"whitegrid\")\n",
        "np.random.seed(0)\n",
        "\n",
        "import plotly.plotly as py\n",
        "import plotly.graph_objs as go\n",
        "import plotly\n",
        "plotly.tools.set_credentials_file(username='hamzasharoon', api_key='9le0c8M5GUNRAKyJoIt2')\n",
        "\n",
        "\n",
        "# Install dependencies\n",
        "!apt install graphviz\n",
        "!pip install pydot pydot-ng\n",
        "!echo \"Double check with Python 3\"\n",
        "!python -c \"import pydot\""
      ],
      "execution_count": 0,
      "outputs": [
        {
          "output_type": "stream",
          "text": [
            "Using TensorFlow backend.\n",
            "'apt' is not recognized as an internal or external command,\n",
            "operable program or batch file.\n"
          ],
          "name": "stderr"
        },
        {
          "output_type": "stream",
          "text": [
            "Requirement already satisfied: pydot in d:\\program files\\anaconda\\lib\\site-packages (1.4.1)\n",
            "Requirement already satisfied: pydot-ng in d:\\program files\\anaconda\\lib\\site-packages (2.0.0)\n",
            "Requirement already satisfied: pyparsing>=2.1.4 in d:\\program files\\anaconda\\lib\\site-packages (from pydot) (2.3.1)\n",
            "\"Double check with Python 3\"\n"
          ],
          "name": "stdout"
        }
      ]
    },
    {
      "cell_type": "markdown",
      "metadata": {
        "colab_type": "text",
        "id": "Wbd_vQHxejbu"
      },
      "source": [
        "### Loading the necessary data files and data Preparation"
      ]
    },
    {
      "cell_type": "code",
      "metadata": {
        "colab_type": "code",
        "id": "ClGBLAyTyw5C",
        "colab": {}
      },
      "source": [
        "#from google.colab import files\n",
        "#uploaded = files.upload()\n",
        "\n",
        "#from google.colab import drive\n",
        "#!kaggle competitions download -c Toxic Comment Classification Challenge -p /content/gdrive/My\\ Drive/kaggle/Colab Notebooks/Dataset"
      ],
      "execution_count": 0,
      "outputs": []
    },
    {
      "cell_type": "code",
      "metadata": {
        "colab_type": "code",
        "id": "6mdP52kqu-Kt",
        "colab": {},
        "outputId": "44ea1ffe-1ad7-4dbd-b764-4bf96cf93f1c"
      },
      "source": [
        "#Train data\n",
        "train = pd.read_csv('D:/çankaya/2ndYEAR/Thesis/Experiments/Data_Toxic Comment Classification/train.csv')\n",
        "train.head(10)"
      ],
      "execution_count": 0,
      "outputs": [
        {
          "output_type": "execute_result",
          "data": {
            "text/html": [
              "<div>\n",
              "<style scoped>\n",
              "    .dataframe tbody tr th:only-of-type {\n",
              "        vertical-align: middle;\n",
              "    }\n",
              "\n",
              "    .dataframe tbody tr th {\n",
              "        vertical-align: top;\n",
              "    }\n",
              "\n",
              "    .dataframe thead th {\n",
              "        text-align: right;\n",
              "    }\n",
              "</style>\n",
              "<table border=\"1\" class=\"dataframe\">\n",
              "  <thead>\n",
              "    <tr style=\"text-align: right;\">\n",
              "      <th></th>\n",
              "      <th>id</th>\n",
              "      <th>comment_text</th>\n",
              "      <th>toxic</th>\n",
              "      <th>severe_toxic</th>\n",
              "      <th>obscene</th>\n",
              "      <th>threat</th>\n",
              "      <th>insult</th>\n",
              "      <th>identity_hate</th>\n",
              "    </tr>\n",
              "  </thead>\n",
              "  <tbody>\n",
              "    <tr>\n",
              "      <th>0</th>\n",
              "      <td>0000997932d777bf</td>\n",
              "      <td>Explanation\\nWhy the edits made under my usern...</td>\n",
              "      <td>0</td>\n",
              "      <td>0</td>\n",
              "      <td>0</td>\n",
              "      <td>0</td>\n",
              "      <td>0</td>\n",
              "      <td>0</td>\n",
              "    </tr>\n",
              "    <tr>\n",
              "      <th>1</th>\n",
              "      <td>000103f0d9cfb60f</td>\n",
              "      <td>D'aww! He matches this background colour I'm s...</td>\n",
              "      <td>0</td>\n",
              "      <td>0</td>\n",
              "      <td>0</td>\n",
              "      <td>0</td>\n",
              "      <td>0</td>\n",
              "      <td>0</td>\n",
              "    </tr>\n",
              "    <tr>\n",
              "      <th>2</th>\n",
              "      <td>000113f07ec002fd</td>\n",
              "      <td>Hey man, I'm really not trying to edit war. It...</td>\n",
              "      <td>0</td>\n",
              "      <td>0</td>\n",
              "      <td>0</td>\n",
              "      <td>0</td>\n",
              "      <td>0</td>\n",
              "      <td>0</td>\n",
              "    </tr>\n",
              "    <tr>\n",
              "      <th>3</th>\n",
              "      <td>0001b41b1c6bb37e</td>\n",
              "      <td>\"\\nMore\\nI can't make any real suggestions on ...</td>\n",
              "      <td>0</td>\n",
              "      <td>0</td>\n",
              "      <td>0</td>\n",
              "      <td>0</td>\n",
              "      <td>0</td>\n",
              "      <td>0</td>\n",
              "    </tr>\n",
              "    <tr>\n",
              "      <th>4</th>\n",
              "      <td>0001d958c54c6e35</td>\n",
              "      <td>You, sir, are my hero. Any chance you remember...</td>\n",
              "      <td>0</td>\n",
              "      <td>0</td>\n",
              "      <td>0</td>\n",
              "      <td>0</td>\n",
              "      <td>0</td>\n",
              "      <td>0</td>\n",
              "    </tr>\n",
              "    <tr>\n",
              "      <th>5</th>\n",
              "      <td>00025465d4725e87</td>\n",
              "      <td>\"\\n\\nCongratulations from me as well, use the ...</td>\n",
              "      <td>0</td>\n",
              "      <td>0</td>\n",
              "      <td>0</td>\n",
              "      <td>0</td>\n",
              "      <td>0</td>\n",
              "      <td>0</td>\n",
              "    </tr>\n",
              "    <tr>\n",
              "      <th>6</th>\n",
              "      <td>0002bcb3da6cb337</td>\n",
              "      <td>COCKSUCKER BEFORE YOU PISS AROUND ON MY WORK</td>\n",
              "      <td>1</td>\n",
              "      <td>1</td>\n",
              "      <td>1</td>\n",
              "      <td>0</td>\n",
              "      <td>1</td>\n",
              "      <td>0</td>\n",
              "    </tr>\n",
              "    <tr>\n",
              "      <th>7</th>\n",
              "      <td>00031b1e95af7921</td>\n",
              "      <td>Your vandalism to the Matt Shirvington article...</td>\n",
              "      <td>0</td>\n",
              "      <td>0</td>\n",
              "      <td>0</td>\n",
              "      <td>0</td>\n",
              "      <td>0</td>\n",
              "      <td>0</td>\n",
              "    </tr>\n",
              "    <tr>\n",
              "      <th>8</th>\n",
              "      <td>00037261f536c51d</td>\n",
              "      <td>Sorry if the word 'nonsense' was offensive to ...</td>\n",
              "      <td>0</td>\n",
              "      <td>0</td>\n",
              "      <td>0</td>\n",
              "      <td>0</td>\n",
              "      <td>0</td>\n",
              "      <td>0</td>\n",
              "    </tr>\n",
              "    <tr>\n",
              "      <th>9</th>\n",
              "      <td>00040093b2687caa</td>\n",
              "      <td>alignment on this subject and which are contra...</td>\n",
              "      <td>0</td>\n",
              "      <td>0</td>\n",
              "      <td>0</td>\n",
              "      <td>0</td>\n",
              "      <td>0</td>\n",
              "      <td>0</td>\n",
              "    </tr>\n",
              "  </tbody>\n",
              "</table>\n",
              "</div>"
            ],
            "text/plain": [
              "                 id                                       comment_text  toxic  \\\n",
              "0  0000997932d777bf  Explanation\\nWhy the edits made under my usern...      0   \n",
              "1  000103f0d9cfb60f  D'aww! He matches this background colour I'm s...      0   \n",
              "2  000113f07ec002fd  Hey man, I'm really not trying to edit war. It...      0   \n",
              "3  0001b41b1c6bb37e  \"\\nMore\\nI can't make any real suggestions on ...      0   \n",
              "4  0001d958c54c6e35  You, sir, are my hero. Any chance you remember...      0   \n",
              "5  00025465d4725e87  \"\\n\\nCongratulations from me as well, use the ...      0   \n",
              "6  0002bcb3da6cb337       COCKSUCKER BEFORE YOU PISS AROUND ON MY WORK      1   \n",
              "7  00031b1e95af7921  Your vandalism to the Matt Shirvington article...      0   \n",
              "8  00037261f536c51d  Sorry if the word 'nonsense' was offensive to ...      0   \n",
              "9  00040093b2687caa  alignment on this subject and which are contra...      0   \n",
              "\n",
              "   severe_toxic  obscene  threat  insult  identity_hate  \n",
              "0             0        0       0       0              0  \n",
              "1             0        0       0       0              0  \n",
              "2             0        0       0       0              0  \n",
              "3             0        0       0       0              0  \n",
              "4             0        0       0       0              0  \n",
              "5             0        0       0       0              0  \n",
              "6             1        1       0       1              0  \n",
              "7             0        0       0       0              0  \n",
              "8             0        0       0       0              0  \n",
              "9             0        0       0       0              0  "
            ]
          },
          "metadata": {
            "tags": []
          },
          "execution_count": 4
        }
      ]
    },
    {
      "cell_type": "code",
      "metadata": {
        "id": "2i7FQfwZDVXf",
        "colab_type": "code",
        "colab": {},
        "outputId": "cb403879-fa60-4968-d1dd-f7387e435277"
      },
      "source": [
        "train = train.loc[(train['toxic'] == 1) | (train['severe_toxic'] == 1) | (train['obscene'] ==1) | (train['threat'] == 1) | (train['insult'] == 1) | (train['identity_hate'] ==1)]\n",
        "\n",
        "train.head(10)"
      ],
      "execution_count": 0,
      "outputs": [
        {
          "output_type": "execute_result",
          "data": {
            "text/html": [
              "<div>\n",
              "<style scoped>\n",
              "    .dataframe tbody tr th:only-of-type {\n",
              "        vertical-align: middle;\n",
              "    }\n",
              "\n",
              "    .dataframe tbody tr th {\n",
              "        vertical-align: top;\n",
              "    }\n",
              "\n",
              "    .dataframe thead th {\n",
              "        text-align: right;\n",
              "    }\n",
              "</style>\n",
              "<table border=\"1\" class=\"dataframe\">\n",
              "  <thead>\n",
              "    <tr style=\"text-align: right;\">\n",
              "      <th></th>\n",
              "      <th>id</th>\n",
              "      <th>comment_text</th>\n",
              "      <th>toxic</th>\n",
              "      <th>severe_toxic</th>\n",
              "      <th>obscene</th>\n",
              "      <th>threat</th>\n",
              "      <th>insult</th>\n",
              "      <th>identity_hate</th>\n",
              "    </tr>\n",
              "  </thead>\n",
              "  <tbody>\n",
              "    <tr>\n",
              "      <th>6</th>\n",
              "      <td>0002bcb3da6cb337</td>\n",
              "      <td>COCKSUCKER BEFORE YOU PISS AROUND ON MY WORK</td>\n",
              "      <td>1</td>\n",
              "      <td>1</td>\n",
              "      <td>1</td>\n",
              "      <td>0</td>\n",
              "      <td>1</td>\n",
              "      <td>0</td>\n",
              "    </tr>\n",
              "    <tr>\n",
              "      <th>12</th>\n",
              "      <td>0005c987bdfc9d4b</td>\n",
              "      <td>Hey... what is it..\\n@ | talk .\\nWhat is it......</td>\n",
              "      <td>1</td>\n",
              "      <td>0</td>\n",
              "      <td>0</td>\n",
              "      <td>0</td>\n",
              "      <td>0</td>\n",
              "      <td>0</td>\n",
              "    </tr>\n",
              "    <tr>\n",
              "      <th>16</th>\n",
              "      <td>0007e25b2121310b</td>\n",
              "      <td>Bye! \\n\\nDon't look, come or think of comming ...</td>\n",
              "      <td>1</td>\n",
              "      <td>0</td>\n",
              "      <td>0</td>\n",
              "      <td>0</td>\n",
              "      <td>0</td>\n",
              "      <td>0</td>\n",
              "    </tr>\n",
              "    <tr>\n",
              "      <th>42</th>\n",
              "      <td>001810bf8c45bf5f</td>\n",
              "      <td>You are gay or antisemmitian? \\n\\nArchangel WH...</td>\n",
              "      <td>1</td>\n",
              "      <td>0</td>\n",
              "      <td>1</td>\n",
              "      <td>0</td>\n",
              "      <td>1</td>\n",
              "      <td>1</td>\n",
              "    </tr>\n",
              "    <tr>\n",
              "      <th>43</th>\n",
              "      <td>00190820581d90ce</td>\n",
              "      <td>FUCK YOUR FILTHY MOTHER IN THE ASS, DRY!</td>\n",
              "      <td>1</td>\n",
              "      <td>0</td>\n",
              "      <td>1</td>\n",
              "      <td>0</td>\n",
              "      <td>1</td>\n",
              "      <td>0</td>\n",
              "    </tr>\n",
              "    <tr>\n",
              "      <th>44</th>\n",
              "      <td>001956c382006abd</td>\n",
              "      <td>I'm Sorry \\n\\nI'm sorry I screwed around with ...</td>\n",
              "      <td>1</td>\n",
              "      <td>0</td>\n",
              "      <td>0</td>\n",
              "      <td>0</td>\n",
              "      <td>0</td>\n",
              "      <td>0</td>\n",
              "    </tr>\n",
              "    <tr>\n",
              "      <th>51</th>\n",
              "      <td>001dc38a83d420cf</td>\n",
              "      <td>GET FUCKED UP. GET FUCKEEED UP.  GOT A DRINK T...</td>\n",
              "      <td>1</td>\n",
              "      <td>0</td>\n",
              "      <td>1</td>\n",
              "      <td>0</td>\n",
              "      <td>0</td>\n",
              "      <td>0</td>\n",
              "    </tr>\n",
              "    <tr>\n",
              "      <th>55</th>\n",
              "      <td>0020e7119b96eeeb</td>\n",
              "      <td>Stupid peace of shit stop deleting my stuff as...</td>\n",
              "      <td>1</td>\n",
              "      <td>1</td>\n",
              "      <td>1</td>\n",
              "      <td>0</td>\n",
              "      <td>1</td>\n",
              "      <td>0</td>\n",
              "    </tr>\n",
              "    <tr>\n",
              "      <th>56</th>\n",
              "      <td>0020fd96ed3b8c8b</td>\n",
              "      <td>=Tony Sidaway is obviously a fistfuckee. He lo...</td>\n",
              "      <td>1</td>\n",
              "      <td>0</td>\n",
              "      <td>1</td>\n",
              "      <td>0</td>\n",
              "      <td>1</td>\n",
              "      <td>0</td>\n",
              "    </tr>\n",
              "    <tr>\n",
              "      <th>58</th>\n",
              "      <td>0021fe88bc4da3e6</td>\n",
              "      <td>My Band Page's deletion. You thought I was gon...</td>\n",
              "      <td>1</td>\n",
              "      <td>0</td>\n",
              "      <td>1</td>\n",
              "      <td>0</td>\n",
              "      <td>0</td>\n",
              "      <td>0</td>\n",
              "    </tr>\n",
              "  </tbody>\n",
              "</table>\n",
              "</div>"
            ],
            "text/plain": [
              "                  id                                       comment_text  \\\n",
              "6   0002bcb3da6cb337       COCKSUCKER BEFORE YOU PISS AROUND ON MY WORK   \n",
              "12  0005c987bdfc9d4b  Hey... what is it..\\n@ | talk .\\nWhat is it......   \n",
              "16  0007e25b2121310b  Bye! \\n\\nDon't look, come or think of comming ...   \n",
              "42  001810bf8c45bf5f  You are gay or antisemmitian? \\n\\nArchangel WH...   \n",
              "43  00190820581d90ce           FUCK YOUR FILTHY MOTHER IN THE ASS, DRY!   \n",
              "44  001956c382006abd  I'm Sorry \\n\\nI'm sorry I screwed around with ...   \n",
              "51  001dc38a83d420cf  GET FUCKED UP. GET FUCKEEED UP.  GOT A DRINK T...   \n",
              "55  0020e7119b96eeeb  Stupid peace of shit stop deleting my stuff as...   \n",
              "56  0020fd96ed3b8c8b  =Tony Sidaway is obviously a fistfuckee. He lo...   \n",
              "58  0021fe88bc4da3e6  My Band Page's deletion. You thought I was gon...   \n",
              "\n",
              "    toxic  severe_toxic  obscene  threat  insult  identity_hate  \n",
              "6       1             1        1       0       1              0  \n",
              "12      1             0        0       0       0              0  \n",
              "16      1             0        0       0       0              0  \n",
              "42      1             0        1       0       1              1  \n",
              "43      1             0        1       0       1              0  \n",
              "44      1             0        0       0       0              0  \n",
              "51      1             0        1       0       0              0  \n",
              "55      1             1        1       0       1              0  \n",
              "56      1             0        1       0       1              0  \n",
              "58      1             0        1       0       0              0  "
            ]
          },
          "metadata": {
            "tags": []
          },
          "execution_count": 5
        }
      ]
    },
    {
      "cell_type": "markdown",
      "metadata": {
        "colab_type": "text",
        "id": "yemWuxUUwGbQ"
      },
      "source": [
        "### Clean the Train data, specifically remove punctuations"
      ]
    },
    {
      "cell_type": "code",
      "metadata": {
        "colab_type": "code",
        "id": "bXBAuHzkegFw",
        "colab": {},
        "outputId": "5d41af63-308e-4782-b2ca-267de753363c"
      },
      "source": [
        "totalContentCleaned = []\n",
        "punctDict = {}\n",
        "for punct in string.punctuation:\n",
        "    punctDict[punct] = None\n",
        "transString = str.maketrans(punctDict)\n",
        "# since we intent to remove any punctuation with ''\n",
        "for sen in train['comment_text']:\n",
        "    \n",
        "    #cleanedString = re.sub('[^a-zA-Z]+', '', sen)\n",
        "    \n",
        "    p = sen.translate(transString)\n",
        "    totalContentCleaned.append(p)\n",
        "    \n",
        "\n",
        "train['comment_text'] = totalContentCleaned\n",
        "# we can save the file to csv if we want in local machine\n",
        "#df.to_csv(os.path.join(os.path.abspath('data'), 'train_cleaned.csv'), index = False)\n",
        "\n",
        "\n",
        "\n",
        "train.head(10)"
      ],
      "execution_count": 0,
      "outputs": [
        {
          "output_type": "execute_result",
          "data": {
            "text/html": [
              "<div>\n",
              "<style scoped>\n",
              "    .dataframe tbody tr th:only-of-type {\n",
              "        vertical-align: middle;\n",
              "    }\n",
              "\n",
              "    .dataframe tbody tr th {\n",
              "        vertical-align: top;\n",
              "    }\n",
              "\n",
              "    .dataframe thead th {\n",
              "        text-align: right;\n",
              "    }\n",
              "</style>\n",
              "<table border=\"1\" class=\"dataframe\">\n",
              "  <thead>\n",
              "    <tr style=\"text-align: right;\">\n",
              "      <th></th>\n",
              "      <th>id</th>\n",
              "      <th>comment_text</th>\n",
              "      <th>toxic</th>\n",
              "      <th>severe_toxic</th>\n",
              "      <th>obscene</th>\n",
              "      <th>threat</th>\n",
              "      <th>insult</th>\n",
              "      <th>identity_hate</th>\n",
              "    </tr>\n",
              "  </thead>\n",
              "  <tbody>\n",
              "    <tr>\n",
              "      <th>6</th>\n",
              "      <td>0002bcb3da6cb337</td>\n",
              "      <td>COCKSUCKER BEFORE YOU PISS AROUND ON MY WORK</td>\n",
              "      <td>1</td>\n",
              "      <td>1</td>\n",
              "      <td>1</td>\n",
              "      <td>0</td>\n",
              "      <td>1</td>\n",
              "      <td>0</td>\n",
              "    </tr>\n",
              "    <tr>\n",
              "      <th>12</th>\n",
              "      <td>0005c987bdfc9d4b</td>\n",
              "      <td>Hey what is it\\n  talk \\nWhat is it an exclusi...</td>\n",
              "      <td>1</td>\n",
              "      <td>0</td>\n",
              "      <td>0</td>\n",
              "      <td>0</td>\n",
              "      <td>0</td>\n",
              "      <td>0</td>\n",
              "    </tr>\n",
              "    <tr>\n",
              "      <th>16</th>\n",
              "      <td>0007e25b2121310b</td>\n",
              "      <td>Bye \\n\\nDont look come or think of comming bac...</td>\n",
              "      <td>1</td>\n",
              "      <td>0</td>\n",
              "      <td>0</td>\n",
              "      <td>0</td>\n",
              "      <td>0</td>\n",
              "      <td>0</td>\n",
              "    </tr>\n",
              "    <tr>\n",
              "      <th>42</th>\n",
              "      <td>001810bf8c45bf5f</td>\n",
              "      <td>You are gay or antisemmitian \\n\\nArchangel WHi...</td>\n",
              "      <td>1</td>\n",
              "      <td>0</td>\n",
              "      <td>1</td>\n",
              "      <td>0</td>\n",
              "      <td>1</td>\n",
              "      <td>1</td>\n",
              "    </tr>\n",
              "    <tr>\n",
              "      <th>43</th>\n",
              "      <td>00190820581d90ce</td>\n",
              "      <td>FUCK YOUR FILTHY MOTHER IN THE ASS DRY</td>\n",
              "      <td>1</td>\n",
              "      <td>0</td>\n",
              "      <td>1</td>\n",
              "      <td>0</td>\n",
              "      <td>1</td>\n",
              "      <td>0</td>\n",
              "    </tr>\n",
              "    <tr>\n",
              "      <th>44</th>\n",
              "      <td>001956c382006abd</td>\n",
              "      <td>Im Sorry \\n\\nIm sorry I screwed around with so...</td>\n",
              "      <td>1</td>\n",
              "      <td>0</td>\n",
              "      <td>0</td>\n",
              "      <td>0</td>\n",
              "      <td>0</td>\n",
              "      <td>0</td>\n",
              "    </tr>\n",
              "    <tr>\n",
              "      <th>51</th>\n",
              "      <td>001dc38a83d420cf</td>\n",
              "      <td>GET FUCKED UP GET FUCKEEED UP  GOT A DRINK THA...</td>\n",
              "      <td>1</td>\n",
              "      <td>0</td>\n",
              "      <td>1</td>\n",
              "      <td>0</td>\n",
              "      <td>0</td>\n",
              "      <td>0</td>\n",
              "    </tr>\n",
              "    <tr>\n",
              "      <th>55</th>\n",
              "      <td>0020e7119b96eeeb</td>\n",
              "      <td>Stupid peace of shit stop deleting my stuff as...</td>\n",
              "      <td>1</td>\n",
              "      <td>1</td>\n",
              "      <td>1</td>\n",
              "      <td>0</td>\n",
              "      <td>1</td>\n",
              "      <td>0</td>\n",
              "    </tr>\n",
              "    <tr>\n",
              "      <th>56</th>\n",
              "      <td>0020fd96ed3b8c8b</td>\n",
              "      <td>Tony Sidaway is obviously a fistfuckee He love...</td>\n",
              "      <td>1</td>\n",
              "      <td>0</td>\n",
              "      <td>1</td>\n",
              "      <td>0</td>\n",
              "      <td>1</td>\n",
              "      <td>0</td>\n",
              "    </tr>\n",
              "    <tr>\n",
              "      <th>58</th>\n",
              "      <td>0021fe88bc4da3e6</td>\n",
              "      <td>My Band Pages deletion You thought I was gone ...</td>\n",
              "      <td>1</td>\n",
              "      <td>0</td>\n",
              "      <td>1</td>\n",
              "      <td>0</td>\n",
              "      <td>0</td>\n",
              "      <td>0</td>\n",
              "    </tr>\n",
              "  </tbody>\n",
              "</table>\n",
              "</div>"
            ],
            "text/plain": [
              "                  id                                       comment_text  \\\n",
              "6   0002bcb3da6cb337       COCKSUCKER BEFORE YOU PISS AROUND ON MY WORK   \n",
              "12  0005c987bdfc9d4b  Hey what is it\\n  talk \\nWhat is it an exclusi...   \n",
              "16  0007e25b2121310b  Bye \\n\\nDont look come or think of comming bac...   \n",
              "42  001810bf8c45bf5f  You are gay or antisemmitian \\n\\nArchangel WHi...   \n",
              "43  00190820581d90ce             FUCK YOUR FILTHY MOTHER IN THE ASS DRY   \n",
              "44  001956c382006abd  Im Sorry \\n\\nIm sorry I screwed around with so...   \n",
              "51  001dc38a83d420cf  GET FUCKED UP GET FUCKEEED UP  GOT A DRINK THA...   \n",
              "55  0020e7119b96eeeb  Stupid peace of shit stop deleting my stuff as...   \n",
              "56  0020fd96ed3b8c8b  Tony Sidaway is obviously a fistfuckee He love...   \n",
              "58  0021fe88bc4da3e6  My Band Pages deletion You thought I was gone ...   \n",
              "\n",
              "    toxic  severe_toxic  obscene  threat  insult  identity_hate  \n",
              "6       1             1        1       0       1              0  \n",
              "12      1             0        0       0       0              0  \n",
              "16      1             0        0       0       0              0  \n",
              "42      1             0        1       0       1              1  \n",
              "43      1             0        1       0       1              0  \n",
              "44      1             0        0       0       0              0  \n",
              "51      1             0        1       0       0              0  \n",
              "55      1             1        1       0       1              0  \n",
              "56      1             0        1       0       1              0  \n",
              "58      1             0        1       0       0              0  "
            ]
          },
          "metadata": {
            "tags": []
          },
          "execution_count": 6
        }
      ]
    },
    {
      "cell_type": "code",
      "metadata": {
        "colab_type": "code",
        "id": "bThKgInKejb0",
        "outputId": "0d1b49cb-edb0-4133-c23c-2e4b34630276",
        "colab": {
          "base_uri": "https://localhost:8080/",
          "height": 405
        }
      },
      "source": [
        "#Test data\n",
        "df_test = pd.read_csv('D:/çankaya/2ndYEAR/Thesis/Experiments/Data_Toxic Comment Classification/test.csv')\n",
        "df_test.head(10)"
      ],
      "execution_count": 0,
      "outputs": [
        {
          "output_type": "execute_result",
          "data": {
            "text/html": [
              "<div>\n",
              "<style scoped>\n",
              "    .dataframe tbody tr th:only-of-type {\n",
              "        vertical-align: middle;\n",
              "    }\n",
              "\n",
              "    .dataframe tbody tr th {\n",
              "        vertical-align: top;\n",
              "    }\n",
              "\n",
              "    .dataframe thead th {\n",
              "        text-align: right;\n",
              "    }\n",
              "</style>\n",
              "<table border=\"1\" class=\"dataframe\">\n",
              "  <thead>\n",
              "    <tr style=\"text-align: right;\">\n",
              "      <th></th>\n",
              "      <th>id</th>\n",
              "      <th>comment_text</th>\n",
              "    </tr>\n",
              "  </thead>\n",
              "  <tbody>\n",
              "    <tr>\n",
              "      <th>0</th>\n",
              "      <td>00001cee341fdb12</td>\n",
              "      <td>Yo bitch Ja Rule is more succesful then you'll...</td>\n",
              "    </tr>\n",
              "    <tr>\n",
              "      <th>1</th>\n",
              "      <td>0000247867823ef7</td>\n",
              "      <td>== From RfC == \\n\\n The title is fine as it is...</td>\n",
              "    </tr>\n",
              "    <tr>\n",
              "      <th>2</th>\n",
              "      <td>00013b17ad220c46</td>\n",
              "      <td>\" \\n\\n == Sources == \\n\\n * Zawe Ashton on Lap...</td>\n",
              "    </tr>\n",
              "    <tr>\n",
              "      <th>3</th>\n",
              "      <td>00017563c3f7919a</td>\n",
              "      <td>:If you have a look back at the source, the in...</td>\n",
              "    </tr>\n",
              "    <tr>\n",
              "      <th>4</th>\n",
              "      <td>00017695ad8997eb</td>\n",
              "      <td>I don't anonymously edit articles at all.</td>\n",
              "    </tr>\n",
              "    <tr>\n",
              "      <th>5</th>\n",
              "      <td>0001ea8717f6de06</td>\n",
              "      <td>Thank you for understanding. I think very high...</td>\n",
              "    </tr>\n",
              "    <tr>\n",
              "      <th>6</th>\n",
              "      <td>00024115d4cbde0f</td>\n",
              "      <td>Please do not add nonsense to Wikipedia. Such ...</td>\n",
              "    </tr>\n",
              "    <tr>\n",
              "      <th>7</th>\n",
              "      <td>000247e83dcc1211</td>\n",
              "      <td>:Dear god this site is horrible.</td>\n",
              "    </tr>\n",
              "    <tr>\n",
              "      <th>8</th>\n",
              "      <td>00025358d4737918</td>\n",
              "      <td>\" \\n Only a fool can believe in such numbers. ...</td>\n",
              "    </tr>\n",
              "    <tr>\n",
              "      <th>9</th>\n",
              "      <td>00026d1092fe71cc</td>\n",
              "      <td>== Double Redirects == \\n\\n When fixing double...</td>\n",
              "    </tr>\n",
              "  </tbody>\n",
              "</table>\n",
              "</div>"
            ],
            "text/plain": [
              "                 id                                       comment_text\n",
              "0  00001cee341fdb12  Yo bitch Ja Rule is more succesful then you'll...\n",
              "1  0000247867823ef7  == From RfC == \\n\\n The title is fine as it is...\n",
              "2  00013b17ad220c46  \" \\n\\n == Sources == \\n\\n * Zawe Ashton on Lap...\n",
              "3  00017563c3f7919a  :If you have a look back at the source, the in...\n",
              "4  00017695ad8997eb          I don't anonymously edit articles at all.\n",
              "5  0001ea8717f6de06  Thank you for understanding. I think very high...\n",
              "6  00024115d4cbde0f  Please do not add nonsense to Wikipedia. Such ...\n",
              "7  000247e83dcc1211                   :Dear god this site is horrible.\n",
              "8  00025358d4737918  \" \\n Only a fool can believe in such numbers. ...\n",
              "9  00026d1092fe71cc  == Double Redirects == \\n\\n When fixing double..."
            ]
          },
          "metadata": {
            "tags": []
          },
          "execution_count": 7
        }
      ]
    },
    {
      "cell_type": "markdown",
      "metadata": {
        "colab_type": "text",
        "id": "gkNgoN8pwPtA"
      },
      "source": [
        "### Clean the Test data, specifically remove punctuations"
      ]
    },
    {
      "cell_type": "code",
      "metadata": {
        "colab_type": "code",
        "id": "qAtY_WxPe03X",
        "colab": {},
        "outputId": "e3bec797-4a90-4f4d-972b-606b7d617a99"
      },
      "source": [
        "totalContentCleaned = []\n",
        "punctDict = {}\n",
        "for punct in string.punctuation:\n",
        "    punctDict[punct] = None\n",
        "transString = str.maketrans(punctDict)\n",
        "# since we intent to remove any punctuation with ''\n",
        "for sen in df_test['comment_text']:\n",
        "    \n",
        "    #cleanedString = re.sub('[^a-zA-Z]+', '', sen)\n",
        "    \n",
        "    p = sen.translate(transString)\n",
        "    totalContentCleaned.append(p)\n",
        "    \n",
        "\n",
        "df_test['comment_text'] = totalContentCleaned\n",
        "# we can save the file to csv if we want in local machine\n",
        "#df.to_csv(os.path.join(os.path.abspath('data'), 'train_cleaned.csv'), index = False)\n",
        "\n",
        "\n",
        "\n",
        "df_test.head(10)"
      ],
      "execution_count": 0,
      "outputs": [
        {
          "output_type": "execute_result",
          "data": {
            "text/html": [
              "<div>\n",
              "<style scoped>\n",
              "    .dataframe tbody tr th:only-of-type {\n",
              "        vertical-align: middle;\n",
              "    }\n",
              "\n",
              "    .dataframe tbody tr th {\n",
              "        vertical-align: top;\n",
              "    }\n",
              "\n",
              "    .dataframe thead th {\n",
              "        text-align: right;\n",
              "    }\n",
              "</style>\n",
              "<table border=\"1\" class=\"dataframe\">\n",
              "  <thead>\n",
              "    <tr style=\"text-align: right;\">\n",
              "      <th></th>\n",
              "      <th>id</th>\n",
              "      <th>comment_text</th>\n",
              "    </tr>\n",
              "  </thead>\n",
              "  <tbody>\n",
              "    <tr>\n",
              "      <th>0</th>\n",
              "      <td>00001cee341fdb12</td>\n",
              "      <td>Yo bitch Ja Rule is more succesful then youll ...</td>\n",
              "    </tr>\n",
              "    <tr>\n",
              "      <th>1</th>\n",
              "      <td>0000247867823ef7</td>\n",
              "      <td>From RfC  \\n\\n The title is fine as it is IMO</td>\n",
              "    </tr>\n",
              "    <tr>\n",
              "      <th>2</th>\n",
              "      <td>00013b17ad220c46</td>\n",
              "      <td>\\n\\n  Sources  \\n\\n  Zawe Ashton on Lapland —...</td>\n",
              "    </tr>\n",
              "    <tr>\n",
              "      <th>3</th>\n",
              "      <td>00017563c3f7919a</td>\n",
              "      <td>If you have a look back at the source the info...</td>\n",
              "    </tr>\n",
              "    <tr>\n",
              "      <th>4</th>\n",
              "      <td>00017695ad8997eb</td>\n",
              "      <td>I dont anonymously edit articles at all</td>\n",
              "    </tr>\n",
              "    <tr>\n",
              "      <th>5</th>\n",
              "      <td>0001ea8717f6de06</td>\n",
              "      <td>Thank you for understanding I think very highl...</td>\n",
              "    </tr>\n",
              "    <tr>\n",
              "      <th>6</th>\n",
              "      <td>00024115d4cbde0f</td>\n",
              "      <td>Please do not add nonsense to Wikipedia Such e...</td>\n",
              "    </tr>\n",
              "    <tr>\n",
              "      <th>7</th>\n",
              "      <td>000247e83dcc1211</td>\n",
              "      <td>Dear god this site is horrible</td>\n",
              "    </tr>\n",
              "    <tr>\n",
              "      <th>8</th>\n",
              "      <td>00025358d4737918</td>\n",
              "      <td>\\n Only a fool can believe in such numbers \\n...</td>\n",
              "    </tr>\n",
              "    <tr>\n",
              "      <th>9</th>\n",
              "      <td>00026d1092fe71cc</td>\n",
              "      <td>Double Redirects  \\n\\n When fixing double red...</td>\n",
              "    </tr>\n",
              "  </tbody>\n",
              "</table>\n",
              "</div>"
            ],
            "text/plain": [
              "                 id                                       comment_text\n",
              "0  00001cee341fdb12  Yo bitch Ja Rule is more succesful then youll ...\n",
              "1  0000247867823ef7      From RfC  \\n\\n The title is fine as it is IMO\n",
              "2  00013b17ad220c46   \\n\\n  Sources  \\n\\n  Zawe Ashton on Lapland —...\n",
              "3  00017563c3f7919a  If you have a look back at the source the info...\n",
              "4  00017695ad8997eb            I dont anonymously edit articles at all\n",
              "5  0001ea8717f6de06  Thank you for understanding I think very highl...\n",
              "6  00024115d4cbde0f  Please do not add nonsense to Wikipedia Such e...\n",
              "7  000247e83dcc1211                     Dear god this site is horrible\n",
              "8  00025358d4737918   \\n Only a fool can believe in such numbers \\n...\n",
              "9  00026d1092fe71cc   Double Redirects  \\n\\n When fixing double red..."
            ]
          },
          "metadata": {
            "tags": []
          },
          "execution_count": 8
        }
      ]
    },
    {
      "cell_type": "code",
      "metadata": {
        "colab_type": "code",
        "id": "PAj6D9IZejb5",
        "colab": {},
        "outputId": "14321b90-4f42-49f7-d426-9dcfdd2f0628"
      },
      "source": [
        "df_test_labels = pd.read_csv('D:/çankaya/2ndYEAR/Thesis/Experiments/Data_Toxic Comment Classification/test_labels.csv')\n",
        "\n",
        "df_test_labels.head(10)"
      ],
      "execution_count": 0,
      "outputs": [
        {
          "output_type": "execute_result",
          "data": {
            "text/html": [
              "<div>\n",
              "<style scoped>\n",
              "    .dataframe tbody tr th:only-of-type {\n",
              "        vertical-align: middle;\n",
              "    }\n",
              "\n",
              "    .dataframe tbody tr th {\n",
              "        vertical-align: top;\n",
              "    }\n",
              "\n",
              "    .dataframe thead th {\n",
              "        text-align: right;\n",
              "    }\n",
              "</style>\n",
              "<table border=\"1\" class=\"dataframe\">\n",
              "  <thead>\n",
              "    <tr style=\"text-align: right;\">\n",
              "      <th></th>\n",
              "      <th>id</th>\n",
              "      <th>toxic</th>\n",
              "      <th>severe_toxic</th>\n",
              "      <th>obscene</th>\n",
              "      <th>threat</th>\n",
              "      <th>insult</th>\n",
              "      <th>identity_hate</th>\n",
              "    </tr>\n",
              "  </thead>\n",
              "  <tbody>\n",
              "    <tr>\n",
              "      <th>0</th>\n",
              "      <td>00001cee341fdb12</td>\n",
              "      <td>-1</td>\n",
              "      <td>-1</td>\n",
              "      <td>-1</td>\n",
              "      <td>-1</td>\n",
              "      <td>-1</td>\n",
              "      <td>-1</td>\n",
              "    </tr>\n",
              "    <tr>\n",
              "      <th>1</th>\n",
              "      <td>0000247867823ef7</td>\n",
              "      <td>-1</td>\n",
              "      <td>-1</td>\n",
              "      <td>-1</td>\n",
              "      <td>-1</td>\n",
              "      <td>-1</td>\n",
              "      <td>-1</td>\n",
              "    </tr>\n",
              "    <tr>\n",
              "      <th>2</th>\n",
              "      <td>00013b17ad220c46</td>\n",
              "      <td>-1</td>\n",
              "      <td>-1</td>\n",
              "      <td>-1</td>\n",
              "      <td>-1</td>\n",
              "      <td>-1</td>\n",
              "      <td>-1</td>\n",
              "    </tr>\n",
              "    <tr>\n",
              "      <th>3</th>\n",
              "      <td>00017563c3f7919a</td>\n",
              "      <td>-1</td>\n",
              "      <td>-1</td>\n",
              "      <td>-1</td>\n",
              "      <td>-1</td>\n",
              "      <td>-1</td>\n",
              "      <td>-1</td>\n",
              "    </tr>\n",
              "    <tr>\n",
              "      <th>4</th>\n",
              "      <td>00017695ad8997eb</td>\n",
              "      <td>-1</td>\n",
              "      <td>-1</td>\n",
              "      <td>-1</td>\n",
              "      <td>-1</td>\n",
              "      <td>-1</td>\n",
              "      <td>-1</td>\n",
              "    </tr>\n",
              "    <tr>\n",
              "      <th>5</th>\n",
              "      <td>0001ea8717f6de06</td>\n",
              "      <td>0</td>\n",
              "      <td>0</td>\n",
              "      <td>0</td>\n",
              "      <td>0</td>\n",
              "      <td>0</td>\n",
              "      <td>0</td>\n",
              "    </tr>\n",
              "    <tr>\n",
              "      <th>6</th>\n",
              "      <td>00024115d4cbde0f</td>\n",
              "      <td>-1</td>\n",
              "      <td>-1</td>\n",
              "      <td>-1</td>\n",
              "      <td>-1</td>\n",
              "      <td>-1</td>\n",
              "      <td>-1</td>\n",
              "    </tr>\n",
              "    <tr>\n",
              "      <th>7</th>\n",
              "      <td>000247e83dcc1211</td>\n",
              "      <td>0</td>\n",
              "      <td>0</td>\n",
              "      <td>0</td>\n",
              "      <td>0</td>\n",
              "      <td>0</td>\n",
              "      <td>0</td>\n",
              "    </tr>\n",
              "    <tr>\n",
              "      <th>8</th>\n",
              "      <td>00025358d4737918</td>\n",
              "      <td>-1</td>\n",
              "      <td>-1</td>\n",
              "      <td>-1</td>\n",
              "      <td>-1</td>\n",
              "      <td>-1</td>\n",
              "      <td>-1</td>\n",
              "    </tr>\n",
              "    <tr>\n",
              "      <th>9</th>\n",
              "      <td>00026d1092fe71cc</td>\n",
              "      <td>-1</td>\n",
              "      <td>-1</td>\n",
              "      <td>-1</td>\n",
              "      <td>-1</td>\n",
              "      <td>-1</td>\n",
              "      <td>-1</td>\n",
              "    </tr>\n",
              "  </tbody>\n",
              "</table>\n",
              "</div>"
            ],
            "text/plain": [
              "                 id  toxic  severe_toxic  obscene  threat  insult  \\\n",
              "0  00001cee341fdb12     -1            -1       -1      -1      -1   \n",
              "1  0000247867823ef7     -1            -1       -1      -1      -1   \n",
              "2  00013b17ad220c46     -1            -1       -1      -1      -1   \n",
              "3  00017563c3f7919a     -1            -1       -1      -1      -1   \n",
              "4  00017695ad8997eb     -1            -1       -1      -1      -1   \n",
              "5  0001ea8717f6de06      0             0        0       0       0   \n",
              "6  00024115d4cbde0f     -1            -1       -1      -1      -1   \n",
              "7  000247e83dcc1211      0             0        0       0       0   \n",
              "8  00025358d4737918     -1            -1       -1      -1      -1   \n",
              "9  00026d1092fe71cc     -1            -1       -1      -1      -1   \n",
              "\n",
              "   identity_hate  \n",
              "0             -1  \n",
              "1             -1  \n",
              "2             -1  \n",
              "3             -1  \n",
              "4             -1  \n",
              "5              0  \n",
              "6             -1  \n",
              "7              0  \n",
              "8             -1  \n",
              "9             -1  "
            ]
          },
          "metadata": {
            "tags": []
          },
          "execution_count": 9
        }
      ]
    },
    {
      "cell_type": "code",
      "metadata": {
        "colab_type": "code",
        "id": "wB71FX4Lejb_",
        "colab": {},
        "outputId": "9003d330-1c1b-48f8-d296-cb8db980238b"
      },
      "source": [
        "test_labels = df_test_labels[(df_test_labels[['toxic','severe_toxic', 'obscene', 'threat', \n",
        "                                        'insult', 'identity_hate']] != -1).all(axis=1)]\n",
        "test_labels.head(10)"
      ],
      "execution_count": 0,
      "outputs": [
        {
          "output_type": "execute_result",
          "data": {
            "text/html": [
              "<div>\n",
              "<style scoped>\n",
              "    .dataframe tbody tr th:only-of-type {\n",
              "        vertical-align: middle;\n",
              "    }\n",
              "\n",
              "    .dataframe tbody tr th {\n",
              "        vertical-align: top;\n",
              "    }\n",
              "\n",
              "    .dataframe thead th {\n",
              "        text-align: right;\n",
              "    }\n",
              "</style>\n",
              "<table border=\"1\" class=\"dataframe\">\n",
              "  <thead>\n",
              "    <tr style=\"text-align: right;\">\n",
              "      <th></th>\n",
              "      <th>id</th>\n",
              "      <th>toxic</th>\n",
              "      <th>severe_toxic</th>\n",
              "      <th>obscene</th>\n",
              "      <th>threat</th>\n",
              "      <th>insult</th>\n",
              "      <th>identity_hate</th>\n",
              "    </tr>\n",
              "  </thead>\n",
              "  <tbody>\n",
              "    <tr>\n",
              "      <th>5</th>\n",
              "      <td>0001ea8717f6de06</td>\n",
              "      <td>0</td>\n",
              "      <td>0</td>\n",
              "      <td>0</td>\n",
              "      <td>0</td>\n",
              "      <td>0</td>\n",
              "      <td>0</td>\n",
              "    </tr>\n",
              "    <tr>\n",
              "      <th>7</th>\n",
              "      <td>000247e83dcc1211</td>\n",
              "      <td>0</td>\n",
              "      <td>0</td>\n",
              "      <td>0</td>\n",
              "      <td>0</td>\n",
              "      <td>0</td>\n",
              "      <td>0</td>\n",
              "    </tr>\n",
              "    <tr>\n",
              "      <th>11</th>\n",
              "      <td>0002f87b16116a7f</td>\n",
              "      <td>0</td>\n",
              "      <td>0</td>\n",
              "      <td>0</td>\n",
              "      <td>0</td>\n",
              "      <td>0</td>\n",
              "      <td>0</td>\n",
              "    </tr>\n",
              "    <tr>\n",
              "      <th>13</th>\n",
              "      <td>0003e1cccfd5a40a</td>\n",
              "      <td>0</td>\n",
              "      <td>0</td>\n",
              "      <td>0</td>\n",
              "      <td>0</td>\n",
              "      <td>0</td>\n",
              "      <td>0</td>\n",
              "    </tr>\n",
              "    <tr>\n",
              "      <th>14</th>\n",
              "      <td>00059ace3e3e9a53</td>\n",
              "      <td>0</td>\n",
              "      <td>0</td>\n",
              "      <td>0</td>\n",
              "      <td>0</td>\n",
              "      <td>0</td>\n",
              "      <td>0</td>\n",
              "    </tr>\n",
              "    <tr>\n",
              "      <th>16</th>\n",
              "      <td>000663aff0fffc80</td>\n",
              "      <td>0</td>\n",
              "      <td>0</td>\n",
              "      <td>0</td>\n",
              "      <td>0</td>\n",
              "      <td>0</td>\n",
              "      <td>0</td>\n",
              "    </tr>\n",
              "    <tr>\n",
              "      <th>17</th>\n",
              "      <td>000689dd34e20979</td>\n",
              "      <td>0</td>\n",
              "      <td>0</td>\n",
              "      <td>0</td>\n",
              "      <td>0</td>\n",
              "      <td>0</td>\n",
              "      <td>0</td>\n",
              "    </tr>\n",
              "    <tr>\n",
              "      <th>19</th>\n",
              "      <td>000844b52dee5f3f</td>\n",
              "      <td>0</td>\n",
              "      <td>0</td>\n",
              "      <td>0</td>\n",
              "      <td>0</td>\n",
              "      <td>0</td>\n",
              "      <td>0</td>\n",
              "    </tr>\n",
              "    <tr>\n",
              "      <th>21</th>\n",
              "      <td>00091c35fa9d0465</td>\n",
              "      <td>1</td>\n",
              "      <td>0</td>\n",
              "      <td>0</td>\n",
              "      <td>0</td>\n",
              "      <td>0</td>\n",
              "      <td>0</td>\n",
              "    </tr>\n",
              "    <tr>\n",
              "      <th>22</th>\n",
              "      <td>000968ce11f5ee34</td>\n",
              "      <td>0</td>\n",
              "      <td>0</td>\n",
              "      <td>0</td>\n",
              "      <td>0</td>\n",
              "      <td>0</td>\n",
              "      <td>0</td>\n",
              "    </tr>\n",
              "  </tbody>\n",
              "</table>\n",
              "</div>"
            ],
            "text/plain": [
              "                  id  toxic  severe_toxic  obscene  threat  insult  \\\n",
              "5   0001ea8717f6de06      0             0        0       0       0   \n",
              "7   000247e83dcc1211      0             0        0       0       0   \n",
              "11  0002f87b16116a7f      0             0        0       0       0   \n",
              "13  0003e1cccfd5a40a      0             0        0       0       0   \n",
              "14  00059ace3e3e9a53      0             0        0       0       0   \n",
              "16  000663aff0fffc80      0             0        0       0       0   \n",
              "17  000689dd34e20979      0             0        0       0       0   \n",
              "19  000844b52dee5f3f      0             0        0       0       0   \n",
              "21  00091c35fa9d0465      1             0        0       0       0   \n",
              "22  000968ce11f5ee34      0             0        0       0       0   \n",
              "\n",
              "    identity_hate  \n",
              "5               0  \n",
              "7               0  \n",
              "11              0  \n",
              "13              0  \n",
              "14              0  \n",
              "16              0  \n",
              "17              0  \n",
              "19              0  \n",
              "21              0  \n",
              "22              0  "
            ]
          },
          "metadata": {
            "tags": []
          },
          "execution_count": 10
        }
      ]
    },
    {
      "cell_type": "markdown",
      "metadata": {
        "colab_type": "text",
        "id": "Z4WMHSsEejcF"
      },
      "source": [
        "### Merge the df_test and test_labels into 1 dataframe (test)"
      ]
    },
    {
      "cell_type": "code",
      "metadata": {
        "colab_type": "code",
        "id": "IN1JvMJxejcH",
        "colab": {},
        "outputId": "badc46d2-547b-41d3-a775-b459b2918d9c"
      },
      "source": [
        "#Merge the df_test and test_labels into 1 dataframe (test)\n",
        "test = pd.merge(test_labels, df_test, on='id', how='inner')\n",
        "test.head(10)"
      ],
      "execution_count": 0,
      "outputs": [
        {
          "output_type": "execute_result",
          "data": {
            "text/html": [
              "<div>\n",
              "<style scoped>\n",
              "    .dataframe tbody tr th:only-of-type {\n",
              "        vertical-align: middle;\n",
              "    }\n",
              "\n",
              "    .dataframe tbody tr th {\n",
              "        vertical-align: top;\n",
              "    }\n",
              "\n",
              "    .dataframe thead th {\n",
              "        text-align: right;\n",
              "    }\n",
              "</style>\n",
              "<table border=\"1\" class=\"dataframe\">\n",
              "  <thead>\n",
              "    <tr style=\"text-align: right;\">\n",
              "      <th></th>\n",
              "      <th>id</th>\n",
              "      <th>toxic</th>\n",
              "      <th>severe_toxic</th>\n",
              "      <th>obscene</th>\n",
              "      <th>threat</th>\n",
              "      <th>insult</th>\n",
              "      <th>identity_hate</th>\n",
              "      <th>comment_text</th>\n",
              "    </tr>\n",
              "  </thead>\n",
              "  <tbody>\n",
              "    <tr>\n",
              "      <th>0</th>\n",
              "      <td>0001ea8717f6de06</td>\n",
              "      <td>0</td>\n",
              "      <td>0</td>\n",
              "      <td>0</td>\n",
              "      <td>0</td>\n",
              "      <td>0</td>\n",
              "      <td>0</td>\n",
              "      <td>Thank you for understanding I think very highl...</td>\n",
              "    </tr>\n",
              "    <tr>\n",
              "      <th>1</th>\n",
              "      <td>000247e83dcc1211</td>\n",
              "      <td>0</td>\n",
              "      <td>0</td>\n",
              "      <td>0</td>\n",
              "      <td>0</td>\n",
              "      <td>0</td>\n",
              "      <td>0</td>\n",
              "      <td>Dear god this site is horrible</td>\n",
              "    </tr>\n",
              "    <tr>\n",
              "      <th>2</th>\n",
              "      <td>0002f87b16116a7f</td>\n",
              "      <td>0</td>\n",
              "      <td>0</td>\n",
              "      <td>0</td>\n",
              "      <td>0</td>\n",
              "      <td>0</td>\n",
              "      <td>0</td>\n",
              "      <td>Somebody will invariably try to add Religion ...</td>\n",
              "    </tr>\n",
              "    <tr>\n",
              "      <th>3</th>\n",
              "      <td>0003e1cccfd5a40a</td>\n",
              "      <td>0</td>\n",
              "      <td>0</td>\n",
              "      <td>0</td>\n",
              "      <td>0</td>\n",
              "      <td>0</td>\n",
              "      <td>0</td>\n",
              "      <td>\\n\\n It says it right there that it IS a type...</td>\n",
              "    </tr>\n",
              "    <tr>\n",
              "      <th>4</th>\n",
              "      <td>00059ace3e3e9a53</td>\n",
              "      <td>0</td>\n",
              "      <td>0</td>\n",
              "      <td>0</td>\n",
              "      <td>0</td>\n",
              "      <td>0</td>\n",
              "      <td>0</td>\n",
              "      <td>\\n\\n  Before adding a new product to the list...</td>\n",
              "    </tr>\n",
              "    <tr>\n",
              "      <th>5</th>\n",
              "      <td>000663aff0fffc80</td>\n",
              "      <td>0</td>\n",
              "      <td>0</td>\n",
              "      <td>0</td>\n",
              "      <td>0</td>\n",
              "      <td>0</td>\n",
              "      <td>0</td>\n",
              "      <td>this other one from 1897</td>\n",
              "    </tr>\n",
              "    <tr>\n",
              "      <th>6</th>\n",
              "      <td>000689dd34e20979</td>\n",
              "      <td>0</td>\n",
              "      <td>0</td>\n",
              "      <td>0</td>\n",
              "      <td>0</td>\n",
              "      <td>0</td>\n",
              "      <td>0</td>\n",
              "      <td>Reason for banning throwing  \\n\\n This articl...</td>\n",
              "    </tr>\n",
              "    <tr>\n",
              "      <th>7</th>\n",
              "      <td>000844b52dee5f3f</td>\n",
              "      <td>0</td>\n",
              "      <td>0</td>\n",
              "      <td>0</td>\n",
              "      <td>0</td>\n",
              "      <td>0</td>\n",
              "      <td>0</td>\n",
              "      <td>blocked from editing Wikipedia</td>\n",
              "    </tr>\n",
              "    <tr>\n",
              "      <th>8</th>\n",
              "      <td>00091c35fa9d0465</td>\n",
              "      <td>1</td>\n",
              "      <td>0</td>\n",
              "      <td>0</td>\n",
              "      <td>0</td>\n",
              "      <td>0</td>\n",
              "      <td>0</td>\n",
              "      <td>Arabs are committing genocide in Iraq but no ...</td>\n",
              "    </tr>\n",
              "    <tr>\n",
              "      <th>9</th>\n",
              "      <td>000968ce11f5ee34</td>\n",
              "      <td>0</td>\n",
              "      <td>0</td>\n",
              "      <td>0</td>\n",
              "      <td>0</td>\n",
              "      <td>0</td>\n",
              "      <td>0</td>\n",
              "      <td>Please stop If you continue to vandalize Wikip...</td>\n",
              "    </tr>\n",
              "  </tbody>\n",
              "</table>\n",
              "</div>"
            ],
            "text/plain": [
              "                 id  toxic  severe_toxic  obscene  threat  insult  \\\n",
              "0  0001ea8717f6de06      0             0        0       0       0   \n",
              "1  000247e83dcc1211      0             0        0       0       0   \n",
              "2  0002f87b16116a7f      0             0        0       0       0   \n",
              "3  0003e1cccfd5a40a      0             0        0       0       0   \n",
              "4  00059ace3e3e9a53      0             0        0       0       0   \n",
              "5  000663aff0fffc80      0             0        0       0       0   \n",
              "6  000689dd34e20979      0             0        0       0       0   \n",
              "7  000844b52dee5f3f      0             0        0       0       0   \n",
              "8  00091c35fa9d0465      1             0        0       0       0   \n",
              "9  000968ce11f5ee34      0             0        0       0       0   \n",
              "\n",
              "   identity_hate                                       comment_text  \n",
              "0              0  Thank you for understanding I think very highl...  \n",
              "1              0                     Dear god this site is horrible  \n",
              "2              0   Somebody will invariably try to add Religion ...  \n",
              "3              0   \\n\\n It says it right there that it IS a type...  \n",
              "4              0   \\n\\n  Before adding a new product to the list...  \n",
              "5              0                           this other one from 1897  \n",
              "6              0   Reason for banning throwing  \\n\\n This articl...  \n",
              "7              0                  blocked from editing Wikipedia     \n",
              "8              0   Arabs are committing genocide in Iraq but no ...  \n",
              "9              0  Please stop If you continue to vandalize Wikip...  "
            ]
          },
          "metadata": {
            "tags": []
          },
          "execution_count": 11
        }
      ]
    },
    {
      "cell_type": "code",
      "metadata": {
        "id": "HG-y51ddDVX8",
        "colab_type": "code",
        "colab": {},
        "outputId": "6e4b26ab-830f-4cec-92f1-ec5a3b01c46a"
      },
      "source": [
        "test = test.loc[(test['toxic'] == 1) | (test['severe_toxic'] == 1) | (test['obscene'] ==1) | (test['threat'] == 1) | (test['insult'] == 1) | (test['identity_hate'] ==1)]\n",
        "\n",
        "test.head(10)"
      ],
      "execution_count": 0,
      "outputs": [
        {
          "output_type": "execute_result",
          "data": {
            "text/html": [
              "<div>\n",
              "<style scoped>\n",
              "    .dataframe tbody tr th:only-of-type {\n",
              "        vertical-align: middle;\n",
              "    }\n",
              "\n",
              "    .dataframe tbody tr th {\n",
              "        vertical-align: top;\n",
              "    }\n",
              "\n",
              "    .dataframe thead th {\n",
              "        text-align: right;\n",
              "    }\n",
              "</style>\n",
              "<table border=\"1\" class=\"dataframe\">\n",
              "  <thead>\n",
              "    <tr style=\"text-align: right;\">\n",
              "      <th></th>\n",
              "      <th>id</th>\n",
              "      <th>toxic</th>\n",
              "      <th>severe_toxic</th>\n",
              "      <th>obscene</th>\n",
              "      <th>threat</th>\n",
              "      <th>insult</th>\n",
              "      <th>identity_hate</th>\n",
              "      <th>comment_text</th>\n",
              "    </tr>\n",
              "  </thead>\n",
              "  <tbody>\n",
              "    <tr>\n",
              "      <th>8</th>\n",
              "      <td>00091c35fa9d0465</td>\n",
              "      <td>1</td>\n",
              "      <td>0</td>\n",
              "      <td>0</td>\n",
              "      <td>0</td>\n",
              "      <td>0</td>\n",
              "      <td>0</td>\n",
              "      <td>Arabs are committing genocide in Iraq but no ...</td>\n",
              "    </tr>\n",
              "    <tr>\n",
              "      <th>24</th>\n",
              "      <td>0013fed3aeae76b7</td>\n",
              "      <td>1</td>\n",
              "      <td>0</td>\n",
              "      <td>1</td>\n",
              "      <td>0</td>\n",
              "      <td>1</td>\n",
              "      <td>1</td>\n",
              "      <td>DJ Robinson is gay as hell he sucks his dick s...</td>\n",
              "    </tr>\n",
              "    <tr>\n",
              "      <th>29</th>\n",
              "      <td>0017d4d47894af05</td>\n",
              "      <td>1</td>\n",
              "      <td>0</td>\n",
              "      <td>1</td>\n",
              "      <td>0</td>\n",
              "      <td>1</td>\n",
              "      <td>0</td>\n",
              "      <td>Fuck off you antisemitic cunt</td>\n",
              "    </tr>\n",
              "    <tr>\n",
              "      <th>38</th>\n",
              "      <td>001d739c97bc2ae4</td>\n",
              "      <td>1</td>\n",
              "      <td>0</td>\n",
              "      <td>0</td>\n",
              "      <td>0</td>\n",
              "      <td>0</td>\n",
              "      <td>0</td>\n",
              "      <td>How dare you vandalize that page about the HMS...</td>\n",
              "    </tr>\n",
              "    <tr>\n",
              "      <th>40</th>\n",
              "      <td>001eff4007dbb65b</td>\n",
              "      <td>1</td>\n",
              "      <td>0</td>\n",
              "      <td>1</td>\n",
              "      <td>0</td>\n",
              "      <td>1</td>\n",
              "      <td>0</td>\n",
              "      <td>No he is an arrogant self serving immature idi...</td>\n",
              "    </tr>\n",
              "    <tr>\n",
              "      <th>89</th>\n",
              "      <td>005f47397e07e12f</td>\n",
              "      <td>1</td>\n",
              "      <td>0</td>\n",
              "      <td>0</td>\n",
              "      <td>0</td>\n",
              "      <td>0</td>\n",
              "      <td>0</td>\n",
              "      <td>Eek but shes cute in an earthy kind of way Can...</td>\n",
              "    </tr>\n",
              "    <tr>\n",
              "      <th>106</th>\n",
              "      <td>0071940212267fea</td>\n",
              "      <td>1</td>\n",
              "      <td>0</td>\n",
              "      <td>1</td>\n",
              "      <td>0</td>\n",
              "      <td>0</td>\n",
              "      <td>0</td>\n",
              "      <td>Well it sucks to have a university to be nickn...</td>\n",
              "    </tr>\n",
              "    <tr>\n",
              "      <th>107</th>\n",
              "      <td>0072b9c3697ab8cc</td>\n",
              "      <td>1</td>\n",
              "      <td>0</td>\n",
              "      <td>1</td>\n",
              "      <td>0</td>\n",
              "      <td>1</td>\n",
              "      <td>0</td>\n",
              "      <td>Argh  \\n\\n Some random idiot deleted the whol...</td>\n",
              "    </tr>\n",
              "    <tr>\n",
              "      <th>124</th>\n",
              "      <td>0081b14d79f54b31</td>\n",
              "      <td>1</td>\n",
              "      <td>0</td>\n",
              "      <td>1</td>\n",
              "      <td>1</td>\n",
              "      <td>0</td>\n",
              "      <td>0</td>\n",
              "      <td>we hate america and we are going to bomb the s...</td>\n",
              "    </tr>\n",
              "    <tr>\n",
              "      <th>125</th>\n",
              "      <td>00842d1024b19972</td>\n",
              "      <td>1</td>\n",
              "      <td>0</td>\n",
              "      <td>1</td>\n",
              "      <td>0</td>\n",
              "      <td>1</td>\n",
              "      <td>0</td>\n",
              "      <td>Bold textYOU SUCK  \\n\\n  \\n\\n U SUCK HANNAH M...</td>\n",
              "    </tr>\n",
              "  </tbody>\n",
              "</table>\n",
              "</div>"
            ],
            "text/plain": [
              "                   id  toxic  severe_toxic  obscene  threat  insult  \\\n",
              "8    00091c35fa9d0465      1             0        0       0       0   \n",
              "24   0013fed3aeae76b7      1             0        1       0       1   \n",
              "29   0017d4d47894af05      1             0        1       0       1   \n",
              "38   001d739c97bc2ae4      1             0        0       0       0   \n",
              "40   001eff4007dbb65b      1             0        1       0       1   \n",
              "89   005f47397e07e12f      1             0        0       0       0   \n",
              "106  0071940212267fea      1             0        1       0       0   \n",
              "107  0072b9c3697ab8cc      1             0        1       0       1   \n",
              "124  0081b14d79f54b31      1             0        1       1       0   \n",
              "125  00842d1024b19972      1             0        1       0       1   \n",
              "\n",
              "     identity_hate                                       comment_text  \n",
              "8                0   Arabs are committing genocide in Iraq but no ...  \n",
              "24               1  DJ Robinson is gay as hell he sucks his dick s...  \n",
              "29               0                    Fuck off you antisemitic cunt    \n",
              "38               0  How dare you vandalize that page about the HMS...  \n",
              "40               0  No he is an arrogant self serving immature idi...  \n",
              "89               0  Eek but shes cute in an earthy kind of way Can...  \n",
              "106              0  Well it sucks to have a university to be nickn...  \n",
              "107              0   Argh  \\n\\n Some random idiot deleted the whol...  \n",
              "124              0  we hate america and we are going to bomb the s...  \n",
              "125              0   Bold textYOU SUCK  \\n\\n  \\n\\n U SUCK HANNAH M...  "
            ]
          },
          "metadata": {
            "tags": []
          },
          "execution_count": 12
        }
      ]
    },
    {
      "cell_type": "markdown",
      "metadata": {
        "colab_type": "text",
        "id": "yMHnqLRhejcO"
      },
      "source": [
        "### Number of records in the train and test data"
      ]
    },
    {
      "cell_type": "code",
      "metadata": {
        "colab_type": "code",
        "id": "N0shTlrPejcQ",
        "colab": {},
        "outputId": "31188ae0-bc2a-437a-bb46-9e63f2ec7338"
      },
      "source": [
        "print(\"Train data shape\", train.shape)\n",
        "print(\"Test data shape\", test.shape)"
      ],
      "execution_count": 0,
      "outputs": [
        {
          "output_type": "stream",
          "text": [
            "Train data shape (16225, 8)\n",
            "Test data shape (6234, 8)\n"
          ],
          "name": "stdout"
        }
      ]
    },
    {
      "cell_type": "code",
      "metadata": {
        "colab_type": "code",
        "id": "dl8sCOPEejcX",
        "colab": {},
        "outputId": "428b7b97-10b8-47ff-9826-505211210b12"
      },
      "source": [
        "# check that there are no missing values in either training set\n",
        "print('The dataset has', train.isna().sum().sum(), 'missing values in train data.')\n",
        "print('The dataset has', test.isna().sum().sum(), 'missing values in test data.')\n",
        "\n",
        "# check if there are any duplicates\n",
        "print('The dataset has', train.duplicated().sum(), 'duplicates in train data.')\n",
        "print('The dataset has', test.duplicated().sum(), 'duplicates in test data.')"
      ],
      "execution_count": 0,
      "outputs": [
        {
          "output_type": "stream",
          "text": [
            "The dataset has 0 missing values in train data.\n",
            "The dataset has 0 missing values in test data.\n",
            "The dataset has 0 duplicates in train data.\n",
            "The dataset has 0 duplicates in test data.\n"
          ],
          "name": "stdout"
        }
      ]
    },
    {
      "cell_type": "markdown",
      "metadata": {
        "colab_type": "text",
        "id": "OcndCtd4ejcj"
      },
      "source": [
        "### CORRELATION BETWEEN DATA LABELS"
      ]
    },
    {
      "cell_type": "code",
      "metadata": {
        "colab_type": "code",
        "id": "xYT_uhvEejcl",
        "colab": {},
        "outputId": "6e430fd1-b67f-49a2-c681-e2fe310a17b9"
      },
      "source": [
        "fig, ax = plt.subplots(figsize=(10, 6))\n",
        "fig.suptitle('Correlation Matrix')\n",
        "sns.heatmap(train.corr(), annot=True, cmap=\"Greens\", linewidths=.5, ax=ax);"
      ],
      "execution_count": 0,
      "outputs": [
        {
          "output_type": "display_data",
          "data": {
            "image/png": "[encoded data removed]",
            "text/plain": [
              "<Figure size 720x432 with 2 Axes>"
            ]
          },
          "metadata": {
            "tags": [],
            "needs_background": "light"
          }
        }
      ]
    },
    {
      "cell_type": "markdown",
      "metadata": {
        "colab_type": "text",
        "id": "4MQuxIYfejcq"
      },
      "source": [
        "The correlation figure below shows that Toxic\" comments are clearly correlated with both \"obscene\" and \"insult\" comments. Interestingly, \"toxic\" and \"severe_toxic\" are only weakly correlated. While we can also observe that, \"Obscene\" comments and \"insult\" comments are also highly correlated, which makes perfect sense."
      ]
    },
    {
      "cell_type": "markdown",
      "metadata": {
        "colab_type": "text",
        "id": "FHcTJeqwejcr"
      },
      "source": [
        "### DATA PREPROCESSING\n",
        "Deep Neural Networks input layers make use of input variables to feed the network for training the model. But in this task (experiment), we're dealing with words text. How do we represent these words in order to feed our model?\n",
        "\n",
        "In our experiment, we used densed representation of those text (comments) and their semanticity together. The advantage of using this approach is the best way for fitting neural networks onto a text data (as in our case), as well as less memory usage compared to other sparse representation approaches.\n",
        "\n",
        "\n",
        "#### Word Embedding\n",
        "Two ways to feed embeddings to neural networks:\n",
        "   * Using your own word embeddings by training\n",
        "   * Using pre-trained embedding (e.g Word2vec, lad2vec, Glove etc)\n",
        "   \n"
      ]
    },
    {
      "cell_type": "code",
      "metadata": {
        "colab_type": "code",
        "id": "LL_5zSxjejcs",
        "colab": {}
      },
      "source": [
        "#Convert text to vectors using keras preprocessing library tools\n",
        "\n",
        "X_train = train[\"comment_text\"].values\n",
        "X_test  = test[\"comment_text\"].values\n",
        "\n",
        "y_train = train[[\"toxic\", \"severe_toxic\", \"obscene\", \"threat\", \"insult\", \"identity_hate\"]].values\n",
        "y_test  = test[[\"toxic\", \"severe_toxic\", \"obscene\", \"threat\", \"insult\", \"identity_hate\"]].values"
      ],
      "execution_count": 0,
      "outputs": []
    },
    {
      "cell_type": "markdown",
      "metadata": {
        "colab_type": "text",
        "id": "uwqi-osSejcv"
      },
      "source": [
        "\n",
        "\n",
        "\n",
        "\n",
        "\n",
        "For the first embedding, we used keras preprocessing (Text Preprocessing) libraries. This class allows to vectorize a text corpus, by turning each text into either a sequence of integers (each integer being the index of a token in a dictionary) or into a vector where the coefficient for each token could be binary, based on word count, based on tf-idf"
      ]
    },
    {
      "cell_type": "code",
      "metadata": {
        "colab_type": "code",
        "id": "H0rNWt-8ejcz",
        "colab": {}
      },
      "source": [
        "num_words = 20000 #Max. workds to use per toxic comment\n",
        "max_features = 200000 #Max. number of unique words in embeddinbg vector\n",
        "max_len = 200 #Max. number of words per toxic comment to be use\n",
        "embedding_dims = 128 #embedding vector output dimension \n",
        "num_epochs = 15 # (before 5)number of epochs (number of times that the model is exposed to the training dataset)\n",
        "val_split = 0.1\n",
        "batch_size2 = 256 #(before 32)The **batch size** is the number of training examples in one forward/backward pass.\n",
        "                  # In general, larger batch sizes result in faster progress in training, but don't always converge as quickly. \n",
        "                  #Smaller batch sizes train slower, but can converge faster. And the higher the batch size, the more memory space you’ll need."
      ],
      "execution_count": 0,
      "outputs": []
    },
    {
      "cell_type": "code",
      "metadata": {
        "colab_type": "code",
        "id": "cTMhD2dpejcw",
        "colab": {},
        "outputId": "c1076102-fab1-469e-f235-224f1505fe89"
      },
      "source": [
        "#toxic comments Tokenization\n",
        "tokenizer = tokenizer = Tokenizer(num_words)\n",
        "tokenizer.fit_on_texts(list(X_train))\n",
        "\n",
        "#Convert tokenized toxic commnent to sequnces\n",
        "X_train = tokenizer.texts_to_sequences(X_train)\n",
        "X_test = tokenizer.texts_to_sequences(X_test)\n",
        " \n",
        "# padding the sequences\n",
        "X_train = sequence.pad_sequences(X_train, max_len)\n",
        "X_test  = sequence.pad_sequences(X_test,  max_len)\n",
        "\n",
        "print('X_train shape:', X_train.shape)\n",
        "print('X_test shape: ', X_test.shape)"
      ],
      "execution_count": 0,
      "outputs": [
        {
          "output_type": "stream",
          "text": [
            "X_train shape: (16225, 200)\n",
            "X_test shape:  (6234, 200)\n"
          ],
          "name": "stdout"
        }
      ]
    },
    {
      "cell_type": "markdown",
      "metadata": {
        "colab_type": "text",
        "id": "vGxTYdg-WthP"
      },
      "source": [
        "##We use cross validation to split arrays or matrices of train data into random train and validation subsets"
      ]
    },
    {
      "cell_type": "code",
      "metadata": {
        "colab_type": "code",
        "id": "-9HAHH8FWrgE",
        "colab": {},
        "outputId": "11b74730-f31a-4262-b536-2ba1e730b6ce"
      },
      "source": [
        "X_tra, X_val, y_tra, y_val = train_test_split(X_train, y_train, train_size =0.9, random_state=233)"
      ],
      "execution_count": 0,
      "outputs": [
        {
          "output_type": "stream",
          "text": [
            "D:\\Program Files\\Anaconda\\lib\\site-packages\\sklearn\\model_selection\\_split.py:2179: FutureWarning:\n",
            "\n",
            "From version 0.21, test_size will always complement train_size unless both are specified.\n",
            "\n"
          ],
          "name": "stderr"
        }
      ]
    },
    {
      "cell_type": "markdown",
      "metadata": {
        "colab_type": "text",
        "id": "ELlEnN6GejdS"
      },
      "source": [
        "# METHODS (NN, CNN , RNN, LSTM, without pre-trained embedding)"
      ]
    },
    {
      "cell_type": "markdown",
      "metadata": {
        "colab_type": "text",
        "id": "0evQXvGIx-Zg"
      },
      "source": [
        "#### We used early callback functionality that allows you to specify the performance measure to monitor, the trigger, and once triggered. It will stop the training process."
      ]
    },
    {
      "cell_type": "code",
      "metadata": {
        "colab_type": "code",
        "id": "OAe9eO3YyOO-",
        "colab": {}
      },
      "source": [
        "early = EarlyStopping(monitor=\"val_loss\", mode=\"min\", patience=4)"
      ],
      "execution_count": 0,
      "outputs": []
    },
    {
      "cell_type": "markdown",
      "metadata": {
        "colab_type": "text",
        "id": "tQlxRa2xeymU"
      },
      "source": [
        "#### Using Precision, Recall, F1-Measure, AUC, mean etc evaluaiton metrics to evaluate our model"
      ]
    },
    {
      "cell_type": "code",
      "metadata": {
        "colab_type": "code",
        "id": "8g3jDUzie2RN",
        "colab": {}
      },
      "source": [
        "#Import necessary libraries\n",
        "4# demonstration of calculating metrics for a neural network model using sklearn\n",
        "from sklearn.datasets import make_circles\n",
        "from sklearn.metrics import accuracy_score\n",
        "from sklearn.metrics import precision_score\n",
        "from sklearn.metrics import recall_score\n",
        "from sklearn.metrics import f1_score\n",
        "from sklearn.metrics import cohen_kappa_score\n",
        "from sklearn.metrics import roc_auc_score\n",
        "from sklearn.metrics import confusion_matrix\n",
        "\n",
        "\n",
        "def precision(y_true, y_pred):\n",
        "    '''Calculates the precision, a metric for multi-label classification of\n",
        "    how many selected items are relevant.\n",
        "    '''\n",
        "    true_positives = K.sum(K.round(K.clip(y_true * y_pred, 0, 1)))\n",
        "    predicted_positives = K.sum(K.round(K.clip(y_pred, 0, 1)))\n",
        "    precision = true_positives / (predicted_positives + K.epsilon())\n",
        "    return precision\n",
        "\n",
        "\n",
        "def recall(y_true, y_pred):\n",
        "    '''Calculates the recall, a metric for multi-label classification of\n",
        "    how many relevant items are selected.\n",
        "    '''\n",
        "    true_positives = K.sum(K.round(K.clip(y_true * y_pred, 0, 1)))\n",
        "    possible_positives = K.sum(K.round(K.clip(y_true, 0, 1)))\n",
        "    recall = true_positives / (possible_positives + K.epsilon())\n",
        "    return recall\n",
        "\n",
        "  #Customized the evaluation to analyse the model in terms of accuracy and mean value accuracy\n",
        "def mean_pred(y_true, y_pred):\n",
        "    return K.mean(y_pred)\n",
        "\n",
        "def fbeta_score(y_true, y_pred, beta=1):\n",
        "    '''Calculates the F score, the weighted harmonic mean of precision and recall.\n",
        "    This is useful for multi-label classification, where input samples can be\n",
        "    classified as sets of labels. By only using accuracy (precision) a model\n",
        "    would achieve a perfect score by simply assigning every class to every\n",
        "    input. In order to avoid this, a metric should penalize incorrect class\n",
        "    assignments as well (recall). The F-beta score (ranged from 0.0 to 1.0)\n",
        "    computes this, as a weighted mean of the proportion of correct class\n",
        "    assignments vs. the proportion of incorrect class assignments.\n",
        "    With beta = 1, this is equivalent to a F-measure. With beta < 1, assigning\n",
        "    correct classes becomes more important, and with beta > 1 the metric is\n",
        "    instead weighted towards penalizing incorrect class assignments.\n",
        "    '''\n",
        "    if beta < 0:\n",
        "        raise ValueError('The lowest choosable beta is zero (only precision).')\n",
        "        \n",
        "    # If there are no true positives, fix the F score at 0 like sklearn.\n",
        "    if K.sum(K.round(K.clip(y_true, 0, 1))) == 0:\n",
        "        return 0\n",
        "\n",
        "    p = precision(y_true, y_pred)\n",
        "    r = recall(y_true, y_pred)\n",
        "    bb = beta ** 2\n",
        "    fbeta_score = (1 + bb) * (p * r) / (bb * p + r + K.epsilon())\n",
        "    return fbeta_score\n",
        "\n",
        "def auroc(y_true, y_pred):\n",
        "    auc = tf.metrics.auc(y_true, y_pred)[1]\n",
        "    K.get_session().run(tf.local_variables_initializer())\n",
        "    return auc\n",
        "\n",
        "\n",
        "def fmeasure(y_true, y_pred):\n",
        "    '''Calculates the f-measure, the harmonic mean of precision and recall.\n",
        "    '''\n",
        "    return fbeta_score(y_true, y_pred, beta=1)\n",
        "\n",
        "\n",
        "fscore = f1score = fmeasure"
      ],
      "execution_count": 0,
      "outputs": []
    },
    {
      "cell_type": "markdown",
      "metadata": {
        "colab_type": "text",
        "id": "6IYxIpKKejdU"
      },
      "source": [
        "## 1) Neural Network (NN)"
      ]
    },
    {
      "cell_type": "code",
      "metadata": {
        "colab_type": "code",
        "id": "ZfS1bFmuejdX",
        "colab": {},
        "outputId": "8df64268-36ab-46b1-979e-e0a6b509edb3"
      },
      "source": [
        "nn_model = Sequential([\n",
        "    Embedding(input_dim=max_features, input_length=max_len, output_dim=embedding_dims),\n",
        "    GlobalMaxPool1D(),\n",
        "    Dense(50, activation = 'relu'),\n",
        "    Dropout(0.3),\n",
        "    Dense(6, activation = 'sigmoid')\n",
        "])"
      ],
      "execution_count": 0,
      "outputs": [
        {
          "output_type": "stream",
          "text": [
            "WARNING:tensorflow:From D:\\Program Files\\Anaconda\\lib\\site-packages\\tensorflow\\python\\framework\\op_def_library.py:263: colocate_with (from tensorflow.python.framework.ops) is deprecated and will be removed in a future version.\n",
            "Instructions for updating:\n",
            "Colocations handled automatically by placer.\n",
            "WARNING:tensorflow:From D:\\Program Files\\Anaconda\\lib\\site-packages\\keras\\backend\\tensorflow_backend.py:3445: calling dropout (from tensorflow.python.ops.nn_ops) with keep_prob is deprecated and will be removed in a future version.\n",
            "Instructions for updating:\n",
            "Please use `rate` instead of `keep_prob`. Rate should be set to `rate = 1 - keep_prob`.\n"
          ],
          "name": "stdout"
        }
      ]
    },
    {
      "cell_type": "markdown",
      "metadata": {
        "colab_type": "text",
        "id": "NmnhIwlZejdg"
      },
      "source": [
        "### Compile the NN model"
      ]
    },
    {
      "cell_type": "code",
      "metadata": {
        "colab_type": "code",
        "id": "qRcp8LQlejdj",
        "colab": {},
        "outputId": "6398df1f-22c3-4a4b-b3ab-6b5ea659aca3"
      },
      "source": [
        "#Customized the evaluation to analyse the model in terms of accuracy and mean value accuracy\n",
        "def mean_pred(y_true, y_pred):\n",
        "    return K.mean(y_pred)\n",
        "\n",
        "\n",
        "nn_model.compile(loss='binary_crossentropy', optimizer=Adam(0.01), metrics=['accuracy', mean_pred, fmeasure, precision, auroc, recall])"
      ],
      "execution_count": 0,
      "outputs": [
        {
          "output_type": "stream",
          "text": [
            "WARNING:tensorflow:From D:\\Program Files\\Anaconda\\lib\\site-packages\\tensorflow\\python\\ops\\metrics_impl.py:526: to_float (from tensorflow.python.ops.math_ops) is deprecated and will be removed in a future version.\n",
            "Instructions for updating:\n",
            "Use tf.cast instead.\n",
            "WARNING:tensorflow:From D:\\Program Files\\Anaconda\\lib\\site-packages\\tensorflow\\python\\ops\\metrics_impl.py:788: div (from tensorflow.python.ops.math_ops) is deprecated and will be removed in a future version.\n",
            "Instructions for updating:\n",
            "Deprecated in favor of operator or tf.math.divide.\n"
          ],
          "name": "stdout"
        }
      ]
    },
    {
      "cell_type": "markdown",
      "metadata": {
        "colab_type": "text",
        "id": "qo0IneLWejdp"
      },
      "source": [
        "### Visualize the Orchestrated NN Architecture"
      ]
    },
    {
      "cell_type": "code",
      "metadata": {
        "colab_type": "code",
        "id": "iRCTXDsxejdr",
        "colab": {},
        "outputId": "653db69f-0ee6-4a8b-90c1-80a4b78bc908"
      },
      "source": [
        "nn_model.summary()"
      ],
      "execution_count": 0,
      "outputs": [
        {
          "output_type": "stream",
          "text": [
            "_________________________________________________________________\n",
            "Layer (type)                 Output Shape              Param #   \n",
            "=================================================================\n",
            "embedding_1 (Embedding)      (None, 200, 128)          25600000  \n",
            "_________________________________________________________________\n",
            "global_max_pooling1d_1 (Glob (None, 128)               0         \n",
            "_________________________________________________________________\n",
            "dense_1 (Dense)              (None, 50)                6450      \n",
            "_________________________________________________________________\n",
            "dropout_1 (Dropout)          (None, 50)                0         \n",
            "_________________________________________________________________\n",
            "dense_2 (Dense)              (None, 6)                 306       \n",
            "=================================================================\n",
            "Total params: 25,606,756\n",
            "Trainable params: 25,606,756\n",
            "Non-trainable params: 0\n",
            "_________________________________________________________________\n"
          ],
          "name": "stdout"
        }
      ]
    },
    {
      "cell_type": "code",
      "metadata": {
        "colab_type": "code",
        "id": "gLy1Fblwejdw",
        "colab": {}
      },
      "source": [
        "#plot the nn_model architecture\n",
        "\n",
        "#plot_model(nn_model, to_file='nn_model_plot.png', show_shapes=True, show_layer_names=True)\n",
        "#Image(retina=True, filename='nn_model_plot.png')"
      ],
      "execution_count": 0,
      "outputs": []
    },
    {
      "cell_type": "code",
      "metadata": {
        "colab_type": "code",
        "id": "MzBlQem0ejdy",
        "colab": {},
        "outputId": "111300c2-e7fb-45b2-e074-5969875b9dd1"
      },
      "source": [
        "nn_model_fit = nn_model.fit(X_tra, y_tra, batch_size=batch_size2, epochs=num_epochs, validation_data=(X_val, y_val), callbacks=[early])"
      ],
      "execution_count": 0,
      "outputs": [
        {
          "output_type": "stream",
          "text": [
            "WARNING:tensorflow:From D:\\Program Files\\Anaconda\\lib\\site-packages\\tensorflow\\python\\ops\\math_ops.py:3066: to_int32 (from tensorflow.python.ops.math_ops) is deprecated and will be removed in a future version.\n",
            "Instructions for updating:\n",
            "Use tf.cast instead.\n",
            "Train on 14602 samples, validate on 1623 samples\n",
            "Epoch 1/15\n",
            "14602/14602 [==============================] - 25s 2ms/step - loss: 0.4056 - acc: 0.8205 - mean_pred: 0.3768 - fmeasure: 0.7428 - precision: 0.7743 - auroc: 0.8468 - recall: 0.7158 - val_loss: 0.3063 - val_acc: 0.8728 - val_mean_pred: 0.3585 - val_fmeasure: 0.8102 - val_precision: 0.8663 - val_auroc: 0.8886 - val_recall: 0.7612\n",
            "Epoch 2/15\n",
            "14602/14602 [==============================] - 24s 2ms/step - loss: 0.2902 - acc: 0.8821 - mean_pred: 0.3608 - fmeasure: 0.8281 - precision: 0.8726 - auroc: 0.9064 - recall: 0.7886 - val_loss: 0.2842 - val_acc: 0.8817 - val_mean_pred: 0.3727 - val_fmeasure: 0.8321 - val_precision: 0.8431 - val_auroc: 0.9182 - val_recall: 0.8219\n",
            "Epoch 3/15\n",
            "14602/14602 [==============================] - 24s 2ms/step - loss: 0.2404 - acc: 0.9045 - mean_pred: 0.3614 - fmeasure: 0.8638 - precision: 0.8886 - auroc: 0.9275 - recall: 0.8407 - val_loss: 0.2949 - val_acc: 0.8781 - val_mean_pred: 0.3816 - val_fmeasure: 0.8313 - val_precision: 0.8217 - val_auroc: 0.9341 - val_recall: 0.8415\n",
            "Epoch 4/15\n",
            "14602/14602 [==============================] - 23s 2ms/step - loss: 0.2018 - acc: 0.9196 - mean_pred: 0.3609 - fmeasure: 0.8868 - precision: 0.9014 - auroc: 0.9401 - recall: 0.8730 - val_loss: 0.3229 - val_acc: 0.8729 - val_mean_pred: 0.3799 - val_fmeasure: 0.8242 - val_precision: 0.8145 - val_auroc: 0.9446 - val_recall: 0.8343\n",
            "Epoch 5/15\n",
            "14602/14602 [==============================] - 23s 2ms/step - loss: 0.1677 - acc: 0.9326 - mean_pred: 0.3623 - fmeasure: 0.9061 - precision: 0.9107 - auroc: 0.9492 - recall: 0.9020 - val_loss: 0.3439 - val_acc: 0.8725 - val_mean_pred: 0.3697 - val_fmeasure: 0.8242 - val_precision: 0.8119 - val_auroc: 0.9525 - val_recall: 0.8372\n",
            "Epoch 6/15\n",
            "14602/14602 [==============================] - 23s 2ms/step - loss: 0.1422 - acc: 0.9427 - mean_pred: 0.3614 - fmeasure: 0.9205 - precision: 0.9218 - auroc: 0.9560 - recall: 0.9194 - val_loss: 0.3695 - val_acc: 0.8738 - val_mean_pred: 0.3551 - val_fmeasure: 0.8229 - val_precision: 0.8247 - val_auroc: 0.9586 - val_recall: 0.8214\n"
          ],
          "name": "stdout"
        }
      ]
    },
    {
      "cell_type": "markdown",
      "metadata": {
        "colab_type": "text",
        "id": "_IZIZxQ9ejd2"
      },
      "source": [
        "### Evaluate the NN accuracy of our trained model"
      ]
    },
    {
      "cell_type": "code",
      "metadata": {
        "colab_type": "code",
        "id": "8ob3ye95ejd3",
        "colab": {},
        "outputId": "bedcb738-4acb-496c-f6da-44c914029afc"
      },
      "source": [
        "nn_train_score = nn_model.evaluate(X_tra, y_tra, batch_size = batch_size2, verbose = 1)\n",
        "print('Train loss:', nn_train_score[0])\n",
        "print('Train accuracy:', nn_train_score[1])"
      ],
      "execution_count": 0,
      "outputs": [
        {
          "output_type": "stream",
          "text": [
            ""
          ],
          "name": "stdout"
        },
        {
          "output_type": "stream",
          "text": [
            "14602/14602 [==============================] - 1s 62us/step\n",
            "Train loss: 0.0968818325907045\n",
            "Train accuracy: 0.9631557561260203\n"
          ],
          "name": "stdout"
        }
      ]
    },
    {
      "cell_type": "markdown",
      "metadata": {
        "colab_type": "text",
        "id": "DcTJIXSiejd6"
      },
      "source": [
        "### Evaluate the NN accuracy base on the test dataset"
      ]
    },
    {
      "cell_type": "code",
      "metadata": {
        "colab_type": "code",
        "id": "NbotTcnqejd7",
        "colab": {},
        "outputId": "8d0e72df-a132-4372-dc98-4d7e89a7a6e8"
      },
      "source": [
        "nn_test_score = nn_model.evaluate(X_test, y_test, batch_size=batch_size2, verbose=1)\n",
        "print('Test Loss:', nn_test_score[0])\n",
        "print('Test Accuracy:', nn_test_score[1])"
      ],
      "execution_count": 0,
      "outputs": [
        {
          "output_type": "stream",
          "text": [
            ""
          ],
          "name": "stdout"
        },
        {
          "output_type": "stream",
          "text": [
            "6234/6234 [==============================] - 0s 61us/step\n",
            "Test Loss: 0.3741809141570879\n",
            "Test Accuracy: 0.8702010899581395\n"
          ],
          "name": "stdout"
        }
      ]
    },
    {
      "cell_type": "code",
      "metadata": {
        "colab_type": "code",
        "id": "WOx9_GWQejeA",
        "colab": {},
        "outputId": "da87da5e-c7ab-4250-eb47-fd4e73784c45"
      },
      "source": [
        "#Predicting......\n",
        "print('Predicting....')\n",
        "y_pred = nn_model.predict(X_test,batch_size=batch_size2,verbose=1)"
      ],
      "execution_count": 0,
      "outputs": [
        {
          "output_type": "stream",
          "text": [
            "Predicting....\n",
            "6234/6234 [==============================] - 0s 51us/step\n"
          ],
          "name": "stdout"
        }
      ]
    },
    {
      "cell_type": "markdown",
      "metadata": {
        "colab_type": "text",
        "id": "yVXVp2HcejeN"
      },
      "source": [
        "### Plot Training & Validation Accuracy with the Loss values of the NN Model"
      ]
    },
    {
      "cell_type": "code",
      "metadata": {
        "colab_type": "code",
        "id": "kLZaIqkhejeP",
        "colab": {},
        "outputId": "12a7c788-44cf-44bd-bc5a-f774bf444788"
      },
      "source": [
        "# Plot training & validation accuracy values\n",
        "plt.plot(nn_model_fit.history['acc'])\n",
        "plt.plot(nn_model_fit.history['val_acc'])\n",
        "plt.title('Neural Network (NN) Model accuracy')\n",
        "plt.ylabel('Accuracy')\n",
        "plt.xlabel('Epoch')\n",
        "plt.legend(['Training Accuracy', 'Validation Accuracy'], loc='upper left')\n",
        "plt.show()\n",
        "\n",
        "# Plot training & validation loss values\n",
        "plt.plot(nn_model_fit.history['loss'])\n",
        "plt.plot(nn_model_fit.history['val_loss'])\n",
        "plt.title('Neural Network (NN) Model loss')\n",
        "plt.ylabel('Loss')\n",
        "plt.xlabel('Epoch')\n",
        "plt.legend(['Training Loss', 'Validation Loss'], loc='lower right')\n",
        "plt.show()"
      ],
      "execution_count": 0,
      "outputs": [
        {
          "output_type": "display_data",
          "data": {
            "image/png": "[encoded data removed]",
            "text/plain": [
              "<Figure size 432x288 with 1 Axes>"
            ]
          },
          "metadata": {
            "tags": [],
            "needs_background": "light"
          }
        },
        {
          "output_type": "display_data",
          "data": {
            "image/png": "[encoded data removed]",
            "text/plain": [
              "<Figure size 432x288 with 1 Axes>"
            ]
          },
          "metadata": {
            "tags": [],
            "needs_background": "light"
          }
        }
      ]
    },
    {
      "cell_type": "markdown",
      "metadata": {
        "colab_type": "text",
        "id": "Fvld34vXejeX"
      },
      "source": [
        "## 2) Convolutional Neural Network (CNN)"
      ]
    },
    {
      "cell_type": "code",
      "metadata": {
        "colab_type": "code",
        "id": "xRZT995EejeY",
        "colab": {}
      },
      "source": [
        "CNN_model = Sequential([\n",
        "    Embedding(input_dim=max_features, input_length=max_len, output_dim=embedding_dims),\n",
        "    SpatialDropout1D(0.5),\n",
        "    # ... 100 filters with a kernel size of 4 so that each convolution will consider a window of 4 word embeddings\n",
        "    Conv1D(filters=100, kernel_size=4, padding='same', activation='relu'),\n",
        "    #**batch normalization layer** normalizes the activations of the previous layer at each batch, \n",
        "    #i.e. applies a transformation that maintains the mean activation close to 0 and the activation standard deviation close to 1. \n",
        "    #It will be added after the activation function between a convolutional and a max-pooling layer.\n",
        "    BatchNormalization(),\n",
        "    Dropout(0.5),\n",
        "    GlobalMaxPool1D(),\n",
        "    Dense(50, activation = 'relu'),\n",
        "    Dense(6, activation = 'sigmoid')\n",
        "])"
      ],
      "execution_count": 0,
      "outputs": []
    },
    {
      "cell_type": "code",
      "metadata": {
        "colab_type": "code",
        "id": "8n2R1B4Hejee",
        "colab": {}
      },
      "source": [
        "#Customized the evaluation to analyse the model in terms of accuracy and mean value accuracy\n",
        "def mean_pred(y_true, y_pred):\n",
        "    return K.mean(y_pred)\n",
        "\n",
        "CNN_model.compile(loss='binary_crossentropy', optimizer=Adam(0.01), metrics=['accuracy', mean_pred, fmeasure, precision, auroc, recall])"
      ],
      "execution_count": 0,
      "outputs": []
    },
    {
      "cell_type": "markdown",
      "metadata": {
        "colab_type": "text",
        "id": "KBKoKx_mejej"
      },
      "source": [
        "### Visualize the Orchestrated CNN MODEL Architecture"
      ]
    },
    {
      "cell_type": "code",
      "metadata": {
        "colab_type": "code",
        "id": "SUxPEGT5ejej",
        "colab": {},
        "outputId": "2fb9eb5a-9078-4fb8-c758-510c3ebcbebb"
      },
      "source": [
        "CNN_model.summary()"
      ],
      "execution_count": 0,
      "outputs": [
        {
          "output_type": "stream",
          "text": [
            "_________________________________________________________________\n",
            "Layer (type)                 Output Shape              Param #   \n",
            "=================================================================\n",
            "embedding_2 (Embedding)      (None, 200, 128)          25600000  \n",
            "_________________________________________________________________\n",
            "spatial_dropout1d_1 (Spatial (None, 200, 128)          0         \n",
            "_________________________________________________________________\n",
            "conv1d_1 (Conv1D)            (None, 200, 100)          51300     \n",
            "_________________________________________________________________\n",
            "batch_normalization_1 (Batch (None, 200, 100)          400       \n",
            "_________________________________________________________________\n",
            "dropout_2 (Dropout)          (None, 200, 100)          0         \n",
            "_________________________________________________________________\n",
            "global_max_pooling1d_2 (Glob (None, 100)               0         \n",
            "_________________________________________________________________\n",
            "dense_3 (Dense)              (None, 50)                5050      \n",
            "_________________________________________________________________\n",
            "dense_4 (Dense)              (None, 6)                 306       \n",
            "=================================================================\n",
            "Total params: 25,657,056\n",
            "Trainable params: 25,656,856\n",
            "Non-trainable params: 200\n",
            "_________________________________________________________________\n"
          ],
          "name": "stdout"
        }
      ]
    },
    {
      "cell_type": "code",
      "metadata": {
        "colab_type": "code",
        "id": "Cj5FJvhvejem",
        "colab": {}
      },
      "source": [
        "#plot the CNN model architecture\n",
        "\n",
        "#plot_model(CNN_model, to_file='CNN_model_plot.png', show_shapes=True, show_layer_names=True)\n",
        "#Image(retina=True, filename='CNN_model_plot.png')"
      ],
      "execution_count": 0,
      "outputs": []
    },
    {
      "cell_type": "code",
      "metadata": {
        "colab_type": "code",
        "id": "EyjGbmUfejeo",
        "colab": {},
        "outputId": "1c851325-a450-4c9a-f914-9cd729830574"
      },
      "source": [
        "CNN_model_fit = CNN_model.fit(X_tra, y_tra, batch_size=batch_size2, epochs=num_epochs, validation_data=(X_val, y_val), callbacks=[early])"
      ],
      "execution_count": 0,
      "outputs": [
        {
          "output_type": "stream",
          "text": [
            "Train on 14602 samples, validate on 1623 samples\n",
            "Epoch 1/15\n",
            "14602/14602 [==============================] - 48s 3ms/step - loss: 0.5699 - acc: 0.8123 - mean_pred: 0.3700 - fmeasure: 0.7371 - precision: 0.7533 - auroc: 0.8292 - recall: 0.7290 - val_loss: 0.3480 - val_acc: 0.8532 - val_mean_pred: 0.3306 - val_fmeasure: 0.7648 - val_precision: 0.8926 - val_auroc: 0.8721 - val_recall: 0.6691\n",
            "Epoch 2/15\n",
            "14602/14602 [==============================] - 45s 3ms/step - loss: 0.3210 - acc: 0.8715 - mean_pred: 0.3652 - fmeasure: 0.8133 - precision: 0.8554 - auroc: 0.8881 - recall: 0.7772 - val_loss: 0.3074 - val_acc: 0.8758 - val_mean_pred: 0.3657 - val_fmeasure: 0.8161 - val_precision: 0.8660 - val_auroc: 0.8991 - val_recall: 0.7720\n",
            "Epoch 3/15\n",
            "14602/14602 [==============================] - 47s 3ms/step - loss: 0.2870 - acc: 0.8861 - mean_pred: 0.3627 - fmeasure: 0.8366 - precision: 0.8690 - auroc: 0.9074 - recall: 0.8091 - val_loss: 0.3068 - val_acc: 0.8802 - val_mean_pred: 0.3760 - val_fmeasure: 0.8287 - val_precision: 0.8461 - val_auroc: 0.9138 - val_recall: 0.8124\n",
            "Epoch 4/15\n",
            "14602/14602 [==============================] - 47s 3ms/step - loss: 0.2548 - acc: 0.8977 - mean_pred: 0.3628 - fmeasure: 0.8551 - precision: 0.8748 - auroc: 0.9196 - recall: 0.8385 - val_loss: 0.3146 - val_acc: 0.8775 - val_mean_pred: 0.3805 - val_fmeasure: 0.8281 - val_precision: 0.8296 - val_auroc: 0.9244 - val_recall: 0.8268\n",
            "Epoch 5/15\n",
            "14602/14602 [==============================] - 46s 3ms/step - loss: 0.2294 - acc: 0.9088 - mean_pred: 0.3625 - fmeasure: 0.8723 - precision: 0.8825 - auroc: 0.9292 - recall: 0.8643 - val_loss: 0.3178 - val_acc: 0.8715 - val_mean_pred: 0.3794 - val_fmeasure: 0.8192 - val_precision: 0.8234 - val_auroc: 0.9328 - val_recall: 0.8157\n",
            "Epoch 6/15\n",
            "14602/14602 [==============================] - 49s 3ms/step - loss: 0.2126 - acc: 0.9147 - mean_pred: 0.3638 - fmeasure: 0.8811 - precision: 0.8877 - auroc: 0.9362 - recall: 0.8768 - val_loss: 0.3178 - val_acc: 0.8738 - val_mean_pred: 0.3507 - val_fmeasure: 0.8183 - val_precision: 0.8428 - val_auroc: 0.9391 - val_recall: 0.7954\n",
            "Epoch 7/15\n",
            "14602/14602 [==============================] - 47s 3ms/step - loss: 0.1848 - acc: 0.9258 - mean_pred: 0.3625 - fmeasure: 0.8968 - precision: 0.9001 - auroc: 0.9423 - recall: 0.8943 - val_loss: 0.3393 - val_acc: 0.8604 - val_mean_pred: 0.3967 - val_fmeasure: 0.8137 - val_precision: 0.7774 - val_auroc: 0.9448 - val_recall: 0.8540\n"
          ],
          "name": "stdout"
        }
      ]
    },
    {
      "cell_type": "markdown",
      "metadata": {
        "colab_type": "text",
        "id": "_lhGd1B0ejeq"
      },
      "source": [
        "### Evaluate the CNN Model accuracy of our trained model"
      ]
    },
    {
      "cell_type": "code",
      "metadata": {
        "colab_type": "code",
        "id": "FNIsK00Wejer",
        "colab": {},
        "outputId": "ba108085-e327-49d7-bf84-6a9e2af4b84e"
      },
      "source": [
        "CNN_train_score = CNN_model.evaluate(X_tra, y_tra, batch_size = batch_size2, verbose = 1)\n",
        "print('Train loss:', CNN_train_score[0])\n",
        "print('Train accuracy:', CNN_train_score[1])"
      ],
      "execution_count": 0,
      "outputs": [
        {
          "output_type": "stream",
          "text": [
            ""
          ],
          "name": "stdout"
        },
        {
          "output_type": "stream",
          "text": [
            "14602/14602 [==============================] - 8s 523us/step\n",
            "Train loss: 0.1768637636227161\n",
            "Train accuracy: 0.9471876304650239\n"
          ],
          "name": "stdout"
        }
      ]
    },
    {
      "cell_type": "markdown",
      "metadata": {
        "colab_type": "text",
        "id": "6HrWCm8weje2"
      },
      "source": [
        "### Evaluate the CNN accuracy base our test samples"
      ]
    },
    {
      "cell_type": "code",
      "metadata": {
        "colab_type": "code",
        "id": "kDrULGFMeje4",
        "colab": {},
        "outputId": "f7ff4d13-a8e7-4842-e0ba-5996bf4cff78"
      },
      "source": [
        "CNN_test_score = CNN_model.evaluate(X_test, y_test, batch_size=batch_size2, verbose=1)\n",
        "print('Test Loss:', CNN_test_score[0])\n",
        "print('Test Accuracy:', CNN_test_score[1])"
      ],
      "execution_count": 0,
      "outputs": [
        {
          "output_type": "stream",
          "text": [
            ""
          ],
          "name": "stdout"
        },
        {
          "output_type": "stream",
          "text": [
            "6234/6234 [==============================] - 4s 564us/step\n",
            "Test Loss: 0.3263702568600183\n",
            "Test Accuracy: 0.8635440514682002\n"
          ],
          "name": "stdout"
        }
      ]
    },
    {
      "cell_type": "code",
      "metadata": {
        "colab_type": "code",
        "id": "dafZW6vAeje9",
        "colab": {},
        "outputId": "b78e951d-8a5b-472c-b541-1968fd4351c4"
      },
      "source": [
        "#Predicting......\n",
        "print('Predicting....')\n",
        "y_pred = CNN_model.predict(X_test,batch_size=batch_size2,verbose=1)"
      ],
      "execution_count": 0,
      "outputs": [
        {
          "output_type": "stream",
          "text": [
            "Predicting....\n",
            "6234/6234 [==============================] - 4s 570us/step\n"
          ],
          "name": "stdout"
        }
      ]
    },
    {
      "cell_type": "markdown",
      "metadata": {
        "colab_type": "text",
        "id": "DKRqMXsGejfG"
      },
      "source": [
        "### Plot Training & Validation Accuracy with the Loss values of the CNN Model"
      ]
    },
    {
      "cell_type": "code",
      "metadata": {
        "colab_type": "code",
        "id": "9ZZ6Fk8rejfH",
        "colab": {},
        "outputId": "4382390c-5855-4a4f-e661-aa66322b4e10"
      },
      "source": [
        "# Plot training & validation accuracy values\n",
        "plt.plot(CNN_model_fit.history['acc'])\n",
        "plt.plot(CNN_model_fit.history['val_acc'])\n",
        "plt.title('Convolutional Neural Network (CNN) Model accuracy')\n",
        "plt.ylabel('Accuracy')\n",
        "plt.xlabel('Epoch')\n",
        "plt.legend(['Training Accuracy', 'Validation Accuracy'], loc='upper left')\n",
        "plt.show()\n",
        "\n",
        "# Plot training & validation loss values\n",
        "plt.plot(CNN_model_fit.history['loss'])\n",
        "plt.plot(CNN_model_fit.history['val_loss'])\n",
        "plt.title('Convolutional Neural Network (CNN) Model loss')\n",
        "plt.ylabel('Loss')\n",
        "plt.xlabel('Epoch')\n",
        "plt.legend(['Training Loss', 'Validation Loss'], loc='lower right')\n",
        "plt.show()"
      ],
      "execution_count": 0,
      "outputs": [
        {
          "output_type": "display_data",
          "data": {
            "image/png": "[encoded data removed]",
            "text/plain": [
              "<Figure size 432x288 with 1 Axes>"
            ]
          },
          "metadata": {
            "tags": [],
            "needs_background": "light"
          }
        },
        {
          "output_type": "display_data",
          "data": {
            "image/png": "[encoded data removed]",
            "text/plain": [
              "<Figure size 432x288 with 1 Axes>"
            ]
          },
          "metadata": {
            "tags": [],
            "needs_background": "light"
          }
        }
      ]
    },
    {
      "cell_type": "markdown",
      "metadata": {
        "colab_type": "text",
        "id": "osfA6NdMejfP"
      },
      "source": [
        "## 3) Recurrent Neural Networks (RNNs)"
      ]
    },
    {
      "cell_type": "code",
      "metadata": {
        "colab_type": "code",
        "id": "qcEEfcEwejfR",
        "colab": {}
      },
      "source": [
        "RNN_model = Sequential([\n",
        "    Embedding(input_dim=max_features, input_length=max_len, output_dim=embedding_dims),\n",
        "    SpatialDropout1D(0.5),\n",
        "    #Fully-connected RNN where the output is to be fed back to input.\n",
        "    SimpleRNN(25, return_sequences=True),\n",
        "    #**batch normalization layer** normalizes the activations of the previous layer at each batch, \n",
        "    #i.e. applies a transformation that maintains the mean activation close to 0 and the activation standard deviation close to 1. \n",
        "    BatchNormalization(),\n",
        "    Dropout(0.5),\n",
        "    GlobalMaxPool1D(),\n",
        "    Dense(50, activation = 'relu'),\n",
        "    Dense(6, activation = 'sigmoid')\n",
        "])"
      ],
      "execution_count": 0,
      "outputs": []
    },
    {
      "cell_type": "code",
      "metadata": {
        "colab_type": "code",
        "id": "WWwi-7iEejfX",
        "colab": {}
      },
      "source": [
        "#Customized the evaluation to analyse the model in terms of accuracy and mean value accuracy\n",
        "def mean_pred(y_true, y_pred):\n",
        "    return K.mean(y_pred)\n",
        "\n",
        "RNN_model.compile(loss='binary_crossentropy', optimizer=Adam(0.01), metrics=['accuracy', mean_pred, fmeasure, precision, auroc, recall])"
      ],
      "execution_count": 0,
      "outputs": []
    },
    {
      "cell_type": "markdown",
      "metadata": {
        "colab_type": "text",
        "id": "-9NGy7Bxejfc"
      },
      "source": [
        "### Visualize the Orchestrated RNN MODEL Architecture"
      ]
    },
    {
      "cell_type": "code",
      "metadata": {
        "colab_type": "code",
        "id": "ceRB6-Hpejfc",
        "colab": {},
        "outputId": "b33c72e0-4d34-46d5-e845-9ab43ad55d14"
      },
      "source": [
        "RNN_model.summary()"
      ],
      "execution_count": 0,
      "outputs": [
        {
          "output_type": "stream",
          "text": [
            "_________________________________________________________________\n",
            "Layer (type)                 Output Shape              Param #   \n",
            "=================================================================\n",
            "embedding_3 (Embedding)      (None, 200, 128)          25600000  \n",
            "_________________________________________________________________\n",
            "spatial_dropout1d_2 (Spatial (None, 200, 128)          0         \n",
            "_________________________________________________________________\n",
            "simple_rnn_1 (SimpleRNN)     (None, 200, 25)           3850      \n",
            "_________________________________________________________________\n",
            "batch_normalization_2 (Batch (None, 200, 25)           100       \n",
            "_________________________________________________________________\n",
            "dropout_3 (Dropout)          (None, 200, 25)           0         \n",
            "_________________________________________________________________\n",
            "global_max_pooling1d_3 (Glob (None, 25)                0         \n",
            "_________________________________________________________________\n",
            "dense_5 (Dense)              (None, 50)                1300      \n",
            "_________________________________________________________________\n",
            "dense_6 (Dense)              (None, 6)                 306       \n",
            "=================================================================\n",
            "Total params: 25,605,556\n",
            "Trainable params: 25,605,506\n",
            "Non-trainable params: 50\n",
            "_________________________________________________________________\n"
          ],
          "name": "stdout"
        }
      ]
    },
    {
      "cell_type": "code",
      "metadata": {
        "colab_type": "code",
        "id": "X-y2CvXWejfg",
        "colab": {}
      },
      "source": [
        "#plot the RNN model architecture\n",
        "\n",
        "#plot_model(RNN_model, to_file='CNN_model_plot.png', show_shapes=True, show_layer_names=True)\n",
        "#Image(retina=True, filename='CNN_model_plot.png')"
      ],
      "execution_count": 0,
      "outputs": []
    },
    {
      "cell_type": "code",
      "metadata": {
        "colab_type": "code",
        "id": "kO0xUVQZejfi",
        "colab": {},
        "outputId": "dfc6fa6a-cad2-4359-c316-653ea14fda08"
      },
      "source": [
        "RNN_model_fit = RNN_model.fit(X_tra, y_tra, batch_size=batch_size2, epochs=num_epochs, validation_data=(X_val, y_val), callbacks=[early])"
      ],
      "execution_count": 0,
      "outputs": [
        {
          "output_type": "stream",
          "text": [
            "Train on 14602 samples, validate on 1623 samples\n",
            "Epoch 1/15\n",
            "14602/14602 [==============================] - 34s 2ms/step - loss: 0.4555 - acc: 0.7959 - mean_pred: 0.3623 - fmeasure: 0.7023 - precision: 0.7566 - auroc: 0.8270 - recall: 0.6634 - val_loss: 0.4118 - val_acc: 0.8257 - val_mean_pred: 0.4180 - val_fmeasure: 0.7573 - val_precision: 0.7531 - val_auroc: 0.8684 - val_recall: 0.7618\n",
            "Epoch 2/15\n",
            "14602/14602 [==============================] - 31s 2ms/step - loss: 0.3421 - acc: 0.8557 - mean_pred: 0.3625 - fmeasure: 0.7845 - precision: 0.8506 - auroc: 0.8829 - recall: 0.7300 - val_loss: 0.3748 - val_acc: 0.8676 - val_mean_pred: 0.3739 - val_fmeasure: 0.7935 - val_precision: 0.8946 - val_auroc: 0.8937 - val_recall: 0.7131\n",
            "Epoch 3/15\n",
            "14602/14602 [==============================] - 31s 2ms/step - loss: 0.3227 - acc: 0.8685 - mean_pred: 0.3593 - fmeasure: 0.8041 - precision: 0.8691 - auroc: 0.8999 - recall: 0.7506 - val_loss: 0.3679 - val_acc: 0.8723 - val_mean_pred: 0.3796 - val_fmeasure: 0.8060 - val_precision: 0.8799 - val_auroc: 0.9047 - val_recall: 0.7440\n",
            "Epoch 4/15\n",
            "14602/14602 [==============================] - 31s 2ms/step - loss: 0.3091 - acc: 0.8753 - mean_pred: 0.3597 - fmeasure: 0.8167 - precision: 0.8703 - auroc: 0.9085 - recall: 0.7724 - val_loss: 0.3577 - val_acc: 0.8709 - val_mean_pred: 0.3842 - val_fmeasure: 0.8088 - val_precision: 0.8589 - val_auroc: 0.9116 - val_recall: 0.7645\n",
            "Epoch 5/15\n",
            "14602/14602 [==============================] - 32s 2ms/step - loss: 0.2962 - acc: 0.8830 - mean_pred: 0.3605 - fmeasure: 0.8305 - precision: 0.8704 - auroc: 0.9145 - recall: 0.7960 - val_loss: 0.3563 - val_acc: 0.8664 - val_mean_pred: 0.4042 - val_fmeasure: 0.8088 - val_precision: 0.8269 - val_auroc: 0.9167 - val_recall: 0.7917\n",
            "Epoch 6/15\n",
            "14602/14602 [==============================] - 31s 2ms/step - loss: 0.2850 - acc: 0.8875 - mean_pred: 0.3625 - fmeasure: 0.8383 - precision: 0.8719 - auroc: 0.9191 - recall: 0.8092 - val_loss: 0.3560 - val_acc: 0.8657 - val_mean_pred: 0.4168 - val_fmeasure: 0.8101 - val_precision: 0.8179 - val_auroc: 0.9209 - val_recall: 0.8027\n",
            "Epoch 7/15\n",
            "14602/14602 [==============================] - 31s 2ms/step - loss: 0.2724 - acc: 0.8922 - mean_pred: 0.3607 - fmeasure: 0.8448 - precision: 0.8800 - auroc: 0.9228 - recall: 0.8137 - val_loss: 0.3428 - val_acc: 0.8666 - val_mean_pred: 0.4039 - val_fmeasure: 0.8137 - val_precision: 0.8116 - val_auroc: 0.9246 - val_recall: 0.8160\n",
            "Epoch 8/15\n",
            "14602/14602 [==============================] - 32s 2ms/step - loss: 0.2598 - acc: 0.8953 - mean_pred: 0.3603 - fmeasure: 0.8503 - precision: 0.8798 - auroc: 0.9266 - recall: 0.8240 - val_loss: 0.3458 - val_acc: 0.8696 - val_mean_pred: 0.4052 - val_fmeasure: 0.8164 - val_precision: 0.8208 - val_auroc: 0.9282 - val_recall: 0.8121\n",
            "Epoch 9/15\n",
            "14602/14602 [==============================] - 31s 2ms/step - loss: 0.2511 - acc: 0.9004 - mean_pred: 0.3620 - fmeasure: 0.8585 - precision: 0.8816 - auroc: 0.9298 - recall: 0.8383 - val_loss: 0.3246 - val_acc: 0.8700 - val_mean_pred: 0.3622 - val_fmeasure: 0.8072 - val_precision: 0.8587 - val_auroc: 0.9313 - val_recall: 0.7617\n",
            "Epoch 10/15\n",
            "14602/14602 [==============================] - 31s 2ms/step - loss: 0.2634 - acc: 0.8947 - mean_pred: 0.3583 - fmeasure: 0.8488 - precision: 0.8806 - auroc: 0.9324 - recall: 0.8228 - val_loss: 0.3317 - val_acc: 0.8621 - val_mean_pred: 0.3920 - val_fmeasure: 0.8041 - val_precision: 0.8160 - val_auroc: 0.9333 - val_recall: 0.7927\n",
            "Epoch 11/15\n",
            "14602/14602 [==============================] - 31s 2ms/step - loss: 0.2438 - acc: 0.9027 - mean_pred: 0.3600 - fmeasure: 0.8623 - precision: 0.8819 - auroc: 0.9346 - recall: 0.8450 - val_loss: 0.3305 - val_acc: 0.8661 - val_mean_pred: 0.3774 - val_fmeasure: 0.8076 - val_precision: 0.8291 - val_auroc: 0.9357 - val_recall: 0.7873\n",
            "Epoch 12/15\n",
            "14602/14602 [==============================] - 32s 2ms/step - loss: 0.2341 - acc: 0.9062 - mean_pred: 0.3615 - fmeasure: 0.8675 - precision: 0.8856 - auroc: 0.9369 - recall: 0.8518 - val_loss: 0.3287 - val_acc: 0.8648 - val_mean_pred: 0.3964 - val_fmeasure: 0.8127 - val_precision: 0.8041 - val_auroc: 0.9379 - val_recall: 0.8217\n",
            "Epoch 13/15\n",
            "14602/14602 [==============================] - 33s 2ms/step - loss: 0.2422 - acc: 0.9023 - mean_pred: 0.3609 - fmeasure: 0.8625 - precision: 0.8769 - auroc: 0.9389 - recall: 0.8501 - val_loss: 0.3259 - val_acc: 0.8636 - val_mean_pred: 0.3956 - val_fmeasure: 0.8123 - val_precision: 0.7990 - val_auroc: 0.9396 - val_recall: 0.8263\n"
          ],
          "name": "stdout"
        }
      ]
    },
    {
      "cell_type": "markdown",
      "metadata": {
        "colab_type": "text",
        "id": "9dV0mgtpejgA"
      },
      "source": [
        "### Evaluate the RNN Model accuracy of our trained model"
      ]
    },
    {
      "cell_type": "code",
      "metadata": {
        "colab_type": "code",
        "id": "rVI6X2FoejgB",
        "colab": {},
        "outputId": "5472c56c-a99d-4de6-d558-ac9cebb8dfab"
      },
      "source": [
        "RNN_train_score = RNN_model.evaluate(X_tra, y_tra, batch_size=batch_size2, verbose=1)\n",
        "print('Train Loss:', RNN_train_score[0])\n",
        "print('Train Accuracy:', RNN_train_score[1])"
      ],
      "execution_count": 0,
      "outputs": [
        {
          "output_type": "stream",
          "text": [
            ""
          ],
          "name": "stdout"
        },
        {
          "output_type": "stream",
          "text": [
            "14602/14602 [==============================] - 4s 282us/step\n",
            "Train Loss: 0.2496724655090693\n",
            "Train Accuracy: 0.9148176438987067\n"
          ],
          "name": "stdout"
        }
      ]
    },
    {
      "cell_type": "markdown",
      "metadata": {
        "colab_type": "text",
        "id": "pW5x9tccejgD"
      },
      "source": [
        "### Evaluate the RNN accuracy base our test samples"
      ]
    },
    {
      "cell_type": "code",
      "metadata": {
        "colab_type": "code",
        "id": "TSVQVTrLejgE",
        "colab": {},
        "outputId": "fd689048-79da-4e14-fdb7-1d90c6fef8da"
      },
      "source": [
        "RNN_test_score = RNN_model.evaluate(X_test, y_test, batch_size=batch_size2, verbose=1)\n",
        "print('Test Loss:', RNN_test_score[0])\n",
        "print('Test Accuracy:', RNN_test_score[1])"
      ],
      "execution_count": 0,
      "outputs": [
        {
          "output_type": "stream",
          "text": [
            ""
          ],
          "name": "stdout"
        },
        {
          "output_type": "stream",
          "text": [
            "6234/6234 [==============================] - 2s 278us/step\n",
            "Test Loss: 0.3268604185342559\n",
            "Test Accuracy: 0.8665651084331124\n"
          ],
          "name": "stdout"
        }
      ]
    },
    {
      "cell_type": "markdown",
      "metadata": {
        "colab_type": "text",
        "id": "ZlYMwKjMejgG"
      },
      "source": [
        "### Plot Training & Validation Accuracy with the Loss values of the RNN Model"
      ]
    },
    {
      "cell_type": "code",
      "metadata": {
        "colab_type": "code",
        "id": "l88SHLD4ejgG",
        "colab": {},
        "outputId": "00a6c47c-ed42-45d4-fecb-dc332a6779af"
      },
      "source": [
        "# Plot training & validation accuracy values\n",
        "plt.plot(RNN_model_fit.history['acc'])\n",
        "plt.plot(RNN_model_fit.history['val_acc'])\n",
        "plt.title('Recurrent Neural Networks (RNNs) Model accuracy')\n",
        "plt.ylabel('Accuracy')\n",
        "plt.xlabel('Epoch')\n",
        "plt.legend(['Training Accuracy', 'Validation Accuracy'], loc='upper left')\n",
        "plt.show()\n",
        "\n",
        "# Plot training & validation loss values\n",
        "plt.plot(RNN_model_fit.history['loss'])\n",
        "plt.plot(RNN_model_fit.history['val_loss'])\n",
        "plt.title('Recurrent Neural Networks (RNNs) Model loss')\n",
        "plt.ylabel('Loss')\n",
        "plt.xlabel('Epoch')\n",
        "plt.legend(['Training Loss', 'Validation Loss'], loc='lower right')\n",
        "plt.show()"
      ],
      "execution_count": 0,
      "outputs": [
        {
          "output_type": "display_data",
          "data": {
            "image/png": "[encoded data removed]",
            "text/plain": [
              "<Figure size 432x288 with 1 Axes>"
            ]
          },
          "metadata": {
            "tags": [],
            "needs_background": "light"
          }
        },
        {
          "output_type": "display_data",
          "data": {
            "image/png": "[encoded data removed]",
            "text/plain": [
              "<Figure size 432x288 with 1 Axes>"
            ]
          },
          "metadata": {
            "tags": [],
            "needs_background": "light"
          }
        }
      ]
    },
    {
      "cell_type": "markdown",
      "metadata": {
        "colab_type": "text",
        "id": "1mFGSNYyAPa7"
      },
      "source": [
        "## 4) Long Short-Term Memory (LSTM)"
      ]
    },
    {
      "cell_type": "code",
      "metadata": {
        "colab_type": "code",
        "id": "eVtu6lY6Ada5",
        "colab": {}
      },
      "source": [
        "LSTM_model = Sequential([\n",
        "    Embedding(input_dim=max_features, input_length=max_len, output_dim=embedding_dims),\n",
        "    SpatialDropout1D(0.5),\n",
        "    #Bidirectional layer will enable our model to predict a missing word in a sequence, \n",
        "    #So, using this feature will enable the model to look at the context on both the left and the right.\n",
        "    LSTM(25, return_sequences=True),\n",
        "    #**batch normalization layer** normalizes the activations of the previous layer at each batch, \n",
        "    #i.e. applies a transformation that maintains the mean activation close to 0 and the activation standard deviation close to 1. \n",
        "    BatchNormalization(),\n",
        "    Dropout(0.5),\n",
        "    GlobalMaxPool1D(),\n",
        "    Dense(50, activation = 'relu'),\n",
        "    Dense(6, activation = 'sigmoid')\n",
        "])"
      ],
      "execution_count": 0,
      "outputs": []
    },
    {
      "cell_type": "code",
      "metadata": {
        "colab_type": "code",
        "id": "Rz6pmPkWBHqY",
        "colab": {},
        "outputId": "c6cd3a1d-f53d-4988-a898-051ed1cdcaaf"
      },
      "source": [
        "LSTM_model.compile(loss='binary_crossentropy', optimizer=Adam(0.01), metrics=['accuracy', mean_pred, fmeasure, precision, auroc, recall])\n",
        "LSTM_model.summary()"
      ],
      "execution_count": 0,
      "outputs": [
        {
          "output_type": "stream",
          "text": [
            "_________________________________________________________________\n",
            "Layer (type)                 Output Shape              Param #   \n",
            "=================================================================\n",
            "embedding_4 (Embedding)      (None, 200, 128)          25600000  \n",
            "_________________________________________________________________\n",
            "spatial_dropout1d_3 (Spatial (None, 200, 128)          0         \n",
            "_________________________________________________________________\n",
            "lstm_1 (LSTM)                (None, 200, 25)           15400     \n",
            "_________________________________________________________________\n",
            "batch_normalization_3 (Batch (None, 200, 25)           100       \n",
            "_________________________________________________________________\n",
            "dropout_4 (Dropout)          (None, 200, 25)           0         \n",
            "_________________________________________________________________\n",
            "global_max_pooling1d_4 (Glob (None, 25)                0         \n",
            "_________________________________________________________________\n",
            "dense_7 (Dense)              (None, 50)                1300      \n",
            "_________________________________________________________________\n",
            "dense_8 (Dense)              (None, 6)                 306       \n",
            "=================================================================\n",
            "Total params: 25,617,106\n",
            "Trainable params: 25,617,056\n",
            "Non-trainable params: 50\n",
            "_________________________________________________________________\n"
          ],
          "name": "stdout"
        }
      ]
    },
    {
      "cell_type": "code",
      "metadata": {
        "colab_type": "code",
        "id": "jVZdCxGBDWbQ",
        "colab": {}
      },
      "source": [
        "#plot the RNN model architecture\n",
        "\n",
        "#plot_model(LSTM_model, to_file='LSTM_model_plot.png', show_shapes=True, show_layer_names=True)\n",
        "#Image(retina=True, filename='LSTM_model_plot.png')"
      ],
      "execution_count": 0,
      "outputs": []
    },
    {
      "cell_type": "code",
      "metadata": {
        "colab_type": "code",
        "id": "6PWyqbXYDeSx",
        "colab": {},
        "outputId": "42f759f8-78b9-471d-b035-5324d469af7d"
      },
      "source": [
        "LSTM_model_fit = LSTM_model.fit(X_train, y_train, batch_size=batch_size2, epochs=num_epochs, validation_split=val_split, callbacks=[early])"
      ],
      "execution_count": 0,
      "outputs": [
        {
          "output_type": "stream",
          "text": [
            "Train on 14602 samples, validate on 1623 samples\n",
            "Epoch 1/15\n",
            "14602/14602 [==============================] - 42s 3ms/step - loss: 0.3676 - acc: 0.8382 - mean_pred: 0.3643 - fmeasure: 0.7668 - precision: 0.8096 - auroc: 0.8617 - recall: 0.7341 - val_loss: 0.3399 - val_acc: 0.8749 - val_mean_pred: 0.3925 - val_fmeasure: 0.8155 - val_precision: 0.8770 - val_auroc: 0.9060 - val_recall: 0.7623\n",
            "Epoch 2/15\n",
            "14602/14602 [==============================] - 38s 3ms/step - loss: 0.2929 - acc: 0.8799 - mean_pred: 0.3621 - fmeasure: 0.8263 - precision: 0.8623 - auroc: 0.9168 - recall: 0.7945 - val_loss: 0.3193 - val_acc: 0.8784 - val_mean_pred: 0.3868 - val_fmeasure: 0.8257 - val_precision: 0.8595 - val_auroc: 0.9240 - val_recall: 0.7947\n",
            "Epoch 3/15\n",
            "14602/14602 [==============================] - 39s 3ms/step - loss: 0.2572 - acc: 0.8939 - mean_pred: 0.3606 - fmeasure: 0.8494 - precision: 0.8703 - auroc: 0.9301 - recall: 0.8307 - val_loss: 0.3386 - val_acc: 0.8556 - val_mean_pred: 0.4380 - val_fmeasure: 0.8188 - val_precision: 0.7498 - val_auroc: 0.9345 - val_recall: 0.9020\n",
            "Epoch 4/15\n",
            "14602/14602 [==============================] - 42s 3ms/step - loss: 0.2311 - acc: 0.9042 - mean_pred: 0.3625 - fmeasure: 0.8654 - precision: 0.8771 - auroc: 0.9387 - recall: 0.8557 - val_loss: 0.3041 - val_acc: 0.8724 - val_mean_pred: 0.3950 - val_fmeasure: 0.8257 - val_precision: 0.8172 - val_auroc: 0.9421 - val_recall: 0.8348\n",
            "Epoch 5/15\n",
            "14602/14602 [==============================] - 39s 3ms/step - loss: 0.2047 - acc: 0.9140 - mean_pred: 0.3617 - fmeasure: 0.8793 - precision: 0.8899 - auroc: 0.9456 - recall: 0.8702 - val_loss: 0.3051 - val_acc: 0.8704 - val_mean_pred: 0.3738 - val_fmeasure: 0.8195 - val_precision: 0.8271 - val_auroc: 0.9483 - val_recall: 0.8126\n",
            "Epoch 6/15\n",
            "14602/14602 [==============================] - 38s 3ms/step - loss: 0.1824 - acc: 0.9242 - mean_pred: 0.3611 - fmeasure: 0.8941 - precision: 0.9002 - auroc: 0.9512 - recall: 0.8888 - val_loss: 0.3127 - val_acc: 0.8678 - val_mean_pred: 0.3731 - val_fmeasure: 0.8175 - val_precision: 0.8177 - val_auroc: 0.9534 - val_recall: 0.8177\n",
            "Epoch 7/15\n",
            "14602/14602 [==============================] - 39s 3ms/step - loss: 0.1657 - acc: 0.9326 - mean_pred: 0.3614 - fmeasure: 0.9059 - precision: 0.9107 - auroc: 0.9558 - recall: 0.9017 - val_loss: 0.3231 - val_acc: 0.8681 - val_mean_pred: 0.3621 - val_fmeasure: 0.8166 - val_precision: 0.8227 - val_auroc: 0.9575 - val_recall: 0.8111\n",
            "Epoch 8/15\n",
            "14602/14602 [==============================] - 39s 3ms/step - loss: 0.1630 - acc: 0.9336 - mean_pred: 0.3601 - fmeasure: 0.9074 - precision: 0.9128 - auroc: 0.9592 - recall: 0.9029 - val_loss: 0.3304 - val_acc: 0.8632 - val_mean_pred: 0.3557 - val_fmeasure: 0.8065 - val_precision: 0.8264 - val_auroc: 0.9606 - val_recall: 0.7877\n"
          ],
          "name": "stdout"
        }
      ]
    },
    {
      "cell_type": "markdown",
      "metadata": {
        "colab_type": "text",
        "id": "G8x1T2v5DoUK"
      },
      "source": [
        "### Evaluate the LSTM Model accuracy of our train and test accuracy"
      ]
    },
    {
      "cell_type": "code",
      "metadata": {
        "colab_type": "code",
        "id": "GrchJwdiDhst",
        "colab": {},
        "outputId": "08fc9ba3-2f3d-4310-a83a-f79a005d1812"
      },
      "source": [
        "LSTM_train_score = LSTM_model.evaluate(X_tra, y_tra, batch_size=batch_size2, verbose=1)\n",
        "print('Train Loss:', LSTM_train_score[0])\n",
        "print('Train Accuracy:', LSTM_train_score[1])\n",
        "\n",
        "\n",
        "LSTM_test_score = LSTM_model.evaluate(X_test, y_test, batch_size=batch_size2, verbose=1)\n",
        "print('Train Loss:', LSTM_test_score[0])\n",
        "print('Train Accuracy:', LSTM_test_score[1])"
      ],
      "execution_count": 0,
      "outputs": [
        {
          "output_type": "stream",
          "text": [
            ""
          ],
          "name": "stdout"
        },
        {
          "output_type": "stream",
          "text": [
            "14602/14602 [==============================] - 4s 292us/step\n",
            "Train Loss: 0.1553223238768863\n",
            "Train Accuracy: 0.9482833666273085\n",
            "6234/6234 [==============================] - 2s 285us/step\n",
            "Train Loss: 0.3252780488622009\n",
            "Train Accuracy: 0.8661373423811025\n"
          ],
          "name": "stdout"
        }
      ]
    },
    {
      "cell_type": "markdown",
      "metadata": {
        "colab_type": "text",
        "id": "s_PlIOAcFZfs"
      },
      "source": [
        "### Plot Training & Validation Accuracy with the Loss values of the LSTM Model"
      ]
    },
    {
      "cell_type": "code",
      "metadata": {
        "colab_type": "code",
        "id": "kUdnHjFDFRjW",
        "colab": {},
        "outputId": "707a45e9-ac2d-4a1f-a784-70e01689eb7e"
      },
      "source": [
        "# Plot training & validation accuracy values\n",
        "plt.plot(LSTM_model_fit.history['acc'])\n",
        "plt.plot(LSTM_model_fit.history['val_acc'])\n",
        "plt.title('Long Short-Term Memory (LSTM) Model accuracy')\n",
        "plt.ylabel('Accuracy')\n",
        "plt.xlabel('Epoch')\n",
        "plt.legend(['Training Accuracy', 'Validation Accuracy'], loc='upper left')\n",
        "plt.show()\n",
        "\n",
        "# Plot training<<<<<<<<<<<<<<<<<<<<l & validation loss values\n",
        "plt.plot(LSTM_model_fit.history['loss'])\n",
        "plt.plot(LSTM_model_fit.history['val_loss'])\n",
        "plt.title('Long Short-Term Memory (LSTM) Model loss')\n",
        "plt.ylabel('Loss')\n",
        "plt.xlabel('Epoch')\n",
        "plt.legend(['Training Loss', 'Validation Loss'], loc='lower right')\n",
        "plt.show()"
      ],
      "execution_count": 0,
      "outputs": [
        {
          "output_type": "display_data",
          "data": {
            "image/png": "[encoded data removed]",
            "text/plain": [
              "<Figure size 432x288 with 1 Axes>"
            ]
          },
          "metadata": {
            "tags": [],
            "needs_background": "light"
          }
        },
        {
          "output_type": "display_data",
          "data": {
            "image/png": "[encoded data removed]",
            "text/plain": [
              "<Figure size 432x288 with 1 Axes>"
            ]
          },
          "metadata": {
            "tags": [],
            "needs_background": "light"
          }
        }
      ]
    },
    {
      "cell_type": "markdown",
      "metadata": {
        "colab_type": "text",
        "id": "BYjL5tTxApDW"
      },
      "source": [
        "## 5) Bidirectional Long Short_Term Memory (Bidirectional LSTM) "
      ]
    },
    {
      "cell_type": "code",
      "metadata": {
        "colab_type": "code",
        "id": "vNz5y5CwA78w",
        "colab": {}
      },
      "source": [
        "Bil_LSTM_model = Sequential([\n",
        "    Embedding(input_dim=max_features, input_length=max_len, output_dim=embedding_dims),\n",
        "    SpatialDropout1D(0.5),\n",
        "    #Bidirectional layer will enable our model to predict a missing word in a sequence, \n",
        "    #So, using this feature will enable the model to look at the context on both the left and the right.\n",
        "    Bidirectional(LSTM(25, return_sequences=True)),\n",
        "    #**batch normalization layer** normalizes the activations of the previous layer at each batch, \n",
        "    #i.e. applies a transformation that maintains the mean activation close to 0 and the activation standard deviation close to 1. \n",
        "    BatchNormalization(),\n",
        "    Dropout(0.5),\n",
        "    GlobalMaxPool1D(),\n",
        "    Dense(50, activation = 'relu'),\n",
        "    Dense(6, activation = 'sigmoid')\n",
        "])"
      ],
      "execution_count": 0,
      "outputs": []
    },
    {
      "cell_type": "code",
      "metadata": {
        "colab_type": "code",
        "id": "rvsIIE20BuYb",
        "colab": {}
      },
      "source": [
        "Bil_LSTM_model.compile(loss='binary_crossentropy', optimizer=Adam(0.01), metrics=['accuracy', mean_pred, fmeasure, precision, auroc, recall])"
      ],
      "execution_count": 0,
      "outputs": []
    },
    {
      "cell_type": "markdown",
      "metadata": {
        "colab_type": "text",
        "id": "axMCYUsTA9A9"
      },
      "source": [
        "### Visualize the Orchestrated Bidirectional LSTM"
      ]
    },
    {
      "cell_type": "code",
      "metadata": {
        "colab_type": "code",
        "id": "2BrlAI-WA8Vh",
        "colab": {},
        "outputId": "8eb4046a-26b7-48c4-8c82-66a63d7b0830"
      },
      "source": [
        "Bil_LSTM_model.summary()\n",
        "\n",
        "#plot the RNN model architecture\n",
        "#plot_model(Bil_LSTM_model, to_file='Bil_LSTM_model_plot.png', show_shapes=True, show_layer_names=True)\n",
        "#Image(retina=True, filename='Bil_LSTM_model_plot.png')"
      ],
      "execution_count": 0,
      "outputs": [
        {
          "output_type": "stream",
          "text": [
            "_________________________________________________________________\n",
            "Layer (type)                 Output Shape              Param #   \n",
            "=================================================================\n",
            "embedding_5 (Embedding)      (None, 200, 128)          25600000  \n",
            "_________________________________________________________________\n",
            "spatial_dropout1d_4 (Spatial (None, 200, 128)          0         \n",
            "_________________________________________________________________\n",
            "bidirectional_1 (Bidirection (None, 200, 50)           30800     \n",
            "_________________________________________________________________\n",
            "batch_normalization_4 (Batch (None, 200, 50)           200       \n",
            "_________________________________________________________________\n",
            "dropout_5 (Dropout)          (None, 200, 50)           0         \n",
            "_________________________________________________________________\n",
            "global_max_pooling1d_5 (Glob (None, 50)                0         \n",
            "_________________________________________________________________\n",
            "dense_9 (Dense)              (None, 50)                2550      \n",
            "_________________________________________________________________\n",
            "dense_10 (Dense)             (None, 6)                 306       \n",
            "=================================================================\n",
            "Total params: 25,633,856\n",
            "Trainable params: 25,633,756\n",
            "Non-trainable params: 100\n",
            "_________________________________________________________________\n"
          ],
          "name": "stdout"
        }
      ]
    },
    {
      "cell_type": "code",
      "metadata": {
        "colab_type": "code",
        "id": "4VLo7vCBBWJN",
        "colab": {},
        "outputId": "6ef19adb-107a-43a2-eae7-a58d75514bb5"
      },
      "source": [
        "Bil_LSTM_model_fit = Bil_LSTM_model.fit(X_tra, y_tra, batch_size=batch_size2, epochs=num_epochs, validation_data=(X_val, y_val), callbacks=[early])"
      ],
      "execution_count": 0,
      "outputs": [
        {
          "output_type": "stream",
          "text": [
            "Train on 14602 samples, validate on 1623 samples\n",
            "Epoch 1/15\n",
            "14602/14602 [==============================] - 67s 5ms/step - loss: 0.3591 - acc: 0.8469 - mean_pred: 0.3638 - fmeasure: 0.7768 - precision: 0.8332 - auroc: 0.8784 - recall: 0.7400 - val_loss: 0.3474 - val_acc: 0.8680 - val_mean_pred: 0.4137 - val_fmeasure: 0.8149 - val_precision: 0.8158 - val_auroc: 0.9103 - val_recall: 0.8144\n",
            "Epoch 2/15\n",
            "14602/14602 [==============================] - 63s 4ms/step - loss: 0.2786 - acc: 0.8868 - mean_pred: 0.3630 - fmeasure: 0.8367 - precision: 0.8732 - auroc: 0.9209 - recall: 0.8044 - val_loss: 0.3075 - val_acc: 0.8832 - val_mean_pred: 0.3764 - val_fmeasure: 0.8331 - val_precision: 0.8514 - val_auroc: 0.9288 - val_recall: 0.8157\n",
            "Epoch 3/15\n",
            "14602/14602 [==============================] - 65s 4ms/step - loss: 0.2410 - acc: 0.9026 - mean_pred: 0.3616 - fmeasure: 0.8623 - precision: 0.8808 - auroc: 0.9351 - recall: 0.8468 - val_loss: 0.3204 - val_acc: 0.8743 - val_mean_pred: 0.3904 - val_fmeasure: 0.8286 - val_precision: 0.8074 - val_auroc: 0.9398 - val_recall: 0.8511\n",
            "Epoch 4/15\n",
            "14602/14602 [==============================] - 65s 4ms/step - loss: 0.2042 - acc: 0.9165 - mean_pred: 0.3613 - fmeasure: 0.8832 - precision: 0.8911 - auroc: 0.9446 - recall: 0.8762 - val_loss: 0.3069 - val_acc: 0.8737 - val_mean_pred: 0.3803 - val_fmeasure: 0.8267 - val_precision: 0.8103 - val_auroc: 0.9483 - val_recall: 0.8439\n",
            "Epoch 5/15\n",
            "14602/14602 [==============================] - 65s 4ms/step - loss: 0.1787 - acc: 0.9270 - mean_pred: 0.3624 - fmeasure: 0.8984 - precision: 0.9026 - auroc: 0.9519 - recall: 0.8951 - val_loss: 0.3060 - val_acc: 0.8744 - val_mean_pred: 0.3885 - val_fmeasure: 0.8281 - val_precision: 0.8100 - val_auroc: 0.9547 - val_recall: 0.8474\n",
            "Epoch 6/15\n",
            "14602/14602 [==============================] - 67s 5ms/step - loss: 0.1588 - acc: 0.9354 - mean_pred: 0.3619 - fmeasure: 0.9101 - precision: 0.9137 - auroc: 0.9575 - recall: 0.9070 - val_loss: 0.3192 - val_acc: 0.8618 - val_mean_pred: 0.3860 - val_fmeasure: 0.8125 - val_precision: 0.7881 - val_auroc: 0.9596 - val_recall: 0.8387\n",
            "Epoch 7/15\n",
            "14602/14602 [==============================] - 63s 4ms/step - loss: 0.1486 - acc: 0.9396 - mean_pred: 0.3625 - fmeasure: 0.9161 - precision: 0.9187 - auroc: 0.9617 - recall: 0.9141 - val_loss: 0.3231 - val_acc: 0.8671 - val_mean_pred: 0.3427 - val_fmeasure: 0.8094 - val_precision: 0.8310 - val_auroc: 0.9633 - val_recall: 0.7894\n",
            "Epoch 8/15\n",
            "14602/14602 [==============================] - 65s 4ms/step - loss: 0.1291 - acc: 0.9473 - mean_pred: 0.3607 - fmeasure: 0.9268 - precision: 0.9292 - auroc: 0.9652 - recall: 0.9249 - val_loss: 0.3331 - val_acc: 0.8584 - val_mean_pred: 0.3561 - val_fmeasure: 0.8009 - val_precision: 0.8045 - val_auroc: 0.9666 - val_recall: 0.7978\n",
            "Epoch 9/15\n",
            "14602/14602 [==============================] - 67s 5ms/step - loss: 0.1218 - acc: 0.9517 - mean_pred: 0.3622 - fmeasure: 0.9329 - precision: 0.9342 - auroc: 0.9681 - recall: 0.9320 - val_loss: 0.3437 - val_acc: 0.8586 - val_mean_pred: 0.3685 - val_fmeasure: 0.8040 - val_precision: 0.7958 - val_auroc: 0.9692 - val_recall: 0.8127\n"
          ],
          "name": "stdout"
        }
      ]
    },
    {
      "cell_type": "markdown",
      "metadata": {
        "colab_type": "text",
        "id": "3pjlF4KjBxgG"
      },
      "source": [
        "### Evaluate Bidirectional LSTM train and test score"
      ]
    },
    {
      "cell_type": "code",
      "metadata": {
        "colab_type": "code",
        "id": "uL1uHHi4Bsd_",
        "colab": {},
        "outputId": "bf6ae893-5954-498b-9af1-5bb804368c91"
      },
      "source": [
        "#Train\n",
        "Bil_LSTM_train_score = Bil_LSTM_model.evaluate(X_tra, y_tra, batch_size=batch_size2, verbose=1)\n",
        "print('Train Loss:', Bil_LSTM_train_score[0])\n",
        "print('Train Accuracy:', Bil_LSTM_train_score[1])\n",
        "\n",
        "#Test\n",
        "Bil_LSTM_test_score = Bil_LSTM_model.evaluate(X_test, y_test, batch_size=batch_size2, verbose=1)\n",
        "print('Test Loss:', Bil_LSTM_test_score[0])\n",
        "print('Test Accuracy:', Bil_LSTM_test_score[1])"
      ],
      "execution_count": 0,
      "outputs": [
        {
          "output_type": "stream",
          "text": [
            ""
          ],
          "name": "stdout"
        },
        {
          "output_type": "stream",
          "text": [
            "14602/14602 [==============================] - 9s 596us/step\n",
            "Train Loss: 0.11163328379319148\n",
            "Train Accuracy: 0.9712368356840299\n",
            "6234/6234 [==============================] - 4s 633us/step\n",
            "Test Loss: 0.33699511553295003\n",
            "Test Accuracy: 0.858705001111439\n"
          ],
          "name": "stdout"
        }
      ]
    },
    {
      "cell_type": "markdown",
      "metadata": {
        "colab_type": "text",
        "id": "buwZ2yFcCXtJ"
      },
      "source": [
        "### Plot Training & Validation Accuracy with the Loss values of the Bidirectional LSTM Model"
      ]
    },
    {
      "cell_type": "code",
      "metadata": {
        "colab_type": "code",
        "id": "tW1f1E-LCc53",
        "colab": {},
        "outputId": "943f98ba-51c4-4380-d185-39c6dc5a02ff"
      },
      "source": [
        "# Plot training & validation accuracy values\n",
        "plt.plot(Bil_LSTM_model_fit.history['acc'])\n",
        "plt.plot(Bil_LSTM_model_fit.history['val_acc'])\n",
        "plt.title('Bidirectional LSTM Model accuracy')\n",
        "plt.ylabel('Accuracy')\n",
        "plt.xlabel('Epoch')\n",
        "plt.legend(['Training Accuracy', 'Validation Accuracy'], loc='upper left')\n",
        "plt.show()\n",
        "\n",
        "# Plot training & validation loss values\n",
        "plt.plot(Bil_LSTM_model_fit.history['loss'])\n",
        "plt.plot(Bil_LSTM_model_fit.history['val_loss'])\n",
        "plt.title('Bidirectional LSTM Model loss')\n",
        "plt.ylabel('Loss')\n",
        "plt.xlabel('Epoch')\n",
        "plt.legend(['Training Loss', 'Validation Loss'], loc='lower right')\n",
        "plt.show()"
      ],
      "execution_count": 0,
      "outputs": [
        {
          "output_type": "display_data",
          "data": {
            "image/png": "[encoded data removed]",
            "text/plain": [
              "<Figure size 432x288 with 1 Axes>"
            ]
          },
          "metadata": {
            "tags": [],
            "needs_background": "light"
          }
        },
        {
          "output_type": "display_data",
          "data": {
            "image/png": "[encoded data removed]",
            "text/plain": [
              "<Figure size 432x288 with 1 Axes>"
            ]
          },
          "metadata": {
            "tags": [],
            "needs_background": "light"
          }
        }
      ]
    },
    {
      "cell_type": "code",
      "metadata": {
        "colab_type": "code",
        "id": "Fvgc6U7ZBNMW",
        "colab": {}
      },
      "source": [
        ""
      ],
      "execution_count": 0,
      "outputs": []
    },
    {
      "cell_type": "markdown",
      "metadata": {
        "colab_type": "text",
        "id": "Sx-p9pgTBaQB"
      },
      "source": [
        "## 6) Gated Recurrent Unit (GRU)"
      ]
    },
    {
      "cell_type": "code",
      "metadata": {
        "colab_type": "code",
        "id": "3pR-I6SfBZHx",
        "colab": {}
      },
      "source": [
        "sequence_input = Input(shape=(max_len, ))\n",
        "model = Embedding(input_dim=max_features, output_dim=embedding_dims, trainable = False)(sequence_input)\n",
        "model = SpatialDropout1D(0.2)(model)\n",
        "model = GRU(128, return_sequences=True,dropout=0.1,recurrent_dropout=0.1)(model)\n",
        "model = Conv1D(64, kernel_size = 3, padding = \"valid\", kernel_initializer = \"glorot_uniform\")(model)\n",
        "avg_pool = GlobalAveragePooling1D()(model)\n",
        "max_pool = GlobalMaxPooling1D()(model)\n",
        "model = concatenate([avg_pool, max_pool]) \n",
        "preds = Dense(6, activation=\"sigmoid\")(model)\n",
        "GRU_model = Model(sequence_input, preds)\n",
        "GRU_model.compile(loss='binary_crossentropy',optimizer=Adam(lr=1e-3),metrics=['accuracy', mean_pred, fmeasure, precision, auroc, recall])\n"
      ],
      "execution_count": 0,
      "outputs": []
    },
    {
      "cell_type": "markdown",
      "metadata": {
        "colab_type": "text",
        "id": "Rk3k7L1fDfYe"
      },
      "source": [
        "### Visualize the Orchestrated GRU MODEL Architecture"
      ]
    },
    {
      "cell_type": "code",
      "metadata": {
        "colab_type": "code",
        "id": "SICCeH7bDVj6",
        "colab": {},
        "outputId": "4ff3fa28-062c-4581-bc61-3be7b328dd05"
      },
      "source": [
        "GRU_model.summary()\n",
        "\n",
        "#plot the GRU model architecture\n",
        "\n",
        "#plot_model(GRU_model, to_file='GRU_model_plot.png', show_shapes=True, show_layer_names=True)\n",
        "#Image(retina=True, filename='GRU_model_plot.png')"
      ],
      "execution_count": 0,
      "outputs": [
        {
          "output_type": "stream",
          "text": [
            "__________________________________________________________________________________________________\n",
            "Layer (type)                    Output Shape         Param #     Connected to                     \n",
            "==================================================================================================\n",
            "input_1 (InputLayer)            (None, 200)          0                                            \n",
            "__________________________________________________________________________________________________\n",
            "embedding_6 (Embedding)         (None, 200, 128)     25600000    input_1[0][0]                    \n",
            "__________________________________________________________________________________________________\n",
            "spatial_dropout1d_5 (SpatialDro (None, 200, 128)     0           embedding_6[0][0]                \n",
            "__________________________________________________________________________________________________\n",
            "gru_1 (GRU)                     (None, 200, 128)     98688       spatial_dropout1d_5[0][0]        \n",
            "__________________________________________________________________________________________________\n",
            "conv1d_2 (Conv1D)               (None, 198, 64)      24640       gru_1[0][0]                      \n",
            "__________________________________________________________________________________________________\n",
            "global_average_pooling1d_1 (Glo (None, 64)           0           conv1d_2[0][0]                   \n",
            "__________________________________________________________________________________________________\n",
            "global_max_pooling1d_6 (GlobalM (None, 64)           0           conv1d_2[0][0]                   \n",
            "__________________________________________________________________________________________________\n",
            "concatenate_1 (Concatenate)     (None, 128)          0           global_average_pooling1d_1[0][0] \n",
            "                                                                 global_max_pooling1d_6[0][0]     \n",
            "__________________________________________________________________________________________________\n",
            "dense_11 (Dense)                (None, 6)            774         concatenate_1[0][0]              \n",
            "==================================================================================================\n",
            "Total params: 25,724,102\n",
            "Trainable params: 124,102\n",
            "Non-trainable params: 25,600,000\n",
            "__________________________________________________________________________________________________\n"
          ],
          "name": "stdout"
        }
      ]
    },
    {
      "cell_type": "code",
      "metadata": {
        "colab_type": "code",
        "id": "2l-bAXDRDOdJ",
        "colab": {},
        "outputId": "a1117122-4e6f-4bc4-ade9-d6fb1f8d0904"
      },
      "source": [
        "\n",
        "GRU_model_fit = GRU_model.fit(X_tra, y_tra, batch_size=batch_size2, epochs=num_epochs, validation_data=(X_val, y_val), callbacks=[early])"
      ],
      "execution_count": 0,
      "outputs": [
        {
          "output_type": "stream",
          "text": [
            "Train on 14602 samples, validate on 1623 samples\n",
            "Epoch 1/15\n",
            "14602/14602 [==============================] - 75s 5ms/step - loss: 0.4434 - acc: 0.7788 - mean_pred: 0.3870 - fmeasure: 0.6949 - precision: 0.6978 - auroc: 0.8102 - recall: 0.6975 - val_loss: 0.3845 - val_acc: 0.7956 - val_mean_pred: 0.3622 - val_fmeasure: 0.6576 - val_precision: 0.8191 - val_auroc: 0.8619 - val_recall: 0.5497\n",
            "Epoch 2/15\n",
            "14602/14602 [==============================] - 95s 7ms/step - loss: 0.3950 - acc: 0.7979 - mean_pred: 0.3652 - fmeasure: 0.7187 - precision: 0.7231 - auroc: 0.8666 - recall: 0.7208 - val_loss: 0.3813 - val_acc: 0.8026 - val_mean_pred: 0.3558 - val_fmeasure: 0.6945 - val_precision: 0.7769 - val_auroc: 0.8705 - val_recall: 0.6284\n",
            "Epoch 3/15\n",
            "14602/14602 [==============================] - 103s 7ms/step - loss: 0.3909 - acc: 0.8048 - mean_pred: 0.3616 - fmeasure: 0.7156 - precision: 0.7614 - auroc: 0.8726 - recall: 0.6921 - val_loss: 0.3773 - val_acc: 0.8087 - val_mean_pred: 0.3631 - val_fmeasure: 0.7339 - val_precision: 0.7298 - val_auroc: 0.8749 - val_recall: 0.7392\n",
            "Epoch 4/15\n",
            "14602/14602 [==============================] - 121s 8ms/step - loss: 0.3855 - acc: 0.8122 - mean_pred: 0.3614 - fmeasure: 0.7272 - precision: 0.7688 - auroc: 0.8767 - recall: 0.6984 - val_loss: 0.3756 - val_acc: 0.8133 - val_mean_pred: 0.3229 - val_fmeasure: 0.6757 - val_precision: 0.8904 - val_auroc: 0.8787 - val_recall: 0.5448\n",
            "Epoch 5/15\n",
            "14602/14602 [==============================] - 123s 8ms/step - loss: 0.3765 - acc: 0.8218 - mean_pred: 0.3605 - fmeasure: 0.7386 - precision: 0.7895 - auroc: 0.8807 - recall: 0.7030 - val_loss: 0.3607 - val_acc: 0.8277 - val_mean_pred: 0.3780 - val_fmeasure: 0.7598 - val_precision: 0.7563 - val_auroc: 0.8827 - val_recall: 0.7640\n",
            "Epoch 6/15\n",
            "14602/14602 [==============================] - 123s 8ms/step - loss: 0.3650 - acc: 0.8327 - mean_pred: 0.3651 - fmeasure: 0.7534 - precision: 0.8095 - auroc: 0.8847 - recall: 0.7112 - val_loss: 0.3492 - val_acc: 0.8380 - val_mean_pred: 0.3533 - val_fmeasure: 0.7505 - val_precision: 0.8335 - val_auroc: 0.8868 - val_recall: 0.6828\n",
            "Epoch 7/15\n",
            "14602/14602 [==============================] - 124s 8ms/step - loss: 0.3568 - acc: 0.8373 - mean_pred: 0.3607 - fmeasure: 0.7562 - precision: 0.8247 - auroc: 0.8886 - recall: 0.7007 - val_loss: 0.3439 - val_acc: 0.8425 - val_mean_pred: 0.3455 - val_fmeasure: 0.7480 - val_precision: 0.8722 - val_auroc: 0.8903 - val_recall: 0.6551\n",
            "Epoch 8/15\n",
            "14602/14602 [==============================] - 125s 9ms/step - loss: 0.3509 - acc: 0.8424 - mean_pred: 0.3611 - fmeasure: 0.7643 - precision: 0.8308 - auroc: 0.8918 - recall: 0.7085 - val_loss: 0.3374 - val_acc: 0.8480 - val_mean_pred: 0.3480 - val_fmeasure: 0.7626 - val_precision: 0.8622 - val_auroc: 0.8933 - val_recall: 0.6841\n",
            "Epoch 9/15\n",
            "14602/14602 [==============================] - 125s 9ms/step - loss: 0.3471 - acc: 0.8453 - mean_pred: 0.3618 - fmeasure: 0.7681 - precision: 0.8381 - auroc: 0.8946 - recall: 0.7107 - val_loss: 0.3412 - val_acc: 0.8494 - val_mean_pred: 0.3202 - val_fmeasure: 0.7516 - val_precision: 0.9140 - val_auroc: 0.8959 - val_recall: 0.6385\n",
            "Epoch 10/15\n",
            "14602/14602 [==============================] - 124s 9ms/step - loss: 0.3449 - acc: 0.8466 - mean_pred: 0.3597 - fmeasure: 0.7695 - precision: 0.8421 - auroc: 0.8970 - recall: 0.7104 - val_loss: 0.3330 - val_acc: 0.8520 - val_mean_pred: 0.3510 - val_fmeasure: 0.7692 - val_precision: 0.8673 - val_auroc: 0.8981 - val_recall: 0.6916\n",
            "Epoch 11/15\n",
            "14602/14602 [==============================] - 124s 8ms/step - loss: 0.3425 - acc: 0.8496 - mean_pred: 0.3617 - fmeasure: 0.7746 - precision: 0.8445 - auroc: 0.8990 - recall: 0.7177 - val_loss: 0.3338 - val_acc: 0.8523 - val_mean_pred: 0.3341 - val_fmeasure: 0.7615 - val_precision: 0.8996 - val_auroc: 0.8999 - val_recall: 0.6606\n",
            "Epoch 12/15\n",
            "14602/14602 [==============================] - 125s 9ms/step - loss: 0.3388 - acc: 0.8512 - mean_pred: 0.3624 - fmeasure: 0.7774 - precision: 0.8454 - auroc: 0.9008 - recall: 0.7208 - val_loss: 0.3309 - val_acc: 0.8557 - val_mean_pred: 0.3368 - val_fmeasure: 0.7720 - val_precision: 0.8851 - val_auroc: 0.9016 - val_recall: 0.6850\n",
            "Epoch 13/15\n",
            "14602/14602 [==============================] - 125s 9ms/step - loss: 0.3370 - acc: 0.8524 - mean_pred: 0.3598 - fmeasure: 0.7791 - precision: 0.8475 - auroc: 0.9024 - recall: 0.7220 - val_loss: 0.3279 - val_acc: 0.8578 - val_mean_pred: 0.3402 - val_fmeasure: 0.7761 - val_precision: 0.8859 - val_auroc: 0.9032 - val_recall: 0.6908\n",
            "Epoch 14/15\n",
            "14602/14602 [==============================] - 126s 9ms/step - loss: 0.3354 - acc: 0.8530 - mean_pred: 0.3609 - fmeasure: 0.7810 - precision: 0.8449 - auroc: 0.9039 - recall: 0.7273 - val_loss: 0.3269 - val_acc: 0.8584 - val_mean_pred: 0.3559 - val_fmeasure: 0.7830 - val_precision: 0.8634 - val_auroc: 0.9045 - val_recall: 0.7165\n",
            "Epoch 15/15\n",
            "14602/14602 [==============================] - 124s 9ms/step - loss: 0.3336 - acc: 0.8537 - mean_pred: 0.3626 - fmeasure: 0.7824 - precision: 0.8450 - auroc: 0.9052 - recall: 0.7301 - val_loss: 0.3284 - val_acc: 0.8590 - val_mean_pred: 0.3269 - val_fmeasure: 0.7752 - val_precision: 0.8999 - val_auroc: 0.9058 - val_recall: 0.6811\n"
          ],
          "name": "stdout"
        }
      ]
    },
    {
      "cell_type": "markdown",
      "metadata": {
        "colab_type": "text",
        "id": "ACrnJm6ADlDK"
      },
      "source": [
        "### Evaluate the GRU Model train and test score"
      ]
    },
    {
      "cell_type": "code",
      "metadata": {
        "colab_type": "code",
        "id": "FpqnrL1EDpR-",
        "colab": {},
        "outputId": "0b9ed306-e3a4-4907-b4e2-f7365071d1f9"
      },
      "source": [
        "#Train\n",
        "GRU_train_score = GRU_model.evaluate(X_tra, y_tra, batch_size=batch_size2, verbose=1)\n",
        "print('Train Loss:', GRU_train_score[0])\n",
        "print('Train Accuracy:', GRU_train_score[1])\n",
        "\n",
        "#Test\n",
        "GRU_test_score = GRU_model.evaluate(X_test, y_test, batch_size=batch_size2, verbose=1)\n",
        "print('Test Loss:', GRU_test_score[0])\n",
        "print('Test Accuracy:', GRU_test_score[1])"
      ],
      "execution_count": 0,
      "outputs": [
        {
          "output_type": "stream",
          "text": [
            ""
          ],
          "name": "stdout"
        },
        {
          "output_type": "stream",
          "text": [
            "14602/14602 [==============================] - 37s 3ms/step\n",
            "Train Loss: 0.32811733056969583\n",
            "Train Accuracy: 0.8586837652774236\n",
            "6234/6234 [==============================] - 15s 2ms/step\n",
            "Test Loss: 0.3427480285390279\n",
            "Test Accuracy: 0.8407122404253325\n"
          ],
          "name": "stdout"
        }
      ]
    },
    {
      "cell_type": "markdown",
      "metadata": {
        "colab_type": "text",
        "id": "ZjDQUJNYECxv"
      },
      "source": [
        "### Plot Training & Validation Accuracy with the Loss values of the GRU Model"
      ]
    },
    {
      "cell_type": "code",
      "metadata": {
        "colab_type": "code",
        "id": "2EQgTPDrEBw-",
        "colab": {},
        "outputId": "7bc7cbcf-f79f-46ef-a7cc-c48e179c6c1a"
      },
      "source": [
        "# Plot training & validation accuracy values\n",
        "plt.plot(GRU_model_fit.history['acc'])\n",
        "plt.plot(GRU_model_fit.history['val_acc'])\n",
        "plt.title(' Gated Recurrent Unit (GRU)) Model accuracy')\n",
        "plt.ylabel('Accuracy')\n",
        "plt.xlabel('Epoch')\n",
        "plt.legend(['Training Accuracy', 'Validation Accuracy'], loc='upper left')\n",
        "plt.show()\n",
        "\n",
        "# Plot training & validation loss values\n",
        "plt.plot(GRU_model_fit.history['loss'])\n",
        "plt.plot(GRU_model_fit.history['val_loss'])\n",
        "plt.title('Gated Recurrent Unit (GRU) Model loss')\n",
        "plt.ylabel('Loss')\n",
        "plt.xlabel('Epoch')\n",
        "plt.legend(['Training Loss', 'Validation Loss'], loc='lower right')\n",
        "plt.show()"
      ],
      "execution_count": 0,
      "outputs": [
        {
          "output_type": "display_data",
          "data": {
            "image/png": "[encoded data removed]",
            "text/plain": [
              "<Figure size 432x288 with 1 Axes>"
            ]
          },
          "metadata": {
            "tags": [],
            "needs_background": "light"
          }
        },
        {
          "output_type": "display_data",
          "data": {
            "image/png": "[encoded data removed]",
            "text/plain": [
              "<Figure size 432x288 with 1 Axes>"
            ]
          },
          "metadata": {
            "tags": [],
            "needs_background": "light"
          }
        }
      ]
    },
    {
      "cell_type": "markdown",
      "metadata": {
        "colab_type": "text",
        "id": "t7iZdbfLq2KN"
      },
      "source": [
        "## 7 )  Bidirectional Gated Recurrent Unit (Bidirecitonal GRU)"
      ]
    },
    {
      "cell_type": "code",
      "metadata": {
        "colab_type": "code",
        "id": "FZdvkc9prCJN",
        "colab": {}
      },
      "source": [
        "sequence_input = Input(shape=(max_len, ))\n",
        "model = Embedding(input_dim=max_features, output_dim=embedding_dims, trainable = False)(sequence_input)\n",
        "model = SpatialDropout1D(0.2)(model)\n",
        "model = Bidirectional(GRU(128, return_sequences=True,dropout=0.1,recurrent_dropout=0.1))(model)\n",
        "model = Conv1D(64, kernel_size = 3, padding = \"valid\", kernel_initializer = \"glorot_uniform\")(model)\n",
        "avg_pool = GlobalAveragePooling1D()(model)\n",
        "max_pool = GlobalMaxPooling1D()(model)\n",
        "model = concatenate([avg_pool, max_pool]) \n",
        "preds = Dense(6, activation=\"sigmoid\")(model)\n",
        "Bil_GRU_model = Model(sequence_input, preds)\n",
        "Bil_GRU_model.compile(loss='binary_crossentropy',optimizer=Adam(lr=1e-3),metrics=['accuracy', mean_pred, fmeasure, precision, auroc, recall])"
      ],
      "execution_count": 0,
      "outputs": []
    },
    {
      "cell_type": "markdown",
      "metadata": {
        "colab_type": "text",
        "id": "JLQtcAEWEawg"
      },
      "source": [
        "### Visualize the Orchestrated Bidirectional GRU Model Architecture\n",
        "\n"
      ]
    },
    {
      "cell_type": "code",
      "metadata": {
        "colab_type": "code",
        "id": "_Powl4YLEiSr",
        "colab": {},
        "outputId": "3a0799f3-1a95-4a54-b14f-0f63a52ccaa2"
      },
      "source": [
        "Bil_GRU_model.summary()\n",
        "\n",
        "#plot the GRU model architecture\n",
        "\n",
        "#plot_model(Bil_GRU_model, to_file='Bil_GRU_model_plot.png', show_shapes=True, show_layer_names=True)\n",
        "#Image(retina=True, filename='Bil_GRU_model_plot.png')"
      ],
      "execution_count": 0,
      "outputs": [
        {
          "output_type": "stream",
          "text": [
            "__________________________________________________________________________________________________\n",
            "Layer (type)                    Output Shape         Param #     Connected to                     \n",
            "==================================================================================================\n",
            "input_2 (InputLayer)            (None, 200)          0                                            \n",
            "__________________________________________________________________________________________________\n",
            "embedding_7 (Embedding)         (None, 200, 128)     25600000    input_2[0][0]                    \n",
            "__________________________________________________________________________________________________\n",
            "spatial_dropout1d_6 (SpatialDro (None, 200, 128)     0           embedding_7[0][0]                \n",
            "__________________________________________________________________________________________________\n",
            "bidirectional_2 (Bidirectional) (None, 200, 256)     197376      spatial_dropout1d_6[0][0]        \n",
            "__________________________________________________________________________________________________\n",
            "conv1d_3 (Conv1D)               (None, 198, 64)      49216       bidirectional_2[0][0]            \n",
            "__________________________________________________________________________________________________\n",
            "global_average_pooling1d_2 (Glo (None, 64)           0           conv1d_3[0][0]                   \n",
            "__________________________________________________________________________________________________\n",
            "global_max_pooling1d_7 (GlobalM (None, 64)           0           conv1d_3[0][0]                   \n",
            "__________________________________________________________________________________________________\n",
            "concatenate_2 (Concatenate)     (None, 128)          0           global_average_pooling1d_2[0][0] \n",
            "                                                                 global_max_pooling1d_7[0][0]     \n",
            "__________________________________________________________________________________________________\n",
            "dense_12 (Dense)                (None, 6)            774         concatenate_2[0][0]              \n",
            "==================================================================================================\n",
            "Total params: 25,847,366\n",
            "Trainable params: 247,366\n",
            "Non-trainable params: 25,600,000\n",
            "__________________________________________________________________________________________________\n"
          ],
          "name": "stdout"
        }
      ]
    },
    {
      "cell_type": "code",
      "metadata": {
        "colab_type": "code",
        "id": "5CGfrNWgEr84",
        "colab": {},
        "outputId": "928e0b31-d1fa-4b61-9a8a-9930179ff4d8"
      },
      "source": [
        "Bil_GRU_model_fit = Bil_GRU_model.fit(X_tra, y_tra, batch_size=batch_size2, epochs=num_epochs, validation_data=(X_val, y_val), callbacks=[early])"
      ],
      "execution_count": 0,
      "outputs": [
        {
          "output_type": "stream",
          "text": [
            "Train on 14602 samples, validate on 1623 samples\n",
            "Epoch 1/15\n",
            "14602/14602 [==============================] - 355s 24ms/step - loss: 0.4320 - acc: 0.7901 - mean_pred: 0.3835 - fmeasure: 0.7108 - precision: 0.7189 - auroc: 0.8413 - recall: 0.7248 - val_loss: 0.3823 - val_acc: 0.7981 - val_mean_pred: 0.3604 - val_fmeasure: 0.7062 - val_precision: 0.7353 - val_auroc: 0.8689 - val_recall: 0.6798\n",
            "Epoch 2/15\n",
            "14602/14602 [==============================] - 423s 29ms/step - loss: 0.3902 - acc: 0.8078 - mean_pred: 0.3612 - fmeasure: 0.7222 - precision: 0.7622 - auroc: 0.8735 - recall: 0.6995 - val_loss: 0.3782 - val_acc: 0.8068 - val_mean_pred: 0.3803 - val_fmeasure: 0.7534 - val_precision: 0.6921 - val_auroc: 0.8770 - val_recall: 0.8273\n",
            "Epoch 3/15\n",
            "14602/14602 [==============================] - 467s 32ms/step - loss: 0.3746 - acc: 0.8247 - mean_pred: 0.3614 - fmeasure: 0.7444 - precision: 0.7940 - auroc: 0.8806 - recall: 0.7119 - val_loss: 0.3483 - val_acc: 0.8408 - val_mean_pred: 0.3636 - val_fmeasure: 0.7644 - val_precision: 0.8108 - val_auroc: 0.8847 - val_recall: 0.7233\n",
            "Epoch 4/15\n",
            "14602/14602 [==============================] - 519s 36ms/step - loss: 0.3522 - acc: 0.8435 - mean_pred: 0.3608 - fmeasure: 0.7664 - precision: 0.8322 - auroc: 0.8888 - recall: 0.7124 - val_loss: 0.3392 - val_acc: 0.8473 - val_mean_pred: 0.3542 - val_fmeasure: 0.7659 - val_precision: 0.8463 - val_auroc: 0.8921 - val_recall: 0.6995\n",
            "Epoch 5/15\n",
            "14602/14602 [==============================] - 532s 36ms/step - loss: 0.3443 - acc: 0.8489 - mean_pred: 0.3623 - fmeasure: 0.7735 - precision: 0.8430 - auroc: 0.8949 - recall: 0.7160 - val_loss: 0.3352 - val_acc: 0.8519 - val_mean_pred: 0.3539 - val_fmeasure: 0.7719 - val_precision: 0.8576 - val_auroc: 0.8973 - val_recall: 0.7019\n",
            "Epoch 6/15\n",
            "14602/14602 [==============================] - 542s 37ms/step - loss: 0.3389 - acc: 0.8527 - mean_pred: 0.3627 - fmeasure: 0.7806 - precision: 0.8443 - auroc: 0.8994 - recall: 0.7271 - val_loss: 0.3351 - val_acc: 0.8533 - val_mean_pred: 0.3325 - val_fmeasure: 0.7661 - val_precision: 0.8882 - val_auroc: 0.9011 - val_recall: 0.6736\n",
            "Epoch 7/15\n",
            "14602/14602 [==============================] - 550s 38ms/step - loss: 0.3361 - acc: 0.8543 - mean_pred: 0.3618 - fmeasure: 0.7827 - precision: 0.8466 - auroc: 0.9027 - recall: 0.7290 - val_loss: 0.3298 - val_acc: 0.8562 - val_mean_pred: 0.3442 - val_fmeasure: 0.7780 - val_precision: 0.8663 - val_auroc: 0.9041 - val_recall: 0.7062\n",
            "Epoch 8/15\n",
            "14602/14602 [==============================] - 556s 38ms/step - loss: 0.3342 - acc: 0.8563 - mean_pred: 0.3596 - fmeasure: 0.7859 - precision: 0.8504 - auroc: 0.9054 - recall: 0.7322 - val_loss: 0.3280 - val_acc: 0.8584 - val_mean_pred: 0.3429 - val_fmeasure: 0.7805 - val_precision: 0.8734 - val_auroc: 0.9064 - val_recall: 0.7057\n",
            "Epoch 9/15\n",
            "14602/14602 [==============================] - 556s 38ms/step - loss: 0.3298 - acc: 0.8591 - mean_pred: 0.3607 - fmeasure: 0.7905 - precision: 0.8526 - auroc: 0.9075 - recall: 0.7376 - val_loss: 0.3279 - val_acc: 0.8576 - val_mean_pred: 0.3288 - val_fmeasure: 0.7741 - val_precision: 0.8918 - val_auroc: 0.9085 - val_recall: 0.6841\n",
            "Epoch 10/15\n",
            "14602/14602 [==============================] - 546s 37ms/step - loss: 0.3274 - acc: 0.8591 - mean_pred: 0.3595 - fmeasure: 0.7911 - precision: 0.8512 - auroc: 0.9094 - recall: 0.7399 - val_loss: 0.3214 - val_acc: 0.8620 - val_mean_pred: 0.3610 - val_fmeasure: 0.7932 - val_precision: 0.8526 - val_auroc: 0.9102 - val_recall: 0.7415\n",
            "Epoch 11/15\n",
            "14602/14602 [==============================] - 547s 37ms/step - loss: 0.3245 - acc: 0.8609 - mean_pred: 0.3617 - fmeasure: 0.7938 - precision: 0.8537 - auroc: 0.9111 - recall: 0.7427 - val_loss: 0.3220 - val_acc: 0.8608 - val_mean_pred: 0.3402 - val_fmeasure: 0.7883 - val_precision: 0.8614 - val_auroc: 0.9118 - val_recall: 0.7269\n",
            "Epoch 12/15\n",
            "14602/14602 [==============================] - 551s 38ms/step - loss: 0.3211 - acc: 0.8621 - mean_pred: 0.3601 - fmeasure: 0.7961 - precision: 0.8536 - auroc: 0.9126 - recall: 0.7469 - val_loss: 0.3222 - val_acc: 0.8620 - val_mean_pred: 0.3353 - val_fmeasure: 0.7868 - val_precision: 0.8762 - val_auroc: 0.9133 - val_recall: 0.7142\n",
            "Epoch 13/15\n",
            "14602/14602 [==============================] - 545s 37ms/step - loss: 0.3169 - acc: 0.8639 - mean_pred: 0.3607 - fmeasure: 0.7993 - precision: 0.8548 - auroc: 0.9140 - recall: 0.7515 - val_loss: 0.3222 - val_acc: 0.8628 - val_mean_pred: 0.3221 - val_fmeasure: 0.7851 - val_precision: 0.8899 - val_auroc: 0.9146 - val_recall: 0.7028\n",
            "Epoch 14/15\n",
            "14602/14602 [==============================] - 549s 38ms/step - loss: 0.3127 - acc: 0.8665 - mean_pred: 0.3596 - fmeasure: 0.8024 - precision: 0.8616 - auroc: 0.9153 - recall: 0.7515 - val_loss: 0.3128 - val_acc: 0.8660 - val_mean_pred: 0.3519 - val_fmeasure: 0.7999 - val_precision: 0.8565 - val_auroc: 0.9160 - val_recall: 0.7506\n",
            "Epoch 15/15\n",
            "14602/14602 [==============================] - 547s 37ms/step - loss: 0.3102 - acc: 0.8676 - mean_pred: 0.3612 - fmeasure: 0.8053 - precision: 0.8578 - auroc: 0.9166 - recall: 0.7596 - val_loss: 0.3132 - val_acc: 0.8642 - val_mean_pred: 0.3597 - val_fmeasure: 0.7998 - val_precision: 0.8450 - val_auroc: 0.9172 - val_recall: 0.7593\n"
          ],
          "name": "stdout"
        }
      ]
    },
    {
      "cell_type": "markdown",
      "metadata": {
        "colab_type": "text",
        "id": "Zp25epmqEv8I"
      },
      "source": [
        "### Evaluate the GRU Model train and test score"
      ]
    },
    {
      "cell_type": "code",
      "metadata": {
        "colab_type": "code",
        "id": "xl_z8tXhEwmX",
        "colab": {},
        "outputId": "d3025256-3593-4d9d-a1f4-72a119049b4b"
      },
      "source": [
        "#Train\n",
        "Bil_GRU_train_score = Bil_GRU_model.evaluate(X_tra, y_tra, batch_size=batch_size2, verbose=1)\n",
        "print('Train Loss:', Bil_GRU_train_score[0])\n",
        "print('Train Accuracy:', Bil_GRU_train_score[1])\n",
        "\n",
        "#Test\n",
        "Bil_GRU_test_score = Bil_GRU_model.evaluate(X_test, y_test, batch_size=batch_size2, verbose=1)\n",
        "print('Test Loss:', Bil_GRU_test_score[0])\n",
        "print('Test Accuracy:', Bil_GRU_test_score[1])"
      ],
      "execution_count": 0,
      "outputs": [
        {
          "output_type": "stream",
          "text": [
            ""
          ],
          "name": "stdout"
        },
        {
          "output_type": "stream",
          "text": [
            "14602/14602 [==============================] - 101s 7ms/step\n",
            "Train Loss: 0.29912207272057334\n",
            "Train Accuracy: 0.8737045438987493\n",
            "6234/6234 [==============================] - 43s 7ms/step\n",
            "Test Loss: 0.31512004053856574\n",
            "Test Accuracy: 0.8547481846304554\n"
          ],
          "name": "stdout"
        }
      ]
    },
    {
      "cell_type": "markdown",
      "metadata": {
        "colab_type": "text",
        "id": "tqOf-TcOFH6h"
      },
      "source": [
        "### Plot Training & Validation Accuracy with the Loss values of the Bil GRU Model"
      ]
    },
    {
      "cell_type": "code",
      "metadata": {
        "colab_type": "code",
        "id": "hhqbBmzCFMke",
        "colab": {},
        "outputId": "536acfde-64f8-4b93-9622-e907c11bd22b"
      },
      "source": [
        "# Plot training & validation accuracy values\n",
        "plt.plot(Bil_GRU_model_fit.history['acc'])\n",
        "plt.plot(Bil_GRU_model_fit.history['val_acc'])\n",
        "plt.title(' Bidirectional Gated Recurrent Unit (GRU) Model accuracy')\n",
        "plt.ylabel('Accuracy')\n",
        "plt.xlabel('Epoch')\n",
        "plt.legend(['Training Accuracy', 'Validation Accuracy'], loc='upper left')\n",
        "plt.show()\n",
        "\n",
        "# Plot training & validation loss values\n",
        "plt.plot(Bil_GRU_model_fit.history['loss'])\n",
        "plt.plot(Bil_GRU_model_fit.history['val_loss'])\n",
        "plt.title('Bidirectional Gated Recurrent Unit (GRU) Model loss')\n",
        "plt.ylabel('Loss')\n",
        "plt.xlabel('Epoch')\n",
        "plt.legend(['Training Loss', 'Validation Loss'], loc='lower right')\n",
        "plt.show()"
      ],
      "execution_count": 0,
      "outputs": [
        {
          "output_type": "display_data",
          "data": {
            "image/png": "[encoded data removed]",
            "text/plain": [
              "<Figure size 432x288 with 1 Axes>"
            ]
          },
          "metadata": {
            "tags": [],
            "needs_background": "light"
          }
        },
        {
          "output_type": "display_data",
          "data": {
            "image/png": "[encoded data removed]",
            "text/plain": [
              "<Figure size 432x288 with 1 Axes>"
            ]
          },
          "metadata": {
            "tags": [],
            "needs_background": "light"
          }
        }
      ]
    },
    {
      "cell_type": "markdown",
      "metadata": {
        "colab_type": "text",
        "id": "db28Tpnvejiq"
      },
      "source": [
        "# Evaluation of Experiment Without Pre-trained Embedding"
      ]
    },
    {
      "cell_type": "markdown",
      "metadata": {
        "colab_type": "text",
        "id": "oh7FUzQnZ7BJ"
      },
      "source": [
        "#### Computing the highest of the evaluation matrics (per model) "
      ]
    },
    {
      "cell_type": "code",
      "metadata": {
        "colab_type": "code",
        "id": "zK_Xn0hNAKJo",
        "colab": {},
        "outputId": "741ed1bd-9292-41fe-b40a-b346ae503c84"
      },
      "source": [
        "trace = go.Table(\n",
        "    header=dict(values=['Model', 'Loss', 'Accuracy', 'mean_pred', 'F-Measure', 'Precision', 'AUC', 'Recall'],\n",
        "                line = dict(color='#7D7F80'),\n",
        "                fill = dict(color='#a1c3d1'),\n",
        "                align = ['left'] * 5),\n",
        "    cells=dict(values=[['Neural Network', 'CNN', 'RNNs', 'LSTM', ' Bidirectional LSTM', 'GRU', 'Bidirectional GRU'],\n",
        "                       [\n",
        "                        #Loss Evaluation\n",
        "                        round(np.max(nn_model_fit.history['loss']), 3), round(np.max(CNN_model_fit.history['loss']), 3), round(np.max(RNN_model_fit.history['loss']), 3), \n",
        "                        round(np.max(LSTM_model_fit.history['loss']), 3), round(np.max(Bil_LSTM_model_fit.history['loss']), 3), round(np.max(GRU_model_fit.history['loss']), 3),\n",
        "                        round(np.max(Bil_GRU_model_fit.history['loss']), 3)],\n",
        "                        \n",
        "                        #Accuracy Evaluation\n",
        "                        [round(np.max(nn_model_fit.history['acc']), 3), round(np.max(CNN_model_fit.history['acc']), 3), round(np.max(RNN_model_fit.history['acc']), 3), \n",
        "                        round(np.max(LSTM_model_fit.history['acc']), 3), round(np.max(Bil_LSTM_model_fit.history['acc']), 3), round(np.max(GRU_model_fit.history['acc']), 3),\n",
        "                        round(np.max(Bil_GRU_model_fit.history['acc']), 3)],\n",
        "               \n",
        "                        #mean_pred Evaluation\n",
        "                        [round(np.max(nn_model_fit.history['mean_pred']), 3), round(np.max(CNN_model_fit.history['mean_pred']), 3), round(np.max(RNN_model_fit.history['mean_pred']), 3), \n",
        "                        round(np.max(LSTM_model_fit.history['mean_pred']), 3), round(np.max(Bil_LSTM_model_fit.history['mean_pred']), 3), round(np.max(GRU_model_fit.history['mean_pred']), 3),\n",
        "                        round(np.max(Bil_GRU_model_fit.history['mean_pred']), 3)],\n",
        "\t\t\t\t\t\t\n",
        "                        #F1-Measure Evaluation fmeasure\n",
        "                        [round(np.max(nn_model_fit.history['fmeasure']), 3), round(np.max(CNN_model_fit.history['fmeasure']), 3), round(np.max(RNN_model_fit.history['fmeasure']), 3), \n",
        "                        round(np.max(LSTM_model_fit.history['fmeasure']), 3), round(np.max(Bil_LSTM_model_fit.history['fmeasure']), 3), round(np.max(GRU_model_fit.history['fmeasure']), 3),\n",
        "                        round(np.max(Bil_GRU_model_fit.history['fmeasure']), 3)],\n",
        "\t\t\t\t\t\t             \n",
        "                        #Precision Evaluation precision\n",
        "                        [round(np.max(nn_model_fit.history['precision']), 3), round(np.max(CNN_model_fit.history['precision']), 3), round(np.max(RNN_model_fit.history['precision']), 3), \n",
        "                        round(np.max(LSTM_model_fit.history['precision']), 3), round(np.max(Bil_LSTM_model_fit.history['precision']), 3), round(np.max(GRU_model_fit.history['precision']), 3),\n",
        "                        round(np.max(Bil_GRU_model_fit.history['precision']), 3)],\n",
        "\t\t\t\t\t\t\n",
        "                        #ROC AUC Evaluation auroc\n",
        "                        [round(np.max(nn_model_fit.history['auroc']), 3), round(np.max(CNN_model_fit.history['auroc']), 3), round(np.max(RNN_model_fit.history['auroc']), 3), \n",
        "                        round(np.max(LSTM_model_fit.history['auroc']), 3), round(np.max(Bil_LSTM_model_fit.history['auroc']), 3), round(np.max(GRU_model_fit.history['auroc']), 3),\n",
        "                        round(np.max(Bil_GRU_model_fit.history['auroc']), 3)],\n",
        "                       \n",
        "                        #Recall Evaluation\n",
        "                        [round(np.max(nn_model_fit.history['recall']), 3), round(np.max(CNN_model_fit.history['recall']), 3), round(np.max(RNN_model_fit.history['recall']), 3), \n",
        "                        round(np.max(LSTM_model_fit.history['recall']), 3), round(np.max(Bil_LSTM_model_fit.history['recall']), 3), round(np.max(GRU_model_fit.history['recall']), 3),\n",
        "                        round(np.max(Bil_GRU_model_fit.history['recall']), 3)]\n",
        "                       ],\n",
        "               line = dict(color='#7D7F80'),\n",
        "               fill = dict(color='#EDFAFF'),\n",
        "               align = ['left'] * 5))\n",
        "\n",
        "layout = dict(width=800, height=400)\n",
        "data = [trace]\n",
        "fig = dict(data=data, layout=layout)\n",
        "py.iplot(data, filename = 'multi-label_without_pre-trained_embedding_with the max of the evaluation matrics (per model) _table')"
      ],
      "execution_count": 0,
      "outputs": [
        {
          "output_type": "stream",
          "text": [
            "D:\\Program Files\\Anaconda\\lib\\site-packages\\IPython\\core\\display.py:689: UserWarning:\n",
            "\n",
            "Consider using IPython.display.IFrame instead\n",
            "\n"
          ],
          "name": "stderr"
        },
        {
          "output_type": "execute_result",
          "data": {
            "text/html": [
              "<iframe id=\"igraph\" scrolling=\"no\" style=\"border:none;\" seamless=\"seamless\" src=\"https://plot.ly/~hamzasharoon/13.embed\" height=\"525px\" width=\"100%\"></iframe>"
            ],
            "text/plain": [
              "<chart_studio.tools.PlotlyDisplay object>"
            ]
          },
          "metadata": {
            "tags": []
          },
          "execution_count": 73
        }
      ]
    },
    {
      "cell_type": "markdown",
      "metadata": {
        "colab_type": "text",
        "id": "T6TsVU-zZ-wi"
      },
      "source": [
        "#### Computing the mean average of the evaluation matrics (per model) "
      ]
    },
    {
      "cell_type": "code",
      "metadata": {
        "colab_type": "code",
        "id": "9eNLjhkoaEsX",
        "colab": {},
        "outputId": "7abc5265-1f1b-42b9-b941-1e1ab12caf5d"
      },
      "source": [
        "trace = go.Table(\n",
        "    header=dict(values=['Model', 'Loss', 'Accuracy', 'mean_pred', 'F-Measure', 'Precision', 'AUC', 'Recall'],\n",
        "                line = dict(color='#7D7F80'),\n",
        "                fill = dict(color='#a1c3d1'),\n",
        "                align = ['left'] * 5),\n",
        "    cells=dict(values=[['Neural Network', 'CNN', 'RNNs', 'LSTM', 'Bidirectional LSTM', 'GRU', 'Bidirectional GRU'],\n",
        "                       [\n",
        "                        #Loss Evaluation\n",
        "                        round(np.mean(nn_model_fit.history['loss']), 3), round(np.mean(CNN_model_fit.history['loss']), 3), round(np.mean(RNN_model_fit.history['loss']), 3), \n",
        "                        round(np.mean(LSTM_model_fit.history['loss']), 3), round(np.mean(Bil_LSTM_model_fit.history['loss']), 3), round(np.mean(GRU_model_fit.history['loss']), 3),\n",
        "                        round(np.mean(Bil_GRU_model_fit.history['loss']), 3)],\n",
        "                        \n",
        "                        #Accuracy Evaluation\n",
        "                        [round(np.mean(nn_model_fit.history['acc']), 3), round(np.mean(CNN_model_fit.history['acc']), 3), round(np.mean(RNN_model_fit.history['acc']), 3), \n",
        "                        round(np.mean(LSTM_model_fit.history['acc']), 3), round(np.mean(Bil_LSTM_model_fit.history['acc']), 3), round(np.mean(GRU_model_fit.history['acc']), 3),\n",
        "                        round(np.mean(Bil_GRU_model_fit.history['acc']), 3)],\n",
        "               \n",
        "                        #mean_pred Evaluation\n",
        "                        [round(np.mean(nn_model_fit.history['mean_pred']), 3), round(np.mean(CNN_model_fit.history['mean_pred']), 3), round(np.mean(RNN_model_fit.history['mean_pred']), 3), \n",
        "                        round(np.mean(LSTM_model_fit.history['mean_pred']), 3), round(np.mean(Bil_LSTM_model_fit.history['mean_pred']), 3), round(np.mean(GRU_model_fit.history['mean_pred']), 3),\n",
        "                        round(np.mean(Bil_GRU_model_fit.history['mean_pred']), 3)],\n",
        "\t\t\t\t\t\t\n",
        "                        #F1-Measure Evaluation fmeasure\n",
        "                        [round(np.mean(nn_model_fit.history['fmeasure']), 3), round(np.mean(CNN_model_fit.history['fmeasure']), 3), round(np.mean(RNN_model_fit.history['fmeasure']), 3), \n",
        "                        round(np.mean(LSTM_model_fit.history['fmeasure']), 3), round(np.mean(Bil_LSTM_model_fit.history['fmeasure']), 3), round(np.mean(GRU_model_fit.history['fmeasure']), 3),\n",
        "                        round(np.mean(Bil_GRU_model_fit.history['fmeasure']), 3)],\n",
        "\t\t\t\t\t\t             \n",
        "                        #Precision Evaluation precision\n",
        "                        [round(np.mean(nn_model_fit.history['precision']), 3), round(np.mean(CNN_model_fit.history['precision']), 3), round(np.mean(RNN_model_fit.history['precision']), 3), \n",
        "                        round(np.mean(LSTM_model_fit.history['precision']), 3), round(np.mean(Bil_LSTM_model_fit.history['precision']), 3), round(np.mean(GRU_model_fit.history['precision']), 3),\n",
        "                        round(np.mean(Bil_GRU_model_fit.history['precision']), 3)],\n",
        "\t\t\t\t\t\t\n",
        "                        #ROC AUC Evaluation auroc\n",
        "                        [round(np.mean(nn_model_fit.history['auroc']), 3), round(np.mean(CNN_model_fit.history['auroc']), 3), round(np.mean(RNN_model_fit.history['auroc']), 3), \n",
        "                        round(np.mean(LSTM_model_fit.history['auroc']), 3), round(np.mean(Bil_LSTM_model_fit.history['auroc']), 3), round(np.mean(GRU_model_fit.history['auroc']), 3),\n",
        "                        round(np.mean(Bil_GRU_model_fit.history['auroc']), 3)],\n",
        "                       \n",
        "                        #Recall Evaluation\n",
        "                        [round(np.mean(nn_model_fit.history['recall']), 3), round(np.mean(CNN_model_fit.history['recall']), 3), round(np.mean(RNN_model_fit.history['recall']), 3), \n",
        "                        round(np.mean(LSTM_model_fit.history['recall']), 3), round(np.mean(Bil_LSTM_model_fit.history['recall']), 3), round(np.mean(GRU_model_fit.history['recall']), 3),\n",
        "                        round(np.mean(Bil_GRU_model_fit.history['recall']), 3)]\n",
        "                       ],\n",
        "               line = dict(color='#7D7F80'),\n",
        "               fill = dict(color='#EDFAFF'),\n",
        "               align = ['left'] * 5))\n",
        "\n",
        "layout = dict(width=800, height=400)\n",
        "data = [trace]\n",
        "fig = dict(data=data, layout=layout)\n",
        "py.iplot(data, filename = 'multi-label_without_pre-trained_embedding_with the max of the evaluation matrics (per model) _table')"
      ],
      "execution_count": 0,
      "outputs": [
        {
          "output_type": "stream",
          "text": [
            "D:\\Program Files\\Anaconda\\lib\\site-packages\\IPython\\core\\display.py:689: UserWarning:\n",
            "\n",
            "Consider using IPython.display.IFrame instead\n",
            "\n"
          ],
          "name": "stderr"
        },
        {
          "output_type": "execute_result",
          "data": {
            "text/html": [
              "<iframe id=\"igraph\" scrolling=\"no\" style=\"border:none;\" seamless=\"seamless\" src=\"https://plot.ly/~hamzasharoon/13.embed\" height=\"525px\" width=\"100%\"></iframe>"
            ],
            "text/plain": [
              "<chart_studio.tools.PlotlyDisplay object>"
            ]
          },
          "metadata": {
            "tags": []
          },
          "execution_count": 74
        }
      ]
    },
    {
      "cell_type": "code",
      "metadata": {
        "colab_type": "code",
        "id": "3bnSuPk7bHug",
        "colab": {}
      },
      "source": [
        "#Image('multi-label_with the mean average of the evaluation matrics (per model) _table.png')"
      ],
      "execution_count": 0,
      "outputs": []
    },
    {
      "cell_type": "markdown",
      "metadata": {
        "colab_type": "text",
        "id": "CbwMLaa8L2Hs"
      },
      "source": [
        "### Score confusion table"
      ]
    },
    {
      "cell_type": "code",
      "metadata": {
        "colab_type": "code",
        "id": "v8fXF_dmejiq",
        "colab": {},
        "outputId": "908a90bc-64b8-4f6b-daef-1d3449106ed9"
      },
      "source": [
        "# concat all training, validation and testing accuracy scores\n",
        "NN_Accuracy = ['Neural Network', \n",
        "               np.mean(nn_model_fit.history['acc']), \n",
        "               np.mean(nn_model_fit.history['val_acc']), \n",
        "               nn_test_score[1]]\n",
        "\n",
        "CNN_Accuracy = ['Convolutional Neural Network (CNN)', \n",
        "                np.mean(CNN_model_fit.history['acc']), \n",
        "                np.mean(CNN_model_fit.history['val_acc']), \n",
        "                CNN_test_score[1]]\n",
        "\n",
        "RNN_Accuracy = ['Recurrent Neural Networks (RNNs)', \n",
        "                np.mean(RNN_model_fit.history['acc']), \n",
        "                np.mean(RNN_model_fit.history['val_acc']), \n",
        "                RNN_test_score[1]]\n",
        "\n",
        "LSTM_Accuracy = ['LSTM', \n",
        "                  np.mean(LSTM_model_fit.history['acc']), \n",
        "                  np.mean(LSTM_model_fit.history['val_acc']), \n",
        "                  LSTM_test_score[1]]\n",
        "\n",
        "Bidirectional_LSTM_Accuracy = ['Bidirectional LSTM', \n",
        "                    np.mean(Bil_LSTM_model_fit.history['acc']), \n",
        "                    np.mean(Bil_LSTM_model_fit.history['val_acc']), \n",
        "                    Bil_LSTM_test_score[1]]\n",
        "\n",
        "GRU_Accuracy = ['GRU', \n",
        "                    np.mean(GRU_model_fit.history['acc']), \n",
        "                    np.mean(GRU_model_fit.history['val_acc']), \n",
        "                    GRU_test_score[1]]\n",
        "\n",
        "Bidirectional_GRU_Accuracy = ['Bidirectional GRU', \n",
        "                    np.mean(Bil_GRU_model_fit.history['acc']), \n",
        "                    np.mean(Bil_GRU_model_fit.history['val_acc']), \n",
        "                    Bil_GRU_test_score[1]]\n",
        "\n",
        "\n",
        "# create dataframe\n",
        "experimentalResult = pd.DataFrame([NN_Accuracy])\n",
        "# append all other scores\n",
        "experimentalResult = experimentalResult.append([NN_Accuracy, CNN_Accuracy, RNN_Accuracy, LSTM_Accuracy, Bidirectional_LSTM_Accuracy, \n",
        "                                                GRU_Accuracy, Bidirectional_GRU_Accuracy])\n",
        "\n",
        "\n",
        "# beautify the new dataframe\n",
        "experimentalResult.columns = ['Model', 'Training Accuracy', 'Validation Accuracy', 'Testing Accuracy']\n",
        "experimentalResult.set_index(['Model'], inplace=True)\n",
        "experimentalResult\n",
        "print(experimentalResult)"
      ],
      "execution_count": 0,
      "outputs": [
        {
          "output_type": "stream",
          "text": [
            "                                    Training Accuracy  Validation Accuracy  \\\n",
            "Model                                                                        \n",
            "Neural Network                               0.900335             0.875282   \n",
            "Neural Network                               0.900335             0.875282   \n",
            "Convolutional Neural Network (CNN)           0.888125             0.870346   \n",
            "Recurrent Neural Networks (RNNs)             0.881513             0.863951   \n",
            "LSTM                                         0.902588             0.868864   \n",
            "Bidirectional LSTM                           0.917083             0.868841   \n",
            "GRU                                          0.831982             0.837400   \n",
            "Bidirectional GRU                            0.847833             0.849880   \n",
            "\n",
            "                                    Testing Accuracy  \n",
            "Model                                                 \n",
            "Neural Network                              0.870201  \n",
            "Neural Network                              0.870201  \n",
            "Convolutional Neural Network (CNN)          0.863544  \n",
            "Recurrent Neural Networks (RNNs)            0.866565  \n",
            "LSTM                                        0.866137  \n",
            "Bidirectional LSTM                          0.858705  \n",
            "GRU                                         0.840712  \n",
            "Bidirectional GRU                           0.854748  \n"
          ],
          "name": "stdout"
        }
      ]
    }
  ]
}