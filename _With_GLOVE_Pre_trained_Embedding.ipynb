{
  "nbformat": 4,
  "nbformat_minor": 0,
  "metadata": {
    "colab": {
      "name": "_With_GLOVE_Pre_trained_Embedding.ipynb",
      "version": "0.3.2",
      "provenance": [],
      "collapsed_sections": [
        "6lWFdG2uejgL"
      ],
      "toc_visible": true,
      "include_colab_link": true
    },
    "language_info": {
      "codemirror_mode": {
        "name": "ipython",
        "version": 3
      },
      "file_extension": ".py",
      "mimetype": "text/x-python",
      "name": "python",
      "nbconvert_exporter": "python",
      "pygments_lexer": "ipython3",
      "version": "3.7.3"
    },
    "kernelspec": {
      "display_name": "Python 3",
      "language": "python",
      "name": "python3"
    },
    "accelerator": "TPU"
  },
  "cells": [
    {
      "cell_type": "markdown",
      "metadata": {
        "id": "view-in-github",
        "colab_type": "text"
      },
      "source": [
        "<a href=\"https://colab.research.google.com/github/Hamxea/Multi-label-Classification/blob/master/_With_GLOVE_Pre_trained_Embedding.ipynb\" target=\"_parent\"><img src=\"https://colab.research.google.com/assets/colab-badge.svg\" alt=\"Open In Colab\"/></a>"
      ]
    },
    {
      "cell_type": "markdown",
      "metadata": {
        "colab_type": "text",
        "id": "JnB0s1tPejbl"
      },
      "source": [
        "# Multi-Label Text Classification of Text Document or News\n"
      ]
    },
    {
      "cell_type": "markdown",
      "metadata": {
        "colab_type": "text",
        "id": "fKccKTR_ejbm"
      },
      "source": [
        " ### DATASET\n",
        "\n",
        "Toxic Comment Classification dataset. a multi-label text classfication data consisting of many wikipedia comments which have been labeled by humans according to their relative toxicity comments labels such as \"toxic\", \"severe_toxic\", \"obscene\", \"threat\", \"insult\", and  \"identity_hate\". The dataset has approximately ~160k observation in total, ~125k with zero labels (toxicity) of any type, and approximately ~35k classified in one or more toxicity categories.\n",
        "\n",
        "\n",
        "\n",
        "\n",
        "*   Dataset Link: https://www.kaggle.com/c/jigsaw-toxic-comment-classification-challenge\n",
        "\n",
        "\n"
      ]
    },
    {
      "cell_type": "markdown",
      "metadata": {
        "colab_type": "text",
        "id": "h4oWa1Aqejbn"
      },
      "source": [
        "\n",
        "#### DATA CHARACTERISTICS (TRAIN DATASET)\n",
        "* Number of data points\t159571\n",
        "* Number data points of type toxic\t15294\n",
        "* Number data points of type severe_tocic\t1595\n",
        "* Number data points of type obscene\t8449\n",
        "* Number data points of type threat\t478\n",
        "* Number data points of type insult\t7877\n",
        "* Number data points of type identity_hate\t1405\n",
        "* Observations in one or more class\t35098\n",
        "* Unclassified observation\t124473\n"
      ]
    },
    {
      "cell_type": "markdown",
      "metadata": {
        "colab_type": "text",
        "id": "NoB57aB6ejbo"
      },
      "source": [
        "### Import necessary libraries for the experiment"
      ]
    },
    {
      "cell_type": "code",
      "metadata": {
        "colab_type": "code",
        "id": "BXuDj-0Vejbp",
        "outputId": "4d54bc5b-9b6e-46ad-e28e-744e63b08f42",
        "colab": {
          "base_uri": "https://localhost:8080/",
          "height": 238
        }
      },
      "source": [
        "# importing libraries\n",
        "import tensorflow as tf\n",
        "from keras import initializers, regularizers, constraints, optimizers, layers, callbacks\n",
        "from keras.callbacks import EarlyStopping,ModelCheckpoint\n",
        "from keras.preprocessing.text import Tokenizer\n",
        "from keras.preprocessing.sequence import pad_sequences\n",
        "from keras.preprocessing import text, sequence\n",
        "from keras import initializers, regularizers, constraints, optimizers, layers\n",
        "from keras.models import Model, Input, Sequential\n",
        "from keras.layers import Dense, Input, LSTM, SimpleRNN, Embedding, Dropout, SpatialDropout1D, Activation, Conv1D,GRU\n",
        "from keras.layers import Conv1D, Bidirectional, GlobalMaxPool1D, MaxPooling1D, BatchNormalization, Add, Flatten\n",
        "from keras.layers import GlobalMaxPooling1D, GlobalAveragePooling1D, concatenate, SpatialDropout1D\n",
        "from keras.optimizers import Adam\n",
        "from keras.utils.vis_utils import plot_model\n",
        "from sklearn.model_selection  import train_test_split\n",
        "#from sklearn.cross_validation import train_test_split\n",
        "\n",
        "\n",
        "# For custom metrics\n",
        "import keras.backend as K\n",
        "from keras.utils.vis_utils import plot_model\n",
        "from keras.callbacks import EarlyStopping \n",
        "\n",
        "\n",
        "import pandas as pd\n",
        "import numpy as np\n",
        " \n",
        "import matplotlib.pyplot as plt\n",
        "\n",
        "plt.style.use('seaborn')\n",
        "\n",
        "import seaborn as sns\n",
        "from IPython.display import Image\n",
        "\n",
        "from tqdm import tqdm\n",
        "from nltk.corpus import stopwords\n",
        "from nltk.tokenize import RegexpTokenizer \n",
        "import os, re, csv, math, codecs\n",
        "from nltk.tokenize import word_tokenize\n",
        "import string\n",
        "import gensim\n",
        "import os\n",
        "import re\n",
        "\n",
        "sns.set_style(\"whitegrid\")\n",
        "np.random.seed(0)\n",
        "\n",
        "import plotly.plotly as py\n",
        "import plotly.graph_objs as go\n",
        "import plotly\n",
        "plotly.tools.set_credentials_file(username='hamzasharoon', api_key='9le0c8M5GUNRAKyJoIt2')\n",
        "\n",
        "\n",
        "# Install dependencies\n",
        "!apt install graphviz\n",
        "!pip install pydot pydot-ng\n",
        "!echo \"Double check with Python 3\"\n",
        "!python -c \"import pydot\""
      ],
      "execution_count": 0,
      "outputs": [
        {
          "output_type": "stream",
          "text": [
            "Using TensorFlow backend.\n",
            "'apt' is not recognized as an internal or external command,\n",
            "operable program or batch file.\n"
          ],
          "name": "stderr"
        },
        {
          "output_type": "stream",
          "text": [
            "Requirement already satisfied: pydot in d:\\program files\\anaconda\\lib\\site-packages (1.4.1)\n",
            "Requirement already satisfied: pydot-ng in d:\\program files\\anaconda\\lib\\site-packages (2.0.0)\n",
            "Requirement already satisfied: pyparsing>=2.1.4 in d:\\program files\\anaconda\\lib\\site-packages (from pydot) (2.3.1)\n",
            "\"Double check with Python 3\"\n"
          ],
          "name": "stdout"
        }
      ]
    },
    {
      "cell_type": "code",
      "metadata": {
        "colab_type": "code",
        "id": "ClGBLAyTyw5C",
        "colab": {}
      },
      "source": [
        "#from google.colab import files\n",
        "#uploaded = files.upload()\n",
        "\n",
        "#from google.colab import drive\n",
        "#!kaggle competitions download -c Toxic Comment Classification Challenge -p /content/gdrive/My\\ Drive/kaggle/Colab Notebooks/Dataset"
      ],
      "execution_count": 0,
      "outputs": []
    },
    {
      "cell_type": "markdown",
      "metadata": {
        "colab_type": "text",
        "id": "Wbd_vQHxejbu"
      },
      "source": [
        "### Loading the necessary data files and data Preparation"
      ]
    },
    {
      "cell_type": "code",
      "metadata": {
        "colab_type": "code",
        "id": "6mdP52kqu-Kt",
        "outputId": "03b519b4-d49d-46eb-beb1-329af3303b7b",
        "colab": {
          "base_uri": "https://localhost:8080/",
          "height": 529
        }
      },
      "source": [
        "#Train data\n",
        "train = pd.read_csv('D:/çankaya/2ndYEAR/Thesis/Experiments/Data_Toxic Comment Classification/train.csv')\n",
        "train.head(10)"
      ],
      "execution_count": 0,
      "outputs": [
        {
          "output_type": "execute_result",
          "data": {
            "text/html": [
              "<div>\n",
              "<style scoped>\n",
              "    .dataframe tbody tr th:only-of-type {\n",
              "        vertical-align: middle;\n",
              "    }\n",
              "\n",
              "    .dataframe tbody tr th {\n",
              "        vertical-align: top;\n",
              "    }\n",
              "\n",
              "    .dataframe thead th {\n",
              "        text-align: right;\n",
              "    }\n",
              "</style>\n",
              "<table border=\"1\" class=\"dataframe\">\n",
              "  <thead>\n",
              "    <tr style=\"text-align: right;\">\n",
              "      <th></th>\n",
              "      <th>id</th>\n",
              "      <th>comment_text</th>\n",
              "      <th>toxic</th>\n",
              "      <th>severe_toxic</th>\n",
              "      <th>obscene</th>\n",
              "      <th>threat</th>\n",
              "      <th>insult</th>\n",
              "      <th>identity_hate</th>\n",
              "    </tr>\n",
              "  </thead>\n",
              "  <tbody>\n",
              "    <tr>\n",
              "      <th>0</th>\n",
              "      <td>0000997932d777bf</td>\n",
              "      <td>Explanation\\nWhy the edits made under my usern...</td>\n",
              "      <td>0</td>\n",
              "      <td>0</td>\n",
              "      <td>0</td>\n",
              "      <td>0</td>\n",
              "      <td>0</td>\n",
              "      <td>0</td>\n",
              "    </tr>\n",
              "    <tr>\n",
              "      <th>1</th>\n",
              "      <td>000103f0d9cfb60f</td>\n",
              "      <td>D'aww! He matches this background colour I'm s...</td>\n",
              "      <td>0</td>\n",
              "      <td>0</td>\n",
              "      <td>0</td>\n",
              "      <td>0</td>\n",
              "      <td>0</td>\n",
              "      <td>0</td>\n",
              "    </tr>\n",
              "    <tr>\n",
              "      <th>2</th>\n",
              "      <td>000113f07ec002fd</td>\n",
              "      <td>Hey man, I'm really not trying to edit war. It...</td>\n",
              "      <td>0</td>\n",
              "      <td>0</td>\n",
              "      <td>0</td>\n",
              "      <td>0</td>\n",
              "      <td>0</td>\n",
              "      <td>0</td>\n",
              "    </tr>\n",
              "    <tr>\n",
              "      <th>3</th>\n",
              "      <td>0001b41b1c6bb37e</td>\n",
              "      <td>\"\\nMore\\nI can't make any real suggestions on ...</td>\n",
              "      <td>0</td>\n",
              "      <td>0</td>\n",
              "      <td>0</td>\n",
              "      <td>0</td>\n",
              "      <td>0</td>\n",
              "      <td>0</td>\n",
              "    </tr>\n",
              "    <tr>\n",
              "      <th>4</th>\n",
              "      <td>0001d958c54c6e35</td>\n",
              "      <td>You, sir, are my hero. Any chance you remember...</td>\n",
              "      <td>0</td>\n",
              "      <td>0</td>\n",
              "      <td>0</td>\n",
              "      <td>0</td>\n",
              "      <td>0</td>\n",
              "      <td>0</td>\n",
              "    </tr>\n",
              "    <tr>\n",
              "      <th>5</th>\n",
              "      <td>00025465d4725e87</td>\n",
              "      <td>\"\\n\\nCongratulations from me as well, use the ...</td>\n",
              "      <td>0</td>\n",
              "      <td>0</td>\n",
              "      <td>0</td>\n",
              "      <td>0</td>\n",
              "      <td>0</td>\n",
              "      <td>0</td>\n",
              "    </tr>\n",
              "    <tr>\n",
              "      <th>6</th>\n",
              "      <td>0002bcb3da6cb337</td>\n",
              "      <td>COCKSUCKER BEFORE YOU PISS AROUND ON MY WORK</td>\n",
              "      <td>1</td>\n",
              "      <td>1</td>\n",
              "      <td>1</td>\n",
              "      <td>0</td>\n",
              "      <td>1</td>\n",
              "      <td>0</td>\n",
              "    </tr>\n",
              "    <tr>\n",
              "      <th>7</th>\n",
              "      <td>00031b1e95af7921</td>\n",
              "      <td>Your vandalism to the Matt Shirvington article...</td>\n",
              "      <td>0</td>\n",
              "      <td>0</td>\n",
              "      <td>0</td>\n",
              "      <td>0</td>\n",
              "      <td>0</td>\n",
              "      <td>0</td>\n",
              "    </tr>\n",
              "    <tr>\n",
              "      <th>8</th>\n",
              "      <td>00037261f536c51d</td>\n",
              "      <td>Sorry if the word 'nonsense' was offensive to ...</td>\n",
              "      <td>0</td>\n",
              "      <td>0</td>\n",
              "      <td>0</td>\n",
              "      <td>0</td>\n",
              "      <td>0</td>\n",
              "      <td>0</td>\n",
              "    </tr>\n",
              "    <tr>\n",
              "      <th>9</th>\n",
              "      <td>00040093b2687caa</td>\n",
              "      <td>alignment on this subject and which are contra...</td>\n",
              "      <td>0</td>\n",
              "      <td>0</td>\n",
              "      <td>0</td>\n",
              "      <td>0</td>\n",
              "      <td>0</td>\n",
              "      <td>0</td>\n",
              "    </tr>\n",
              "  </tbody>\n",
              "</table>\n",
              "</div>"
            ],
            "text/plain": [
              "                 id                                       comment_text  toxic  \\\n",
              "0  0000997932d777bf  Explanation\\nWhy the edits made under my usern...      0   \n",
              "1  000103f0d9cfb60f  D'aww! He matches this background colour I'm s...      0   \n",
              "2  000113f07ec002fd  Hey man, I'm really not trying to edit war. It...      0   \n",
              "3  0001b41b1c6bb37e  \"\\nMore\\nI can't make any real suggestions on ...      0   \n",
              "4  0001d958c54c6e35  You, sir, are my hero. Any chance you remember...      0   \n",
              "5  00025465d4725e87  \"\\n\\nCongratulations from me as well, use the ...      0   \n",
              "6  0002bcb3da6cb337       COCKSUCKER BEFORE YOU PISS AROUND ON MY WORK      1   \n",
              "7  00031b1e95af7921  Your vandalism to the Matt Shirvington article...      0   \n",
              "8  00037261f536c51d  Sorry if the word 'nonsense' was offensive to ...      0   \n",
              "9  00040093b2687caa  alignment on this subject and which are contra...      0   \n",
              "\n",
              "   severe_toxic  obscene  threat  insult  identity_hate  \n",
              "0             0        0       0       0              0  \n",
              "1             0        0       0       0              0  \n",
              "2             0        0       0       0              0  \n",
              "3             0        0       0       0              0  \n",
              "4             0        0       0       0              0  \n",
              "5             0        0       0       0              0  \n",
              "6             1        1       0       1              0  \n",
              "7             0        0       0       0              0  \n",
              "8             0        0       0       0              0  \n",
              "9             0        0       0       0              0  "
            ]
          },
          "metadata": {
            "tags": []
          },
          "execution_count": 3
        }
      ]
    },
    {
      "cell_type": "code",
      "metadata": {
        "id": "g43BO9Q_DT11",
        "colab_type": "code",
        "colab": {},
        "outputId": "ce328a1a-5ccf-431f-cc6d-18eb5a4399a9"
      },
      "source": [
        "train = train.loc[(train['toxic'] == 1) | (train['severe_toxic'] == 1) | (train['obscene'] ==1) | (train['threat'] == 1) | (train['insult'] == 1) | (train['identity_hate'] ==1)]\n",
        "\n",
        "train.head(10)"
      ],
      "execution_count": 0,
      "outputs": [
        {
          "output_type": "execute_result",
          "data": {
            "text/html": [
              "<div>\n",
              "<style scoped>\n",
              "    .dataframe tbody tr th:only-of-type {\n",
              "        vertical-align: middle;\n",
              "    }\n",
              "\n",
              "    .dataframe tbody tr th {\n",
              "        vertical-align: top;\n",
              "    }\n",
              "\n",
              "    .dataframe thead th {\n",
              "        text-align: right;\n",
              "    }\n",
              "</style>\n",
              "<table border=\"1\" class=\"dataframe\">\n",
              "  <thead>\n",
              "    <tr style=\"text-align: right;\">\n",
              "      <th></th>\n",
              "      <th>id</th>\n",
              "      <th>comment_text</th>\n",
              "      <th>toxic</th>\n",
              "      <th>severe_toxic</th>\n",
              "      <th>obscene</th>\n",
              "      <th>threat</th>\n",
              "      <th>insult</th>\n",
              "      <th>identity_hate</th>\n",
              "    </tr>\n",
              "  </thead>\n",
              "  <tbody>\n",
              "    <tr>\n",
              "      <th>6</th>\n",
              "      <td>0002bcb3da6cb337</td>\n",
              "      <td>COCKSUCKER BEFORE YOU PISS AROUND ON MY WORK</td>\n",
              "      <td>1</td>\n",
              "      <td>1</td>\n",
              "      <td>1</td>\n",
              "      <td>0</td>\n",
              "      <td>1</td>\n",
              "      <td>0</td>\n",
              "    </tr>\n",
              "    <tr>\n",
              "      <th>12</th>\n",
              "      <td>0005c987bdfc9d4b</td>\n",
              "      <td>Hey... what is it..\\n@ | talk .\\nWhat is it......</td>\n",
              "      <td>1</td>\n",
              "      <td>0</td>\n",
              "      <td>0</td>\n",
              "      <td>0</td>\n",
              "      <td>0</td>\n",
              "      <td>0</td>\n",
              "    </tr>\n",
              "    <tr>\n",
              "      <th>16</th>\n",
              "      <td>0007e25b2121310b</td>\n",
              "      <td>Bye! \\n\\nDon't look, come or think of comming ...</td>\n",
              "      <td>1</td>\n",
              "      <td>0</td>\n",
              "      <td>0</td>\n",
              "      <td>0</td>\n",
              "      <td>0</td>\n",
              "      <td>0</td>\n",
              "    </tr>\n",
              "    <tr>\n",
              "      <th>42</th>\n",
              "      <td>001810bf8c45bf5f</td>\n",
              "      <td>You are gay or antisemmitian? \\n\\nArchangel WH...</td>\n",
              "      <td>1</td>\n",
              "      <td>0</td>\n",
              "      <td>1</td>\n",
              "      <td>0</td>\n",
              "      <td>1</td>\n",
              "      <td>1</td>\n",
              "    </tr>\n",
              "    <tr>\n",
              "      <th>43</th>\n",
              "      <td>00190820581d90ce</td>\n",
              "      <td>FUCK YOUR FILTHY MOTHER IN THE ASS, DRY!</td>\n",
              "      <td>1</td>\n",
              "      <td>0</td>\n",
              "      <td>1</td>\n",
              "      <td>0</td>\n",
              "      <td>1</td>\n",
              "      <td>0</td>\n",
              "    </tr>\n",
              "    <tr>\n",
              "      <th>44</th>\n",
              "      <td>001956c382006abd</td>\n",
              "      <td>I'm Sorry \\n\\nI'm sorry I screwed around with ...</td>\n",
              "      <td>1</td>\n",
              "      <td>0</td>\n",
              "      <td>0</td>\n",
              "      <td>0</td>\n",
              "      <td>0</td>\n",
              "      <td>0</td>\n",
              "    </tr>\n",
              "    <tr>\n",
              "      <th>51</th>\n",
              "      <td>001dc38a83d420cf</td>\n",
              "      <td>GET FUCKED UP. GET FUCKEEED UP.  GOT A DRINK T...</td>\n",
              "      <td>1</td>\n",
              "      <td>0</td>\n",
              "      <td>1</td>\n",
              "      <td>0</td>\n",
              "      <td>0</td>\n",
              "      <td>0</td>\n",
              "    </tr>\n",
              "    <tr>\n",
              "      <th>55</th>\n",
              "      <td>0020e7119b96eeeb</td>\n",
              "      <td>Stupid peace of shit stop deleting my stuff as...</td>\n",
              "      <td>1</td>\n",
              "      <td>1</td>\n",
              "      <td>1</td>\n",
              "      <td>0</td>\n",
              "      <td>1</td>\n",
              "      <td>0</td>\n",
              "    </tr>\n",
              "    <tr>\n",
              "      <th>56</th>\n",
              "      <td>0020fd96ed3b8c8b</td>\n",
              "      <td>=Tony Sidaway is obviously a fistfuckee. He lo...</td>\n",
              "      <td>1</td>\n",
              "      <td>0</td>\n",
              "      <td>1</td>\n",
              "      <td>0</td>\n",
              "      <td>1</td>\n",
              "      <td>0</td>\n",
              "    </tr>\n",
              "    <tr>\n",
              "      <th>58</th>\n",
              "      <td>0021fe88bc4da3e6</td>\n",
              "      <td>My Band Page's deletion. You thought I was gon...</td>\n",
              "      <td>1</td>\n",
              "      <td>0</td>\n",
              "      <td>1</td>\n",
              "      <td>0</td>\n",
              "      <td>0</td>\n",
              "      <td>0</td>\n",
              "    </tr>\n",
              "  </tbody>\n",
              "</table>\n",
              "</div>"
            ],
            "text/plain": [
              "                  id                                       comment_text  \\\n",
              "6   0002bcb3da6cb337       COCKSUCKER BEFORE YOU PISS AROUND ON MY WORK   \n",
              "12  0005c987bdfc9d4b  Hey... what is it..\\n@ | talk .\\nWhat is it......   \n",
              "16  0007e25b2121310b  Bye! \\n\\nDon't look, come or think of comming ...   \n",
              "42  001810bf8c45bf5f  You are gay or antisemmitian? \\n\\nArchangel WH...   \n",
              "43  00190820581d90ce           FUCK YOUR FILTHY MOTHER IN THE ASS, DRY!   \n",
              "44  001956c382006abd  I'm Sorry \\n\\nI'm sorry I screwed around with ...   \n",
              "51  001dc38a83d420cf  GET FUCKED UP. GET FUCKEEED UP.  GOT A DRINK T...   \n",
              "55  0020e7119b96eeeb  Stupid peace of shit stop deleting my stuff as...   \n",
              "56  0020fd96ed3b8c8b  =Tony Sidaway is obviously a fistfuckee. He lo...   \n",
              "58  0021fe88bc4da3e6  My Band Page's deletion. You thought I was gon...   \n",
              "\n",
              "    toxic  severe_toxic  obscene  threat  insult  identity_hate  \n",
              "6       1             1        1       0       1              0  \n",
              "12      1             0        0       0       0              0  \n",
              "16      1             0        0       0       0              0  \n",
              "42      1             0        1       0       1              1  \n",
              "43      1             0        1       0       1              0  \n",
              "44      1             0        0       0       0              0  \n",
              "51      1             0        1       0       0              0  \n",
              "55      1             1        1       0       1              0  \n",
              "56      1             0        1       0       1              0  \n",
              "58      1             0        1       0       0              0  "
            ]
          },
          "metadata": {
            "tags": []
          },
          "execution_count": 4
        }
      ]
    },
    {
      "cell_type": "code",
      "metadata": {
        "id": "NVM85hTTDT15",
        "colab_type": "code",
        "colab": {},
        "outputId": "40bf49df-a031-43c6-cba4-d66a4665ebf3"
      },
      "source": [
        "train.describe()"
      ],
      "execution_count": 0,
      "outputs": [
        {
          "output_type": "execute_result",
          "data": {
            "text/html": [
              "<div>\n",
              "<style scoped>\n",
              "    .dataframe tbody tr th:only-of-type {\n",
              "        vertical-align: middle;\n",
              "    }\n",
              "\n",
              "    .dataframe tbody tr th {\n",
              "        vertical-align: top;\n",
              "    }\n",
              "\n",
              "    .dataframe thead th {\n",
              "        text-align: right;\n",
              "    }\n",
              "</style>\n",
              "<table border=\"1\" class=\"dataframe\">\n",
              "  <thead>\n",
              "    <tr style=\"text-align: right;\">\n",
              "      <th></th>\n",
              "      <th>toxic</th>\n",
              "      <th>severe_toxic</th>\n",
              "      <th>obscene</th>\n",
              "      <th>threat</th>\n",
              "      <th>insult</th>\n",
              "      <th>identity_hate</th>\n",
              "    </tr>\n",
              "  </thead>\n",
              "  <tbody>\n",
              "    <tr>\n",
              "      <th>count</th>\n",
              "      <td>16225.000000</td>\n",
              "      <td>16225.000000</td>\n",
              "      <td>16225.000000</td>\n",
              "      <td>16225.000000</td>\n",
              "      <td>16225.000000</td>\n",
              "      <td>16225.000000</td>\n",
              "    </tr>\n",
              "    <tr>\n",
              "      <th>mean</th>\n",
              "      <td>0.942619</td>\n",
              "      <td>0.098305</td>\n",
              "      <td>0.520740</td>\n",
              "      <td>0.029461</td>\n",
              "      <td>0.485485</td>\n",
              "      <td>0.086595</td>\n",
              "    </tr>\n",
              "    <tr>\n",
              "      <th>std</th>\n",
              "      <td>0.232576</td>\n",
              "      <td>0.297736</td>\n",
              "      <td>0.499585</td>\n",
              "      <td>0.169099</td>\n",
              "      <td>0.499805</td>\n",
              "      <td>0.281249</td>\n",
              "    </tr>\n",
              "    <tr>\n",
              "      <th>min</th>\n",
              "      <td>0.000000</td>\n",
              "      <td>0.000000</td>\n",
              "      <td>0.000000</td>\n",
              "      <td>0.000000</td>\n",
              "      <td>0.000000</td>\n",
              "      <td>0.000000</td>\n",
              "    </tr>\n",
              "    <tr>\n",
              "      <th>25%</th>\n",
              "      <td>1.000000</td>\n",
              "      <td>0.000000</td>\n",
              "      <td>0.000000</td>\n",
              "      <td>0.000000</td>\n",
              "      <td>0.000000</td>\n",
              "      <td>0.000000</td>\n",
              "    </tr>\n",
              "    <tr>\n",
              "      <th>50%</th>\n",
              "      <td>1.000000</td>\n",
              "      <td>0.000000</td>\n",
              "      <td>1.000000</td>\n",
              "      <td>0.000000</td>\n",
              "      <td>0.000000</td>\n",
              "      <td>0.000000</td>\n",
              "    </tr>\n",
              "    <tr>\n",
              "      <th>75%</th>\n",
              "      <td>1.000000</td>\n",
              "      <td>0.000000</td>\n",
              "      <td>1.000000</td>\n",
              "      <td>0.000000</td>\n",
              "      <td>1.000000</td>\n",
              "      <td>0.000000</td>\n",
              "    </tr>\n",
              "    <tr>\n",
              "      <th>max</th>\n",
              "      <td>1.000000</td>\n",
              "      <td>1.000000</td>\n",
              "      <td>1.000000</td>\n",
              "      <td>1.000000</td>\n",
              "      <td>1.000000</td>\n",
              "      <td>1.000000</td>\n",
              "    </tr>\n",
              "  </tbody>\n",
              "</table>\n",
              "</div>"
            ],
            "text/plain": [
              "              toxic  severe_toxic       obscene        threat        insult  \\\n",
              "count  16225.000000  16225.000000  16225.000000  16225.000000  16225.000000   \n",
              "mean       0.942619      0.098305      0.520740      0.029461      0.485485   \n",
              "std        0.232576      0.297736      0.499585      0.169099      0.499805   \n",
              "min        0.000000      0.000000      0.000000      0.000000      0.000000   \n",
              "25%        1.000000      0.000000      0.000000      0.000000      0.000000   \n",
              "50%        1.000000      0.000000      1.000000      0.000000      0.000000   \n",
              "75%        1.000000      0.000000      1.000000      0.000000      1.000000   \n",
              "max        1.000000      1.000000      1.000000      1.000000      1.000000   \n",
              "\n",
              "       identity_hate  \n",
              "count   16225.000000  \n",
              "mean        0.086595  \n",
              "std         0.281249  \n",
              "min         0.000000  \n",
              "25%         0.000000  \n",
              "50%         0.000000  \n",
              "75%         0.000000  \n",
              "max         1.000000  "
            ]
          },
          "metadata": {
            "tags": []
          },
          "execution_count": 5
        }
      ]
    },
    {
      "cell_type": "markdown",
      "metadata": {
        "colab_type": "text",
        "id": "yemWuxUUwGbQ"
      },
      "source": [
        "### Clean the Train data, specifically remove punctuations"
      ]
    },
    {
      "cell_type": "code",
      "metadata": {
        "colab_type": "code",
        "id": "bXBAuHzkegFw",
        "outputId": "1569539d-73da-4fc1-a0e3-128a8d10b269",
        "colab": {
          "base_uri": "https://localhost:8080/",
          "height": 529
        }
      },
      "source": [
        "totalContentCleaned = []\n",
        "punctDict = {}\n",
        "for punct in string.punctuation:\n",
        "    punctDict[punct] = None\n",
        "transString = str.maketrans(punctDict)\n",
        "# since we intent to remove any punctuation with ''\n",
        "for sen in train['comment_text']:\n",
        "    \n",
        "    #cleanedString = re.sub('[^a-zA-Z]+', '', sen)\n",
        "    \n",
        "    p = sen.translate(transString)\n",
        "    totalContentCleaned.append(p)\n",
        "    \n",
        "\n",
        "train['comment_text'] = totalContentCleaned\n",
        "# we can save the file to csv if we want in local machine\n",
        "#df.to_csv(os.path.join(os.path.abspath('data'), 'train_cleaned.csv'), index = False)\n",
        "\n",
        "\n",
        "\n",
        "train.head(10)"
      ],
      "execution_count": 0,
      "outputs": [
        {
          "output_type": "execute_result",
          "data": {
            "text/html": [
              "<div>\n",
              "<style scoped>\n",
              "    .dataframe tbody tr th:only-of-type {\n",
              "        vertical-align: middle;\n",
              "    }\n",
              "\n",
              "    .dataframe tbody tr th {\n",
              "        vertical-align: top;\n",
              "    }\n",
              "\n",
              "    .dataframe thead th {\n",
              "        text-align: right;\n",
              "    }\n",
              "</style>\n",
              "<table border=\"1\" class=\"dataframe\">\n",
              "  <thead>\n",
              "    <tr style=\"text-align: right;\">\n",
              "      <th></th>\n",
              "      <th>id</th>\n",
              "      <th>comment_text</th>\n",
              "      <th>toxic</th>\n",
              "      <th>severe_toxic</th>\n",
              "      <th>obscene</th>\n",
              "      <th>threat</th>\n",
              "      <th>insult</th>\n",
              "      <th>identity_hate</th>\n",
              "    </tr>\n",
              "  </thead>\n",
              "  <tbody>\n",
              "    <tr>\n",
              "      <th>6</th>\n",
              "      <td>0002bcb3da6cb337</td>\n",
              "      <td>COCKSUCKER BEFORE YOU PISS AROUND ON MY WORK</td>\n",
              "      <td>1</td>\n",
              "      <td>1</td>\n",
              "      <td>1</td>\n",
              "      <td>0</td>\n",
              "      <td>1</td>\n",
              "      <td>0</td>\n",
              "    </tr>\n",
              "    <tr>\n",
              "      <th>12</th>\n",
              "      <td>0005c987bdfc9d4b</td>\n",
              "      <td>Hey what is it\\n  talk \\nWhat is it an exclusi...</td>\n",
              "      <td>1</td>\n",
              "      <td>0</td>\n",
              "      <td>0</td>\n",
              "      <td>0</td>\n",
              "      <td>0</td>\n",
              "      <td>0</td>\n",
              "    </tr>\n",
              "    <tr>\n",
              "      <th>16</th>\n",
              "      <td>0007e25b2121310b</td>\n",
              "      <td>Bye \\n\\nDont look come or think of comming bac...</td>\n",
              "      <td>1</td>\n",
              "      <td>0</td>\n",
              "      <td>0</td>\n",
              "      <td>0</td>\n",
              "      <td>0</td>\n",
              "      <td>0</td>\n",
              "    </tr>\n",
              "    <tr>\n",
              "      <th>42</th>\n",
              "      <td>001810bf8c45bf5f</td>\n",
              "      <td>You are gay or antisemmitian \\n\\nArchangel WHi...</td>\n",
              "      <td>1</td>\n",
              "      <td>0</td>\n",
              "      <td>1</td>\n",
              "      <td>0</td>\n",
              "      <td>1</td>\n",
              "      <td>1</td>\n",
              "    </tr>\n",
              "    <tr>\n",
              "      <th>43</th>\n",
              "      <td>00190820581d90ce</td>\n",
              "      <td>FUCK YOUR FILTHY MOTHER IN THE ASS DRY</td>\n",
              "      <td>1</td>\n",
              "      <td>0</td>\n",
              "      <td>1</td>\n",
              "      <td>0</td>\n",
              "      <td>1</td>\n",
              "      <td>0</td>\n",
              "    </tr>\n",
              "    <tr>\n",
              "      <th>44</th>\n",
              "      <td>001956c382006abd</td>\n",
              "      <td>Im Sorry \\n\\nIm sorry I screwed around with so...</td>\n",
              "      <td>1</td>\n",
              "      <td>0</td>\n",
              "      <td>0</td>\n",
              "      <td>0</td>\n",
              "      <td>0</td>\n",
              "      <td>0</td>\n",
              "    </tr>\n",
              "    <tr>\n",
              "      <th>51</th>\n",
              "      <td>001dc38a83d420cf</td>\n",
              "      <td>GET FUCKED UP GET FUCKEEED UP  GOT A DRINK THA...</td>\n",
              "      <td>1</td>\n",
              "      <td>0</td>\n",
              "      <td>1</td>\n",
              "      <td>0</td>\n",
              "      <td>0</td>\n",
              "      <td>0</td>\n",
              "    </tr>\n",
              "    <tr>\n",
              "      <th>55</th>\n",
              "      <td>0020e7119b96eeeb</td>\n",
              "      <td>Stupid peace of shit stop deleting my stuff as...</td>\n",
              "      <td>1</td>\n",
              "      <td>1</td>\n",
              "      <td>1</td>\n",
              "      <td>0</td>\n",
              "      <td>1</td>\n",
              "      <td>0</td>\n",
              "    </tr>\n",
              "    <tr>\n",
              "      <th>56</th>\n",
              "      <td>0020fd96ed3b8c8b</td>\n",
              "      <td>Tony Sidaway is obviously a fistfuckee He love...</td>\n",
              "      <td>1</td>\n",
              "      <td>0</td>\n",
              "      <td>1</td>\n",
              "      <td>0</td>\n",
              "      <td>1</td>\n",
              "      <td>0</td>\n",
              "    </tr>\n",
              "    <tr>\n",
              "      <th>58</th>\n",
              "      <td>0021fe88bc4da3e6</td>\n",
              "      <td>My Band Pages deletion You thought I was gone ...</td>\n",
              "      <td>1</td>\n",
              "      <td>0</td>\n",
              "      <td>1</td>\n",
              "      <td>0</td>\n",
              "      <td>0</td>\n",
              "      <td>0</td>\n",
              "    </tr>\n",
              "  </tbody>\n",
              "</table>\n",
              "</div>"
            ],
            "text/plain": [
              "                  id                                       comment_text  \\\n",
              "6   0002bcb3da6cb337       COCKSUCKER BEFORE YOU PISS AROUND ON MY WORK   \n",
              "12  0005c987bdfc9d4b  Hey what is it\\n  talk \\nWhat is it an exclusi...   \n",
              "16  0007e25b2121310b  Bye \\n\\nDont look come or think of comming bac...   \n",
              "42  001810bf8c45bf5f  You are gay or antisemmitian \\n\\nArchangel WHi...   \n",
              "43  00190820581d90ce             FUCK YOUR FILTHY MOTHER IN THE ASS DRY   \n",
              "44  001956c382006abd  Im Sorry \\n\\nIm sorry I screwed around with so...   \n",
              "51  001dc38a83d420cf  GET FUCKED UP GET FUCKEEED UP  GOT A DRINK THA...   \n",
              "55  0020e7119b96eeeb  Stupid peace of shit stop deleting my stuff as...   \n",
              "56  0020fd96ed3b8c8b  Tony Sidaway is obviously a fistfuckee He love...   \n",
              "58  0021fe88bc4da3e6  My Band Pages deletion You thought I was gone ...   \n",
              "\n",
              "    toxic  severe_toxic  obscene  threat  insult  identity_hate  \n",
              "6       1             1        1       0       1              0  \n",
              "12      1             0        0       0       0              0  \n",
              "16      1             0        0       0       0              0  \n",
              "42      1             0        1       0       1              1  \n",
              "43      1             0        1       0       1              0  \n",
              "44      1             0        0       0       0              0  \n",
              "51      1             0        1       0       0              0  \n",
              "55      1             1        1       0       1              0  \n",
              "56      1             0        1       0       1              0  \n",
              "58      1             0        1       0       0              0  "
            ]
          },
          "metadata": {
            "tags": []
          },
          "execution_count": 6
        }
      ]
    },
    {
      "cell_type": "code",
      "metadata": {
        "colab_type": "code",
        "id": "bThKgInKejb0",
        "outputId": "57947280-1488-4ddc-95c1-126a14ec0fb0",
        "colab": {
          "base_uri": "https://localhost:8080/",
          "height": 359
        }
      },
      "source": [
        "#Test data\n",
        "df_test = pd.read_csv('D:/çankaya/2ndYEAR/Thesis/Experiments/Data_Toxic Comment Classification/test.csv')\n",
        "df_test.head(10)"
      ],
      "execution_count": 0,
      "outputs": [
        {
          "output_type": "execute_result",
          "data": {
            "text/html": [
              "<div>\n",
              "<style scoped>\n",
              "    .dataframe tbody tr th:only-of-type {\n",
              "        vertical-align: middle;\n",
              "    }\n",
              "\n",
              "    .dataframe tbody tr th {\n",
              "        vertical-align: top;\n",
              "    }\n",
              "\n",
              "    .dataframe thead th {\n",
              "        text-align: right;\n",
              "    }\n",
              "</style>\n",
              "<table border=\"1\" class=\"dataframe\">\n",
              "  <thead>\n",
              "    <tr style=\"text-align: right;\">\n",
              "      <th></th>\n",
              "      <th>id</th>\n",
              "      <th>comment_text</th>\n",
              "    </tr>\n",
              "  </thead>\n",
              "  <tbody>\n",
              "    <tr>\n",
              "      <th>0</th>\n",
              "      <td>00001cee341fdb12</td>\n",
              "      <td>Yo bitch Ja Rule is more succesful then you'll...</td>\n",
              "    </tr>\n",
              "    <tr>\n",
              "      <th>1</th>\n",
              "      <td>0000247867823ef7</td>\n",
              "      <td>== From RfC == \\n\\n The title is fine as it is...</td>\n",
              "    </tr>\n",
              "    <tr>\n",
              "      <th>2</th>\n",
              "      <td>00013b17ad220c46</td>\n",
              "      <td>\" \\n\\n == Sources == \\n\\n * Zawe Ashton on Lap...</td>\n",
              "    </tr>\n",
              "    <tr>\n",
              "      <th>3</th>\n",
              "      <td>00017563c3f7919a</td>\n",
              "      <td>:If you have a look back at the source, the in...</td>\n",
              "    </tr>\n",
              "    <tr>\n",
              "      <th>4</th>\n",
              "      <td>00017695ad8997eb</td>\n",
              "      <td>I don't anonymously edit articles at all.</td>\n",
              "    </tr>\n",
              "    <tr>\n",
              "      <th>5</th>\n",
              "      <td>0001ea8717f6de06</td>\n",
              "      <td>Thank you for understanding. I think very high...</td>\n",
              "    </tr>\n",
              "    <tr>\n",
              "      <th>6</th>\n",
              "      <td>00024115d4cbde0f</td>\n",
              "      <td>Please do not add nonsense to Wikipedia. Such ...</td>\n",
              "    </tr>\n",
              "    <tr>\n",
              "      <th>7</th>\n",
              "      <td>000247e83dcc1211</td>\n",
              "      <td>:Dear god this site is horrible.</td>\n",
              "    </tr>\n",
              "    <tr>\n",
              "      <th>8</th>\n",
              "      <td>00025358d4737918</td>\n",
              "      <td>\" \\n Only a fool can believe in such numbers. ...</td>\n",
              "    </tr>\n",
              "    <tr>\n",
              "      <th>9</th>\n",
              "      <td>00026d1092fe71cc</td>\n",
              "      <td>== Double Redirects == \\n\\n When fixing double...</td>\n",
              "    </tr>\n",
              "  </tbody>\n",
              "</table>\n",
              "</div>"
            ],
            "text/plain": [
              "                 id                                       comment_text\n",
              "0  00001cee341fdb12  Yo bitch Ja Rule is more succesful then you'll...\n",
              "1  0000247867823ef7  == From RfC == \\n\\n The title is fine as it is...\n",
              "2  00013b17ad220c46  \" \\n\\n == Sources == \\n\\n * Zawe Ashton on Lap...\n",
              "3  00017563c3f7919a  :If you have a look back at the source, the in...\n",
              "4  00017695ad8997eb          I don't anonymously edit articles at all.\n",
              "5  0001ea8717f6de06  Thank you for understanding. I think very high...\n",
              "6  00024115d4cbde0f  Please do not add nonsense to Wikipedia. Such ...\n",
              "7  000247e83dcc1211                   :Dear god this site is horrible.\n",
              "8  00025358d4737918  \" \\n Only a fool can believe in such numbers. ...\n",
              "9  00026d1092fe71cc  == Double Redirects == \\n\\n When fixing double..."
            ]
          },
          "metadata": {
            "tags": []
          },
          "execution_count": 7
        }
      ]
    },
    {
      "cell_type": "markdown",
      "metadata": {
        "colab_type": "text",
        "id": "gkNgoN8pwPtA"
      },
      "source": [
        "### Clean the Test data, specifically remove punctuations"
      ]
    },
    {
      "cell_type": "code",
      "metadata": {
        "colab_type": "code",
        "id": "qAtY_WxPe03X",
        "outputId": "39a3005d-f936-4850-bb77-18c70cdc49b2",
        "colab": {
          "base_uri": "https://localhost:8080/",
          "height": 359
        }
      },
      "source": [
        "totalContentCleaned = []\n",
        "punctDict = {}\n",
        "for punct in string.punctuation:\n",
        "    punctDict[punct] = None\n",
        "transString = str.maketrans(punctDict)\n",
        "# since we intent to remove any punctuation with ''\n",
        "for sen in df_test['comment_text']:\n",
        "    \n",
        "    #cleanedString = re.sub('[^a-zA-Z]+', '', sen)\n",
        "    \n",
        "    p = sen.translate(transString)\n",
        "    totalContentCleaned.append(p)\n",
        "    \n",
        "\n",
        "df_test['comment_text'] = totalContentCleaned\n",
        "# we can save the file to csv if we want in local machine\n",
        "#df.to_csv(os.path.join(os.path.abspath('data'), 'train_cleaned.csv'), index = False)\n",
        "\n",
        "\n",
        "\n",
        "df_test.head(10)"
      ],
      "execution_count": 0,
      "outputs": [
        {
          "output_type": "execute_result",
          "data": {
            "text/html": [
              "<div>\n",
              "<style scoped>\n",
              "    .dataframe tbody tr th:only-of-type {\n",
              "        vertical-align: middle;\n",
              "    }\n",
              "\n",
              "    .dataframe tbody tr th {\n",
              "        vertical-align: top;\n",
              "    }\n",
              "\n",
              "    .dataframe thead th {\n",
              "        text-align: right;\n",
              "    }\n",
              "</style>\n",
              "<table border=\"1\" class=\"dataframe\">\n",
              "  <thead>\n",
              "    <tr style=\"text-align: right;\">\n",
              "      <th></th>\n",
              "      <th>id</th>\n",
              "      <th>comment_text</th>\n",
              "    </tr>\n",
              "  </thead>\n",
              "  <tbody>\n",
              "    <tr>\n",
              "      <th>0</th>\n",
              "      <td>00001cee341fdb12</td>\n",
              "      <td>Yo bitch Ja Rule is more succesful then youll ...</td>\n",
              "    </tr>\n",
              "    <tr>\n",
              "      <th>1</th>\n",
              "      <td>0000247867823ef7</td>\n",
              "      <td>From RfC  \\n\\n The title is fine as it is IMO</td>\n",
              "    </tr>\n",
              "    <tr>\n",
              "      <th>2</th>\n",
              "      <td>00013b17ad220c46</td>\n",
              "      <td>\\n\\n  Sources  \\n\\n  Zawe Ashton on Lapland —...</td>\n",
              "    </tr>\n",
              "    <tr>\n",
              "      <th>3</th>\n",
              "      <td>00017563c3f7919a</td>\n",
              "      <td>If you have a look back at the source the info...</td>\n",
              "    </tr>\n",
              "    <tr>\n",
              "      <th>4</th>\n",
              "      <td>00017695ad8997eb</td>\n",
              "      <td>I dont anonymously edit articles at all</td>\n",
              "    </tr>\n",
              "    <tr>\n",
              "      <th>5</th>\n",
              "      <td>0001ea8717f6de06</td>\n",
              "      <td>Thank you for understanding I think very highl...</td>\n",
              "    </tr>\n",
              "    <tr>\n",
              "      <th>6</th>\n",
              "      <td>00024115d4cbde0f</td>\n",
              "      <td>Please do not add nonsense to Wikipedia Such e...</td>\n",
              "    </tr>\n",
              "    <tr>\n",
              "      <th>7</th>\n",
              "      <td>000247e83dcc1211</td>\n",
              "      <td>Dear god this site is horrible</td>\n",
              "    </tr>\n",
              "    <tr>\n",
              "      <th>8</th>\n",
              "      <td>00025358d4737918</td>\n",
              "      <td>\\n Only a fool can believe in such numbers \\n...</td>\n",
              "    </tr>\n",
              "    <tr>\n",
              "      <th>9</th>\n",
              "      <td>00026d1092fe71cc</td>\n",
              "      <td>Double Redirects  \\n\\n When fixing double red...</td>\n",
              "    </tr>\n",
              "  </tbody>\n",
              "</table>\n",
              "</div>"
            ],
            "text/plain": [
              "                 id                                       comment_text\n",
              "0  00001cee341fdb12  Yo bitch Ja Rule is more succesful then youll ...\n",
              "1  0000247867823ef7      From RfC  \\n\\n The title is fine as it is IMO\n",
              "2  00013b17ad220c46   \\n\\n  Sources  \\n\\n  Zawe Ashton on Lapland —...\n",
              "3  00017563c3f7919a  If you have a look back at the source the info...\n",
              "4  00017695ad8997eb            I dont anonymously edit articles at all\n",
              "5  0001ea8717f6de06  Thank you for understanding I think very highl...\n",
              "6  00024115d4cbde0f  Please do not add nonsense to Wikipedia Such e...\n",
              "7  000247e83dcc1211                     Dear god this site is horrible\n",
              "8  00025358d4737918   \\n Only a fool can believe in such numbers \\n...\n",
              "9  00026d1092fe71cc   Double Redirects  \\n\\n When fixing double red..."
            ]
          },
          "metadata": {
            "tags": []
          },
          "execution_count": 8
        }
      ]
    },
    {
      "cell_type": "code",
      "metadata": {
        "colab_type": "code",
        "id": "PAj6D9IZejb5",
        "outputId": "9deca97c-445d-4e72-ead1-db8dae6956c2",
        "colab": {
          "base_uri": "https://localhost:8080/",
          "height": 359
        }
      },
      "source": [
        "df_test_labels = pd.read_csv('D:/çankaya/2ndYEAR/Thesis/Experiments/Data_Toxic Comment Classification/test_labels.csv')\n",
        "\n",
        "df_test_labels.head(10)"
      ],
      "execution_count": 0,
      "outputs": [
        {
          "output_type": "execute_result",
          "data": {
            "text/html": [
              "<div>\n",
              "<style scoped>\n",
              "    .dataframe tbody tr th:only-of-type {\n",
              "        vertical-align: middle;\n",
              "    }\n",
              "\n",
              "    .dataframe tbody tr th {\n",
              "        vertical-align: top;\n",
              "    }\n",
              "\n",
              "    .dataframe thead th {\n",
              "        text-align: right;\n",
              "    }\n",
              "</style>\n",
              "<table border=\"1\" class=\"dataframe\">\n",
              "  <thead>\n",
              "    <tr style=\"text-align: right;\">\n",
              "      <th></th>\n",
              "      <th>id</th>\n",
              "      <th>toxic</th>\n",
              "      <th>severe_toxic</th>\n",
              "      <th>obscene</th>\n",
              "      <th>threat</th>\n",
              "      <th>insult</th>\n",
              "      <th>identity_hate</th>\n",
              "    </tr>\n",
              "  </thead>\n",
              "  <tbody>\n",
              "    <tr>\n",
              "      <th>0</th>\n",
              "      <td>00001cee341fdb12</td>\n",
              "      <td>-1</td>\n",
              "      <td>-1</td>\n",
              "      <td>-1</td>\n",
              "      <td>-1</td>\n",
              "      <td>-1</td>\n",
              "      <td>-1</td>\n",
              "    </tr>\n",
              "    <tr>\n",
              "      <th>1</th>\n",
              "      <td>0000247867823ef7</td>\n",
              "      <td>-1</td>\n",
              "      <td>-1</td>\n",
              "      <td>-1</td>\n",
              "      <td>-1</td>\n",
              "      <td>-1</td>\n",
              "      <td>-1</td>\n",
              "    </tr>\n",
              "    <tr>\n",
              "      <th>2</th>\n",
              "      <td>00013b17ad220c46</td>\n",
              "      <td>-1</td>\n",
              "      <td>-1</td>\n",
              "      <td>-1</td>\n",
              "      <td>-1</td>\n",
              "      <td>-1</td>\n",
              "      <td>-1</td>\n",
              "    </tr>\n",
              "    <tr>\n",
              "      <th>3</th>\n",
              "      <td>00017563c3f7919a</td>\n",
              "      <td>-1</td>\n",
              "      <td>-1</td>\n",
              "      <td>-1</td>\n",
              "      <td>-1</td>\n",
              "      <td>-1</td>\n",
              "      <td>-1</td>\n",
              "    </tr>\n",
              "    <tr>\n",
              "      <th>4</th>\n",
              "      <td>00017695ad8997eb</td>\n",
              "      <td>-1</td>\n",
              "      <td>-1</td>\n",
              "      <td>-1</td>\n",
              "      <td>-1</td>\n",
              "      <td>-1</td>\n",
              "      <td>-1</td>\n",
              "    </tr>\n",
              "    <tr>\n",
              "      <th>5</th>\n",
              "      <td>0001ea8717f6de06</td>\n",
              "      <td>0</td>\n",
              "      <td>0</td>\n",
              "      <td>0</td>\n",
              "      <td>0</td>\n",
              "      <td>0</td>\n",
              "      <td>0</td>\n",
              "    </tr>\n",
              "    <tr>\n",
              "      <th>6</th>\n",
              "      <td>00024115d4cbde0f</td>\n",
              "      <td>-1</td>\n",
              "      <td>-1</td>\n",
              "      <td>-1</td>\n",
              "      <td>-1</td>\n",
              "      <td>-1</td>\n",
              "      <td>-1</td>\n",
              "    </tr>\n",
              "    <tr>\n",
              "      <th>7</th>\n",
              "      <td>000247e83dcc1211</td>\n",
              "      <td>0</td>\n",
              "      <td>0</td>\n",
              "      <td>0</td>\n",
              "      <td>0</td>\n",
              "      <td>0</td>\n",
              "      <td>0</td>\n",
              "    </tr>\n",
              "    <tr>\n",
              "      <th>8</th>\n",
              "      <td>00025358d4737918</td>\n",
              "      <td>-1</td>\n",
              "      <td>-1</td>\n",
              "      <td>-1</td>\n",
              "      <td>-1</td>\n",
              "      <td>-1</td>\n",
              "      <td>-1</td>\n",
              "    </tr>\n",
              "    <tr>\n",
              "      <th>9</th>\n",
              "      <td>00026d1092fe71cc</td>\n",
              "      <td>-1</td>\n",
              "      <td>-1</td>\n",
              "      <td>-1</td>\n",
              "      <td>-1</td>\n",
              "      <td>-1</td>\n",
              "      <td>-1</td>\n",
              "    </tr>\n",
              "  </tbody>\n",
              "</table>\n",
              "</div>"
            ],
            "text/plain": [
              "                 id  toxic  severe_toxic  obscene  threat  insult  \\\n",
              "0  00001cee341fdb12     -1            -1       -1      -1      -1   \n",
              "1  0000247867823ef7     -1            -1       -1      -1      -1   \n",
              "2  00013b17ad220c46     -1            -1       -1      -1      -1   \n",
              "3  00017563c3f7919a     -1            -1       -1      -1      -1   \n",
              "4  00017695ad8997eb     -1            -1       -1      -1      -1   \n",
              "5  0001ea8717f6de06      0             0        0       0       0   \n",
              "6  00024115d4cbde0f     -1            -1       -1      -1      -1   \n",
              "7  000247e83dcc1211      0             0        0       0       0   \n",
              "8  00025358d4737918     -1            -1       -1      -1      -1   \n",
              "9  00026d1092fe71cc     -1            -1       -1      -1      -1   \n",
              "\n",
              "   identity_hate  \n",
              "0             -1  \n",
              "1             -1  \n",
              "2             -1  \n",
              "3             -1  \n",
              "4             -1  \n",
              "5              0  \n",
              "6             -1  \n",
              "7              0  \n",
              "8             -1  \n",
              "9             -1  "
            ]
          },
          "metadata": {
            "tags": []
          },
          "execution_count": 9
        }
      ]
    },
    {
      "cell_type": "code",
      "metadata": {
        "colab_type": "code",
        "id": "wB71FX4Lejb_",
        "outputId": "dcd6767f-5c3a-447a-d7a4-9679c606970e",
        "colab": {
          "base_uri": "https://localhost:8080/",
          "height": 359
        }
      },
      "source": [
        "test_labels = df_test_labels[(df_test_labels[['toxic','severe_toxic', 'obscene', 'threat', \n",
        "                                        'insult', 'identity_hate']] != -1).all(axis=1)]\n",
        "test_labels.head(10)"
      ],
      "execution_count": 0,
      "outputs": [
        {
          "output_type": "execute_result",
          "data": {
            "text/html": [
              "<div>\n",
              "<style scoped>\n",
              "    .dataframe tbody tr th:only-of-type {\n",
              "        vertical-align: middle;\n",
              "    }\n",
              "\n",
              "    .dataframe tbody tr th {\n",
              "        vertical-align: top;\n",
              "    }\n",
              "\n",
              "    .dataframe thead th {\n",
              "        text-align: right;\n",
              "    }\n",
              "</style>\n",
              "<table border=\"1\" class=\"dataframe\">\n",
              "  <thead>\n",
              "    <tr style=\"text-align: right;\">\n",
              "      <th></th>\n",
              "      <th>id</th>\n",
              "      <th>toxic</th>\n",
              "      <th>severe_toxic</th>\n",
              "      <th>obscene</th>\n",
              "      <th>threat</th>\n",
              "      <th>insult</th>\n",
              "      <th>identity_hate</th>\n",
              "    </tr>\n",
              "  </thead>\n",
              "  <tbody>\n",
              "    <tr>\n",
              "      <th>5</th>\n",
              "      <td>0001ea8717f6de06</td>\n",
              "      <td>0</td>\n",
              "      <td>0</td>\n",
              "      <td>0</td>\n",
              "      <td>0</td>\n",
              "      <td>0</td>\n",
              "      <td>0</td>\n",
              "    </tr>\n",
              "    <tr>\n",
              "      <th>7</th>\n",
              "      <td>000247e83dcc1211</td>\n",
              "      <td>0</td>\n",
              "      <td>0</td>\n",
              "      <td>0</td>\n",
              "      <td>0</td>\n",
              "      <td>0</td>\n",
              "      <td>0</td>\n",
              "    </tr>\n",
              "    <tr>\n",
              "      <th>11</th>\n",
              "      <td>0002f87b16116a7f</td>\n",
              "      <td>0</td>\n",
              "      <td>0</td>\n",
              "      <td>0</td>\n",
              "      <td>0</td>\n",
              "      <td>0</td>\n",
              "      <td>0</td>\n",
              "    </tr>\n",
              "    <tr>\n",
              "      <th>13</th>\n",
              "      <td>0003e1cccfd5a40a</td>\n",
              "      <td>0</td>\n",
              "      <td>0</td>\n",
              "      <td>0</td>\n",
              "      <td>0</td>\n",
              "      <td>0</td>\n",
              "      <td>0</td>\n",
              "    </tr>\n",
              "    <tr>\n",
              "      <th>14</th>\n",
              "      <td>00059ace3e3e9a53</td>\n",
              "      <td>0</td>\n",
              "      <td>0</td>\n",
              "      <td>0</td>\n",
              "      <td>0</td>\n",
              "      <td>0</td>\n",
              "      <td>0</td>\n",
              "    </tr>\n",
              "    <tr>\n",
              "      <th>16</th>\n",
              "      <td>000663aff0fffc80</td>\n",
              "      <td>0</td>\n",
              "      <td>0</td>\n",
              "      <td>0</td>\n",
              "      <td>0</td>\n",
              "      <td>0</td>\n",
              "      <td>0</td>\n",
              "    </tr>\n",
              "    <tr>\n",
              "      <th>17</th>\n",
              "      <td>000689dd34e20979</td>\n",
              "      <td>0</td>\n",
              "      <td>0</td>\n",
              "      <td>0</td>\n",
              "      <td>0</td>\n",
              "      <td>0</td>\n",
              "      <td>0</td>\n",
              "    </tr>\n",
              "    <tr>\n",
              "      <th>19</th>\n",
              "      <td>000844b52dee5f3f</td>\n",
              "      <td>0</td>\n",
              "      <td>0</td>\n",
              "      <td>0</td>\n",
              "      <td>0</td>\n",
              "      <td>0</td>\n",
              "      <td>0</td>\n",
              "    </tr>\n",
              "    <tr>\n",
              "      <th>21</th>\n",
              "      <td>00091c35fa9d0465</td>\n",
              "      <td>1</td>\n",
              "      <td>0</td>\n",
              "      <td>0</td>\n",
              "      <td>0</td>\n",
              "      <td>0</td>\n",
              "      <td>0</td>\n",
              "    </tr>\n",
              "    <tr>\n",
              "      <th>22</th>\n",
              "      <td>000968ce11f5ee34</td>\n",
              "      <td>0</td>\n",
              "      <td>0</td>\n",
              "      <td>0</td>\n",
              "      <td>0</td>\n",
              "      <td>0</td>\n",
              "      <td>0</td>\n",
              "    </tr>\n",
              "  </tbody>\n",
              "</table>\n",
              "</div>"
            ],
            "text/plain": [
              "                  id  toxic  severe_toxic  obscene  threat  insult  \\\n",
              "5   0001ea8717f6de06      0             0        0       0       0   \n",
              "7   000247e83dcc1211      0             0        0       0       0   \n",
              "11  0002f87b16116a7f      0             0        0       0       0   \n",
              "13  0003e1cccfd5a40a      0             0        0       0       0   \n",
              "14  00059ace3e3e9a53      0             0        0       0       0   \n",
              "16  000663aff0fffc80      0             0        0       0       0   \n",
              "17  000689dd34e20979      0             0        0       0       0   \n",
              "19  000844b52dee5f3f      0             0        0       0       0   \n",
              "21  00091c35fa9d0465      1             0        0       0       0   \n",
              "22  000968ce11f5ee34      0             0        0       0       0   \n",
              "\n",
              "    identity_hate  \n",
              "5               0  \n",
              "7               0  \n",
              "11              0  \n",
              "13              0  \n",
              "14              0  \n",
              "16              0  \n",
              "17              0  \n",
              "19              0  \n",
              "21              0  \n",
              "22              0  "
            ]
          },
          "metadata": {
            "tags": []
          },
          "execution_count": 10
        }
      ]
    },
    {
      "cell_type": "markdown",
      "metadata": {
        "colab_type": "text",
        "id": "Z4WMHSsEejcF"
      },
      "source": [
        "### Merge the df_test and test_labels into 1 dataframe (test)"
      ]
    },
    {
      "cell_type": "code",
      "metadata": {
        "colab_type": "code",
        "id": "IN1JvMJxejcH",
        "outputId": "bebb7eeb-7fda-478d-b57c-f77e15ddccb8",
        "colab": {
          "base_uri": "https://localhost:8080/",
          "height": 461
        }
      },
      "source": [
        "#Merge the df_test and test_labels into 1 dataframe (test)\n",
        "test = pd.merge(test_labels, df_test, on='id', how='inner')\n",
        "test.head(10)"
      ],
      "execution_count": 0,
      "outputs": [
        {
          "output_type": "execute_result",
          "data": {
            "text/html": [
              "<div>\n",
              "<style scoped>\n",
              "    .dataframe tbody tr th:only-of-type {\n",
              "        vertical-align: middle;\n",
              "    }\n",
              "\n",
              "    .dataframe tbody tr th {\n",
              "        vertical-align: top;\n",
              "    }\n",
              "\n",
              "    .dataframe thead th {\n",
              "        text-align: right;\n",
              "    }\n",
              "</style>\n",
              "<table border=\"1\" class=\"dataframe\">\n",
              "  <thead>\n",
              "    <tr style=\"text-align: right;\">\n",
              "      <th></th>\n",
              "      <th>id</th>\n",
              "      <th>toxic</th>\n",
              "      <th>severe_toxic</th>\n",
              "      <th>obscene</th>\n",
              "      <th>threat</th>\n",
              "      <th>insult</th>\n",
              "      <th>identity_hate</th>\n",
              "      <th>comment_text</th>\n",
              "    </tr>\n",
              "  </thead>\n",
              "  <tbody>\n",
              "    <tr>\n",
              "      <th>0</th>\n",
              "      <td>0001ea8717f6de06</td>\n",
              "      <td>0</td>\n",
              "      <td>0</td>\n",
              "      <td>0</td>\n",
              "      <td>0</td>\n",
              "      <td>0</td>\n",
              "      <td>0</td>\n",
              "      <td>Thank you for understanding I think very highl...</td>\n",
              "    </tr>\n",
              "    <tr>\n",
              "      <th>1</th>\n",
              "      <td>000247e83dcc1211</td>\n",
              "      <td>0</td>\n",
              "      <td>0</td>\n",
              "      <td>0</td>\n",
              "      <td>0</td>\n",
              "      <td>0</td>\n",
              "      <td>0</td>\n",
              "      <td>Dear god this site is horrible</td>\n",
              "    </tr>\n",
              "    <tr>\n",
              "      <th>2</th>\n",
              "      <td>0002f87b16116a7f</td>\n",
              "      <td>0</td>\n",
              "      <td>0</td>\n",
              "      <td>0</td>\n",
              "      <td>0</td>\n",
              "      <td>0</td>\n",
              "      <td>0</td>\n",
              "      <td>Somebody will invariably try to add Religion ...</td>\n",
              "    </tr>\n",
              "    <tr>\n",
              "      <th>3</th>\n",
              "      <td>0003e1cccfd5a40a</td>\n",
              "      <td>0</td>\n",
              "      <td>0</td>\n",
              "      <td>0</td>\n",
              "      <td>0</td>\n",
              "      <td>0</td>\n",
              "      <td>0</td>\n",
              "      <td>\\n\\n It says it right there that it IS a type...</td>\n",
              "    </tr>\n",
              "    <tr>\n",
              "      <th>4</th>\n",
              "      <td>00059ace3e3e9a53</td>\n",
              "      <td>0</td>\n",
              "      <td>0</td>\n",
              "      <td>0</td>\n",
              "      <td>0</td>\n",
              "      <td>0</td>\n",
              "      <td>0</td>\n",
              "      <td>\\n\\n  Before adding a new product to the list...</td>\n",
              "    </tr>\n",
              "    <tr>\n",
              "      <th>5</th>\n",
              "      <td>000663aff0fffc80</td>\n",
              "      <td>0</td>\n",
              "      <td>0</td>\n",
              "      <td>0</td>\n",
              "      <td>0</td>\n",
              "      <td>0</td>\n",
              "      <td>0</td>\n",
              "      <td>this other one from 1897</td>\n",
              "    </tr>\n",
              "    <tr>\n",
              "      <th>6</th>\n",
              "      <td>000689dd34e20979</td>\n",
              "      <td>0</td>\n",
              "      <td>0</td>\n",
              "      <td>0</td>\n",
              "      <td>0</td>\n",
              "      <td>0</td>\n",
              "      <td>0</td>\n",
              "      <td>Reason for banning throwing  \\n\\n This articl...</td>\n",
              "    </tr>\n",
              "    <tr>\n",
              "      <th>7</th>\n",
              "      <td>000844b52dee5f3f</td>\n",
              "      <td>0</td>\n",
              "      <td>0</td>\n",
              "      <td>0</td>\n",
              "      <td>0</td>\n",
              "      <td>0</td>\n",
              "      <td>0</td>\n",
              "      <td>blocked from editing Wikipedia</td>\n",
              "    </tr>\n",
              "    <tr>\n",
              "      <th>8</th>\n",
              "      <td>00091c35fa9d0465</td>\n",
              "      <td>1</td>\n",
              "      <td>0</td>\n",
              "      <td>0</td>\n",
              "      <td>0</td>\n",
              "      <td>0</td>\n",
              "      <td>0</td>\n",
              "      <td>Arabs are committing genocide in Iraq but no ...</td>\n",
              "    </tr>\n",
              "    <tr>\n",
              "      <th>9</th>\n",
              "      <td>000968ce11f5ee34</td>\n",
              "      <td>0</td>\n",
              "      <td>0</td>\n",
              "      <td>0</td>\n",
              "      <td>0</td>\n",
              "      <td>0</td>\n",
              "      <td>0</td>\n",
              "      <td>Please stop If you continue to vandalize Wikip...</td>\n",
              "    </tr>\n",
              "  </tbody>\n",
              "</table>\n",
              "</div>"
            ],
            "text/plain": [
              "                 id  toxic  severe_toxic  obscene  threat  insult  \\\n",
              "0  0001ea8717f6de06      0             0        0       0       0   \n",
              "1  000247e83dcc1211      0             0        0       0       0   \n",
              "2  0002f87b16116a7f      0             0        0       0       0   \n",
              "3  0003e1cccfd5a40a      0             0        0       0       0   \n",
              "4  00059ace3e3e9a53      0             0        0       0       0   \n",
              "5  000663aff0fffc80      0             0        0       0       0   \n",
              "6  000689dd34e20979      0             0        0       0       0   \n",
              "7  000844b52dee5f3f      0             0        0       0       0   \n",
              "8  00091c35fa9d0465      1             0        0       0       0   \n",
              "9  000968ce11f5ee34      0             0        0       0       0   \n",
              "\n",
              "   identity_hate                                       comment_text  \n",
              "0              0  Thank you for understanding I think very highl...  \n",
              "1              0                     Dear god this site is horrible  \n",
              "2              0   Somebody will invariably try to add Religion ...  \n",
              "3              0   \\n\\n It says it right there that it IS a type...  \n",
              "4              0   \\n\\n  Before adding a new product to the list...  \n",
              "5              0                           this other one from 1897  \n",
              "6              0   Reason for banning throwing  \\n\\n This articl...  \n",
              "7              0                  blocked from editing Wikipedia     \n",
              "8              0   Arabs are committing genocide in Iraq but no ...  \n",
              "9              0  Please stop If you continue to vandalize Wikip...  "
            ]
          },
          "metadata": {
            "tags": []
          },
          "execution_count": 11
        }
      ]
    },
    {
      "cell_type": "code",
      "metadata": {
        "id": "aOhW1ZyCDT2e",
        "colab_type": "code",
        "colab": {},
        "outputId": "568063e0-4741-4ea7-8650-582b2d3def34"
      },
      "source": [
        "test = test.loc[(test['toxic'] == 1) | (test['severe_toxic'] == 1) | (test['obscene'] ==1) | (test['threat'] == 1) | (test['insult'] == 1) | (test['identity_hate'] ==1)]\n",
        "\n",
        "test.head(10)"
      ],
      "execution_count": 0,
      "outputs": [
        {
          "output_type": "execute_result",
          "data": {
            "text/html": [
              "<div>\n",
              "<style scoped>\n",
              "    .dataframe tbody tr th:only-of-type {\n",
              "        vertical-align: middle;\n",
              "    }\n",
              "\n",
              "    .dataframe tbody tr th {\n",
              "        vertical-align: top;\n",
              "    }\n",
              "\n",
              "    .dataframe thead th {\n",
              "        text-align: right;\n",
              "    }\n",
              "</style>\n",
              "<table border=\"1\" class=\"dataframe\">\n",
              "  <thead>\n",
              "    <tr style=\"text-align: right;\">\n",
              "      <th></th>\n",
              "      <th>id</th>\n",
              "      <th>toxic</th>\n",
              "      <th>severe_toxic</th>\n",
              "      <th>obscene</th>\n",
              "      <th>threat</th>\n",
              "      <th>insult</th>\n",
              "      <th>identity_hate</th>\n",
              "      <th>comment_text</th>\n",
              "    </tr>\n",
              "  </thead>\n",
              "  <tbody>\n",
              "    <tr>\n",
              "      <th>8</th>\n",
              "      <td>00091c35fa9d0465</td>\n",
              "      <td>1</td>\n",
              "      <td>0</td>\n",
              "      <td>0</td>\n",
              "      <td>0</td>\n",
              "      <td>0</td>\n",
              "      <td>0</td>\n",
              "      <td>Arabs are committing genocide in Iraq but no ...</td>\n",
              "    </tr>\n",
              "    <tr>\n",
              "      <th>24</th>\n",
              "      <td>0013fed3aeae76b7</td>\n",
              "      <td>1</td>\n",
              "      <td>0</td>\n",
              "      <td>1</td>\n",
              "      <td>0</td>\n",
              "      <td>1</td>\n",
              "      <td>1</td>\n",
              "      <td>DJ Robinson is gay as hell he sucks his dick s...</td>\n",
              "    </tr>\n",
              "    <tr>\n",
              "      <th>29</th>\n",
              "      <td>0017d4d47894af05</td>\n",
              "      <td>1</td>\n",
              "      <td>0</td>\n",
              "      <td>1</td>\n",
              "      <td>0</td>\n",
              "      <td>1</td>\n",
              "      <td>0</td>\n",
              "      <td>Fuck off you antisemitic cunt</td>\n",
              "    </tr>\n",
              "    <tr>\n",
              "      <th>38</th>\n",
              "      <td>001d739c97bc2ae4</td>\n",
              "      <td>1</td>\n",
              "      <td>0</td>\n",
              "      <td>0</td>\n",
              "      <td>0</td>\n",
              "      <td>0</td>\n",
              "      <td>0</td>\n",
              "      <td>How dare you vandalize that page about the HMS...</td>\n",
              "    </tr>\n",
              "    <tr>\n",
              "      <th>40</th>\n",
              "      <td>001eff4007dbb65b</td>\n",
              "      <td>1</td>\n",
              "      <td>0</td>\n",
              "      <td>1</td>\n",
              "      <td>0</td>\n",
              "      <td>1</td>\n",
              "      <td>0</td>\n",
              "      <td>No he is an arrogant self serving immature idi...</td>\n",
              "    </tr>\n",
              "    <tr>\n",
              "      <th>89</th>\n",
              "      <td>005f47397e07e12f</td>\n",
              "      <td>1</td>\n",
              "      <td>0</td>\n",
              "      <td>0</td>\n",
              "      <td>0</td>\n",
              "      <td>0</td>\n",
              "      <td>0</td>\n",
              "      <td>Eek but shes cute in an earthy kind of way Can...</td>\n",
              "    </tr>\n",
              "    <tr>\n",
              "      <th>106</th>\n",
              "      <td>0071940212267fea</td>\n",
              "      <td>1</td>\n",
              "      <td>0</td>\n",
              "      <td>1</td>\n",
              "      <td>0</td>\n",
              "      <td>0</td>\n",
              "      <td>0</td>\n",
              "      <td>Well it sucks to have a university to be nickn...</td>\n",
              "    </tr>\n",
              "    <tr>\n",
              "      <th>107</th>\n",
              "      <td>0072b9c3697ab8cc</td>\n",
              "      <td>1</td>\n",
              "      <td>0</td>\n",
              "      <td>1</td>\n",
              "      <td>0</td>\n",
              "      <td>1</td>\n",
              "      <td>0</td>\n",
              "      <td>Argh  \\n\\n Some random idiot deleted the whol...</td>\n",
              "    </tr>\n",
              "    <tr>\n",
              "      <th>124</th>\n",
              "      <td>0081b14d79f54b31</td>\n",
              "      <td>1</td>\n",
              "      <td>0</td>\n",
              "      <td>1</td>\n",
              "      <td>1</td>\n",
              "      <td>0</td>\n",
              "      <td>0</td>\n",
              "      <td>we hate america and we are going to bomb the s...</td>\n",
              "    </tr>\n",
              "    <tr>\n",
              "      <th>125</th>\n",
              "      <td>00842d1024b19972</td>\n",
              "      <td>1</td>\n",
              "      <td>0</td>\n",
              "      <td>1</td>\n",
              "      <td>0</td>\n",
              "      <td>1</td>\n",
              "      <td>0</td>\n",
              "      <td>Bold textYOU SUCK  \\n\\n  \\n\\n U SUCK HANNAH M...</td>\n",
              "    </tr>\n",
              "  </tbody>\n",
              "</table>\n",
              "</div>"
            ],
            "text/plain": [
              "                   id  toxic  severe_toxic  obscene  threat  insult  \\\n",
              "8    00091c35fa9d0465      1             0        0       0       0   \n",
              "24   0013fed3aeae76b7      1             0        1       0       1   \n",
              "29   0017d4d47894af05      1             0        1       0       1   \n",
              "38   001d739c97bc2ae4      1             0        0       0       0   \n",
              "40   001eff4007dbb65b      1             0        1       0       1   \n",
              "89   005f47397e07e12f      1             0        0       0       0   \n",
              "106  0071940212267fea      1             0        1       0       0   \n",
              "107  0072b9c3697ab8cc      1             0        1       0       1   \n",
              "124  0081b14d79f54b31      1             0        1       1       0   \n",
              "125  00842d1024b19972      1             0        1       0       1   \n",
              "\n",
              "     identity_hate                                       comment_text  \n",
              "8                0   Arabs are committing genocide in Iraq but no ...  \n",
              "24               1  DJ Robinson is gay as hell he sucks his dick s...  \n",
              "29               0                    Fuck off you antisemitic cunt    \n",
              "38               0  How dare you vandalize that page about the HMS...  \n",
              "40               0  No he is an arrogant self serving immature idi...  \n",
              "89               0  Eek but shes cute in an earthy kind of way Can...  \n",
              "106              0  Well it sucks to have a university to be nickn...  \n",
              "107              0   Argh  \\n\\n Some random idiot deleted the whol...  \n",
              "124              0  we hate america and we are going to bomb the s...  \n",
              "125              0   Bold textYOU SUCK  \\n\\n  \\n\\n U SUCK HANNAH M...  "
            ]
          },
          "metadata": {
            "tags": []
          },
          "execution_count": 12
        }
      ]
    },
    {
      "cell_type": "code",
      "metadata": {
        "id": "iZPbCg1wDT2j",
        "colab_type": "code",
        "colab": {},
        "outputId": "f647cda0-e341-487b-c0f6-89e0c37ac813"
      },
      "source": [
        "train.describe()"
      ],
      "execution_count": 0,
      "outputs": [
        {
          "output_type": "execute_result",
          "data": {
            "text/html": [
              "<div>\n",
              "<style scoped>\n",
              "    .dataframe tbody tr th:only-of-type {\n",
              "        vertical-align: middle;\n",
              "    }\n",
              "\n",
              "    .dataframe tbody tr th {\n",
              "        vertical-align: top;\n",
              "    }\n",
              "\n",
              "    .dataframe thead th {\n",
              "        text-align: right;\n",
              "    }\n",
              "</style>\n",
              "<table border=\"1\" class=\"dataframe\">\n",
              "  <thead>\n",
              "    <tr style=\"text-align: right;\">\n",
              "      <th></th>\n",
              "      <th>toxic</th>\n",
              "      <th>severe_toxic</th>\n",
              "      <th>obscene</th>\n",
              "      <th>threat</th>\n",
              "      <th>insult</th>\n",
              "      <th>identity_hate</th>\n",
              "    </tr>\n",
              "  </thead>\n",
              "  <tbody>\n",
              "    <tr>\n",
              "      <th>count</th>\n",
              "      <td>16225.000000</td>\n",
              "      <td>16225.000000</td>\n",
              "      <td>16225.000000</td>\n",
              "      <td>16225.000000</td>\n",
              "      <td>16225.000000</td>\n",
              "      <td>16225.000000</td>\n",
              "    </tr>\n",
              "    <tr>\n",
              "      <th>mean</th>\n",
              "      <td>0.942619</td>\n",
              "      <td>0.098305</td>\n",
              "      <td>0.520740</td>\n",
              "      <td>0.029461</td>\n",
              "      <td>0.485485</td>\n",
              "      <td>0.086595</td>\n",
              "    </tr>\n",
              "    <tr>\n",
              "      <th>std</th>\n",
              "      <td>0.232576</td>\n",
              "      <td>0.297736</td>\n",
              "      <td>0.499585</td>\n",
              "      <td>0.169099</td>\n",
              "      <td>0.499805</td>\n",
              "      <td>0.281249</td>\n",
              "    </tr>\n",
              "    <tr>\n",
              "      <th>min</th>\n",
              "      <td>0.000000</td>\n",
              "      <td>0.000000</td>\n",
              "      <td>0.000000</td>\n",
              "      <td>0.000000</td>\n",
              "      <td>0.000000</td>\n",
              "      <td>0.000000</td>\n",
              "    </tr>\n",
              "    <tr>\n",
              "      <th>25%</th>\n",
              "      <td>1.000000</td>\n",
              "      <td>0.000000</td>\n",
              "      <td>0.000000</td>\n",
              "      <td>0.000000</td>\n",
              "      <td>0.000000</td>\n",
              "      <td>0.000000</td>\n",
              "    </tr>\n",
              "    <tr>\n",
              "      <th>50%</th>\n",
              "      <td>1.000000</td>\n",
              "      <td>0.000000</td>\n",
              "      <td>1.000000</td>\n",
              "      <td>0.000000</td>\n",
              "      <td>0.000000</td>\n",
              "      <td>0.000000</td>\n",
              "    </tr>\n",
              "    <tr>\n",
              "      <th>75%</th>\n",
              "      <td>1.000000</td>\n",
              "      <td>0.000000</td>\n",
              "      <td>1.000000</td>\n",
              "      <td>0.000000</td>\n",
              "      <td>1.000000</td>\n",
              "      <td>0.000000</td>\n",
              "    </tr>\n",
              "    <tr>\n",
              "      <th>max</th>\n",
              "      <td>1.000000</td>\n",
              "      <td>1.000000</td>\n",
              "      <td>1.000000</td>\n",
              "      <td>1.000000</td>\n",
              "      <td>1.000000</td>\n",
              "      <td>1.000000</td>\n",
              "    </tr>\n",
              "  </tbody>\n",
              "</table>\n",
              "</div>"
            ],
            "text/plain": [
              "              toxic  severe_toxic       obscene        threat        insult  \\\n",
              "count  16225.000000  16225.000000  16225.000000  16225.000000  16225.000000   \n",
              "mean       0.942619      0.098305      0.520740      0.029461      0.485485   \n",
              "std        0.232576      0.297736      0.499585      0.169099      0.499805   \n",
              "min        0.000000      0.000000      0.000000      0.000000      0.000000   \n",
              "25%        1.000000      0.000000      0.000000      0.000000      0.000000   \n",
              "50%        1.000000      0.000000      1.000000      0.000000      0.000000   \n",
              "75%        1.000000      0.000000      1.000000      0.000000      1.000000   \n",
              "max        1.000000      1.000000      1.000000      1.000000      1.000000   \n",
              "\n",
              "       identity_hate  \n",
              "count   16225.000000  \n",
              "mean        0.086595  \n",
              "std         0.281249  \n",
              "min         0.000000  \n",
              "25%         0.000000  \n",
              "50%         0.000000  \n",
              "75%         0.000000  \n",
              "max         1.000000  "
            ]
          },
          "metadata": {
            "tags": []
          },
          "execution_count": 13
        }
      ]
    },
    {
      "cell_type": "markdown",
      "metadata": {
        "colab_type": "text",
        "id": "yMHnqLRhejcO"
      },
      "source": [
        "### Number of records in the train and test data"
      ]
    },
    {
      "cell_type": "code",
      "metadata": {
        "colab_type": "code",
        "id": "N0shTlrPejcQ",
        "outputId": "6e0e977f-b7b8-42fb-a36a-05386e6f6c34",
        "colab": {
          "base_uri": "https://localhost:8080/",
          "height": 51
        }
      },
      "source": [
        "print(\"Train data shape\", train.shape)\n",
        "print(\"Test data shape\", test.shape)"
      ],
      "execution_count": 0,
      "outputs": [
        {
          "output_type": "stream",
          "text": [
            "Train data shape (16225, 8)\n",
            "Test data shape (6234, 8)\n"
          ],
          "name": "stdout"
        }
      ]
    },
    {
      "cell_type": "code",
      "metadata": {
        "colab_type": "code",
        "id": "dl8sCOPEejcX",
        "outputId": "ec0c3538-8913-4b0c-80bc-fad2c593a0f0",
        "colab": {
          "base_uri": "https://localhost:8080/",
          "height": 85
        }
      },
      "source": [
        "# check that there are no missing values in either training set\n",
        "print('The dataset has', train.isna().sum().sum(), 'missing values in train data.')\n",
        "print('The dataset has', test.isna().sum().sum(), 'missing values in test data.')\n",
        "\n",
        "# check if there are any duplicates\n",
        "print('The dataset has', train.duplicated().sum(), 'duplicates in train data.')\n",
        "print('The dataset has', test.duplicated().sum(), 'duplicates in test data.')"
      ],
      "execution_count": 0,
      "outputs": [
        {
          "output_type": "stream",
          "text": [
            "The dataset has 0 missing values in train data.\n",
            "The dataset has 0 missing values in test data.\n",
            "The dataset has 0 duplicates in train data.\n",
            "The dataset has 0 duplicates in test data.\n"
          ],
          "name": "stdout"
        }
      ]
    },
    {
      "cell_type": "markdown",
      "metadata": {
        "colab_type": "text",
        "id": "OcndCtd4ejcj"
      },
      "source": [
        "### CORRELATION BETWEEN DATA LABELS"
      ]
    },
    {
      "cell_type": "code",
      "metadata": {
        "colab_type": "code",
        "id": "xYT_uhvEejcl",
        "outputId": "e962e4fe-f947-4339-d86b-1927f07691ba",
        "colab": {
          "base_uri": "https://localhost:8080/",
          "height": 418
        }
      },
      "source": [
        "fig, ax = plt.subplots(figsize=(10, 6))\n",
        "fig.suptitle('Correlation Matrix')\n",
        "sns.heatmap(train.corr(), annot=True, cmap=\"Greens\", linewidths=.5, ax=ax);"
      ],
      "execution_count": 0,
      "outputs": [
        {
          "output_type": "display_data",
          "data": {
            "image/png": "[encoded data removed]",
            "text/plain": [
              "<Figure size 720x432 with 2 Axes>"
            ]
          },
          "metadata": {
            "tags": [],
            "needs_background": "light"
          }
        }
      ]
    },
    {
      "cell_type": "markdown",
      "metadata": {
        "colab_type": "text",
        "id": "4MQuxIYfejcq"
      },
      "source": [
        "The correlation figure below shows that Toxic\" comments are clearly correlated with both \"obscene\" and \"insult\" comments. Interestingly, \"toxic\" and \"severe_toxic\" are only weakly correlated. While we can also observe that, \"Obscene\" comments and \"insult\" comments are also highly correlated, which makes perfect sense."
      ]
    },
    {
      "cell_type": "markdown",
      "metadata": {
        "colab_type": "text",
        "id": "FHcTJeqwejcr"
      },
      "source": [
        "### DATA PREPROCESSING\n",
        "Deep Neural Networks input layers make use of input variables to feed the network for training the model. But in this task (experiment), we're dealing with words text. How do we represent these words in order to feed our model?\n",
        "\n",
        "In our experiment, we used densed representation of those text (comments) and their semanticity together. The advantage of using this approach is the best way for fitting neural networks onto a text data (as in our case), as well as less memory usage compared to other sparse representation approaches.\n",
        "\n",
        "\n",
        "#### Word Embedding\n",
        "Two ways to feed embeddings to neural networks:\n",
        "   * Using your own word embeddings by training\n",
        "   * Using pre-trained embedding (e.g Word2vec, lad2vec, Glove etc)\n",
        "   \n"
      ]
    },
    {
      "cell_type": "code",
      "metadata": {
        "colab_type": "code",
        "id": "LL_5zSxjejcs",
        "colab": {}
      },
      "source": [
        "#Convert text to vectors using keras preprocessing library tools\n",
        "\n",
        "X_train = train[\"comment_text\"].values\n",
        "X_test  = test[\"comment_text\"].values\n",
        "\n",
        "y_train = train[[\"toxic\", \"severe_toxic\", \"obscene\", \"threat\", \"insult\", \"identity_hate\"]].values\n",
        "y_test  = test[[\"toxic\", \"severe_toxic\", \"obscene\", \"threat\", \"insult\", \"identity_hate\"]].values"
      ],
      "execution_count": 0,
      "outputs": []
    },
    {
      "cell_type": "markdown",
      "metadata": {
        "colab_type": "text",
        "id": "uwqi-osSejcv"
      },
      "source": [
        "\n",
        "\n",
        "\n",
        "\n",
        "\n",
        "For the first embedding, we used keras preprocessing (Text Preprocessing) libraries. This class allows to vectorize a text corpus, by turning each text into either a sequence of integers (each integer being the index of a token in a dictionary) or into a vector where the coefficient for each token could be binary, based on word count, based on tf-idf"
      ]
    },
    {
      "cell_type": "code",
      "metadata": {
        "colab_type": "code",
        "id": "H0rNWt-8ejcz",
        "colab": {}
      },
      "source": [
        "num_words = 20000 #Max. workds to use per toxic comment\n",
        "max_features = 200000 #Max. number of unique words in embeddinbg vector\n",
        "max_len = 200 #Max. number of words per toxic comment to be use\n",
        "embedding_dims = 128 #embedding vector output dimension \n",
        "num_epochs = 15 # (before 5)number of epochs (number of times that the model is exposed to the training dataset)\n",
        "val_split = 0.1\n",
        "batch_size2 = 256 #(before 32)The **batch size** is the number of training examples in one forward/backward pass.\n",
        "                  # In general, larger batch sizes result in faster progress in training, but don't always converge as quickly. \n",
        "                  #Smaller batch sizes train slower, but can converge faster. And the higher the batch size, the more memory space you’ll need."
      ],
      "execution_count": 0,
      "outputs": []
    },
    {
      "cell_type": "code",
      "metadata": {
        "colab_type": "code",
        "id": "cTMhD2dpejcw",
        "outputId": "e3d645e1-dcfb-4c64-856e-d48ba49691e7",
        "colab": {
          "base_uri": "https://localhost:8080/",
          "height": 51
        }
      },
      "source": [
        "#toxic comments Tokenization\n",
        "tokenizer = tokenizer = Tokenizer(num_words)\n",
        "tokenizer.fit_on_texts(list(X_train))\n",
        "\n",
        "#Convert tokenized toxic commnent to sequnces\n",
        "X_train = tokenizer.texts_to_sequences(X_train)\n",
        "X_test = tokenizer.texts_to_sequences(X_test)\n",
        " \n",
        "# padding the sequences\n",
        "X_train = sequence.pad_sequences(X_train, max_len)\n",
        "X_test  = sequence.pad_sequences(X_test,  max_len)\n",
        "\n",
        "print('X_train shape:', X_train.shape)\n",
        "print('X_test shape: ', X_test.shape)"
      ],
      "execution_count": 0,
      "outputs": [
        {
          "output_type": "stream",
          "text": [
            "X_train shape: (16225, 200)\n",
            "X_test shape:  (6234, 200)\n"
          ],
          "name": "stdout"
        }
      ]
    },
    {
      "cell_type": "markdown",
      "metadata": {
        "colab_type": "text",
        "id": "vGxTYdg-WthP"
      },
      "source": [
        "##We use cross validation to split arrays or matrices of train data into random train and validation subsets"
      ]
    },
    {
      "cell_type": "code",
      "metadata": {
        "colab_type": "code",
        "id": "-9HAHH8FWrgE",
        "colab": {},
        "outputId": "f9fa677d-3239-4198-c416-d8b0038309ca"
      },
      "source": [
        "X_tra, X_val, y_tra, y_val = train_test_split(X_train, y_train, train_size =0.9, random_state=233)"
      ],
      "execution_count": 0,
      "outputs": [
        {
          "output_type": "stream",
          "text": [
            "D:\\Program Files\\Anaconda\\lib\\site-packages\\sklearn\\model_selection\\_split.py:2179: FutureWarning:\n",
            "\n",
            "From version 0.21, test_size will always complement train_size unless both are specified.\n",
            "\n"
          ],
          "name": "stderr"
        }
      ]
    },
    {
      "cell_type": "markdown",
      "metadata": {
        "colab_type": "text",
        "id": "ELlEnN6GejdS"
      },
      "source": [
        "## METHODS ( CNN, RNN, LSTM, all  using Glove)"
      ]
    },
    {
      "cell_type": "markdown",
      "metadata": {
        "colab_type": "text",
        "id": "0evQXvGIx-Zg"
      },
      "source": [
        "#### We used early callback functionality that allows you to specify the performance measure to monitor, the trigger, and once triggered. It will stop the training process."
      ]
    },
    {
      "cell_type": "code",
      "metadata": {
        "colab_type": "code",
        "id": "OAe9eO3YyOO-",
        "colab": {}
      },
      "source": [
        "early = EarlyStopping(monitor=\"val_loss\", mode=\"min\", patience=4)"
      ],
      "execution_count": 0,
      "outputs": []
    },
    {
      "cell_type": "markdown",
      "metadata": {
        "colab_type": "text",
        "id": "tQlxRa2xeymU"
      },
      "source": [
        "#### Using Precision, Recall, F1-Measure, AUC, mean etc evaluaiton metrics to evaluate our model"
      ]
    },
    {
      "cell_type": "code",
      "metadata": {
        "colab_type": "code",
        "id": "8g3jDUzie2RN",
        "colab": {}
      },
      "source": [
        "#Import necessary libraries\n",
        "4# demonstration of calculating metrics for a neural network model using sklearn\n",
        "from sklearn.datasets import make_circles\n",
        "from sklearn.metrics import accuracy_score\n",
        "from sklearn.metrics import precision_score\n",
        "from sklearn.metrics import recall_score\n",
        "from sklearn.metrics import f1_score\n",
        "from sklearn.metrics import cohen_kappa_score\n",
        "from sklearn.metrics import roc_auc_score\n",
        "from sklearn.metrics import confusion_matrix\n",
        "\n",
        "\n",
        "def precision(y_true, y_pred):\n",
        "    '''Calculates the precision, a metric for multi-label classification of\n",
        "    how many selected items are relevant.\n",
        "    '''\n",
        "    true_positives = K.sum(K.round(K.clip(y_true * y_pred, 0, 1)))\n",
        "    predicted_positives = K.sum(K.round(K.clip(y_pred, 0, 1)))\n",
        "    precision = true_positives / (predicted_positives + K.epsilon())\n",
        "    return precision\n",
        "\n",
        "\n",
        "def recall(y_true, y_pred):\n",
        "    '''Calculates the recall, a metric for multi-label classification of\n",
        "    how many relevant items are selected.\n",
        "    '''\n",
        "    true_positives = K.sum(K.round(K.clip(y_true * y_pred, 0, 1)))\n",
        "    possible_positives = K.sum(K.round(K.clip(y_true, 0, 1)))\n",
        "    recall = true_positives / (possible_positives + K.epsilon())\n",
        "    return recall\n",
        "\n",
        "#Customized the evaluation to analyse the model in terms of accuracy and mean value accuracy\n",
        "def mean_pred(y_true, y_pred):\n",
        "    return K.mean(y_pred)\n",
        "\n",
        "def fbeta_score(y_true, y_pred, beta=1):\n",
        "    '''Calculates the F score, the weighted harmonic mean of precision and recall.\n",
        "    This is useful for multi-label classification, where input samples can be\n",
        "    classified as sets of labels. By only using accuracy (precision) a model\n",
        "    would achieve a perfect score by simply assigning every class to every\n",
        "    input. In order to avoid this, a metric should penalize incorrect class\n",
        "    assignments as well (recall). The F-beta score (ranged from 0.0 to 1.0)\n",
        "    computes this, as a weighted mean of the proportion of correct class\n",
        "    assignments vs. the proportion of incorrect class assignments.\n",
        "    With beta = 1, this is equivalent to a F-measure. With beta < 1, assigning\n",
        "    correct classes becomes more important, and with beta > 1 the metric is\n",
        "    instead weighted towards penalizing incorrect class assignments.\n",
        "    '''\n",
        "    if beta < 0:\n",
        "        raise ValueError('The lowest choosable beta is zero (only precision).')\n",
        "        \n",
        "    # If there are no true positives, fix the F score at 0 like sklearn.\n",
        "    if K.sum(K.round(K.clip(y_true, 0, 1))) == 0:\n",
        "        return 0\n",
        "\n",
        "    p = precision(y_true, y_pred)\n",
        "    r = recall(y_true, y_pred)\n",
        "    bb = beta ** 2\n",
        "    fbeta_score = (1 + bb) * (p * r) / (bb * p + r + K.epsilon())\n",
        "    return fbeta_score\n",
        "\n",
        "def auroc(y_true, y_pred):\n",
        "    auc = tf.metrics.auc(y_true, y_pred)[1]\n",
        "    K.get_session().run(tf.local_variables_initializer())\n",
        "    return auc\n",
        "\n",
        "\n",
        "def fmeasure(y_true, y_pred):\n",
        "    '''Calculates the f-measure, the harmonic mean of precision and recall.\n",
        "    '''\n",
        "    return fbeta_score(y_true, y_pred, beta=1)\n",
        "\n",
        "\n",
        "fscore = f1score = fmeasure"
      ],
      "execution_count": 0,
      "outputs": []
    },
    {
      "cell_type": "markdown",
      "metadata": {
        "colab_type": "text",
        "id": "6lWFdG2uejgL"
      },
      "source": [
        "## USING PRE-TRAINED EMBEDDING (GLOVE)"
      ]
    },
    {
      "cell_type": "markdown",
      "metadata": {
        "colab_type": "text",
        "id": "BXJAQEogejgM"
      },
      "source": [
        "## A) \"Glove\" as a pre-trained Embedding"
      ]
    },
    {
      "cell_type": "markdown",
      "metadata": {
        "colab_type": "text",
        "id": "iSKIyBVbejgh"
      },
      "source": [
        "#### Prepare the pre-trained embedding layer"
      ]
    },
    {
      "cell_type": "markdown",
      "metadata": {
        "colab_type": "text",
        "id": "o2NVoopbejgj"
      },
      "source": [
        "Load glove embedding corpus"
      ]
    },
    {
      "cell_type": "code",
      "metadata": {
        "colab_type": "code",
        "id": "okYLw1HSejgk",
        "outputId": "b980733f-9c2c-4798-aa79-659a97bb641c",
        "colab": {
          "base_uri": "https://localhost:8080/",
          "height": 34
        }
      },
      "source": [
        "glove_file = open('D:/çankaya/2ndYEAR/Thesis/Experiments/Data_Toxic Comment Classification/glove.6B.100d.txt', encoding=\"utf8\")\n",
        "embeddings_index = dict()\n",
        "for line in glove_file:\n",
        "    val = line.split(' ')\n",
        "    word = val[0]\n",
        "    coefs = np.asarray(val[1:], dtype='float32')\n",
        "    embeddings_index[word] = coefs\n",
        "glove_file.close()\n",
        "\n",
        "print('Loaded %s word vectors.' % len(embeddings_index))"
      ],
      "execution_count": 0,
      "outputs": [
        {
          "output_type": "stream",
          "text": [
            "Loaded 400000 word vectors.\n"
          ],
          "name": "stdout"
        }
      ]
    },
    {
      "cell_type": "markdown",
      "metadata": {
        "colab_type": "text",
        "id": "OTAsNvo8ejgn"
      },
      "source": [
        "#### Prepare the embedding matrix vectors in order to feed/pass the neural network"
      ]
    },
    {
      "cell_type": "code",
      "metadata": {
        "colab_type": "code",
        "id": "GrtLyPSOejgo",
        "colab": {}
      },
      "source": [
        "# create a weight matrix\n",
        "embedding_matrix = np.zeros((len(tokenizer.word_index)+1, 100))\n",
        "\n",
        "for word, i in tokenizer.word_index.items():\n",
        "    embedding_vector = embeddings_index.get(word)\n",
        "    if embedding_vector is not None:\n",
        "        embedding_matrix[i] = embedding_vector"
      ],
      "execution_count": 0,
      "outputs": []
    },
    {
      "cell_type": "markdown",
      "metadata": {
        "colab_type": "text",
        "id": "esr3C21fejgr"
      },
      "source": [
        "## 1) Convolutional Neural Network (CNN) with Glove"
      ]
    },
    {
      "cell_type": "code",
      "metadata": {
        "colab_type": "code",
        "id": "-WAtTqG_ejgs",
        "colab": {},
        "outputId": "b2958678-e7f4-4777-cb51-cb3a38b18140"
      },
      "source": [
        "CNN_Glove_model = Sequential([\n",
        "    Embedding(input_dim =embedding_matrix.shape[0], input_length=max_len, output_dim=embedding_matrix.shape[1],weights=[embedding_matrix], trainable=False),\n",
        "    SpatialDropout1D(0.5),\n",
        "    # ... 100 filters with a kernel size of 4 so that each convolution will consider a window of 4 word embeddings\n",
        "    Conv1D(filters=100, kernel_size=4, padding='same', activation='relu'),\n",
        "    #**batch normalization layer** normalizes the activations of the previous layer at each batch, \n",
        "    #i.e. applies a transformation that maintains the mean activation close to 0 and the activation standard deviation close to 1. \n",
        "    #It will be added after the activation function between a convolutional and a max-pooling layer.\n",
        "    BatchNormalization(),\n",
        "    GlobalMaxPool1D(),\n",
        "    Dropout(0.5),\n",
        "    Dense(50, activation = 'relu'),\n",
        "    Dense(6, activation = 'sigmoid')\n",
        "])"
      ],
      "execution_count": 0,
      "outputs": [
        {
          "output_type": "stream",
          "text": [
            "WARNING:tensorflow:From D:\\Program Files\\Anaconda\\lib\\site-packages\\tensorflow\\python\\framework\\op_def_library.py:263: colocate_with (from tensorflow.python.framework.ops) is deprecated and will be removed in a future version.\n",
            "Instructions for updating:\n",
            "Colocations handled automatically by placer.\n",
            "WARNING:tensorflow:From D:\\Program Files\\Anaconda\\lib\\site-packages\\keras\\backend\\tensorflow_backend.py:3445: calling dropout (from tensorflow.python.ops.nn_ops) with keep_prob is deprecated and will be removed in a future version.\n",
            "Instructions for updating:\n",
            "Please use `rate` instead of `keep_prob`. Rate should be set to `rate = 1 - keep_prob`.\n"
          ],
          "name": "stdout"
        }
      ]
    },
    {
      "cell_type": "code",
      "metadata": {
        "colab_type": "code",
        "id": "Ax47pBijejgv",
        "colab": {},
        "outputId": "29b3a2b2-e3a7-4ff5-9ac0-0e47018767bd"
      },
      "source": [
        "CNN_Glove_model.compile(loss='binary_crossentropy', optimizer=Adam(0.01), metrics=['accuracy', mean_pred, fmeasure, precision, auroc, recall])"
      ],
      "execution_count": 0,
      "outputs": [
        {
          "output_type": "stream",
          "text": [
            "WARNING:tensorflow:From D:\\Program Files\\Anaconda\\lib\\site-packages\\tensorflow\\python\\ops\\metrics_impl.py:526: to_float (from tensorflow.python.ops.math_ops) is deprecated and will be removed in a future version.\n",
            "Instructions for updating:\n",
            "Use tf.cast instead.\n",
            "WARNING:tensorflow:From D:\\Program Files\\Anaconda\\lib\\site-packages\\tensorflow\\python\\ops\\metrics_impl.py:788: div (from tensorflow.python.ops.math_ops) is deprecated and will be removed in a future version.\n",
            "Instructions for updating:\n",
            "Deprecated in favor of operator or tf.math.divide.\n"
          ],
          "name": "stdout"
        }
      ]
    },
    {
      "cell_type": "markdown",
      "metadata": {
        "colab_type": "text",
        "id": "5gNpZ61pejgz"
      },
      "source": [
        "### Visualize the Orchestrated CNN-Glove Model Architecture"
      ]
    },
    {
      "cell_type": "code",
      "metadata": {
        "colab_type": "code",
        "id": "-ZCm_OM4ejg0",
        "outputId": "3b350e72-0eb3-4a8a-a04f-8bfc80e4e688",
        "colab": {
          "base_uri": "https://localhost:8080/",
          "height": 408
        }
      },
      "source": [
        "CNN_Glove_model.summary()"
      ],
      "execution_count": 0,
      "outputs": [
        {
          "output_type": "stream",
          "text": [
            "_________________________________________________________________\n",
            "Layer (type)                 Output Shape              Param #   \n",
            "=================================================================\n",
            "embedding_1 (Embedding)      (None, 200, 100)          4041700   \n",
            "_________________________________________________________________\n",
            "spatial_dropout1d_1 (Spatial (None, 200, 100)          0         \n",
            "_________________________________________________________________\n",
            "conv1d_1 (Conv1D)            (None, 200, 100)          40100     \n",
            "_________________________________________________________________\n",
            "batch_normalization_1 (Batch (None, 200, 100)          400       \n",
            "_________________________________________________________________\n",
            "global_max_pooling1d_1 (Glob (None, 100)               0         \n",
            "_________________________________________________________________\n",
            "dropout_1 (Dropout)          (None, 100)               0         \n",
            "_________________________________________________________________\n",
            "dense_1 (Dense)              (None, 50)                5050      \n",
            "_________________________________________________________________\n",
            "dense_2 (Dense)              (None, 6)                 306       \n",
            "=================================================================\n",
            "Total params: 4,087,556\n",
            "Trainable params: 45,656\n",
            "Non-trainable params: 4,041,900\n",
            "_________________________________________________________________\n"
          ],
          "name": "stdout"
        }
      ]
    },
    {
      "cell_type": "code",
      "metadata": {
        "colab_type": "code",
        "id": "zvA_w6iZejg8",
        "colab": {}
      },
      "source": [
        "#plot the CNN_GLove model architecture\n",
        "\n",
        "#plot_model(CNN_Glove_model, to_file='CNN_Glove_model_plot.png', show_shapes=True, show_layer_names=True)\n",
        "#Image(retina=True, filename='CNN_Glove_model_plot.png')"
      ],
      "execution_count": 0,
      "outputs": []
    },
    {
      "cell_type": "code",
      "metadata": {
        "colab_type": "code",
        "id": "QHt7nKCVejhE",
        "outputId": "f2e15fd0-1d4c-47ac-8fe9-e19b79e138b5",
        "colab": {
          "base_uri": "https://localhost:8080/",
          "height": 564
        }
      },
      "source": [
        "CNN_Glove_model_fit = CNN_Glove_model.fit(X_tra, y_tra, batch_size=batch_size2, epochs=num_epochs, validation_data=(X_val, y_val), callbacks=[early])"
      ],
      "execution_count": 0,
      "outputs": [
        {
          "output_type": "stream",
          "text": [
            "WARNING:tensorflow:From D:\\Program Files\\Anaconda\\lib\\site-packages\\tensorflow\\python\\ops\\math_ops.py:3066: to_int32 (from tensorflow.python.ops.math_ops) is deprecated and will be removed in a future version.\n",
            "Instructions for updating:\n",
            "Use tf.cast instead.\n",
            "Train on 14602 samples, validate on 1623 samples\n",
            "Epoch 1/15\n",
            "14602/14602 [==============================] - 18s 1ms/step - loss: 0.6749 - acc: 0.7933 - mean_pred: 0.3660 - fmeasure: 0.7075 - precision: 0.7298 - auroc: 0.8008 - recall: 0.6907 - val_loss: 0.3592 - val_acc: 0.8473 - val_mean_pred: 0.3441 - val_fmeasure: 0.7632 - val_precision: 0.8547 - val_auroc: 0.8474 - val_recall: 0.6896\n",
            "Epoch 2/15\n",
            "14602/14602 [==============================] - 18s 1ms/step - loss: 0.3911 - acc: 0.8264 - mean_pred: 0.3653 - fmeasure: 0.7452 - precision: 0.7944 - auroc: 0.8600 - recall: 0.7080 - val_loss: 0.3587 - val_acc: 0.8415 - val_mean_pred: 0.3285 - val_fmeasure: 0.7378 - val_precision: 0.9015 - val_auroc: 0.8691 - val_recall: 0.6248\n",
            "Epoch 3/15\n",
            "14602/14602 [==============================] - 18s 1ms/step - loss: 0.3757 - acc: 0.8358 - mean_pred: 0.3654 - fmeasure: 0.7586 - precision: 0.8123 - auroc: 0.8749 - recall: 0.7177 - val_loss: 0.3497 - val_acc: 0.8482 - val_mean_pred: 0.3224 - val_fmeasure: 0.7500 - val_precision: 0.9103 - val_auroc: 0.8797 - val_recall: 0.6381\n",
            "Epoch 4/15\n",
            "14602/14602 [==============================] - 18s 1ms/step - loss: 0.3612 - acc: 0.8453 - mean_pred: 0.3631 - fmeasure: 0.7697 - precision: 0.8327 - auroc: 0.8838 - recall: 0.7184 - val_loss: 0.3393 - val_acc: 0.8615 - val_mean_pred: 0.3581 - val_fmeasure: 0.7908 - val_precision: 0.8571 - val_auroc: 0.8871 - val_recall: 0.7342\n",
            "Epoch 5/15\n",
            "14602/14602 [==============================] - 18s 1ms/step - loss: 0.3555 - acc: 0.8475 - mean_pred: 0.3622 - fmeasure: 0.7733 - precision: 0.8366 - auroc: 0.8898 - recall: 0.7226 - val_loss: 0.3310 - val_acc: 0.8591 - val_mean_pred: 0.3476 - val_fmeasure: 0.7788 - val_precision: 0.8861 - val_auroc: 0.8921 - val_recall: 0.6948\n",
            "Epoch 6/15\n",
            "14602/14602 [==============================] - 18s 1ms/step - loss: 0.3481 - acc: 0.8514 - mean_pred: 0.3612 - fmeasure: 0.7785 - precision: 0.8438 - auroc: 0.8943 - recall: 0.7253 - val_loss: 0.3292 - val_acc: 0.8626 - val_mean_pred: 0.3541 - val_fmeasure: 0.7864 - val_precision: 0.8836 - val_auroc: 0.8961 - val_recall: 0.7086\n",
            "Epoch 7/15\n",
            "14602/14602 [==============================] - 18s 1ms/step - loss: 0.3444 - acc: 0.8534 - mean_pred: 0.3650 - fmeasure: 0.7832 - precision: 0.8407 - auroc: 0.8977 - recall: 0.7353 - val_loss: 0.3213 - val_acc: 0.8641 - val_mean_pred: 0.3585 - val_fmeasure: 0.7940 - val_precision: 0.8658 - val_auroc: 0.8993 - val_recall: 0.7333\n",
            "Epoch 8/15\n",
            "14602/14602 [==============================] - 18s 1ms/step - loss: 0.3434 - acc: 0.8536 - mean_pred: 0.3641 - fmeasure: 0.7836 - precision: 0.8406 - auroc: 0.9006 - recall: 0.7375 - val_loss: 0.3205 - val_acc: 0.8643 - val_mean_pred: 0.3459 - val_fmeasure: 0.7904 - val_precision: 0.8811 - val_auroc: 0.9018 - val_recall: 0.7169\n",
            "Epoch 9/15\n",
            "14602/14602 [==============================] - 18s 1ms/step - loss: 0.3364 - acc: 0.8572 - mean_pred: 0.3619 - fmeasure: 0.7884 - precision: 0.8476 - auroc: 0.9029 - recall: 0.7383 - val_loss: 0.3241 - val_acc: 0.8627 - val_mean_pred: 0.3312 - val_fmeasure: 0.7833 - val_precision: 0.8963 - val_auroc: 0.9040 - val_recall: 0.6958\n",
            "Epoch 10/15\n",
            "14602/14602 [==============================] - 18s 1ms/step - loss: 0.3347 - acc: 0.8574 - mean_pred: 0.3609 - fmeasure: 0.7896 - precision: 0.8453 - auroc: 0.9050 - recall: 0.7427 - val_loss: 0.3130 - val_acc: 0.8676 - val_mean_pred: 0.3510 - val_fmeasure: 0.7999 - val_precision: 0.8696 - val_auroc: 0.9059 - val_recall: 0.7405\n",
            "Epoch 11/15\n",
            "14602/14602 [==============================] - 18s 1ms/step - loss: 0.3333 - acc: 0.8585 - mean_pred: 0.3603 - fmeasure: 0.7911 - precision: 0.8467 - auroc: 0.9068 - recall: 0.7446 - val_loss: 0.3141 - val_acc: 0.8705 - val_mean_pred: 0.3647 - val_fmeasure: 0.8065 - val_precision: 0.8650 - val_auroc: 0.9076 - val_recall: 0.7555\n",
            "Epoch 12/15\n",
            "14602/14602 [==============================] - 18s 1ms/step - loss: 0.3318 - acc: 0.8597 - mean_pred: 0.3596 - fmeasure: 0.7928 - precision: 0.8493 - auroc: 0.9083 - recall: 0.7453 - val_loss: 0.3140 - val_acc: 0.8692 - val_mean_pred: 0.3770 - val_fmeasure: 0.8074 - val_precision: 0.8513 - val_auroc: 0.9090 - val_recall: 0.7680\n",
            "Epoch 13/15\n",
            "14602/14602 [==============================] - 18s 1ms/step - loss: 0.3304 - acc: 0.8589 - mean_pred: 0.3614 - fmeasure: 0.7929 - precision: 0.8443 - auroc: 0.9096 - recall: 0.7500 - val_loss: 0.3089 - val_acc: 0.8682 - val_mean_pred: 0.3340 - val_fmeasure: 0.7968 - val_precision: 0.8867 - val_auroc: 0.9102 - val_recall: 0.7236\n",
            "Epoch 14/15\n",
            "14602/14602 [==============================] - 18s 1ms/step - loss: 0.3263 - acc: 0.8602 - mean_pred: 0.3615 - fmeasure: 0.7946 - precision: 0.8466 - auroc: 0.9109 - recall: 0.7504 - val_loss: 0.3046 - val_acc: 0.8702 - val_mean_pred: 0.3515 - val_fmeasure: 0.8042 - val_precision: 0.8722 - val_auroc: 0.9115 - val_recall: 0.7461\n",
            "Epoch 15/15\n",
            "14602/14602 [==============================] - 18s 1ms/step - loss: 0.3257 - acc: 0.8603 - mean_pred: 0.3594 - fmeasure: 0.7953 - precision: 0.8447 - auroc: 0.9120 - recall: 0.7528 - val_loss: 0.3038 - val_acc: 0.8724 - val_mean_pred: 0.3592 - val_fmeasure: 0.8088 - val_precision: 0.8697 - val_auroc: 0.9126 - val_recall: 0.7560\n"
          ],
          "name": "stdout"
        }
      ]
    },
    {
      "cell_type": "markdown",
      "metadata": {
        "colab_type": "text",
        "id": "shJIVGXhejhQ"
      },
      "source": [
        "### Evaluate the CNN+Glove Model accuracy of our trained model"
      ]
    },
    {
      "cell_type": "code",
      "metadata": {
        "colab_type": "code",
        "id": "bByseHEkejhQ",
        "colab": {},
        "outputId": "53b84424-8e65-42bc-8e93-6af3a08f7ebf"
      },
      "source": [
        "CNN_Glove_train_score = CNN_Glove_model.evaluate(X_train, y_train, batch_size=batch_size2, verbose=1)\n",
        "print('Train Loss:', CNN_Glove_train_score[0])\n",
        "print('Train Accuracy:', CNN_Glove_train_score[1])"
      ],
      "execution_count": 0,
      "outputs": [
        {
          "output_type": "stream",
          "text": [
            ""
          ],
          "name": "stdout"
        },
        {
          "output_type": "stream",
          "text": [
            "16225/16225 [==============================] - 9s 538us/step\n",
            "Train Loss: 0.29994144593622357\n",
            "Train Accuracy: 0.8747714808027623\n"
          ],
          "name": "stdout"
        }
      ]
    },
    {
      "cell_type": "markdown",
      "metadata": {
        "colab_type": "text",
        "id": "dnD4FG1ZejhX"
      },
      "source": [
        "### Evaluate the CNN+Glove accuracy base our test samples"
      ]
    },
    {
      "cell_type": "code",
      "metadata": {
        "colab_type": "code",
        "id": "TTM0ur18ejhZ",
        "colab": {},
        "outputId": "7c6454d7-2bc1-4540-9bf1-d7ad76330b07"
      },
      "source": [
        "CNN_Glove_test_score = CNN_Glove_model.evaluate(X_test, y_test, batch_size=batch_size2, verbose=1)\n",
        "print('Test Loss:', CNN_Glove_test_score[0])\n",
        "print('Test Accuracy:', CNN_Glove_test_score[1])"
      ],
      "execution_count": 0,
      "outputs": [
        {
          "output_type": "stream",
          "text": [
            ""
          ],
          "name": "stdout"
        },
        {
          "output_type": "stream",
          "text": [
            "6234/6234 [==============================] - 3s 543us/step\n",
            "Test Loss: 0.3065251549218838\n",
            "Test Accuracy: 0.8604694961315935\n"
          ],
          "name": "stdout"
        }
      ]
    },
    {
      "cell_type": "code",
      "metadata": {
        "colab_type": "code",
        "id": "ATrgpBBTejhf",
        "colab": {},
        "outputId": "43479fc8-1445-4107-ad00-f10473231310"
      },
      "source": [
        "#Predicting......\n",
        "print('Predicting....')\n",
        "y_pred = CNN_Glove_model.predict(X_test,batch_size=batch_size2,verbose=1)"
      ],
      "execution_count": 0,
      "outputs": [
        {
          "output_type": "stream",
          "text": [
            "Predicting....\n",
            "6234/6234 [==============================] - 3s 537us/step\n"
          ],
          "name": "stdout"
        }
      ]
    },
    {
      "cell_type": "markdown",
      "metadata": {
        "colab_type": "text",
        "id": "uwuQDaeIejhp"
      },
      "source": [
        "### Plot Training & Validation Accuracy with the Loss values of the CNN-Glove Model"
      ]
    },
    {
      "cell_type": "code",
      "metadata": {
        "colab_type": "code",
        "id": "GcQfB3rIejhq",
        "colab": {},
        "outputId": "6e6bc987-4dc9-46eb-8157-a74b6936f1bf"
      },
      "source": [
        "# Plot training & validation accuracy values\n",
        "plt.plot(CNN_Glove_model_fit.history['acc'])\n",
        "plt.plot(CNN_Glove_model_fit.history['val_acc'])\n",
        "plt.title('CNN-Glove Model accuracy')\n",
        "plt.ylabel('Accuracy')\n",
        "plt.xlabel('Epoch')\n",
        "plt.legend(['Training Accuracy', 'Validation Accuracy'], loc='upper left')\n",
        "plt.show()\n",
        "\n",
        "# Plot training & validation loss values\n",
        "plt.plot(CNN_Glove_model_fit.history['loss'])\n",
        "plt.plot(CNN_Glove_model_fit.history['val_loss'])\n",
        "plt.title('CNN-Glove Model loss')\n",
        "plt.ylabel('Loss')\n",
        "plt.xlabel('Epoch')\n",
        "plt.legend(['Training Loss', 'Validation Loss'], loc='lower right')\n",
        "plt.show()"
      ],
      "execution_count": 0,
      "outputs": [
        {
          "output_type": "display_data",
          "data": {
            "image/png": "[encoded data removed]",
            "text/plain": [
              "<Figure size 432x288 with 1 Axes>"
            ]
          },
          "metadata": {
            "tags": [],
            "needs_background": "light"
          }
        },
        {
          "output_type": "display_data",
          "data": {
            "image/png": "[encoded data removed]",
            "text/plain": [
              "<Figure size 432x288 with 1 Axes>"
            ]
          },
          "metadata": {
            "tags": [],
            "needs_background": "light"
          }
        }
      ]
    },
    {
      "cell_type": "markdown",
      "metadata": {
        "colab_type": "text",
        "id": "VH5poTW6ejhv"
      },
      "source": [
        "## 2) Recurrent Neural Network (RNN) with Glove"
      ]
    },
    {
      "cell_type": "code",
      "metadata": {
        "colab_type": "code",
        "id": "j-i4BwjTejhv",
        "colab": {}
      },
      "source": [
        "RNN_Glove_model = Sequential([\n",
        "    Embedding(input_dim =embedding_matrix.shape[0], input_length=max_len, output_dim=embedding_matrix.shape[1],weights=[embedding_matrix], trainable=False),\n",
        "    SpatialDropout1D(0.5),\n",
        "    #Fully-connected RNN where the output is to be fed back to input.\n",
        "    SimpleRNN(25, return_sequences=True),\n",
        "    #**batch normalization layer** normalizes the activations of the previous layer at each batch, \n",
        "    #i.e. applies a transformation that maintains the mean activation close to 0 and the activation standard deviation close to 1. \n",
        "    BatchNormalization(),\n",
        "    Dropout(0.5),\n",
        "    GlobalMaxPool1D(),\n",
        "    Dense(50, activation = 'relu'),\n",
        "    Dense(6, activation = 'sigmoid')\n",
        "])"
      ],
      "execution_count": 0,
      "outputs": []
    },
    {
      "cell_type": "code",
      "metadata": {
        "colab_type": "code",
        "id": "MdHhejTiejiG",
        "colab": {}
      },
      "source": [
        "#Customized the evaluation to analyse the model in terms of accuracy and mean value accuracy\n",
        "def mean_pred(y_true, y_pred):\n",
        "    return K.mean(y_pred)\n",
        "\n",
        "RNN_Glove_model.compile(loss='binary_crossentropy', optimizer=Adam(0.01), metrics=['accuracy', mean_pred, fmeasure, precision, auroc, recall])"
      ],
      "execution_count": 0,
      "outputs": []
    },
    {
      "cell_type": "markdown",
      "metadata": {
        "colab_type": "text",
        "id": "ceJvCqIJejiR"
      },
      "source": [
        "### Visualize the Orchestrated RNN-Glove MODEL Architecture"
      ]
    },
    {
      "cell_type": "code",
      "metadata": {
        "colab_type": "code",
        "id": "JbUgJkaCejiS",
        "colab": {},
        "outputId": "0e9f7cd5-d83d-49d6-fd40-f543dfa58037"
      },
      "source": [
        "RNN_Glove_model.summary()"
      ],
      "execution_count": 0,
      "outputs": [
        {
          "output_type": "stream",
          "text": [
            "_________________________________________________________________\n",
            "Layer (type)                 Output Shape              Param #   \n",
            "=================================================================\n",
            "embedding_2 (Embedding)      (None, 200, 100)          4041700   \n",
            "_________________________________________________________________\n",
            "spatial_dropout1d_2 (Spatial (None, 200, 100)          0         \n",
            "_________________________________________________________________\n",
            "simple_rnn_1 (SimpleRNN)     (None, 200, 25)           3150      \n",
            "_________________________________________________________________\n",
            "batch_normalization_2 (Batch (None, 200, 25)           100       \n",
            "_________________________________________________________________\n",
            "dropout_2 (Dropout)          (None, 200, 25)           0         \n",
            "_________________________________________________________________\n",
            "global_max_pooling1d_2 (Glob (None, 25)                0         \n",
            "_________________________________________________________________\n",
            "dense_3 (Dense)              (None, 50)                1300      \n",
            "_________________________________________________________________\n",
            "dense_4 (Dense)              (None, 6)                 306       \n",
            "=================================================================\n",
            "Total params: 4,046,556\n",
            "Trainable params: 4,806\n",
            "Non-trainable params: 4,041,750\n",
            "_________________________________________________________________\n"
          ],
          "name": "stdout"
        }
      ]
    },
    {
      "cell_type": "code",
      "metadata": {
        "colab_type": "code",
        "id": "Eon8HZtDejiV",
        "colab": {}
      },
      "source": [
        "#plot the RNN_GLove model architecture\n",
        "\n",
        "#plot_model(RNN_Glove_model, to_file='RNN_Glove_model_plot.png', show_shapes=True, show_layer_names=True)\n",
        "#mage(retina=True, filename='RNN_Glove_model_plot.png')"
      ],
      "execution_count": 0,
      "outputs": []
    },
    {
      "cell_type": "code",
      "metadata": {
        "colab_type": "code",
        "id": "u1NlZQUoejib",
        "colab": {},
        "outputId": "bb19f742-f678-4f3c-c5e9-5e0365fd15fb"
      },
      "source": [
        "RNN_Glove_model_fit = RNN_Glove_model.fit(X_tra, y_tra, batch_size=batch_size2, epochs=num_epochs, validation_data=(X_val, y_val), callbacks=[early])"
      ],
      "execution_count": 0,
      "outputs": [
        {
          "output_type": "stream",
          "text": [
            "Train on 14602 samples, validate on 1623 samples\n",
            "Epoch 1/15\n",
            "14602/14602 [==============================] - 8s 521us/step - loss: 0.4582 - acc: 0.7797 - mean_pred: 0.3652 - fmeasure: 0.6904 - precision: 0.7310 - auroc: 0.8134 - recall: 0.6975 - val_loss: 0.4286 - val_acc: 0.7948 - val_mean_pred: 0.4028 - val_fmeasure: 0.7042 - val_precision: 0.7258 - val_auroc: 0.8577 - val_recall: 0.6843\n",
            "Epoch 2/15\n",
            "14602/14602 [==============================] - 7s 449us/step - loss: 0.3933 - acc: 0.7924 - mean_pred: 0.3618 - fmeasure: 0.7049 - precision: 0.7349 - auroc: 0.8628 - recall: 0.7053 - val_loss: 0.4328 - val_acc: 0.8047 - val_mean_pred: 0.4075 - val_fmeasure: 0.7521 - val_precision: 0.6878 - val_auroc: 0.8662 - val_recall: 0.8304\n",
            "Epoch 3/15\n",
            "14602/14602 [==============================] - 7s 448us/step - loss: 0.3915 - acc: 0.8004 - mean_pred: 0.3609 - fmeasure: 0.7065 - precision: 0.7614 - auroc: 0.8686 - recall: 0.6797 - val_loss: 0.4428 - val_acc: 0.7953 - val_mean_pred: 0.4233 - val_fmeasure: 0.7583 - val_precision: 0.6557 - val_auroc: 0.8710 - val_recall: 0.8996\n",
            "Epoch 4/15\n",
            "14602/14602 [==============================] - 7s 468us/step - loss: 0.3983 - acc: 0.8060 - mean_pred: 0.3602 - fmeasure: 0.7149 - precision: 0.7764 - auroc: 0.8728 - recall: 0.6903 - val_loss: 0.4548 - val_acc: 0.8039 - val_mean_pred: 0.3967 - val_fmeasure: 0.6486 - val_precision: 0.9017 - val_auroc: 0.8741 - val_recall: 0.5067\n",
            "Epoch 5/15\n",
            "14602/14602 [==============================] - 7s 482us/step - loss: 0.3775 - acc: 0.8253 - mean_pred: 0.3613 - fmeasure: 0.7451 - precision: 0.7891 - auroc: 0.8768 - recall: 0.7129 - val_loss: 0.4146 - val_acc: 0.8426 - val_mean_pred: 0.3876 - val_fmeasure: 0.7474 - val_precision: 0.8750 - val_auroc: 0.8791 - val_recall: 0.6525\n",
            "Epoch 6/15\n",
            "14602/14602 [==============================] - 7s 480us/step - loss: 0.3675 - acc: 0.8340 - mean_pred: 0.3612 - fmeasure: 0.7554 - precision: 0.8076 - auroc: 0.8815 - recall: 0.7124 - val_loss: 0.3944 - val_acc: 0.8558 - val_mean_pred: 0.3848 - val_fmeasure: 0.7767 - val_precision: 0.8693 - val_auroc: 0.8838 - val_recall: 0.7022\n",
            "Epoch 7/15\n",
            "14602/14602 [==============================] - 7s 469us/step - loss: 0.3662 - acc: 0.8332 - mean_pred: 0.3617 - fmeasure: 0.7546 - precision: 0.8062 - auroc: 0.8855 - recall: 0.7136 - val_loss: 0.3893 - val_acc: 0.8608 - val_mean_pred: 0.3863 - val_fmeasure: 0.7937 - val_precision: 0.8424 - val_auroc: 0.8870 - val_recall: 0.7506\n",
            "Epoch 8/15\n",
            "14602/14602 [==============================] - 7s 503us/step - loss: 0.3623 - acc: 0.8360 - mean_pred: 0.3597 - fmeasure: 0.7571 - precision: 0.8151 - auroc: 0.8883 - recall: 0.7096 - val_loss: 0.3851 - val_acc: 0.8610 - val_mean_pred: 0.4144 - val_fmeasure: 0.8003 - val_precision: 0.8215 - val_auroc: 0.8897 - val_recall: 0.7802\n",
            "Epoch 9/15\n",
            "14602/14602 [==============================] - 7s 480us/step - loss: 0.3609 - acc: 0.8395 - mean_pred: 0.3609 - fmeasure: 0.7628 - precision: 0.8179 - auroc: 0.8910 - recall: 0.7162 - val_loss: 0.3940 - val_acc: 0.8544 - val_mean_pred: 0.4198 - val_fmeasure: 0.7907 - val_precision: 0.8123 - val_auroc: 0.8919 - val_recall: 0.7705\n",
            "Epoch 10/15\n",
            "14602/14602 [==============================] - 7s 466us/step - loss: 0.3613 - acc: 0.8381 - mean_pred: 0.3608 - fmeasure: 0.7620 - precision: 0.8135 - auroc: 0.8929 - recall: 0.7198 - val_loss: 0.3953 - val_acc: 0.7931 - val_mean_pred: 0.3352 - val_fmeasure: 0.6072 - val_precision: 0.9442 - val_auroc: 0.8936 - val_recall: 0.4477\n",
            "Epoch 11/15\n",
            "14602/14602 [==============================] - 7s 467us/step - loss: 0.3812 - acc: 0.8267 - mean_pred: 0.3595 - fmeasure: 0.7385 - precision: 0.8151 - auroc: 0.8936 - recall: 0.6825 - val_loss: 0.3925 - val_acc: 0.7931 - val_mean_pred: 0.3275 - val_fmeasure: 0.6080 - val_precision: 0.9415 - val_auroc: 0.8938 - val_recall: 0.4491\n",
            "Epoch 12/15\n",
            "14602/14602 [==============================] - 7s 461us/step - loss: 0.3717 - acc: 0.8337 - mean_pred: 0.3607 - fmeasure: 0.7464 - precision: 0.8303 - auroc: 0.8941 - recall: 0.6789 - val_loss: 0.3802 - val_acc: 0.8582 - val_mean_pred: 0.3676 - val_fmeasure: 0.7893 - val_precision: 0.8417 - val_auroc: 0.8945 - val_recall: 0.7433\n",
            "Epoch 13/15\n",
            "14602/14602 [==============================] - 7s 458us/step - loss: 0.3650 - acc: 0.8374 - mean_pred: 0.3603 - fmeasure: 0.7567 - precision: 0.8229 - auroc: 0.8949 - recall: 0.7012 - val_loss: 0.3728 - val_acc: 0.8561 - val_mean_pred: 0.3872 - val_fmeasure: 0.7910 - val_precision: 0.8224 - val_auroc: 0.8954 - val_recall: 0.7621\n",
            "Epoch 14/15\n",
            "14602/14602 [==============================] - 7s 464us/step - loss: 0.3651 - acc: 0.8374 - mean_pred: 0.3622 - fmeasure: 0.7580 - precision: 0.8203 - auroc: 0.8958 - recall: 0.7073 - val_loss: 0.3799 - val_acc: 0.8586 - val_mean_pred: 0.3669 - val_fmeasure: 0.7802 - val_precision: 0.8771 - val_auroc: 0.8962 - val_recall: 0.7029\n",
            "Epoch 15/15\n",
            "14602/14602 [==============================] - 7s 472us/step - loss: 0.3637 - acc: 0.8374 - mean_pred: 0.3610 - fmeasure: 0.7574 - precision: 0.8218 - auroc: 0.8965 - recall: 0.7055 - val_loss: 0.3776 - val_acc: 0.8549 - val_mean_pred: 0.3709 - val_fmeasure: 0.7750 - val_precision: 0.8692 - val_auroc: 0.8969 - val_recall: 0.6994\n"
          ],
          "name": "stdout"
        }
      ]
    },
    {
      "cell_type": "markdown",
      "metadata": {
        "colab_type": "text",
        "id": "78TSAA6Yejik"
      },
      "source": [
        "### Evaluate the RNN-Glove Model accuracy of our trained model"
      ]
    },
    {
      "cell_type": "code",
      "metadata": {
        "colab_type": "code",
        "id": "YnRgQoyXejil",
        "colab": {},
        "outputId": "fc64c417-c3e5-4a19-defb-6073d81bcba6"
      },
      "source": [
        "RNN_Glove_train_score = RNN_Glove_model.evaluate(X_train, y_train, batch_size = batch_size2, verbose = 1)\n",
        "print('Train loss:', RNN_Glove_train_score[0])\n",
        "print('Train accuracy:', RNN_Glove_train_score[1])"
      ],
      "execution_count": 0,
      "outputs": [
        {
          "output_type": "stream",
          "text": [
            ""
          ],
          "name": "stdout"
        },
        {
          "output_type": "stream",
          "text": [
            "16225/16225 [==============================] - 3s 207us/step\n",
            "Train loss: 0.3805144006188368\n",
            "Train accuracy: 0.8576476886092422\n"
          ],
          "name": "stdout"
        }
      ]
    },
    {
      "cell_type": "markdown",
      "metadata": {
        "colab_type": "text",
        "id": "niE14vnrejim"
      },
      "source": [
        "### Evaluate the RNN-Glove accuracy base our test samples"
      ]
    },
    {
      "cell_type": "code",
      "metadata": {
        "colab_type": "code",
        "id": "Cc5KDayqejin",
        "colab": {},
        "outputId": "7d5b275a-0a6b-498a-c699-cb0865f39876"
      },
      "source": [
        "RNN_Glove_test_score = RNN_Glove_model.evaluate(X_test, y_test, batch_size = batch_size2, verbose = 1)\n",
        "print('Test loss:', RNN_Glove_test_score[0])\n",
        "print('Test accuracy:', RNN_Glove_test_score[1])"
      ],
      "execution_count": 0,
      "outputs": [
        {
          "output_type": "stream",
          "text": [
            ""
          ],
          "name": "stdout"
        },
        {
          "output_type": "stream",
          "text": [
            "6234/6234 [==============================] - 1s 202us/step\n",
            "Test loss: 0.3775832095913371\n",
            "Test accuracy: 0.8458186492997941\n"
          ],
          "name": "stdout"
        }
      ]
    },
    {
      "cell_type": "markdown",
      "metadata": {
        "colab_type": "text",
        "id": "D71PCeroejio"
      },
      "source": [
        "### Plot Training & Validation Accuracy with the Loss values of the RNN-Glove Model"
      ]
    },
    {
      "cell_type": "code",
      "metadata": {
        "colab_type": "code",
        "id": "UUEbY28nejio",
        "colab": {},
        "outputId": "a2135b63-a299-43ff-e344-a1dae0db56ac"
      },
      "source": [
        "# Plot training & validation accuracy values\n",
        "plt.plot(RNN_Glove_model_fit.history['acc'])\n",
        "plt.plot(RNN_Glove_model_fit.history['val_acc'])\n",
        "plt.title('RNN-Glove Model accuracy')\n",
        "plt.ylabel('Accuracy')\n",
        "plt.xlabel('Epoch')\n",
        "plt.legend(['Training Accuracy', 'Validation Accuracy'], loc='upper left')\n",
        "plt.show()\n",
        "\n",
        "# Plot training & validation loss values\n",
        "plt.plot(RNN_Glove_model_fit.history['loss'])\n",
        "plt.plot(RNN_Glove_model_fit.history['val_loss'])\n",
        "plt.title('RNN-Glove Model loss')\n",
        "plt.ylabel('Loss')\n",
        "plt.xlabel('Epoch')\n",
        "plt.legend(['Training Loss', 'Validation Loss'], loc='lower right')\n",
        "plt.show()"
      ],
      "execution_count": 0,
      "outputs": [
        {
          "output_type": "display_data",
          "data": {
            "image/png": "[encoded data removed]",
            "text/plain": [
              "<Figure size 432x288 with 1 Axes>"
            ]
          },
          "metadata": {
            "tags": [],
            "needs_background": "light"
          }
        },
        {
          "output_type": "display_data",
          "data": {
            "image/png": "[encoded data removed]",
            "text/plain": [
              "<Figure size 432x288 with 1 Axes>"
            ]
          },
          "metadata": {
            "tags": [],
            "needs_background": "light"
          }
        }
      ]
    },
    {
      "cell_type": "markdown",
      "metadata": {
        "colab_type": "text",
        "id": "BVm2fQ_9S5Jj"
      },
      "source": [
        "## 3) LSTM with Glove"
      ]
    },
    {
      "cell_type": "code",
      "metadata": {
        "colab_type": "code",
        "id": "0bDX39ZtThFh",
        "colab": {}
      },
      "source": [
        "LSTM_Glove_model = Sequential([\n",
        "    Embedding(input_dim =embedding_matrix.shape[0], input_length=max_len, output_dim=embedding_matrix.shape[1],weights=[embedding_matrix], trainable=False),\n",
        "    SpatialDropout1D(0.5),\n",
        "    #Bidirectional layer will enable our model to predict a missing word in a sequence, \n",
        "    #So, using this feature will enable the model to look at the context on both the left and the right.\n",
        "    LSTM(25, return_sequences=True),\n",
        "    #**batch normalization layer** normalizes the activations of the previous layer at each batch, \n",
        "    #i.e. applies a transformation that maintains the mean activation close to 0 and the activation standard deviation close to 1. \n",
        "    BatchNormalization(),\n",
        "    Dropout(0.5),\n",
        "    GlobalMaxPool1D(),\n",
        "    Dense(50, activation = 'relu'),\n",
        "    Dense(6, activation = 'sigmoid')\n",
        "])\n",
        "\n",
        "LSTM_Glove_model.compile(loss='binary_crossentropy', optimizer=Adam(0.01), metrics=['accuracy', mean_pred, fmeasure, precision, auroc, recall])"
      ],
      "execution_count": 0,
      "outputs": []
    },
    {
      "cell_type": "markdown",
      "metadata": {
        "colab_type": "text",
        "id": "3FjZ-2C0T8zr"
      },
      "source": [
        "### Visualize the Orchestrated LSTM-Glove Model Architecture"
      ]
    },
    {
      "cell_type": "code",
      "metadata": {
        "colab_type": "code",
        "id": "C1AnaLocT-kb",
        "colab": {},
        "outputId": "81fca26c-8bc3-434c-ad49-085e5af14859"
      },
      "source": [
        "LSTM_Glove_model.summary()\n",
        "#plot the CNN_GLove model architecture\n",
        "\n",
        "#plot_model(LSTM_Glove_model, to_file='LSTM_Glove_model_plot.png', show_shapes=True, show_layer_names=True)\n",
        "#Image(retina=True, filename='LSTM_Glove_model_plot.png')"
      ],
      "execution_count": 0,
      "outputs": [
        {
          "output_type": "stream",
          "text": [
            "_________________________________________________________________\n",
            "Layer (type)                 Output Shape              Param #   \n",
            "=================================================================\n",
            "embedding_3 (Embedding)      (None, 200, 100)          4041700   \n",
            "_________________________________________________________________\n",
            "spatial_dropout1d_3 (Spatial (None, 200, 100)          0         \n",
            "_________________________________________________________________\n",
            "lstm_1 (LSTM)                (None, 200, 25)           12600     \n",
            "_________________________________________________________________\n",
            "batch_normalization_3 (Batch (None, 200, 25)           100       \n",
            "_________________________________________________________________\n",
            "dropout_3 (Dropout)          (None, 200, 25)           0         \n",
            "_________________________________________________________________\n",
            "global_max_pooling1d_3 (Glob (None, 25)                0         \n",
            "_________________________________________________________________\n",
            "dense_5 (Dense)              (None, 50)                1300      \n",
            "_________________________________________________________________\n",
            "dense_6 (Dense)              (None, 6)                 306       \n",
            "=================================================================\n",
            "Total params: 4,056,006\n",
            "Trainable params: 14,256\n",
            "Non-trainable params: 4,041,750\n",
            "_________________________________________________________________\n"
          ],
          "name": "stdout"
        }
      ]
    },
    {
      "cell_type": "code",
      "metadata": {
        "colab_type": "code",
        "id": "xGd47f1JUKWz",
        "colab": {},
        "outputId": "a5f63a98-e58f-4719-b651-ed7f9dbd9abd"
      },
      "source": [
        "LSTM_Glove_model_fit = LSTM_Glove_model.fit(X_tra, y_tra, batch_size=batch_size2, epochs=num_epochs, validation_data=(X_val, y_val), callbacks=[early])"
      ],
      "execution_count": 0,
      "outputs": [
        {
          "output_type": "stream",
          "text": [
            "Train on 14602 samples, validate on 1623 samples\n",
            "Epoch 1/15\n",
            "14602/14602 [==============================] - 16s 1ms/step - loss: 0.4109 - acc: 0.8274 - mean_pred: 0.3632 - fmeasure: 0.7433 - precision: 0.7937 - auroc: 0.8470 - recall: 0.7035 - val_loss: 0.3985 - val_acc: 0.8548 - val_mean_pred: 0.3753 - val_fmeasure: 0.7728 - val_precision: 0.8758 - val_auroc: 0.8892 - val_recall: 0.6916\n",
            "Epoch 2/15\n",
            "14602/14602 [==============================] - 14s 955us/step - loss: 0.3441 - acc: 0.8526 - mean_pred: 0.3610 - fmeasure: 0.7828 - precision: 0.8377 - auroc: 0.8970 - recall: 0.7377 - val_loss: 0.3839 - val_acc: 0.8595 - val_mean_pred: 0.4047 - val_fmeasure: 0.7928 - val_precision: 0.8370 - val_auroc: 0.9021 - val_recall: 0.7533\n",
            "Epoch 3/15\n",
            "14602/14602 [==============================] - 14s 961us/step - loss: 0.3359 - acc: 0.8572 - mean_pred: 0.3606 - fmeasure: 0.7889 - precision: 0.8466 - auroc: 0.9053 - recall: 0.7406 - val_loss: 0.3815 - val_acc: 0.8621 - val_mean_pred: 0.4176 - val_fmeasure: 0.8001 - val_precision: 0.8292 - val_auroc: 0.9077 - val_recall: 0.7732\n",
            "Epoch 4/15\n",
            "14602/14602 [==============================] - 14s 980us/step - loss: 0.3331 - acc: 0.8579 - mean_pred: 0.3617 - fmeasure: 0.7894 - precision: 0.8482 - auroc: 0.9095 - recall: 0.7400 - val_loss: 0.3742 - val_acc: 0.8625 - val_mean_pred: 0.4144 - val_fmeasure: 0.8041 - val_precision: 0.8183 - val_auroc: 0.9108 - val_recall: 0.7904\n",
            "Epoch 5/15\n",
            "14602/14602 [==============================] - 14s 967us/step - loss: 0.3337 - acc: 0.8571 - mean_pred: 0.3617 - fmeasure: 0.7891 - precision: 0.8459 - auroc: 0.9117 - recall: 0.7426 - val_loss: 0.3821 - val_acc: 0.8568 - val_mean_pred: 0.4340 - val_fmeasure: 0.8011 - val_precision: 0.7946 - val_auroc: 0.9125 - val_recall: 0.8081\n",
            "Epoch 6/15\n",
            "14602/14602 [==============================] - 14s 947us/step - loss: 0.3272 - acc: 0.8603 - mean_pred: 0.3624 - fmeasure: 0.7933 - precision: 0.8519 - auroc: 0.9133 - recall: 0.7437 - val_loss: 0.3568 - val_acc: 0.8661 - val_mean_pred: 0.4157 - val_fmeasure: 0.8088 - val_precision: 0.8248 - val_auroc: 0.9143 - val_recall: 0.7937\n",
            "Epoch 7/15\n",
            "14602/14602 [==============================] - 14s 936us/step - loss: 0.3248 - acc: 0.8600 - mean_pred: 0.3608 - fmeasure: 0.7928 - precision: 0.8510 - auroc: 0.9152 - recall: 0.7437 - val_loss: 0.3510 - val_acc: 0.8699 - val_mean_pred: 0.4074 - val_fmeasure: 0.8109 - val_precision: 0.8431 - val_auroc: 0.9159 - val_recall: 0.7814\n",
            "Epoch 8/15\n",
            "14602/14602 [==============================] - 14s 979us/step - loss: 0.3244 - acc: 0.8619 - mean_pred: 0.3633 - fmeasure: 0.7957 - precision: 0.8540 - auroc: 0.9165 - recall: 0.7468 - val_loss: 0.3412 - val_acc: 0.8714 - val_mean_pred: 0.3894 - val_fmeasure: 0.8077 - val_precision: 0.8675 - val_auroc: 0.9171 - val_recall: 0.7558\n",
            "Epoch 9/15\n",
            "14602/14602 [==============================] - 14s 945us/step - loss: 0.3204 - acc: 0.8621 - mean_pred: 0.3604 - fmeasure: 0.7953 - precision: 0.8563 - auroc: 0.9178 - recall: 0.7436 - val_loss: 0.3430 - val_acc: 0.8726 - val_mean_pred: 0.3945 - val_fmeasure: 0.8099 - val_precision: 0.8667 - val_auroc: 0.9183 - val_recall: 0.7603\n",
            "Epoch 10/15\n",
            "14602/14602 [==============================] - 14s 981us/step - loss: 0.3196 - acc: 0.8628 - mean_pred: 0.3629 - fmeasure: 0.7976 - precision: 0.8540 - auroc: 0.9188 - recall: 0.7508 - val_loss: 0.3372 - val_acc: 0.8717 - val_mean_pred: 0.3959 - val_fmeasure: 0.8096 - val_precision: 0.8624 - val_auroc: 0.9194 - val_recall: 0.7630\n",
            "Epoch 11/15\n",
            "14602/14602 [==============================] - 14s 948us/step - loss: 0.3171 - acc: 0.8641 - mean_pred: 0.3600 - fmeasure: 0.7995 - precision: 0.8552 - auroc: 0.9199 - recall: 0.7521 - val_loss: 0.3573 - val_acc: 0.8674 - val_mean_pred: 0.4229 - val_fmeasure: 0.8139 - val_precision: 0.8163 - val_auroc: 0.9203 - val_recall: 0.8118\n",
            "Epoch 12/15\n",
            "14602/14602 [==============================] - 14s 939us/step - loss: 0.3152 - acc: 0.8647 - mean_pred: 0.3602 - fmeasure: 0.8009 - precision: 0.8540 - auroc: 0.9207 - recall: 0.7549 - val_loss: 0.3340 - val_acc: 0.8714 - val_mean_pred: 0.4007 - val_fmeasure: 0.8139 - val_precision: 0.8429 - val_auroc: 0.9211 - val_recall: 0.7869\n",
            "Epoch 13/15\n",
            "14602/14602 [==============================] - 14s 954us/step - loss: 0.3141 - acc: 0.8643 - mean_pred: 0.3610 - fmeasure: 0.7998 - precision: 0.8551 - auroc: 0.9214 - recall: 0.7531 - val_loss: 0.3355 - val_acc: 0.8723 - val_mean_pred: 0.3775 - val_fmeasure: 0.8059 - val_precision: 0.8813 - val_auroc: 0.9219 - val_recall: 0.7425\n",
            "Epoch 14/15\n",
            "14602/14602 [==============================] - 14s 946us/step - loss: 0.3104 - acc: 0.8661 - mean_pred: 0.3611 - fmeasure: 0.8027 - precision: 0.8569 - auroc: 0.9223 - recall: 0.7558 - val_loss: 0.3438 - val_acc: 0.8677 - val_mean_pred: 0.4204 - val_fmeasure: 0.8171 - val_precision: 0.8064 - val_auroc: 0.9226 - val_recall: 0.8283\n",
            "Epoch 15/15\n",
            "14602/14602 [==============================] - 14s 975us/step - loss: 0.3145 - acc: 0.8632 - mean_pred: 0.3632 - fmeasure: 0.7997 - precision: 0.8490 - auroc: 0.9229 - recall: 0.7581 - val_loss: 0.3344 - val_acc: 0.8729 - val_mean_pred: 0.3941 - val_fmeasure: 0.8164 - val_precision: 0.8434 - val_auroc: 0.9232 - val_recall: 0.7912\n"
          ],
          "name": "stdout"
        }
      ]
    },
    {
      "cell_type": "markdown",
      "metadata": {
        "colab_type": "text",
        "id": "iV9YwFdvUZq0"
      },
      "source": [
        "### Evaluate the LSTM+Glove train and test score"
      ]
    },
    {
      "cell_type": "code",
      "metadata": {
        "colab_type": "code",
        "id": "XwjLfexEUaVM",
        "colab": {},
        "outputId": "2dad8693-fd5e-46dd-c3e8-108d7d29a756"
      },
      "source": [
        "#train\n",
        "LSTM_Glove_train_score = LSTM_Glove_model.evaluate(X_tra, y_tra, batch_size=batch_size2, verbose=1)\n",
        "print('Train Loss:', LSTM_Glove_train_score[0])\n",
        "print('Train Accuracy:', LSTM_Glove_train_score[1])\n",
        "\n",
        "#test\n",
        "LSTM_Glove_test_score = LSTM_Glove_model.evaluate(X_test, y_test, batch_size=batch_size2, verbose=1)\n",
        "print('Test Loss:', LSTM_Glove_test_score[0])\n",
        "print('Test Accuracy:', LSTM_Glove_test_score[1])"
      ],
      "execution_count": 0,
      "outputs": [
        {
          "output_type": "stream",
          "text": [
            ""
          ],
          "name": "stdout"
        },
        {
          "output_type": "stream",
          "text": [
            "14602/14602 [==============================] - 4s 277us/step\n",
            "Train Loss: 0.3298646329102688\n",
            "Train Accuracy: 0.8800963696968456\n",
            "6234/6234 [==============================] - 2s 293us/step\n",
            "Test Loss: 0.33664095023139606\n",
            "Test Accuracy: 0.866778981046949\n"
          ],
          "name": "stdout"
        }
      ]
    },
    {
      "cell_type": "markdown",
      "metadata": {
        "colab_type": "text",
        "id": "t9pkNXgPUvda"
      },
      "source": [
        "### Plot Training & Validation Accuracy with the Loss values of the LSTM-Glove Model\n",
        "\n"
      ]
    },
    {
      "cell_type": "code",
      "metadata": {
        "colab_type": "code",
        "id": "Sae9WHbTU0S2",
        "colab": {},
        "outputId": "c6137e1c-b042-4008-d89a-e5abbdd54f33"
      },
      "source": [
        "### Plot Training & Validation Accuracy with the Loss values of the LSTM-Glove Model# Plot training & validation accuracy values\n",
        "plt.plot(LSTM_Glove_model_fit.history['acc'])\n",
        "plt.plot(LSTM_Glove_model_fit.history['val_acc'])\n",
        "plt.title('LSTM-Glove Model accuracy')\n",
        "plt.ylabel('Accuracy')\n",
        "plt.xlabel('Epoch')\n",
        "plt.legend(['Training Accuracy', 'Validation Accuracy'], loc='upper left')\n",
        "plt.show()\n",
        "\n",
        "# Plot training & validation loss values\n",
        "plt.plot(LSTM_Glove_model_fit.history['loss'])\n",
        "plt.plot(LSTM_Glove_model_fit.history['val_loss'])\n",
        "plt.title('LSTM-Glove Model loss')\n",
        "plt.ylabel('Loss')\n",
        "plt.xlabel('Epoch')\n",
        "plt.legend(['Training Loss', 'Validation Loss'], loc='lower right')\n",
        "plt.show()"
      ],
      "execution_count": 0,
      "outputs": [
        {
          "output_type": "display_data",
          "data": {
            "image/png": "[encoded data removed]",
            "text/plain": [
              "<Figure size 432x288 with 1 Axes>"
            ]
          },
          "metadata": {
            "tags": [],
            "needs_background": "light"
          }
        },
        {
          "output_type": "display_data",
          "data": {
            "image/png": "[encoded data removed]",
            "text/plain": [
              "<Figure size 432x288 with 1 Axes>"
            ]
          },
          "metadata": {
            "tags": [],
            "needs_background": "light"
          }
        }
      ]
    },
    {
      "cell_type": "markdown",
      "metadata": {
        "colab_type": "text",
        "id": "1kL_R8VRVDiz"
      },
      "source": [
        "## 4) Bidirecitional LSTM with Glove"
      ]
    },
    {
      "cell_type": "code",
      "metadata": {
        "colab_type": "code",
        "id": "hVDo_OkVVOar",
        "colab": {}
      },
      "source": [
        "Bil_LSTM_Glove_model = Sequential([\n",
        "    Embedding(input_dim =embedding_matrix.shape[0], input_length=max_len, output_dim=embedding_matrix.shape[1],weights=[embedding_matrix], trainable=False),\n",
        "    SpatialDropout1D(0.5),\n",
        "    #Bidirectional layer will enable our model to predict a missing word in a sequence, \n",
        "    #So, using this feature will enable the model to look at the context on both the left and the right.\n",
        "    Bidirectional(LSTM(25, return_sequences=True)),\n",
        "    #**batch normalization layer** normalizes the activations of the previous layer at each batch, \n",
        "    #i.e. applies a transformation that maintains the mean activation close to 0 and the activation standard deviation close to 1. \n",
        "    BatchNormalization(),\n",
        "    Dropout(0.5),\n",
        "    GlobalMaxPool1D(),\n",
        "    Dense(50, activation = 'relu'),\n",
        "    Dense(6, activation = 'sigmoid')\n",
        "])\n",
        "\n",
        "\n",
        "Bil_LSTM_Glove_model.compile(loss='binary_crossentropy', optimizer=Adam(0.01), metrics=['accuracy', mean_pred, fmeasure, precision, auroc, recall])"
      ],
      "execution_count": 0,
      "outputs": []
    },
    {
      "cell_type": "markdown",
      "metadata": {
        "colab_type": "text",
        "id": "ddbwj5n7VazE"
      },
      "source": [
        "### Visualize the Orchestrated Bidirectional LSTM-Glove Model Architecture"
      ]
    },
    {
      "cell_type": "code",
      "metadata": {
        "colab_type": "code",
        "id": "AYd0wMzNVp1S",
        "colab": {},
        "outputId": "d9128399-ac12-46e8-b9da-28cb9c23711b"
      },
      "source": [
        "Bil_LSTM_Glove_model.summary()\n",
        "#plot the CNN_GLove model architecture\n",
        "\n",
        "#plot_model(Bil_LSTM_Glove_model, to_file='Bil_LSTM_Glove_model_plot.png', show_shapes=True, show_layer_names=True)\n",
        "#Image(retina=True, filename='Bil_LSTM_Glove_model_plot.png')"
      ],
      "execution_count": 0,
      "outputs": [
        {
          "output_type": "stream",
          "text": [
            "_________________________________________________________________\n",
            "Layer (type)                 Output Shape              Param #   \n",
            "=================================================================\n",
            "embedding_4 (Embedding)      (None, 200, 100)          4041700   \n",
            "_________________________________________________________________\n",
            "spatial_dropout1d_4 (Spatial (None, 200, 100)          0         \n",
            "_________________________________________________________________\n",
            "bidirectional_1 (Bidirection (None, 200, 50)           25200     \n",
            "_________________________________________________________________\n",
            "batch_normalization_4 (Batch (None, 200, 50)           200       \n",
            "_________________________________________________________________\n",
            "dropout_4 (Dropout)          (None, 200, 50)           0         \n",
            "_________________________________________________________________\n",
            "global_max_pooling1d_4 (Glob (None, 50)                0         \n",
            "_________________________________________________________________\n",
            "dense_7 (Dense)              (None, 50)                2550      \n",
            "_________________________________________________________________\n",
            "dense_8 (Dense)              (None, 6)                 306       \n",
            "=================================================================\n",
            "Total params: 4,069,956\n",
            "Trainable params: 28,156\n",
            "Non-trainable params: 4,041,800\n",
            "_________________________________________________________________\n"
          ],
          "name": "stdout"
        }
      ]
    },
    {
      "cell_type": "code",
      "metadata": {
        "colab_type": "code",
        "id": "nod9mnwxVqre",
        "colab": {},
        "outputId": "1d99e041-b05f-4337-be28-0f460940f153"
      },
      "source": [
        "Bil_LSTM_Glove_model_fit = Bil_LSTM_Glove_model.fit(X_tra, y_tra, batch_size=batch_size2, epochs=num_epochs, validation_data=(X_val, y_val), callbacks=[early])"
      ],
      "execution_count": 0,
      "outputs": [
        {
          "output_type": "stream",
          "text": [
            "Train on 14602 samples, validate on 1623 samples\n",
            "Epoch 1/15\n",
            "14602/14602 [==============================] - 34s 2ms/step - loss: 0.4330 - acc: 0.8237 - mean_pred: 0.3655 - fmeasure: 0.7498 - precision: 0.7839 - auroc: 0.8435 - recall: 0.7240 - val_loss: 0.3946 - val_acc: 0.8533 - val_mean_pred: 0.4220 - val_fmeasure: 0.7944 - val_precision: 0.7941 - val_auroc: 0.8861 - val_recall: 0.7949\n",
            "Epoch 2/15\n",
            "14602/14602 [==============================] - 31s 2ms/step - loss: 0.3383 - acc: 0.8557 - mean_pred: 0.3617 - fmeasure: 0.7891 - precision: 0.8359 - auroc: 0.8954 - recall: 0.7494 - val_loss: 0.3997 - val_acc: 0.8491 - val_mean_pred: 0.4537 - val_fmeasure: 0.8003 - val_precision: 0.7582 - val_auroc: 0.9017 - val_recall: 0.8475\n",
            "Epoch 3/15\n",
            "14602/14602 [==============================] - 31s 2ms/step - loss: 0.3271 - acc: 0.8604 - mean_pred: 0.3639 - fmeasure: 0.7968 - precision: 0.8404 - auroc: 0.9055 - recall: 0.7601 - val_loss: 0.3785 - val_acc: 0.8656 - val_mean_pred: 0.4240 - val_fmeasure: 0.8084 - val_precision: 0.8225 - val_auroc: 0.9089 - val_recall: 0.7949\n",
            "Epoch 4/15\n",
            "14602/14602 [==============================] - 51s 4ms/step - loss: 0.3247 - acc: 0.8604 - mean_pred: 0.3617 - fmeasure: 0.7960 - precision: 0.8428 - auroc: 0.9110 - recall: 0.7563 - val_loss: 0.3688 - val_acc: 0.8637 - val_mean_pred: 0.4191 - val_fmeasure: 0.8095 - val_precision: 0.8080 - val_auroc: 0.9130 - val_recall: 0.8111\n",
            "Epoch 5/15\n",
            "14602/14602 [==============================] - 56s 4ms/step - loss: 0.3152 - acc: 0.8643 - mean_pred: 0.3619 - fmeasure: 0.8024 - precision: 0.8456 - auroc: 0.9148 - recall: 0.7643 - val_loss: 0.3518 - val_acc: 0.8682 - val_mean_pred: 0.4039 - val_fmeasure: 0.8097 - val_precision: 0.8355 - val_auroc: 0.9164 - val_recall: 0.7855\n",
            "Epoch 6/15\n",
            "14602/14602 [==============================] - 57s 4ms/step - loss: 0.3108 - acc: 0.8651 - mean_pred: 0.3610 - fmeasure: 0.8034 - precision: 0.8471 - auroc: 0.9177 - recall: 0.7651 - val_loss: 0.3486 - val_acc: 0.8643 - val_mean_pred: 0.4207 - val_fmeasure: 0.8135 - val_precision: 0.7984 - val_auroc: 0.9191 - val_recall: 0.8292\n",
            "Epoch 7/15\n",
            "14602/14602 [==============================] - 58s 4ms/step - loss: 0.3107 - acc: 0.8655 - mean_pred: 0.3606 - fmeasure: 0.8047 - precision: 0.8462 - auroc: 0.9201 - recall: 0.7686 - val_loss: 0.3481 - val_acc: 0.8697 - val_mean_pred: 0.4089 - val_fmeasure: 0.8172 - val_precision: 0.8186 - val_auroc: 0.9210 - val_recall: 0.8161\n",
            "Epoch 8/15\n",
            "14602/14602 [==============================] - 58s 4ms/step - loss: 0.3070 - acc: 0.8657 - mean_pred: 0.3600 - fmeasure: 0.8040 - precision: 0.8492 - auroc: 0.9218 - recall: 0.7646 - val_loss: 0.3259 - val_acc: 0.8728 - val_mean_pred: 0.3820 - val_fmeasure: 0.8135 - val_precision: 0.8532 - val_auroc: 0.9227 - val_recall: 0.7775\n",
            "Epoch 9/15\n",
            "14602/14602 [==============================] - 57s 4ms/step - loss: 0.3015 - acc: 0.8707 - mean_pred: 0.3607 - fmeasure: 0.8120 - precision: 0.8544 - auroc: 0.9235 - recall: 0.7750 - val_loss: 0.3255 - val_acc: 0.8767 - val_mean_pred: 0.3806 - val_fmeasure: 0.8222 - val_precision: 0.8482 - val_auroc: 0.9243 - val_recall: 0.7978\n",
            "Epoch 10/15\n",
            "14602/14602 [==============================] - 57s 4ms/step - loss: 0.2994 - acc: 0.8707 - mean_pred: 0.3606 - fmeasure: 0.8122 - precision: 0.8534 - auroc: 0.9250 - recall: 0.7757 - val_loss: 0.3383 - val_acc: 0.8759 - val_mean_pred: 0.3945 - val_fmeasure: 0.8218 - val_precision: 0.8439 - val_auroc: 0.9257 - val_recall: 0.8009\n",
            "Epoch 11/15\n",
            "14602/14602 [==============================] - 57s 4ms/step - loss: 0.2974 - acc: 0.8717 - mean_pred: 0.3604 - fmeasure: 0.8142 - precision: 0.8526 - auroc: 0.9263 - recall: 0.7800 - val_loss: 0.3328 - val_acc: 0.8635 - val_mean_pred: 0.4259 - val_fmeasure: 0.8181 - val_precision: 0.7802 - val_auroc: 0.9268 - val_recall: 0.8601\n",
            "Epoch 12/15\n",
            "14602/14602 [==============================] - 57s 4ms/step - loss: 0.2968 - acc: 0.8728 - mean_pred: 0.3619 - fmeasure: 0.8157 - precision: 0.8554 - auroc: 0.9274 - recall: 0.7811 - val_loss: 0.3231 - val_acc: 0.8758 - val_mean_pred: 0.3928 - val_fmeasure: 0.8228 - val_precision: 0.8396 - val_auroc: 0.9279 - val_recall: 0.8069\n",
            "Epoch 13/15\n",
            "14602/14602 [==============================] - 45s 3ms/step - loss: 0.2936 - acc: 0.8734 - mean_pred: 0.3601 - fmeasure: 0.8174 - precision: 0.8536 - auroc: 0.9284 - recall: 0.7856 - val_loss: 0.3331 - val_acc: 0.8686 - val_mean_pred: 0.4262 - val_fmeasure: 0.8211 - val_precision: 0.7986 - val_auroc: 0.9288 - val_recall: 0.8451\n",
            "Epoch 14/15\n",
            "14602/14602 [==============================] - 52s 4ms/step - loss: 0.2958 - acc: 0.8716 - mean_pred: 0.3635 - fmeasure: 0.8143 - precision: 0.8519 - auroc: 0.9292 - recall: 0.7821 - val_loss: 0.3210 - val_acc: 0.8742 - val_mean_pred: 0.4117 - val_fmeasure: 0.8237 - val_precision: 0.8245 - val_auroc: 0.9296 - val_recall: 0.8231\n",
            "Epoch 15/15\n",
            "14602/14602 [==============================] - 51s 3ms/step - loss: 0.2902 - acc: 0.8754 - mean_pred: 0.3612 - fmeasure: 0.8202 - precision: 0.8559 - auroc: 0.9301 - recall: 0.7882 - val_loss: 0.3181 - val_acc: 0.8819 - val_mean_pred: 0.3890 - val_fmeasure: 0.8279 - val_precision: 0.8635 - val_auroc: 0.9304 - val_recall: 0.7953\n"
          ],
          "name": "stdout"
        }
      ]
    },
    {
      "cell_type": "markdown",
      "metadata": {
        "colab_type": "text",
        "id": "RSJQSMmj70uo"
      },
      "source": [
        "### Evaluate the Bidirectional LSTM+Glove train and test score"
      ]
    },
    {
      "cell_type": "code",
      "metadata": {
        "colab_type": "code",
        "id": "gC344t0u701D",
        "colab": {},
        "outputId": "1f412994-96fd-439c-db98-77197f707f5d"
      },
      "source": [
        "#train\n",
        "Bil_LSTM_Glove_train_score = Bil_LSTM_Glove_model.evaluate(X_tra, y_tra, batch_size=batch_size2, verbose=1)\n",
        "print('Train Loss:', Bil_LSTM_Glove_train_score[0])\n",
        "print('Train Accuracy:', Bil_LSTM_Glove_train_score[1])\n",
        "\n",
        "#test\n",
        "Bil_LSTM_Glove_test_score = Bil_LSTM_Glove_model.evaluate(X_test, y_test, batch_size=batch_size2, verbose=1)\n",
        "print('Test Loss:', Bil_LSTM_Glove_test_score[0])\n",
        "print('Test Accuracy:', Bil_LSTM_Glove_test_score[1])"
      ],
      "execution_count": 0,
      "outputs": [
        {
          "output_type": "stream",
          "text": [
            ""
          ],
          "name": "stdout"
        },
        {
          "output_type": "stream",
          "text": [
            "14602/14602 [==============================] - 12s 848us/step\n",
            "Train Loss: 0.3099679234190814\n",
            "Train Accuracy: 0.8860202175168987\n",
            "6234/6234 [==============================] - 5s 878us/step\n",
            "Test Loss: 0.3180722825929527\n",
            "Test Accuracy: 0.8738905302522884\n"
          ],
          "name": "stdout"
        }
      ]
    },
    {
      "cell_type": "markdown",
      "metadata": {
        "colab_type": "text",
        "id": "3KRdfqbJV7fn"
      },
      "source": [
        "### Plot Training & Validation Accuracy with the Loss values of the Bidirectional LSTM-Glove Model\n"
      ]
    },
    {
      "cell_type": "code",
      "metadata": {
        "colab_type": "code",
        "id": "-FcgxedoV7n3",
        "colab": {},
        "outputId": "68daad92-8b70-434a-ec53-d1170f72f64b"
      },
      "source": [
        "\n",
        "# Plot training & validation accuracy values\n",
        "plt.plot(Bil_LSTM_Glove_model_fit.history['acc'])\n",
        "plt.plot(Bil_LSTM_Glove_model_fit.history['val_acc'])\n",
        "plt.title('Bidirecitonal LSTM-Glove Model accuracy')\n",
        "plt.ylabel('Accuracy')\n",
        "plt.xlabel('Epoch')\n",
        "plt.legend(['Training Accuracy', 'Validation Accuracy'], loc='upper left')\n",
        "plt.show()\n",
        "\n",
        "# Plot training & validation loss values\n",
        "plt.plot(Bil_LSTM_Glove_model_fit.history['loss'])\n",
        "plt.plot(Bil_LSTM_Glove_model_fit.history['val_loss'])\n",
        "plt.title('Bidirecitonal LSTM-Glove Model loss')\n",
        "plt.ylabel('Loss')\n",
        "plt.xlabel('Epoch')\n",
        "plt.legend(['Training Loss', 'Validation Loss'], loc='lower right')\n",
        "plt.show()"
      ],
      "execution_count": 0,
      "outputs": [
        {
          "output_type": "display_data",
          "data": {
            "image/png": "[encoded data removed]",
            "text/plain": [
              "<Figure size 432x288 with 1 Axes>"
            ]
          },
          "metadata": {
            "tags": [],
            "needs_background": "light"
          }
        },
        {
          "output_type": "display_data",
          "data": {
            "image/png": "[encoded data removed]",
            "text/plain": [
              "<Figure size 432x288 with 1 Axes>"
            ]
          },
          "metadata": {
            "tags": [],
            "needs_background": "light"
          }
        }
      ]
    },
    {
      "cell_type": "markdown",
      "metadata": {
        "colab_type": "text",
        "id": "HVxDKjfsW7xs"
      },
      "source": [
        "## 5) Gated Recurrent (GRU) with Glove"
      ]
    },
    {
      "cell_type": "code",
      "metadata": {
        "colab_type": "code",
        "id": "tnDqKMgKXTCA",
        "colab": {}
      },
      "source": [
        "sequence_input = Input(shape=(max_len, ))\n",
        "model = Embedding(input_dim =embedding_matrix.shape[0], input_length=max_len, output_dim=embedding_matrix.shape[1],weights=[embedding_matrix], trainable=False)(sequence_input)\n",
        "model = SpatialDropout1D(0.2)(model)\n",
        "model = GRU(128, return_sequences=True,dropout=0.1,recurrent_dropout=0.1)(model)\n",
        "model = Conv1D(64, kernel_size = 3, padding = \"valid\", kernel_initializer = \"glorot_uniform\")(model)\n",
        "avg_pool = GlobalAveragePooling1D()(model)\n",
        "max_pool = GlobalMaxPooling1D()(model)\n",
        "model = concatenate([avg_pool, max_pool]) \n",
        "preds = Dense(6, activation=\"sigmoid\")(model)\n",
        "GRU_Glove_model = Model(sequence_input, preds)\n",
        "GRU_Glove_model.compile(loss='binary_crossentropy',optimizer=Adam(lr=1e-3),metrics=['accuracy', mean_pred, fmeasure, precision, auroc, recall])\n"
      ],
      "execution_count": 0,
      "outputs": []
    },
    {
      "cell_type": "markdown",
      "metadata": {
        "colab_type": "text",
        "id": "obSFemN8XlNo"
      },
      "source": [
        "### Visualize the Orchestrated GRU+Glove MODEL Architecture"
      ]
    },
    {
      "cell_type": "code",
      "metadata": {
        "colab_type": "code",
        "id": "VRtLB7haXuZa",
        "colab": {},
        "outputId": "4b8d9a34-0ecd-4d6d-88ca-faeca543778a"
      },
      "source": [
        "GRU_Glove_model.summary()\n",
        "\n",
        "#plot the GRU model architecture\n",
        "\n",
        "#plot_model(GRU_Glove_model, to_file='GRU_Glove_model_plot.png', show_shapes=True, show_layer_names=True)\n",
        "#Image(retina=True, filename='GRU_Glove_model_plot.png')"
      ],
      "execution_count": 0,
      "outputs": [
        {
          "output_type": "stream",
          "text": [
            "__________________________________________________________________________________________________\n",
            "Layer (type)                    Output Shape         Param #     Connected to                     \n",
            "==================================================================================================\n",
            "input_1 (InputLayer)            (None, 200)          0                                            \n",
            "__________________________________________________________________________________________________\n",
            "embedding_5 (Embedding)         (None, 200, 100)     4041700     input_1[0][0]                    \n",
            "__________________________________________________________________________________________________\n",
            "spatial_dropout1d_5 (SpatialDro (None, 200, 100)     0           embedding_5[0][0]                \n",
            "__________________________________________________________________________________________________\n",
            "gru_1 (GRU)                     (None, 200, 128)     87936       spatial_dropout1d_5[0][0]        \n",
            "__________________________________________________________________________________________________\n",
            "conv1d_2 (Conv1D)               (None, 198, 64)      24640       gru_1[0][0]                      \n",
            "__________________________________________________________________________________________________\n",
            "global_average_pooling1d_1 (Glo (None, 64)           0           conv1d_2[0][0]                   \n",
            "__________________________________________________________________________________________________\n",
            "global_max_pooling1d_5 (GlobalM (None, 64)           0           conv1d_2[0][0]                   \n",
            "__________________________________________________________________________________________________\n",
            "concatenate_1 (Concatenate)     (None, 128)          0           global_average_pooling1d_1[0][0] \n",
            "                                                                 global_max_pooling1d_5[0][0]     \n",
            "__________________________________________________________________________________________________\n",
            "dense_9 (Dense)                 (None, 6)            774         concatenate_1[0][0]              \n",
            "==================================================================================================\n",
            "Total params: 4,155,050\n",
            "Trainable params: 113,350\n",
            "Non-trainable params: 4,041,700\n",
            "__________________________________________________________________________________________________\n"
          ],
          "name": "stdout"
        }
      ]
    },
    {
      "cell_type": "code",
      "metadata": {
        "colab_type": "code",
        "id": "msksCVekX0T1",
        "colab": {},
        "outputId": "789cfb37-4224-426a-88fb-14671df86e4c"
      },
      "source": [
        "GRU_Glove_model_fit = GRU_Glove_model.fit(X_tra, y_tra, batch_size=batch_size2, epochs=num_epochs, validation_data=(X_val, y_val), callbacks=[early])"
      ],
      "execution_count": 0,
      "outputs": [
        {
          "output_type": "stream",
          "text": [
            "Train on 14602 samples, validate on 1623 samples\n",
            "Epoch 1/15\n",
            "14602/14602 [==============================] - 114s 8ms/step - loss: 0.4059 - acc: 0.8097 - mean_pred: 0.3729 - fmeasure: 0.7257 - precision: 0.7633 - auroc: 0.8329 - recall: 0.7027 - val_loss: 0.3421 - val_acc: 0.8532 - val_mean_pred: 0.3693 - val_fmeasure: 0.7855 - val_precision: 0.8207 - val_auroc: 0.8855 - val_recall: 0.7534\n",
            "Epoch 2/15\n",
            "14602/14602 [==============================] - 129s 9ms/step - loss: 0.3351 - acc: 0.8587 - mean_pred: 0.3640 - fmeasure: 0.7949 - precision: 0.8346 - auroc: 0.8971 - recall: 0.7602 - val_loss: 0.3148 - val_acc: 0.8665 - val_mean_pred: 0.3655 - val_fmeasure: 0.8065 - val_precision: 0.8360 - val_auroc: 0.9052 - val_recall: 0.7795\n",
            "Epoch 3/15\n",
            "14602/14602 [==============================] - 135s 9ms/step - loss: 0.3142 - acc: 0.8686 - mean_pred: 0.3630 - fmeasure: 0.8094 - precision: 0.8492 - auroc: 0.9107 - recall: 0.7742 - val_loss: 0.3012 - val_acc: 0.8693 - val_mean_pred: 0.3601 - val_fmeasure: 0.8074 - val_precision: 0.8521 - val_auroc: 0.9148 - val_recall: 0.7674\n",
            "Epoch 4/15\n",
            "14602/14602 [==============================] - 127s 9ms/step - loss: 0.3025 - acc: 0.8715 - mean_pred: 0.3625 - fmeasure: 0.8146 - precision: 0.8505 - auroc: 0.9182 - recall: 0.7829 - val_loss: 0.2937 - val_acc: 0.8734 - val_mean_pred: 0.3706 - val_fmeasure: 0.8200 - val_precision: 0.8325 - val_auroc: 0.9209 - val_recall: 0.8080\n",
            "Epoch 5/15\n",
            "14602/14602 [==============================] - 152s 10ms/step - loss: 0.2939 - acc: 0.8759 - mean_pred: 0.3617 - fmeasure: 0.8211 - precision: 0.8559 - auroc: 0.9233 - recall: 0.7897 - val_loss: 0.2857 - val_acc: 0.8795 - val_mean_pred: 0.3524 - val_fmeasure: 0.8224 - val_precision: 0.8681 - val_auroc: 0.9253 - val_recall: 0.7816\n",
            "Epoch 6/15\n",
            "14602/14602 [==============================] - 158s 11ms/step - loss: 0.2877 - acc: 0.8779 - mean_pred: 0.3614 - fmeasure: 0.8240 - precision: 0.8591 - auroc: 0.9271 - recall: 0.7930 - val_loss: 0.2815 - val_acc: 0.8816 - val_mean_pred: 0.3555 - val_fmeasure: 0.8268 - val_precision: 0.8646 - val_auroc: 0.9286 - val_recall: 0.7924\n",
            "Epoch 7/15\n",
            "14602/14602 [==============================] - 158s 11ms/step - loss: 0.2843 - acc: 0.8789 - mean_pred: 0.3610 - fmeasure: 0.8255 - precision: 0.8599 - auroc: 0.9300 - recall: 0.7954 - val_loss: 0.2822 - val_acc: 0.8776 - val_mean_pred: 0.3688 - val_fmeasure: 0.8259 - val_precision: 0.8394 - val_auroc: 0.9312 - val_recall: 0.8129\n",
            "Epoch 8/15\n",
            "14602/14602 [==============================] - 151s 10ms/step - loss: 0.2791 - acc: 0.8802 - mean_pred: 0.3609 - fmeasure: 0.8281 - precision: 0.8589 - auroc: 0.9324 - recall: 0.8003 - val_loss: 0.2778 - val_acc: 0.8809 - val_mean_pred: 0.3577 - val_fmeasure: 0.8275 - val_precision: 0.8566 - val_auroc: 0.9333 - val_recall: 0.8007\n",
            "Epoch 9/15\n",
            "14602/14602 [==============================] - 128s 9ms/step - loss: 0.2750 - acc: 0.8831 - mean_pred: 0.3595 - fmeasure: 0.8322 - precision: 0.8639 - auroc: 0.9343 - recall: 0.8040 - val_loss: 0.2785 - val_acc: 0.8794 - val_mean_pred: 0.3746 - val_fmeasure: 0.8311 - val_precision: 0.8319 - val_auroc: 0.9352 - val_recall: 0.8305\n",
            "Epoch 10/15\n",
            "14602/14602 [==============================] - 124s 8ms/step - loss: 0.2732 - acc: 0.8841 - mean_pred: 0.3625 - fmeasure: 0.8347 - precision: 0.8605 - auroc: 0.9360 - recall: 0.8113 - val_loss: 0.2773 - val_acc: 0.8817 - val_mean_pred: 0.3785 - val_fmeasure: 0.8350 - val_precision: 0.8320 - val_auroc: 0.9367 - val_recall: 0.8383\n",
            "Epoch 11/15\n",
            "14602/14602 [==============================] - 121s 8ms/step - loss: 0.2686 - acc: 0.8859 - mean_pred: 0.3619 - fmeasure: 0.8372 - precision: 0.8631 - auroc: 0.9375 - recall: 0.8135 - val_loss: 0.2751 - val_acc: 0.8829 - val_mean_pred: 0.3529 - val_fmeasure: 0.8298 - val_precision: 0.8636 - val_auroc: 0.9381 - val_recall: 0.7987\n",
            "Epoch 12/15\n",
            "14602/14602 [==============================] - 114s 8ms/step - loss: 0.2657 - acc: 0.8877 - mean_pred: 0.3609 - fmeasure: 0.8397 - precision: 0.8652 - auroc: 0.9388 - recall: 0.8166 - val_loss: 0.2750 - val_acc: 0.8830 - val_mean_pred: 0.3458 - val_fmeasure: 0.8284 - val_precision: 0.8702 - val_auroc: 0.9394 - val_recall: 0.7906\n",
            "Epoch 13/15\n",
            "14602/14602 [==============================] - 112s 8ms/step - loss: 0.2639 - acc: 0.8876 - mean_pred: 0.3603 - fmeasure: 0.8394 - precision: 0.8662 - auroc: 0.9400 - recall: 0.8148 - val_loss: 0.2733 - val_acc: 0.8834 - val_mean_pred: 0.3674 - val_fmeasure: 0.8348 - val_precision: 0.8455 - val_auroc: 0.9405 - val_recall: 0.8246\n",
            "Epoch 14/15\n",
            "14602/14602 [==============================] - 112s 8ms/step - loss: 0.2616 - acc: 0.8898 - mean_pred: 0.3615 - fmeasure: 0.8429 - precision: 0.8675 - auroc: 0.9410 - recall: 0.8203 - val_loss: 0.2746 - val_acc: 0.8828 - val_mean_pred: 0.3490 - val_fmeasure: 0.8307 - val_precision: 0.8588 - val_auroc: 0.9415 - val_recall: 0.8045\n",
            "Epoch 15/15\n",
            "14602/14602 [==============================] - 112s 8ms/step - loss: 0.2587 - acc: 0.8902 - mean_pred: 0.3601 - fmeasure: 0.8434 - precision: 0.8689 - auroc: 0.9420 - recall: 0.8202 - val_loss: 0.2718 - val_acc: 0.8842 - val_mean_pred: 0.3519 - val_fmeasure: 0.8323 - val_precision: 0.8615 - val_auroc: 0.9424 - val_recall: 0.8052\n"
          ],
          "name": "stdout"
        }
      ]
    },
    {
      "cell_type": "markdown",
      "metadata": {
        "colab_type": "text",
        "id": "eUU9Ir6wX51B"
      },
      "source": [
        "### Evaluate the GRU+Glove Model train and test score"
      ]
    },
    {
      "cell_type": "code",
      "metadata": {
        "colab_type": "code",
        "id": "5cL12krrX8VI",
        "colab": {},
        "outputId": "8c82dd15-9d05-487e-9db3-b79fb197c4f4"
      },
      "source": [
        "#Train\n",
        "GRU_Glove_train_score = GRU_Glove_model.evaluate(X_tra, y_tra, batch_size=batch_size2, verbose=1)\n",
        "print('Train Loss:', GRU_Glove_train_score[0])\n",
        "print('Train Accuracy:', GRU_Glove_train_score[1])\n",
        "\n",
        "#Test\n",
        "GRU_Glove_test_score = GRU_Glove_model.evaluate(X_test, y_test, batch_size=batch_size2, verbose=1)\n",
        "print('Test Loss:', GRU_Glove_test_score[0])\n",
        "print('Test Accuracy:', GRU_Glove_test_score[1])"
      ],
      "execution_count": 0,
      "outputs": [
        {
          "output_type": "stream",
          "text": [
            ""
          ],
          "name": "stdout"
        },
        {
          "output_type": "stream",
          "text": [
            "14602/14602 [==============================] - 26s 2ms/step\n",
            "Train Loss: 0.24090803659398202\n",
            "Train Accuracy: 0.8988837483418737\n",
            "6234/6234 [==============================] - 11s 2ms/step\n",
            "Test Loss: 0.2715485428564817\n",
            "Test Accuracy: 0.8781681347053939\n"
          ],
          "name": "stdout"
        }
      ]
    },
    {
      "cell_type": "markdown",
      "metadata": {
        "colab_type": "text",
        "id": "BsjUhZyhYI5J"
      },
      "source": [
        "### Plot Training & Validation Accuracy with the Loss values of the GRU+ Glove Model"
      ]
    },
    {
      "cell_type": "code",
      "metadata": {
        "colab_type": "code",
        "id": "T1EmK_UbYNuv",
        "colab": {},
        "outputId": "92b51136-fb24-4baa-ef7c-4dc8bcf7e0f0"
      },
      "source": [
        "# Plot training & validation accuracy values\n",
        "plt.plot(GRU_Glove_model_fit.history['acc'])\n",
        "plt.plot(GRU_Glove_model_fit.history['val_acc'])\n",
        "plt.title('Gated Recurrent Unit (GRU) with Glove Model accuracy')\n",
        "plt.ylabel('Accuracy')\n",
        "plt.xlabel('Epoch')\n",
        "plt.legend(['Training Accuracy', 'Validation Accuracy'], loc='upper left')\n",
        "plt.show()\n",
        "\n",
        "# Plot training & validation loss values\n",
        "plt.plot(GRU_Glove_model_fit.history['loss'])\n",
        "plt.plot(GRU_Glove_model_fit.history['val_loss'])\n",
        "plt.title('Bidirectional Gated Recurrent Unit (GRU) with Glove Model loss')\n",
        "plt.ylabel('Loss')\n",
        "plt.xlabel('Epoch')\n",
        "plt.legend(['Training Loss', 'Validation Loss'], loc='lower right')\n",
        "plt.show()"
      ],
      "execution_count": 0,
      "outputs": [
        {
          "output_type": "display_data",
          "data": {
            "image/png": "[encoded data removed]",
            "text/plain": [
              "<Figure size 432x288 with 1 Axes>"
            ]
          },
          "metadata": {
            "tags": [],
            "needs_background": "light"
          }
        },
        {
          "output_type": "display_data",
          "data": {
            "image/png": "[encoded data removed]",
            "text/plain": [
              "<Figure size 432x288 with 1 Axes>"
            ]
          },
          "metadata": {
            "tags": [],
            "needs_background": "light"
          }
        }
      ]
    },
    {
      "cell_type": "markdown",
      "metadata": {
        "colab_type": "text",
        "id": "D4YbRgFJXI0d"
      },
      "source": [
        "## 6) Bidirectional Gated Recurrent (GRU) + Glove"
      ]
    },
    {
      "cell_type": "code",
      "metadata": {
        "colab_type": "code",
        "id": "ZG2cYq2fYm8A",
        "colab": {}
      },
      "source": [
        "sequence_input = Input(shape=(max_len, ))\n",
        "model = Embedding(input_dim =embedding_matrix.shape[0], input_length=max_len, output_dim=embedding_matrix.shape[1],weights=[embedding_matrix], trainable=False)(sequence_input)\n",
        "model = SpatialDropout1D(0.2)(model)\n",
        "model = Bidirectional(GRU(128, return_sequences=True,dropout=0.1,recurrent_dropout=0.1))(model)\n",
        "model = Conv1D(64, kernel_size = 3, padding = \"valid\", kernel_initializer = \"glorot_uniform\")(model)\n",
        "avg_pool = GlobalAveragePooling1D()(model)\n",
        "max_pool = GlobalMaxPooling1D()(model)\n",
        "model = concatenate([avg_pool, max_pool]) \n",
        "preds = Dense(6, activation=\"sigmoid\")(model)\n",
        "Bil_GRU_Glove_model = Model(sequence_input, preds)\n",
        "Bil_GRU_Glove_model.compile(loss='binary_crossentropy',optimizer=Adam(lr=1e-3),metrics=['accuracy', mean_pred, fmeasure, precision, auroc, recall])"
      ],
      "execution_count": 0,
      "outputs": []
    },
    {
      "cell_type": "markdown",
      "metadata": {
        "colab_type": "text",
        "id": "9tLHWL2hY7t1"
      },
      "source": [
        "### Visualize the Orchestrated Bidirectional GRU+Glove Model Architecture\n",
        "\n",
        "\n"
      ]
    },
    {
      "cell_type": "code",
      "metadata": {
        "colab_type": "code",
        "id": "lotUq7XIY-rW",
        "colab": {},
        "outputId": "930c35ef-5afa-45be-e7dc-4e63727009cd"
      },
      "source": [
        "Bil_GRU_Glove_model.summary()\n",
        "\n",
        "#plot the GRU model architecture\n",
        "\n",
        "#plot_model(Bil_GRU_Glove_model, to_file='Bil_GRU_Glove_model_plot.png', show_shapes=True, show_layer_names=True)\n",
        "#Image(retina=True, filename='Bil_GRU_Glove_model_plot.png') "
      ],
      "execution_count": 0,
      "outputs": [
        {
          "output_type": "stream",
          "text": [
            "__________________________________________________________________________________________________\n",
            "Layer (type)                    Output Shape         Param #     Connected to                     \n",
            "==================================================================================================\n",
            "input_2 (InputLayer)            (None, 200)          0                                            \n",
            "__________________________________________________________________________________________________\n",
            "embedding_6 (Embedding)         (None, 200, 100)     4041700     input_2[0][0]                    \n",
            "__________________________________________________________________________________________________\n",
            "spatial_dropout1d_6 (SpatialDro (None, 200, 100)     0           embedding_6[0][0]                \n",
            "__________________________________________________________________________________________________\n",
            "bidirectional_2 (Bidirectional) (None, 200, 256)     175872      spatial_dropout1d_6[0][0]        \n",
            "__________________________________________________________________________________________________\n",
            "conv1d_3 (Conv1D)               (None, 198, 64)      49216       bidirectional_2[0][0]            \n",
            "__________________________________________________________________________________________________\n",
            "global_average_pooling1d_2 (Glo (None, 64)           0           conv1d_3[0][0]                   \n",
            "__________________________________________________________________________________________________\n",
            "global_max_pooling1d_6 (GlobalM (None, 64)           0           conv1d_3[0][0]                   \n",
            "__________________________________________________________________________________________________\n",
            "concatenate_2 (Concatenate)     (None, 128)          0           global_average_pooling1d_2[0][0] \n",
            "                                                                 global_max_pooling1d_6[0][0]     \n",
            "__________________________________________________________________________________________________\n",
            "dense_10 (Dense)                (None, 6)            774         concatenate_2[0][0]              \n",
            "==================================================================================================\n",
            "Total params: 4,267,562\n",
            "Trainable params: 225,862\n",
            "Non-trainable params: 4,041,700\n",
            "__________________________________________________________________________________________________\n"
          ],
          "name": "stdout"
        }
      ]
    },
    {
      "cell_type": "code",
      "metadata": {
        "colab_type": "code",
        "id": "g0M_XHJqZJf9",
        "colab": {},
        "outputId": "152a7132-f205-4c85-c194-233d7fad9991"
      },
      "source": [
        "Bil_GRU_Glove_model_fit = Bil_GRU_Glove_model.fit(X_tra, y_tra, batch_size=batch_size2, epochs=num_epochs, validation_data=(X_val, y_val), callbacks=[early])"
      ],
      "execution_count": 0,
      "outputs": [
        {
          "output_type": "stream",
          "text": [
            "Train on 14602 samples, validate on 1623 samples\n",
            "Epoch 1/15\n",
            "14602/14602 [==============================] - 381s 26ms/step - loss: 0.3711 - acc: 0.8390 - mean_pred: 0.3698 - fmeasure: 0.7695 - precision: 0.8062 - auroc: 0.8795 - recall: 0.7441 - val_loss: 0.3198 - val_acc: 0.8647 - val_mean_pred: 0.3666 - val_fmeasure: 0.8038 - val_precision: 0.8328 - val_auroc: 0.9058 - val_recall: 0.7771\n",
            "Epoch 2/15\n",
            "14602/14602 [==============================] - 408s 28ms/step - loss: 0.3171 - acc: 0.8682 - mean_pred: 0.3635 - fmeasure: 0.8086 - precision: 0.8497 - auroc: 0.9130 - recall: 0.7728 - val_loss: 0.2981 - val_acc: 0.8751 - val_mean_pred: 0.3522 - val_fmeasure: 0.8152 - val_precision: 0.8649 - val_auroc: 0.9187 - val_recall: 0.7712\n",
            "Epoch 3/15\n",
            "14602/14602 [==============================] - 447s 31ms/step - loss: 0.2983 - acc: 0.8755 - mean_pred: 0.3613 - fmeasure: 0.8197 - precision: 0.8593 - auroc: 0.9227 - recall: 0.7845 - val_loss: 0.2904 - val_acc: 0.8763 - val_mean_pred: 0.3613 - val_fmeasure: 0.8233 - val_precision: 0.8402 - val_auroc: 0.9259 - val_recall: 0.8075\n",
            "Epoch 4/15\n",
            "14602/14602 [==============================] - 453s 31ms/step - loss: 0.2882 - acc: 0.8784 - mean_pred: 0.3622 - fmeasure: 0.8252 - precision: 0.8564 - auroc: 0.9286 - recall: 0.7971 - val_loss: 0.2832 - val_acc: 0.8809 - val_mean_pred: 0.3589 - val_fmeasure: 0.8276 - val_precision: 0.8563 - val_auroc: 0.9306 - val_recall: 0.8011\n",
            "Epoch 5/15\n",
            "14602/14602 [==============================] - 460s 31ms/step - loss: 0.2832 - acc: 0.8792 - mean_pred: 0.3600 - fmeasure: 0.8260 - precision: 0.8599 - auroc: 0.9323 - recall: 0.7958 - val_loss: 0.2997 - val_acc: 0.8709 - val_mean_pred: 0.4081 - val_fmeasure: 0.8252 - val_precision: 0.7991 - val_auroc: 0.9337 - val_recall: 0.8533\n",
            "Epoch 6/15\n",
            "14602/14602 [==============================] - 465s 32ms/step - loss: 0.2777 - acc: 0.8823 - mean_pred: 0.3625 - fmeasure: 0.8315 - precision: 0.8603 - auroc: 0.9350 - recall: 0.8056 - val_loss: 0.2792 - val_acc: 0.8821 - val_mean_pred: 0.3441 - val_fmeasure: 0.8260 - val_precision: 0.8727 - val_auroc: 0.9361 - val_recall: 0.7844\n",
            "Epoch 7/15\n",
            "14602/14602 [==============================] - 457s 31ms/step - loss: 0.2727 - acc: 0.8845 - mean_pred: 0.3604 - fmeasure: 0.8346 - precision: 0.8632 - auroc: 0.9373 - recall: 0.8084 - val_loss: 0.2768 - val_acc: 0.8819 - val_mean_pred: 0.3638 - val_fmeasure: 0.8317 - val_precision: 0.8465 - val_auroc: 0.9382 - val_recall: 0.8179\n",
            "Epoch 8/15\n",
            "14602/14602 [==============================] - 457s 31ms/step - loss: 0.2685 - acc: 0.8858 - mean_pred: 0.3620 - fmeasure: 0.8371 - precision: 0.8622 - auroc: 0.9391 - recall: 0.8141 - val_loss: 0.2763 - val_acc: 0.8842 - val_mean_pred: 0.3679 - val_fmeasure: 0.8360 - val_precision: 0.8453 - val_auroc: 0.9399 - val_recall: 0.8273\n",
            "Epoch 9/15\n",
            "14602/14602 [==============================] - 457s 31ms/step - loss: 0.2650 - acc: 0.8875 - mean_pred: 0.3596 - fmeasure: 0.8392 - precision: 0.8660 - auroc: 0.9407 - recall: 0.8145 - val_loss: 0.2842 - val_acc: 0.8813 - val_mean_pred: 0.3832 - val_fmeasure: 0.8339 - val_precision: 0.8333 - val_auroc: 0.9413 - val_recall: 0.8347\n",
            "Epoch 10/15\n",
            "14602/14602 [==============================] - 455s 31ms/step - loss: 0.2627 - acc: 0.8884 - mean_pred: 0.3621 - fmeasure: 0.8408 - precision: 0.8660 - auroc: 0.9420 - recall: 0.8178 - val_loss: 0.2735 - val_acc: 0.8856 - val_mean_pred: 0.3700 - val_fmeasure: 0.8383 - val_precision: 0.8461 - val_auroc: 0.9426 - val_recall: 0.8310\n",
            "Epoch 11/15\n",
            "14602/14602 [==============================] - 453s 31ms/step - loss: 0.2593 - acc: 0.8902 - mean_pred: 0.3616 - fmeasure: 0.8435 - precision: 0.8686 - auroc: 0.9431 - recall: 0.8208 - val_loss: 0.2729 - val_acc: 0.8866 - val_mean_pred: 0.3583 - val_fmeasure: 0.8375 - val_precision: 0.8578 - val_auroc: 0.9437 - val_recall: 0.8184\n",
            "Epoch 12/15\n",
            "14602/14602 [==============================] - 456s 31ms/step - loss: 0.2541 - acc: 0.8930 - mean_pred: 0.3613 - fmeasure: 0.8479 - precision: 0.8702 - auroc: 0.9443 - recall: 0.8273 - val_loss: 0.2758 - val_acc: 0.8857 - val_mean_pred: 0.3786 - val_fmeasure: 0.8411 - val_precision: 0.8350 - val_auroc: 0.9448 - val_recall: 0.8477\n",
            "Epoch 13/15\n",
            "14602/14602 [==============================] - 453s 31ms/step - loss: 0.2513 - acc: 0.8933 - mean_pred: 0.3617 - fmeasure: 0.8485 - precision: 0.8706 - auroc: 0.9453 - recall: 0.8285 - val_loss: 0.2777 - val_acc: 0.8825 - val_mean_pred: 0.3329 - val_fmeasure: 0.8240 - val_precision: 0.8852 - val_auroc: 0.9458 - val_recall: 0.7712\n",
            "Epoch 14/15\n",
            "14602/14602 [==============================] - 451s 31ms/step - loss: 0.2496 - acc: 0.8940 - mean_pred: 0.3603 - fmeasure: 0.8490 - precision: 0.8727 - auroc: 0.9462 - recall: 0.8277 - val_loss: 0.2731 - val_acc: 0.8850 - val_mean_pred: 0.3490 - val_fmeasure: 0.8330 - val_precision: 0.8649 - val_auroc: 0.9467 - val_recall: 0.8037\n",
            "Epoch 15/15\n",
            "14602/14602 [==============================] - 454s 31ms/step - loss: 0.2466 - acc: 0.8957 - mean_pred: 0.3616 - fmeasure: 0.8520 - precision: 0.8723 - auroc: 0.9471 - recall: 0.8331 - val_loss: 0.2730 - val_acc: 0.8846 - val_mean_pred: 0.3458 - val_fmeasure: 0.8314 - val_precision: 0.8689 - val_auroc: 0.9475 - val_recall: 0.7974\n"
          ],
          "name": "stdout"
        }
      ]
    },
    {
      "cell_type": "markdown",
      "metadata": {
        "colab_type": "text",
        "id": "roS0Vh0CZPkF"
      },
      "source": [
        "### Evaluate the GRU+Glove Model train and test score"
      ]
    },
    {
      "cell_type": "code",
      "metadata": {
        "colab_type": "code",
        "id": "702PMYUEZSxq",
        "colab": {},
        "outputId": "c797647c-2b0d-4d91-c965-131881292dd6"
      },
      "source": [
        "#Train\n",
        "Bil_GRU_Glove_train_score = Bil_GRU_Glove_model.evaluate(X_tra, y_tra, batch_size=batch_size2, verbose=1)\n",
        "print('Train Loss:', Bil_GRU_Glove_train_score[0])\n",
        "print('Train Accuracy:', Bil_GRU_Glove_train_score[1])\n",
        "\n",
        "#Test\n",
        "Bil_GRU_Glove_test_score = Bil_GRU_Glove_model.evaluate(X_test, y_test, batch_size=batch_size2, verbose=1)\n",
        "print('Test Loss:', Bil_GRU_Glove_test_score[0])\n",
        "print('Test Accuracy:', Bil_GRU_Glove_test_score[1])"
      ],
      "execution_count": 0,
      "outputs": [
        {
          "output_type": "stream",
          "text": [
            ""
          ],
          "name": "stdout"
        },
        {
          "output_type": "stream",
          "text": [
            "14602/14602 [==============================] - 88s 6ms/step\n",
            "Train Loss: 0.22470759746228616\n",
            "Train Accuracy: 0.9037346837455614\n",
            "6234/6234 [==============================] - 38s 6ms/step\n",
            "Test Loss: 0.2736187055348432\n",
            "Test Accuracy: 0.8785424472278305\n"
          ],
          "name": "stdout"
        }
      ]
    },
    {
      "cell_type": "markdown",
      "metadata": {
        "colab_type": "text",
        "id": "2gC7ZcIGZfZC"
      },
      "source": [
        "### Plot Training & Validation Accuracy with the Loss values of the Bil GRU + Glove Model"
      ]
    },
    {
      "cell_type": "code",
      "metadata": {
        "colab_type": "code",
        "id": "las_sOPgZiOj",
        "colab": {},
        "outputId": "9971e1dc-6785-4ddd-cde2-d61a36bdb828"
      },
      "source": [
        "# Plot training & validation accuracy values\n",
        "plt.plot(Bil_GRU_Glove_model_fit.history['acc'])\n",
        "plt.plot(Bil_GRU_Glove_model_fit.history['val_acc'])\n",
        "plt.title(' Bidirectional Gated Recurrent Unit (GRU) with Glove Model accuracy')\n",
        "plt.ylabel('Accuracy')\n",
        "plt.xlabel('Epoch')\n",
        "plt.legend(['Training Accuracy', 'Validation Accuracy'], loc='upper left')\n",
        "plt.show()\n",
        "\n",
        "# Plot training & validation loss values\n",
        "plt.plot(Bil_GRU_Glove_model_fit.history['loss'])\n",
        "plt.plot(Bil_GRU_Glove_model_fit.history['val_loss'])\n",
        "plt.title('Bidirectional Gated Recurrent Unit (GRU) with Glove Model loss')\n",
        "plt.ylabel('Loss')\n",
        "plt.xlabel('Epoch')\n",
        "plt.legend(['Training Loss', 'Validation Loss'], loc='lower right')\n",
        "plt.show()"
      ],
      "execution_count": 0,
      "outputs": [
        {
          "output_type": "display_data",
          "data": {
            "image/png": "[encoded data removed]",
            "text/plain": [
              "<Figure size 432x288 with 1 Axes>"
            ]
          },
          "metadata": {
            "tags": [],
            "needs_background": "light"
          }
        },
        {
          "output_type": "display_data",
          "data": {
            "image/png": "[encoded data removed]",
            "text/plain": [
              "<Figure size 432x288 with 1 Axes>"
            ]
          },
          "metadata": {
            "tags": [],
            "needs_background": "light"
          }
        }
      ]
    },
    {
      "cell_type": "markdown",
      "metadata": {
        "colab_type": "text",
        "id": "P4obkfWHjM6Y"
      },
      "source": [
        "# Evaluation of Experiment With GLOVE Pre-trained Embedding"
      ]
    },
    {
      "cell_type": "markdown",
      "metadata": {
        "colab_type": "text",
        "id": "X6leRBvARyTE"
      },
      "source": [
        "#### Computing the highest of the evaluation matrics (per model) "
      ]
    },
    {
      "cell_type": "code",
      "metadata": {
        "colab_type": "code",
        "id": "59zQj0Xjcjis",
        "colab": {},
        "outputId": "3003dec7-866f-47d0-953f-4f8e02800b5a"
      },
      "source": [
        "trace = go.Table(\n",
        "    header=dict(values=['Model', 'Loss', 'Accuracy', 'mean_pred', 'F-Measure', 'Precision', 'AUC', 'Recall'],\n",
        "                line = dict(color='#7D7F80'),\n",
        "                fill = dict(color='#a1c3d1'),\n",
        "                align = ['left'] * 5),\n",
        "    cells=dict(values=[['CNN with Glove', 'RNNs with Glove', 'LSTM with Glove', ' Bidirectional LSTM with Glove', 'GRU with Glove', 'Bidirectional GRU with Glove'],\n",
        "                       [\n",
        "                        #Loss Evaluation\n",
        "                        round(np.max(CNN_Glove_model_fit.history['loss']), 3), round(np.max(RNN_Glove_model_fit.history['loss']), 3), \n",
        "                        round(np.max(LSTM_Glove_model_fit.history['loss']), 3), round(np.max(Bil_LSTM_Glove_model_fit.history['loss']), 3), round(np.max(GRU_Glove_model_fit.history['loss']), 3),\n",
        "                        round(np.max(Bil_GRU_Glove_model_fit.history['loss']), 3)],\n",
        "                        \n",
        "                        #Accuracy Evaluation\n",
        "                        [round(np.max(CNN_Glove_model_fit.history['acc']), 3), round(np.max(RNN_Glove_model_fit.history['acc']), 3), \n",
        "                        round(np.max(LSTM_Glove_model_fit.history['acc']), 3), round(np.max(Bil_LSTM_Glove_model_fit.history['acc']), 3), round(np.max(GRU_Glove_model_fit.history['acc']), 3),\n",
        "                        round(np.max(Bil_GRU_Glove_model_fit.history['acc']), 3)],\n",
        "               \n",
        "                        #mean_pred Evaluation\n",
        "                        [round(np.max(CNN_Glove_model_fit.history['mean_pred']), 3), round(np.max(RNN_Glove_model_fit.history['mean_pred']), 3), \n",
        "                        round(np.max(LSTM_Glove_model_fit.history['mean_pred']), 3), round(np.max(Bil_LSTM_Glove_model_fit.history['mean_pred']), 3), round(np.max(GRU_Glove_model_fit.history['mean_pred']), 3),\n",
        "                        round(np.max(Bil_GRU_Glove_model_fit.history['mean_pred']), 3)],\n",
        "\t\t\t\t\t\t\n",
        "                        #F1-Measure Evaluation fmeasure\n",
        "                        [round(np.max(CNN_Glove_model_fit.history['fmeasure']), 3), round(np.max(RNN_Glove_model_fit.history['fmeasure']), 3), \n",
        "                        round(np.max(LSTM_Glove_model_fit.history['fmeasure']), 3), round(np.max(Bil_LSTM_Glove_model_fit.history['fmeasure']), 3), round(np.max(GRU_Glove_model_fit.history['fmeasure']), 3),\n",
        "                        round(np.max(Bil_GRU_Glove_model_fit.history['fmeasure']), 3)],\n",
        "\t\t\t\t\t\t             \n",
        "                        #Precision Evaluation precision\n",
        "                        [round(np.max(CNN_Glove_model_fit.history['precision']), 3), round(np.max(RNN_Glove_model_fit.history['precision']), 3), \n",
        "                        round(np.max(LSTM_Glove_model_fit.history['precision']), 3), round(np.max(Bil_LSTM_Glove_model_fit.history['precision']), 3), round(np.max(GRU_Glove_model_fit.history['precision']), 3),\n",
        "                        round(np.max(Bil_GRU_Glove_model_fit.history['precision']), 3)],\n",
        "\t\t\t\t\t\t\n",
        "                        #ROC AUC Evaluation auroc\n",
        "                        [round(np.max(CNN_Glove_model_fit.history['auroc']), 3), round(np.max(RNN_Glove_model_fit.history['auroc']), 3), \n",
        "                        round(np.max(LSTM_Glove_model_fit.history['auroc']), 3), round(np.max(Bil_LSTM_Glove_model_fit.history['auroc']), 3), round(np.max(GRU_Glove_model_fit.history['auroc']), 3),\n",
        "                        round(np.max(Bil_GRU_Glove_model_fit.history['auroc']), 3)],\n",
        "                       \n",
        "                        #Recall Evaluation\n",
        "                        [round(np.max(CNN_Glove_model_fit.history['recall']), 3), round(np.max(RNN_Glove_model_fit.history['recall']), 3), \n",
        "                        round(np.max(LSTM_Glove_model_fit.history['recall']), 3), round(np.max(Bil_LSTM_Glove_model_fit.history['recall']), 3), round(np.max(GRU_Glove_model_fit.history['recall']), 3),\n",
        "                        round(np.max(Bil_GRU_Glove_model_fit.history['recall']), 3)]\n",
        "                       ],\n",
        "               line = dict(color='#7D7F80'),\n",
        "               fill = dict(color='#EDFAFF'),\n",
        "               align = ['left'] * 5))\n",
        "\n",
        "layout = dict(width=800, height=400)\n",
        "data = [trace]\n",
        "fig = dict(data=data, layout=layout)\n",
        "py.iplot(data, filename = 'Glove_trained_embedding_with the max of the evaluation matrics (per model) _table')"
      ],
      "execution_count": 0,
      "outputs": [
        {
          "output_type": "stream",
          "text": [
            "D:\\Program Files\\Anaconda\\lib\\site-packages\\IPython\\core\\display.py:689: UserWarning:\n",
            "\n",
            "Consider using IPython.display.IFrame instead\n",
            "\n"
          ],
          "name": "stderr"
        },
        {
          "output_type": "execute_result",
          "data": {
            "text/html": [
              "<iframe id=\"igraph\" scrolling=\"no\" style=\"border:none;\" seamless=\"seamless\" src=\"https://plot.ly/~hamzasharoon/31.embed\" height=\"525px\" width=\"100%\"></iframe>"
            ],
            "text/plain": [
              "<chart_studio.tools.PlotlyDisplay object>"
            ]
          },
          "metadata": {
            "tags": []
          },
          "execution_count": 65
        }
      ]
    },
    {
      "cell_type": "markdown",
      "metadata": {
        "colab_type": "text",
        "id": "Vm_2yaUnFVm-"
      },
      "source": [
        "#### Computing the mean of the evaluation matrics (per model) "
      ]
    },
    {
      "cell_type": "code",
      "metadata": {
        "colab_type": "code",
        "id": "60iQJxSBebo2",
        "colab": {},
        "outputId": "caf4f161-8169-4167-8d15-c5fe4b252e0d"
      },
      "source": [
        "trace = go.Table(\n",
        "    header=dict(values=['Model', 'Loss', 'Accuracy', 'mean_pred', 'F-Measure', 'Precision', 'AUC', 'Recall'],\n",
        "                line = dict(color='#7D7F80'),\n",
        "                fill = dict(color='#a1c3d1'),\n",
        "                align = ['left'] * 5),\n",
        "    cells=dict(values=[['CNN with Glove', 'RNNs with Glove', 'LSTM with Glove', ' Bidirectional LSTM with Glove', 'GRU with Glove', 'Bidirectional GRU with Glove'],\n",
        "                       [\n",
        "                        #Loss Evaluation\n",
        "                        round(np.mean(CNN_Glove_model_fit.history['loss']), 3), round(np.mean(RNN_Glove_model_fit.history['loss']), 3), \n",
        "                        round(np.mean(LSTM_Glove_model_fit.history['loss']), 3), round(np.mean(Bil_LSTM_Glove_model_fit.history['loss']), 3), round(np.mean(GRU_Glove_model_fit.history['loss']), 3),\n",
        "                        round(np.mean(Bil_GRU_Glove_model_fit.history['loss']), 3)],\n",
        "                        \n",
        "                        #Accuracy Evaluation\n",
        "                        [round(np.mean(CNN_Glove_model_fit.history['acc']), 3), round(np.mean(RNN_Glove_model_fit.history['acc']), 3), \n",
        "                        round(np.mean(LSTM_Glove_model_fit.history['acc']), 3), round(np.mean(Bil_LSTM_Glove_model_fit.history['acc']), 3), round(np.mean(GRU_Glove_model_fit.history['acc']), 3),\n",
        "                        round(np.mean(Bil_GRU_Glove_model_fit.history['acc']), 3)],\n",
        "               \n",
        "                        #mean_pred Evaluation\n",
        "                        [round(np.mean(CNN_Glove_model_fit.history['mean_pred']), 3), round(np.mean(RNN_Glove_model_fit.history['mean_pred']), 3), \n",
        "                        round(np.mean(LSTM_Glove_model_fit.history['mean_pred']), 3), round(np.mean(Bil_LSTM_Glove_model_fit.history['mean_pred']), 3), round(np.mean(GRU_Glove_model_fit.history['mean_pred']), 3),\n",
        "                        round(np.mean(Bil_GRU_Glove_model_fit.history['mean_pred']), 3)],\n",
        "\t\t\t\t\t\t\n",
        "                        #F1-Measure Evaluation fmeasure\n",
        "                        [round(np.mean(CNN_Glove_model_fit.history['fmeasure']), 3), round(np.mean(RNN_Glove_model_fit.history['fmeasure']), 3), \n",
        "                        round(np.mean(LSTM_Glove_model_fit.history['fmeasure']), 3), round(np.mean(Bil_LSTM_Glove_model_fit.history['fmeasure']), 3), round(np.mean(GRU_Glove_model_fit.history['fmeasure']), 3),\n",
        "                        round(np.mean(Bil_GRU_Glove_model_fit.history['fmeasure']), 3)],\n",
        "\t\t\t\t\t\t             \n",
        "                        #Precision Evaluation precision\n",
        "                        [round(np.mean(CNN_Glove_model_fit.history['precision']), 3), round(np.mean(RNN_Glove_model_fit.history['precision']), 3), \n",
        "                        round(np.mean(LSTM_Glove_model_fit.history['precision']), 3), round(np.mean(Bil_LSTM_Glove_model_fit.history['precision']), 3), round(np.mean(GRU_Glove_model_fit.history['precision']), 3),\n",
        "                        round(np.mean(Bil_GRU_Glove_model_fit.history['precision']), 3)],\n",
        "\t\t\t\t\t\t\n",
        "                        #ROC AUC Evaluation auroc\n",
        "                        [round(np.mean(CNN_Glove_model_fit.history['auroc']), 3), round(np.mean(RNN_Glove_model_fit.history['auroc']), 3), \n",
        "                        round(np.mean(LSTM_Glove_model_fit.history['auroc']), 3), round(np.mean(Bil_LSTM_Glove_model_fit.history['auroc']), 3), round(np.mean(GRU_Glove_model_fit.history['auroc']), 3),\n",
        "                        round(np.mean(Bil_GRU_Glove_model_fit.history['auroc']), 3)],\n",
        "                       \n",
        "                        #Recall Evaluation\n",
        "                        [round(np.mean(CNN_Glove_model_fit.history['recall']), 3), round(np.mean(RNN_Glove_model_fit.history['recall']), 3), \n",
        "                        round(np.mean(LSTM_Glove_model_fit.history['recall']), 3), round(np.mean(Bil_LSTM_Glove_model_fit.history['recall']), 3), round(np.mean(GRU_Glove_model_fit.history['recall']), 3),\n",
        "                        round(np.mean(Bil_GRU_Glove_model_fit.history['recall']), 3)]\n",
        "                       ],\n",
        "               line = dict(color='#7D7F80'),\n",
        "               fill = dict(color='#EDFAFF'),\n",
        "               align = ['left'] * 5))\n",
        "\n",
        "layout = dict(width=800, height=400)\n",
        "data = [trace]\n",
        "fig = dict(data=data, layout=layout)\n",
        "py.iplot(data, filename = 'Glove_trained_embedding_with the Mean value of the evaluation matrics (per model) _table')"
      ],
      "execution_count": 0,
      "outputs": [
        {
          "output_type": "stream",
          "text": [
            "D:\\Program Files\\Anaconda\\lib\\site-packages\\IPython\\core\\display.py:689: UserWarning:\n",
            "\n",
            "Consider using IPython.display.IFrame instead\n",
            "\n"
          ],
          "name": "stderr"
        },
        {
          "output_type": "execute_result",
          "data": {
            "text/html": [
              "<iframe id=\"igraph\" scrolling=\"no\" style=\"border:none;\" seamless=\"seamless\" src=\"https://plot.ly/~hamzasharoon/33.embed\" height=\"525px\" width=\"100%\"></iframe>"
            ],
            "text/plain": [
              "<chart_studio.tools.PlotlyDisplay object>"
            ]
          },
          "metadata": {
            "tags": []
          },
          "execution_count": 66
        }
      ]
    },
    {
      "cell_type": "markdown",
      "metadata": {
        "colab_type": "text",
        "id": "YReLhGyAfp_P"
      },
      "source": [
        "### Score Confusion Table"
      ]
    },
    {
      "cell_type": "code",
      "metadata": {
        "colab_type": "code",
        "id": "_pVa5ywRfvE_",
        "colab": {},
        "outputId": "62554041-b8e8-48ea-bf7a-ff5eda343847"
      },
      "source": [
        "# concat all training, validation and testing accuracy scores\n",
        "\n",
        "CNN_Glove_Accuracy = ['Convolutional Neural Network (CNN) with Glove', \n",
        "                np.max(CNN_Glove_model_fit.history['acc']), \n",
        "                np.max(CNN_Glove_model_fit.history['val_acc']), \n",
        "                CNN_Glove_test_score[1]]\n",
        "\n",
        "RNN_GLove_Accuracy = ['Recurrent Neural Networks (RNNs) with Glove', \n",
        "                np.max(RNN_Glove_model_fit.history['acc']), \n",
        "                np.max(RNN_Glove_model_fit.history['val_acc']), \n",
        "                RNN_Glove_test_score[1]]\n",
        "\n",
        "LSTM_Glove_Accuracy = ['LSTM with Glove', \n",
        "                  np.max(LSTM_Glove_model_fit.history['acc']), \n",
        "                  np.max(LSTM_Glove_model_fit.history['val_acc']), \n",
        "                  LSTM_Glove_test_score[1]]\n",
        "\n",
        "Bidirectional_LSTM_Glove_Accuracy = ['Bidirectional LSTM with Glove', \n",
        "                    np.max(Bil_LSTM_Glove_model_fit.history['acc']), \n",
        "                    np.max(Bil_LSTM_Glove_model_fit.history['val_acc']), \n",
        "                    Bil_LSTM_Glove_test_score[1]]\n",
        "\n",
        "GRU_Glove_Accuracy = ['GRU with Glove', \n",
        "                    np.max(GRU_Glove_model_fit.history['acc']), \n",
        "                    np.max(GRU_Glove_model_fit.history['val_acc']), \n",
        "                    GRU_Glove_test_score[1]]\n",
        "\n",
        "Bidirectional_GRU_Glove_Accuracy = ['Bidirectional GRU with Glove', \n",
        "                    np.max(Bil_GRU_Glove_model_fit.history['acc']), \n",
        "                    np.max(Bil_GRU_Glove_model_fit.history['val_acc']), \n",
        "                    Bil_GRU_Glove_test_score[1]]\n",
        "\n",
        "\n",
        "# create dataframe\n",
        "experimentalResult = pd.DataFrame([CNN_Glove_Accuracy])\n",
        "# append all other scores\n",
        "experimentalResult = experimentalResult.append([CNN_Glove_Accuracy, RNN_GLove_Accuracy, LSTM_Glove_Accuracy, Bidirectional_LSTM_Glove_Accuracy, \n",
        "                                                GRU_Glove_Accuracy, Bidirectional_GRU_Glove_Accuracy])\n",
        "\n",
        "\n",
        "# beautify the new dataframe\n",
        "experimentalResult.columns = ['Model', 'Training Accuracy', 'Validation Accuracy', 'Testing Accuracy']\n",
        "experimentalResult.set_index(['Model'], inplace=True)\n",
        "experimentalResult\n",
        "print(experimentalResult)"
      ],
      "execution_count": 0,
      "outputs": [
        {
          "output_type": "stream",
          "text": [
            "                                               Training Accuracy  \\\n",
            "Model                                                              \n",
            "Convolutional Neural Network (CNN) with Glove           0.860305   \n",
            "Convolutional Neural Network (CNN) with Glove           0.860305   \n",
            "Recurrent Neural Networks (RNNs) with Glove             0.839543   \n",
            "LSTM with Glove                                         0.866057   \n",
            "Bidirectional LSTM with Glove                           0.875360   \n",
            "GRU with Glove                                          0.890198   \n",
            "Bidirectional GRU with Glove                            0.895699   \n",
            "\n",
            "                                               Validation Accuracy  \\\n",
            "Model                                                                \n",
            "Convolutional Neural Network (CNN) with Glove             0.872356   \n",
            "Convolutional Neural Network (CNN) with Glove             0.872356   \n",
            "Recurrent Neural Networks (RNNs) with Glove               0.860957   \n",
            "LSTM with Glove                                           0.872869   \n",
            "Bidirectional LSTM with Glove                             0.881906   \n",
            "GRU with Glove                                            0.884165   \n",
            "Bidirectional GRU with Glove                              0.886630   \n",
            "\n",
            "                                               Testing Accuracy  \n",
            "Model                                                            \n",
            "Convolutional Neural Network (CNN) with Glove          0.860469  \n",
            "Convolutional Neural Network (CNN) with Glove          0.860469  \n",
            "Recurrent Neural Networks (RNNs) with Glove            0.845819  \n",
            "LSTM with Glove                                        0.866779  \n",
            "Bidirectional LSTM with Glove                          0.873891  \n",
            "GRU with Glove                                         0.878168  \n",
            "Bidirectional GRU with Glove                           0.878542  \n"
          ],
          "name": "stdout"
        }
      ]
    },
    {
      "cell_type": "code",
      "metadata": {
        "id": "PgvLNhoaDT5p",
        "colab_type": "code",
        "colab": {}
      },
      "source": [
        ""
      ],
      "execution_count": 0,
      "outputs": []
    }
  ]
}